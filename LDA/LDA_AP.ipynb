{
 "cells": [
  {
   "cell_type": "code",
   "execution_count": 508,
   "metadata": {},
   "outputs": [],
   "source": [
    "import os\n",
    "import time\n",
    "import numpy as np\n",
    "import numpy.random as npr\n",
    "import re\n",
    "import nltk\n",
    "import matplotlib.pyplot as plt\n",
    "import pandas as pd\n",
    "from nltk.corpus import stopwords\n",
    "from nltk.tokenize import word_tokenize\n",
    "from collections import Counter\n",
    "from tqdm import tqdm\n",
    "from scipy.special import digamma, loggamma"
   ]
  },
  {
   "cell_type": "code",
   "execution_count": 509,
   "metadata": {},
   "outputs": [],
   "source": [
    "def log_sum_exp(vec):\n",
    "    a = np.max(vec, axis=0)\n",
    "    log_sum_exp = np.log(np.sum(np.exp(vec - a))) + a\n",
    "\n",
    "    return log_sum_exp"
   ]
  },
  {
   "cell_type": "code",
   "execution_count": 134,
   "metadata": {},
   "outputs": [],
   "source": [
    "with open(\"ap.txt\", \"r\") as file:\n",
    "    raw_text = file.read()\n",
    "documents = re.findall(r\"<TEXT>(.*?)</TEXT>\", raw_text, re.DOTALL)\n",
    "documents = [doc.strip().replace(\"\\n\", \" \") for doc in documents]\n",
    "\n",
    "with open(\"vocab.txt\", \"r\") as file:\n",
    "    vocab = [line.strip() for line in file]\n",
    "vocab_to_idx = {word: idx for idx, word in enumerate(vocab)}\n",
    "\n",
    "stop_words = set(stopwords.words(\"english\"))\n",
    "corpus_matrix = []\n",
    "for doc in documents:\n",
    "    tokens = word_tokenize(doc.lower())\n",
    "    filtered_tokens = [word for word in tokens if word.isalpha() and word not in stop_words]\n",
    "    word_idxs = [vocab_to_idx[word] for word in filtered_tokens if word in vocab_to_idx]\n",
    "    corpus_matrix.append(word_idxs)"
   ]
  },
  {
   "cell_type": "code",
   "execution_count": 472,
   "metadata": {},
   "outputs": [],
   "source": [
    "def init_variational_params(corpus_matrix, K, V):\n",
    "    N = len(corpus_matrix)\n",
    "    LAMBDA = np.random.uniform(low=0.01, high=1.00, size=(K, V))\n",
    "    GAMMA = np.ones((N, K))\n",
    "    PHI = []\n",
    "    for doc in corpus_matrix:\n",
    "        doc = np.asarray(doc)\n",
    "        num_words_per_doc = np.sum((doc > 0).astype(\"int32\"))\n",
    "        doc_PHI = np.ones((num_words_per_doc, K))\n",
    "        doc_PHI = doc_PHI / K\n",
    "        PHI.append(doc_PHI)\n",
    "\n",
    "    return LAMBDA, GAMMA, PHI\n",
    "\n",
    "def compute_ELBO(LAMBDA, GAMMA, PHI, corpus_matrix, K):\n",
    "    N = len(corpus_matrix)\n",
    "    ELBO = 0\n",
    "\n",
    "    E_log_p_BETA = 0\n",
    "    for k in range(K):\n",
    "        E_log_p_BETA += (ETA - 1) * np.sum(digamma(LAMBDA[k]) - digamma(np.sum(LAMBDA[k])))\n",
    "    ELBO += E_log_p_BETA\n",
    "\n",
    "    E_log_p_THETA = 0\n",
    "    for i in range(N):\n",
    "        E_log_p_THETA += (ALPHA - 1) * np.sum(digamma(GAMMA[i]) - digamma(np.sum(GAMMA[i])))\n",
    "    ELBO += E_log_p_THETA\n",
    "\n",
    "    E_log_p_z_x = 0\n",
    "    for i in range(N):\n",
    "        M = len(corpus_matrix[i])\n",
    "        for j in range(M):\n",
    "            x_ij = corpus_matrix[i][j]\n",
    "            E_log_p_z_x += np.sum(PHI[i][j] * (digamma(GAMMA[i]) - digamma(np.sum(GAMMA[i])))) \\\n",
    "                + np.sum(PHI[i][j] * (digamma(LAMBDA[:, x_ij]) - digamma(np.sum(LAMBDA[:, x_ij]))))\n",
    "    ELBO += E_log_p_z_x\n",
    "\n",
    "    E_q_log_BETA = 0\n",
    "    for k in range(K):\n",
    "        E_q_log_BETA += -loggamma(np.sum(LAMBDA[k])) + np.sum(loggamma(LAMBDA[k])) \\\n",
    "            - np.sum((LAMBDA[k] - 1) * (digamma(LAMBDA[k]) - digamma(np.sum(LAMBDA[k]))))\n",
    "    ELBO += E_q_log_BETA\n",
    "\n",
    "    E_q_log_THETA = 0\n",
    "    for i in range(N):\n",
    "        E_q_log_THETA += -loggamma(np.sum(GAMMA[i])) + np.sum(loggamma(GAMMA[i])) \\\n",
    "            - np.sum((GAMMA[i] - 1) * (digamma(GAMMA[i]) - digamma(np.sum(GAMMA[i]))))\n",
    "    ELBO += E_q_log_THETA\n",
    "\n",
    "    E_log_q_z = 0\n",
    "    for i in range(N):\n",
    "        M = len(corpus_matrix[i])\n",
    "        for j in range(M):\n",
    "            E_log_q_z += -np.sum(PHI[i][j] * np.log(PHI[i][j]))\n",
    "    ELBO += E_log_q_z\n",
    "\n",
    "    return ELBO\n",
    "\n",
    "def update_variational_params(LAMBDA, GAMMA, PHI, corpus_matrix, K):\n",
    "    for i in tqdm(range(N), desc=\"Updating PHI and GAMMA\"):\n",
    "        M = len(corpus_matrix[i])\n",
    "        for j in range(M):\n",
    "            x_ij = corpus_matrix[i][j]\n",
    "            exp_propto = digamma(LAMBDA[:, x_ij]) - digamma(np.sum(LAMBDA[:, x_ij])) \\\n",
    "                + digamma(GAMMA[i]) - digamma(np.sum(GAMMA[i]))\n",
    "            PHI[i][j] = np.exp(exp_propto - log_sum_exp(exp_propto))\n",
    "\n",
    "        for k in range(K):\n",
    "            GAMMA[i, k] = ALPHA + np.sum(PHI[i][:, k])\n",
    "\n",
    "    for i, doc in enumerate(tqdm(corpus_matrix, desc=\"Updating LAMBDA\")):\n",
    "        PHI_doc = PHI[i]\n",
    "        for j, word in enumerate(doc):\n",
    "            LAMBDA[:, word] += PHI_doc[j, :]\n",
    "\n",
    "    ETA_matrix = np.full((K, V), ETA)\n",
    "    LAMBDA = LAMBDA + ETA_matrix\n",
    "\n",
    "    return LAMBDA, GAMMA, PHI"
   ]
  },
  {
   "cell_type": "code",
   "execution_count": 272,
   "metadata": {},
   "outputs": [
    {
     "data": {
      "text/plain": [
       "{0: ['party', 'court', 'percent', 'police', 'gorbachev', 'states', 'two'],\n",
       " 1: ['percent', 'new', 'two', 'company', 'president', 'york', 'time'],\n",
       " 2: ['soviet', 'state', 'million', 'first', 'new', 'department', 'government'],\n",
       " 3: ['year', 'today', 'york', 'says', 'spokesman', 'monday', 'market'],\n",
       " 4: ['new', 'time', 'united', 'million', 'soviet', 'world', 'told'],\n",
       " 5: ['year', 'million', 'years', 'today', 'two', 'dukakis', 'house'],\n",
       " 6: ['united', 'bush', 'president', 'states', 'soviet', 'reagan', 'national'],\n",
       " 7: ['percent', 'new', 'people', 'million', 'year', 'two', 'government'],\n",
       " 8: ['last', 'state', 'two', 'year', 'officials', 'government', 'first'],\n",
       " 9: ['party', 'united', 'defense', 'case', 'expected', 'day', 'money'],\n",
       " 10: ['cdy', 'clr', 'rn', 'company', 'million', 'first', 'two'],\n",
       " 11: ['percent', 'time', 'bush', 'billion', 'friday', 'police', 'million'],\n",
       " 12: ['people', 'officials', 'percent', 'years', 'today', 'back', 'american'],\n",
       " 13: ['new', 'year', 'national', 'friday', 'government', 'people', 'two'],\n",
       " 14: ['year', 'people', 'million', 'soviet', 'time', 'new', 'bush'],\n",
       " 15: ['new',\n",
       "  'president',\n",
       "  'million',\n",
       "  'city',\n",
       "  'explaining',\n",
       "  'percent',\n",
       "  'soviet'],\n",
       " 16: ['united', 'million', 'two', 'officials', 'bush', 'iraq', 'state'],\n",
       " 17: ['percent', 'president', 'two', 'week', 'first', 'new', 'government'],\n",
       " 18: ['two', 'house', 'back', 'government', 'friday', 'police', 'dukakis'],\n",
       " 19: ['new', 'president', 'bush', 'government', 'tuesday', 'court', 'monday'],\n",
       " 20: ['kentucky', 'president', 'year', 'people', 'bush', 'court', 'market'],\n",
       " 21: ['state', 'million', 'time', 'years', 'world', 'american', 'back'],\n",
       " 22: ['measures', 'signs', 'time', 'tuesday', 'million', 'air', 'power'],\n",
       " 23: ['shuttle', 'mcdermott', 'police', 'people', 'soviet', 'years', 'first'],\n",
       " 24: ['police', 'treatment', 'aoun', 'year', 'today', 'last', 'united'],\n",
       " 25: ['people', 'state', 'last', 'president', 'money', 'party', 'today'],\n",
       " 26: ['soviet', 'time', 'say', 'military', 'air', 'united', 'decision'],\n",
       " 27: ['brando', 'police', 'time', 'soviet', 'canning', 'city', 'government'],\n",
       " 28: ['trade', 'time', 'party', 'new', 'two', 'soviet', 'committee'],\n",
       " 29: ['today', 'billion', 'spokesman', 'told', 'market', 'state', 'news']}"
      ]
     },
     "execution_count": 272,
     "metadata": {},
     "output_type": "execute_result"
    }
   ],
   "source": [
    "word_topic_probs = LAMBDA / LAMBDA.sum(axis=1, keepdims=True)\n",
    "top_words = {}\n",
    "for k in range(word_topic_probs.shape[0]):\n",
    "    top_idxs = np.argsort(word_topic_probs[k, :])[-7:][::-1]\n",
    "    top_words[k] = [vocab[v] for v in top_idxs]\n",
    "\n",
    "top_words"
   ]
  },
  {
   "cell_type": "code",
   "execution_count": 374,
   "metadata": {},
   "outputs": [],
   "source": [
    "with open(\"ap.txt\", \"r\") as file:\n",
    "    raw_text = file.read()\n",
    "documents = re.findall(r\"<TEXT>(.*?)</TEXT>\", raw_text, re.DOTALL)\n",
    "documents = [doc.strip().replace(\"\\n\", \" \") for doc in documents]\n",
    "stop_words = set(stopwords.words(\"english\"))\n",
    "word_counts = Counter()\n",
    "tokenized_documents = []\n",
    "\n",
    "for doc in documents:\n",
    "    tokens = word_tokenize(doc.lower())\n",
    "    filtered_tokens = [word for word in tokens if word.isalpha() and word \\\n",
    "                       not in stop_words]\n",
    "    tokenized_documents.append(filtered_tokens)\n",
    "    word_counts.update(filtered_tokens)\n",
    "\n",
    "reduced_vocab = [word for word, _ in word_counts.most_common(1000)]\n",
    "vocab_to_idx = {word: idx for idx, word in enumerate(reduced_vocab)}\n",
    "reduced_corpus_matrix = []\n",
    "for tokens in tokenized_documents:\n",
    "    reduced_doc = [vocab_to_idx[word] for word in tokens if \\\n",
    "                   word in vocab_to_idx]\n",
    "    if reduced_doc:\n",
    "        reduced_corpus_matrix.append(reduced_doc)"
   ]
  },
  {
   "cell_type": "code",
   "execution_count": 510,
   "metadata": {},
   "outputs": [],
   "source": [
    "def init_variational_params(corpus_mat, K, V):\n",
    "    N = len(corpus_mat)\n",
    "    LAMBDA = np.random.uniform(low=0.01, high=1.00, size=(K, V))\n",
    "    GAMMA = np.ones((N, K))\n",
    "    PHI = [np.ones((len(doc), K)) / K for doc in corpus_mat]\n",
    "\n",
    "    return LAMBDA, GAMMA, PHI\n",
    "\n",
    "def compute_ELBO(LAMBDA, GAMMA, PHI, corpus_mat):\n",
    "    N = len(corpus_mat)\n",
    "    ELBO = 0\n",
    "\n",
    "    E_log_p_BETA = np.sum(\n",
    "        (ETA-1) * (digamma(LAMBDA) - digamma(np.sum(LAMBDA, axis=1, keepdims=True)))\n",
    "        )\n",
    "    ELBO += E_log_p_BETA\n",
    "\n",
    "    E_log_p_THETA = np.sum(\n",
    "        (ALPHA-1) * (digamma(GAMMA) - digamma(np.sum(GAMMA, axis=1, keepdims=True)))\n",
    "    )\n",
    "    ELBO += E_log_p_THETA\n",
    "\n",
    "    E_log_p_z_x = 0\n",
    "    for i in range(N):\n",
    "        M = len(corpus_mat[i])\n",
    "        for j in range(M):\n",
    "            x_ij = corpus_mat[i][j]\n",
    "            E_log_p_z_x += np.sum(PHI[i][j] * (digamma(GAMMA[i]) - digamma(np.sum(GAMMA[i])))) \\\n",
    "                + np.sum(PHI[i][j] * (digamma(LAMBDA[:, x_ij]) - digamma(np.sum(LAMBDA[:, x_ij]))))\n",
    "    ELBO += E_log_p_z_x\n",
    "\n",
    "    E_q_log_BETA = np.sum(\n",
    "        -loggamma(np.sum(LAMBDA, axis=1)) + np.sum(loggamma(LAMBDA), axis=1) \\\n",
    "            - np.sum((LAMBDA - 1) * (digamma(LAMBDA) - digamma(np.sum(LAMBDA, axis=1, keepdims=True))), axis=1)\n",
    "    )\n",
    "    ELBO += E_q_log_BETA\n",
    "\n",
    "    E_q_log_THETA = np.sum(\n",
    "        -loggamma(np.sum(GAMMA, axis=1)) + np.sum(loggamma(GAMMA), axis=1) \\\n",
    "        - np.sum((GAMMA - 1) * (digamma(GAMMA) - digamma(np.sum(GAMMA, axis=1, keepdims=True))), axis=1)\n",
    "    )\n",
    "    ELBO += E_q_log_THETA\n",
    "\n",
    "    E_log_q_z = 0\n",
    "    for i, doc in enumerate(corpus_mat):\n",
    "        for j, x_ij in enumerate(doc):  # x_ij is the word index\n",
    "            # PHI_nonzero = PHI[i][j][PHI[i][j] > 0]\n",
    "            E_log_q_z += -np.sum(PHI[i][j] * np.log(PHI[i][j] + 1e-10))\n",
    "    ELBO += E_log_q_z\n",
    "\n",
    "    return ELBO\n",
    "\n",
    "def update_variational_params(LAMBDA, GAMMA, PHI, corpus_mat, K, V):\n",
    "    N= len(corpus_mat)\n",
    "    for i in tqdm(range(N), desc=\"Updating PHI and GAMMA\"):\n",
    "    # for i in range(N):\n",
    "        M = len(corpus_mat[i])\n",
    "        for j in range(M):\n",
    "            x_ij = corpus_mat[i][j]\n",
    "            exp_propto = digamma(LAMBDA[:, x_ij]) - digamma(np.sum(LAMBDA[:, x_ij])) \\\n",
    "                + digamma(GAMMA[i]) - digamma(np.sum(GAMMA[i]))\n",
    "            PHI[i][j] = np.exp(exp_propto - log_sum_exp(exp_propto))\n",
    "\n",
    "        for k in range(K):\n",
    "            GAMMA[i, k] = ALPHA + np.sum(PHI[i][:, k])\n",
    "\n",
    "    LAMBDA = np.full((K, V), ETA)\n",
    "    for i, doc in enumerate(tqdm(corpus_mat, desc=\"Updating LAMBDA\")):\n",
    "    # for i, doc in enumerate(corpus_mat):\n",
    "        doc_word_idxs = np.array(doc)\n",
    "        for k in range(K):\n",
    "            np.add.at(LAMBDA[k], doc_word_idxs, PHI[i][:, k])\n",
    "\n",
    "    return LAMBDA, GAMMA, PHI"
   ]
  },
  {
   "cell_type": "code",
   "execution_count": null,
   "metadata": {},
   "outputs": [],
   "source": [
    "K = 30\n",
    "V = len(reduced_vocab)\n",
    "ETA = 1 / V\n",
    "ALPHA = 0.5\n",
    "\n",
    "tol = 1e-2\n",
    "iteration = 1\n",
    "max_iterations = 100\n",
    "curr_ELBO = 0\n",
    "prev_ELBO = 301\n",
    "ELBOs = []\n",
    "\n",
    "start = time.time()\n",
    "LAMBDA, GAMMA, PHI = init_variational_params(corpus_mat=reduced_corpus_matrix, K=30, V=len(reduced_vocab))\n",
    "ELBOs.append(compute_ELBO(LAMBDA=LAMBDA, GAMMA=GAMMA, PHI=PHI, corpus_mat=reduced_corpus_matrix))\n",
    "while iteration <= max_iterations:\n",
    "    LAMBDA, GAMMA, PHI = update_variational_params(LAMBDA=LAMBDA, GAMMA=GAMMA, PHI=PHI, corpus_mat=reduced_corpus_matrix, K=30, V=len(reduced_vocab))\n",
    "    prev_ELBO = curr_ELBO\n",
    "    curr_ELBO = compute_ELBO(LAMBDA=LAMBDA, GAMMA=GAMMA, PHI=PHI, corpus_mat=reduced_corpus_matrix)\n",
    "    print(f\"Current ELBO: {curr_ELBO}\")\n",
    "    ELBOs.append(curr_ELBO)\n",
    "\n",
    "    if np.abs(curr_ELBO - prev_ELBO) <= tol:\n",
    "        break\n",
    "\n",
    "    iteration += 1\n",
    "    print(\"\\n\")\n",
    "\n",
    "stop = time.time()\n",
    "plt.xlabel(\"Seconds\")\n",
    "plt.ylabel(\"ELBO\")\n",
    "plt.ticklabel_format(style=\"sci\", axis=\"y\", scilimits=(0, 0))\n",
    "\n",
    "plt.plot(np.linspace(0, float(stop-start), len(ELBOs)), ELBOs)\n"
   ]
  },
  {
   "cell_type": "code",
   "execution_count": 457,
   "metadata": {},
   "outputs": [
    {
     "name": "stdout",
     "output_type": "stream",
     "text": [
      "Top 10 Words for Each Topic:\n",
      "\n",
      "Topic 1: said, northwest, lines, voted, consider, ban, makes, rise, city, monday\n",
      "\n",
      "Topic 2: iraq, less, press, robert, points, seven, western, final, continued, car\n",
      "\n",
      "Topic 3: said, northwest, lines, voted, consider, ban, makes, rise, city, monday\n",
      "\n",
      "Topic 4: said, northwest, lines, voted, consider, ban, makes, rise, city, monday\n",
      "\n",
      "Topic 5: travel, today, company, bad, said, northwest, lines, voted, consider, guard\n",
      "\n",
      "Topic 6: said, northwest, lines, voted, consider, ban, makes, rise, city, monday\n",
      "\n",
      "Topic 7: said, northwest, lines, voted, consider, ban, makes, rise, city, monday\n",
      "\n",
      "Topic 8: said, northwest, lines, voted, consider, ban, makes, rise, city, monday\n",
      "\n",
      "Topic 9: people, first, officials, today, billion, thursday, court, party, day, say\n",
      "\n",
      "Topic 10: students, northern, airport, september, spoke, history, feet, bad, said, northwest\n",
      "\n",
      "Topic 11: said, would, new, one, also, year, two, million, president, government\n",
      "\n",
      "Topic 12: said, northwest, lines, voted, consider, ban, makes, rise, city, monday\n",
      "\n",
      "Topic 13: said, northwest, lines, voted, consider, ban, makes, rise, city, monday\n",
      "\n",
      "Topic 14: said, northwest, lines, voted, consider, ban, makes, rise, city, monday\n",
      "\n",
      "Topic 15: said, northwest, lines, voted, consider, ban, makes, rise, city, monday\n",
      "\n",
      "Topic 16: said, northwest, lines, voted, consider, ban, makes, rise, city, monday\n",
      "\n",
      "Topic 17: said, northwest, lines, voted, consider, ban, makes, rise, city, monday\n",
      "\n",
      "Topic 18: said, northwest, lines, voted, consider, ban, makes, rise, city, monday\n",
      "\n",
      "Topic 19: said, northwest, lines, voted, consider, ban, makes, rise, city, monday\n",
      "\n",
      "Topic 20: charge, today, company, bad, said, northwest, lines, voted, consider, guard\n",
      "\n",
      "Topic 21: said, northwest, lines, voted, consider, ban, makes, rise, city, monday\n",
      "\n",
      "Topic 22: said, northwest, lines, voted, consider, ban, makes, rise, city, monday\n",
      "\n",
      "Topic 23: said, northwest, lines, voted, consider, ban, makes, rise, city, monday\n",
      "\n",
      "Topic 24: said, northwest, lines, voted, consider, ban, makes, rise, city, monday\n",
      "\n",
      "Topic 25: said, northwest, lines, voted, consider, ban, makes, rise, city, monday\n",
      "\n",
      "Topic 26: said, northwest, lines, voted, consider, ban, makes, rise, city, monday\n",
      "\n",
      "Topic 27: private, move, bad, said, northwest, lines, voted, consider, guard, catholic\n",
      "\n",
      "Topic 28: percent, going, among, month, program, north, agency, judge, set, life\n",
      "\n",
      "Topic 29: said, northwest, lines, voted, consider, ban, makes, rise, city, monday\n",
      "\n",
      "Topic 30: said, northwest, lines, voted, consider, ban, makes, rise, city, monday\n",
      "\n",
      "\n"
     ]
    }
   ],
   "source": [
    "word_topic_probs = LAMBDA / LAMBDA.sum(axis=1, keepdims=True)\n",
    "top_words = {}\n",
    "for k in range(word_topic_probs.shape[0]):\n",
    "    top_idxs = np.argsort(word_topic_probs[k, :])[-10:][::-1]\n",
    "    top_words[k] = [reduced_vocab[v] for v in top_idxs]\n",
    "\n",
    "formatted_text = \"Top 10 Words for Each Topic:\\n\\n\"\n",
    "for topic, words in top_words.items():\n",
    "    formatted_text += f\"Topic {topic + 1}: \"\n",
    "    formatted_text += \", \".join(words) + \"\\n\\n\"\n",
    "\n",
    "print(formatted_text)"
   ]
  },
  {
   "cell_type": "code",
   "execution_count": 511,
   "metadata": {},
   "outputs": [],
   "source": [
    "with open(\"vocab.txt\", \"r\") as file:\n",
    "    vocab = [line.strip() for line in file]\n",
    "vocab_to_idx = {word: idx for idx, word in enumerate(vocab)}\n",
    "\n",
    "with open(\"ap.txt\", \"r\") as file:\n",
    "    raw_text = file.read()\n",
    "documents = re.findall(r\"<TEXT>(.*?)</TEXT>\", raw_text, re.DOTALL)\n",
    "documents = [doc.strip().replace(\"\\n\", \" \") for doc in documents if doc.strip()]\n",
    "\n",
    "stop_words = set(stopwords.words(\"english\"))\n",
    "corpus_matrix = []\n",
    "for doc in documents:\n",
    "    tokens = word_tokenize(doc.lower())\n",
    "    filtered_tokens = [word for word in tokens if word.isalpha() and word not in stop_words]\n",
    "    word_idxs = [vocab_to_idx[word] for word in filtered_tokens if word in vocab_to_idx]\n",
    "    if word_idxs:\n",
    "        corpus_matrix.append(word_idxs)"
   ]
  },
  {
   "cell_type": "code",
   "execution_count": 513,
   "metadata": {},
   "outputs": [
    {
     "name": "stdout",
     "output_type": "stream",
     "text": [
      "-2638151.5708258115\n"
     ]
    },
    {
     "name": "stderr",
     "output_type": "stream",
     "text": [
      "Updating PHI and GAMMA: 100%|██████████| 2246/2246 [00:11<00:00, 201.66it/s]\n",
      "Updating LAMBDA: 100%|██████████| 2246/2246 [00:00<00:00, 11112.86it/s]\n"
     ]
    },
    {
     "name": "stdout",
     "output_type": "stream",
     "text": [
      "-607566.882275268\n"
     ]
    }
   ],
   "source": [
    "LAMBDA, GAMMA, PHI = init_variational_params(corpus_mat=corpus_matrix, K=30, V=len(vocab))\n",
    "print(compute_ELBO(LAMBDA=LAMBDA, GAMMA=GAMMA, PHI=PHI, corpus_mat=corpus_matrix))\n",
    "LAMBDA, GAMMA, PHI = update_variational_params(LAMBDA, GAMMA, PHI, corpus_mat=corpus_matrix, K=30, V=len(vocab))\n",
    "print(compute_ELBO(LAMBDA=LAMBDA, GAMMA=GAMMA, PHI=PHI, corpus_mat=corpus_matrix))"
   ]
  },
  {
   "cell_type": "code",
   "execution_count": 521,
   "metadata": {},
   "outputs": [
    {
     "name": "stderr",
     "output_type": "stream",
     "text": [
      "Updating PHI and GAMMA: 100%|██████████| 2246/2246 [00:11<00:00, 190.33it/s]\n",
      "Updating LAMBDA: 100%|██████████| 2246/2246 [00:00<00:00, 11514.10it/s]\n"
     ]
    },
    {
     "name": "stdout",
     "output_type": "stream",
     "text": [
      "-154531.08199647604\n"
     ]
    }
   ],
   "source": [
    "LAMBDA, GAMMA, PHI = update_variational_params(LAMBDA, GAMMA, PHI, corpus_mat=corpus_matrix, K=30, V=len(vocab))\n",
    "print(compute_ELBO(LAMBDA=LAMBDA, GAMMA=GAMMA, PHI=PHI, corpus_mat=corpus_matrix))"
   ]
  },
  {
   "cell_type": "code",
   "execution_count": null,
   "metadata": {},
   "outputs": [
    {
     "name": "stdout",
     "output_type": "stream",
     "text": [
      "-5091331.693841536\n"
     ]
    },
    {
     "name": "stderr",
     "output_type": "stream",
     "text": [
      "Updating PHI and GAMMA: 100%|██████████| 2246/2246 [00:10<00:00, 211.23it/s]\n",
      "Updating LAMBDA: 100%|██████████| 2246/2246 [00:00<00:00, 11818.66it/s]\n"
     ]
    },
    {
     "name": "stdout",
     "output_type": "stream",
     "text": [
      "-2671243.008299715\n"
     ]
    }
   ],
   "source": [
    "def compute_ELBO(LAMBDA, GAMMA, PHI, corpus_mat, ALPHA=ALPHA, ETA=ETA):\n",
    "    E_log_p_BETA = np.sum((ETA - 1) * (digamma(LAMBDA) - digamma(np.sum(LAMBDA, axis=1, keepdims=True))))\n",
    "\n",
    "    E_log_p_THETA = np.sum((ALPHA - 1) * (digamma(GAMMA) - digamma(np.sum(GAMMA, axis=1, keepdims=True))))\n",
    "\n",
    "    E_log_p_z_x = 0\n",
    "    for i, doc in enumerate(corpus_mat):\n",
    "        for j, x_ij in enumerate(doc):\n",
    "            E_log_p_z_x += np.sum(\n",
    "                PHI[i][j] * (\n",
    "                    digamma(GAMMA[i]) - digamma(np.sum(GAMMA[i])) +\n",
    "                    digamma(LAMBDA[:, x_ij]) - digamma(np.sum(LAMBDA, axis=1))\n",
    "                )\n",
    "            )\n",
    "\n",
    "    E_q_log_BETA = np.sum(\n",
    "        -loggamma(np.sum(LAMBDA, axis=1)) + np.sum(loggamma(LAMBDA), axis=1) -\n",
    "        np.sum((LAMBDA - 1) * (digamma(LAMBDA) - digamma(np.sum(LAMBDA, axis=1, keepdims=True))), axis=1)\n",
    "    )\n",
    "\n",
    "    E_q_log_THETA = np.sum(\n",
    "        -loggamma(np.sum(GAMMA, axis=1)) + np.sum(loggamma(GAMMA), axis=1) -\n",
    "        np.sum((GAMMA - 1) * (digamma(GAMMA) - digamma(np.sum(GAMMA, axis=1, keepdims=True))), axis=1)\n",
    "    )\n",
    "\n",
    "    E_log_q_z = 0\n",
    "    for i, doc in enumerate(corpus_mat):\n",
    "        for j, x_ij in enumerate(doc):\n",
    "            E_log_q_z += -np.sum(PHI[i][j] * np.log(PHI[i][j] + 1e-10))\n",
    "            \n",
    "    ELBO = E_log_p_BETA + E_log_p_THETA + E_log_p_z_x + E_q_log_BETA + E_q_log_THETA + E_log_q_z\n",
    "\n",
    "    return ELBO"
   ]
  },
  {
   "cell_type": "code",
   "execution_count": 533,
   "metadata": {},
   "outputs": [
    {
     "name": "stdout",
     "output_type": "stream",
     "text": [
      "Initial ELBO: -5091350.056101736\n",
      "\n",
      "Iteration: 1\n"
     ]
    },
    {
     "name": "stderr",
     "output_type": "stream",
     "text": [
      "Updating PHI and GAMMA: 100%|██████████| 2246/2246 [00:10<00:00, 209.50it/s]\n",
      "Updating LAMBDA: 100%|██████████| 2246/2246 [00:00<00:00, 13006.67it/s]\n"
     ]
    },
    {
     "name": "stdout",
     "output_type": "stream",
     "text": [
      "Current ELBO: -2674263.6112363352\n",
      "\n",
      "\n",
      "Iteration: 2\n"
     ]
    },
    {
     "name": "stderr",
     "output_type": "stream",
     "text": [
      "Updating PHI and GAMMA: 100%|██████████| 2246/2246 [00:11<00:00, 195.31it/s]\n",
      "Updating LAMBDA: 100%|██████████| 2246/2246 [00:00<00:00, 12518.76it/s]\n"
     ]
    },
    {
     "name": "stdout",
     "output_type": "stream",
     "text": [
      "Current ELBO: -2221000.405476545\n",
      "\n",
      "\n",
      "Iteration: 3\n"
     ]
    },
    {
     "name": "stderr",
     "output_type": "stream",
     "text": [
      "Updating PHI and GAMMA: 100%|██████████| 2246/2246 [00:11<00:00, 187.23it/s]\n",
      "Updating LAMBDA: 100%|██████████| 2246/2246 [00:00<00:00, 10848.60it/s]\n"
     ]
    },
    {
     "name": "stdout",
     "output_type": "stream",
     "text": [
      "Current ELBO: -1905227.4506331466\n",
      "\n",
      "\n",
      "Iteration: 4\n"
     ]
    },
    {
     "name": "stderr",
     "output_type": "stream",
     "text": [
      "Updating PHI and GAMMA: 100%|██████████| 2246/2246 [00:12<00:00, 183.57it/s]\n",
      "Updating LAMBDA: 100%|██████████| 2246/2246 [00:00<00:00, 8236.22it/s]\n"
     ]
    },
    {
     "name": "stdout",
     "output_type": "stream",
     "text": [
      "Current ELBO: -1692024.4316797014\n",
      "\n",
      "\n",
      "Iteration: 5\n"
     ]
    },
    {
     "name": "stderr",
     "output_type": "stream",
     "text": [
      "Updating PHI and GAMMA: 100%|██████████| 2246/2246 [00:13<00:00, 161.41it/s]\n",
      "Updating LAMBDA: 100%|██████████| 2246/2246 [00:00<00:00, 10695.96it/s]\n"
     ]
    },
    {
     "name": "stdout",
     "output_type": "stream",
     "text": [
      "Current ELBO: -1529109.974442578\n",
      "\n",
      "\n",
      "Iteration: 6\n"
     ]
    },
    {
     "name": "stderr",
     "output_type": "stream",
     "text": [
      "Updating PHI and GAMMA: 100%|██████████| 2246/2246 [00:13<00:00, 171.48it/s]\n",
      "Updating LAMBDA: 100%|██████████| 2246/2246 [00:00<00:00, 10529.38it/s]\n"
     ]
    },
    {
     "name": "stdout",
     "output_type": "stream",
     "text": [
      "Current ELBO: -1383115.770526419\n",
      "\n",
      "\n",
      "Iteration: 7\n"
     ]
    },
    {
     "name": "stderr",
     "output_type": "stream",
     "text": [
      "Updating PHI and GAMMA: 100%|██████████| 2246/2246 [00:13<00:00, 166.65it/s]\n",
      "Updating LAMBDA: 100%|██████████| 2246/2246 [00:00<00:00, 11678.50it/s]\n"
     ]
    },
    {
     "name": "stdout",
     "output_type": "stream",
     "text": [
      "Current ELBO: -1239111.7019053\n",
      "\n",
      "\n",
      "Iteration: 8\n"
     ]
    },
    {
     "name": "stderr",
     "output_type": "stream",
     "text": [
      "Updating PHI and GAMMA: 100%|██████████| 2246/2246 [00:11<00:00, 195.25it/s]\n",
      "Updating LAMBDA: 100%|██████████| 2246/2246 [00:00<00:00, 12446.32it/s]\n"
     ]
    },
    {
     "name": "stdout",
     "output_type": "stream",
     "text": [
      "Current ELBO: -1096344.1120994368\n",
      "\n",
      "\n",
      "Iteration: 9\n"
     ]
    },
    {
     "name": "stderr",
     "output_type": "stream",
     "text": [
      "Updating PHI and GAMMA: 100%|██████████| 2246/2246 [00:11<00:00, 189.73it/s]\n",
      "Updating LAMBDA: 100%|██████████| 2246/2246 [00:00<00:00, 12258.76it/s]\n"
     ]
    },
    {
     "name": "stdout",
     "output_type": "stream",
     "text": [
      "Current ELBO: -973000.5977260501\n",
      "\n",
      "\n",
      "Iteration: 10\n"
     ]
    },
    {
     "name": "stderr",
     "output_type": "stream",
     "text": [
      "Updating PHI and GAMMA: 100%|██████████| 2246/2246 [00:11<00:00, 191.77it/s]\n",
      "Updating LAMBDA: 100%|██████████| 2246/2246 [00:00<00:00, 12227.48it/s]\n"
     ]
    },
    {
     "name": "stdout",
     "output_type": "stream",
     "text": [
      "Current ELBO: -884707.8499469133\n",
      "\n",
      "\n",
      "Iteration: 11\n"
     ]
    },
    {
     "name": "stderr",
     "output_type": "stream",
     "text": [
      "Updating PHI and GAMMA: 100%|██████████| 2246/2246 [00:11<00:00, 192.92it/s]\n",
      "Updating LAMBDA: 100%|██████████| 2246/2246 [00:00<00:00, 10025.21it/s]\n"
     ]
    },
    {
     "name": "stdout",
     "output_type": "stream",
     "text": [
      "Current ELBO: -838476.7768229973\n",
      "\n",
      "\n",
      "Iteration: 12\n"
     ]
    },
    {
     "name": "stderr",
     "output_type": "stream",
     "text": [
      "Updating PHI and GAMMA: 100%|██████████| 2246/2246 [00:11<00:00, 190.15it/s]\n",
      "Updating LAMBDA: 100%|██████████| 2246/2246 [00:00<00:00, 12701.87it/s]\n"
     ]
    },
    {
     "name": "stdout",
     "output_type": "stream",
     "text": [
      "Current ELBO: -813455.48200195\n",
      "\n",
      "\n",
      "Iteration: 13\n"
     ]
    },
    {
     "name": "stderr",
     "output_type": "stream",
     "text": [
      "Updating PHI and GAMMA: 100%|██████████| 2246/2246 [00:13<00:00, 170.75it/s]\n",
      "Updating LAMBDA: 100%|██████████| 2246/2246 [00:00<00:00, 7987.36it/s]\n"
     ]
    },
    {
     "name": "stdout",
     "output_type": "stream",
     "text": [
      "Current ELBO: -795801.2234450831\n",
      "\n",
      "\n",
      "Iteration: 14\n"
     ]
    },
    {
     "name": "stderr",
     "output_type": "stream",
     "text": [
      "Updating PHI and GAMMA: 100%|██████████| 2246/2246 [00:11<00:00, 187.71it/s]\n",
      "Updating LAMBDA: 100%|██████████| 2246/2246 [00:00<00:00, 12676.05it/s]\n"
     ]
    },
    {
     "name": "stdout",
     "output_type": "stream",
     "text": [
      "Current ELBO: -782717.6759996956\n",
      "\n",
      "\n",
      "Iteration: 15\n"
     ]
    },
    {
     "name": "stderr",
     "output_type": "stream",
     "text": [
      "Updating PHI and GAMMA: 100%|██████████| 2246/2246 [00:11<00:00, 192.80it/s]\n",
      "Updating LAMBDA: 100%|██████████| 2246/2246 [00:00<00:00, 12040.75it/s]\n"
     ]
    },
    {
     "name": "stdout",
     "output_type": "stream",
     "text": [
      "Current ELBO: -773981.2529892297\n",
      "\n",
      "\n",
      "Iteration: 16\n"
     ]
    },
    {
     "name": "stderr",
     "output_type": "stream",
     "text": [
      "Updating PHI and GAMMA: 100%|██████████| 2246/2246 [00:12<00:00, 183.46it/s]\n",
      "Updating LAMBDA: 100%|██████████| 2246/2246 [00:00<00:00, 9479.06it/s]\n"
     ]
    },
    {
     "name": "stdout",
     "output_type": "stream",
     "text": [
      "Current ELBO: -767875.9205972776\n",
      "\n",
      "\n",
      "Iteration: 17\n"
     ]
    },
    {
     "name": "stderr",
     "output_type": "stream",
     "text": [
      "Updating PHI and GAMMA: 100%|██████████| 2246/2246 [00:11<00:00, 190.07it/s]\n",
      "Updating LAMBDA: 100%|██████████| 2246/2246 [00:00<00:00, 11970.51it/s]\n"
     ]
    },
    {
     "name": "stdout",
     "output_type": "stream",
     "text": [
      "Current ELBO: -763530.5942556146\n",
      "\n",
      "\n",
      "Iteration: 18\n"
     ]
    },
    {
     "name": "stderr",
     "output_type": "stream",
     "text": [
      "Updating PHI and GAMMA: 100%|██████████| 2246/2246 [00:11<00:00, 192.30it/s]\n",
      "Updating LAMBDA: 100%|██████████| 2246/2246 [00:00<00:00, 10232.97it/s]\n"
     ]
    },
    {
     "name": "stdout",
     "output_type": "stream",
     "text": [
      "Current ELBO: -760681.9529365805\n",
      "\n",
      "\n",
      "Iteration: 19\n"
     ]
    },
    {
     "name": "stderr",
     "output_type": "stream",
     "text": [
      "Updating PHI and GAMMA: 100%|██████████| 2246/2246 [00:11<00:00, 191.73it/s]\n",
      "Updating LAMBDA: 100%|██████████| 2246/2246 [00:00<00:00, 12037.35it/s]\n"
     ]
    },
    {
     "name": "stdout",
     "output_type": "stream",
     "text": [
      "Current ELBO: -758713.6132622471\n",
      "\n",
      "\n",
      "Iteration: 20\n"
     ]
    },
    {
     "name": "stderr",
     "output_type": "stream",
     "text": [
      "Updating PHI and GAMMA: 100%|██████████| 2246/2246 [00:12<00:00, 185.41it/s]\n",
      "Updating LAMBDA: 100%|██████████| 2246/2246 [00:00<00:00, 12728.44it/s]\n"
     ]
    },
    {
     "name": "stdout",
     "output_type": "stream",
     "text": [
      "Current ELBO: -757421.9658502224\n",
      "\n",
      "\n",
      "Iteration: 21\n"
     ]
    },
    {
     "name": "stderr",
     "output_type": "stream",
     "text": [
      "Updating PHI and GAMMA: 100%|██████████| 2246/2246 [00:11<00:00, 189.27it/s]\n",
      "Updating LAMBDA: 100%|██████████| 2246/2246 [00:00<00:00, 11709.61it/s]\n"
     ]
    },
    {
     "name": "stdout",
     "output_type": "stream",
     "text": [
      "Current ELBO: -756505.7931095375\n",
      "\n",
      "\n",
      "Iteration: 22\n"
     ]
    },
    {
     "name": "stderr",
     "output_type": "stream",
     "text": [
      "Updating PHI and GAMMA: 100%|██████████| 2246/2246 [00:12<00:00, 185.31it/s]\n",
      "Updating LAMBDA: 100%|██████████| 2246/2246 [00:00<00:00, 12275.83it/s]\n"
     ]
    },
    {
     "name": "stdout",
     "output_type": "stream",
     "text": [
      "Current ELBO: -755874.402144195\n",
      "\n",
      "\n",
      "Iteration: 23\n"
     ]
    },
    {
     "name": "stderr",
     "output_type": "stream",
     "text": [
      "Updating PHI and GAMMA: 100%|██████████| 2246/2246 [00:11<00:00, 192.48it/s]\n",
      "Updating LAMBDA: 100%|██████████| 2246/2246 [00:00<00:00, 13085.26it/s]\n"
     ]
    },
    {
     "name": "stdout",
     "output_type": "stream",
     "text": [
      "Current ELBO: -755426.5514718874\n",
      "\n",
      "\n",
      "Iteration: 24\n"
     ]
    },
    {
     "name": "stderr",
     "output_type": "stream",
     "text": [
      "Updating PHI and GAMMA: 100%|██████████| 2246/2246 [00:11<00:00, 189.38it/s]\n",
      "Updating LAMBDA: 100%|██████████| 2246/2246 [00:00<00:00, 12055.47it/s]\n"
     ]
    },
    {
     "name": "stdout",
     "output_type": "stream",
     "text": [
      "Current ELBO: -755018.7838972955\n",
      "\n",
      "\n",
      "Iteration: 25\n"
     ]
    },
    {
     "name": "stderr",
     "output_type": "stream",
     "text": [
      "Updating PHI and GAMMA: 100%|██████████| 2246/2246 [00:11<00:00, 192.03it/s]\n",
      "Updating LAMBDA: 100%|██████████| 2246/2246 [00:00<00:00, 12553.31it/s]\n"
     ]
    },
    {
     "name": "stdout",
     "output_type": "stream",
     "text": [
      "Current ELBO: -754678.3383614301\n",
      "\n",
      "\n",
      "Iteration: 26\n"
     ]
    },
    {
     "name": "stderr",
     "output_type": "stream",
     "text": [
      "Updating PHI and GAMMA: 100%|██████████| 2246/2246 [00:12<00:00, 183.91it/s]\n",
      "Updating LAMBDA: 100%|██████████| 2246/2246 [00:00<00:00, 12619.35it/s]\n"
     ]
    },
    {
     "name": "stdout",
     "output_type": "stream",
     "text": [
      "Current ELBO: -754441.9475605608\n",
      "\n",
      "\n",
      "Iteration: 27\n"
     ]
    },
    {
     "name": "stderr",
     "output_type": "stream",
     "text": [
      "Updating PHI and GAMMA: 100%|██████████| 2246/2246 [00:12<00:00, 174.35it/s]\n",
      "Updating LAMBDA: 100%|██████████| 2246/2246 [00:00<00:00, 12227.16it/s]\n"
     ]
    },
    {
     "name": "stdout",
     "output_type": "stream",
     "text": [
      "Current ELBO: -754263.7071233409\n",
      "\n",
      "\n",
      "Iteration: 28\n"
     ]
    },
    {
     "name": "stderr",
     "output_type": "stream",
     "text": [
      "Updating PHI and GAMMA: 100%|██████████| 2246/2246 [00:12<00:00, 184.81it/s]\n",
      "Updating LAMBDA: 100%|██████████| 2246/2246 [00:00<00:00, 11911.60it/s]\n"
     ]
    },
    {
     "name": "stdout",
     "output_type": "stream",
     "text": [
      "Current ELBO: -754084.7611543253\n",
      "\n",
      "\n",
      "Iteration: 29\n"
     ]
    },
    {
     "name": "stderr",
     "output_type": "stream",
     "text": [
      "Updating PHI and GAMMA: 100%|██████████| 2246/2246 [00:11<00:00, 188.32it/s]\n",
      "Updating LAMBDA: 100%|██████████| 2246/2246 [00:00<00:00, 11990.36it/s]\n"
     ]
    },
    {
     "name": "stdout",
     "output_type": "stream",
     "text": [
      "Current ELBO: -753920.374534026\n",
      "\n",
      "\n",
      "Iteration: 30\n"
     ]
    },
    {
     "name": "stderr",
     "output_type": "stream",
     "text": [
      "Updating PHI and GAMMA: 100%|██████████| 2246/2246 [00:11<00:00, 192.31it/s]\n",
      "Updating LAMBDA: 100%|██████████| 2246/2246 [00:00<00:00, 12958.29it/s]\n"
     ]
    },
    {
     "name": "stdout",
     "output_type": "stream",
     "text": [
      "Current ELBO: -753818.8496032975\n",
      "\n",
      "\n",
      "Iteration: 31\n"
     ]
    },
    {
     "name": "stderr",
     "output_type": "stream",
     "text": [
      "Updating PHI and GAMMA: 100%|██████████| 2246/2246 [00:11<00:00, 194.56it/s]\n",
      "Updating LAMBDA: 100%|██████████| 2246/2246 [00:00<00:00, 12617.74it/s]\n"
     ]
    },
    {
     "name": "stdout",
     "output_type": "stream",
     "text": [
      "Current ELBO: -753715.7178771347\n",
      "\n",
      "\n",
      "Iteration: 32\n"
     ]
    },
    {
     "name": "stderr",
     "output_type": "stream",
     "text": [
      "Updating PHI and GAMMA: 100%|██████████| 2246/2246 [00:11<00:00, 190.41it/s]\n",
      "Updating LAMBDA: 100%|██████████| 2246/2246 [00:00<00:00, 12219.57it/s]\n"
     ]
    },
    {
     "name": "stdout",
     "output_type": "stream",
     "text": [
      "Current ELBO: -753564.4527099286\n",
      "\n",
      "\n",
      "Iteration: 33\n"
     ]
    },
    {
     "name": "stderr",
     "output_type": "stream",
     "text": [
      "Updating PHI and GAMMA: 100%|██████████| 2246/2246 [00:11<00:00, 187.27it/s]\n",
      "Updating LAMBDA: 100%|██████████| 2246/2246 [00:00<00:00, 12559.32it/s]\n"
     ]
    },
    {
     "name": "stdout",
     "output_type": "stream",
     "text": [
      "Current ELBO: -753465.2534608205\n",
      "\n",
      "\n",
      "Iteration: 34\n"
     ]
    },
    {
     "name": "stderr",
     "output_type": "stream",
     "text": [
      "Updating PHI and GAMMA: 100%|██████████| 2246/2246 [00:11<00:00, 193.36it/s]\n",
      "Updating LAMBDA: 100%|██████████| 2246/2246 [00:00<00:00, 12549.21it/s]\n"
     ]
    },
    {
     "name": "stdout",
     "output_type": "stream",
     "text": [
      "Current ELBO: -753381.494590922\n",
      "\n",
      "\n",
      "Iteration: 35\n"
     ]
    },
    {
     "name": "stderr",
     "output_type": "stream",
     "text": [
      "Updating PHI and GAMMA: 100%|██████████| 2246/2246 [00:11<00:00, 194.93it/s]\n",
      "Updating LAMBDA: 100%|██████████| 2246/2246 [00:00<00:00, 12687.23it/s]\n"
     ]
    },
    {
     "name": "stdout",
     "output_type": "stream",
     "text": [
      "Current ELBO: -753284.2413347805\n",
      "\n",
      "\n",
      "Iteration: 36\n"
     ]
    },
    {
     "name": "stderr",
     "output_type": "stream",
     "text": [
      "Updating PHI and GAMMA: 100%|██████████| 2246/2246 [00:11<00:00, 194.04it/s]\n",
      "Updating LAMBDA: 100%|██████████| 2246/2246 [00:00<00:00, 12367.87it/s]\n"
     ]
    },
    {
     "name": "stdout",
     "output_type": "stream",
     "text": [
      "Current ELBO: -753219.048637815\n",
      "\n",
      "\n",
      "Iteration: 37\n"
     ]
    },
    {
     "name": "stderr",
     "output_type": "stream",
     "text": [
      "Updating PHI and GAMMA: 100%|██████████| 2246/2246 [00:11<00:00, 193.89it/s]\n",
      "Updating LAMBDA: 100%|██████████| 2246/2246 [00:00<00:00, 12797.21it/s]\n"
     ]
    },
    {
     "name": "stdout",
     "output_type": "stream",
     "text": [
      "Current ELBO: -753164.0145703709\n",
      "\n",
      "\n",
      "Iteration: 38\n"
     ]
    },
    {
     "name": "stderr",
     "output_type": "stream",
     "text": [
      "Updating PHI and GAMMA: 100%|██████████| 2246/2246 [00:11<00:00, 195.50it/s]\n",
      "Updating LAMBDA: 100%|██████████| 2246/2246 [00:00<00:00, 12971.66it/s]\n"
     ]
    },
    {
     "name": "stdout",
     "output_type": "stream",
     "text": [
      "Current ELBO: -753105.0864675537\n",
      "\n",
      "\n",
      "Iteration: 39\n"
     ]
    },
    {
     "name": "stderr",
     "output_type": "stream",
     "text": [
      "Updating PHI and GAMMA: 100%|██████████| 2246/2246 [00:11<00:00, 196.22it/s]\n",
      "Updating LAMBDA: 100%|██████████| 2246/2246 [00:00<00:00, 12140.86it/s]\n"
     ]
    },
    {
     "name": "stdout",
     "output_type": "stream",
     "text": [
      "Current ELBO: -753059.6114039161\n",
      "\n",
      "\n",
      "Iteration: 40\n"
     ]
    },
    {
     "name": "stderr",
     "output_type": "stream",
     "text": [
      "Updating PHI and GAMMA: 100%|██████████| 2246/2246 [00:12<00:00, 178.13it/s]\n",
      "Updating LAMBDA: 100%|██████████| 2246/2246 [00:00<00:00, 11510.14it/s]\n"
     ]
    },
    {
     "name": "stdout",
     "output_type": "stream",
     "text": [
      "Current ELBO: -753034.7299097246\n",
      "\n",
      "\n",
      "Iteration: 41\n"
     ]
    },
    {
     "name": "stderr",
     "output_type": "stream",
     "text": [
      "Updating PHI and GAMMA: 100%|██████████| 2246/2246 [00:11<00:00, 189.60it/s]\n",
      "Updating LAMBDA: 100%|██████████| 2246/2246 [00:00<00:00, 12915.74it/s]\n"
     ]
    },
    {
     "name": "stdout",
     "output_type": "stream",
     "text": [
      "Current ELBO: -753008.6780812962\n",
      "\n",
      "\n",
      "Iteration: 42\n"
     ]
    },
    {
     "name": "stderr",
     "output_type": "stream",
     "text": [
      "Updating PHI and GAMMA: 100%|██████████| 2246/2246 [00:12<00:00, 183.91it/s]\n",
      "Updating LAMBDA: 100%|██████████| 2246/2246 [00:00<00:00, 12935.11it/s]\n"
     ]
    },
    {
     "name": "stdout",
     "output_type": "stream",
     "text": [
      "Current ELBO: -752967.9580223253\n",
      "\n",
      "\n",
      "Iteration: 43\n"
     ]
    },
    {
     "name": "stderr",
     "output_type": "stream",
     "text": [
      "Updating PHI and GAMMA: 100%|██████████| 2246/2246 [00:12<00:00, 186.89it/s]\n",
      "Updating LAMBDA: 100%|██████████| 2246/2246 [00:00<00:00, 10354.88it/s]\n"
     ]
    },
    {
     "name": "stdout",
     "output_type": "stream",
     "text": [
      "Current ELBO: -752947.7145659564\n",
      "\n",
      "\n",
      "Iteration: 44\n"
     ]
    },
    {
     "name": "stderr",
     "output_type": "stream",
     "text": [
      "Updating PHI and GAMMA: 100%|██████████| 2246/2246 [00:13<00:00, 165.71it/s]\n",
      "Updating LAMBDA: 100%|██████████| 2246/2246 [00:00<00:00, 8869.40it/s]\n"
     ]
    },
    {
     "name": "stdout",
     "output_type": "stream",
     "text": [
      "Current ELBO: -752939.3164794196\n"
     ]
    },
    {
     "data": {
      "text/plain": [
       "[<matplotlib.lines.Line2D at 0x21b9a6d4550>]"
      ]
     },
     "execution_count": 533,
     "metadata": {},
     "output_type": "execute_result"
    },
    {
     "data": {
      "image/png": "[encoded data removed]",
      "text/plain": [
       "<Figure size 640x480 with 1 Axes>"
      ]
     },
     "metadata": {},
     "output_type": "display_data"
    }
   ],
   "source": [
    "K = 30\n",
    "V = len(vocab)\n",
    "ALPHA = 0.5\n",
    "ETA = 1 / V\n",
    "\n",
    "tol = 10\n",
    "iteration = 1\n",
    "max_iterations = 200\n",
    "curr_ELBO = 0\n",
    "prev_ELBO = 301\n",
    "ELBOs = []\n",
    "\n",
    "start = time.time()\n",
    "LAMBDA, GAMMA, PHI = init_variational_params(corpus_mat=corpus_matrix, K=K, V=V)\n",
    "ELBOs.append(compute_ELBO(LAMBDA, GAMMA, PHI, corpus_mat=corpus_matrix))\n",
    "print(f\"Initial ELBO: {ELBOs[0]}\\n\")\n",
    "while iteration <= max_iterations:\n",
    "    print(f\"Iteration: {iteration}\")\n",
    "    LAMBDA, GAMMA, PHI = update_variational_params(LAMBDA, GAMMA, PHI, corpus_mat=corpus_matrix, K=K, V=V)\n",
    "    prev_ELBO = curr_ELBO\n",
    "    curr_ELBO = compute_ELBO(LAMBDA, GAMMA, PHI, corpus_mat=corpus_matrix)\n",
    "    print(f\"Current ELBO: {curr_ELBO}\")\n",
    "    ELBOs.append(curr_ELBO)\n",
    "\n",
    "    if np.abs(curr_ELBO - prev_ELBO) <= tol:\n",
    "        break\n",
    "\n",
    "    iteration += 1\n",
    "    print(\"\\n\")\n",
    "\n",
    "stop = time.time()\n",
    "plt.xlabel(\"Seconds\")\n",
    "plt.ylabel(\"ELBO\")\n",
    "plt.ticklabel_format(style=\"sci\", axis=\"y\", scilimits=(0, 0))\n",
    "plt.plot(np.linspace(0, float(stop-start), len(ELBOs)), ELBOs)"
   ]
  },
  {
   "cell_type": "code",
   "execution_count": null,
   "metadata": {},
   "outputs": [],
   "source": []
  },
  {
   "cell_type": "code",
   "execution_count": 525,
   "metadata": {},
   "outputs": [
    {
     "data": {
      "text/plain": [
       "(np.float64(1128710596.0149217),\n",
       " np.float64(119501.09696187706),\n",
       " np.float64(-2744526.032910938),\n",
       " np.float64(-1127203632.4935842),\n",
       " np.float64(-195992.7116765848),\n",
       " np.float64(1159523.0442914483),\n",
       " np.float64(-154531.08199647604))"
      ]
     },
     "execution_count": 525,
     "metadata": {},
     "output_type": "execute_result"
    }
   ],
   "source": [
    "ETA = 1 / len(vocab)\n",
    "ALPHA = 0.5\n",
    "\n",
    "corpus_mat = corpus_matrix\n",
    "N = len(corpus_mat)\n",
    "ELBO = 0\n",
    "\n",
    "E_log_p_BETA = np.sum(\n",
    "    (ETA-1) * (digamma(LAMBDA) - digamma(np.sum(LAMBDA, axis=1, keepdims=True)))\n",
    "    )\n",
    "ELBO += E_log_p_BETA\n",
    "\n",
    "E_log_p_THETA = np.sum(\n",
    "    (ALPHA-1) * (digamma(GAMMA) - digamma(np.sum(GAMMA, axis=1, keepdims=True)))\n",
    ")\n",
    "ELBO += E_log_p_THETA\n",
    "\n",
    "E_log_p_z_x = 0\n",
    "for i in range(N):\n",
    "    M = len(corpus_mat[i])\n",
    "    for j in range(M):\n",
    "        x_ij = corpus_mat[i][j]\n",
    "        E_log_p_z_x += np.sum(PHI[i][j] * (digamma(GAMMA[i]) - digamma(np.sum(GAMMA[i])))) \\\n",
    "            + np.sum(PHI[i][j] * (digamma(LAMBDA[:, x_ij]) - digamma(np.sum(LAMBDA[:, x_ij]))))\n",
    "ELBO += E_log_p_z_x\n",
    "\n",
    "E_q_log_BETA = np.sum(\n",
    "    -loggamma(np.sum(LAMBDA, axis=1)) + np.sum(loggamma(LAMBDA), axis=1) \\\n",
    "        - np.sum((LAMBDA - 1) * (digamma(LAMBDA) - digamma(np.sum(LAMBDA, axis=1, keepdims=True))), axis=1)\n",
    ")\n",
    "ELBO += E_q_log_BETA\n",
    "\n",
    "E_q_log_THETA = np.sum(\n",
    "    -loggamma(np.sum(GAMMA, axis=1)) + np.sum(loggamma(GAMMA), axis=1) \\\n",
    "    - np.sum((GAMMA - 1) * (digamma(GAMMA) - digamma(np.sum(GAMMA, axis=1, keepdims=True))), axis=1)\n",
    ")\n",
    "ELBO += E_q_log_THETA\n",
    "\n",
    "E_log_q_z = 0\n",
    "for i, doc in enumerate(corpus_mat):\n",
    "    for j, x_ij in enumerate(doc):  # x_ij is the word index\n",
    "        # PHI_nonzero = PHI[i][j][PHI[i][j] > 0]\n",
    "        E_log_q_z += -np.sum(PHI[i][j] * np.log(PHI[i][j] + 1e-10))\n",
    "ELBO += E_log_q_z\n",
    "\n",
    "E_log_p_BETA, E_log_p_THETA, E_log_p_z_x, E_q_log_BETA, E_q_log_THETA, E_log_q_z, ELBO"
   ]
  },
  {
   "cell_type": "code",
   "execution_count": 503,
   "metadata": {},
   "outputs": [],
   "source": [
    "def init_variational_params(corpus_mat, K, V):\n",
    "    N = len(corpus_mat)\n",
    "    LAMBDA = np.random.uniform(low=0.01, high=1.00, size=(K, V))\n",
    "    GAMMA = np.ones((N, K))\n",
    "    PHI = [np.ones((len(doc), K)) / K for doc in corpus_mat]\n",
    "\n",
    "    return LAMBDA, GAMMA, PHI\n",
    "\n",
    "def compute_ELBO(LAMBDA, GAMMA, PHI, corpus_mat):\n",
    "    N = len(corpus_mat)\n",
    "    ELBO = 0\n",
    "\n",
    "    E_log_p_BETA = np.sum(\n",
    "        (ETA-1) * (digamma(LAMBDA) - digamma(np.sum(LAMBDA, axis=1, keepdims=True)))\n",
    "        )\n",
    "    ELBO += E_log_p_BETA\n",
    "\n",
    "    E_log_p_THETA = np.sum(\n",
    "        (ALPHA-1) * (digamma(GAMMA) - digamma(np.sum(GAMMA, axis=1, keepdims=True)))\n",
    "    )\n",
    "    ELBO += E_log_p_THETA\n",
    "\n",
    "    E_log_p_z_x = 0\n",
    "    for i in range(N):\n",
    "        M = len(corpus_mat[i])\n",
    "        for j in range(M):\n",
    "            x_ij = corpus_mat[i][j]\n",
    "            E_log_p_z_x += np.sum(PHI[i][j] * (digamma(GAMMA[i]) - digamma(np.sum(GAMMA[i])))) \\\n",
    "                + np.sum(PHI[i][j] * (digamma(LAMBDA[:, x_ij]) - digamma(np.sum(LAMBDA[:, x_ij]))))\n",
    "    ELBO += E_log_p_z_x\n",
    "\n",
    "    E_q_log_BETA = np.sum(\n",
    "        -loggamma(np.sum(LAMBDA, axis=1)) + np.sum(loggamma(LAMBDA), axis=1) \\\n",
    "            - np.sum((LAMBDA - 1) * (digamma(LAMBDA) - digamma(np.sum(LAMBDA, axis=1, keepdims=True))), axis=1)\n",
    "    )\n",
    "    ELBO += E_q_log_BETA\n",
    "\n",
    "    E_q_log_THETA = np.sum(\n",
    "        -loggamma(np.sum(GAMMA, axis=1)) + np.sum(loggamma(GAMMA), axis=1) \\\n",
    "        - np.sum((GAMMA - 1) * (digamma(GAMMA) - digamma(np.sum(GAMMA, axis=1, keepdims=True))), axis=1)\n",
    "    )\n",
    "    ELBO += E_q_log_THETA\n",
    "\n",
    "    E_log_q_z = 0\n",
    "    for i, doc in enumerate(corpus_mat):\n",
    "        for j, x_ij in enumerate(doc):  # x_ij is the word index\n",
    "            # PHI_nonzero = PHI[i][j][PHI[i][j] > 0]\n",
    "            E_log_q_z += -np.sum(PHI[i][j] * np.log(PHI[i][j] + 1e-10))\n",
    "    ELBO += E_log_q_z\n",
    "\n",
    "    return ELBO\n",
    "\n",
    "def update_variational_params(LAMBDA, GAMMA, PHI, corpus_mat, K, V):\n",
    "    N = len(corpus_mat)\n",
    "    for i in tqdm(range(N), desc=\"Updating PHI and GAMMA\"):\n",
    "    # for i in range(N):\n",
    "        M = len(corpus_mat[i])\n",
    "        for j in range(M):\n",
    "            x_ij = corpus_mat[i][j]\n",
    "            exp_propto = digamma(LAMBDA[:, x_ij]) - digamma(np.sum(LAMBDA[:, x_ij])) \\\n",
    "                + digamma(GAMMA[i]) - digamma(np.sum(GAMMA[i]))\n",
    "            PHI[i][j] = np.exp(exp_propto - log_sum_exp(exp_propto))\n",
    "\n",
    "        for k in range(K):\n",
    "            GAMMA[i, k] = ALPHA + np.sum(PHI[i][:, k])\n",
    "\n",
    "    LAMBDA = np.full((K, V), ETA)\n",
    "    for i, doc in enumerate(tqdm(corpus_mat, desc=\"Updating LAMBDA\")):\n",
    "    # for i, doc in enumerate(corpus_mat):\n",
    "        doc_word_idxs = np.array(doc)\n",
    "        for k in range(K):\n",
    "            np.add.at(LAMBDA[k], doc_word_idxs, PHI[i][:, k])\n",
    "\n",
    "    return LAMBDA, GAMMA, PHI"
   ]
  },
  {
   "cell_type": "code",
   "execution_count": 501,
   "metadata": {},
   "outputs": [],
   "source": [
    "def init_variational_params(corpus_matrix, K, V):\n",
    "    N = len(corpus_matrix)\n",
    "    LAMBDA = np.random.uniform(low=0.01, high=1.00, size=(K, V))\n",
    "    GAMMA = np.ones((N, K))\n",
    "    PHI = []\n",
    "    for doc in corpus_matrix:\n",
    "        doc = np.asarray(doc)\n",
    "        num_words_per_doc = np.sum((doc > 0).astype(\"int32\"))\n",
    "        doc_PHI = np.ones((num_words_per_doc, K))\n",
    "        doc_PHI = doc_PHI / K\n",
    "        PHI.append(doc_PHI)\n",
    "\n",
    "    return LAMBDA, GAMMA, PHI\n",
    "\n",
    "def compute_ELBO(LAMBDA, GAMMA, PHI, corpus_matrix, K):\n",
    "    N = len(corpus_matrix)\n",
    "    ELBO = 0\n",
    "\n",
    "    E_log_p_BETA = 0\n",
    "    for k in range(K):\n",
    "        E_log_p_BETA += (ETA - 1) * np.sum(digamma(LAMBDA[k]) - digamma(np.sum(LAMBDA[k])))\n",
    "    ELBO += E_log_p_BETA\n",
    "\n",
    "    E_log_p_THETA = 0\n",
    "    for i in range(N):\n",
    "        E_log_p_THETA += (ALPHA - 1) * np.sum(digamma(GAMMA[i]) - digamma(np.sum(GAMMA[i])))\n",
    "    ELBO += E_log_p_THETA\n",
    "\n",
    "    E_log_p_z_x = 0\n",
    "    for i in range(N):\n",
    "        M = len(corpus_matrix[i])\n",
    "        for j in range(M):\n",
    "            x_ij = corpus_matrix[i][j]\n",
    "            E_log_p_z_x += np.sum(PHI[i][j] * (digamma(GAMMA[i]) - digamma(np.sum(GAMMA[i])))) \\\n",
    "                + np.sum(PHI[i][j] * (digamma(LAMBDA[:, x_ij]) - digamma(np.sum(LAMBDA[:, x_ij]))))\n",
    "    ELBO += E_log_p_z_x\n",
    "\n",
    "    E_q_log_BETA = 0\n",
    "    for k in range(K):\n",
    "        E_q_log_BETA += -loggamma(np.sum(LAMBDA[k])) + np.sum(loggamma(LAMBDA[k])) \\\n",
    "            - np.sum((LAMBDA[k] - 1) * (digamma(LAMBDA[k]) - digamma(np.sum(LAMBDA[k]))))\n",
    "    ELBO += E_q_log_BETA\n",
    "\n",
    "    E_q_log_THETA = 0\n",
    "    for i in range(N):\n",
    "        E_q_log_THETA += -loggamma(np.sum(GAMMA[i])) + np.sum(loggamma(GAMMA[i])) \\\n",
    "            - np.sum((GAMMA[i] - 1) * (digamma(GAMMA[i]) - digamma(np.sum(GAMMA[i]))))\n",
    "    ELBO += E_q_log_THETA\n",
    "\n",
    "    E_log_q_z = 0\n",
    "    for i in range(N):\n",
    "        M = len(corpus_matrix[i])\n",
    "        for j in range(M):\n",
    "            E_log_q_z += -np.sum(PHI[i][j] * np.log(PHI[i][j]))\n",
    "    ELBO += E_log_q_z\n",
    "\n",
    "    return ELBO\n",
    "\n",
    "def update_variational_params(LAMBDA, GAMMA, PHI, corpus_matrix, K):\n",
    "    N = len(corpus_matrix)\n",
    "    for i in tqdm(range(N), desc=\"Updating PHI and GAMMA\"):\n",
    "        M = len(corpus_matrix[i])\n",
    "        for j in range(M):\n",
    "            x_ij = corpus_matrix[i][j]\n",
    "            exp_propto = digamma(LAMBDA[:, x_ij]) - digamma(np.sum(LAMBDA[:, x_ij])) \\\n",
    "                + digamma(GAMMA[i]) - digamma(np.sum(GAMMA[i]))\n",
    "            PHI[i][j] = np.exp(exp_propto - log_sum_exp(exp_propto))\n",
    "\n",
    "        for k in range(K):\n",
    "            GAMMA[i, k] = ALPHA + np.sum(PHI[i][:, k])\n",
    "\n",
    "    LAMBDA = np.zeros((K, V))\n",
    "    for i, doc in enumerate(tqdm(corpus_matrix, desc=\"Updating LAMBDA\")):\n",
    "        PHI_doc = PHI[i]\n",
    "        for j, word in enumerate(doc):\n",
    "            LAMBDA[:, word] += PHI_doc[j, :]\n",
    "\n",
    "    ETA_matrix = np.full((K, V), ETA)\n",
    "    LAMBDA = LAMBDA + ETA_matrix\n",
    "\n",
    "    return LAMBDA, GAMMA, PHI"
   ]
  },
  {
   "cell_type": "code",
   "execution_count": 507,
   "metadata": {},
   "outputs": [
    {
     "name": "stdout",
     "output_type": "stream",
     "text": [
      "Iteration: 1\n"
     ]
    },
    {
     "name": "stderr",
     "output_type": "stream",
     "text": [
      "Updating PHI and GAMMA: 100%|██████████| 2246/2246 [00:11<00:00, 191.96it/s]\n",
      "Updating LAMBDA: 100%|██████████| 2246/2246 [00:00<00:00, 11807.09it/s]\n"
     ]
    },
    {
     "name": "stdout",
     "output_type": "stream",
     "text": [
      "Current ELBO: -606434.1933255133\n",
      "\n",
      "\n",
      "Iteration: 2\n"
     ]
    },
    {
     "name": "stderr",
     "output_type": "stream",
     "text": [
      "Updating PHI and GAMMA: 100%|██████████| 2246/2246 [00:12<00:00, 186.14it/s]\n",
      "Updating LAMBDA: 100%|██████████| 2246/2246 [00:00<00:00, 11940.86it/s]\n"
     ]
    },
    {
     "name": "stdout",
     "output_type": "stream",
     "text": [
      "Current ELBO: -154579.04966242798\n",
      "\n",
      "\n",
      "Iteration: 3\n"
     ]
    },
    {
     "name": "stderr",
     "output_type": "stream",
     "text": [
      "Updating PHI and GAMMA: 100%|██████████| 2246/2246 [00:12<00:00, 186.60it/s]\n",
      "Updating LAMBDA: 100%|██████████| 2246/2246 [00:00<00:00, 8651.17it/s]\n"
     ]
    },
    {
     "name": "stdout",
     "output_type": "stream",
     "text": [
      "Current ELBO: 160297.01411479083\n",
      "\n",
      "\n",
      "Iteration: 4\n"
     ]
    },
    {
     "name": "stderr",
     "output_type": "stream",
     "text": [
      "Updating PHI and GAMMA:  71%|███████   | 1588/2246 [00:08<00:03, 181.95it/s]\n"
     ]
    },
    {
     "ename": "KeyboardInterrupt",
     "evalue": "",
     "output_type": "error",
     "traceback": [
      "\u001b[1;31m---------------------------------------------------------------------------\u001b[0m",
      "\u001b[1;31mKeyboardInterrupt\u001b[0m                         Traceback (most recent call last)",
      "Cell \u001b[1;32mIn[507], line 18\u001b[0m\n\u001b[0;32m     16\u001b[0m \u001b[38;5;28;01mwhile\u001b[39;00m iteration \u001b[38;5;241m<\u001b[39m\u001b[38;5;241m=\u001b[39m max_iterations:\n\u001b[0;32m     17\u001b[0m     \u001b[38;5;28mprint\u001b[39m(\u001b[38;5;124mf\u001b[39m\u001b[38;5;124m\"\u001b[39m\u001b[38;5;124mIteration: \u001b[39m\u001b[38;5;132;01m{\u001b[39;00miteration\u001b[38;5;132;01m}\u001b[39;00m\u001b[38;5;124m\"\u001b[39m)\n\u001b[1;32m---> 18\u001b[0m     LAMBDA, GAMMA, PHI \u001b[38;5;241m=\u001b[39m \u001b[43mupdate_variational_params\u001b[49m\u001b[43m(\u001b[49m\u001b[43mLAMBDA\u001b[49m\u001b[38;5;241;43m=\u001b[39;49m\u001b[43mLAMBDA\u001b[49m\u001b[43m,\u001b[49m\u001b[43m \u001b[49m\u001b[43mGAMMA\u001b[49m\u001b[38;5;241;43m=\u001b[39;49m\u001b[43mGAMMA\u001b[49m\u001b[43m,\u001b[49m\u001b[43m \u001b[49m\u001b[43mPHI\u001b[49m\u001b[38;5;241;43m=\u001b[39;49m\u001b[43mPHI\u001b[49m\u001b[43m,\u001b[49m\u001b[43m \u001b[49m\u001b[43mcorpus_mat\u001b[49m\u001b[38;5;241;43m=\u001b[39;49m\u001b[43mcorpus_matrix\u001b[49m\u001b[43m,\u001b[49m\u001b[43m \u001b[49m\u001b[43mK\u001b[49m\u001b[38;5;241;43m=\u001b[39;49m\u001b[43mK\u001b[49m\u001b[43m,\u001b[49m\u001b[43m \u001b[49m\u001b[43mV\u001b[49m\u001b[38;5;241;43m=\u001b[39;49m\u001b[43mV\u001b[49m\u001b[43m)\u001b[49m\n\u001b[0;32m     19\u001b[0m     prev_ELBO \u001b[38;5;241m=\u001b[39m curr_ELBO\n\u001b[0;32m     20\u001b[0m     curr_ELBO \u001b[38;5;241m=\u001b[39m compute_ELBO(LAMBDA\u001b[38;5;241m=\u001b[39mLAMBDA, GAMMA\u001b[38;5;241m=\u001b[39mGAMMA, PHI\u001b[38;5;241m=\u001b[39mPHI, corpus_mat\u001b[38;5;241m=\u001b[39mcorpus_matrix)\n",
      "Cell \u001b[1;32mIn[503], line 62\u001b[0m, in \u001b[0;36mupdate_variational_params\u001b[1;34m(LAMBDA, GAMMA, PHI, corpus_mat, K, V)\u001b[0m\n\u001b[0;32m     59\u001b[0m     x_ij \u001b[38;5;241m=\u001b[39m corpus_mat[i][j]\n\u001b[0;32m     60\u001b[0m     exp_propto \u001b[38;5;241m=\u001b[39m digamma(LAMBDA[:, x_ij]) \u001b[38;5;241m-\u001b[39m digamma(np\u001b[38;5;241m.\u001b[39msum(LAMBDA[:, x_ij])) \\\n\u001b[0;32m     61\u001b[0m         \u001b[38;5;241m+\u001b[39m digamma(GAMMA[i]) \u001b[38;5;241m-\u001b[39m digamma(np\u001b[38;5;241m.\u001b[39msum(GAMMA[i]))\n\u001b[1;32m---> 62\u001b[0m     PHI[i][j] \u001b[38;5;241m=\u001b[39m np\u001b[38;5;241m.\u001b[39mexp(exp_propto \u001b[38;5;241m-\u001b[39m \u001b[43mlog_sum_exp\u001b[49m\u001b[43m(\u001b[49m\u001b[43mexp_propto\u001b[49m\u001b[43m)\u001b[49m)\n\u001b[0;32m     64\u001b[0m \u001b[38;5;28;01mfor\u001b[39;00m k \u001b[38;5;129;01min\u001b[39;00m \u001b[38;5;28mrange\u001b[39m(K):\n\u001b[0;32m     65\u001b[0m     GAMMA[i, k] \u001b[38;5;241m=\u001b[39m ALPHA \u001b[38;5;241m+\u001b[39m np\u001b[38;5;241m.\u001b[39msum(PHI[i][:, k])\n",
      "Cell \u001b[1;32mIn[117], line 120\u001b[0m, in \u001b[0;36mlog_sum_exp\u001b[1;34m(vec)\u001b[0m\n\u001b[0;32m    118\u001b[0m \u001b[38;5;28;01mdef\u001b[39;00m \u001b[38;5;21mlog_sum_exp\u001b[39m(vec):\n\u001b[0;32m    119\u001b[0m     a \u001b[38;5;241m=\u001b[39m np\u001b[38;5;241m.\u001b[39mmax(vec, axis\u001b[38;5;241m=\u001b[39m\u001b[38;5;241m0\u001b[39m)\n\u001b[1;32m--> 120\u001b[0m     log_sum_exp \u001b[38;5;241m=\u001b[39m np\u001b[38;5;241m.\u001b[39mlog(\u001b[43mnp\u001b[49m\u001b[38;5;241;43m.\u001b[39;49m\u001b[43msum\u001b[49m\u001b[43m(\u001b[49m\u001b[43mnp\u001b[49m\u001b[38;5;241;43m.\u001b[39;49m\u001b[43mexp\u001b[49m\u001b[43m(\u001b[49m\u001b[43mvec\u001b[49m\u001b[43m \u001b[49m\u001b[38;5;241;43m-\u001b[39;49m\u001b[43m \u001b[49m\u001b[43ma\u001b[49m\u001b[43m)\u001b[49m\u001b[43m)\u001b[49m) \u001b[38;5;241m+\u001b[39m a\n\u001b[0;32m    122\u001b[0m     \u001b[38;5;28;01mreturn\u001b[39;00m log_sum_exp\n",
      "\u001b[1;31mKeyboardInterrupt\u001b[0m: "
     ]
    }
   ],
   "source": [
    "K = 30\n",
    "V = len(vocab)\n",
    "ETA = 1 / V\n",
    "ALPHA = 0.5\n",
    "\n",
    "tol = 10\n",
    "iteration = 1\n",
    "max_iterations = 500\n",
    "curr_ELBO = 0\n",
    "prev_ELBO = 301\n",
    "ELBOs = []\n",
    "\n",
    "start = time.time()\n",
    "LAMBDA, GAMMA, PHI = init_variational_params(corpus_mat=corpus_matrix, K=K, V=V)\n",
    "ELBOs.append(compute_ELBO(LAMBDA=LAMBDA, GAMMA=GAMMA, PHI=PHI, corpus_mat=corpus_matrix))\n",
    "while iteration <= max_iterations:\n",
    "    print(f\"Iteration: {iteration}\")\n",
    "    LAMBDA, GAMMA, PHI = update_variational_params(LAMBDA=LAMBDA, GAMMA=GAMMA, PHI=PHI, corpus_mat=corpus_matrix, K=K, V=V)\n",
    "    prev_ELBO = curr_ELBO\n",
    "    curr_ELBO = compute_ELBO(LAMBDA=LAMBDA, GAMMA=GAMMA, PHI=PHI, corpus_mat=corpus_matrix)\n",
    "    print(f\"Current ELBO: {curr_ELBO}\")\n",
    "    ELBOs.append(curr_ELBO)\n",
    "\n",
    "    if np.abs(curr_ELBO - prev_ELBO) <= tol:\n",
    "        break\n",
    "\n",
    "    iteration += 1\n",
    "    print(\"\\n\")\n",
    "\n",
    "stop = time.time()\n",
    "plt.xlabel(\"Seconds\")\n",
    "plt.ylabel(\"ELBO\")\n",
    "plt.ticklabel_format(style=\"sci\", axis=\"y\", scilimits=(0, 0))\n",
    "plt.plot(np.linspace(0, float(stop-start), len(ELBOs)), ELBOs)"
   ]
  },
  {
   "cell_type": "code",
   "execution_count": 498,
   "metadata": {},
   "outputs": [],
   "source": [
    "import pandas as pd\n",
    "time_iter = np.linspace(0, float(stop-start), len(ELBOs))\n",
    "ELBOs = np.asarray(ELBOs)\n",
    "data = {\n",
    "    \"time_iter\": time_iter,\n",
    "    \"ELBO\": ELBOs\n",
    "}\n",
    "ELBO_per_time_iter = pd.DataFrame(data=data)\n",
    "ELBO_per_time_iter.to_csv(\"ELBO_per_time_iter.csv\", index=False)"
   ]
  },
  {
   "cell_type": "code",
   "execution_count": null,
   "metadata": {},
   "outputs": [],
   "source": [
    "time_iter = np.linspace(0, float(stop-start), len(ELBOs))\n",
    "ELBOs = np.asarray(ELBOs)\n",
    "data = {\n",
    "    \"time_iter\": time_iter,\n",
    "    \"ELBO\": ELBOs\n",
    "}\n",
    "ELBO_per_time_iter = pd.DataFrame(data=data)\n",
    "ELBO_per_time_iter.to_csv(\"ELBO_V_10000.csv\", index=False)\n",
    "\n",
    "word_topic_probs = LAMBDA / LAMBDA.sum(axis=1, keepdims=True)\n",
    "top_words = {}\n",
    "for k in range(word_topic_probs.shape[0]):\n",
    "    top_idxs = np.argsort(word_topic_probs[k, :])[-10:][::-1]\n",
    "    top_words[k] = [vocab[v] for v in top_idxs]\n",
    "\n",
    "formatted_text = \"Top 10 Words for Each Topic:\\n\\n\"\n",
    "for topic, words in top_words.items():\n",
    "    formatted_text += f\"Topic {topic + 1}: \"\n",
    "    formatted_text += \", \".join(words) + \"\\n\\n\"\n",
    "\n",
    "print(formatted_text)"
   ]
  },
  {
   "cell_type": "code",
   "execution_count": 550,
   "metadata": {},
   "outputs": [
    {
     "data": {
      "text/plain": [
       "[<matplotlib.lines.Line2D at 0x21bf7a14690>]"
      ]
     },
     "execution_count": 550,
     "metadata": {},
     "output_type": "execute_result"
    },
    {
     "data": {
      "image/png": "[encoded data removed]",
      "text/plain": [
       "<Figure size 640x480 with 1 Axes>"
      ]
     },
     "metadata": {},
     "output_type": "display_data"
    }
   ],
   "source": [
    "full_vocab_ELBOs = pd.read_csv(\"ELBOs_full_vocab.csv\")\n",
    "plt.plot(full_vocab_ELBOs[\"time_iter\"], full_vocab_ELBOs[\"ELBO\"])"
   ]
  }
 ],
 "metadata": {
  "kernelspec": {
   "display_name": "ht",
   "language": "python",
   "name": "python3"
  },
  "language_info": {
   "codemirror_mode": {
    "name": "ipython",
    "version": 3
   },
   "file_extension": ".py",
   "mimetype": "text/x-python",
   "name": "python",
   "nbconvert_exporter": "python",
   "pygments_lexer": "ipython3",
   "version": "3.13.0"
  }
 },
 "nbformat": 4,
 "nbformat_minor": 2
}
