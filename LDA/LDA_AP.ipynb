{
 "cells": [
  {
   "cell_type": "code",
   "execution_count": 117,
   "metadata": {},
   "outputs": [],
   "source": [
    "import os\n",
    "import time\n",
    "import numpy as np\n",
    "import numpy.random as npr\n",
    "import re\n",
    "import nltk\n",
    "import matplotlib.pyplot as plt\n",
    "import pandas as pd\n",
    "from nltk.corpus import stopwords\n",
    "from nltk.tokenize import word_tokenize\n",
    "from collections import Counter\n",
    "from tqdm import tqdm\n",
    "from scipy.special import digamma, loggamma\n",
    "\n",
    "assert os.path.exists(\"/Users/daany/Downloads/HT/LDA/ap.txt\") and os.path.exists(\"/Users/daany/Downloads/HT/LDA/vocab.txt\")\n",
    "\n",
    "with open(\"vocab.txt\", \"r\") as f:\n",
    "    vocab = set(f.read().splitlines())\n",
    "\n",
    "with open(\"ap.txt\", \"r\") as f:\n",
    "    raw_text = f.read()\n",
    "\n",
    "texts = re.findall(r\"<TEXT>(.*?)</TEXT>\", raw_text, re.DOTALL)\n",
    "stop_words = set(stopwords.words(\"english\"))\n",
    "documents = []\n",
    "\n",
    "for text in texts:\n",
    "    tokens = word_tokenize(text.lower())\n",
    "    tokens = [word for word in tokens if word.isalpha() and word not in stop_words and word in vocab]\n",
    "    documents.append(tokens)\n",
    "\n",
    "N = len(documents)\n",
    "V = len(vocab)\n",
    "\n",
    "doc_term_matrix = np.zeros((N, V))\n",
    "vocab_to_index = {word: i for i, word in enumerate(vocab)}\n",
    "\n",
    "for doc_idx, tokens in enumerate(documents):\n",
    "    token_counts = Counter(tokens)\n",
    "    for token, count in token_counts.items():\n",
    "        if token in vocab_to_index:\n",
    "            term_idx = vocab_to_index[token]\n",
    "            doc_term_matrix[doc_idx, term_idx] = count\n",
    "\n",
    "nonzero_idxs = []\n",
    "for doc in doc_term_matrix:\n",
    "    nonzero_idx = np.where(doc > 0)[0]\n",
    "    nonzero_idxs.append(sorted(nonzero_idx))\n",
    "\n",
    "ETA = 1 / V\n",
    "ALPHA = 0.5\n",
    "K = 30 \n",
    "\n",
    "def init_variational_params(doc_term_matrix, K, rand_state=0):\n",
    "    N, V = doc_term_matrix.shape # N is number of documents\n",
    "    # rs = npr.RandomState(rand_state)\n",
    "    # LAMBDA = rs.random(size=(K, V)) + 0.001\n",
    "    LAMBDA = np.random.uniform(low=0.01, high=1.00, size=(K, V))\n",
    "    GAMMA = np.ones((N, K))\n",
    "    PHI = []\n",
    "    for doc in doc_term_matrix:\n",
    "        num_words_per_doc = np.sum((doc > 0).astype(\"int32\"))\n",
    "        doc_PHI = np.ones((num_words_per_doc, K))\n",
    "        doc_PHI = doc_PHI / K\n",
    "        PHI.append(doc_PHI)\n",
    "\n",
    "    return LAMBDA, GAMMA, PHI\n",
    "\n",
    "def compute_ELBO(LAMBDA, GAMMA, PHI, doc_term_matrix, nonzero_idxs, K):\n",
    "    N, V = doc_term_matrix.shape\n",
    "    ELBO = 0\n",
    "\n",
    "    E_log_p_BETA = 0\n",
    "    for k in range(K):\n",
    "        E_log_p_BETA += (ETA - 1) * np.sum(digamma(LAMBDA[k]) - digamma(np.sum(LAMBDA[k])))\n",
    "    ELBO += E_log_p_BETA\n",
    "\n",
    "    E_log_p_THETA = 0\n",
    "    for i in range(N):\n",
    "        E_log_p_THETA += (ALPHA - 1) * np.sum(digamma(GAMMA[i]) - digamma(np.sum(GAMMA[i])))\n",
    "    ELBO += E_log_p_THETA\n",
    "\n",
    "    E_q_log_p_z_x = 0\n",
    "    for i in range(N):\n",
    "        doc = doc_term_matrix[i]\n",
    "        nonzero_idx = nonzero_idxs[i]\n",
    "        corr_idx = 0\n",
    "        for idx in nonzero_idx:\n",
    "            E_q_log_p_z_x += doc[idx] * np.sum(PHI[i][corr_idx] * (digamma(GAMMA[i]) - digamma(np.sum(GAMMA[i])))) \\\n",
    "                + doc[idx] * np.sum(PHI[i][corr_idx] * (digamma(LAMBDA[:, idx]) - digamma(np.sum(LAMBDA, axis=1))))\n",
    "            corr_idx += 1\n",
    "    ELBO += E_q_log_p_z_x\n",
    "\n",
    "    E_log_q_BETA = 0\n",
    "    for k in range(K):\n",
    "        E_log_q_BETA += -loggamma(np.sum(LAMBDA[k])) + np.sum(loggamma(LAMBDA[k])) \\\n",
    "            - np.sum((LAMBDA[k] - 1) * (digamma(LAMBDA[k]) - digamma(np.sum(LAMBDA[k]))))\n",
    "    ELBO += E_log_q_BETA\n",
    "\n",
    "    E_log_q_THETA = 0\n",
    "    for i in range(N):\n",
    "        E_log_q_THETA += -loggamma(np.sum(GAMMA[i])) + np.sum(loggamma(GAMMA[i])) \\\n",
    "            - np.sum((GAMMA[i] - 1) * (digamma(GAMMA[i]) - digamma(np.sum(GAMMA[i]))))\n",
    "    ELBO += E_log_q_THETA\n",
    "\n",
    "    E_q_log_z = 0\n",
    "    for i in range(N):\n",
    "        doc = doc_term_matrix[i]\n",
    "        nonzero_idx = nonzero_idxs[i]\n",
    "        corr_idx = 0\n",
    "        for idx in nonzero_idx:\n",
    "            E_q_log_z += -doc[idx] * np.sum(PHI[i][corr_idx] * np.log(PHI[i][corr_idx]))\n",
    "            corr_idx += 1\n",
    "    ELBO += E_q_log_z\n",
    "\n",
    "    return ELBO\n",
    "\n",
    "def log_sum_exp(vec):\n",
    "    a = np.max(vec, axis=0)\n",
    "    log_sum_exp = np.log(np.sum(np.exp(vec - a))) + a\n",
    "\n",
    "    return log_sum_exp\n",
    "\n",
    "def update_variational_params(LAMBDA, GAMMA, PHI, doc_term_matrix, nonzero_idxs, K):\n",
    "    N, V = doc_term_matrix.shape\n",
    "\n",
    "    print(\"Updating PHI and GAMMA\")\n",
    "    for i in tqdm(range(N)):\n",
    "        doc = doc_term_matrix[i]\n",
    "        nonzero_idx = nonzero_idxs[i]\n",
    "        corr_idx = 0\n",
    "        for idx in nonzero_idx:\n",
    "            log_PHI_ij = np.zeros((K, ))\n",
    "            for k in range(K):\n",
    "                exponent = digamma(GAMMA[i][k]) - digamma(np.sum(GAMMA[i])) \\\n",
    "                    + digamma(LAMBDA[k][idx]) - digamma(np.sum(LAMBDA[k]))\n",
    "                log_PHI_ij[k] = exponent\n",
    "            PHI_ij = np.exp(log_PHI_ij - log_sum_exp(log_PHI_ij))\n",
    "            PHI[i][corr_idx] = PHI_ij\n",
    "            corr_idx += 1\n",
    "\n",
    "        GAMMA_i = np.zeros((K, )) + ALPHA\n",
    "        for k in range(K):\n",
    "            GAMMA_i[k] += np.sum(doc[nonzero_idx] * PHI[i][:, k])\n",
    "        GAMMA[i] = GAMMA_i\n",
    "\n",
    "    print(\"Updating LAMBDA\")\n",
    "    for k in tqdm(range(K)):\n",
    "        LAMBDA_k = np.zeros((V, )) + ETA\n",
    "        for i in range(N):\n",
    "            doc = doc_term_matrix[i]\n",
    "            nonzero_idx = nonzero_idxs[i]\n",
    "            corr_idx = 0\n",
    "            for idx in nonzero_idx:\n",
    "                LAMBDA_k[idx] += PHI[i][corr_idx][k]\n",
    "                corr_idx += 1\n",
    "        LAMBDA[k] = LAMBDA_k\n",
    "\n",
    "    return LAMBDA, GAMMA, PHI"
   ]
  },
  {
   "cell_type": "code",
   "execution_count": 134,
   "metadata": {},
   "outputs": [],
   "source": [
    "with open(\"ap.txt\", \"r\") as file:\n",
    "    raw_text = file.read()\n",
    "documents = re.findall(r\"<TEXT>(.*?)</TEXT>\", raw_text, re.DOTALL)\n",
    "documents = [doc.strip().replace(\"\\n\", \" \") for doc in documents]\n",
    "\n",
    "with open(\"vocab.txt\", \"r\") as file:\n",
    "    vocab = [line.strip() for line in file]\n",
    "vocab_to_idx = {word: idx for idx, word in enumerate(vocab)}\n",
    "\n",
    "stop_words = set(stopwords.words(\"english\"))\n",
    "corpus_matrix = []\n",
    "for doc in documents:\n",
    "    tokens = word_tokenize(doc.lower())\n",
    "    filtered_tokens = [word for word in tokens if word.isalpha() and word not in stop_words]\n",
    "    word_idxs = [vocab_to_idx[word] for word in filtered_tokens if word in vocab_to_idx]\n",
    "    corpus_matrix.append(word_idxs)"
   ]
  },
  {
   "cell_type": "code",
   "execution_count": 472,
   "metadata": {},
   "outputs": [],
   "source": [
    "def init_variational_params(corpus_matrix, K, V):\n",
    "    N = len(corpus_matrix)\n",
    "    LAMBDA = np.random.uniform(low=0.01, high=1.00, size=(K, V))\n",
    "    GAMMA = np.ones((N, K))\n",
    "    PHI = []\n",
    "    for doc in corpus_matrix:\n",
    "        doc = np.asarray(doc)\n",
    "        num_words_per_doc = np.sum((doc > 0).astype(\"int32\"))\n",
    "        doc_PHI = np.ones((num_words_per_doc, K))\n",
    "        doc_PHI = doc_PHI / K\n",
    "        PHI.append(doc_PHI)\n",
    "\n",
    "    return LAMBDA, GAMMA, PHI\n",
    "\n",
    "def compute_ELBO(LAMBDA, GAMMA, PHI, corpus_matrix, K):\n",
    "    N = len(corpus_matrix)\n",
    "    ELBO = 0\n",
    "\n",
    "    E_log_p_BETA = 0\n",
    "    for k in range(K):\n",
    "        E_log_p_BETA += (ETA - 1) * np.sum(digamma(LAMBDA[k]) - digamma(np.sum(LAMBDA[k])))\n",
    "    ELBO += E_log_p_BETA\n",
    "\n",
    "    E_log_p_THETA = 0\n",
    "    for i in range(N):\n",
    "        E_log_p_THETA += (ALPHA - 1) * np.sum(digamma(GAMMA[i]) - digamma(np.sum(GAMMA[i])))\n",
    "    ELBO += E_log_p_THETA\n",
    "\n",
    "    E_log_p_z_x = 0\n",
    "    for i in range(N):\n",
    "        M = len(corpus_matrix[i])\n",
    "        for j in range(M):\n",
    "            x_ij = corpus_matrix[i][j]\n",
    "            E_log_p_z_x += np.sum(PHI[i][j] * (digamma(GAMMA[i]) - digamma(np.sum(GAMMA[i])))) \\\n",
    "                + np.sum(PHI[i][j] * (digamma(LAMBDA[:, x_ij]) - digamma(np.sum(LAMBDA[:, x_ij]))))\n",
    "    ELBO += E_log_p_z_x\n",
    "\n",
    "    E_q_log_BETA = 0\n",
    "    for k in range(K):\n",
    "        E_q_log_BETA += -loggamma(np.sum(LAMBDA[k])) + np.sum(loggamma(LAMBDA[k])) \\\n",
    "            - np.sum((LAMBDA[k] - 1) * (digamma(LAMBDA[k]) - digamma(np.sum(LAMBDA[k]))))\n",
    "    ELBO += E_q_log_BETA\n",
    "\n",
    "    E_q_log_THETA = 0\n",
    "    for i in range(N):\n",
    "        E_q_log_THETA += -loggamma(np.sum(GAMMA[i])) + np.sum(loggamma(GAMMA[i])) \\\n",
    "            - np.sum((GAMMA[i] - 1) * (digamma(GAMMA[i]) - digamma(np.sum(GAMMA[i]))))\n",
    "    ELBO += E_q_log_THETA\n",
    "\n",
    "    E_log_q_z = 0\n",
    "    for i in range(N):\n",
    "        M = len(corpus_matrix[i])\n",
    "        for j in range(M):\n",
    "            E_log_q_z += -np.sum(PHI[i][j] * np.log(PHI[i][j]))\n",
    "    ELBO += E_log_q_z\n",
    "\n",
    "    return ELBO\n",
    "\n",
    "def update_variational_params(LAMBDA, GAMMA, PHI, corpus_matrix, K):\n",
    "    for i in tqdm(range(N), desc=\"Updating PHI and GAMMA\"):\n",
    "        M = len(corpus_matrix[i])\n",
    "        for j in range(M):\n",
    "            x_ij = corpus_matrix[i][j]\n",
    "            exp_propto = digamma(LAMBDA[:, x_ij]) - digamma(np.sum(LAMBDA[:, x_ij])) \\\n",
    "                + digamma(GAMMA[i]) - digamma(np.sum(GAMMA[i]))\n",
    "            PHI[i][j] = np.exp(exp_propto - log_sum_exp(exp_propto))\n",
    "\n",
    "        for k in range(K):\n",
    "            GAMMA[i, k] = ALPHA + np.sum(PHI[i][:, k])\n",
    "\n",
    "    for i, doc in enumerate(tqdm(corpus_matrix, desc=\"Updating LAMBDA\")):\n",
    "        PHI_doc = PHI[i]\n",
    "        for j, word in enumerate(doc):\n",
    "            LAMBDA[:, word] += PHI_doc[j, :]\n",
    "\n",
    "    ETA_matrix = np.full((K, V), ETA)\n",
    "    LAMBDA = LAMBDA + ETA_matrix\n",
    "\n",
    "    return LAMBDA, GAMMA, PHI"
   ]
  },
  {
   "cell_type": "code",
   "execution_count": 272,
   "metadata": {},
   "outputs": [
    {
     "data": {
      "text/plain": [
       "{0: ['party', 'court', 'percent', 'police', 'gorbachev', 'states', 'two'],\n",
       " 1: ['percent', 'new', 'two', 'company', 'president', 'york', 'time'],\n",
       " 2: ['soviet', 'state', 'million', 'first', 'new', 'department', 'government'],\n",
       " 3: ['year', 'today', 'york', 'says', 'spokesman', 'monday', 'market'],\n",
       " 4: ['new', 'time', 'united', 'million', 'soviet', 'world', 'told'],\n",
       " 5: ['year', 'million', 'years', 'today', 'two', 'dukakis', 'house'],\n",
       " 6: ['united', 'bush', 'president', 'states', 'soviet', 'reagan', 'national'],\n",
       " 7: ['percent', 'new', 'people', 'million', 'year', 'two', 'government'],\n",
       " 8: ['last', 'state', 'two', 'year', 'officials', 'government', 'first'],\n",
       " 9: ['party', 'united', 'defense', 'case', 'expected', 'day', 'money'],\n",
       " 10: ['cdy', 'clr', 'rn', 'company', 'million', 'first', 'two'],\n",
       " 11: ['percent', 'time', 'bush', 'billion', 'friday', 'police', 'million'],\n",
       " 12: ['people', 'officials', 'percent', 'years', 'today', 'back', 'american'],\n",
       " 13: ['new', 'year', 'national', 'friday', 'government', 'people', 'two'],\n",
       " 14: ['year', 'people', 'million', 'soviet', 'time', 'new', 'bush'],\n",
       " 15: ['new',\n",
       "  'president',\n",
       "  'million',\n",
       "  'city',\n",
       "  'explaining',\n",
       "  'percent',\n",
       "  'soviet'],\n",
       " 16: ['united', 'million', 'two', 'officials', 'bush', 'iraq', 'state'],\n",
       " 17: ['percent', 'president', 'two', 'week', 'first', 'new', 'government'],\n",
       " 18: ['two', 'house', 'back', 'government', 'friday', 'police', 'dukakis'],\n",
       " 19: ['new', 'president', 'bush', 'government', 'tuesday', 'court', 'monday'],\n",
       " 20: ['kentucky', 'president', 'year', 'people', 'bush', 'court', 'market'],\n",
       " 21: ['state', 'million', 'time', 'years', 'world', 'american', 'back'],\n",
       " 22: ['measures', 'signs', 'time', 'tuesday', 'million', 'air', 'power'],\n",
       " 23: ['shuttle', 'mcdermott', 'police', 'people', 'soviet', 'years', 'first'],\n",
       " 24: ['police', 'treatment', 'aoun', 'year', 'today', 'last', 'united'],\n",
       " 25: ['people', 'state', 'last', 'president', 'money', 'party', 'today'],\n",
       " 26: ['soviet', 'time', 'say', 'military', 'air', 'united', 'decision'],\n",
       " 27: ['brando', 'police', 'time', 'soviet', 'canning', 'city', 'government'],\n",
       " 28: ['trade', 'time', 'party', 'new', 'two', 'soviet', 'committee'],\n",
       " 29: ['today', 'billion', 'spokesman', 'told', 'market', 'state', 'news']}"
      ]
     },
     "execution_count": 272,
     "metadata": {},
     "output_type": "execute_result"
    }
   ],
   "source": [
    "word_topic_probs = LAMBDA / LAMBDA.sum(axis=1, keepdims=True)\n",
    "top_words = {}\n",
    "for k in range(word_topic_probs.shape[0]):\n",
    "    top_idxs = np.argsort(word_topic_probs[k, :])[-7:][::-1]\n",
    "    top_words[k] = [vocab[v] for v in top_idxs]\n",
    "\n",
    "top_words"
   ]
  },
  {
   "cell_type": "code",
   "execution_count": 374,
   "metadata": {},
   "outputs": [],
   "source": [
    "with open(\"ap.txt\", \"r\") as file:\n",
    "    raw_text = file.read()\n",
    "documents = re.findall(r\"<TEXT>(.*?)</TEXT>\", raw_text, re.DOTALL)\n",
    "documents = [doc.strip().replace(\"\\n\", \" \") for doc in documents]\n",
    "stop_words = set(stopwords.words(\"english\"))\n",
    "word_counts = Counter()\n",
    "tokenized_documents = []\n",
    "\n",
    "for doc in documents:\n",
    "    tokens = word_tokenize(doc.lower())\n",
    "    filtered_tokens = [word for word in tokens if word.isalpha() and word \\\n",
    "                       not in stop_words]\n",
    "    tokenized_documents.append(filtered_tokens)\n",
    "    word_counts.update(filtered_tokens)\n",
    "\n",
    "reduced_vocab = [word for word, _ in word_counts.most_common(1000)]\n",
    "vocab_to_idx = {word: idx for idx, word in enumerate(reduced_vocab)}\n",
    "reduced_corpus_matrix = []\n",
    "for tokens in tokenized_documents:\n",
    "    reduced_doc = [vocab_to_idx[word] for word in tokens if \\\n",
    "                   word in vocab_to_idx]\n",
    "    if reduced_doc:\n",
    "        reduced_corpus_matrix.append(reduced_doc)"
   ]
  },
  {
   "cell_type": "code",
   "execution_count": null,
   "metadata": {},
   "outputs": [],
   "source": [
    "def init_variational_params(corpus_mat, K, V):\n",
    "    N = len(corpus_mat)\n",
    "    LAMBDA = np.random.uniform(low=0.01, high=1.00, size=(K, V))\n",
    "    GAMMA = np.ones((N, K))\n",
    "    PHI = [np.ones((len(doc), K)) / K for doc in corpus_mat]\n",
    "\n",
    "    return LAMBDA, GAMMA, PHI\n",
    "\n",
    "def compute_ELBO(LAMBDA, GAMMA, PHI, corpus_mat):\n",
    "    N = len(corpus_mat)\n",
    "    ELBO = 0\n",
    "\n",
    "    E_log_p_BETA = np.sum(\n",
    "        (ETA-1) * (digamma(LAMBDA) - digamma(np.sum(LAMBDA, axis=1, keepdims=True)))\n",
    "        )\n",
    "    ELBO += E_log_p_BETA\n",
    "\n",
    "    E_log_p_THETA = np.sum(\n",
    "        (ALPHA-1) * (digamma(GAMMA) - digamma(np.sum(GAMMA, axis=1, keepdims=True)))\n",
    "    )\n",
    "    ELBO += E_log_p_THETA\n",
    "\n",
    "    E_log_p_z_x = 0\n",
    "    for i in range(N):\n",
    "        M = len(corpus_mat[i])\n",
    "        for j in range(M):\n",
    "            x_ij = corpus_mat[i][j]\n",
    "            E_log_p_z_x += np.sum(PHI[i][j] * (digamma(GAMMA[i]) - digamma(np.sum(GAMMA[i])))) \\\n",
    "                + np.sum(PHI[i][j] * (digamma(LAMBDA[:, x_ij]) - digamma(np.sum(LAMBDA[:, x_ij]))))\n",
    "    ELBO += E_log_p_z_x\n",
    "\n",
    "    E_q_log_BETA = np.sum(\n",
    "        -loggamma(np.sum(LAMBDA, axis=1)) + np.sum(loggamma(LAMBDA), axis=1) \\\n",
    "            - np.sum((LAMBDA - 1) * (digamma(LAMBDA) - digamma(np.sum(LAMBDA, axis=1, keepdims=True))), axis=1)\n",
    "    )\n",
    "    ELBO += E_q_log_BETA\n",
    "\n",
    "    E_q_log_THETA = np.sum(\n",
    "        -loggamma(np.sum(GAMMA, axis=1)) + np.sum(loggamma(GAMMA), axis=1) \\\n",
    "        - np.sum((GAMMA - 1) * (digamma(GAMMA) - digamma(np.sum(GAMMA, axis=1, keepdims=True))), axis=1)\n",
    "    )\n",
    "    ELBO += E_q_log_THETA\n",
    "\n",
    "    E_log_q_z = 0\n",
    "    for i, doc in enumerate(corpus_mat):\n",
    "        for j, x_ij in enumerate(doc):  # x_ij is the word index\n",
    "            # PHI_nonzero = PHI[i][j][PHI[i][j] > 0]\n",
    "            E_log_q_z += -np.sum(PHI[i][j] * np.log(PHI[i][j] + 1e-10))\n",
    "    ELBO += E_log_q_z\n",
    "\n",
    "    return ELBO\n",
    "\n",
    "def update_variational_params(LAMBDA, GAMMA, PHI, corpus_mat, K, V):\n",
    "    N= len(corpus_mat)\n",
    "    for i in tqdm(range(N), desc=\"Updating PHI and GAMMA\"):\n",
    "    # for i in range(N):\n",
    "        M = len(corpus_mat[i])\n",
    "        for j in range(M):\n",
    "            x_ij = corpus_mat[i][j]\n",
    "            exp_propto = digamma(LAMBDA[:, x_ij]) - digamma(np.sum(LAMBDA[:, x_ij])) \\\n",
    "                + digamma(GAMMA[i]) - digamma(np.sum(GAMMA[i]))\n",
    "            PHI[i][j] = np.exp(exp_propto - log_sum_exp(exp_propto))\n",
    "\n",
    "        for k in range(K):\n",
    "            GAMMA[i, k] = ALPHA + np.sum(PHI[i][:, k])\n",
    "\n",
    "    LAMBDA = np.full((K, V), ETA)\n",
    "    for i, doc in enumerate(tqdm(corpus_mat, desc=\"Updating LAMBDA\")):\n",
    "    # for i, doc in enumerate(corpus_mat):\n",
    "        doc_word_idxs = np.array(doc)\n",
    "        for k in range(K):\n",
    "            np.add.at(LAMBDA[k], doc_word_idxs, PHI[i][:, k])\n",
    "\n",
    "    return LAMBDA, GAMMA, PHI"
   ]
  },
  {
   "cell_type": "code",
   "execution_count": null,
   "metadata": {},
   "outputs": [],
   "source": [
    "K = 30\n",
    "V = len(reduced_vocab)\n",
    "ETA = 1 / V\n",
    "ALPHA = 0.5\n",
    "\n",
    "tol = 1e-2\n",
    "iteration = 1\n",
    "max_iterations = 100\n",
    "curr_ELBO = 0\n",
    "prev_ELBO = 301\n",
    "ELBOs = []\n",
    "\n",
    "start = time.time()\n",
    "LAMBDA, GAMMA, PHI = init_variational_params(corpus_mat=reduced_corpus_matrix, K=30, V=len(reduced_vocab))\n",
    "ELBOs.append(compute_ELBO(LAMBDA=LAMBDA, GAMMA=GAMMA, PHI=PHI, corpus_mat=reduced_corpus_matrix))\n",
    "while iteration <= max_iterations:\n",
    "    LAMBDA, GAMMA, PHI = update_variational_params(LAMBDA=LAMBDA, GAMMA=GAMMA, PHI=PHI, corpus_mat=reduced_corpus_matrix, K=30, V=len(reduced_vocab))\n",
    "    prev_ELBO = curr_ELBO\n",
    "    curr_ELBO = compute_ELBO(LAMBDA=LAMBDA, GAMMA=GAMMA, PHI=PHI, corpus_mat=reduced_corpus_matrix)\n",
    "    print(f\"Current ELBO: {curr_ELBO}\")\n",
    "    ELBOs.append(curr_ELBO)\n",
    "\n",
    "    if np.abs(curr_ELBO - prev_ELBO) <= tol:\n",
    "        break\n",
    "\n",
    "    iteration += 1\n",
    "    print(\"\\n\")\n",
    "\n",
    "stop = time.time()\n",
    "plt.xlabel(\"Seconds\")\n",
    "plt.ylabel(\"ELBO\")\n",
    "plt.ticklabel_format(style=\"sci\", axis=\"y\", scilimits=(0, 0))\n",
    "\n",
    "plt.plot(np.linspace(0, float(stop-start), len(ELBOs)), ELBOs)\n"
   ]
  },
  {
   "cell_type": "code",
   "execution_count": 457,
   "metadata": {},
   "outputs": [
    {
     "name": "stdout",
     "output_type": "stream",
     "text": [
      "Top 10 Words for Each Topic:\n",
      "\n",
      "Topic 1: said, northwest, lines, voted, consider, ban, makes, rise, city, monday\n",
      "\n",
      "Topic 2: iraq, less, press, robert, points, seven, western, final, continued, car\n",
      "\n",
      "Topic 3: said, northwest, lines, voted, consider, ban, makes, rise, city, monday\n",
      "\n",
      "Topic 4: said, northwest, lines, voted, consider, ban, makes, rise, city, monday\n",
      "\n",
      "Topic 5: travel, today, company, bad, said, northwest, lines, voted, consider, guard\n",
      "\n",
      "Topic 6: said, northwest, lines, voted, consider, ban, makes, rise, city, monday\n",
      "\n",
      "Topic 7: said, northwest, lines, voted, consider, ban, makes, rise, city, monday\n",
      "\n",
      "Topic 8: said, northwest, lines, voted, consider, ban, makes, rise, city, monday\n",
      "\n",
      "Topic 9: people, first, officials, today, billion, thursday, court, party, day, say\n",
      "\n",
      "Topic 10: students, northern, airport, september, spoke, history, feet, bad, said, northwest\n",
      "\n",
      "Topic 11: said, would, new, one, also, year, two, million, president, government\n",
      "\n",
      "Topic 12: said, northwest, lines, voted, consider, ban, makes, rise, city, monday\n",
      "\n",
      "Topic 13: said, northwest, lines, voted, consider, ban, makes, rise, city, monday\n",
      "\n",
      "Topic 14: said, northwest, lines, voted, consider, ban, makes, rise, city, monday\n",
      "\n",
      "Topic 15: said, northwest, lines, voted, consider, ban, makes, rise, city, monday\n",
      "\n",
      "Topic 16: said, northwest, lines, voted, consider, ban, makes, rise, city, monday\n",
      "\n",
      "Topic 17: said, northwest, lines, voted, consider, ban, makes, rise, city, monday\n",
      "\n",
      "Topic 18: said, northwest, lines, voted, consider, ban, makes, rise, city, monday\n",
      "\n",
      "Topic 19: said, northwest, lines, voted, consider, ban, makes, rise, city, monday\n",
      "\n",
      "Topic 20: charge, today, company, bad, said, northwest, lines, voted, consider, guard\n",
      "\n",
      "Topic 21: said, northwest, lines, voted, consider, ban, makes, rise, city, monday\n",
      "\n",
      "Topic 22: said, northwest, lines, voted, consider, ban, makes, rise, city, monday\n",
      "\n",
      "Topic 23: said, northwest, lines, voted, consider, ban, makes, rise, city, monday\n",
      "\n",
      "Topic 24: said, northwest, lines, voted, consider, ban, makes, rise, city, monday\n",
      "\n",
      "Topic 25: said, northwest, lines, voted, consider, ban, makes, rise, city, monday\n",
      "\n",
      "Topic 26: said, northwest, lines, voted, consider, ban, makes, rise, city, monday\n",
      "\n",
      "Topic 27: private, move, bad, said, northwest, lines, voted, consider, guard, catholic\n",
      "\n",
      "Topic 28: percent, going, among, month, program, north, agency, judge, set, life\n",
      "\n",
      "Topic 29: said, northwest, lines, voted, consider, ban, makes, rise, city, monday\n",
      "\n",
      "Topic 30: said, northwest, lines, voted, consider, ban, makes, rise, city, monday\n",
      "\n",
      "\n"
     ]
    }
   ],
   "source": [
    "word_topic_probs = LAMBDA / LAMBDA.sum(axis=1, keepdims=True)\n",
    "top_words = {}\n",
    "for k in range(word_topic_probs.shape[0]):\n",
    "    top_idxs = np.argsort(word_topic_probs[k, :])[-10:][::-1]\n",
    "    top_words[k] = [reduced_vocab[v] for v in top_idxs]\n",
    "\n",
    "formatted_text = \"Top 10 Words for Each Topic:\\n\\n\"\n",
    "for topic, words in top_words.items():\n",
    "    formatted_text += f\"Topic {topic + 1}: \"\n",
    "    formatted_text += \", \".join(words) + \"\\n\\n\"\n",
    "\n",
    "print(formatted_text)"
   ]
  },
  {
   "cell_type": "code",
   "execution_count": 463,
   "metadata": {},
   "outputs": [],
   "source": [
    "with open(\"vocab.txt\", \"r\") as file:\n",
    "    vocab = [line.strip() for line in file]\n",
    "vocab_to_idx = {word: idx for idx, word in enumerate(vocab)}\n",
    "\n",
    "with open(\"ap.txt\", \"r\") as file:\n",
    "    raw_text = file.read()\n",
    "documents = re.findall(r\"<TEXT>(.*?)</TEXT>\", raw_text, re.DOTALL)\n",
    "documents = [doc.strip().replace(\"\\n\", \" \") for doc in documents if doc.strip()]\n",
    "\n",
    "stop_words = set(stopwords.words(\"english\"))\n",
    "corpus_matrix = []\n",
    "for doc in documents:\n",
    "    tokens = word_tokenize(doc.lower())\n",
    "    filtered_tokens = [word for word in tokens if word.isalpha() and word not in stop_words]\n",
    "    word_idxs = [vocab_to_idx[word] for word in filtered_tokens if word in vocab_to_idx]\n",
    "    if word_idxs:\n",
    "        corpus_matrix.append(word_idxs)"
   ]
  },
  {
   "cell_type": "code",
   "execution_count": 468,
   "metadata": {},
   "outputs": [],
   "source": [
    "def init_variational_params(corpus_mat, K, V):\n",
    "    N = len(corpus_mat)\n",
    "    LAMBDA = np.random.uniform(low=0.01, high=1.00, size=(K, V))\n",
    "    GAMMA = np.ones((N, K))\n",
    "    PHI = [np.ones((len(doc), K)) / K for doc in corpus_mat]\n",
    "\n",
    "    return LAMBDA, GAMMA, PHI\n",
    "\n",
    "def compute_ELBO(LAMBDA, GAMMA, PHI, corpus_mat):\n",
    "    N = len(corpus_mat)\n",
    "    ELBO = 0\n",
    "\n",
    "    E_log_p_BETA = np.sum(\n",
    "        (ETA-1) * (digamma(LAMBDA) - digamma(np.sum(LAMBDA, axis=1, keepdims=True)))\n",
    "        )\n",
    "    ELBO += E_log_p_BETA\n",
    "\n",
    "    E_log_p_THETA = np.sum(\n",
    "        (ALPHA-1) * (digamma(GAMMA) - digamma(np.sum(GAMMA, axis=1, keepdims=True)))\n",
    "    )\n",
    "    ELBO += E_log_p_THETA\n",
    "\n",
    "    E_log_p_z_x = 0\n",
    "    for i in range(N):\n",
    "        M = len(corpus_mat[i])\n",
    "        for j in range(M):\n",
    "            x_ij = corpus_mat[i][j]\n",
    "            E_log_p_z_x += np.sum(PHI[i][j] * (digamma(GAMMA[i]) - digamma(np.sum(GAMMA[i])))) \\\n",
    "                + np.sum(PHI[i][j] * (digamma(LAMBDA[:, x_ij]) - digamma(np.sum(LAMBDA[:, x_ij]))))\n",
    "    ELBO += E_log_p_z_x\n",
    "\n",
    "    E_q_log_BETA = np.sum(\n",
    "        -loggamma(np.sum(LAMBDA, axis=1)) + np.sum(loggamma(LAMBDA), axis=1) \\\n",
    "            - np.sum((LAMBDA - 1) * (digamma(LAMBDA) - digamma(np.sum(LAMBDA, axis=1, keepdims=True))), axis=1)\n",
    "    )\n",
    "    ELBO += E_q_log_BETA\n",
    "\n",
    "    E_q_log_THETA = np.sum(\n",
    "        -loggamma(np.sum(GAMMA, axis=1)) + np.sum(loggamma(GAMMA), axis=1) \\\n",
    "        - np.sum((GAMMA - 1) * (digamma(GAMMA) - digamma(np.sum(GAMMA, axis=1, keepdims=True))), axis=1)\n",
    "    )\n",
    "    ELBO += E_q_log_THETA\n",
    "\n",
    "    E_log_q_z = 0\n",
    "    for i, doc in enumerate(corpus_mat):\n",
    "        for j, x_ij in enumerate(doc):  # x_ij is the word index\n",
    "            # PHI_nonzero = PHI[i][j][PHI[i][j] > 0]\n",
    "            E_log_q_z += -np.sum(PHI[i][j] * np.log(PHI[i][j] + 1e-10))\n",
    "    ELBO += E_log_q_z\n",
    "\n",
    "    return ELBO\n",
    "\n",
    "def update_variational_params(LAMBDA, GAMMA, PHI, corpus_mat, K, V):\n",
    "    N= len(corpus_mat)\n",
    "    for i in tqdm(range(N), desc=\"Updating PHI and GAMMA\"):\n",
    "    # for i in range(N):\n",
    "        M = len(corpus_mat[i])\n",
    "        for j in range(M):\n",
    "            x_ij = corpus_mat[i][j]\n",
    "            exp_propto = digamma(LAMBDA[:, x_ij]) - digamma(np.sum(LAMBDA[:, x_ij])) \\\n",
    "                + digamma(GAMMA[i]) - digamma(np.sum(GAMMA[i]))\n",
    "            PHI[i][j] = np.exp(exp_propto - log_sum_exp(exp_propto))\n",
    "\n",
    "        for k in range(K):\n",
    "            GAMMA[i, k] = ALPHA + np.sum(PHI[i][:, k])\n",
    "\n",
    "    LAMBDA = np.full((K, V), ETA)\n",
    "    for i, doc in enumerate(tqdm(corpus_mat, desc=\"Updating LAMBDA\")):\n",
    "    # for i, doc in enumerate(corpus_mat):\n",
    "        doc_word_idxs = np.array(doc)\n",
    "        for k in range(K):\n",
    "            np.add.at(LAMBDA[k], doc_word_idxs, PHI[i][:, k])\n",
    "\n",
    "    return LAMBDA, GAMMA, PHI"
   ]
  },
  {
   "cell_type": "code",
   "execution_count": 477,
   "metadata": {},
   "outputs": [],
   "source": [
    "def init_variational_params(corpus_matrix, K, V):\n",
    "    N = len(corpus_matrix)\n",
    "    LAMBDA = np.random.uniform(low=0.01, high=1.00, size=(K, V))\n",
    "    GAMMA = np.ones((N, K))\n",
    "    PHI = []\n",
    "    for doc in corpus_matrix:\n",
    "        doc = np.asarray(doc)\n",
    "        num_words_per_doc = np.sum((doc > 0).astype(\"int32\"))\n",
    "        doc_PHI = np.ones((num_words_per_doc, K))\n",
    "        doc_PHI = doc_PHI / K\n",
    "        PHI.append(doc_PHI)\n",
    "\n",
    "    return LAMBDA, GAMMA, PHI\n",
    "\n",
    "def compute_ELBO(LAMBDA, GAMMA, PHI, corpus_matrix, K):\n",
    "    N = len(corpus_matrix)\n",
    "    ELBO = 0\n",
    "\n",
    "    E_log_p_BETA = 0\n",
    "    for k in range(K):\n",
    "        E_log_p_BETA += (ETA - 1) * np.sum(digamma(LAMBDA[k]) - digamma(np.sum(LAMBDA[k])))\n",
    "    ELBO += E_log_p_BETA\n",
    "\n",
    "    E_log_p_THETA = 0\n",
    "    for i in range(N):\n",
    "        E_log_p_THETA += (ALPHA - 1) * np.sum(digamma(GAMMA[i]) - digamma(np.sum(GAMMA[i])))\n",
    "    ELBO += E_log_p_THETA\n",
    "\n",
    "    E_log_p_z_x = 0\n",
    "    for i in range(N):\n",
    "        M = len(corpus_matrix[i])\n",
    "        for j in range(M):\n",
    "            x_ij = corpus_matrix[i][j]\n",
    "            E_log_p_z_x += np.sum(PHI[i][j] * (digamma(GAMMA[i]) - digamma(np.sum(GAMMA[i])))) \\\n",
    "                + np.sum(PHI[i][j] * (digamma(LAMBDA[:, x_ij]) - digamma(np.sum(LAMBDA[:, x_ij]))))\n",
    "    ELBO += E_log_p_z_x\n",
    "\n",
    "    E_q_log_BETA = 0\n",
    "    for k in range(K):\n",
    "        E_q_log_BETA += -loggamma(np.sum(LAMBDA[k])) + np.sum(loggamma(LAMBDA[k])) \\\n",
    "            - np.sum((LAMBDA[k] - 1) * (digamma(LAMBDA[k]) - digamma(np.sum(LAMBDA[k]))))\n",
    "    ELBO += E_q_log_BETA\n",
    "\n",
    "    E_q_log_THETA = 0\n",
    "    for i in range(N):\n",
    "        E_q_log_THETA += -loggamma(np.sum(GAMMA[i])) + np.sum(loggamma(GAMMA[i])) \\\n",
    "            - np.sum((GAMMA[i] - 1) * (digamma(GAMMA[i]) - digamma(np.sum(GAMMA[i]))))\n",
    "    ELBO += E_q_log_THETA\n",
    "\n",
    "    E_log_q_z = 0\n",
    "    for i in range(N):\n",
    "        M = len(corpus_matrix[i])\n",
    "        for j in range(M):\n",
    "            E_log_q_z += -np.sum(PHI[i][j] * np.log(PHI[i][j]))\n",
    "    ELBO += E_log_q_z\n",
    "\n",
    "    return ELBO\n",
    "\n",
    "def update_variational_params(LAMBDA, GAMMA, PHI, corpus_matrix, K):\n",
    "    N = len(corpus_matrix)\n",
    "    for i in tqdm(range(N), desc=\"Updating PHI and GAMMA\"):\n",
    "        M = len(corpus_matrix[i])\n",
    "        for j in range(M):\n",
    "            x_ij = corpus_matrix[i][j]\n",
    "            exp_propto = digamma(LAMBDA[:, x_ij]) - digamma(np.sum(LAMBDA[:, x_ij])) \\\n",
    "                + digamma(GAMMA[i]) - digamma(np.sum(GAMMA[i]))\n",
    "            PHI[i][j] = np.exp(exp_propto - log_sum_exp(exp_propto))\n",
    "\n",
    "        for k in range(K):\n",
    "            GAMMA[i, k] = ALPHA + np.sum(PHI[i][:, k])\n",
    "\n",
    "    for i, doc in enumerate(tqdm(corpus_matrix, desc=\"Updating LAMBDA\")):\n",
    "        PHI_doc = PHI[i]\n",
    "        for j, word in enumerate(doc):\n",
    "            LAMBDA[:, word] += PHI_doc[j, :]\n",
    "\n",
    "    ETA_matrix = np.full((K, V), ETA)\n",
    "    LAMBDA = LAMBDA + ETA_matrix\n",
    "\n",
    "    return LAMBDA, GAMMA, PHI"
   ]
  },
  {
   "cell_type": "code",
   "execution_count": 479,
   "metadata": {},
   "outputs": [
    {
     "name": "stderr",
     "output_type": "stream",
     "text": [
      "Updating PHI and GAMMA: 100%|██████████| 2246/2246 [00:10<00:00, 211.33it/s]\n",
      "Updating LAMBDA: 100%|██████████| 2246/2246 [00:00<00:00, 4767.20it/s]\n"
     ]
    },
    {
     "name": "stdout",
     "output_type": "stream",
     "text": [
      "Current ELBO: -1012601.2095292318\n",
      "\n",
      "\n"
     ]
    },
    {
     "name": "stderr",
     "output_type": "stream",
     "text": [
      "Updating PHI and GAMMA: 100%|██████████| 2246/2246 [00:11<00:00, 203.12it/s]\n",
      "Updating LAMBDA: 100%|██████████| 2246/2246 [00:00<00:00, 4675.16it/s]\n"
     ]
    },
    {
     "name": "stdout",
     "output_type": "stream",
     "text": [
      "Current ELBO: -1032581.8568762371\n",
      "\n",
      "\n"
     ]
    },
    {
     "name": "stderr",
     "output_type": "stream",
     "text": [
      "Updating PHI and GAMMA: 100%|██████████| 2246/2246 [00:11<00:00, 203.66it/s]\n",
      "Updating LAMBDA: 100%|██████████| 2246/2246 [00:00<00:00, 4601.58it/s]\n"
     ]
    },
    {
     "name": "stdout",
     "output_type": "stream",
     "text": [
      "Current ELBO: -1050493.6068663409\n",
      "\n",
      "\n"
     ]
    },
    {
     "name": "stderr",
     "output_type": "stream",
     "text": [
      "Updating PHI and GAMMA: 100%|██████████| 2246/2246 [00:11<00:00, 203.31it/s]\n",
      "Updating LAMBDA: 100%|██████████| 2246/2246 [00:00<00:00, 4797.67it/s]\n"
     ]
    },
    {
     "name": "stdout",
     "output_type": "stream",
     "text": [
      "Current ELBO: -1064020.563153455\n",
      "\n",
      "\n"
     ]
    },
    {
     "name": "stderr",
     "output_type": "stream",
     "text": [
      "Updating PHI and GAMMA: 100%|██████████| 2246/2246 [00:11<00:00, 204.16it/s]\n",
      "Updating LAMBDA: 100%|██████████| 2246/2246 [00:00<00:00, 4659.89it/s]\n"
     ]
    },
    {
     "name": "stdout",
     "output_type": "stream",
     "text": [
      "Current ELBO: -1073438.8154795761\n",
      "\n",
      "\n"
     ]
    },
    {
     "name": "stderr",
     "output_type": "stream",
     "text": [
      "Updating PHI and GAMMA: 100%|██████████| 2246/2246 [00:11<00:00, 191.17it/s]\n",
      "Updating LAMBDA: 100%|██████████| 2246/2246 [00:00<00:00, 4647.41it/s]\n"
     ]
    },
    {
     "name": "stdout",
     "output_type": "stream",
     "text": [
      "Current ELBO: -1078862.9143846568\n",
      "\n",
      "\n"
     ]
    },
    {
     "name": "stderr",
     "output_type": "stream",
     "text": [
      "Updating PHI and GAMMA: 100%|██████████| 2246/2246 [00:11<00:00, 198.45it/s]\n",
      "Updating LAMBDA: 100%|██████████| 2246/2246 [00:00<00:00, 4205.06it/s]\n"
     ]
    },
    {
     "name": "stdout",
     "output_type": "stream",
     "text": [
      "Current ELBO: -1080145.4393220062\n",
      "\n",
      "\n"
     ]
    },
    {
     "name": "stderr",
     "output_type": "stream",
     "text": [
      "Updating PHI and GAMMA: 100%|██████████| 2246/2246 [00:11<00:00, 202.40it/s]\n",
      "Updating LAMBDA: 100%|██████████| 2246/2246 [00:00<00:00, 4694.20it/s]\n"
     ]
    },
    {
     "name": "stdout",
     "output_type": "stream",
     "text": [
      "Current ELBO: -1076971.1333533884\n",
      "\n",
      "\n"
     ]
    },
    {
     "name": "stderr",
     "output_type": "stream",
     "text": [
      "Updating PHI and GAMMA: 100%|██████████| 2246/2246 [00:11<00:00, 200.60it/s]\n",
      "Updating LAMBDA: 100%|██████████| 2246/2246 [00:00<00:00, 4608.19it/s]\n"
     ]
    },
    {
     "name": "stdout",
     "output_type": "stream",
     "text": [
      "Current ELBO: -1068985.223324927\n",
      "\n",
      "\n"
     ]
    },
    {
     "name": "stderr",
     "output_type": "stream",
     "text": [
      "Updating PHI and GAMMA: 100%|██████████| 2246/2246 [00:11<00:00, 202.11it/s]\n",
      "Updating LAMBDA: 100%|██████████| 2246/2246 [00:00<00:00, 4606.44it/s]\n"
     ]
    },
    {
     "name": "stdout",
     "output_type": "stream",
     "text": [
      "Current ELBO: -1055934.3044932068\n",
      "\n",
      "\n"
     ]
    },
    {
     "name": "stderr",
     "output_type": "stream",
     "text": [
      "Updating PHI and GAMMA: 100%|██████████| 2246/2246 [00:11<00:00, 203.50it/s]\n",
      "Updating LAMBDA: 100%|██████████| 2246/2246 [00:00<00:00, 4641.00it/s]\n"
     ]
    },
    {
     "name": "stdout",
     "output_type": "stream",
     "text": [
      "Current ELBO: -1037809.2610517052\n",
      "\n",
      "\n"
     ]
    },
    {
     "name": "stderr",
     "output_type": "stream",
     "text": [
      "Updating PHI and GAMMA: 100%|██████████| 2246/2246 [00:10<00:00, 206.11it/s]\n",
      "Updating LAMBDA: 100%|██████████| 2246/2246 [00:00<00:00, 4668.53it/s]\n"
     ]
    },
    {
     "name": "stdout",
     "output_type": "stream",
     "text": [
      "Current ELBO: -1014961.2759435298\n",
      "\n",
      "\n"
     ]
    },
    {
     "name": "stderr",
     "output_type": "stream",
     "text": [
      "Updating PHI and GAMMA: 100%|██████████| 2246/2246 [00:11<00:00, 190.57it/s]\n",
      "Updating LAMBDA: 100%|██████████| 2246/2246 [00:00<00:00, 3801.35it/s]\n"
     ]
    },
    {
     "name": "stdout",
     "output_type": "stream",
     "text": [
      "Current ELBO: -988138.3746519672\n",
      "\n",
      "\n"
     ]
    },
    {
     "name": "stderr",
     "output_type": "stream",
     "text": [
      "Updating PHI and GAMMA: 100%|██████████| 2246/2246 [00:11<00:00, 204.00it/s]\n",
      "Updating LAMBDA: 100%|██████████| 2246/2246 [00:00<00:00, 4661.54it/s]\n"
     ]
    },
    {
     "name": "stdout",
     "output_type": "stream",
     "text": [
      "Current ELBO: -958403.0310917114\n",
      "\n",
      "\n"
     ]
    },
    {
     "name": "stderr",
     "output_type": "stream",
     "text": [
      "Updating PHI and GAMMA: 100%|██████████| 2246/2246 [00:11<00:00, 203.97it/s]\n",
      "Updating LAMBDA: 100%|██████████| 2246/2246 [00:00<00:00, 4567.58it/s]\n"
     ]
    },
    {
     "name": "stdout",
     "output_type": "stream",
     "text": [
      "Current ELBO: -926945.6133697332\n",
      "\n",
      "\n"
     ]
    },
    {
     "name": "stderr",
     "output_type": "stream",
     "text": [
      "Updating PHI and GAMMA: 100%|██████████| 2246/2246 [00:11<00:00, 204.06it/s]\n",
      "Updating LAMBDA: 100%|██████████| 2246/2246 [00:00<00:00, 4620.48it/s]\n"
     ]
    },
    {
     "name": "stdout",
     "output_type": "stream",
     "text": [
      "Current ELBO: -894863.7424508318\n",
      "\n",
      "\n"
     ]
    },
    {
     "name": "stderr",
     "output_type": "stream",
     "text": [
      "Updating PHI and GAMMA: 100%|██████████| 2246/2246 [00:10<00:00, 205.69it/s]\n",
      "Updating LAMBDA: 100%|██████████| 2246/2246 [00:00<00:00, 4554.93it/s]\n"
     ]
    },
    {
     "name": "stdout",
     "output_type": "stream",
     "text": [
      "Current ELBO: -862997.2525124127\n",
      "\n",
      "\n"
     ]
    },
    {
     "name": "stderr",
     "output_type": "stream",
     "text": [
      "Updating PHI and GAMMA: 100%|██████████| 2246/2246 [00:11<00:00, 198.27it/s]\n",
      "Updating LAMBDA: 100%|██████████| 2246/2246 [00:00<00:00, 4527.97it/s]\n"
     ]
    },
    {
     "name": "stdout",
     "output_type": "stream",
     "text": [
      "Current ELBO: -831874.5715628657\n",
      "\n",
      "\n"
     ]
    },
    {
     "name": "stderr",
     "output_type": "stream",
     "text": [
      "Updating PHI and GAMMA: 100%|██████████| 2246/2246 [00:10<00:00, 205.83it/s]\n",
      "Updating LAMBDA: 100%|██████████| 2246/2246 [00:00<00:00, 4597.58it/s]\n"
     ]
    },
    {
     "name": "stdout",
     "output_type": "stream",
     "text": [
      "Current ELBO: -801758.4643038311\n",
      "\n",
      "\n"
     ]
    },
    {
     "name": "stderr",
     "output_type": "stream",
     "text": [
      "Updating PHI and GAMMA: 100%|██████████| 2246/2246 [00:10<00:00, 204.47it/s]\n",
      "Updating LAMBDA: 100%|██████████| 2246/2246 [00:00<00:00, 4593.03it/s]\n"
     ]
    },
    {
     "name": "stdout",
     "output_type": "stream",
     "text": [
      "Current ELBO: -772742.221348474\n",
      "\n",
      "\n"
     ]
    },
    {
     "name": "stderr",
     "output_type": "stream",
     "text": [
      "Updating PHI and GAMMA: 100%|██████████| 2246/2246 [00:11<00:00, 199.63it/s]\n",
      "Updating LAMBDA: 100%|██████████| 2246/2246 [00:00<00:00, 4698.59it/s]\n"
     ]
    },
    {
     "name": "stdout",
     "output_type": "stream",
     "text": [
      "Current ELBO: -744829.4595277386\n",
      "\n",
      "\n"
     ]
    },
    {
     "name": "stderr",
     "output_type": "stream",
     "text": [
      "Updating PHI and GAMMA: 100%|██████████| 2246/2246 [00:11<00:00, 203.21it/s]\n",
      "Updating LAMBDA: 100%|██████████| 2246/2246 [00:00<00:00, 4737.81it/s]\n"
     ]
    },
    {
     "name": "stdout",
     "output_type": "stream",
     "text": [
      "Current ELBO: -717973.1911454825\n",
      "\n",
      "\n"
     ]
    },
    {
     "name": "stderr",
     "output_type": "stream",
     "text": [
      "Updating PHI and GAMMA: 100%|██████████| 2246/2246 [00:10<00:00, 207.30it/s]\n",
      "Updating LAMBDA: 100%|██████████| 2246/2246 [00:00<00:00, 4747.78it/s]\n"
     ]
    },
    {
     "name": "stdout",
     "output_type": "stream",
     "text": [
      "Current ELBO: -692122.9772834171\n",
      "\n",
      "\n"
     ]
    },
    {
     "name": "stderr",
     "output_type": "stream",
     "text": [
      "Updating PHI and GAMMA: 100%|██████████| 2246/2246 [00:10<00:00, 209.27it/s]\n",
      "Updating LAMBDA: 100%|██████████| 2246/2246 [00:00<00:00, 4724.23it/s]\n"
     ]
    },
    {
     "name": "stdout",
     "output_type": "stream",
     "text": [
      "Current ELBO: -667273.473184158\n",
      "\n",
      "\n"
     ]
    },
    {
     "name": "stderr",
     "output_type": "stream",
     "text": [
      "Updating PHI and GAMMA: 100%|██████████| 2246/2246 [00:10<00:00, 207.44it/s]\n",
      "Updating LAMBDA: 100%|██████████| 2246/2246 [00:00<00:00, 4749.41it/s]\n"
     ]
    },
    {
     "name": "stdout",
     "output_type": "stream",
     "text": [
      "Current ELBO: -643437.55186416\n",
      "\n",
      "\n"
     ]
    },
    {
     "name": "stderr",
     "output_type": "stream",
     "text": [
      "Updating PHI and GAMMA: 100%|██████████| 2246/2246 [00:11<00:00, 196.01it/s]\n",
      "Updating LAMBDA: 100%|██████████| 2246/2246 [00:00<00:00, 4661.00it/s]\n"
     ]
    },
    {
     "name": "stdout",
     "output_type": "stream",
     "text": [
      "Current ELBO: -620624.3438334726\n",
      "\n",
      "\n"
     ]
    },
    {
     "name": "stderr",
     "output_type": "stream",
     "text": [
      "Updating PHI and GAMMA: 100%|██████████| 2246/2246 [00:11<00:00, 195.90it/s]\n",
      "Updating LAMBDA: 100%|██████████| 2246/2246 [00:00<00:00, 4714.84it/s]\n"
     ]
    },
    {
     "name": "stdout",
     "output_type": "stream",
     "text": [
      "Current ELBO: -598845.3196349009\n",
      "\n",
      "\n"
     ]
    },
    {
     "name": "stderr",
     "output_type": "stream",
     "text": [
      "Updating PHI and GAMMA: 100%|██████████| 2246/2246 [00:10<00:00, 206.68it/s]\n",
      "Updating LAMBDA: 100%|██████████| 2246/2246 [00:00<00:00, 4613.22it/s]\n"
     ]
    },
    {
     "name": "stdout",
     "output_type": "stream",
     "text": [
      "Current ELBO: -578110.002828289\n",
      "\n",
      "\n"
     ]
    },
    {
     "name": "stderr",
     "output_type": "stream",
     "text": [
      "Updating PHI and GAMMA: 100%|██████████| 2246/2246 [00:10<00:00, 204.79it/s]\n",
      "Updating LAMBDA: 100%|██████████| 2246/2246 [00:00<00:00, 4739.52it/s]\n"
     ]
    },
    {
     "name": "stdout",
     "output_type": "stream",
     "text": [
      "Current ELBO: -558421.5420038418\n",
      "\n",
      "\n"
     ]
    },
    {
     "name": "stderr",
     "output_type": "stream",
     "text": [
      "Updating PHI and GAMMA: 100%|██████████| 2246/2246 [00:10<00:00, 207.47it/s]\n",
      "Updating LAMBDA: 100%|██████████| 2246/2246 [00:00<00:00, 4703.80it/s]\n"
     ]
    },
    {
     "name": "stdout",
     "output_type": "stream",
     "text": [
      "Current ELBO: -539767.1438996854\n",
      "\n",
      "\n"
     ]
    },
    {
     "name": "stderr",
     "output_type": "stream",
     "text": [
      "Updating PHI and GAMMA: 100%|██████████| 2246/2246 [00:10<00:00, 205.21it/s]\n",
      "Updating LAMBDA: 100%|██████████| 2246/2246 [00:00<00:00, 4651.17it/s]\n"
     ]
    },
    {
     "name": "stdout",
     "output_type": "stream",
     "text": [
      "Current ELBO: -522112.2992263017\n",
      "\n",
      "\n"
     ]
    },
    {
     "name": "stderr",
     "output_type": "stream",
     "text": [
      "Updating PHI and GAMMA: 100%|██████████| 2246/2246 [00:10<00:00, 207.88it/s]\n",
      "Updating LAMBDA: 100%|██████████| 2246/2246 [00:00<00:00, 4665.31it/s]\n"
     ]
    },
    {
     "name": "stdout",
     "output_type": "stream",
     "text": [
      "Current ELBO: -505410.916912109\n",
      "\n",
      "\n"
     ]
    },
    {
     "name": "stderr",
     "output_type": "stream",
     "text": [
      "Updating PHI and GAMMA: 100%|██████████| 2246/2246 [00:10<00:00, 207.63it/s]\n",
      "Updating LAMBDA: 100%|██████████| 2246/2246 [00:00<00:00, 4733.41it/s]\n"
     ]
    },
    {
     "name": "stdout",
     "output_type": "stream",
     "text": [
      "Current ELBO: -489604.6548095095\n",
      "\n",
      "\n"
     ]
    },
    {
     "name": "stderr",
     "output_type": "stream",
     "text": [
      "Updating PHI and GAMMA: 100%|██████████| 2246/2246 [00:11<00:00, 197.84it/s]\n",
      "Updating LAMBDA: 100%|██████████| 2246/2246 [00:00<00:00, 4673.01it/s]\n"
     ]
    },
    {
     "name": "stdout",
     "output_type": "stream",
     "text": [
      "Current ELBO: -474637.4212472914\n",
      "\n",
      "\n"
     ]
    },
    {
     "name": "stderr",
     "output_type": "stream",
     "text": [
      "Updating PHI and GAMMA: 100%|██████████| 2246/2246 [00:11<00:00, 200.84it/s]\n",
      "Updating LAMBDA: 100%|██████████| 2246/2246 [00:00<00:00, 4607.44it/s]\n"
     ]
    },
    {
     "name": "stdout",
     "output_type": "stream",
     "text": [
      "Current ELBO: -460476.9358055771\n",
      "\n",
      "\n"
     ]
    },
    {
     "name": "stderr",
     "output_type": "stream",
     "text": [
      "Updating PHI and GAMMA: 100%|██████████| 2246/2246 [00:10<00:00, 206.47it/s]\n",
      "Updating LAMBDA: 100%|██████████| 2246/2246 [00:00<00:00, 4481.71it/s]\n"
     ]
    },
    {
     "name": "stdout",
     "output_type": "stream",
     "text": [
      "Current ELBO: -447096.0584621278\n",
      "\n",
      "\n"
     ]
    },
    {
     "name": "stderr",
     "output_type": "stream",
     "text": [
      "Updating PHI and GAMMA: 100%|██████████| 2246/2246 [00:11<00:00, 202.15it/s]\n",
      "Updating LAMBDA: 100%|██████████| 2246/2246 [00:00<00:00, 4608.76it/s]\n"
     ]
    },
    {
     "name": "stdout",
     "output_type": "stream",
     "text": [
      "Current ELBO: -434455.0188198609\n",
      "\n",
      "\n"
     ]
    },
    {
     "name": "stderr",
     "output_type": "stream",
     "text": [
      "Updating PHI and GAMMA: 100%|██████████| 2246/2246 [00:11<00:00, 203.77it/s]\n",
      "Updating LAMBDA: 100%|██████████| 2246/2246 [00:00<00:00, 4610.21it/s]\n"
     ]
    },
    {
     "name": "stdout",
     "output_type": "stream",
     "text": [
      "Current ELBO: -422501.9430161171\n",
      "\n",
      "\n"
     ]
    },
    {
     "name": "stderr",
     "output_type": "stream",
     "text": [
      "Updating PHI and GAMMA: 100%|██████████| 2246/2246 [00:10<00:00, 206.20it/s]\n",
      "Updating LAMBDA: 100%|██████████| 2246/2246 [00:00<00:00, 4696.41it/s]\n"
     ]
    },
    {
     "name": "stdout",
     "output_type": "stream",
     "text": [
      "Current ELBO: -411183.1387058237\n",
      "\n",
      "\n"
     ]
    },
    {
     "name": "stderr",
     "output_type": "stream",
     "text": [
      "Updating PHI and GAMMA: 100%|██████████| 2246/2246 [00:10<00:00, 204.67it/s]\n",
      "Updating LAMBDA: 100%|██████████| 2246/2246 [00:00<00:00, 4584.16it/s]\n"
     ]
    },
    {
     "name": "stdout",
     "output_type": "stream",
     "text": [
      "Current ELBO: -400449.6527686295\n",
      "\n",
      "\n"
     ]
    },
    {
     "name": "stderr",
     "output_type": "stream",
     "text": [
      "Updating PHI and GAMMA: 100%|██████████| 2246/2246 [00:10<00:00, 206.35it/s]\n",
      "Updating LAMBDA: 100%|██████████| 2246/2246 [00:00<00:00, 4623.20it/s]\n"
     ]
    },
    {
     "name": "stdout",
     "output_type": "stream",
     "text": [
      "Current ELBO: -390248.60312383104\n",
      "\n",
      "\n"
     ]
    },
    {
     "name": "stderr",
     "output_type": "stream",
     "text": [
      "Updating PHI and GAMMA: 100%|██████████| 2246/2246 [00:10<00:00, 207.81it/s]\n",
      "Updating LAMBDA: 100%|██████████| 2246/2246 [00:00<00:00, 4749.70it/s]\n"
     ]
    },
    {
     "name": "stdout",
     "output_type": "stream",
     "text": [
      "Current ELBO: -380540.78310986713\n",
      "\n",
      "\n"
     ]
    },
    {
     "name": "stderr",
     "output_type": "stream",
     "text": [
      "Updating PHI and GAMMA: 100%|██████████| 2246/2246 [00:10<00:00, 207.29it/s]\n",
      "Updating LAMBDA: 100%|██████████| 2246/2246 [00:00<00:00, 4716.95it/s]\n"
     ]
    },
    {
     "name": "stdout",
     "output_type": "stream",
     "text": [
      "Current ELBO: -371306.5956355827\n",
      "\n",
      "\n"
     ]
    },
    {
     "name": "stderr",
     "output_type": "stream",
     "text": [
      "Updating PHI and GAMMA: 100%|██████████| 2246/2246 [00:11<00:00, 199.47it/s]\n",
      "Updating LAMBDA: 100%|██████████| 2246/2246 [00:00<00:00, 4104.00it/s]\n"
     ]
    },
    {
     "name": "stdout",
     "output_type": "stream",
     "text": [
      "Current ELBO: -362521.4568876464\n",
      "\n",
      "\n"
     ]
    },
    {
     "name": "stderr",
     "output_type": "stream",
     "text": [
      "Updating PHI and GAMMA: 100%|██████████| 2246/2246 [00:11<00:00, 198.27it/s]\n",
      "Updating LAMBDA: 100%|██████████| 2246/2246 [00:00<00:00, 4396.54it/s]\n"
     ]
    },
    {
     "name": "stdout",
     "output_type": "stream",
     "text": [
      "Current ELBO: -354154.7671961799\n",
      "\n",
      "\n"
     ]
    },
    {
     "name": "stderr",
     "output_type": "stream",
     "text": [
      "Updating PHI and GAMMA: 100%|██████████| 2246/2246 [00:11<00:00, 204.09it/s]\n",
      "Updating LAMBDA: 100%|██████████| 2246/2246 [00:00<00:00, 4626.33it/s]\n"
     ]
    },
    {
     "name": "stdout",
     "output_type": "stream",
     "text": [
      "Current ELBO: -346175.26423628314\n",
      "\n",
      "\n"
     ]
    },
    {
     "name": "stderr",
     "output_type": "stream",
     "text": [
      "Updating PHI and GAMMA: 100%|██████████| 2246/2246 [00:11<00:00, 203.42it/s]\n",
      "Updating LAMBDA: 100%|██████████| 2246/2246 [00:00<00:00, 4303.80it/s]\n"
     ]
    },
    {
     "name": "stdout",
     "output_type": "stream",
     "text": [
      "Current ELBO: -338559.7809939042\n",
      "\n",
      "\n"
     ]
    },
    {
     "name": "stderr",
     "output_type": "stream",
     "text": [
      "Updating PHI and GAMMA: 100%|██████████| 2246/2246 [00:10<00:00, 206.80it/s]\n",
      "Updating LAMBDA: 100%|██████████| 2246/2246 [00:00<00:00, 4756.71it/s]\n"
     ]
    },
    {
     "name": "stdout",
     "output_type": "stream",
     "text": [
      "Current ELBO: -331287.4844615792\n",
      "\n",
      "\n"
     ]
    },
    {
     "name": "stderr",
     "output_type": "stream",
     "text": [
      "Updating PHI and GAMMA: 100%|██████████| 2246/2246 [00:10<00:00, 204.64it/s]\n",
      "Updating LAMBDA: 100%|██████████| 2246/2246 [00:00<00:00, 4579.06it/s]\n"
     ]
    },
    {
     "name": "stdout",
     "output_type": "stream",
     "text": [
      "Current ELBO: -324335.56136712315\n",
      "\n",
      "\n"
     ]
    },
    {
     "name": "stderr",
     "output_type": "stream",
     "text": [
      "Updating PHI and GAMMA: 100%|██████████| 2246/2246 [00:10<00:00, 205.84it/s]\n",
      "Updating LAMBDA: 100%|██████████| 2246/2246 [00:00<00:00, 4764.71it/s]\n"
     ]
    },
    {
     "name": "stdout",
     "output_type": "stream",
     "text": [
      "Current ELBO: -317683.3751950983\n",
      "\n",
      "\n"
     ]
    },
    {
     "name": "stderr",
     "output_type": "stream",
     "text": [
      "Updating PHI and GAMMA: 100%|██████████| 2246/2246 [00:11<00:00, 196.08it/s]\n",
      "Updating LAMBDA: 100%|██████████| 2246/2246 [00:00<00:00, 4631.93it/s]\n"
     ]
    },
    {
     "name": "stdout",
     "output_type": "stream",
     "text": [
      "Current ELBO: -311312.1892186338\n",
      "\n",
      "\n"
     ]
    },
    {
     "name": "stderr",
     "output_type": "stream",
     "text": [
      "Updating PHI and GAMMA: 100%|██████████| 2246/2246 [00:10<00:00, 205.01it/s]\n",
      "Updating LAMBDA: 100%|██████████| 2246/2246 [00:00<00:00, 4596.93it/s]\n"
     ]
    },
    {
     "name": "stdout",
     "output_type": "stream",
     "text": [
      "Current ELBO: -305204.12561274145\n",
      "\n",
      "\n"
     ]
    },
    {
     "name": "stderr",
     "output_type": "stream",
     "text": [
      "Updating PHI and GAMMA: 100%|██████████| 2246/2246 [00:10<00:00, 206.80it/s]\n",
      "Updating LAMBDA: 100%|██████████| 2246/2246 [00:00<00:00, 4673.61it/s]\n"
     ]
    },
    {
     "name": "stdout",
     "output_type": "stream",
     "text": [
      "Current ELBO: -299340.59512794076\n",
      "\n",
      "\n"
     ]
    },
    {
     "name": "stderr",
     "output_type": "stream",
     "text": [
      "Updating PHI and GAMMA: 100%|██████████| 2246/2246 [00:10<00:00, 208.37it/s]\n",
      "Updating LAMBDA: 100%|██████████| 2246/2246 [00:00<00:00, 4519.01it/s]\n"
     ]
    },
    {
     "name": "stdout",
     "output_type": "stream",
     "text": [
      "Current ELBO: -293703.5079661988\n",
      "\n",
      "\n"
     ]
    },
    {
     "name": "stderr",
     "output_type": "stream",
     "text": [
      "Updating PHI and GAMMA: 100%|██████████| 2246/2246 [00:10<00:00, 208.68it/s]\n",
      "Updating LAMBDA: 100%|██████████| 2246/2246 [00:00<00:00, 4695.05it/s]\n"
     ]
    },
    {
     "name": "stdout",
     "output_type": "stream",
     "text": [
      "Current ELBO: -288283.0865188929\n",
      "\n",
      "\n"
     ]
    },
    {
     "name": "stderr",
     "output_type": "stream",
     "text": [
      "Updating PHI and GAMMA: 100%|██████████| 2246/2246 [00:10<00:00, 208.01it/s]\n",
      "Updating LAMBDA: 100%|██████████| 2246/2246 [00:00<00:00, 4697.48it/s]\n"
     ]
    },
    {
     "name": "stdout",
     "output_type": "stream",
     "text": [
      "Current ELBO: -283075.2874686958\n",
      "\n",
      "\n"
     ]
    },
    {
     "name": "stderr",
     "output_type": "stream",
     "text": [
      "Updating PHI and GAMMA: 100%|██████████| 2246/2246 [00:10<00:00, 208.36it/s]\n",
      "Updating LAMBDA: 100%|██████████| 2246/2246 [00:00<00:00, 4659.35it/s]\n"
     ]
    },
    {
     "name": "stdout",
     "output_type": "stream",
     "text": [
      "Current ELBO: -278071.51543595665\n",
      "\n",
      "\n"
     ]
    },
    {
     "name": "stderr",
     "output_type": "stream",
     "text": [
      "Updating PHI and GAMMA: 100%|██████████| 2246/2246 [00:10<00:00, 208.68it/s]\n",
      "Updating LAMBDA: 100%|██████████| 2246/2246 [00:00<00:00, 4788.11it/s]\n"
     ]
    },
    {
     "name": "stdout",
     "output_type": "stream",
     "text": [
      "Current ELBO: -273259.2080694666\n",
      "\n",
      "\n"
     ]
    },
    {
     "name": "stderr",
     "output_type": "stream",
     "text": [
      "Updating PHI and GAMMA: 100%|██████████| 2246/2246 [00:10<00:00, 208.28it/s]\n",
      "Updating LAMBDA: 100%|██████████| 2246/2246 [00:00<00:00, 4750.51it/s]\n"
     ]
    },
    {
     "name": "stdout",
     "output_type": "stream",
     "text": [
      "Current ELBO: -268625.0633058067\n",
      "\n",
      "\n"
     ]
    },
    {
     "name": "stderr",
     "output_type": "stream",
     "text": [
      "Updating PHI and GAMMA: 100%|██████████| 2246/2246 [00:11<00:00, 202.72it/s]\n",
      "Updating LAMBDA: 100%|██████████| 2246/2246 [00:00<00:00, 4693.00it/s]\n"
     ]
    },
    {
     "name": "stdout",
     "output_type": "stream",
     "text": [
      "Current ELBO: -264156.3886246635\n",
      "\n",
      "\n"
     ]
    },
    {
     "name": "stderr",
     "output_type": "stream",
     "text": [
      "Updating PHI and GAMMA: 100%|██████████| 2246/2246 [00:11<00:00, 200.88it/s]\n",
      "Updating LAMBDA: 100%|██████████| 2246/2246 [00:00<00:00, 4636.07it/s]\n"
     ]
    },
    {
     "name": "stdout",
     "output_type": "stream",
     "text": [
      "Current ELBO: -259841.51303640142\n",
      "\n",
      "\n"
     ]
    },
    {
     "name": "stderr",
     "output_type": "stream",
     "text": [
      "Updating PHI and GAMMA: 100%|██████████| 2246/2246 [00:11<00:00, 192.72it/s]\n",
      "Updating LAMBDA: 100%|██████████| 2246/2246 [00:00<00:00, 4749.09it/s]\n"
     ]
    },
    {
     "name": "stdout",
     "output_type": "stream",
     "text": [
      "Current ELBO: -255669.6746408977\n",
      "\n",
      "\n"
     ]
    },
    {
     "name": "stderr",
     "output_type": "stream",
     "text": [
      "Updating PHI and GAMMA: 100%|██████████| 2246/2246 [00:10<00:00, 205.30it/s]\n",
      "Updating LAMBDA: 100%|██████████| 2246/2246 [00:00<00:00, 4650.76it/s]\n"
     ]
    },
    {
     "name": "stdout",
     "output_type": "stream",
     "text": [
      "Current ELBO: -251630.53903403238\n",
      "\n",
      "\n"
     ]
    },
    {
     "name": "stderr",
     "output_type": "stream",
     "text": [
      "Updating PHI and GAMMA: 100%|██████████| 2246/2246 [00:10<00:00, 206.31it/s]\n",
      "Updating LAMBDA: 100%|██████████| 2246/2246 [00:00<00:00, 4620.76it/s]\n"
     ]
    },
    {
     "name": "stdout",
     "output_type": "stream",
     "text": [
      "Current ELBO: -247714.33590846596\n",
      "\n",
      "\n"
     ]
    },
    {
     "name": "stderr",
     "output_type": "stream",
     "text": [
      "Updating PHI and GAMMA: 100%|██████████| 2246/2246 [00:11<00:00, 192.51it/s]\n",
      "Updating LAMBDA: 100%|██████████| 2246/2246 [00:00<00:00, 4314.58it/s]\n"
     ]
    },
    {
     "name": "stdout",
     "output_type": "stream",
     "text": [
      "Current ELBO: -243914.60117765164\n",
      "\n",
      "\n"
     ]
    },
    {
     "name": "stderr",
     "output_type": "stream",
     "text": [
      "Updating PHI and GAMMA: 100%|██████████| 2246/2246 [00:11<00:00, 189.30it/s]\n",
      "Updating LAMBDA: 100%|██████████| 2246/2246 [00:00<00:00, 4536.47it/s]\n"
     ]
    },
    {
     "name": "stdout",
     "output_type": "stream",
     "text": [
      "Current ELBO: -240230.57635255685\n",
      "\n",
      "\n"
     ]
    },
    {
     "name": "stderr",
     "output_type": "stream",
     "text": [
      "Updating PHI and GAMMA: 100%|██████████| 2246/2246 [00:12<00:00, 185.94it/s]\n",
      "Updating LAMBDA: 100%|██████████| 2246/2246 [00:00<00:00, 3898.96it/s]\n"
     ]
    },
    {
     "name": "stdout",
     "output_type": "stream",
     "text": [
      "Current ELBO: -236662.3235920621\n",
      "\n",
      "\n"
     ]
    },
    {
     "name": "stderr",
     "output_type": "stream",
     "text": [
      "Updating PHI and GAMMA: 100%|██████████| 2246/2246 [00:10<00:00, 206.72it/s]\n",
      "Updating LAMBDA: 100%|██████████| 2246/2246 [00:00<00:00, 4644.60it/s]\n"
     ]
    },
    {
     "name": "stdout",
     "output_type": "stream",
     "text": [
      "Current ELBO: -233207.23329500394\n",
      "\n",
      "\n"
     ]
    },
    {
     "name": "stderr",
     "output_type": "stream",
     "text": [
      "Updating PHI and GAMMA: 100%|██████████| 2246/2246 [00:11<00:00, 197.16it/s]\n",
      "Updating LAMBDA: 100%|██████████| 2246/2246 [00:00<00:00, 4569.42it/s]\n"
     ]
    },
    {
     "name": "stdout",
     "output_type": "stream",
     "text": [
      "Current ELBO: -229861.7971880203\n",
      "\n",
      "\n"
     ]
    },
    {
     "name": "stderr",
     "output_type": "stream",
     "text": [
      "Updating PHI and GAMMA: 100%|██████████| 2246/2246 [00:10<00:00, 205.03it/s]\n",
      "Updating LAMBDA: 100%|██████████| 2246/2246 [00:00<00:00, 4663.00it/s]\n"
     ]
    },
    {
     "name": "stdout",
     "output_type": "stream",
     "text": [
      "Current ELBO: -226621.55462368543\n",
      "\n",
      "\n"
     ]
    },
    {
     "name": "stderr",
     "output_type": "stream",
     "text": [
      "Updating PHI and GAMMA: 100%|██████████| 2246/2246 [00:11<00:00, 201.14it/s]\n",
      "Updating LAMBDA: 100%|██████████| 2246/2246 [00:00<00:00, 4427.94it/s]\n"
     ]
    },
    {
     "name": "stdout",
     "output_type": "stream",
     "text": [
      "Current ELBO: -223480.96930294373\n",
      "\n",
      "\n"
     ]
    },
    {
     "name": "stderr",
     "output_type": "stream",
     "text": [
      "Updating PHI and GAMMA: 100%|██████████| 2246/2246 [00:10<00:00, 207.34it/s]\n",
      "Updating LAMBDA: 100%|██████████| 2246/2246 [00:00<00:00, 4640.75it/s]\n"
     ]
    },
    {
     "name": "stdout",
     "output_type": "stream",
     "text": [
      "Current ELBO: -220433.016830964\n",
      "\n",
      "\n"
     ]
    },
    {
     "name": "stderr",
     "output_type": "stream",
     "text": [
      "Updating PHI and GAMMA: 100%|██████████| 2246/2246 [00:11<00:00, 203.39it/s]\n",
      "Updating LAMBDA: 100%|██████████| 2246/2246 [00:00<00:00, 4578.38it/s]\n"
     ]
    },
    {
     "name": "stdout",
     "output_type": "stream",
     "text": [
      "Current ELBO: -217470.0732619363\n",
      "\n",
      "\n"
     ]
    },
    {
     "name": "stderr",
     "output_type": "stream",
     "text": [
      "Updating PHI and GAMMA: 100%|██████████| 2246/2246 [00:11<00:00, 195.11it/s]\n",
      "Updating LAMBDA: 100%|██████████| 2246/2246 [00:00<00:00, 4645.77it/s]\n"
     ]
    },
    {
     "name": "stdout",
     "output_type": "stream",
     "text": [
      "Current ELBO: -214589.64016846713\n",
      "\n",
      "\n"
     ]
    },
    {
     "name": "stderr",
     "output_type": "stream",
     "text": [
      "Updating PHI and GAMMA: 100%|██████████| 2246/2246 [00:10<00:00, 208.22it/s]\n",
      "Updating LAMBDA: 100%|██████████| 2246/2246 [00:00<00:00, 4696.19it/s]\n"
     ]
    },
    {
     "name": "stdout",
     "output_type": "stream",
     "text": [
      "Current ELBO: -211793.99864997872\n",
      "\n",
      "\n"
     ]
    },
    {
     "name": "stderr",
     "output_type": "stream",
     "text": [
      "Updating PHI and GAMMA: 100%|██████████| 2246/2246 [00:10<00:00, 204.67it/s]\n",
      "Updating LAMBDA: 100%|██████████| 2246/2246 [00:00<00:00, 3790.92it/s]\n"
     ]
    },
    {
     "name": "stdout",
     "output_type": "stream",
     "text": [
      "Current ELBO: -209083.3478928285\n",
      "\n",
      "\n"
     ]
    },
    {
     "name": "stderr",
     "output_type": "stream",
     "text": [
      "Updating PHI and GAMMA: 100%|██████████| 2246/2246 [00:11<00:00, 201.38it/s]\n",
      "Updating LAMBDA: 100%|██████████| 2246/2246 [00:00<00:00, 4277.65it/s]\n"
     ]
    },
    {
     "name": "stdout",
     "output_type": "stream",
     "text": [
      "Current ELBO: -206454.94046386238\n",
      "\n",
      "\n"
     ]
    },
    {
     "name": "stderr",
     "output_type": "stream",
     "text": [
      "Updating PHI and GAMMA: 100%|██████████| 2246/2246 [00:13<00:00, 165.96it/s]\n",
      "Updating LAMBDA: 100%|██████████| 2246/2246 [00:00<00:00, 3986.87it/s]\n"
     ]
    },
    {
     "name": "stdout",
     "output_type": "stream",
     "text": [
      "Current ELBO: -203904.8355989521\n",
      "\n",
      "\n"
     ]
    },
    {
     "name": "stderr",
     "output_type": "stream",
     "text": [
      "Updating PHI and GAMMA: 100%|██████████| 2246/2246 [00:11<00:00, 200.96it/s]\n",
      "Updating LAMBDA: 100%|██████████| 2246/2246 [00:00<00:00, 4645.23it/s]\n"
     ]
    },
    {
     "name": "stdout",
     "output_type": "stream",
     "text": [
      "Current ELBO: -201428.8889497268\n",
      "\n",
      "\n"
     ]
    },
    {
     "name": "stderr",
     "output_type": "stream",
     "text": [
      "Updating PHI and GAMMA: 100%|██████████| 2246/2246 [00:10<00:00, 204.41it/s]\n",
      "Updating LAMBDA: 100%|██████████| 2246/2246 [00:00<00:00, 4601.52it/s]\n"
     ]
    },
    {
     "name": "stdout",
     "output_type": "stream",
     "text": [
      "Current ELBO: -199022.9974553616\n",
      "\n",
      "\n"
     ]
    },
    {
     "name": "stderr",
     "output_type": "stream",
     "text": [
      "Updating PHI and GAMMA: 100%|██████████| 2246/2246 [00:11<00:00, 202.50it/s]\n",
      "Updating LAMBDA: 100%|██████████| 2246/2246 [00:00<00:00, 4606.25it/s]\n"
     ]
    },
    {
     "name": "stdout",
     "output_type": "stream",
     "text": [
      "Current ELBO: -196683.2055632632\n",
      "\n",
      "\n"
     ]
    },
    {
     "name": "stderr",
     "output_type": "stream",
     "text": [
      "Updating PHI and GAMMA: 100%|██████████| 2246/2246 [00:11<00:00, 196.10it/s]\n",
      "Updating LAMBDA: 100%|██████████| 2246/2246 [00:00<00:00, 4633.42it/s]\n"
     ]
    },
    {
     "name": "stdout",
     "output_type": "stream",
     "text": [
      "Current ELBO: -194405.9228538425\n",
      "\n",
      "\n"
     ]
    },
    {
     "name": "stderr",
     "output_type": "stream",
     "text": [
      "Updating PHI and GAMMA: 100%|██████████| 2246/2246 [00:11<00:00, 193.06it/s]\n",
      "Updating LAMBDA: 100%|██████████| 2246/2246 [00:00<00:00, 4537.86it/s]\n"
     ]
    },
    {
     "name": "stdout",
     "output_type": "stream",
     "text": [
      "Current ELBO: -192188.18031569495\n",
      "\n",
      "\n"
     ]
    },
    {
     "name": "stderr",
     "output_type": "stream",
     "text": [
      "Updating PHI and GAMMA: 100%|██████████| 2246/2246 [00:11<00:00, 200.20it/s]\n",
      "Updating LAMBDA: 100%|██████████| 2246/2246 [00:00<00:00, 4528.93it/s]\n"
     ]
    },
    {
     "name": "stdout",
     "output_type": "stream",
     "text": [
      "Current ELBO: -190027.74628236462\n",
      "\n",
      "\n"
     ]
    },
    {
     "name": "stderr",
     "output_type": "stream",
     "text": [
      "Updating PHI and GAMMA: 100%|██████████| 2246/2246 [00:12<00:00, 178.11it/s]\n",
      "Updating LAMBDA: 100%|██████████| 2246/2246 [00:00<00:00, 3647.41it/s]\n"
     ]
    },
    {
     "name": "stdout",
     "output_type": "stream",
     "text": [
      "Current ELBO: -187922.98924276154\n",
      "\n",
      "\n"
     ]
    },
    {
     "name": "stderr",
     "output_type": "stream",
     "text": [
      "Updating PHI and GAMMA: 100%|██████████| 2246/2246 [00:11<00:00, 204.01it/s]\n",
      "Updating LAMBDA: 100%|██████████| 2246/2246 [00:00<00:00, 4708.20it/s]\n"
     ]
    },
    {
     "name": "stdout",
     "output_type": "stream",
     "text": [
      "Current ELBO: -185872.5031623696\n",
      "\n",
      "\n"
     ]
    },
    {
     "name": "stderr",
     "output_type": "stream",
     "text": [
      "Updating PHI and GAMMA: 100%|██████████| 2246/2246 [00:11<00:00, 200.43it/s]\n",
      "Updating LAMBDA: 100%|██████████| 2246/2246 [00:00<00:00, 4299.85it/s]\n"
     ]
    },
    {
     "name": "stdout",
     "output_type": "stream",
     "text": [
      "Current ELBO: -183874.7701113136\n",
      "\n",
      "\n"
     ]
    },
    {
     "name": "stderr",
     "output_type": "stream",
     "text": [
      "Updating PHI and GAMMA: 100%|██████████| 2246/2246 [00:11<00:00, 203.18it/s]\n",
      "Updating LAMBDA: 100%|██████████| 2246/2246 [00:00<00:00, 4609.19it/s]\n"
     ]
    },
    {
     "name": "stdout",
     "output_type": "stream",
     "text": [
      "Current ELBO: -181928.0496065317\n",
      "\n",
      "\n"
     ]
    },
    {
     "name": "stderr",
     "output_type": "stream",
     "text": [
      "Updating PHI and GAMMA: 100%|██████████| 2246/2246 [00:10<00:00, 205.02it/s]\n",
      "Updating LAMBDA: 100%|██████████| 2246/2246 [00:00<00:00, 4630.32it/s]\n"
     ]
    },
    {
     "name": "stdout",
     "output_type": "stream",
     "text": [
      "Current ELBO: -180030.38689007435\n",
      "\n",
      "\n"
     ]
    },
    {
     "name": "stderr",
     "output_type": "stream",
     "text": [
      "Updating PHI and GAMMA: 100%|██████████| 2246/2246 [00:10<00:00, 206.37it/s]\n",
      "Updating LAMBDA: 100%|██████████| 2246/2246 [00:00<00:00, 4508.39it/s]\n"
     ]
    },
    {
     "name": "stdout",
     "output_type": "stream",
     "text": [
      "Current ELBO: -178179.597776973\n",
      "\n",
      "\n"
     ]
    },
    {
     "name": "stderr",
     "output_type": "stream",
     "text": [
      "Updating PHI and GAMMA: 100%|██████████| 2246/2246 [00:10<00:00, 206.76it/s]\n",
      "Updating LAMBDA: 100%|██████████| 2246/2246 [00:00<00:00, 4692.81it/s]\n"
     ]
    },
    {
     "name": "stdout",
     "output_type": "stream",
     "text": [
      "Current ELBO: -176373.2366927561\n",
      "\n",
      "\n"
     ]
    },
    {
     "name": "stderr",
     "output_type": "stream",
     "text": [
      "Updating PHI and GAMMA: 100%|██████████| 2246/2246 [00:10<00:00, 207.62it/s]\n",
      "Updating LAMBDA: 100%|██████████| 2246/2246 [00:00<00:00, 4628.76it/s]\n"
     ]
    },
    {
     "name": "stdout",
     "output_type": "stream",
     "text": [
      "Current ELBO: -174608.75154728023\n",
      "\n",
      "\n"
     ]
    },
    {
     "name": "stderr",
     "output_type": "stream",
     "text": [
      "Updating PHI and GAMMA: 100%|██████████| 2246/2246 [00:10<00:00, 206.70it/s]\n",
      "Updating LAMBDA: 100%|██████████| 2246/2246 [00:00<00:00, 4702.93it/s]\n"
     ]
    },
    {
     "name": "stdout",
     "output_type": "stream",
     "text": [
      "Current ELBO: -172884.07685593123\n",
      "\n",
      "\n"
     ]
    },
    {
     "name": "stderr",
     "output_type": "stream",
     "text": [
      "Updating PHI and GAMMA: 100%|██████████| 2246/2246 [00:10<00:00, 206.13it/s]\n",
      "Updating LAMBDA: 100%|██████████| 2246/2246 [00:00<00:00, 4713.88it/s]\n"
     ]
    },
    {
     "name": "stdout",
     "output_type": "stream",
     "text": [
      "Current ELBO: -171198.3636692606\n",
      "\n",
      "\n"
     ]
    },
    {
     "name": "stderr",
     "output_type": "stream",
     "text": [
      "Updating PHI and GAMMA: 100%|██████████| 2246/2246 [00:11<00:00, 200.71it/s]\n",
      "Updating LAMBDA: 100%|██████████| 2246/2246 [00:00<00:00, 4116.53it/s]\n"
     ]
    },
    {
     "name": "stdout",
     "output_type": "stream",
     "text": [
      "Current ELBO: -169551.79022430695\n",
      "\n",
      "\n"
     ]
    },
    {
     "name": "stderr",
     "output_type": "stream",
     "text": [
      "Updating PHI and GAMMA: 100%|██████████| 2246/2246 [00:11<00:00, 204.13it/s]\n",
      "Updating LAMBDA: 100%|██████████| 2246/2246 [00:00<00:00, 4653.77it/s]\n"
     ]
    },
    {
     "name": "stdout",
     "output_type": "stream",
     "text": [
      "Current ELBO: -167944.37733962998\n",
      "\n",
      "\n"
     ]
    },
    {
     "name": "stderr",
     "output_type": "stream",
     "text": [
      "Updating PHI and GAMMA: 100%|██████████| 2246/2246 [00:10<00:00, 206.62it/s]\n",
      "Updating LAMBDA: 100%|██████████| 2246/2246 [00:00<00:00, 4487.55it/s]\n"
     ]
    },
    {
     "name": "stdout",
     "output_type": "stream",
     "text": [
      "Current ELBO: -166375.3473327839\n",
      "\n",
      "\n"
     ]
    },
    {
     "name": "stderr",
     "output_type": "stream",
     "text": [
      "Updating PHI and GAMMA: 100%|██████████| 2246/2246 [00:11<00:00, 199.03it/s]\n",
      "Updating LAMBDA: 100%|██████████| 2246/2246 [00:00<00:00, 4612.86it/s]\n"
     ]
    },
    {
     "name": "stdout",
     "output_type": "stream",
     "text": [
      "Current ELBO: -164843.38539786366\n",
      "\n",
      "\n"
     ]
    },
    {
     "name": "stderr",
     "output_type": "stream",
     "text": [
      "Updating PHI and GAMMA: 100%|██████████| 2246/2246 [00:10<00:00, 204.89it/s]\n",
      "Updating LAMBDA: 100%|██████████| 2246/2246 [00:00<00:00, 4664.00it/s]\n"
     ]
    },
    {
     "name": "stdout",
     "output_type": "stream",
     "text": [
      "Current ELBO: -163346.96097858046\n",
      "\n",
      "\n"
     ]
    },
    {
     "name": "stderr",
     "output_type": "stream",
     "text": [
      "Updating PHI and GAMMA: 100%|██████████| 2246/2246 [00:11<00:00, 204.09it/s]\n",
      "Updating LAMBDA: 100%|██████████| 2246/2246 [00:00<00:00, 4510.12it/s]\n"
     ]
    },
    {
     "name": "stdout",
     "output_type": "stream",
     "text": [
      "Current ELBO: -161884.55880850746\n",
      "\n",
      "\n"
     ]
    },
    {
     "name": "stderr",
     "output_type": "stream",
     "text": [
      "Updating PHI and GAMMA: 100%|██████████| 2246/2246 [00:10<00:00, 205.80it/s]\n",
      "Updating LAMBDA: 100%|██████████| 2246/2246 [00:00<00:00, 4483.24it/s]\n"
     ]
    },
    {
     "name": "stdout",
     "output_type": "stream",
     "text": [
      "Current ELBO: -160454.87960132066\n",
      "\n",
      "\n"
     ]
    },
    {
     "name": "stderr",
     "output_type": "stream",
     "text": [
      "Updating PHI and GAMMA: 100%|██████████| 2246/2246 [00:10<00:00, 206.86it/s]\n",
      "Updating LAMBDA: 100%|██████████| 2246/2246 [00:00<00:00, 4609.73it/s]\n"
     ]
    },
    {
     "name": "stdout",
     "output_type": "stream",
     "text": [
      "Current ELBO: -159056.88034552967\n",
      "\n",
      "\n"
     ]
    },
    {
     "name": "stderr",
     "output_type": "stream",
     "text": [
      "Updating PHI and GAMMA: 100%|██████████| 2246/2246 [00:11<00:00, 203.46it/s]\n",
      "Updating LAMBDA: 100%|██████████| 2246/2246 [00:00<00:00, 4053.64it/s]\n"
     ]
    },
    {
     "name": "stdout",
     "output_type": "stream",
     "text": [
      "Current ELBO: -157689.61716630947\n",
      "\n",
      "\n"
     ]
    },
    {
     "name": "stderr",
     "output_type": "stream",
     "text": [
      "Updating PHI and GAMMA: 100%|██████████| 2246/2246 [00:11<00:00, 202.91it/s]\n",
      "Updating LAMBDA: 100%|██████████| 2246/2246 [00:00<00:00, 4607.43it/s]\n"
     ]
    },
    {
     "name": "stdout",
     "output_type": "stream",
     "text": [
      "Current ELBO: -156352.0773354868\n",
      "\n",
      "\n"
     ]
    },
    {
     "name": "stderr",
     "output_type": "stream",
     "text": [
      "Updating PHI and GAMMA: 100%|██████████| 2246/2246 [00:11<00:00, 203.71it/s]\n",
      "Updating LAMBDA: 100%|██████████| 2246/2246 [00:00<00:00, 4619.78it/s]\n"
     ]
    },
    {
     "name": "stdout",
     "output_type": "stream",
     "text": [
      "Current ELBO: -155043.1644447577\n",
      "\n",
      "\n"
     ]
    },
    {
     "name": "stderr",
     "output_type": "stream",
     "text": [
      "Updating PHI and GAMMA: 100%|██████████| 2246/2246 [00:11<00:00, 199.21it/s]\n",
      "Updating LAMBDA: 100%|██████████| 2246/2246 [00:00<00:00, 4637.25it/s]\n"
     ]
    },
    {
     "name": "stdout",
     "output_type": "stream",
     "text": [
      "Current ELBO: -153761.77024902744\n",
      "\n",
      "\n"
     ]
    },
    {
     "name": "stderr",
     "output_type": "stream",
     "text": [
      "Updating PHI and GAMMA: 100%|██████████| 2246/2246 [00:11<00:00, 195.22it/s]\n",
      "Updating LAMBDA: 100%|██████████| 2246/2246 [00:00<00:00, 4620.97it/s]\n"
     ]
    },
    {
     "name": "stdout",
     "output_type": "stream",
     "text": [
      "Current ELBO: -152506.7941941804\n",
      "\n",
      "\n"
     ]
    },
    {
     "name": "stderr",
     "output_type": "stream",
     "text": [
      "Updating PHI and GAMMA: 100%|██████████| 2246/2246 [00:10<00:00, 204.24it/s]\n",
      "Updating LAMBDA: 100%|██████████| 2246/2246 [00:00<00:00, 4742.49it/s]\n"
     ]
    },
    {
     "name": "stdout",
     "output_type": "stream",
     "text": [
      "Current ELBO: -151277.10981804144\n",
      "\n",
      "\n"
     ]
    },
    {
     "name": "stderr",
     "output_type": "stream",
     "text": [
      "Updating PHI and GAMMA: 100%|██████████| 2246/2246 [00:11<00:00, 200.54it/s]\n",
      "Updating LAMBDA: 100%|██████████| 2246/2246 [00:00<00:00, 4160.01it/s]\n"
     ]
    },
    {
     "name": "stdout",
     "output_type": "stream",
     "text": [
      "Current ELBO: -150071.55612506514\n",
      "\n",
      "\n"
     ]
    },
    {
     "name": "stderr",
     "output_type": "stream",
     "text": [
      "Updating PHI and GAMMA: 100%|██████████| 2246/2246 [00:10<00:00, 204.83it/s]\n",
      "Updating LAMBDA: 100%|██████████| 2246/2246 [00:00<00:00, 4608.83it/s]\n"
     ]
    },
    {
     "name": "stdout",
     "output_type": "stream",
     "text": [
      "Current ELBO: -148889.00378597865\n",
      "\n",
      "\n"
     ]
    },
    {
     "name": "stderr",
     "output_type": "stream",
     "text": [
      "Updating PHI and GAMMA: 100%|██████████| 2246/2246 [00:10<00:00, 207.19it/s]\n",
      "Updating LAMBDA: 100%|██████████| 2246/2246 [00:00<00:00, 4576.16it/s]\n"
     ]
    },
    {
     "name": "stdout",
     "output_type": "stream",
     "text": [
      "Current ELBO: -147728.4593079073\n",
      "\n",
      "\n"
     ]
    },
    {
     "name": "stderr",
     "output_type": "stream",
     "text": [
      "Updating PHI and GAMMA: 100%|██████████| 2246/2246 [00:11<00:00, 189.24it/s]\n",
      "Updating LAMBDA: 100%|██████████| 2246/2246 [00:00<00:00, 4492.49it/s]\n"
     ]
    },
    {
     "name": "stdout",
     "output_type": "stream",
     "text": [
      "Current ELBO: -146589.12574957646\n",
      "\n",
      "\n"
     ]
    },
    {
     "name": "stderr",
     "output_type": "stream",
     "text": [
      "Updating PHI and GAMMA: 100%|██████████| 2246/2246 [00:11<00:00, 203.75it/s]\n",
      "Updating LAMBDA: 100%|██████████| 2246/2246 [00:00<00:00, 4534.29it/s]\n"
     ]
    },
    {
     "name": "stdout",
     "output_type": "stream",
     "text": [
      "Current ELBO: -145470.38630226487\n",
      "\n",
      "\n"
     ]
    },
    {
     "name": "stderr",
     "output_type": "stream",
     "text": [
      "Updating PHI and GAMMA: 100%|██████████| 2246/2246 [00:14<00:00, 152.26it/s]\n",
      "Updating LAMBDA: 100%|██████████| 2246/2246 [00:00<00:00, 3179.50it/s]\n"
     ]
    },
    {
     "name": "stdout",
     "output_type": "stream",
     "text": [
      "Current ELBO: -144371.7590721065\n",
      "\n",
      "\n"
     ]
    },
    {
     "name": "stderr",
     "output_type": "stream",
     "text": [
      "Updating PHI and GAMMA: 100%|██████████| 2246/2246 [00:12<00:00, 184.66it/s]\n",
      "Updating LAMBDA: 100%|██████████| 2246/2246 [00:00<00:00, 4624.44it/s]\n"
     ]
    },
    {
     "name": "stdout",
     "output_type": "stream",
     "text": [
      "Current ELBO: -143292.91742930937\n",
      "\n",
      "\n"
     ]
    },
    {
     "name": "stderr",
     "output_type": "stream",
     "text": [
      "Updating PHI and GAMMA: 100%|██████████| 2246/2246 [00:11<00:00, 201.25it/s]\n",
      "Updating LAMBDA: 100%|██████████| 2246/2246 [00:00<00:00, 4569.62it/s]\n"
     ]
    },
    {
     "name": "stdout",
     "output_type": "stream",
     "text": [
      "Current ELBO: -142233.77685926133\n",
      "\n",
      "\n"
     ]
    },
    {
     "name": "stderr",
     "output_type": "stream",
     "text": [
      "Updating PHI and GAMMA: 100%|██████████| 2246/2246 [00:11<00:00, 199.95it/s]\n",
      "Updating LAMBDA: 100%|██████████| 2246/2246 [00:00<00:00, 4197.55it/s]\n"
     ]
    },
    {
     "name": "stdout",
     "output_type": "stream",
     "text": [
      "Current ELBO: -141194.4870681136\n",
      "\n",
      "\n"
     ]
    },
    {
     "name": "stderr",
     "output_type": "stream",
     "text": [
      "Updating PHI and GAMMA: 100%|██████████| 2246/2246 [00:11<00:00, 191.18it/s]\n",
      "Updating LAMBDA: 100%|██████████| 2246/2246 [00:00<00:00, 2860.78it/s]\n"
     ]
    },
    {
     "name": "stdout",
     "output_type": "stream",
     "text": [
      "Current ELBO: -140175.24538722975\n",
      "\n",
      "\n"
     ]
    },
    {
     "name": "stderr",
     "output_type": "stream",
     "text": [
      "Updating PHI and GAMMA: 100%|██████████| 2246/2246 [00:10<00:00, 206.11it/s]\n",
      "Updating LAMBDA: 100%|██████████| 2246/2246 [00:00<00:00, 4283.87it/s]\n"
     ]
    },
    {
     "name": "stdout",
     "output_type": "stream",
     "text": [
      "Current ELBO: -139176.08113383426\n",
      "\n",
      "\n"
     ]
    },
    {
     "name": "stderr",
     "output_type": "stream",
     "text": [
      "Updating PHI and GAMMA: 100%|██████████| 2246/2246 [00:10<00:00, 207.10it/s]\n",
      "Updating LAMBDA: 100%|██████████| 2246/2246 [00:00<00:00, 4693.26it/s]\n"
     ]
    },
    {
     "name": "stdout",
     "output_type": "stream",
     "text": [
      "Current ELBO: -138196.76393234704\n",
      "\n",
      "\n"
     ]
    },
    {
     "name": "stderr",
     "output_type": "stream",
     "text": [
      "Updating PHI and GAMMA: 100%|██████████| 2246/2246 [00:10<00:00, 207.02it/s]\n",
      "Updating LAMBDA: 100%|██████████| 2246/2246 [00:00<00:00, 4607.76it/s]\n"
     ]
    },
    {
     "name": "stdout",
     "output_type": "stream",
     "text": [
      "Current ELBO: -137236.81419240017\n",
      "\n",
      "\n"
     ]
    },
    {
     "name": "stderr",
     "output_type": "stream",
     "text": [
      "Updating PHI and GAMMA: 100%|██████████| 2246/2246 [00:10<00:00, 206.97it/s]\n",
      "Updating LAMBDA: 100%|██████████| 2246/2246 [00:00<00:00, 4674.31it/s]\n"
     ]
    },
    {
     "name": "stdout",
     "output_type": "stream",
     "text": [
      "Current ELBO: -136295.5255956886\n",
      "\n",
      "\n"
     ]
    },
    {
     "name": "stderr",
     "output_type": "stream",
     "text": [
      "Updating PHI and GAMMA: 100%|██████████| 2246/2246 [00:10<00:00, 206.59it/s]\n",
      "Updating LAMBDA: 100%|██████████| 2246/2246 [00:00<00:00, 4617.95it/s]\n"
     ]
    },
    {
     "name": "stdout",
     "output_type": "stream",
     "text": [
      "Current ELBO: -135371.94749158237\n",
      "\n",
      "\n"
     ]
    },
    {
     "name": "stderr",
     "output_type": "stream",
     "text": [
      "Updating PHI and GAMMA: 100%|██████████| 2246/2246 [00:10<00:00, 207.57it/s]\n",
      "Updating LAMBDA: 100%|██████████| 2246/2246 [00:00<00:00, 4708.39it/s]\n"
     ]
    },
    {
     "name": "stdout",
     "output_type": "stream",
     "text": [
      "Current ELBO: -134464.7882079011\n",
      "\n",
      "\n"
     ]
    },
    {
     "name": "stderr",
     "output_type": "stream",
     "text": [
      "Updating PHI and GAMMA: 100%|██████████| 2246/2246 [00:10<00:00, 207.79it/s]\n",
      "Updating LAMBDA: 100%|██████████| 2246/2246 [00:00<00:00, 4708.82it/s]\n"
     ]
    },
    {
     "name": "stdout",
     "output_type": "stream",
     "text": [
      "Current ELBO: -133572.1988212231\n",
      "\n",
      "\n"
     ]
    },
    {
     "name": "stderr",
     "output_type": "stream",
     "text": [
      "Updating PHI and GAMMA: 100%|██████████| 2246/2246 [00:10<00:00, 208.78it/s]\n",
      "Updating LAMBDA: 100%|██████████| 2246/2246 [00:00<00:00, 4687.85it/s]\n"
     ]
    },
    {
     "name": "stdout",
     "output_type": "stream",
     "text": [
      "Current ELBO: -132691.44028063986\n",
      "\n",
      "\n"
     ]
    },
    {
     "name": "stderr",
     "output_type": "stream",
     "text": [
      "Updating PHI and GAMMA: 100%|██████████| 2246/2246 [00:11<00:00, 196.42it/s]\n",
      "Updating LAMBDA: 100%|██████████| 2246/2246 [00:00<00:00, 4657.17it/s]\n"
     ]
    },
    {
     "name": "stdout",
     "output_type": "stream",
     "text": [
      "Current ELBO: -131818.60476817298\n",
      "\n",
      "\n"
     ]
    },
    {
     "name": "stderr",
     "output_type": "stream",
     "text": [
      "Updating PHI and GAMMA: 100%|██████████| 2246/2246 [00:10<00:00, 205.28it/s]\n",
      "Updating LAMBDA: 100%|██████████| 2246/2246 [00:00<00:00, 4602.55it/s]\n"
     ]
    },
    {
     "name": "stdout",
     "output_type": "stream",
     "text": [
      "Current ELBO: -130948.95639691297\n",
      "\n",
      "\n"
     ]
    },
    {
     "name": "stderr",
     "output_type": "stream",
     "text": [
      "Updating PHI and GAMMA: 100%|██████████| 2246/2246 [00:10<00:00, 207.28it/s]\n",
      "Updating LAMBDA: 100%|██████████| 2246/2246 [00:00<00:00, 4579.55it/s]\n"
     ]
    },
    {
     "name": "stdout",
     "output_type": "stream",
     "text": [
      "Current ELBO: -130078.84120080232\n",
      "\n",
      "\n"
     ]
    },
    {
     "name": "stderr",
     "output_type": "stream",
     "text": [
      "Updating PHI and GAMMA: 100%|██████████| 2246/2246 [00:11<00:00, 194.86it/s]\n",
      "Updating LAMBDA: 100%|██████████| 2246/2246 [00:00<00:00, 4553.34it/s]\n"
     ]
    },
    {
     "name": "stdout",
     "output_type": "stream",
     "text": [
      "Current ELBO: -129209.06013340922\n",
      "\n",
      "\n"
     ]
    },
    {
     "name": "stderr",
     "output_type": "stream",
     "text": [
      "Updating PHI and GAMMA: 100%|██████████| 2246/2246 [00:10<00:00, 205.83it/s]\n",
      "Updating LAMBDA: 100%|██████████| 2246/2246 [00:00<00:00, 4600.43it/s]\n"
     ]
    },
    {
     "name": "stdout",
     "output_type": "stream",
     "text": [
      "Current ELBO: -128346.25284152778\n",
      "\n",
      "\n"
     ]
    },
    {
     "name": "stderr",
     "output_type": "stream",
     "text": [
      "Updating PHI and GAMMA: 100%|██████████| 2246/2246 [00:11<00:00, 199.87it/s]\n",
      "Updating LAMBDA: 100%|██████████| 2246/2246 [00:00<00:00, 4696.69it/s]\n"
     ]
    },
    {
     "name": "stdout",
     "output_type": "stream",
     "text": [
      "Current ELBO: -127498.93107803253\n",
      "\n",
      "\n"
     ]
    },
    {
     "name": "stderr",
     "output_type": "stream",
     "text": [
      "Updating PHI and GAMMA: 100%|██████████| 2246/2246 [00:10<00:00, 204.52it/s]\n",
      "Updating LAMBDA: 100%|██████████| 2246/2246 [00:00<00:00, 4757.90it/s]\n"
     ]
    },
    {
     "name": "stdout",
     "output_type": "stream",
     "text": [
      "Current ELBO: -126672.2072388391\n",
      "\n",
      "\n"
     ]
    },
    {
     "name": "stderr",
     "output_type": "stream",
     "text": [
      "Updating PHI and GAMMA: 100%|██████████| 2246/2246 [00:10<00:00, 207.83it/s]\n",
      "Updating LAMBDA: 100%|██████████| 2246/2246 [00:00<00:00, 4576.42it/s]\n"
     ]
    },
    {
     "name": "stdout",
     "output_type": "stream",
     "text": [
      "Current ELBO: -125866.82895854041\n",
      "\n",
      "\n"
     ]
    },
    {
     "name": "stderr",
     "output_type": "stream",
     "text": [
      "Updating PHI and GAMMA: 100%|██████████| 2246/2246 [00:10<00:00, 208.22it/s]\n",
      "Updating LAMBDA: 100%|██████████| 2246/2246 [00:00<00:00, 4699.90it/s]\n"
     ]
    },
    {
     "name": "stdout",
     "output_type": "stream",
     "text": [
      "Current ELBO: -125081.268832683\n",
      "\n",
      "\n"
     ]
    },
    {
     "name": "stderr",
     "output_type": "stream",
     "text": [
      "Updating PHI and GAMMA: 100%|██████████| 2246/2246 [00:10<00:00, 207.81it/s]\n",
      "Updating LAMBDA: 100%|██████████| 2246/2246 [00:00<00:00, 4680.82it/s]\n"
     ]
    },
    {
     "name": "stdout",
     "output_type": "stream",
     "text": [
      "Current ELBO: -124313.61682836011\n",
      "\n",
      "\n"
     ]
    },
    {
     "name": "stderr",
     "output_type": "stream",
     "text": [
      "Updating PHI and GAMMA: 100%|██████████| 2246/2246 [00:10<00:00, 208.65it/s]\n",
      "Updating LAMBDA: 100%|██████████| 2246/2246 [00:00<00:00, 4797.84it/s]\n"
     ]
    },
    {
     "name": "stdout",
     "output_type": "stream",
     "text": [
      "Current ELBO: -123562.26339981338\n",
      "\n",
      "\n"
     ]
    },
    {
     "name": "stderr",
     "output_type": "stream",
     "text": [
      "Updating PHI and GAMMA: 100%|██████████| 2246/2246 [00:11<00:00, 203.86it/s]\n",
      "Updating LAMBDA: 100%|██████████| 2246/2246 [00:00<00:00, 4578.12it/s]\n"
     ]
    },
    {
     "name": "stdout",
     "output_type": "stream",
     "text": [
      "Current ELBO: -122825.98846551141\n",
      "\n",
      "\n"
     ]
    },
    {
     "name": "stderr",
     "output_type": "stream",
     "text": [
      "Updating PHI and GAMMA: 100%|██████████| 2246/2246 [00:10<00:00, 208.19it/s]\n",
      "Updating LAMBDA: 100%|██████████| 2246/2246 [00:00<00:00, 4665.16it/s]\n"
     ]
    },
    {
     "name": "stdout",
     "output_type": "stream",
     "text": [
      "Current ELBO: -122103.90961128441\n",
      "\n",
      "\n"
     ]
    },
    {
     "name": "stderr",
     "output_type": "stream",
     "text": [
      "Updating PHI and GAMMA: 100%|██████████| 2246/2246 [00:11<00:00, 201.44it/s]\n",
      "Updating LAMBDA: 100%|██████████| 2246/2246 [00:00<00:00, 4803.41it/s]\n"
     ]
    },
    {
     "name": "stdout",
     "output_type": "stream",
     "text": [
      "Current ELBO: -121395.40191489106\n",
      "\n",
      "\n"
     ]
    },
    {
     "name": "stderr",
     "output_type": "stream",
     "text": [
      "Updating PHI and GAMMA: 100%|██████████| 2246/2246 [00:11<00:00, 201.10it/s]\n",
      "Updating LAMBDA: 100%|██████████| 2246/2246 [00:00<00:00, 4291.17it/s]\n"
     ]
    },
    {
     "name": "stdout",
     "output_type": "stream",
     "text": [
      "Current ELBO: -120700.02149719786\n",
      "\n",
      "\n"
     ]
    },
    {
     "name": "stderr",
     "output_type": "stream",
     "text": [
      "Updating PHI and GAMMA: 100%|██████████| 2246/2246 [00:10<00:00, 204.52it/s]\n",
      "Updating LAMBDA: 100%|██████████| 2246/2246 [00:00<00:00, 4558.66it/s]\n"
     ]
    },
    {
     "name": "stdout",
     "output_type": "stream",
     "text": [
      "Current ELBO: -120017.428474357\n",
      "\n",
      "\n"
     ]
    },
    {
     "name": "stderr",
     "output_type": "stream",
     "text": [
      "Updating PHI and GAMMA: 100%|██████████| 2246/2246 [00:10<00:00, 206.21it/s]\n",
      "Updating LAMBDA: 100%|██████████| 2246/2246 [00:00<00:00, 4558.64it/s]\n"
     ]
    },
    {
     "name": "stdout",
     "output_type": "stream",
     "text": [
      "Current ELBO: -119347.3132778565\n",
      "\n",
      "\n"
     ]
    },
    {
     "name": "stderr",
     "output_type": "stream",
     "text": [
      "Updating PHI and GAMMA: 100%|██████████| 2246/2246 [00:10<00:00, 206.30it/s]\n",
      "Updating LAMBDA: 100%|██████████| 2246/2246 [00:00<00:00, 4522.97it/s]\n"
     ]
    },
    {
     "name": "stdout",
     "output_type": "stream",
     "text": [
      "Current ELBO: -118689.34484958538\n",
      "\n",
      "\n"
     ]
    },
    {
     "name": "stderr",
     "output_type": "stream",
     "text": [
      "Updating PHI and GAMMA: 100%|██████████| 2246/2246 [00:10<00:00, 206.16it/s]\n",
      "Updating LAMBDA: 100%|██████████| 2246/2246 [00:00<00:00, 4647.46it/s]\n"
     ]
    },
    {
     "name": "stdout",
     "output_type": "stream",
     "text": [
      "Current ELBO: -118043.15333552883\n",
      "\n",
      "\n"
     ]
    },
    {
     "name": "stderr",
     "output_type": "stream",
     "text": [
      "Updating PHI and GAMMA: 100%|██████████| 2246/2246 [00:10<00:00, 207.66it/s]\n",
      "Updating LAMBDA: 100%|██████████| 2246/2246 [00:00<00:00, 4565.16it/s]\n"
     ]
    },
    {
     "name": "stdout",
     "output_type": "stream",
     "text": [
      "Current ELBO: -117408.3414558658\n",
      "\n",
      "\n"
     ]
    },
    {
     "name": "stderr",
     "output_type": "stream",
     "text": [
      "Updating PHI and GAMMA: 100%|██████████| 2246/2246 [00:11<00:00, 204.13it/s]\n",
      "Updating LAMBDA: 100%|██████████| 2246/2246 [00:00<00:00, 4682.03it/s]\n"
     ]
    },
    {
     "name": "stdout",
     "output_type": "stream",
     "text": [
      "Current ELBO: -116784.50883019457\n",
      "\n",
      "\n"
     ]
    },
    {
     "name": "stderr",
     "output_type": "stream",
     "text": [
      "Updating PHI and GAMMA: 100%|██████████| 2246/2246 [00:10<00:00, 205.70it/s]\n",
      "Updating LAMBDA: 100%|██████████| 2246/2246 [00:00<00:00, 4357.21it/s]\n"
     ]
    },
    {
     "name": "stdout",
     "output_type": "stream",
     "text": [
      "Current ELBO: -116171.27333901463\n",
      "\n",
      "\n"
     ]
    },
    {
     "name": "stderr",
     "output_type": "stream",
     "text": [
      "Updating PHI and GAMMA: 100%|██████████| 2246/2246 [00:11<00:00, 200.44it/s]\n",
      "Updating LAMBDA: 100%|██████████| 2246/2246 [00:00<00:00, 4556.34it/s]\n"
     ]
    },
    {
     "name": "stdout",
     "output_type": "stream",
     "text": [
      "Current ELBO: -115568.27866491386\n",
      "\n",
      "\n"
     ]
    },
    {
     "name": "stderr",
     "output_type": "stream",
     "text": [
      "Updating PHI and GAMMA: 100%|██████████| 2246/2246 [00:10<00:00, 204.65it/s]\n",
      "Updating LAMBDA: 100%|██████████| 2246/2246 [00:00<00:00, 4537.89it/s]\n"
     ]
    },
    {
     "name": "stdout",
     "output_type": "stream",
     "text": [
      "Current ELBO: -114975.1903587224\n",
      "\n",
      "\n"
     ]
    },
    {
     "name": "stderr",
     "output_type": "stream",
     "text": [
      "Updating PHI and GAMMA: 100%|██████████| 2246/2246 [00:10<00:00, 207.42it/s]\n",
      "Updating LAMBDA: 100%|██████████| 2246/2246 [00:00<00:00, 4724.84it/s]\n"
     ]
    },
    {
     "name": "stdout",
     "output_type": "stream",
     "text": [
      "Current ELBO: -114391.68993221186\n",
      "\n",
      "\n"
     ]
    },
    {
     "name": "stderr",
     "output_type": "stream",
     "text": [
      "Updating PHI and GAMMA: 100%|██████████| 2246/2246 [00:11<00:00, 193.42it/s]\n",
      "Updating LAMBDA: 100%|██████████| 2246/2246 [00:00<00:00, 4719.46it/s]\n"
     ]
    },
    {
     "name": "stdout",
     "output_type": "stream",
     "text": [
      "Current ELBO: -113817.47145312582\n",
      "\n",
      "\n"
     ]
    },
    {
     "name": "stderr",
     "output_type": "stream",
     "text": [
      "Updating PHI and GAMMA: 100%|██████████| 2246/2246 [00:10<00:00, 206.54it/s]\n",
      "Updating LAMBDA: 100%|██████████| 2246/2246 [00:00<00:00, 4573.16it/s]\n"
     ]
    },
    {
     "name": "stdout",
     "output_type": "stream",
     "text": [
      "Current ELBO: -113252.24096697602\n",
      "\n",
      "\n"
     ]
    },
    {
     "name": "stderr",
     "output_type": "stream",
     "text": [
      "Updating PHI and GAMMA: 100%|██████████| 2246/2246 [00:10<00:00, 204.53it/s]\n",
      "Updating LAMBDA: 100%|██████████| 2246/2246 [00:00<00:00, 3987.47it/s]\n"
     ]
    },
    {
     "name": "stdout",
     "output_type": "stream",
     "text": [
      "Current ELBO: -112695.71866406739\n",
      "\n",
      "\n"
     ]
    },
    {
     "name": "stderr",
     "output_type": "stream",
     "text": [
      "Updating PHI and GAMMA: 100%|██████████| 2246/2246 [00:11<00:00, 195.84it/s]\n",
      "Updating LAMBDA: 100%|██████████| 2246/2246 [00:00<00:00, 4705.16it/s]\n"
     ]
    },
    {
     "name": "stdout",
     "output_type": "stream",
     "text": [
      "Current ELBO: -112147.64385869398\n",
      "\n",
      "\n"
     ]
    },
    {
     "name": "stderr",
     "output_type": "stream",
     "text": [
      "Updating PHI and GAMMA: 100%|██████████| 2246/2246 [00:10<00:00, 204.69it/s]\n",
      "Updating LAMBDA: 100%|██████████| 2246/2246 [00:00<00:00, 4600.83it/s]\n"
     ]
    },
    {
     "name": "stdout",
     "output_type": "stream",
     "text": [
      "Current ELBO: -111607.78195328944\n",
      "\n",
      "\n"
     ]
    },
    {
     "name": "stderr",
     "output_type": "stream",
     "text": [
      "Updating PHI and GAMMA: 100%|██████████| 2246/2246 [00:10<00:00, 204.89it/s]\n",
      "Updating LAMBDA: 100%|██████████| 2246/2246 [00:00<00:00, 4596.63it/s]\n"
     ]
    },
    {
     "name": "stdout",
     "output_type": "stream",
     "text": [
      "Current ELBO: -111075.93030686157\n",
      "\n",
      "\n"
     ]
    },
    {
     "name": "stderr",
     "output_type": "stream",
     "text": [
      "Updating PHI and GAMMA: 100%|██████████| 2246/2246 [00:11<00:00, 203.95it/s]\n",
      "Updating LAMBDA: 100%|██████████| 2246/2246 [00:00<00:00, 4692.95it/s]\n"
     ]
    },
    {
     "name": "stdout",
     "output_type": "stream",
     "text": [
      "Current ELBO: -110551.91780756434\n",
      "\n",
      "\n"
     ]
    },
    {
     "name": "stderr",
     "output_type": "stream",
     "text": [
      "Updating PHI and GAMMA: 100%|██████████| 2246/2246 [00:11<00:00, 187.29it/s]\n",
      "Updating LAMBDA: 100%|██████████| 2246/2246 [00:00<00:00, 3695.77it/s]\n"
     ]
    },
    {
     "name": "stdout",
     "output_type": "stream",
     "text": [
      "Current ELBO: -110035.59426300683\n",
      "\n",
      "\n"
     ]
    },
    {
     "name": "stderr",
     "output_type": "stream",
     "text": [
      "Updating PHI and GAMMA: 100%|██████████| 2246/2246 [00:10<00:00, 205.54it/s]\n",
      "Updating LAMBDA: 100%|██████████| 2246/2246 [00:00<00:00, 4303.97it/s]\n"
     ]
    },
    {
     "name": "stdout",
     "output_type": "stream",
     "text": [
      "Current ELBO: -109526.81222621228\n",
      "\n",
      "\n"
     ]
    },
    {
     "name": "stderr",
     "output_type": "stream",
     "text": [
      "Updating PHI and GAMMA: 100%|██████████| 2246/2246 [00:11<00:00, 199.57it/s]\n",
      "Updating LAMBDA: 100%|██████████| 2246/2246 [00:00<00:00, 4569.74it/s]\n"
     ]
    },
    {
     "name": "stdout",
     "output_type": "stream",
     "text": [
      "Current ELBO: -109025.4101156477\n",
      "\n",
      "\n"
     ]
    },
    {
     "name": "stderr",
     "output_type": "stream",
     "text": [
      "Updating PHI and GAMMA: 100%|██████████| 2246/2246 [00:11<00:00, 204.06it/s]\n",
      "Updating LAMBDA: 100%|██████████| 2246/2246 [00:00<00:00, 4629.08it/s]\n"
     ]
    },
    {
     "name": "stdout",
     "output_type": "stream",
     "text": [
      "Current ELBO: -108531.20579607724\n",
      "\n",
      "\n"
     ]
    },
    {
     "name": "stderr",
     "output_type": "stream",
     "text": [
      "Updating PHI and GAMMA: 100%|██████████| 2246/2246 [00:11<00:00, 201.91it/s]\n",
      "Updating LAMBDA: 100%|██████████| 2246/2246 [00:00<00:00, 4543.23it/s]\n"
     ]
    },
    {
     "name": "stdout",
     "output_type": "stream",
     "text": [
      "Current ELBO: -108044.00486380834\n",
      "\n",
      "\n"
     ]
    },
    {
     "name": "stderr",
     "output_type": "stream",
     "text": [
      "Updating PHI and GAMMA: 100%|██████████| 2246/2246 [00:10<00:00, 205.59it/s]\n",
      "Updating LAMBDA: 100%|██████████| 2246/2246 [00:00<00:00, 4675.32it/s]\n"
     ]
    },
    {
     "name": "stdout",
     "output_type": "stream",
     "text": [
      "Current ELBO: -107563.61504130239\n",
      "\n",
      "\n"
     ]
    },
    {
     "name": "stderr",
     "output_type": "stream",
     "text": [
      "Updating PHI and GAMMA: 100%|██████████| 2246/2246 [00:10<00:00, 205.42it/s]\n",
      "Updating LAMBDA: 100%|██████████| 2246/2246 [00:00<00:00, 4646.31it/s]\n"
     ]
    },
    {
     "name": "stdout",
     "output_type": "stream",
     "text": [
      "Current ELBO: -107089.85101440172\n",
      "\n",
      "\n"
     ]
    },
    {
     "name": "stderr",
     "output_type": "stream",
     "text": [
      "Updating PHI and GAMMA: 100%|██████████| 2246/2246 [00:10<00:00, 207.84it/s]\n",
      "Updating LAMBDA: 100%|██████████| 2246/2246 [00:00<00:00, 4686.06it/s]\n"
     ]
    },
    {
     "name": "stdout",
     "output_type": "stream",
     "text": [
      "Current ELBO: -106622.52740487718\n",
      "\n",
      "\n"
     ]
    },
    {
     "name": "stderr",
     "output_type": "stream",
     "text": [
      "Updating PHI and GAMMA: 100%|██████████| 2246/2246 [00:10<00:00, 207.80it/s]\n",
      "Updating LAMBDA: 100%|██████████| 2246/2246 [00:00<00:00, 4822.44it/s]\n"
     ]
    },
    {
     "name": "stdout",
     "output_type": "stream",
     "text": [
      "Current ELBO: -106161.4495058823\n",
      "\n",
      "\n"
     ]
    },
    {
     "name": "stderr",
     "output_type": "stream",
     "text": [
      "Updating PHI and GAMMA: 100%|██████████| 2246/2246 [00:10<00:00, 204.74it/s]\n",
      "Updating LAMBDA: 100%|██████████| 2246/2246 [00:00<00:00, 4698.18it/s]\n"
     ]
    },
    {
     "name": "stdout",
     "output_type": "stream",
     "text": [
      "Current ELBO: -105706.40904735043\n",
      "\n",
      "\n"
     ]
    },
    {
     "name": "stderr",
     "output_type": "stream",
     "text": [
      "Updating PHI and GAMMA: 100%|██████████| 2246/2246 [00:10<00:00, 207.14it/s]\n",
      "Updating LAMBDA: 100%|██████████| 2246/2246 [00:00<00:00, 4622.75it/s]\n"
     ]
    },
    {
     "name": "stdout",
     "output_type": "stream",
     "text": [
      "Current ELBO: -105257.18549256443\n",
      "\n",
      "\n"
     ]
    },
    {
     "name": "stderr",
     "output_type": "stream",
     "text": [
      "Updating PHI and GAMMA: 100%|██████████| 2246/2246 [00:11<00:00, 187.20it/s]\n",
      "Updating LAMBDA: 100%|██████████| 2246/2246 [00:00<00:00, 3693.66it/s]\n"
     ]
    },
    {
     "name": "stdout",
     "output_type": "stream",
     "text": [
      "Current ELBO: -104813.55123752137\n",
      "\n",
      "\n"
     ]
    },
    {
     "name": "stderr",
     "output_type": "stream",
     "text": [
      "Updating PHI and GAMMA: 100%|██████████| 2246/2246 [00:11<00:00, 203.49it/s]\n",
      "Updating LAMBDA: 100%|██████████| 2246/2246 [00:00<00:00, 4079.26it/s]\n"
     ]
    },
    {
     "name": "stdout",
     "output_type": "stream",
     "text": [
      "Current ELBO: -104375.28061939447\n",
      "\n",
      "\n"
     ]
    },
    {
     "name": "stderr",
     "output_type": "stream",
     "text": [
      "Updating PHI and GAMMA: 100%|██████████| 2246/2246 [00:10<00:00, 204.32it/s]\n",
      "Updating LAMBDA: 100%|██████████| 2246/2246 [00:00<00:00, 4144.70it/s]\n"
     ]
    },
    {
     "name": "stdout",
     "output_type": "stream",
     "text": [
      "Current ELBO: -103942.16282467435\n",
      "\n",
      "\n"
     ]
    },
    {
     "name": "stderr",
     "output_type": "stream",
     "text": [
      "Updating PHI and GAMMA: 100%|██████████| 2246/2246 [00:11<00:00, 195.97it/s]\n",
      "Updating LAMBDA: 100%|██████████| 2246/2246 [00:00<00:00, 3519.19it/s]\n"
     ]
    },
    {
     "name": "stdout",
     "output_type": "stream",
     "text": [
      "Current ELBO: -103514.0170706551\n",
      "\n",
      "\n"
     ]
    },
    {
     "name": "stderr",
     "output_type": "stream",
     "text": [
      "Updating PHI and GAMMA: 100%|██████████| 2246/2246 [00:10<00:00, 206.72it/s]\n",
      "Updating LAMBDA: 100%|██████████| 2246/2246 [00:00<00:00, 4718.75it/s]\n"
     ]
    },
    {
     "name": "stdout",
     "output_type": "stream",
     "text": [
      "Current ELBO: -103090.70739510219\n",
      "\n",
      "\n"
     ]
    },
    {
     "name": "stderr",
     "output_type": "stream",
     "text": [
      "Updating PHI and GAMMA: 100%|██████████| 2246/2246 [00:10<00:00, 206.14it/s]\n",
      "Updating LAMBDA: 100%|██████████| 2246/2246 [00:00<00:00, 4534.47it/s]\n"
     ]
    },
    {
     "name": "stdout",
     "output_type": "stream",
     "text": [
      "Current ELBO: -102672.15376547474\n",
      "\n",
      "\n"
     ]
    },
    {
     "name": "stderr",
     "output_type": "stream",
     "text": [
      "Updating PHI and GAMMA: 100%|██████████| 2246/2246 [00:10<00:00, 208.18it/s]\n",
      "Updating LAMBDA: 100%|██████████| 2246/2246 [00:00<00:00, 4692.03it/s]\n"
     ]
    },
    {
     "name": "stdout",
     "output_type": "stream",
     "text": [
      "Current ELBO: -102258.3321693101\n",
      "\n",
      "\n"
     ]
    },
    {
     "name": "stderr",
     "output_type": "stream",
     "text": [
      "Updating PHI and GAMMA: 100%|██████████| 2246/2246 [00:10<00:00, 207.41it/s]\n",
      "Updating LAMBDA: 100%|██████████| 2246/2246 [00:00<00:00, 4644.00it/s]\n"
     ]
    },
    {
     "name": "stdout",
     "output_type": "stream",
     "text": [
      "Current ELBO: -101849.25590941735\n",
      "\n",
      "\n"
     ]
    },
    {
     "name": "stderr",
     "output_type": "stream",
     "text": [
      "Updating PHI and GAMMA: 100%|██████████| 2246/2246 [00:10<00:00, 207.00it/s]\n",
      "Updating LAMBDA: 100%|██████████| 2246/2246 [00:00<00:00, 4267.79it/s]\n"
     ]
    },
    {
     "name": "stdout",
     "output_type": "stream",
     "text": [
      "Current ELBO: -101444.94941801646\n",
      "\n",
      "\n"
     ]
    },
    {
     "name": "stderr",
     "output_type": "stream",
     "text": [
      "Updating PHI and GAMMA: 100%|██████████| 2246/2246 [00:11<00:00, 200.81it/s]\n",
      "Updating LAMBDA: 100%|██████████| 2246/2246 [00:00<00:00, 3534.85it/s]\n"
     ]
    },
    {
     "name": "stdout",
     "output_type": "stream",
     "text": [
      "Current ELBO: -101045.43555868094\n",
      "\n",
      "\n"
     ]
    },
    {
     "name": "stderr",
     "output_type": "stream",
     "text": [
      "Updating PHI and GAMMA: 100%|██████████| 2246/2246 [00:11<00:00, 203.42it/s]\n",
      "Updating LAMBDA: 100%|██████████| 2246/2246 [00:00<00:00, 4556.99it/s]\n"
     ]
    },
    {
     "name": "stdout",
     "output_type": "stream",
     "text": [
      "Current ELBO: -100650.72943828654\n",
      "\n",
      "\n"
     ]
    },
    {
     "name": "stderr",
     "output_type": "stream",
     "text": [
      "Updating PHI and GAMMA: 100%|██████████| 2246/2246 [00:11<00:00, 202.61it/s]\n",
      "Updating LAMBDA: 100%|██████████| 2246/2246 [00:00<00:00, 4538.09it/s]\n"
     ]
    },
    {
     "name": "stdout",
     "output_type": "stream",
     "text": [
      "Current ELBO: -100260.82592789261\n",
      "\n",
      "\n"
     ]
    },
    {
     "name": "stderr",
     "output_type": "stream",
     "text": [
      "Updating PHI and GAMMA: 100%|██████████| 2246/2246 [00:10<00:00, 206.92it/s]\n",
      "Updating LAMBDA: 100%|██████████| 2246/2246 [00:00<00:00, 4474.98it/s]\n"
     ]
    },
    {
     "name": "stdout",
     "output_type": "stream",
     "text": [
      "Current ELBO: -99875.68898078379\n",
      "\n",
      "\n"
     ]
    },
    {
     "name": "stderr",
     "output_type": "stream",
     "text": [
      "Updating PHI and GAMMA: 100%|██████████| 2246/2246 [00:10<00:00, 205.77it/s]\n",
      "Updating LAMBDA: 100%|██████████| 2246/2246 [00:00<00:00, 4653.89it/s]\n"
     ]
    },
    {
     "name": "stdout",
     "output_type": "stream",
     "text": [
      "Current ELBO: -99495.25498389333\n",
      "\n",
      "\n"
     ]
    },
    {
     "name": "stderr",
     "output_type": "stream",
     "text": [
      "Updating PHI and GAMMA: 100%|██████████| 2246/2246 [00:10<00:00, 205.99it/s]\n",
      "Updating LAMBDA: 100%|██████████| 2246/2246 [00:00<00:00, 4720.36it/s]\n"
     ]
    },
    {
     "name": "stdout",
     "output_type": "stream",
     "text": [
      "Current ELBO: -99119.44387301337\n",
      "\n",
      "\n"
     ]
    },
    {
     "name": "stderr",
     "output_type": "stream",
     "text": [
      "Updating PHI and GAMMA: 100%|██████████| 2246/2246 [00:11<00:00, 198.30it/s]\n",
      "Updating LAMBDA: 100%|██████████| 2246/2246 [00:00<00:00, 3988.36it/s]\n"
     ]
    },
    {
     "name": "stdout",
     "output_type": "stream",
     "text": [
      "Current ELBO: -98748.16518374086\n",
      "\n",
      "\n"
     ]
    },
    {
     "name": "stderr",
     "output_type": "stream",
     "text": [
      "Updating PHI and GAMMA: 100%|██████████| 2246/2246 [00:13<00:00, 168.57it/s]\n",
      "Updating LAMBDA: 100%|██████████| 2246/2246 [00:00<00:00, 3880.43it/s]\n"
     ]
    },
    {
     "name": "stdout",
     "output_type": "stream",
     "text": [
      "Current ELBO: -98381.31980588213\n",
      "\n",
      "\n"
     ]
    },
    {
     "name": "stderr",
     "output_type": "stream",
     "text": [
      "Updating PHI and GAMMA: 100%|██████████| 2246/2246 [00:12<00:00, 173.85it/s]\n",
      "Updating LAMBDA: 100%|██████████| 2246/2246 [00:00<00:00, 3348.75it/s]\n"
     ]
    },
    {
     "name": "stdout",
     "output_type": "stream",
     "text": [
      "Current ELBO: -98018.80203315524\n",
      "\n",
      "\n"
     ]
    },
    {
     "name": "stderr",
     "output_type": "stream",
     "text": [
      "Updating PHI and GAMMA: 100%|██████████| 2246/2246 [00:11<00:00, 195.84it/s]\n",
      "Updating LAMBDA: 100%|██████████| 2246/2246 [00:00<00:00, 4087.94it/s]\n"
     ]
    },
    {
     "name": "stdout",
     "output_type": "stream",
     "text": [
      "Current ELBO: -97660.50256866838\n",
      "\n",
      "\n"
     ]
    },
    {
     "name": "stderr",
     "output_type": "stream",
     "text": [
      "Updating PHI and GAMMA: 100%|██████████| 2246/2246 [00:11<00:00, 191.85it/s]\n",
      "Updating LAMBDA: 100%|██████████| 2246/2246 [00:00<00:00, 4434.07it/s]\n"
     ]
    },
    {
     "name": "stdout",
     "output_type": "stream",
     "text": [
      "Current ELBO: -97306.31198867371\n",
      "\n",
      "\n"
     ]
    },
    {
     "name": "stderr",
     "output_type": "stream",
     "text": [
      "Updating PHI and GAMMA: 100%|██████████| 2246/2246 [00:13<00:00, 171.75it/s]\n",
      "Updating LAMBDA: 100%|██████████| 2246/2246 [00:00<00:00, 3818.84it/s]\n"
     ]
    },
    {
     "name": "stdout",
     "output_type": "stream",
     "text": [
      "Current ELBO: -96956.12568851789\n",
      "\n",
      "\n"
     ]
    },
    {
     "name": "stderr",
     "output_type": "stream",
     "text": [
      "Updating PHI and GAMMA: 100%|██████████| 2246/2246 [00:13<00:00, 164.79it/s]\n",
      "Updating LAMBDA: 100%|██████████| 2246/2246 [00:00<00:00, 3945.34it/s]\n"
     ]
    },
    {
     "name": "stdout",
     "output_type": "stream",
     "text": [
      "Current ELBO: -96609.85160239627\n",
      "\n",
      "\n"
     ]
    },
    {
     "name": "stderr",
     "output_type": "stream",
     "text": [
      "Updating PHI and GAMMA: 100%|██████████| 2246/2246 [00:12<00:00, 177.33it/s]\n",
      "Updating LAMBDA: 100%|██████████| 2246/2246 [00:00<00:00, 3159.87it/s]\n"
     ]
    },
    {
     "name": "stdout",
     "output_type": "stream",
     "text": [
      "Current ELBO: -96267.41932666927\n",
      "\n",
      "\n"
     ]
    },
    {
     "name": "stderr",
     "output_type": "stream",
     "text": [
      "Updating PHI and GAMMA: 100%|██████████| 2246/2246 [00:12<00:00, 186.34it/s]\n",
      "Updating LAMBDA: 100%|██████████| 2246/2246 [00:00<00:00, 3491.80it/s]\n"
     ]
    },
    {
     "name": "stdout",
     "output_type": "stream",
     "text": [
      "Current ELBO: -95928.7855752837\n",
      "\n",
      "\n"
     ]
    },
    {
     "name": "stderr",
     "output_type": "stream",
     "text": [
      "Updating PHI and GAMMA: 100%|██████████| 2246/2246 [00:11<00:00, 191.23it/s]\n",
      "Updating LAMBDA: 100%|██████████| 2246/2246 [00:00<00:00, 4324.04it/s]\n"
     ]
    },
    {
     "name": "stdout",
     "output_type": "stream",
     "text": [
      "Current ELBO: -95593.93050970002\n",
      "\n",
      "\n"
     ]
    },
    {
     "name": "stderr",
     "output_type": "stream",
     "text": [
      "Updating PHI and GAMMA: 100%|██████████| 2246/2246 [00:13<00:00, 172.32it/s]\n",
      "Updating LAMBDA: 100%|██████████| 2246/2246 [00:00<00:00, 4268.77it/s]\n"
     ]
    },
    {
     "name": "stdout",
     "output_type": "stream",
     "text": [
      "Current ELBO: -95262.84507062598\n",
      "\n",
      "\n"
     ]
    },
    {
     "name": "stderr",
     "output_type": "stream",
     "text": [
      "Updating PHI and GAMMA: 100%|██████████| 2246/2246 [00:13<00:00, 162.17it/s]\n",
      "Updating LAMBDA: 100%|██████████| 2246/2246 [00:00<00:00, 4041.87it/s]\n"
     ]
    },
    {
     "name": "stdout",
     "output_type": "stream",
     "text": [
      "Current ELBO: -94935.51630980693\n",
      "\n",
      "\n"
     ]
    },
    {
     "name": "stderr",
     "output_type": "stream",
     "text": [
      "Updating PHI and GAMMA: 100%|██████████| 2246/2246 [00:11<00:00, 191.02it/s]\n",
      "Updating LAMBDA: 100%|██████████| 2246/2246 [00:00<00:00, 4530.54it/s]\n"
     ]
    },
    {
     "name": "stdout",
     "output_type": "stream",
     "text": [
      "Current ELBO: -94611.91803065728\n",
      "\n",
      "\n"
     ]
    },
    {
     "name": "stderr",
     "output_type": "stream",
     "text": [
      "Updating PHI and GAMMA: 100%|██████████| 2246/2246 [00:11<00:00, 194.28it/s]\n",
      "Updating LAMBDA: 100%|██████████| 2246/2246 [00:00<00:00, 3989.09it/s]\n"
     ]
    },
    {
     "name": "stdout",
     "output_type": "stream",
     "text": [
      "Current ELBO: -94292.0080250566\n",
      "\n",
      "\n"
     ]
    },
    {
     "name": "stderr",
     "output_type": "stream",
     "text": [
      "Updating PHI and GAMMA: 100%|██████████| 2246/2246 [00:11<00:00, 200.43it/s]\n",
      "Updating LAMBDA: 100%|██████████| 2246/2246 [00:00<00:00, 4215.43it/s]\n"
     ]
    },
    {
     "name": "stdout",
     "output_type": "stream",
     "text": [
      "Current ELBO: -93975.72821291198\n",
      "\n",
      "\n"
     ]
    },
    {
     "name": "stderr",
     "output_type": "stream",
     "text": [
      "Updating PHI and GAMMA: 100%|██████████| 2246/2246 [00:11<00:00, 199.57it/s]\n",
      "Updating LAMBDA: 100%|██████████| 2246/2246 [00:00<00:00, 4559.26it/s]\n"
     ]
    },
    {
     "name": "stdout",
     "output_type": "stream",
     "text": [
      "Current ELBO: -93663.0048754534\n",
      "\n",
      "\n"
     ]
    },
    {
     "data": {
      "text/plain": [
       "[<matplotlib.lines.Line2D at 0x21b9fd05d10>]"
      ]
     },
     "execution_count": 479,
     "metadata": {},
     "output_type": "execute_result"
    },
    {
     "data": {
      "image/png": "[encoded data removed]",
      "text/plain": [
       "<Figure size 640x480 with 1 Axes>"
      ]
     },
     "metadata": {},
     "output_type": "display_data"
    }
   ],
   "source": [
    "K = 30\n",
    "V = len(vocab)\n",
    "ETA = 1 / V\n",
    "ALPHA = 0.5\n",
    "\n",
    "tol = 10\n",
    "iteration = 1\n",
    "max_iterations = 200\n",
    "curr_ELBO = 0\n",
    "prev_ELBO = 301\n",
    "ELBOs = []\n",
    "\n",
    "start = time.time()\n",
    "LAMBDA, GAMMA, PHI = init_variational_params(corpus_matrix=corpus_matrix, K=K, V=V)\n",
    "ELBOs.append(compute_ELBO(LAMBDA=LAMBDA, GAMMA=GAMMA, PHI=PHI, corpus_matrix=corpus_matrix, K=K))\n",
    "while iteration <= max_iterations:\n",
    "    LAMBDA, GAMMA, PHI = update_variational_params(LAMBDA=LAMBDA, GAMMA=GAMMA, PHI=PHI, corpus_matrix=corpus_matrix, K=K)\n",
    "    prev_ELBO = curr_ELBO\n",
    "    curr_ELBO = compute_ELBO(LAMBDA=LAMBDA, GAMMA=GAMMA, PHI=PHI, corpus_matrix=corpus_matrix, K=K)\n",
    "    print(f\"Current ELBO: {curr_ELBO}\")\n",
    "    ELBOs.append(curr_ELBO)\n",
    "\n",
    "    if np.abs(curr_ELBO - prev_ELBO) <= tol:\n",
    "        break\n",
    "\n",
    "    iteration += 1\n",
    "    print(\"\\n\")\n",
    "\n",
    "stop = time.time()\n",
    "plt.xlabel(\"Seconds\")\n",
    "plt.ylabel(\"ELBO\")\n",
    "plt.ticklabel_format(style=\"sci\", axis=\"y\", scilimits=(0, 0))\n",
    "plt.plot(np.linspace(0, float(stop-start), len(ELBOs)), ELBOs)"
   ]
  },
  {
   "cell_type": "code",
   "execution_count": 480,
   "metadata": {},
   "outputs": [
    {
     "name": "stdout",
     "output_type": "stream",
     "text": [
      "Top 10 Words for Each Topic:\n",
      "\n",
      "Topic 1: board, hildreth, company, school, stocks, told, march, prices, week, million\n",
      "\n",
      "Topic 2: states, years, police, million, friday, told, official, made, court, country\n",
      "\n",
      "Topic 3: state, cent, new, cents, popeye, march, higher, million, years, futures\n",
      "\n",
      "Topic 4: today, company, fair, soviet, first, wednesday, city, country, police, news\n",
      "\n",
      "Topic 5: president, year, today, rambo, tuesday, told, billion, court, judge, made\n",
      "\n",
      "Topic 6: time, found, increase, name, east, mayor, people, gorbachev, series, soviet\n",
      "\n",
      "Topic 7: new, first, year, house, tuesday, political, officials, drug, company, office\n",
      "\n",
      "Topic 8: people, two, time, government, billion, defense, new, last, federal, economic\n",
      "\n",
      "Topic 9: new, tuesday, people, company, court, billion, american, get, trade, back\n",
      "\n",
      "Topic 10: year, told, american, today, time, two, monday, soviet, system, drug\n",
      "\n",
      "Topic 11: year, chrysler, contra, million, ec, last, percent, government, contract, united\n",
      "\n",
      "Topic 12: state, aquino, people, cnn, new, american, turkish, east, president, two\n",
      "\n",
      "Topic 13: contract, george, investment, quarter, jackson, bush, time, new, dukakis, fed\n",
      "\n",
      "Topic 14: government, percent, police, first, two, three, state, thursday, billion, million\n",
      "\n",
      "Topic 15: people, three, american, made, week, report, police, like, prices, defense\n",
      "\n",
      "Topic 16: police, people, president, week, dollar, hospital, officials, last, fire, german\n",
      "\n",
      "Topic 17: two, million, state, police, officials, week, first, san, government, country\n",
      "\n",
      "Topic 18: percent, today, states, billion, party, year, meeting, report, defense, east\n",
      "\n",
      "Topic 19: cdy, clr, rn, tuesday, last, new, american, president, people, stock\n",
      "\n",
      "Topic 20: year, government, people, new, last, news, police, first, three, defense\n",
      "\n",
      "Topic 21: percent, two, last, party, today, year, state, court, million, first\n",
      "\n",
      "Topic 22: government, today, new, president, first, united, time, bush, billion, found\n",
      "\n",
      "Topic 23: year, two, police, party, today, million, told, time, friday, three\n",
      "\n",
      "Topic 24: time, years, months, group, government, party, union, home, system, national\n",
      "\n",
      "Topic 25: new, percent, government, two, year, president, million, last, years, state\n",
      "\n",
      "Topic 26: percent, time, first, states, million, government, officials, president, two, union\n",
      "\n",
      "Topic 27: court, people, company, federal, years, week, case, three, attorney, party\n",
      "\n",
      "Topic 28: last, bush, police, united, million, soviet, years, told, billion, city\n",
      "\n",
      "Topic 29: venus, soviet, shamrock, grassley, police, party, year, news, week, saudis\n",
      "\n",
      "Topic 30: bush, state, new, president, bill, zubal, states, tuesday, conference, told\n",
      "\n",
      "\n"
     ]
    }
   ],
   "source": [
    "word_topic_probs = LAMBDA / LAMBDA.sum(axis=1, keepdims=True)\n",
    "top_words = {}\n",
    "for k in range(word_topic_probs.shape[0]):\n",
    "    top_idxs = np.argsort(word_topic_probs[k, :])[-10:][::-1]\n",
    "    top_words[k] = [vocab[v] for v in top_idxs]\n",
    "\n",
    "formatted_text = \"Top 10 Words for Each Topic:\\n\\n\"\n",
    "for topic, words in top_words.items():\n",
    "    formatted_text += f\"Topic {topic + 1}: \"\n",
    "    formatted_text += \", \".join(words) + \"\\n\\n\"\n",
    "\n",
    "print(formatted_text)"
   ]
  }
 ],
 "metadata": {
  "kernelspec": {
   "display_name": "ht",
   "language": "python",
   "name": "python3"
  },
  "language_info": {
   "codemirror_mode": {
    "name": "ipython",
    "version": 3
   },
   "file_extension": ".py",
   "mimetype": "text/x-python",
   "name": "python",
   "nbconvert_exporter": "python",
   "pygments_lexer": "ipython3",
   "version": "3.13.0"
  }
 },
 "nbformat": 4,
 "nbformat_minor": 2
}
