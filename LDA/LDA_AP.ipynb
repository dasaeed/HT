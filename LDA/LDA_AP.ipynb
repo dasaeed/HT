{
 "cells": [
  {
   "cell_type": "code",
   "execution_count": 117,
   "metadata": {},
   "outputs": [],
   "source": [
    "import os\n",
    "import time\n",
    "import numpy as np\n",
    "import numpy.random as npr\n",
    "import re\n",
    "import nltk\n",
    "import matplotlib.pyplot as plt\n",
    "import pandas as pd\n",
    "from nltk.corpus import stopwords\n",
    "from nltk.tokenize import word_tokenize\n",
    "from collections import Counter\n",
    "from tqdm import tqdm\n",
    "from scipy.special import digamma, loggamma\n",
    "\n",
    "assert os.path.exists(\"/Users/daany/Downloads/HT/LDA/ap.txt\") and os.path.exists(\"/Users/daany/Downloads/HT/LDA/vocab.txt\")\n",
    "\n",
    "with open(\"vocab.txt\", \"r\") as f:\n",
    "    vocab = set(f.read().splitlines())\n",
    "\n",
    "with open(\"ap.txt\", \"r\") as f:\n",
    "    raw_text = f.read()\n",
    "\n",
    "texts = re.findall(r\"<TEXT>(.*?)</TEXT>\", raw_text, re.DOTALL)\n",
    "stop_words = set(stopwords.words(\"english\"))\n",
    "documents = []\n",
    "\n",
    "for text in texts:\n",
    "    tokens = word_tokenize(text.lower())\n",
    "    tokens = [word for word in tokens if word.isalpha() and word not in stop_words and word in vocab]\n",
    "    documents.append(tokens)\n",
    "\n",
    "N = len(documents)\n",
    "V = len(vocab)\n",
    "\n",
    "doc_term_matrix = np.zeros((N, V))\n",
    "vocab_to_index = {word: i for i, word in enumerate(vocab)}\n",
    "\n",
    "for doc_idx, tokens in enumerate(documents):\n",
    "    token_counts = Counter(tokens)\n",
    "    for token, count in token_counts.items():\n",
    "        if token in vocab_to_index:\n",
    "            term_idx = vocab_to_index[token]\n",
    "            doc_term_matrix[doc_idx, term_idx] = count\n",
    "\n",
    "nonzero_idxs = []\n",
    "for doc in doc_term_matrix:\n",
    "    nonzero_idx = np.where(doc > 0)[0]\n",
    "    nonzero_idxs.append(sorted(nonzero_idx))\n",
    "\n",
    "ETA = 1 / V\n",
    "ALPHA = 0.5\n",
    "K = 30 \n",
    "\n",
    "def init_variational_params(doc_term_matrix, K, rand_state=0):\n",
    "    N, V = doc_term_matrix.shape # N is number of documents\n",
    "    # rs = npr.RandomState(rand_state)\n",
    "    # LAMBDA = rs.random(size=(K, V)) + 0.001\n",
    "    LAMBDA = np.random.uniform(low=0.01, high=1.00, size=(K, V))\n",
    "    GAMMA = np.ones((N, K))\n",
    "    PHI = []\n",
    "    for doc in doc_term_matrix:\n",
    "        num_words_per_doc = np.sum((doc > 0).astype(\"int32\"))\n",
    "        doc_PHI = np.ones((num_words_per_doc, K))\n",
    "        doc_PHI = doc_PHI / K\n",
    "        PHI.append(doc_PHI)\n",
    "\n",
    "    return LAMBDA, GAMMA, PHI\n",
    "\n",
    "def compute_ELBO(LAMBDA, GAMMA, PHI, doc_term_matrix, nonzero_idxs, K):\n",
    "    N, V = doc_term_matrix.shape\n",
    "    ELBO = 0\n",
    "\n",
    "    E_log_p_BETA = 0\n",
    "    for k in range(K):\n",
    "        E_log_p_BETA += (ETA - 1) * np.sum(digamma(LAMBDA[k]) - digamma(np.sum(LAMBDA[k])))\n",
    "    ELBO += E_log_p_BETA\n",
    "\n",
    "    E_log_p_THETA = 0\n",
    "    for i in range(N):\n",
    "        E_log_p_THETA += (ALPHA - 1) * np.sum(digamma(GAMMA[i]) - digamma(np.sum(GAMMA[i])))\n",
    "    ELBO += E_log_p_THETA\n",
    "\n",
    "    E_q_log_p_z_x = 0\n",
    "    for i in range(N):\n",
    "        doc = doc_term_matrix[i]\n",
    "        nonzero_idx = nonzero_idxs[i]\n",
    "        corr_idx = 0\n",
    "        for idx in nonzero_idx:\n",
    "            E_q_log_p_z_x += doc[idx] * np.sum(PHI[i][corr_idx] * (digamma(GAMMA[i]) - digamma(np.sum(GAMMA[i])))) \\\n",
    "                + doc[idx] * np.sum(PHI[i][corr_idx] * (digamma(LAMBDA[:, idx]) - digamma(np.sum(LAMBDA, axis=1))))\n",
    "            corr_idx += 1\n",
    "    ELBO += E_q_log_p_z_x\n",
    "\n",
    "    E_log_q_BETA = 0\n",
    "    for k in range(K):\n",
    "        E_log_q_BETA += -loggamma(np.sum(LAMBDA[k])) + np.sum(loggamma(LAMBDA[k])) \\\n",
    "            - np.sum((LAMBDA[k] - 1) * (digamma(LAMBDA[k]) - digamma(np.sum(LAMBDA[k]))))\n",
    "    ELBO += E_log_q_BETA\n",
    "\n",
    "    E_log_q_THETA = 0\n",
    "    for i in range(N):\n",
    "        E_log_q_THETA += -loggamma(np.sum(GAMMA[i])) + np.sum(loggamma(GAMMA[i])) \\\n",
    "            - np.sum((GAMMA[i] - 1) * (digamma(GAMMA[i]) - digamma(np.sum(GAMMA[i]))))\n",
    "    ELBO += E_log_q_THETA\n",
    "\n",
    "    E_q_log_z = 0\n",
    "    for i in range(N):\n",
    "        doc = doc_term_matrix[i]\n",
    "        nonzero_idx = nonzero_idxs[i]\n",
    "        corr_idx = 0\n",
    "        for idx in nonzero_idx:\n",
    "            E_q_log_z += -doc[idx] * np.sum(PHI[i][corr_idx] * np.log(PHI[i][corr_idx]))\n",
    "            corr_idx += 1\n",
    "    ELBO += E_q_log_z\n",
    "\n",
    "    return ELBO\n",
    "\n",
    "def log_sum_exp(vec):\n",
    "    a = np.max(vec, axis=0)\n",
    "    log_sum_exp = np.log(np.sum(np.exp(vec - a))) + a\n",
    "\n",
    "    return log_sum_exp\n",
    "\n",
    "def update_variational_params(LAMBDA, GAMMA, PHI, doc_term_matrix, nonzero_idxs, K):\n",
    "    N, V = doc_term_matrix.shape\n",
    "\n",
    "    print(\"Updating PHI and GAMMA\")\n",
    "    for i in tqdm(range(N)):\n",
    "        doc = doc_term_matrix[i]\n",
    "        nonzero_idx = nonzero_idxs[i]\n",
    "        corr_idx = 0\n",
    "        for idx in nonzero_idx:\n",
    "            log_PHI_ij = np.zeros((K, ))\n",
    "            for k in range(K):\n",
    "                exponent = digamma(GAMMA[i][k]) - digamma(np.sum(GAMMA[i])) \\\n",
    "                    + digamma(LAMBDA[k][idx]) - digamma(np.sum(LAMBDA[k]))\n",
    "                log_PHI_ij[k] = exponent\n",
    "            PHI_ij = np.exp(log_PHI_ij - log_sum_exp(log_PHI_ij))\n",
    "            PHI[i][corr_idx] = PHI_ij\n",
    "            corr_idx += 1\n",
    "\n",
    "        GAMMA_i = np.zeros((K, )) + ALPHA\n",
    "        for k in range(K):\n",
    "            GAMMA_i[k] += np.sum(doc[nonzero_idx] * PHI[i][:, k])\n",
    "        GAMMA[i] = GAMMA_i\n",
    "\n",
    "    print(\"Updating LAMBDA\")\n",
    "    for k in tqdm(range(K)):\n",
    "        LAMBDA_k = np.zeros((V, )) + ETA\n",
    "        for i in range(N):\n",
    "            doc = doc_term_matrix[i]\n",
    "            nonzero_idx = nonzero_idxs[i]\n",
    "            corr_idx = 0\n",
    "            for idx in nonzero_idx:\n",
    "                LAMBDA_k[idx] += PHI[i][corr_idx][k]\n",
    "                corr_idx += 1\n",
    "        LAMBDA[k] = LAMBDA_k\n",
    "\n",
    "    return LAMBDA, GAMMA, PHI"
   ]
  },
  {
   "cell_type": "code",
   "execution_count": 134,
   "metadata": {},
   "outputs": [],
   "source": [
    "with open(\"ap.txt\", \"r\") as file:\n",
    "    raw_text = file.read()\n",
    "documents = re.findall(r\"<TEXT>(.*?)</TEXT>\", raw_text, re.DOTALL)\n",
    "documents = [doc.strip().replace(\"\\n\", \" \") for doc in documents]\n",
    "\n",
    "with open(\"vocab.txt\", \"r\") as file:\n",
    "    vocab = [line.strip() for line in file]\n",
    "vocab_to_idx = {word: idx for idx, word in enumerate(vocab)}\n",
    "\n",
    "stop_words = set(stopwords.words(\"english\"))\n",
    "corpus_matrix = []\n",
    "for doc in documents:\n",
    "    tokens = word_tokenize(doc.lower())\n",
    "    filtered_tokens = [word for word in tokens if word.isalpha() and word not in stop_words]\n",
    "    word_idxs = [vocab_to_idx[word] for word in filtered_tokens if word in vocab_to_idx]\n",
    "    corpus_matrix.append(word_idxs)"
   ]
  },
  {
   "cell_type": "code",
   "execution_count": 292,
   "metadata": {},
   "outputs": [],
   "source": [
    "def init_variational_params(corpus_matrix, K, V):\n",
    "    N = len(corpus_matrix)\n",
    "    LAMBDA = np.random.uniform(low=0.01, high=1.00, size=(K, V))\n",
    "    GAMMA = np.ones((N, K))\n",
    "    PHI = []\n",
    "    for doc in corpus_matrix:\n",
    "        doc = np.asarray(doc)\n",
    "        num_words_per_doc = np.sum((doc > 0).astype(\"int32\"))\n",
    "        doc_PHI = np.ones((num_words_per_doc, K))\n",
    "        doc_PHI = doc_PHI / K\n",
    "        PHI.append(doc_PHI)\n",
    "\n",
    "    return LAMBDA, GAMMA, PHI\n",
    "\n",
    "def compute_ELBO(LAMBDA, GAMMA, PHI, corpus_matrix, K):\n",
    "    N = len(corpus_matrix)\n",
    "    ELBO = 0\n",
    "\n",
    "    E_log_p_BETA = 0\n",
    "    for k in range(K):\n",
    "        E_log_p_BETA += (ETA - 1) * np.sum(digamma(LAMBDA[k]) - digamma(np.sum(LAMBDA[k])))\n",
    "    ELBO += E_log_p_BETA\n",
    "\n",
    "    E_log_p_THETA = 0\n",
    "    for i in range(N):\n",
    "        E_log_p_THETA += (ALPHA - 1) * np.sum(digamma(GAMMA[i]) - digamma(np.sum(GAMMA[i])))\n",
    "    ELBO += E_log_p_THETA\n",
    "\n",
    "    E_log_p_z_x = 0\n",
    "    for i in range(N):\n",
    "        M = len(corpus_matrix[i])\n",
    "        for j in range(M):\n",
    "            x_ij = corpus_matrix[i][j]\n",
    "            E_log_p_z_x += np.sum(PHI[i][j] * (digamma(GAMMA[i]) - digamma(np.sum(GAMMA[i])))) \\\n",
    "                + np.sum(PHI[i][j] * (digamma(LAMBDA[:, x_ij]) - digamma(np.sum(LAMBDA[:, x_ij]))))\n",
    "    ELBO += E_log_p_z_x\n",
    "\n",
    "    E_q_log_BETA = 0\n",
    "    for k in range(K):\n",
    "        E_q_log_BETA += -loggamma(np.sum(LAMBDA[k])) + np.sum(loggamma(LAMBDA[k])) \\\n",
    "            - np.sum((LAMBDA[k] - 1) * (digamma(LAMBDA[k]) - digamma(np.sum(LAMBDA[k]))))\n",
    "    ELBO += E_q_log_BETA\n",
    "\n",
    "    E_q_log_THETA = 0\n",
    "    for i in range(N):\n",
    "        E_q_log_THETA += -loggamma(np.sum(GAMMA[i])) + np.sum(loggamma(GAMMA[i])) \\\n",
    "            - np.sum((GAMMA[i] - 1) * (digamma(GAMMA[i]) - digamma(np.sum(GAMMA[i]))))\n",
    "    ELBO += E_q_log_THETA\n",
    "\n",
    "    E_log_q_z = 0\n",
    "    for i in range(N):\n",
    "        M = len(corpus_matrix[i])\n",
    "        for j in range(M):\n",
    "            E_log_q_z += -np.sum(PHI[i][j] * np.log(PHI[i][j]))\n",
    "    ELBO += E_log_q_z\n",
    "\n",
    "    return ELBO\n",
    "\n",
    "def update_variational_params(LAMBDA, GAMMA, PHI, corpus_matrix, K):\n",
    "    for i in tqdm(range(N), desc=\"Updating PHI and GAMMA\"):\n",
    "        M = len(corpus_matrix[i])\n",
    "        for j in range(M):\n",
    "            x_ij = corpus_matrix[i][j]\n",
    "            exp_propto = digamma(LAMBDA[:, x_ij]) - digamma(np.sum(LAMBDA[:, x_ij])) \\\n",
    "                + digamma(GAMMA[i]) - digamma(np.sum(GAMMA[i]))\n",
    "            PHI[i][j] = np.exp(exp_propto - log_sum_exp(exp_propto))\n",
    "\n",
    "        for k in range(K):\n",
    "            GAMMA[i, k] = ALPHA + np.sum(PHI[i][:, k])\n",
    "\n",
    "    for i, doc in enumerate(tqdm(corpus_matrix, desc=\"Updating LAMBDA\")):\n",
    "        PHI_doc = PHI[i]\n",
    "        for j, word in enumerate(doc):\n",
    "            LAMBDA[:, word] += PHI_doc[j, :]\n",
    "\n",
    "    ETA_matrix = np.full((K, V), ETA)\n",
    "    LAMBDA = LAMBDA + ETA_matrix\n",
    "\n",
    "    return LAMBDA, GAMMA, PHI"
   ]
  },
  {
   "cell_type": "code",
   "execution_count": null,
   "metadata": {},
   "outputs": [],
   "source": [
    "K = 30\n",
    "V = len(vocab)\n",
    "ETA = 1/V\n",
    "ALPHA = 0.5\n",
    "\n",
    "tol = 300\n",
    "iteration = 1\n",
    "curr_ELBO = 0\n",
    "prev_ELBO = 301\n",
    "ELBOs = []\n",
    "\n",
    "start = time.time()\n",
    "LAMBDA, GAMMA, PHI = init_variational_params(corpus_matrix, K)\n",
    "ELBOs.append(compute_ELBO(LAMBDA, GAMMA, PHI, corpus_matrix, K))\n",
    "print(f\"Initial ELBO: {ELBOs[0]}\\n\")\n",
    "\n",
    "while np.abs(curr_ELBO - prev_ELBO) > tol:\n",
    "    print(f\"Iteration: {iteration}\")\n",
    "    LAMBDA, GAMMA, PHI = update_variational_params(LAMBDA, GAMMA, PHI, corpus_matrix, K)\n",
    "    prev_ELBO = curr_ELBO\n",
    "    curr_ELBO = compute_ELBO(LAMBDA, GAMMA, PHI, corpus_matrix, K)\n",
    "    print(f\"Current ELBO: {curr_ELBO}\")\n",
    "    ELBOs.append(curr_ELBO)\n",
    "    iteration += 1\n",
    "    print(\"\\n\")\n",
    "stop = time.time()"
   ]
  },
  {
   "cell_type": "code",
   "execution_count": 270,
   "metadata": {},
   "outputs": [
    {
     "data": {
      "text/plain": [
       "[<matplotlib.lines.Line2D at 0x21b4c24d450>]"
      ]
     },
     "execution_count": 270,
     "metadata": {},
     "output_type": "execute_result"
    },
    {
     "data": {
      "image/png": "[encoded data removed]",
      "text/plain": [
       "<Figure size 640x480 with 1 Axes>"
      ]
     },
     "metadata": {},
     "output_type": "display_data"
    }
   ],
   "source": [
    "plt.xlabel(\"Seconds\")\n",
    "plt.ylabel(\"ELBO\")\n",
    "plt.ticklabel_format(style=\"sci\", axis=\"y\", scilimits=(0, 0))\n",
    "\n",
    "plt.plot(np.linspace(0, float(stop-start), len(ELBOs)), ELBOs)"
   ]
  },
  {
   "cell_type": "code",
   "execution_count": 272,
   "metadata": {},
   "outputs": [
    {
     "data": {
      "text/plain": [
       "{0: ['party', 'court', 'percent', 'police', 'gorbachev', 'states', 'two'],\n",
       " 1: ['percent', 'new', 'two', 'company', 'president', 'york', 'time'],\n",
       " 2: ['soviet', 'state', 'million', 'first', 'new', 'department', 'government'],\n",
       " 3: ['year', 'today', 'york', 'says', 'spokesman', 'monday', 'market'],\n",
       " 4: ['new', 'time', 'united', 'million', 'soviet', 'world', 'told'],\n",
       " 5: ['year', 'million', 'years', 'today', 'two', 'dukakis', 'house'],\n",
       " 6: ['united', 'bush', 'president', 'states', 'soviet', 'reagan', 'national'],\n",
       " 7: ['percent', 'new', 'people', 'million', 'year', 'two', 'government'],\n",
       " 8: ['last', 'state', 'two', 'year', 'officials', 'government', 'first'],\n",
       " 9: ['party', 'united', 'defense', 'case', 'expected', 'day', 'money'],\n",
       " 10: ['cdy', 'clr', 'rn', 'company', 'million', 'first', 'two'],\n",
       " 11: ['percent', 'time', 'bush', 'billion', 'friday', 'police', 'million'],\n",
       " 12: ['people', 'officials', 'percent', 'years', 'today', 'back', 'american'],\n",
       " 13: ['new', 'year', 'national', 'friday', 'government', 'people', 'two'],\n",
       " 14: ['year', 'people', 'million', 'soviet', 'time', 'new', 'bush'],\n",
       " 15: ['new',\n",
       "  'president',\n",
       "  'million',\n",
       "  'city',\n",
       "  'explaining',\n",
       "  'percent',\n",
       "  'soviet'],\n",
       " 16: ['united', 'million', 'two', 'officials', 'bush', 'iraq', 'state'],\n",
       " 17: ['percent', 'president', 'two', 'week', 'first', 'new', 'government'],\n",
       " 18: ['two', 'house', 'back', 'government', 'friday', 'police', 'dukakis'],\n",
       " 19: ['new', 'president', 'bush', 'government', 'tuesday', 'court', 'monday'],\n",
       " 20: ['kentucky', 'president', 'year', 'people', 'bush', 'court', 'market'],\n",
       " 21: ['state', 'million', 'time', 'years', 'world', 'american', 'back'],\n",
       " 22: ['measures', 'signs', 'time', 'tuesday', 'million', 'air', 'power'],\n",
       " 23: ['shuttle', 'mcdermott', 'police', 'people', 'soviet', 'years', 'first'],\n",
       " 24: ['police', 'treatment', 'aoun', 'year', 'today', 'last', 'united'],\n",
       " 25: ['people', 'state', 'last', 'president', 'money', 'party', 'today'],\n",
       " 26: ['soviet', 'time', 'say', 'military', 'air', 'united', 'decision'],\n",
       " 27: ['brando', 'police', 'time', 'soviet', 'canning', 'city', 'government'],\n",
       " 28: ['trade', 'time', 'party', 'new', 'two', 'soviet', 'committee'],\n",
       " 29: ['today', 'billion', 'spokesman', 'told', 'market', 'state', 'news']}"
      ]
     },
     "execution_count": 272,
     "metadata": {},
     "output_type": "execute_result"
    }
   ],
   "source": [
    "word_topic_probs = LAMBDA / LAMBDA.sum(axis=1, keepdims=True)\n",
    "top_words = {}\n",
    "for k in range(word_topic_probs.shape[0]):\n",
    "    top_idxs = np.argsort(word_topic_probs[k, :])[-7:][::-1]\n",
    "    top_words[k] = [vocab[v] for v in top_idxs]\n",
    "\n",
    "top_words"
   ]
  },
  {
   "cell_type": "code",
   "execution_count": 374,
   "metadata": {},
   "outputs": [],
   "source": [
    "with open(\"ap.txt\", \"r\") as file:\n",
    "    raw_text = file.read()\n",
    "documents = re.findall(r\"<TEXT>(.*?)</TEXT>\", raw_text, re.DOTALL)\n",
    "documents = [doc.strip().replace(\"\\n\", \" \") for doc in documents]\n",
    "stop_words = set(stopwords.words(\"english\"))\n",
    "word_counts = Counter()\n",
    "tokenized_documents = []\n",
    "\n",
    "for doc in documents:\n",
    "    tokens = word_tokenize(doc.lower())\n",
    "    filtered_tokens = [word for word in tokens if word.isalpha() and word \\\n",
    "                       not in stop_words]\n",
    "    tokenized_documents.append(filtered_tokens)\n",
    "    word_counts.update(filtered_tokens)\n",
    "\n",
    "reduced_vocab = [word for word, _ in word_counts.most_common(1000)]\n",
    "vocab_to_idx = {word: idx for idx, word in enumerate(reduced_vocab)}\n",
    "reduced_corpus_matrix = []\n",
    "for tokens in tokenized_documents:\n",
    "    reduced_doc = [vocab_to_idx[word] for word in tokens if \\\n",
    "                   word in vocab_to_idx]\n",
    "    if reduced_doc:\n",
    "        reduced_corpus_matrix.append(reduced_doc)"
   ]
  },
  {
   "cell_type": "code",
   "execution_count": 432,
   "metadata": {},
   "outputs": [],
   "source": [
    "def init_variational_params(corpus_mat, K, V):\n",
    "    N = len(corpus_mat)\n",
    "    LAMBDA = np.random.uniform(low=0.01, high=1.00, size=(K, V))\n",
    "    GAMMA = np.ones((N, K))\n",
    "    PHI = [np.ones((len(doc), K)) / K for doc in corpus_mat]\n",
    "\n",
    "    return LAMBDA, GAMMA, PHI\n",
    "\n",
    "def compute_ELBO(LAMBDA, GAMMA, PHI, corpus_mat):\n",
    "    N = len(corpus_mat)\n",
    "    ELBO = 0\n",
    "\n",
    "    E_log_p_BETA = np.sum(\n",
    "        (ETA-1) * (digamma(LAMBDA) - digamma(np.sum(LAMBDA, axis=1, keepdims=True)))\n",
    "        )\n",
    "    ELBO += E_log_p_BETA\n",
    "\n",
    "    E_log_p_THETA = np.sum(\n",
    "        (ALPHA-1) * (digamma(GAMMA) - digamma(np.sum(GAMMA, axis=1, keepdims=True)))\n",
    "    )\n",
    "    ELBO += E_log_p_THETA\n",
    "\n",
    "    E_log_p_z_x = 0\n",
    "    for i in range(N):\n",
    "        M = len(corpus_mat[i])\n",
    "        for j in range(M):\n",
    "            x_ij = corpus_mat[i][j]\n",
    "            E_log_p_z_x += np.sum(PHI[i][j] * (digamma(GAMMA[i]) - digamma(np.sum(GAMMA[i])))) \\\n",
    "                + np.sum(PHI[i][j] * (digamma(LAMBDA[:, x_ij]) - digamma(np.sum(LAMBDA[:, x_ij]))))\n",
    "    ELBO += E_log_p_z_x\n",
    "\n",
    "    E_q_log_BETA = np.sum(\n",
    "        -loggamma(np.sum(LAMBDA, axis=1)) + np.sum(loggamma(LAMBDA), axis=1) \\\n",
    "            - np.sum((LAMBDA - 1) * (digamma(LAMBDA) - digamma(np.sum(LAMBDA, axis=1, keepdims=True))), axis=1)\n",
    "    )\n",
    "    ELBO += E_q_log_BETA\n",
    "\n",
    "    E_q_log_THETA = np.sum(\n",
    "        -loggamma(np.sum(GAMMA, axis=1)) + np.sum(loggamma(GAMMA), axis=1) \\\n",
    "        - np.sum((GAMMA - 1) * (digamma(GAMMA) - digamma(np.sum(GAMMA, axis=1, keepdims=True))), axis=1)\n",
    "    )\n",
    "    ELBO += E_q_log_THETA\n",
    "\n",
    "    E_log_q_z = 0\n",
    "    for i, doc in enumerate(corpus_mat):\n",
    "        for j, x_ij in enumerate(doc):  # x_ij is the word index\n",
    "            PHI_nonzero = PHI[i][j][PHI[i][j] > 0]\n",
    "            E_log_q_z += -np.sum(PHI[i][j] * np.log(PHI[i][j] + 1e-10))\n",
    "    ELBO += E_log_q_z\n",
    "\n",
    "    return ELBO\n",
    "\n",
    "def update_variational_params(LAMBDA, GAMMA, PHI, corpus_mat, K, V):\n",
    "    for i in tqdm(range(N), desc=\"Updating PHI and GAMMA\"):\n",
    "        M = len(corpus_mat[i])\n",
    "        for j in range(M):\n",
    "            x_ij = corpus_mat[i][j]\n",
    "            exp_propto = digamma(LAMBDA[:, x_ij]) - digamma(np.sum(LAMBDA[:, x_ij])) \\\n",
    "                + digamma(GAMMA[i]) - digamma(np.sum(GAMMA[i]))\n",
    "            PHI[i][j] = np.exp(exp_propto - log_sum_exp(exp_propto))\n",
    "\n",
    "        for k in range(K):\n",
    "            GAMMA[i, k] = ALPHA + np.sum(PHI[i][:, k])\n",
    "\n",
    "    LAMBDA = np.full((K, V), ETA)\n",
    "    for i, doc in enumerate(tqdm(corpus_mat, desc=\"Updating LAMBDA\")):\n",
    "        doc_word_idxs = np.array(doc)\n",
    "        for k in range(K):\n",
    "            np.add.at(LAMBDA[k], doc_word_idxs, PHI[i][:, k])\n",
    "\n",
    "    return LAMBDA, GAMMA, PHI"
   ]
  },
  {
   "cell_type": "code",
   "execution_count": null,
   "metadata": {},
   "outputs": [
    {
     "name": "stdout",
     "output_type": "stream",
     "text": [
      "Initial ELBO: -1998357.0717729595\n",
      "\n"
     ]
    },
    {
     "name": "stderr",
     "output_type": "stream",
     "text": [
      "Updating PHI and GAMMA: 100%|██████████| 2244/2244 [00:06<00:00, 364.72it/s]\n",
      "Updating LAMBDA: 100%|██████████| 2244/2244 [00:00<00:00, 15865.23it/s]\n"
     ]
    },
    {
     "name": "stdout",
     "output_type": "stream",
     "text": [
      "Current ELBO: -955086.5964575101\n",
      "\n",
      "\n"
     ]
    },
    {
     "name": "stderr",
     "output_type": "stream",
     "text": [
      "Updating PHI and GAMMA: 100%|██████████| 2244/2244 [00:06<00:00, 342.88it/s]\n",
      "Updating LAMBDA: 100%|██████████| 2244/2244 [00:00<00:00, 16655.37it/s]\n"
     ]
    },
    {
     "name": "stdout",
     "output_type": "stream",
     "text": [
      "Current ELBO: -936542.3090329937\n",
      "\n",
      "\n"
     ]
    },
    {
     "name": "stderr",
     "output_type": "stream",
     "text": [
      "Updating PHI and GAMMA: 100%|██████████| 2244/2244 [00:06<00:00, 326.15it/s]\n",
      "Updating LAMBDA: 100%|██████████| 2244/2244 [00:00<00:00, 12495.73it/s]\n"
     ]
    },
    {
     "name": "stdout",
     "output_type": "stream",
     "text": [
      "Current ELBO: -920430.6357205363\n",
      "\n",
      "\n"
     ]
    },
    {
     "name": "stderr",
     "output_type": "stream",
     "text": [
      "Updating PHI and GAMMA: 100%|██████████| 2244/2244 [00:07<00:00, 304.78it/s]\n",
      "Updating LAMBDA: 100%|██████████| 2244/2244 [00:00<00:00, 14980.68it/s]\n"
     ]
    },
    {
     "name": "stdout",
     "output_type": "stream",
     "text": [
      "Current ELBO: -898516.9147196409\n",
      "\n",
      "\n"
     ]
    },
    {
     "name": "stderr",
     "output_type": "stream",
     "text": [
      "Updating PHI and GAMMA: 100%|██████████| 2244/2244 [00:06<00:00, 325.08it/s]\n",
      "Updating LAMBDA: 100%|██████████| 2244/2244 [00:00<00:00, 15295.14it/s]\n"
     ]
    },
    {
     "name": "stdout",
     "output_type": "stream",
     "text": [
      "Current ELBO: -854718.1272002291\n",
      "\n",
      "\n"
     ]
    },
    {
     "name": "stderr",
     "output_type": "stream",
     "text": [
      "Updating PHI and GAMMA: 100%|██████████| 2244/2244 [00:06<00:00, 323.12it/s]\n",
      "Updating LAMBDA: 100%|██████████| 2244/2244 [00:00<00:00, 15338.89it/s]\n"
     ]
    },
    {
     "name": "stdout",
     "output_type": "stream",
     "text": [
      "Current ELBO: -763917.6120078405\n",
      "\n",
      "\n"
     ]
    },
    {
     "name": "stderr",
     "output_type": "stream",
     "text": [
      "Updating PHI and GAMMA: 100%|██████████| 2244/2244 [00:06<00:00, 324.66it/s]\n",
      "Updating LAMBDA: 100%|██████████| 2244/2244 [00:00<00:00, 15194.69it/s]\n"
     ]
    },
    {
     "name": "stdout",
     "output_type": "stream",
     "text": [
      "Current ELBO: -620076.3103675582\n",
      "\n",
      "\n"
     ]
    },
    {
     "name": "stderr",
     "output_type": "stream",
     "text": [
      "Updating PHI and GAMMA: 100%|██████████| 2244/2244 [00:06<00:00, 328.55it/s]\n",
      "Updating LAMBDA: 100%|██████████| 2244/2244 [00:00<00:00, 15093.16it/s]\n"
     ]
    },
    {
     "name": "stdout",
     "output_type": "stream",
     "text": [
      "Current ELBO: -467120.82421793137\n",
      "\n",
      "\n"
     ]
    },
    {
     "name": "stderr",
     "output_type": "stream",
     "text": [
      "Updating PHI and GAMMA: 100%|██████████| 2244/2244 [00:06<00:00, 323.21it/s]\n",
      "Updating LAMBDA: 100%|██████████| 2244/2244 [00:00<00:00, 15330.94it/s]\n"
     ]
    },
    {
     "name": "stdout",
     "output_type": "stream",
     "text": [
      "Current ELBO: -348249.89343416755\n",
      "\n",
      "\n"
     ]
    },
    {
     "name": "stderr",
     "output_type": "stream",
     "text": [
      "Updating PHI and GAMMA: 100%|██████████| 2244/2244 [00:06<00:00, 325.17it/s]\n",
      "Updating LAMBDA: 100%|██████████| 2244/2244 [00:00<00:00, 15309.65it/s]\n"
     ]
    },
    {
     "name": "stdout",
     "output_type": "stream",
     "text": [
      "Current ELBO: -268735.26962418813\n",
      "\n",
      "\n"
     ]
    },
    {
     "name": "stderr",
     "output_type": "stream",
     "text": [
      "Updating PHI and GAMMA: 100%|██████████| 2244/2244 [00:06<00:00, 323.94it/s]\n",
      "Updating LAMBDA: 100%|██████████| 2244/2244 [00:00<00:00, 15869.92it/s]\n"
     ]
    },
    {
     "name": "stdout",
     "output_type": "stream",
     "text": [
      "Current ELBO: -214754.67370883308\n",
      "\n",
      "\n"
     ]
    },
    {
     "name": "stderr",
     "output_type": "stream",
     "text": [
      "Updating PHI and GAMMA: 100%|██████████| 2244/2244 [00:07<00:00, 316.54it/s]\n",
      "Updating LAMBDA: 100%|██████████| 2244/2244 [00:00<00:00, 15229.63it/s]\n"
     ]
    },
    {
     "name": "stdout",
     "output_type": "stream",
     "text": [
      "Current ELBO: -176592.7910859641\n",
      "\n",
      "\n"
     ]
    },
    {
     "name": "stderr",
     "output_type": "stream",
     "text": [
      "Updating PHI and GAMMA: 100%|██████████| 2244/2244 [00:07<00:00, 319.09it/s]\n",
      "Updating LAMBDA: 100%|██████████| 2244/2244 [00:00<00:00, 15084.89it/s]\n"
     ]
    },
    {
     "name": "stdout",
     "output_type": "stream",
     "text": [
      "Current ELBO: -151856.61472640344\n",
      "\n",
      "\n"
     ]
    },
    {
     "name": "stderr",
     "output_type": "stream",
     "text": [
      "Updating PHI and GAMMA: 100%|██████████| 2244/2244 [00:06<00:00, 323.02it/s]\n",
      "Updating LAMBDA: 100%|██████████| 2244/2244 [00:00<00:00, 15121.04it/s]\n"
     ]
    },
    {
     "name": "stdout",
     "output_type": "stream",
     "text": [
      "Current ELBO: -138308.80396519313\n",
      "\n",
      "\n"
     ]
    },
    {
     "name": "stderr",
     "output_type": "stream",
     "text": [
      "Updating PHI and GAMMA: 100%|██████████| 2244/2244 [00:06<00:00, 325.67it/s]\n",
      "Updating LAMBDA: 100%|██████████| 2244/2244 [00:00<00:00, 14906.92it/s]\n"
     ]
    },
    {
     "name": "stdout",
     "output_type": "stream",
     "text": [
      "Current ELBO: -131846.11366887175\n",
      "\n",
      "\n"
     ]
    },
    {
     "name": "stderr",
     "output_type": "stream",
     "text": [
      "Updating PHI and GAMMA: 100%|██████████| 2244/2244 [00:06<00:00, 322.60it/s]\n",
      "Updating LAMBDA: 100%|██████████| 2244/2244 [00:00<00:00, 15225.29it/s]\n"
     ]
    },
    {
     "name": "stdout",
     "output_type": "stream",
     "text": [
      "Current ELBO: -128663.63026960137\n",
      "\n",
      "\n"
     ]
    },
    {
     "name": "stderr",
     "output_type": "stream",
     "text": [
      "Updating PHI and GAMMA: 100%|██████████| 2244/2244 [00:07<00:00, 310.54it/s]\n",
      "Updating LAMBDA: 100%|██████████| 2244/2244 [00:00<00:00, 14791.07it/s]\n"
     ]
    },
    {
     "name": "stdout",
     "output_type": "stream",
     "text": [
      "Current ELBO: -127066.82369756233\n",
      "\n",
      "\n"
     ]
    },
    {
     "name": "stderr",
     "output_type": "stream",
     "text": [
      "Updating PHI and GAMMA: 100%|██████████| 2244/2244 [00:06<00:00, 320.86it/s]\n",
      "Updating LAMBDA: 100%|██████████| 2244/2244 [00:00<00:00, 14793.21it/s]\n"
     ]
    },
    {
     "name": "stdout",
     "output_type": "stream",
     "text": [
      "Current ELBO: -126137.21846327742\n",
      "\n",
      "\n"
     ]
    },
    {
     "name": "stderr",
     "output_type": "stream",
     "text": [
      "Updating PHI and GAMMA: 100%|██████████| 2244/2244 [00:07<00:00, 317.58it/s]\n",
      "Updating LAMBDA: 100%|██████████| 2244/2244 [00:00<00:00, 14958.47it/s]\n"
     ]
    },
    {
     "name": "stdout",
     "output_type": "stream",
     "text": [
      "Current ELBO: -125398.11181046435\n",
      "\n",
      "\n"
     ]
    },
    {
     "name": "stderr",
     "output_type": "stream",
     "text": [
      "Updating PHI and GAMMA: 100%|██████████| 2244/2244 [00:07<00:00, 314.62it/s]\n",
      "Updating LAMBDA: 100%|██████████| 2244/2244 [00:00<00:00, 14896.82it/s]\n"
     ]
    },
    {
     "name": "stdout",
     "output_type": "stream",
     "text": [
      "Current ELBO: -124644.38240266021\n",
      "\n",
      "\n"
     ]
    },
    {
     "name": "stderr",
     "output_type": "stream",
     "text": [
      "Updating PHI and GAMMA: 100%|██████████| 2244/2244 [00:06<00:00, 321.18it/s]\n",
      "Updating LAMBDA: 100%|██████████| 2244/2244 [00:00<00:00, 14785.01it/s]\n"
     ]
    },
    {
     "name": "stdout",
     "output_type": "stream",
     "text": [
      "Current ELBO: -123906.949060119\n",
      "\n",
      "\n"
     ]
    },
    {
     "name": "stderr",
     "output_type": "stream",
     "text": [
      "Updating PHI and GAMMA: 100%|██████████| 2244/2244 [00:06<00:00, 324.53it/s]\n",
      "Updating LAMBDA: 100%|██████████| 2244/2244 [00:00<00:00, 14951.08it/s]\n"
     ]
    },
    {
     "name": "stdout",
     "output_type": "stream",
     "text": [
      "Current ELBO: -123213.93248013289\n",
      "\n",
      "\n"
     ]
    },
    {
     "name": "stderr",
     "output_type": "stream",
     "text": [
      "Updating PHI and GAMMA: 100%|██████████| 2244/2244 [00:07<00:00, 311.99it/s]\n",
      "Updating LAMBDA: 100%|██████████| 2244/2244 [00:00<00:00, 14985.55it/s]\n"
     ]
    },
    {
     "name": "stdout",
     "output_type": "stream",
     "text": [
      "Current ELBO: -122628.65643577043\n",
      "\n",
      "\n"
     ]
    },
    {
     "name": "stderr",
     "output_type": "stream",
     "text": [
      "Updating PHI and GAMMA: 100%|██████████| 2244/2244 [00:06<00:00, 320.60it/s]\n",
      "Updating LAMBDA: 100%|██████████| 2244/2244 [00:00<00:00, 15063.98it/s]\n"
     ]
    },
    {
     "name": "stdout",
     "output_type": "stream",
     "text": [
      "Current ELBO: -122155.90268914086\n",
      "\n",
      "\n"
     ]
    },
    {
     "name": "stderr",
     "output_type": "stream",
     "text": [
      "Updating PHI and GAMMA: 100%|██████████| 2244/2244 [00:07<00:00, 315.39it/s]\n",
      "Updating LAMBDA: 100%|██████████| 2244/2244 [00:00<00:00, 15573.81it/s]\n"
     ]
    },
    {
     "name": "stdout",
     "output_type": "stream",
     "text": [
      "Current ELBO: -121784.89577075662\n",
      "\n",
      "\n"
     ]
    },
    {
     "name": "stderr",
     "output_type": "stream",
     "text": [
      "Updating PHI and GAMMA: 100%|██████████| 2244/2244 [00:07<00:00, 316.09it/s]\n",
      "Updating LAMBDA: 100%|██████████| 2244/2244 [00:00<00:00, 14941.32it/s]\n"
     ]
    },
    {
     "name": "stdout",
     "output_type": "stream",
     "text": [
      "Current ELBO: -121454.08753798537\n",
      "\n",
      "\n"
     ]
    },
    {
     "name": "stderr",
     "output_type": "stream",
     "text": [
      "Updating PHI and GAMMA: 100%|██████████| 2244/2244 [00:06<00:00, 321.50it/s]\n",
      "Updating LAMBDA: 100%|██████████| 2244/2244 [00:00<00:00, 12462.11it/s]\n"
     ]
    },
    {
     "name": "stdout",
     "output_type": "stream",
     "text": [
      "Current ELBO: -121158.37078628481\n"
     ]
    }
   ],
   "source": [
    "K = 30\n",
    "V = len(reduced_vocab)\n",
    "ETA = 1 / V\n",
    "ALPHA = 0.5\n",
    "\n",
    "tol = 300\n",
    "iteration = 1\n",
    "max_iterations = 100\n",
    "curr_ELBO = 0\n",
    "prev_ELBO = 301\n",
    "ELBOs = []\n",
    "\n",
    "start = time.time()\n",
    "LAMBDA, GAMMA, PHI = init_variational_params(corpus_mat=reduced_corpus_matrix, K=30, V=len(reduced_vocab))\n",
    "ELBOs.append(compute_ELBO(LAMBDA=LAMBDA, GAMMA=GAMMA, PHI=PHI, corpus_mat=reduced_corpus_matrix))\n",
    "print(f\"Initial ELBO: {ELBOs[0]}\\n\")\n",
    "\n",
    "while iteration <= max_iterations:\n",
    "    LAMBDA, GAMMA, PHI = update_variational_params(LAMBDA=LAMBDA, GAMMA=GAMMA, PHI=PHI, corpus_mat=reduced_corpus_matrix, K=30, V=len(reduced_vocab))\n",
    "    prev_ELBO = curr_ELBO\n",
    "    curr_ELBO = compute_ELBO(LAMBDA=LAMBDA, GAMMA=GAMMA, PHI=PHI, corpus_mat=reduced_corpus_matrix)\n",
    "    print(f\"Current ELBO: {curr_ELBO}\")\n",
    "    ELBOs.append(curr_ELBO)\n",
    "\n",
    "    if np.abs(curr_ELBO - prev_ELBO) <= tol:\n",
    "        break\n",
    "\n",
    "    iteration += 1\n",
    "    print(\"\\n\")\n",
    "stop = time.time()"
   ]
  },
  {
   "cell_type": "code",
   "execution_count": 437,
   "metadata": {},
   "outputs": [
    {
     "data": {
      "text/plain": [
       "[<matplotlib.lines.Line2D at 0x21b99d24f50>]"
      ]
     },
     "execution_count": 437,
     "metadata": {},
     "output_type": "execute_result"
    },
    {
     "data": {
      "image/png": "[encoded data removed]",
      "text/plain": [
       "<Figure size 640x480 with 1 Axes>"
      ]
     },
     "metadata": {},
     "output_type": "display_data"
    }
   ],
   "source": [
    "plt.xlabel(\"Seconds\")\n",
    "plt.ylabel(\"ELBO\")\n",
    "plt.ticklabel_format(style=\"sci\", axis=\"y\", scilimits=(0, 0))\n",
    "\n",
    "plt.plot(np.linspace(0, float(stop-start), len(ELBOs[5:])), ELBOs[5:])"
   ]
  },
  {
   "cell_type": "code",
   "execution_count": 431,
   "metadata": {},
   "outputs": [
    {
     "data": {
      "text/plain": [
       "{0: ['said', 'northwest', 'lines', 'voted', 'consider', 'ban', 'makes'],\n",
       " 1: ['said', 'northwest', 'lines', 'voted', 'consider', 'ban', 'makes'],\n",
       " 2: ['said', 'northwest', 'lines', 'voted', 'consider', 'ban', 'makes'],\n",
       " 3: ['said', 'northwest', 'lines', 'voted', 'consider', 'ban', 'makes'],\n",
       " 4: ['said', 'northwest', 'lines', 'voted', 'consider', 'ban', 'makes'],\n",
       " 5: ['said', 'northwest', 'lines', 'voted', 'consider', 'ban', 'makes'],\n",
       " 6: ['dollar', 'yen', 'baker', 'mayor', 'bad', 'said', 'northwest'],\n",
       " 7: ['said', 'northwest', 'lines', 'voted', 'consider', 'ban', 'makes'],\n",
       " 8: ['time',\n",
       "  'monday',\n",
       "  'foreign',\n",
       "  'take',\n",
       "  'program',\n",
       "  'international',\n",
       "  'system'],\n",
       " 9: ['said', 'northwest', 'lines', 'voted', 'consider', 'ban', 'makes'],\n",
       " 10: ['said', 'northwest', 'lines', 'voted', 'consider', 'ban', 'makes'],\n",
       " 11: ['judge', 'move', 'seven', 'town', 'base', 'nothing', 'october'],\n",
       " 12: ['said', 'northwest', 'lines', 'voted', 'consider', 'ban', 'makes'],\n",
       " 13: ['said', 'northwest', 'lines', 'voted', 'consider', 'ban', 'makes'],\n",
       " 14: ['said', 'northwest', 'lines', 'voted', 'consider', 'ban', 'makes'],\n",
       " 15: ['said', 'northwest', 'lines', 'voted', 'consider', 'ban', 'makes'],\n",
       " 16: ['research', 'poll', 'today', 'company', 'bad', 'said', 'northwest'],\n",
       " 17: ['also', 'year', 'first', 'police', 'today', 'wednesday', 'group'],\n",
       " 18: ['said', 'northwest', 'lines', 'voted', 'consider', 'ban', 'makes'],\n",
       " 19: ['could', 'reagan', 'early', 'price', 'district', 'second', 'led'],\n",
       " 20: ['said', 'northwest', 'lines', 'voted', 'consider', 'ban', 'makes'],\n",
       " 21: ['israel', 'evidence', 'company', 'bad', 'said', 'northwest', 'lines'],\n",
       " 22: ['said', 'northwest', 'lines', 'voted', 'consider', 'ban', 'makes'],\n",
       " 23: ['said', 'would', 'new', 'percent', 'one', 'people', 'two'],\n",
       " 24: ['said', 'northwest', 'lines', 'voted', 'consider', 'ban', 'makes'],\n",
       " 25: ['said', 'northwest', 'lines', 'voted', 'consider', 'ban', 'makes'],\n",
       " 26: ['said', 'northwest', 'lines', 'voted', 'consider', 'ban', 'makes'],\n",
       " 27: ['said', 'northwest', 'lines', 'voted', 'consider', 'ban', 'makes'],\n",
       " 28: ['red', 'today', 'company', 'bad', 'said', 'northwest', 'lines'],\n",
       " 29: ['said', 'northwest', 'lines', 'voted', 'consider', 'ban', 'makes']}"
      ]
     },
     "execution_count": 431,
     "metadata": {},
     "output_type": "execute_result"
    }
   ],
   "source": [
    "word_topic_probs = LAMBDA / LAMBDA.sum(axis=1, keepdims=True)\n",
    "top_words = {}\n",
    "for k in range(word_topic_probs.shape[0]):\n",
    "    top_idxs = np.argsort(word_topic_probs[k, :])[-7:][::-1]\n",
    "    top_words[k] = [reduced_vocab[v] for v in top_idxs]\n",
    "\n",
    "top_words"
   ]
  }
 ],
 "metadata": {
  "kernelspec": {
   "display_name": "ht",
   "language": "python",
   "name": "python3"
  },
  "language_info": {
   "codemirror_mode": {
    "name": "ipython",
    "version": 3
   },
   "file_extension": ".py",
   "mimetype": "text/x-python",
   "name": "python",
   "nbconvert_exporter": "python",
   "pygments_lexer": "ipython3",
   "version": "3.13.0"
  }
 },
 "nbformat": 4,
 "nbformat_minor": 2
}
