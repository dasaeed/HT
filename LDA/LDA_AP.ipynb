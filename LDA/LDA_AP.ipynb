{
 "cells": [
  {
   "cell_type": "code",
   "execution_count": 2,
   "metadata": {},
   "outputs": [],
   "source": [
    "import os\n",
    "import time\n",
    "import pandas as pd\n",
    "import numpy as np\n",
    "import numpy.random as npr\n",
    "import copy\n",
    "import re\n",
    "import nltk\n",
    "import matplotlib.pyplot as plt\n",
    "import pandas as pd\n",
    "from nltk.corpus import stopwords\n",
    "from nltk.tokenize import word_tokenize\n",
    "from collections import Counter\n",
    "from tqdm import tqdm\n",
    "from scipy.special import digamma, loggamma"
   ]
  },
  {
   "cell_type": "code",
   "execution_count": 12,
   "metadata": {},
   "outputs": [],
   "source": [
    "def clean_text(text):\n",
    "    with open(\"vocab.txt\", \"r\") as file:\n",
    "        vocab = [line.strip() for line in file.readlines()]\n",
    "    vocab_set = set(vocab)\n",
    "    contractions = {\n",
    "        r\"n\\'t\": 'nt',\n",
    "        r\"\\'s\": 's',     \n",
    "        r\"\\'ve\": 've',   \n",
    "        r\"\\'re\": 're',   \n",
    "        r\"\\'m\": 'm',     \n",
    "        r\"\\'ll\": 'll',   \n",
    "        r\"\\'d\": 'd'      \n",
    "    }\n",
    "\n",
    "    text = text.lower().strip()\n",
    "    text = re.sub(r'[.,!?;:\"``]', \" \", text)\n",
    "    words = []\n",
    "    for word in text.split():\n",
    "        if \"'\" in word:\n",
    "            word_added = False\n",
    "            for pattern, replacement in contractions.items():\n",
    "                if word.endswith(pattern):\n",
    "                    contracted = word.replace(pattern, replacement)\n",
    "                    if contracted in vocab_set:\n",
    "                        words.append(contracted)\n",
    "                        word_added = True\n",
    "                        break\n",
    "            \n",
    "            if not word_added:\n",
    "                combined = word.replace(\"'\", \"\")\n",
    "                if combined in vocab_set:\n",
    "                    words.append(combined)\n",
    "\n",
    "        if \"-\" in word:\n",
    "            combined = word.replace(\"-\", \"\")\n",
    "            if combined in vocab_set:\n",
    "                words.append(combined)\n",
    "                continue\n",
    "                \n",
    "            parts = [p for p in word.split(\"-\") if p in vocab_set]\n",
    "            words.extend(parts)\n",
    "        else:\n",
    "            if word in vocab_set:\n",
    "                words.append(word)\n",
    "    return words\n",
    "\n",
    "def create_BoW_representation(doc_words, vocab_dict):\n",
    "    word_counts = Counter(word for word in doc_words if word in vocab_dict)\n",
    "    BoW_entries = []\n",
    "    for word, count in word_counts.items():\n",
    "        word_idx = vocab_dict[word]\n",
    "        BoW_entries.append(f\"{word_idx}:{count}\")\n",
    "    BoW_entries.sort(key=lambda x: int(x.split(\":\")[0]))\n",
    "\n",
    "    return f\"{len(BoW_entries)} {\" \".join(BoW_entries)}\"\n",
    "\n",
    "def process_documents(input_file, vocab_file):\n",
    "    with open(vocab_file, \"r\") as file:\n",
    "        vocab = [line.strip() for line in file.readlines()]\n",
    "    vocab_dict = {word: idx for idx, word in enumerate(vocab)}\n",
    "\n",
    "    with open(input_file, \"r\") as file:\n",
    "        raw_text = file.read()\n",
    "\n",
    "    documents = re.findall(r\"<TEXT>\\n(.*?)\\n </TEXT\", raw_text, re.DOTALL)\n",
    "    BoW_representations = []\n",
    "    for doc in tqdm(documents):\n",
    "        words = clean_text(doc)\n",
    "        BoW = create_BoW_representation(words, vocab_dict)\n",
    "        BoW_representations.append(BoW)\n",
    "\n",
    "    return BoW_representations\n",
    "\n",
    "def log_sum_exp(vec):\n",
    "    vec_max = np.max(vec, axis=0)\n",
    "    exp_vec = np.exp(vec - vec_max)\n",
    "    sum_exp_vec = np.sum(exp_vec)\n",
    "    log_sum_exp = np.log(sum_exp_vec) + vec_max\n",
    "    return log_sum_exp"
   ]
  },
  {
   "cell_type": "code",
   "execution_count": 14,
   "metadata": {},
   "outputs": [
    {
     "name": "stderr",
     "output_type": "stream",
     "text": [
      "100%|██████████| 2246/2246 [00:05<00:00, 400.37it/s]\n"
     ]
    }
   ],
   "source": [
    "AP_BoW = process_documents(\"ap.txt\", \"vocab.txt\")\n",
    "\n",
    "with open(\"AP_BoW.txt\", \"w\") as file:\n",
    "    file.write('\\n'.join(AP_BoW))"
   ]
  },
  {
   "cell_type": "code",
   "execution_count": 17,
   "metadata": {},
   "outputs": [
    {
     "name": "stderr",
     "output_type": "stream",
     "text": [
      "100%|██████████| 2246/2246 [00:00<00:00, 7022.12it/s]\n"
     ]
    }
   ],
   "source": [
    "def load_documents():\n",
    "    with open(\"vocab.txt\", \"r\") as file:\n",
    "        raw_lines = file.readlines()\n",
    "    idx_to_words = [word.strip() for word in raw_lines]\n",
    "    V = len(idx_to_words)\n",
    "\n",
    "    with open(\"ap_bow.txt\", \"r\") as file:\n",
    "        raw_lines = file.readlines()\n",
    "        N = len(raw_lines)\n",
    "    documents = np.zeros((N, V))\n",
    "    nonzero_idxs = []\n",
    "\n",
    "    for i in tqdm(range(N)):\n",
    "        BoW_doc = raw_lines[i].split(\" \")\n",
    "        M = int(BoW_doc[0])\n",
    "        BoW_doc = BoW_doc[1:]\n",
    "        document = np.zeros((V,))\n",
    "        nonzero_idx = []\n",
    "        for BoW in BoW_doc:\n",
    "            BoW = BoW.strip()\n",
    "            word_idx, count = BoW.split(\":\")\n",
    "            nonzero_idx.append(int(word_idx))\n",
    "            document[int(word_idx)] = count\n",
    "        assert(len(nonzero_idx) == M)\n",
    "\n",
    "        documents[i] = document\n",
    "        nonzero_idxs.append(sorted(nonzero_idx))\n",
    "    \n",
    "    return idx_to_words, documents, nonzero_idxs\n",
    "\n",
    "def init_variational_params(documents, K):\n",
    "    N, V = documents.shape\n",
    "    LAMBDA = np.random.uniform(low=0.01, high=1.0, size=(K, V))\n",
    "    GAMMA = np.ones((N, K))\n",
    "    PHI = []\n",
    "    for document in documents:\n",
    "        M = np.sum((document > 0).astype(\"int32\"))\n",
    "        document_PHI = np.ones((M, K))\n",
    "        document_PHI = document_PHI / K\n",
    "        PHI.append(document_PHI)\n",
    "\n",
    "    return LAMBDA, GAMMA, PHI\n",
    "\n",
    "idx_to_words, documents, nonzero_idxs = load_documents()\n",
    "K = 30\n",
    "V = len(idx_to_words)\n",
    "ETA = 100 / V\n",
    "ALPHA = 1 / K"
   ]
  },
  {
   "cell_type": "code",
   "execution_count": 98,
   "metadata": {},
   "outputs": [],
   "source": [
    "LAMBDA, GAMMA, PHI = init_variational_params(documents, K)"
   ]
  },
  {
   "cell_type": "code",
   "execution_count": null,
   "metadata": {},
   "outputs": [],
   "source": [
    "def compute_ELBO(LAMBDA, GAMMA, PHI, documents, nonzero_idxs, K):\n",
    "    ELBO = 0\n",
    "    N, _ = documents.shape\n",
    "\n",
    "    E_log_p_BETA = np.sum((ETA-1) * (digamma(LAMBDA) - digamma(np.sum(LAMBDA, axis=1, keepdims=True))))\n",
    "    ELBO += E_log_p_BETA\n",
    "\n",
    "    E_log_p_THETA = np.sum((ALPHA-1) * (digamma(GAMMA) - digamma(np.sum(GAMMA, axis=1, keepdims=True))))\n",
    "    ELBO += E_log_p_THETA\n",
    "\n",
    "    E_log_p_x_z = 0\n",
    "    for i in range(N):\n",
    "        document = documents[i]\n",
    "        nonzero_idx = nonzero_idxs[i]\n",
    "        word_idx = 0\n",
    "        for idx in nonzero_idx:\n",
    "            E_log_p_x_z += document[idx] * np.sum(PHI[i][word_idx] * (digamma(GAMMA[i])-digamma(np.sum(GAMMA[i])))) \\\n",
    "                + document[idx] * np.sum(PHI[i][word_idx] * (digamma(LAMBDA[:, idx])-digamma(np.sum(LAMBDA, axis=1))))\n",
    "            word_idx += 1\n",
    "    ELBO += E_log_p_x_z\n",
    "\n",
    "    E_log_q_BETA = np.sum(-loggamma(np.sum(LAMBDA, axis=1)) + np.sum(loggamma(LAMBDA), axis=1) \\\n",
    "        - np.sum((LAMBDA - 1) * (digamma(LAMBDA) - digamma(np.sum(LAMBDA, axis=1, keepdims=True))), axis=1))\n",
    "    ELBO += E_log_q_BETA\n",
    "\n",
    "    E_log_q_THETA = np.sum(-loggamma(np.sum(GAMMA, axis=1)) + np.sum(loggamma(GAMMA), axis=1) \\\n",
    "        - np.sum((GAMMA - 1) * (digamma(GAMMA) - digamma(np.sum(GAMMA, axis=1, keepdims=True))), axis=1))\n",
    "    ELBO += E_log_q_THETA\n",
    "\n",
    "    E_log_q_z = 0\n",
    "    for i in range(N):\n",
    "        document = documents[i]\n",
    "        nonzero_idx = nonzero_idxs[i]\n",
    "        word_idx = 0\n",
    "        for idx in nonzero_idx:\n",
    "            E_log_q_z += -document[idx] * np.sum(PHI[i][word_idx] * np.log(PHI[i][word_idx]))\n",
    "            word_idx += 1\n",
    "    ELBO += E_log_q_z\n",
    "\n",
    "    return ELBO"
   ]
  },
  {
   "cell_type": "code",
   "execution_count": null,
   "metadata": {},
   "outputs": [
    {
     "name": "stderr",
     "output_type": "stream",
     "text": [
      "100%|██████████| 2246/2246 [04:59<00:00,  7.51it/s]\n"
     ]
    }
   ],
   "source": [
    "LAMBDA_t = copy.deepcopy(LAMBDA)\n",
    "GAMMA_t = copy.deepcopy(GAMMA)\n",
    "PHI_t = copy.deepcopy(PHI)\n",
    "\n",
    "N, V = documents.shape\n",
    "ELBOs = []\n",
    "for i in tqdm(range(N), desc=\"Updating PHI and GAMMA\"):\n",
    "    document = documents[i]\n",
    "    nonzero_idx = nonzero_idxs[i]\n",
    "    GAMMA_i_t = copy.deepcopy(GAMMA_t[i])\n",
    "    word_idx = 0\n",
    "    for idx in nonzero_idx:\n",
    "        log_PHI_ij = np.zeros((K,))\n",
    "        for k in range(K):\n",
    "            LAMBDA_k_t = copy.deepcopy(LAMBDA_t[k])\n",
    "            exp_propto = digamma(GAMMA_i_t[k]) - digamma(np.sum(GAMMA_i_t)) + digamma(LAMBDA_k_t[idx]) - digamma(np.sum(LAMBDA_k_t))\n",
    "            log_PHI_ij[k] = exp_propto\n",
    "        PHI_ij = np.exp(log_PHI_ij - log_sum_exp(log_PHI_ij))\n",
    "        PHI_t[i][word_idx] = PHI_ij\n",
    "        word_idx += 1\n",
    "    GAMMA_i_t = np.zeros((K,)) + ALPHA\n",
    "    for k in range(K):\n",
    "        GAMMA_i_t[k] += np.sum(document[nonzero_idx] * PHI_t[i][:, k])\n",
    "    GAMMA_t[i] = GAMMA_i_t"
   ]
  },
  {
   "cell_type": "code",
   "execution_count": null,
   "metadata": {},
   "outputs": [
    {
     "name": "stderr",
     "output_type": "stream",
     "text": [
      "100%|██████████| 30/30 [00:11<00:00,  2.53it/s]\n"
     ]
    },
    {
     "data": {
      "text/plain": [
       "np.float64(-2860507.912042409)"
      ]
     },
     "execution_count": 61,
     "metadata": {},
     "output_type": "execute_result"
    }
   ],
   "source": [
    "for k in tqdm(range(K), desc=\"Updating LAMBDA\"):\n",
    "    LAMBDA_k_t = np.zeros((V,)) + ETA\n",
    "    for i in range(N):\n",
    "        document = documents[i]\n",
    "        nonzero_idx = nonzero_idxs[i]\n",
    "        word_idx = 0\n",
    "        for idx in nonzero_idx:\n",
    "            LAMBDA_k_t[idx] += document[idx] * PHI_t[i][word_idx][k]\n",
    "            word_idx += 1\n",
    "        LAMBDA_t[k] = LAMBDA_k_t\n",
    "\n",
    "compute_ELBO(LAMBDA_t, GAMMA_t, PHI_t, articles, nonzero_idxs, K)"
   ]
  },
  {
   "cell_type": "code",
   "execution_count": 138,
   "metadata": {},
   "outputs": [
    {
     "data": {
      "text/plain": [
       "(10473, 10473)"
      ]
     },
     "execution_count": 138,
     "metadata": {},
     "output_type": "execute_result"
    }
   ],
   "source": [
    "stop_words = set(stopwords.words(\"english\"))\n",
    "with open(\"vocab.txt\", \"r\") as file:\n",
    "    raw_lines = file.readlines()\n",
    "vocab = [word.strip() for word in raw_lines if word not in stop_words]\n",
    "len(vocab), len(raw_lines)"
   ]
  },
  {
   "cell_type": "code",
   "execution_count": 124,
   "metadata": {},
   "outputs": [
    {
     "data": {
      "text/plain": [
       "[<matplotlib.lines.Line2D at 0x1e26b542490>]"
      ]
     },
     "execution_count": 124,
     "metadata": {},
     "output_type": "execute_result"
    },
    {
     "data": {
      "image/png": "[encoded data removed]",
      "text/plain": [
       "<Figure size 640x480 with 1 Axes>"
      ]
     },
     "metadata": {},
     "output_type": "display_data"
    }
   ],
   "source": [
    "df = pd.read_csv(\"ELBO_V_10000.csv\")\n",
    "plt.plot(df[\"time_iter\"][2:] / 60, df[\"ELBO\"][2:])"
   ]
  }
 ],
 "metadata": {
  "kernelspec": {
   "display_name": "ht",
   "language": "python",
   "name": "python3"
  },
  "language_info": {
   "codemirror_mode": {
    "name": "ipython",
    "version": 3
   },
   "file_extension": ".py",
   "mimetype": "text/x-python",
   "name": "python",
   "nbconvert_exporter": "python",
   "pygments_lexer": "ipython3",
   "version": "3.13.0"
  }
 },
 "nbformat": 4,
 "nbformat_minor": 2
}
