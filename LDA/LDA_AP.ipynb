{
 "cells": [
  {
   "cell_type": "code",
   "execution_count": 117,
   "metadata": {},
   "outputs": [],
   "source": [
    "import os\n",
    "import time\n",
    "import numpy as np\n",
    "import numpy.random as npr\n",
    "import re\n",
    "import nltk\n",
    "import matplotlib.pyplot as plt\n",
    "import pandas as pd\n",
    "from nltk.corpus import stopwords\n",
    "from nltk.tokenize import word_tokenize\n",
    "from collections import Counter\n",
    "from tqdm import tqdm\n",
    "from scipy.special import digamma, loggamma\n",
    "\n",
    "assert os.path.exists(\"/Users/daany/Downloads/HT/LDA/ap.txt\") and os.path.exists(\"/Users/daany/Downloads/HT/LDA/vocab.txt\")\n",
    "\n",
    "with open(\"vocab.txt\", \"r\") as f:\n",
    "    vocab = set(f.read().splitlines())\n",
    "\n",
    "with open(\"ap.txt\", \"r\") as f:\n",
    "    raw_text = f.read()\n",
    "\n",
    "texts = re.findall(r\"<TEXT>(.*?)</TEXT>\", raw_text, re.DOTALL)\n",
    "stop_words = set(stopwords.words(\"english\"))\n",
    "documents = []\n",
    "\n",
    "for text in texts:\n",
    "    tokens = word_tokenize(text.lower())\n",
    "    tokens = [word for word in tokens if word.isalpha() and word not in stop_words and word in vocab]\n",
    "    documents.append(tokens)\n",
    "\n",
    "N = len(documents)\n",
    "V = len(vocab)\n",
    "\n",
    "doc_term_matrix = np.zeros((N, V))\n",
    "vocab_to_index = {word: i for i, word in enumerate(vocab)}\n",
    "\n",
    "for doc_idx, tokens in enumerate(documents):\n",
    "    token_counts = Counter(tokens)\n",
    "    for token, count in token_counts.items():\n",
    "        if token in vocab_to_index:\n",
    "            term_idx = vocab_to_index[token]\n",
    "            doc_term_matrix[doc_idx, term_idx] = count\n",
    "\n",
    "nonzero_idxs = []\n",
    "for doc in doc_term_matrix:\n",
    "    nonzero_idx = np.where(doc > 0)[0]\n",
    "    nonzero_idxs.append(sorted(nonzero_idx))\n",
    "\n",
    "ETA = 1 / V\n",
    "ALPHA = 0.5\n",
    "K = 30 \n",
    "\n",
    "def init_variational_params(doc_term_matrix, K, rand_state=0):\n",
    "    N, V = doc_term_matrix.shape # N is number of documents\n",
    "    # rs = npr.RandomState(rand_state)\n",
    "    # LAMBDA = rs.random(size=(K, V)) + 0.001\n",
    "    LAMBDA = np.random.uniform(low=0.01, high=1.00, size=(K, V))\n",
    "    GAMMA = np.ones((N, K))\n",
    "    PHI = []\n",
    "    for doc in doc_term_matrix:\n",
    "        num_words_per_doc = np.sum((doc > 0).astype(\"int32\"))\n",
    "        doc_PHI = np.ones((num_words_per_doc, K))\n",
    "        doc_PHI = doc_PHI / K\n",
    "        PHI.append(doc_PHI)\n",
    "\n",
    "    return LAMBDA, GAMMA, PHI\n",
    "\n",
    "def compute_ELBO(LAMBDA, GAMMA, PHI, doc_term_matrix, nonzero_idxs, K):\n",
    "    N, V = doc_term_matrix.shape\n",
    "    ELBO = 0\n",
    "\n",
    "    E_log_p_BETA = 0\n",
    "    for k in range(K):\n",
    "        E_log_p_BETA += (ETA - 1) * np.sum(digamma(LAMBDA[k]) - digamma(np.sum(LAMBDA[k])))\n",
    "    ELBO += E_log_p_BETA\n",
    "\n",
    "    E_log_p_THETA = 0\n",
    "    for i in range(N):\n",
    "        E_log_p_THETA += (ALPHA - 1) * np.sum(digamma(GAMMA[i]) - digamma(np.sum(GAMMA[i])))\n",
    "    ELBO += E_log_p_THETA\n",
    "\n",
    "    E_q_log_p_z_x = 0\n",
    "    for i in range(N):\n",
    "        doc = doc_term_matrix[i]\n",
    "        nonzero_idx = nonzero_idxs[i]\n",
    "        corr_idx = 0\n",
    "        for idx in nonzero_idx:\n",
    "            E_q_log_p_z_x += doc[idx] * np.sum(PHI[i][corr_idx] * (digamma(GAMMA[i]) - digamma(np.sum(GAMMA[i])))) \\\n",
    "                + doc[idx] * np.sum(PHI[i][corr_idx] * (digamma(LAMBDA[:, idx]) - digamma(np.sum(LAMBDA, axis=1))))\n",
    "            corr_idx += 1\n",
    "    ELBO += E_q_log_p_z_x\n",
    "\n",
    "    E_log_q_BETA = 0\n",
    "    for k in range(K):\n",
    "        E_log_q_BETA += -loggamma(np.sum(LAMBDA[k])) + np.sum(loggamma(LAMBDA[k])) \\\n",
    "            - np.sum((LAMBDA[k] - 1) * (digamma(LAMBDA[k]) - digamma(np.sum(LAMBDA[k]))))\n",
    "    ELBO += E_log_q_BETA\n",
    "\n",
    "    E_log_q_THETA = 0\n",
    "    for i in range(N):\n",
    "        E_log_q_THETA += -loggamma(np.sum(GAMMA[i])) + np.sum(loggamma(GAMMA[i])) \\\n",
    "            - np.sum((GAMMA[i] - 1) * (digamma(GAMMA[i]) - digamma(np.sum(GAMMA[i]))))\n",
    "    ELBO += E_log_q_THETA\n",
    "\n",
    "    E_q_log_z = 0\n",
    "    for i in range(N):\n",
    "        doc = doc_term_matrix[i]\n",
    "        nonzero_idx = nonzero_idxs[i]\n",
    "        corr_idx = 0\n",
    "        for idx in nonzero_idx:\n",
    "            E_q_log_z += -doc[idx] * np.sum(PHI[i][corr_idx] * np.log(PHI[i][corr_idx]))\n",
    "            corr_idx += 1\n",
    "    ELBO += E_q_log_z\n",
    "\n",
    "    return ELBO\n",
    "\n",
    "def log_sum_exp(vec):\n",
    "    a = np.max(vec, axis=0)\n",
    "    log_sum_exp = np.log(np.sum(np.exp(vec - a))) + a\n",
    "\n",
    "    return log_sum_exp\n",
    "\n",
    "def update_variational_params(LAMBDA, GAMMA, PHI, doc_term_matrix, nonzero_idxs, K):\n",
    "    N, V = doc_term_matrix.shape\n",
    "\n",
    "    print(\"Updating PHI and GAMMA\")\n",
    "    for i in tqdm(range(N)):\n",
    "        doc = doc_term_matrix[i]\n",
    "        nonzero_idx = nonzero_idxs[i]\n",
    "        corr_idx = 0\n",
    "        for idx in nonzero_idx:\n",
    "            log_PHI_ij = np.zeros((K, ))\n",
    "            for k in range(K):\n",
    "                exponent = digamma(GAMMA[i][k]) - digamma(np.sum(GAMMA[i])) \\\n",
    "                    + digamma(LAMBDA[k][idx]) - digamma(np.sum(LAMBDA[k]))\n",
    "                log_PHI_ij[k] = exponent\n",
    "            PHI_ij = np.exp(log_PHI_ij - log_sum_exp(log_PHI_ij))\n",
    "            PHI[i][corr_idx] = PHI_ij\n",
    "            corr_idx += 1\n",
    "\n",
    "        GAMMA_i = np.zeros((K, )) + ALPHA\n",
    "        for k in range(K):\n",
    "            GAMMA_i[k] += np.sum(doc[nonzero_idx] * PHI[i][:, k])\n",
    "        GAMMA[i] = GAMMA_i\n",
    "\n",
    "    print(\"Updating LAMBDA\")\n",
    "    for k in tqdm(range(K)):\n",
    "        LAMBDA_k = np.zeros((V, )) + ETA\n",
    "        for i in range(N):\n",
    "            doc = doc_term_matrix[i]\n",
    "            nonzero_idx = nonzero_idxs[i]\n",
    "            corr_idx = 0\n",
    "            for idx in nonzero_idx:\n",
    "                LAMBDA_k[idx] += PHI[i][corr_idx][k]\n",
    "                corr_idx += 1\n",
    "        LAMBDA[k] = LAMBDA_k\n",
    "\n",
    "    return LAMBDA, GAMMA, PHI"
   ]
  },
  {
   "cell_type": "code",
   "execution_count": 134,
   "metadata": {},
   "outputs": [],
   "source": [
    "with open(\"ap.txt\", \"r\") as file:\n",
    "    raw_text = file.read()\n",
    "documents = re.findall(r\"<TEXT>(.*?)</TEXT>\", raw_text, re.DOTALL)\n",
    "documents = [doc.strip().replace(\"\\n\", \" \") for doc in documents]\n",
    "\n",
    "with open(\"vocab.txt\", \"r\") as file:\n",
    "    vocab = [line.strip() for line in file]\n",
    "vocab_to_idx = {word: idx for idx, word in enumerate(vocab)}\n",
    "\n",
    "stop_words = set(stopwords.words(\"english\"))\n",
    "corpus_matrix = []\n",
    "for doc in documents:\n",
    "    tokens = word_tokenize(doc.lower())\n",
    "    filtered_tokens = [word for word in tokens if word.isalpha() and word not in stop_words]\n",
    "    word_idxs = [vocab_to_idx[word] for word in filtered_tokens if word in vocab_to_idx]\n",
    "    corpus_matrix.append(word_idxs)"
   ]
  },
  {
   "cell_type": "code",
   "execution_count": 230,
   "metadata": {},
   "outputs": [],
   "source": [
    "def init_variational_params(corpus_matrix, K, V=len(vocab)):\n",
    "    N = len(corpus_matrix)\n",
    "    LAMBDA = np.random.uniform(low=0.01, high=1.00, size=(K, V))\n",
    "    GAMMA = np.ones((N, K))\n",
    "    PHI = []\n",
    "    for doc in corpus_matrix:\n",
    "        doc = np.asarray(doc)\n",
    "        num_words_per_doc = np.sum((doc > 0).astype(\"int32\"))\n",
    "        doc_PHI = np.ones((num_words_per_doc, K))\n",
    "        doc_PHI = doc_PHI / K\n",
    "        PHI.append(doc_PHI)\n",
    "\n",
    "    return LAMBDA, GAMMA, PHI\n",
    "\n",
    "def compute_ELBO(LAMBDA, GAMMA, PHI, corpus_matrix, K):\n",
    "    N = len(corpus_matrix)\n",
    "    ELBO = 0\n",
    "\n",
    "    E_log_p_BETA = 0\n",
    "    for k in range(K):\n",
    "        E_log_p_BETA += (ETA - 1) * np.sum(digamma(LAMBDA[k]) - digamma(np.sum(LAMBDA[k])))\n",
    "    ELBO += E_log_p_BETA\n",
    "\n",
    "    E_log_p_THETA = 0\n",
    "    for i in range(N):\n",
    "        E_log_p_THETA += (ALPHA - 1) * np.sum(digamma(GAMMA[i]) - digamma(np.sum(GAMMA[i])))\n",
    "    ELBO += E_log_p_THETA\n",
    "\n",
    "    E_log_p_z_x = 0\n",
    "    for i in range(N):\n",
    "        M = len(corpus_matrix[i])\n",
    "        for j in range(M):\n",
    "            x_ij = corpus_matrix[i][j]\n",
    "            E_log_p_z_x += np.sum(PHI[i][j] * (digamma(GAMMA[i]) - digamma(np.sum(GAMMA[i])))) \\\n",
    "                + np.sum(PHI[i][j] * (digamma(LAMBDA[:, x_ij]) - digamma(np.sum(LAMBDA[:, x_ij]))))\n",
    "    ELBO += E_log_p_z_x\n",
    "\n",
    "    E_q_log_BETA = 0\n",
    "    for k in range(K):\n",
    "        E_q_log_BETA += -loggamma(np.sum(LAMBDA[k])) + np.sum(loggamma(LAMBDA[k])) \\\n",
    "            - np.sum((LAMBDA[k] - 1) * (digamma(LAMBDA[k]) - digamma(np.sum(LAMBDA[k]))))\n",
    "    ELBO += E_q_log_BETA\n",
    "\n",
    "    E_q_log_THETA = 0\n",
    "    for i in range(N):\n",
    "        E_q_log_THETA += -loggamma(np.sum(GAMMA[i])) + np.sum(loggamma(GAMMA[i])) \\\n",
    "            - np.sum((GAMMA[i] - 1) * (digamma(GAMMA[i]) - digamma(np.sum(GAMMA[i]))))\n",
    "    ELBO += E_q_log_THETA\n",
    "\n",
    "    E_log_q_z = 0\n",
    "    for i in range(N):\n",
    "        M = len(corpus_matrix[i])\n",
    "        for j in range(M):\n",
    "            E_log_q_z += -np.sum(PHI[i][j] * np.log(PHI[i][j]))\n",
    "    ELBO += E_log_q_z\n",
    "\n",
    "    return ELBO\n",
    "\n",
    "def update_variational_params(LAMBDA, GAMMA, PHI, corpus_matrix, K):\n",
    "    for i in tqdm(range(N), desc=\"Updating PHI and GAMMA\"):\n",
    "        M = len(corpus_matrix[i])\n",
    "        for j in range(M):\n",
    "            x_ij = corpus_matrix[i][j]\n",
    "            exp_propto = digamma(LAMBDA[:, x_ij]) - digamma(np.sum(LAMBDA[:, x_ij])) \\\n",
    "                + digamma(GAMMA[i]) - digamma(np.sum(GAMMA[i]))\n",
    "            PHI[i][j] = np.exp(exp_propto - log_sum_exp(exp_propto))\n",
    "\n",
    "        for k in range(K):\n",
    "            GAMMA[i, k] = ALPHA + np.sum(PHI[i][:, k])\n",
    "\n",
    "    for i, doc in enumerate(tqdm(corpus_matrix, desc=\"Updating LAMBDA\")):\n",
    "        PHI_doc = PHI[i]\n",
    "        for j, word in enumerate(doc):\n",
    "            LAMBDA[:, word] += PHI_doc[j, :]\n",
    "\n",
    "    ETA_matrix = np.full((K, V), ETA)\n",
    "    LAMBDA = LAMBDA + ETA_matrix\n",
    "\n",
    "    return LAMBDA, GAMMA, PHI"
   ]
  },
  {
   "cell_type": "code",
   "execution_count": 269,
   "metadata": {},
   "outputs": [
    {
     "name": "stdout",
     "output_type": "stream",
     "text": [
      "Initial ELBO: -2628196.7827903796\n",
      "\n",
      "Iteration: 1\n"
     ]
    },
    {
     "name": "stderr",
     "output_type": "stream",
     "text": [
      "Updating PHI and GAMMA: 100%|██████████| 2246/2246 [00:10<00:00, 220.53it/s]\n",
      "Updating LAMBDA: 100%|██████████| 2246/2246 [00:00<00:00, 4912.15it/s]\n"
     ]
    },
    {
     "name": "stdout",
     "output_type": "stream",
     "text": [
      "Current ELBO: -1013162.1538323348\n",
      "\n",
      "\n",
      "Iteration: 2\n"
     ]
    },
    {
     "name": "stderr",
     "output_type": "stream",
     "text": [
      "Updating PHI and GAMMA: 100%|██████████| 2246/2246 [00:10<00:00, 208.29it/s]\n",
      "Updating LAMBDA: 100%|██████████| 2246/2246 [00:00<00:00, 4880.41it/s]\n"
     ]
    },
    {
     "name": "stdout",
     "output_type": "stream",
     "text": [
      "Current ELBO: -1033285.101265735\n",
      "\n",
      "\n",
      "Iteration: 3\n"
     ]
    },
    {
     "name": "stderr",
     "output_type": "stream",
     "text": [
      "Updating PHI and GAMMA: 100%|██████████| 2246/2246 [00:10<00:00, 211.48it/s]\n",
      "Updating LAMBDA: 100%|██████████| 2246/2246 [00:00<00:00, 4630.23it/s]\n"
     ]
    },
    {
     "name": "stdout",
     "output_type": "stream",
     "text": [
      "Current ELBO: -1051369.8711890283\n",
      "\n",
      "\n",
      "Iteration: 4\n"
     ]
    },
    {
     "name": "stderr",
     "output_type": "stream",
     "text": [
      "Updating PHI and GAMMA: 100%|██████████| 2246/2246 [00:10<00:00, 208.28it/s]\n",
      "Updating LAMBDA: 100%|██████████| 2246/2246 [00:00<00:00, 4563.20it/s]\n"
     ]
    },
    {
     "name": "stdout",
     "output_type": "stream",
     "text": [
      "Current ELBO: -1065126.9396461234\n",
      "\n",
      "\n",
      "Iteration: 5\n"
     ]
    },
    {
     "name": "stderr",
     "output_type": "stream",
     "text": [
      "Updating PHI and GAMMA: 100%|██████████| 2246/2246 [00:11<00:00, 202.55it/s]\n",
      "Updating LAMBDA: 100%|██████████| 2246/2246 [00:00<00:00, 4578.68it/s]\n"
     ]
    },
    {
     "name": "stdout",
     "output_type": "stream",
     "text": [
      "Current ELBO: -1074866.9858324004\n",
      "\n",
      "\n",
      "Iteration: 6\n"
     ]
    },
    {
     "name": "stderr",
     "output_type": "stream",
     "text": [
      "Updating PHI and GAMMA: 100%|██████████| 2246/2246 [00:11<00:00, 200.26it/s]\n",
      "Updating LAMBDA: 100%|██████████| 2246/2246 [00:00<00:00, 4634.87it/s]\n"
     ]
    },
    {
     "name": "stdout",
     "output_type": "stream",
     "text": [
      "Current ELBO: -1080723.437489162\n",
      "\n",
      "\n",
      "Iteration: 7\n"
     ]
    },
    {
     "name": "stderr",
     "output_type": "stream",
     "text": [
      "Updating PHI and GAMMA: 100%|██████████| 2246/2246 [00:11<00:00, 192.96it/s]\n",
      "Updating LAMBDA: 100%|██████████| 2246/2246 [00:00<00:00, 4118.54it/s]\n"
     ]
    },
    {
     "name": "stdout",
     "output_type": "stream",
     "text": [
      "Current ELBO: -1082506.8604513851\n",
      "\n",
      "\n",
      "Iteration: 8\n"
     ]
    },
    {
     "name": "stderr",
     "output_type": "stream",
     "text": [
      "Updating PHI and GAMMA: 100%|██████████| 2246/2246 [00:11<00:00, 200.86it/s]\n",
      "Updating LAMBDA: 100%|██████████| 2246/2246 [00:00<00:00, 4561.74it/s]\n"
     ]
    },
    {
     "name": "stdout",
     "output_type": "stream",
     "text": [
      "Current ELBO: -1079744.3020680079\n",
      "\n",
      "\n",
      "Iteration: 9\n"
     ]
    },
    {
     "name": "stderr",
     "output_type": "stream",
     "text": [
      "Updating PHI and GAMMA: 100%|██████████| 2246/2246 [00:11<00:00, 193.95it/s]\n",
      "Updating LAMBDA: 100%|██████████| 2246/2246 [00:00<00:00, 4187.93it/s]\n"
     ]
    },
    {
     "name": "stdout",
     "output_type": "stream",
     "text": [
      "Current ELBO: -1071749.7486725491\n",
      "\n",
      "\n",
      "Iteration: 10\n"
     ]
    },
    {
     "name": "stderr",
     "output_type": "stream",
     "text": [
      "Updating PHI and GAMMA: 100%|██████████| 2246/2246 [00:11<00:00, 203.19it/s]\n",
      "Updating LAMBDA: 100%|██████████| 2246/2246 [00:00<00:00, 4668.46it/s]\n"
     ]
    },
    {
     "name": "stdout",
     "output_type": "stream",
     "text": [
      "Current ELBO: -1057724.4603878655\n",
      "\n",
      "\n",
      "Iteration: 11\n"
     ]
    },
    {
     "name": "stderr",
     "output_type": "stream",
     "text": [
      "Updating PHI and GAMMA: 100%|██████████| 2246/2246 [00:11<00:00, 203.75it/s]\n",
      "Updating LAMBDA: 100%|██████████| 2246/2246 [00:00<00:00, 3756.87it/s]\n"
     ]
    },
    {
     "name": "stdout",
     "output_type": "stream",
     "text": [
      "Current ELBO: -1036921.6515241335\n",
      "\n",
      "\n",
      "Iteration: 12\n"
     ]
    },
    {
     "name": "stderr",
     "output_type": "stream",
     "text": [
      "Updating PHI and GAMMA: 100%|██████████| 2246/2246 [00:11<00:00, 201.41it/s]\n",
      "Updating LAMBDA: 100%|██████████| 2246/2246 [00:00<00:00, 4658.87it/s]\n"
     ]
    },
    {
     "name": "stdout",
     "output_type": "stream",
     "text": [
      "Current ELBO: -1008900.3199154482\n",
      "\n",
      "\n",
      "Iteration: 13\n"
     ]
    },
    {
     "name": "stderr",
     "output_type": "stream",
     "text": [
      "Updating PHI and GAMMA: 100%|██████████| 2246/2246 [00:11<00:00, 202.94it/s]\n",
      "Updating LAMBDA: 100%|██████████| 2246/2246 [00:00<00:00, 4382.65it/s]\n"
     ]
    },
    {
     "name": "stdout",
     "output_type": "stream",
     "text": [
      "Current ELBO: -973818.772673221\n",
      "\n",
      "\n",
      "Iteration: 14\n"
     ]
    },
    {
     "name": "stderr",
     "output_type": "stream",
     "text": [
      "Updating PHI and GAMMA: 100%|██████████| 2246/2246 [00:11<00:00, 203.44it/s]\n",
      "Updating LAMBDA: 100%|██████████| 2246/2246 [00:00<00:00, 4403.65it/s]\n"
     ]
    },
    {
     "name": "stdout",
     "output_type": "stream",
     "text": [
      "Current ELBO: -932623.7306768983\n",
      "\n",
      "\n",
      "Iteration: 15\n"
     ]
    },
    {
     "name": "stderr",
     "output_type": "stream",
     "text": [
      "Updating PHI and GAMMA: 100%|██████████| 2246/2246 [00:10<00:00, 205.34it/s]\n",
      "Updating LAMBDA: 100%|██████████| 2246/2246 [00:00<00:00, 4710.21it/s]\n"
     ]
    },
    {
     "name": "stdout",
     "output_type": "stream",
     "text": [
      "Current ELBO: -887015.8898576585\n",
      "\n",
      "\n",
      "Iteration: 16\n"
     ]
    },
    {
     "name": "stderr",
     "output_type": "stream",
     "text": [
      "Updating PHI and GAMMA: 100%|██████████| 2246/2246 [00:11<00:00, 202.74it/s]\n",
      "Updating LAMBDA: 100%|██████████| 2246/2246 [00:00<00:00, 4573.29it/s]\n"
     ]
    },
    {
     "name": "stdout",
     "output_type": "stream",
     "text": [
      "Current ELBO: -839186.8301187563\n",
      "\n",
      "\n",
      "Iteration: 17\n"
     ]
    },
    {
     "name": "stderr",
     "output_type": "stream",
     "text": [
      "Updating PHI and GAMMA: 100%|██████████| 2246/2246 [00:10<00:00, 205.40it/s]\n",
      "Updating LAMBDA: 100%|██████████| 2246/2246 [00:00<00:00, 4368.93it/s]\n"
     ]
    },
    {
     "name": "stdout",
     "output_type": "stream",
     "text": [
      "Current ELBO: -791393.7411957893\n",
      "\n",
      "\n",
      "Iteration: 18\n"
     ]
    },
    {
     "name": "stderr",
     "output_type": "stream",
     "text": [
      "Updating PHI and GAMMA: 100%|██████████| 2246/2246 [00:11<00:00, 201.19it/s]\n",
      "Updating LAMBDA: 100%|██████████| 2246/2246 [00:00<00:00, 4498.48it/s]\n"
     ]
    },
    {
     "name": "stdout",
     "output_type": "stream",
     "text": [
      "Current ELBO: -745519.3346417231\n",
      "\n",
      "\n",
      "Iteration: 19\n"
     ]
    },
    {
     "name": "stderr",
     "output_type": "stream",
     "text": [
      "Updating PHI and GAMMA: 100%|██████████| 2246/2246 [00:11<00:00, 202.85it/s]\n",
      "Updating LAMBDA: 100%|██████████| 2246/2246 [00:00<00:00, 4560.41it/s]\n"
     ]
    },
    {
     "name": "stdout",
     "output_type": "stream",
     "text": [
      "Current ELBO: -702813.4822563007\n",
      "\n",
      "\n",
      "Iteration: 20\n"
     ]
    },
    {
     "name": "stderr",
     "output_type": "stream",
     "text": [
      "Updating PHI and GAMMA: 100%|██████████| 2246/2246 [00:11<00:00, 203.66it/s]\n",
      "Updating LAMBDA: 100%|██████████| 2246/2246 [00:00<00:00, 4716.35it/s]\n"
     ]
    },
    {
     "name": "stdout",
     "output_type": "stream",
     "text": [
      "Current ELBO: -663899.5473850367\n",
      "\n",
      "\n",
      "Iteration: 21\n"
     ]
    },
    {
     "name": "stderr",
     "output_type": "stream",
     "text": [
      "Updating PHI and GAMMA: 100%|██████████| 2246/2246 [00:11<00:00, 200.55it/s]\n",
      "Updating LAMBDA: 100%|██████████| 2246/2246 [00:00<00:00, 4550.40it/s]\n"
     ]
    },
    {
     "name": "stdout",
     "output_type": "stream",
     "text": [
      "Current ELBO: -628864.8811341927\n",
      "\n",
      "\n",
      "Iteration: 22\n"
     ]
    },
    {
     "name": "stderr",
     "output_type": "stream",
     "text": [
      "Updating PHI and GAMMA: 100%|██████████| 2246/2246 [00:11<00:00, 199.86it/s]\n",
      "Updating LAMBDA: 100%|██████████| 2246/2246 [00:00<00:00, 4490.80it/s]\n"
     ]
    },
    {
     "name": "stdout",
     "output_type": "stream",
     "text": [
      "Current ELBO: -597469.8663948965\n",
      "\n",
      "\n",
      "Iteration: 23\n"
     ]
    },
    {
     "name": "stderr",
     "output_type": "stream",
     "text": [
      "Updating PHI and GAMMA: 100%|██████████| 2246/2246 [00:11<00:00, 202.23it/s]\n",
      "Updating LAMBDA: 100%|██████████| 2246/2246 [00:00<00:00, 4158.31it/s]\n"
     ]
    },
    {
     "name": "stdout",
     "output_type": "stream",
     "text": [
      "Current ELBO: -569331.3865567206\n",
      "\n",
      "\n",
      "Iteration: 24\n"
     ]
    },
    {
     "name": "stderr",
     "output_type": "stream",
     "text": [
      "Updating PHI and GAMMA: 100%|██████████| 2246/2246 [00:11<00:00, 203.77it/s]\n",
      "Updating LAMBDA: 100%|██████████| 2246/2246 [00:00<00:00, 4457.81it/s]\n"
     ]
    },
    {
     "name": "stdout",
     "output_type": "stream",
     "text": [
      "Current ELBO: -543994.800637609\n",
      "\n",
      "\n",
      "Iteration: 25\n"
     ]
    },
    {
     "name": "stderr",
     "output_type": "stream",
     "text": [
      "Updating PHI and GAMMA: 100%|██████████| 2246/2246 [00:11<00:00, 197.11it/s]\n",
      "Updating LAMBDA: 100%|██████████| 2246/2246 [00:00<00:00, 4092.71it/s]\n"
     ]
    },
    {
     "name": "stdout",
     "output_type": "stream",
     "text": [
      "Current ELBO: -521000.2297152247\n",
      "\n",
      "\n",
      "Iteration: 26\n"
     ]
    },
    {
     "name": "stderr",
     "output_type": "stream",
     "text": [
      "Updating PHI and GAMMA: 100%|██████████| 2246/2246 [00:10<00:00, 204.94it/s]\n",
      "Updating LAMBDA: 100%|██████████| 2246/2246 [00:00<00:00, 4488.00it/s]\n"
     ]
    },
    {
     "name": "stdout",
     "output_type": "stream",
     "text": [
      "Current ELBO: -500010.4149012687\n",
      "\n",
      "\n",
      "Iteration: 27\n"
     ]
    },
    {
     "name": "stderr",
     "output_type": "stream",
     "text": [
      "Updating PHI and GAMMA: 100%|██████████| 2246/2246 [00:11<00:00, 198.45it/s]\n",
      "Updating LAMBDA: 100%|██████████| 2246/2246 [00:00<00:00, 4501.04it/s]\n"
     ]
    },
    {
     "name": "stdout",
     "output_type": "stream",
     "text": [
      "Current ELBO: -480820.55881576193\n",
      "\n",
      "\n",
      "Iteration: 28\n"
     ]
    },
    {
     "name": "stderr",
     "output_type": "stream",
     "text": [
      "Updating PHI and GAMMA: 100%|██████████| 2246/2246 [00:11<00:00, 203.93it/s]\n",
      "Updating LAMBDA: 100%|██████████| 2246/2246 [00:00<00:00, 4596.38it/s]\n"
     ]
    },
    {
     "name": "stdout",
     "output_type": "stream",
     "text": [
      "Current ELBO: -463245.49881543004\n",
      "\n",
      "\n",
      "Iteration: 29\n"
     ]
    },
    {
     "name": "stderr",
     "output_type": "stream",
     "text": [
      "Updating PHI and GAMMA: 100%|██████████| 2246/2246 [00:10<00:00, 205.51it/s]\n",
      "Updating LAMBDA: 100%|██████████| 2246/2246 [00:00<00:00, 4451.54it/s]\n"
     ]
    },
    {
     "name": "stdout",
     "output_type": "stream",
     "text": [
      "Current ELBO: -447100.6800100783\n",
      "\n",
      "\n",
      "Iteration: 30\n"
     ]
    },
    {
     "name": "stderr",
     "output_type": "stream",
     "text": [
      "Updating PHI and GAMMA: 100%|██████████| 2246/2246 [00:10<00:00, 204.58it/s]\n",
      "Updating LAMBDA: 100%|██████████| 2246/2246 [00:00<00:00, 4391.73it/s]\n"
     ]
    },
    {
     "name": "stdout",
     "output_type": "stream",
     "text": [
      "Current ELBO: -432193.3065611248\n",
      "\n",
      "\n",
      "Iteration: 31\n"
     ]
    },
    {
     "name": "stderr",
     "output_type": "stream",
     "text": [
      "Updating PHI and GAMMA: 100%|██████████| 2246/2246 [00:10<00:00, 204.23it/s]\n",
      "Updating LAMBDA: 100%|██████████| 2246/2246 [00:00<00:00, 4372.46it/s]\n"
     ]
    },
    {
     "name": "stdout",
     "output_type": "stream",
     "text": [
      "Current ELBO: -418367.0728961271\n",
      "\n",
      "\n",
      "Iteration: 32\n"
     ]
    },
    {
     "name": "stderr",
     "output_type": "stream",
     "text": [
      "Updating PHI and GAMMA: 100%|██████████| 2246/2246 [00:11<00:00, 203.98it/s]\n",
      "Updating LAMBDA: 100%|██████████| 2246/2246 [00:00<00:00, 4545.80it/s]\n"
     ]
    },
    {
     "name": "stdout",
     "output_type": "stream",
     "text": [
      "Current ELBO: -405468.5971110873\n",
      "\n",
      "\n",
      "Iteration: 33\n"
     ]
    },
    {
     "name": "stderr",
     "output_type": "stream",
     "text": [
      "Updating PHI and GAMMA: 100%|██████████| 2246/2246 [00:11<00:00, 203.29it/s]\n",
      "Updating LAMBDA: 100%|██████████| 2246/2246 [00:00<00:00, 4601.63it/s]\n"
     ]
    },
    {
     "name": "stdout",
     "output_type": "stream",
     "text": [
      "Current ELBO: -393387.087503217\n",
      "\n",
      "\n",
      "Iteration: 34\n"
     ]
    },
    {
     "name": "stderr",
     "output_type": "stream",
     "text": [
      "Updating PHI and GAMMA: 100%|██████████| 2246/2246 [00:11<00:00, 194.03it/s]\n",
      "Updating LAMBDA: 100%|██████████| 2246/2246 [00:00<00:00, 4459.27it/s]\n"
     ]
    },
    {
     "name": "stdout",
     "output_type": "stream",
     "text": [
      "Current ELBO: -382086.43854411365\n",
      "\n",
      "\n",
      "Iteration: 35\n"
     ]
    },
    {
     "name": "stderr",
     "output_type": "stream",
     "text": [
      "Updating PHI and GAMMA: 100%|██████████| 2246/2246 [00:10<00:00, 204.83it/s]\n",
      "Updating LAMBDA: 100%|██████████| 2246/2246 [00:00<00:00, 4390.16it/s]\n"
     ]
    },
    {
     "name": "stdout",
     "output_type": "stream",
     "text": [
      "Current ELBO: -371517.1879424332\n",
      "\n",
      "\n",
      "Iteration: 36\n"
     ]
    },
    {
     "name": "stderr",
     "output_type": "stream",
     "text": [
      "Updating PHI and GAMMA: 100%|██████████| 2246/2246 [00:11<00:00, 203.72it/s]\n",
      "Updating LAMBDA: 100%|██████████| 2246/2246 [00:00<00:00, 4573.15it/s]\n"
     ]
    },
    {
     "name": "stdout",
     "output_type": "stream",
     "text": [
      "Current ELBO: -361598.9191776129\n",
      "\n",
      "\n",
      "Iteration: 37\n"
     ]
    },
    {
     "name": "stderr",
     "output_type": "stream",
     "text": [
      "Updating PHI and GAMMA: 100%|██████████| 2246/2246 [00:11<00:00, 203.91it/s]\n",
      "Updating LAMBDA: 100%|██████████| 2246/2246 [00:00<00:00, 4552.77it/s]\n"
     ]
    },
    {
     "name": "stdout",
     "output_type": "stream",
     "text": [
      "Current ELBO: -352257.8722303994\n",
      "\n",
      "\n",
      "Iteration: 38\n"
     ]
    },
    {
     "name": "stderr",
     "output_type": "stream",
     "text": [
      "Updating PHI and GAMMA: 100%|██████████| 2246/2246 [00:11<00:00, 201.49it/s]\n",
      "Updating LAMBDA: 100%|██████████| 2246/2246 [00:00<00:00, 4579.80it/s]\n"
     ]
    },
    {
     "name": "stdout",
     "output_type": "stream",
     "text": [
      "Current ELBO: -343436.4945562179\n",
      "\n",
      "\n",
      "Iteration: 39\n"
     ]
    },
    {
     "name": "stderr",
     "output_type": "stream",
     "text": [
      "Updating PHI and GAMMA: 100%|██████████| 2246/2246 [00:10<00:00, 205.43it/s]\n",
      "Updating LAMBDA: 100%|██████████| 2246/2246 [00:00<00:00, 4532.41it/s]\n"
     ]
    },
    {
     "name": "stdout",
     "output_type": "stream",
     "text": [
      "Current ELBO: -335089.12702123984\n",
      "\n",
      "\n",
      "Iteration: 40\n"
     ]
    },
    {
     "name": "stderr",
     "output_type": "stream",
     "text": [
      "Updating PHI and GAMMA: 100%|██████████| 2246/2246 [00:10<00:00, 205.56it/s]\n",
      "Updating LAMBDA: 100%|██████████| 2246/2246 [00:00<00:00, 4436.65it/s]\n"
     ]
    },
    {
     "name": "stdout",
     "output_type": "stream",
     "text": [
      "Current ELBO: -327182.90717502765\n",
      "\n",
      "\n",
      "Iteration: 41\n"
     ]
    },
    {
     "name": "stderr",
     "output_type": "stream",
     "text": [
      "Updating PHI and GAMMA: 100%|██████████| 2246/2246 [00:11<00:00, 204.18it/s]\n",
      "Updating LAMBDA: 100%|██████████| 2246/2246 [00:00<00:00, 4284.42it/s]\n"
     ]
    },
    {
     "name": "stdout",
     "output_type": "stream",
     "text": [
      "Current ELBO: -319689.3414681407\n",
      "\n",
      "\n",
      "Iteration: 42\n"
     ]
    },
    {
     "name": "stderr",
     "output_type": "stream",
     "text": [
      "Updating PHI and GAMMA: 100%|██████████| 2246/2246 [00:11<00:00, 203.54it/s]\n",
      "Updating LAMBDA: 100%|██████████| 2246/2246 [00:00<00:00, 4600.31it/s]\n"
     ]
    },
    {
     "name": "stdout",
     "output_type": "stream",
     "text": [
      "Current ELBO: -312577.4461202862\n",
      "\n",
      "\n",
      "Iteration: 43\n"
     ]
    },
    {
     "name": "stderr",
     "output_type": "stream",
     "text": [
      "Updating PHI and GAMMA: 100%|██████████| 2246/2246 [00:11<00:00, 201.20it/s]\n",
      "Updating LAMBDA: 100%|██████████| 2246/2246 [00:00<00:00, 4354.82it/s]\n"
     ]
    },
    {
     "name": "stdout",
     "output_type": "stream",
     "text": [
      "Current ELBO: -305814.93339872285\n",
      "\n",
      "\n",
      "Iteration: 44\n"
     ]
    },
    {
     "name": "stderr",
     "output_type": "stream",
     "text": [
      "Updating PHI and GAMMA: 100%|██████████| 2246/2246 [00:10<00:00, 204.42it/s]\n",
      "Updating LAMBDA: 100%|██████████| 2246/2246 [00:00<00:00, 4569.66it/s]\n"
     ]
    },
    {
     "name": "stdout",
     "output_type": "stream",
     "text": [
      "Current ELBO: -299370.6467405346\n",
      "\n",
      "\n",
      "Iteration: 45\n"
     ]
    },
    {
     "name": "stderr",
     "output_type": "stream",
     "text": [
      "Updating PHI and GAMMA: 100%|██████████| 2246/2246 [00:10<00:00, 205.41it/s]\n",
      "Updating LAMBDA: 100%|██████████| 2246/2246 [00:00<00:00, 4544.21it/s]\n"
     ]
    },
    {
     "name": "stdout",
     "output_type": "stream",
     "text": [
      "Current ELBO: -293213.55810720404\n",
      "\n",
      "\n",
      "Iteration: 46\n"
     ]
    },
    {
     "name": "stderr",
     "output_type": "stream",
     "text": [
      "Updating PHI and GAMMA: 100%|██████████| 2246/2246 [00:11<00:00, 202.77it/s]\n",
      "Updating LAMBDA: 100%|██████████| 2246/2246 [00:00<00:00, 4092.00it/s]\n"
     ]
    },
    {
     "name": "stdout",
     "output_type": "stream",
     "text": [
      "Current ELBO: -287338.8759350719\n",
      "\n",
      "\n",
      "Iteration: 47\n"
     ]
    },
    {
     "name": "stderr",
     "output_type": "stream",
     "text": [
      "Updating PHI and GAMMA: 100%|██████████| 2246/2246 [00:11<00:00, 201.88it/s]\n",
      "Updating LAMBDA: 100%|██████████| 2246/2246 [00:00<00:00, 4119.83it/s]\n"
     ]
    },
    {
     "name": "stdout",
     "output_type": "stream",
     "text": [
      "Current ELBO: -281739.8689232484\n",
      "\n",
      "\n",
      "Iteration: 48\n"
     ]
    },
    {
     "name": "stderr",
     "output_type": "stream",
     "text": [
      "Updating PHI and GAMMA: 100%|██████████| 2246/2246 [00:10<00:00, 204.81it/s]\n",
      "Updating LAMBDA: 100%|██████████| 2246/2246 [00:00<00:00, 4131.23it/s]\n"
     ]
    },
    {
     "name": "stdout",
     "output_type": "stream",
     "text": [
      "Current ELBO: -276393.37597215525\n",
      "\n",
      "\n",
      "Iteration: 49\n"
     ]
    },
    {
     "name": "stderr",
     "output_type": "stream",
     "text": [
      "Updating PHI and GAMMA: 100%|██████████| 2246/2246 [00:11<00:00, 198.18it/s]\n",
      "Updating LAMBDA: 100%|██████████| 2246/2246 [00:00<00:00, 4452.79it/s]\n"
     ]
    },
    {
     "name": "stdout",
     "output_type": "stream",
     "text": [
      "Current ELBO: -271278.20849373745\n",
      "\n",
      "\n",
      "Iteration: 50\n"
     ]
    },
    {
     "name": "stderr",
     "output_type": "stream",
     "text": [
      "Updating PHI and GAMMA: 100%|██████████| 2246/2246 [00:12<00:00, 187.03it/s]\n",
      "Updating LAMBDA: 100%|██████████| 2246/2246 [00:00<00:00, 4460.50it/s]\n"
     ]
    },
    {
     "name": "stdout",
     "output_type": "stream",
     "text": [
      "Current ELBO: -266377.3962050835\n",
      "\n",
      "\n",
      "Iteration: 51\n"
     ]
    },
    {
     "name": "stderr",
     "output_type": "stream",
     "text": [
      "Updating PHI and GAMMA: 100%|██████████| 2246/2246 [00:12<00:00, 187.16it/s]\n",
      "Updating LAMBDA: 100%|██████████| 2246/2246 [00:00<00:00, 4330.26it/s]\n"
     ]
    },
    {
     "name": "stdout",
     "output_type": "stream",
     "text": [
      "Current ELBO: -261676.66777800338\n",
      "\n",
      "\n",
      "Iteration: 52\n"
     ]
    },
    {
     "name": "stderr",
     "output_type": "stream",
     "text": [
      "Updating PHI and GAMMA: 100%|██████████| 2246/2246 [00:10<00:00, 205.38it/s]\n",
      "Updating LAMBDA: 100%|██████████| 2246/2246 [00:00<00:00, 4392.72it/s]\n"
     ]
    },
    {
     "name": "stdout",
     "output_type": "stream",
     "text": [
      "Current ELBO: -257163.23130806198\n",
      "\n",
      "\n",
      "Iteration: 53\n"
     ]
    },
    {
     "name": "stderr",
     "output_type": "stream",
     "text": [
      "Updating PHI and GAMMA: 100%|██████████| 2246/2246 [00:11<00:00, 203.75it/s]\n",
      "Updating LAMBDA: 100%|██████████| 2246/2246 [00:00<00:00, 4522.26it/s]\n"
     ]
    },
    {
     "name": "stdout",
     "output_type": "stream",
     "text": [
      "Current ELBO: -252826.2166694721\n",
      "\n",
      "\n",
      "Iteration: 54\n"
     ]
    },
    {
     "name": "stderr",
     "output_type": "stream",
     "text": [
      "Updating PHI and GAMMA: 100%|██████████| 2246/2246 [00:11<00:00, 201.65it/s]\n",
      "Updating LAMBDA: 100%|██████████| 2246/2246 [00:00<00:00, 4088.16it/s]\n"
     ]
    },
    {
     "name": "stdout",
     "output_type": "stream",
     "text": [
      "Current ELBO: -248657.03437635297\n",
      "\n",
      "\n",
      "Iteration: 55\n"
     ]
    },
    {
     "name": "stderr",
     "output_type": "stream",
     "text": [
      "Updating PHI and GAMMA: 100%|██████████| 2246/2246 [00:11<00:00, 202.83it/s]\n",
      "Updating LAMBDA: 100%|██████████| 2246/2246 [00:00<00:00, 4434.76it/s]\n"
     ]
    },
    {
     "name": "stdout",
     "output_type": "stream",
     "text": [
      "Current ELBO: -244647.59168368258\n",
      "\n",
      "\n",
      "Iteration: 56\n"
     ]
    },
    {
     "name": "stderr",
     "output_type": "stream",
     "text": [
      "Updating PHI and GAMMA: 100%|██████████| 2246/2246 [00:10<00:00, 205.41it/s]\n",
      "Updating LAMBDA: 100%|██████████| 2246/2246 [00:00<00:00, 4318.00it/s]\n"
     ]
    },
    {
     "name": "stdout",
     "output_type": "stream",
     "text": [
      "Current ELBO: -240788.46462882299\n",
      "\n",
      "\n",
      "Iteration: 57\n"
     ]
    },
    {
     "name": "stderr",
     "output_type": "stream",
     "text": [
      "Updating PHI and GAMMA: 100%|██████████| 2246/2246 [00:11<00:00, 202.75it/s]\n",
      "Updating LAMBDA: 100%|██████████| 2246/2246 [00:00<00:00, 4590.72it/s]\n"
     ]
    },
    {
     "name": "stdout",
     "output_type": "stream",
     "text": [
      "Current ELBO: -237065.54886160564\n",
      "\n",
      "\n",
      "Iteration: 58\n"
     ]
    },
    {
     "name": "stderr",
     "output_type": "stream",
     "text": [
      "Updating PHI and GAMMA: 100%|██████████| 2246/2246 [00:10<00:00, 204.46it/s]\n",
      "Updating LAMBDA: 100%|██████████| 2246/2246 [00:00<00:00, 4548.23it/s]\n"
     ]
    },
    {
     "name": "stdout",
     "output_type": "stream",
     "text": [
      "Current ELBO: -233462.13569922\n",
      "\n",
      "\n",
      "Iteration: 59\n"
     ]
    },
    {
     "name": "stderr",
     "output_type": "stream",
     "text": [
      "Updating PHI and GAMMA: 100%|██████████| 2246/2246 [00:11<00:00, 202.89it/s]\n",
      "Updating LAMBDA: 100%|██████████| 2246/2246 [00:00<00:00, 4361.46it/s]\n"
     ]
    },
    {
     "name": "stdout",
     "output_type": "stream",
     "text": [
      "Current ELBO: -229982.79697643657\n",
      "\n",
      "\n",
      "Iteration: 60\n"
     ]
    },
    {
     "name": "stderr",
     "output_type": "stream",
     "text": [
      "Updating PHI and GAMMA: 100%|██████████| 2246/2246 [00:10<00:00, 204.27it/s]\n",
      "Updating LAMBDA: 100%|██████████| 2246/2246 [00:00<00:00, 4486.44it/s]\n"
     ]
    },
    {
     "name": "stdout",
     "output_type": "stream",
     "text": [
      "Current ELBO: -226634.64619809983\n",
      "\n",
      "\n",
      "Iteration: 61\n"
     ]
    },
    {
     "name": "stderr",
     "output_type": "stream",
     "text": [
      "Updating PHI and GAMMA: 100%|██████████| 2246/2246 [00:11<00:00, 200.95it/s]\n",
      "Updating LAMBDA: 100%|██████████| 2246/2246 [00:00<00:00, 4519.03it/s]\n"
     ]
    },
    {
     "name": "stdout",
     "output_type": "stream",
     "text": [
      "Current ELBO: -223408.82232837006\n",
      "\n",
      "\n",
      "Iteration: 62\n"
     ]
    },
    {
     "name": "stderr",
     "output_type": "stream",
     "text": [
      "Updating PHI and GAMMA: 100%|██████████| 2246/2246 [00:11<00:00, 199.22it/s]\n",
      "Updating LAMBDA: 100%|██████████| 2246/2246 [00:00<00:00, 4450.16it/s]\n"
     ]
    },
    {
     "name": "stdout",
     "output_type": "stream",
     "text": [
      "Current ELBO: -220294.82493188928\n",
      "\n",
      "\n",
      "Iteration: 63\n"
     ]
    },
    {
     "name": "stderr",
     "output_type": "stream",
     "text": [
      "Updating PHI and GAMMA: 100%|██████████| 2246/2246 [00:10<00:00, 204.43it/s]\n",
      "Updating LAMBDA: 100%|██████████| 2246/2246 [00:00<00:00, 4473.82it/s]\n"
     ]
    },
    {
     "name": "stdout",
     "output_type": "stream",
     "text": [
      "Current ELBO: -217284.98602616534\n",
      "\n",
      "\n",
      "Iteration: 64\n"
     ]
    },
    {
     "name": "stderr",
     "output_type": "stream",
     "text": [
      "Updating PHI and GAMMA: 100%|██████████| 2246/2246 [00:11<00:00, 203.78it/s]\n",
      "Updating LAMBDA: 100%|██████████| 2246/2246 [00:00<00:00, 4535.78it/s]\n"
     ]
    },
    {
     "name": "stdout",
     "output_type": "stream",
     "text": [
      "Current ELBO: -214373.43767849432\n",
      "\n",
      "\n",
      "Iteration: 65\n"
     ]
    },
    {
     "name": "stderr",
     "output_type": "stream",
     "text": [
      "Updating PHI and GAMMA: 100%|██████████| 2246/2246 [1:21:21<00:00,  2.17s/it]  \n",
      "Updating LAMBDA: 100%|██████████| 2246/2246 [00:01<00:00, 1663.29it/s]\n"
     ]
    },
    {
     "name": "stdout",
     "output_type": "stream",
     "text": [
      "Current ELBO: -211555.28627857784\n",
      "\n",
      "\n",
      "Iteration: 66\n"
     ]
    },
    {
     "name": "stderr",
     "output_type": "stream",
     "text": [
      "Updating PHI and GAMMA: 100%|██████████| 2246/2246 [00:13<00:00, 166.61it/s]\n",
      "Updating LAMBDA: 100%|██████████| 2246/2246 [00:00<00:00, 4641.77it/s]\n"
     ]
    },
    {
     "name": "stdout",
     "output_type": "stream",
     "text": [
      "Current ELBO: -208826.27156515574\n",
      "\n",
      "\n",
      "Iteration: 67\n"
     ]
    },
    {
     "name": "stderr",
     "output_type": "stream",
     "text": [
      "Updating PHI and GAMMA: 100%|██████████| 2246/2246 [00:11<00:00, 197.97it/s]\n",
      "Updating LAMBDA: 100%|██████████| 2246/2246 [00:00<00:00, 4623.38it/s]\n"
     ]
    },
    {
     "name": "stdout",
     "output_type": "stream",
     "text": [
      "Current ELBO: -206182.55058369186\n",
      "\n",
      "\n",
      "Iteration: 68\n"
     ]
    },
    {
     "name": "stderr",
     "output_type": "stream",
     "text": [
      "Updating PHI and GAMMA: 100%|██████████| 2246/2246 [00:11<00:00, 202.50it/s]\n",
      "Updating LAMBDA: 100%|██████████| 2246/2246 [00:00<00:00, 5131.55it/s]\n"
     ]
    },
    {
     "name": "stdout",
     "output_type": "stream",
     "text": [
      "Current ELBO: -203620.58844878874\n",
      "\n",
      "\n",
      "Iteration: 69\n"
     ]
    },
    {
     "name": "stderr",
     "output_type": "stream",
     "text": [
      "Updating PHI and GAMMA: 100%|██████████| 2246/2246 [00:10<00:00, 218.52it/s]\n",
      "Updating LAMBDA: 100%|██████████| 2246/2246 [00:00<00:00, 5069.64it/s]\n"
     ]
    },
    {
     "name": "stdout",
     "output_type": "stream",
     "text": [
      "Current ELBO: -201137.09372919894\n",
      "\n",
      "\n",
      "Iteration: 70\n"
     ]
    },
    {
     "name": "stderr",
     "output_type": "stream",
     "text": [
      "Updating PHI and GAMMA: 100%|██████████| 2246/2246 [00:10<00:00, 219.77it/s]\n",
      "Updating LAMBDA: 100%|██████████| 2246/2246 [00:00<00:00, 5137.52it/s]\n"
     ]
    },
    {
     "name": "stdout",
     "output_type": "stream",
     "text": [
      "Current ELBO: -198728.91079971456\n",
      "\n",
      "\n",
      "Iteration: 71\n"
     ]
    },
    {
     "name": "stderr",
     "output_type": "stream",
     "text": [
      "Updating PHI and GAMMA: 100%|██████████| 2246/2246 [00:10<00:00, 207.88it/s]\n",
      "Updating LAMBDA: 100%|██████████| 2246/2246 [00:00<00:00, 3696.20it/s]\n"
     ]
    },
    {
     "name": "stdout",
     "output_type": "stream",
     "text": [
      "Current ELBO: -196392.92300588285\n",
      "\n",
      "\n",
      "Iteration: 72\n"
     ]
    },
    {
     "name": "stderr",
     "output_type": "stream",
     "text": [
      "Updating PHI and GAMMA: 100%|██████████| 2246/2246 [00:11<00:00, 191.95it/s]\n",
      "Updating LAMBDA: 100%|██████████| 2246/2246 [00:00<00:00, 3982.13it/s]\n"
     ]
    },
    {
     "name": "stdout",
     "output_type": "stream",
     "text": [
      "Current ELBO: -194126.03357339805\n",
      "\n",
      "\n",
      "Iteration: 73\n"
     ]
    },
    {
     "name": "stderr",
     "output_type": "stream",
     "text": [
      "Updating PHI and GAMMA: 100%|██████████| 2246/2246 [00:16<00:00, 139.05it/s]\n",
      "Updating LAMBDA: 100%|██████████| 2246/2246 [00:00<00:00, 2527.83it/s]\n"
     ]
    },
    {
     "name": "stdout",
     "output_type": "stream",
     "text": [
      "Current ELBO: -191925.23024950598\n",
      "\n",
      "\n",
      "Iteration: 74\n"
     ]
    },
    {
     "name": "stderr",
     "output_type": "stream",
     "text": [
      "Updating PHI and GAMMA: 100%|██████████| 2246/2246 [00:14<00:00, 154.71it/s]\n",
      "Updating LAMBDA: 100%|██████████| 2246/2246 [00:00<00:00, 2682.81it/s]\n"
     ]
    },
    {
     "name": "stdout",
     "output_type": "stream",
     "text": [
      "Current ELBO: -189787.67473804465\n",
      "\n",
      "\n",
      "Iteration: 75\n"
     ]
    },
    {
     "name": "stderr",
     "output_type": "stream",
     "text": [
      "Updating PHI and GAMMA: 100%|██████████| 2246/2246 [00:11<00:00, 193.47it/s]\n",
      "Updating LAMBDA: 100%|██████████| 2246/2246 [00:00<00:00, 4685.42it/s]\n"
     ]
    },
    {
     "name": "stdout",
     "output_type": "stream",
     "text": [
      "Current ELBO: -187710.73508062703\n",
      "\n",
      "\n",
      "Iteration: 76\n"
     ]
    },
    {
     "name": "stderr",
     "output_type": "stream",
     "text": [
      "Updating PHI and GAMMA: 100%|██████████| 2246/2246 [00:13<00:00, 170.57it/s]\n",
      "Updating LAMBDA: 100%|██████████| 2246/2246 [00:00<00:00, 4115.35it/s]\n"
     ]
    },
    {
     "name": "stdout",
     "output_type": "stream",
     "text": [
      "Current ELBO: -185691.96846043583\n",
      "\n",
      "\n",
      "Iteration: 77\n"
     ]
    },
    {
     "name": "stderr",
     "output_type": "stream",
     "text": [
      "Updating PHI and GAMMA: 100%|██████████| 2246/2246 [00:13<00:00, 166.93it/s]\n",
      "Updating LAMBDA: 100%|██████████| 2246/2246 [00:00<00:00, 3381.08it/s]\n"
     ]
    },
    {
     "name": "stdout",
     "output_type": "stream",
     "text": [
      "Current ELBO: -183729.09445024445\n",
      "\n",
      "\n",
      "Iteration: 78\n"
     ]
    },
    {
     "name": "stderr",
     "output_type": "stream",
     "text": [
      "Updating PHI and GAMMA: 100%|██████████| 2246/2246 [00:12<00:00, 174.26it/s]\n",
      "Updating LAMBDA: 100%|██████████| 2246/2246 [00:00<00:00, 3382.78it/s]\n"
     ]
    },
    {
     "name": "stdout",
     "output_type": "stream",
     "text": [
      "Current ELBO: -181819.97286020516\n",
      "\n",
      "\n",
      "Iteration: 79\n"
     ]
    },
    {
     "name": "stderr",
     "output_type": "stream",
     "text": [
      "Updating PHI and GAMMA: 100%|██████████| 2246/2246 [00:13<00:00, 170.65it/s]\n",
      "Updating LAMBDA: 100%|██████████| 2246/2246 [00:00<00:00, 4085.06it/s]\n"
     ]
    },
    {
     "name": "stdout",
     "output_type": "stream",
     "text": [
      "Current ELBO: -179962.58268494427\n",
      "\n",
      "\n",
      "Iteration: 80\n"
     ]
    },
    {
     "name": "stderr",
     "output_type": "stream",
     "text": [
      "Updating PHI and GAMMA: 100%|██████████| 2246/2246 [00:13<00:00, 164.58it/s]\n",
      "Updating LAMBDA: 100%|██████████| 2246/2246 [00:00<00:00, 4242.04it/s]\n"
     ]
    },
    {
     "name": "stdout",
     "output_type": "stream",
     "text": [
      "Current ELBO: -178154.997919547\n",
      "\n",
      "\n",
      "Iteration: 81\n"
     ]
    },
    {
     "name": "stderr",
     "output_type": "stream",
     "text": [
      "Updating PHI and GAMMA: 100%|██████████| 2246/2246 [00:13<00:00, 171.10it/s]\n",
      "Updating LAMBDA: 100%|██████████| 2246/2246 [00:00<00:00, 3894.96it/s]\n"
     ]
    },
    {
     "name": "stdout",
     "output_type": "stream",
     "text": [
      "Current ELBO: -176395.37003212632\n",
      "\n",
      "\n",
      "Iteration: 82\n"
     ]
    },
    {
     "name": "stderr",
     "output_type": "stream",
     "text": [
      "Updating PHI and GAMMA: 100%|██████████| 2246/2246 [00:13<00:00, 169.37it/s]\n",
      "Updating LAMBDA: 100%|██████████| 2246/2246 [00:00<00:00, 3511.22it/s]\n"
     ]
    },
    {
     "name": "stdout",
     "output_type": "stream",
     "text": [
      "Current ELBO: -174681.92313812333\n",
      "\n",
      "\n",
      "Iteration: 83\n"
     ]
    },
    {
     "name": "stderr",
     "output_type": "stream",
     "text": [
      "Updating PHI and GAMMA: 100%|██████████| 2246/2246 [00:13<00:00, 168.52it/s]\n",
      "Updating LAMBDA: 100%|██████████| 2246/2246 [00:00<00:00, 3814.61it/s]\n"
     ]
    },
    {
     "name": "stdout",
     "output_type": "stream",
     "text": [
      "Current ELBO: -173012.95365735382\n",
      "\n",
      "\n",
      "Iteration: 84\n"
     ]
    },
    {
     "name": "stderr",
     "output_type": "stream",
     "text": [
      "Updating PHI and GAMMA: 100%|██████████| 2246/2246 [00:13<00:00, 164.51it/s]\n",
      "Updating LAMBDA: 100%|██████████| 2246/2246 [00:00<00:00, 3302.91it/s]\n"
     ]
    },
    {
     "name": "stdout",
     "output_type": "stream",
     "text": [
      "Current ELBO: -171386.83167518262\n",
      "\n",
      "\n",
      "Iteration: 85\n"
     ]
    },
    {
     "name": "stderr",
     "output_type": "stream",
     "text": [
      "Updating PHI and GAMMA: 100%|██████████| 2246/2246 [00:12<00:00, 177.35it/s]\n",
      "Updating LAMBDA: 100%|██████████| 2246/2246 [00:00<00:00, 4030.52it/s]\n"
     ]
    },
    {
     "name": "stdout",
     "output_type": "stream",
     "text": [
      "Current ELBO: -169801.998284545\n",
      "\n",
      "\n",
      "Iteration: 86\n"
     ]
    },
    {
     "name": "stderr",
     "output_type": "stream",
     "text": [
      "Updating PHI and GAMMA: 100%|██████████| 2246/2246 [00:13<00:00, 170.49it/s]\n",
      "Updating LAMBDA: 100%|██████████| 2246/2246 [00:00<00:00, 3939.99it/s]\n"
     ]
    },
    {
     "name": "stdout",
     "output_type": "stream",
     "text": [
      "Current ELBO: -168256.95378634427\n",
      "\n",
      "\n",
      "Iteration: 87\n"
     ]
    },
    {
     "name": "stderr",
     "output_type": "stream",
     "text": [
      "Updating PHI and GAMMA: 100%|██████████| 2246/2246 [00:13<00:00, 172.72it/s]\n",
      "Updating LAMBDA: 100%|██████████| 2246/2246 [00:00<00:00, 3744.47it/s]\n"
     ]
    },
    {
     "name": "stdout",
     "output_type": "stream",
     "text": [
      "Current ELBO: -166750.24944477103\n",
      "\n",
      "\n",
      "Iteration: 88\n"
     ]
    },
    {
     "name": "stderr",
     "output_type": "stream",
     "text": [
      "Updating PHI and GAMMA: 100%|██████████| 2246/2246 [00:13<00:00, 162.29it/s]\n",
      "Updating LAMBDA: 100%|██████████| 2246/2246 [00:00<00:00, 4157.11it/s]\n"
     ]
    },
    {
     "name": "stdout",
     "output_type": "stream",
     "text": [
      "Current ELBO: -165280.49427547245\n",
      "\n",
      "\n",
      "Iteration: 89\n"
     ]
    },
    {
     "name": "stderr",
     "output_type": "stream",
     "text": [
      "Updating PHI and GAMMA: 100%|██████████| 2246/2246 [00:13<00:00, 171.49it/s]\n",
      "Updating LAMBDA: 100%|██████████| 2246/2246 [00:00<00:00, 3961.02it/s]\n"
     ]
    },
    {
     "name": "stdout",
     "output_type": "stream",
     "text": [
      "Current ELBO: -163846.36474942742\n",
      "\n",
      "\n",
      "Iteration: 90\n"
     ]
    },
    {
     "name": "stderr",
     "output_type": "stream",
     "text": [
      "Updating PHI and GAMMA: 100%|██████████| 2246/2246 [00:13<00:00, 171.35it/s]\n",
      "Updating LAMBDA: 100%|██████████| 2246/2246 [00:00<00:00, 4160.47it/s]\n"
     ]
    },
    {
     "name": "stdout",
     "output_type": "stream",
     "text": [
      "Current ELBO: -162446.6063211817\n",
      "\n",
      "\n",
      "Iteration: 91\n"
     ]
    },
    {
     "name": "stderr",
     "output_type": "stream",
     "text": [
      "Updating PHI and GAMMA: 100%|██████████| 2246/2246 [00:13<00:00, 165.14it/s]\n",
      "Updating LAMBDA: 100%|██████████| 2246/2246 [00:00<00:00, 4284.28it/s]\n"
     ]
    },
    {
     "name": "stdout",
     "output_type": "stream",
     "text": [
      "Current ELBO: -161080.03244813887\n",
      "\n",
      "\n",
      "Iteration: 92\n"
     ]
    },
    {
     "name": "stderr",
     "output_type": "stream",
     "text": [
      "Updating PHI and GAMMA: 100%|██████████| 2246/2246 [00:10<00:00, 209.97it/s]\n",
      "Updating LAMBDA: 100%|██████████| 2246/2246 [00:00<00:00, 4815.47it/s]\n"
     ]
    },
    {
     "name": "stdout",
     "output_type": "stream",
     "text": [
      "Current ELBO: -159745.52437495475\n",
      "\n",
      "\n",
      "Iteration: 93\n"
     ]
    },
    {
     "name": "stderr",
     "output_type": "stream",
     "text": [
      "Updating PHI and GAMMA: 100%|██████████| 2246/2246 [00:13<00:00, 170.57it/s]\n",
      "Updating LAMBDA: 100%|██████████| 2246/2246 [00:00<00:00, 4018.57it/s]\n"
     ]
    },
    {
     "name": "stdout",
     "output_type": "stream",
     "text": [
      "Current ELBO: -158442.0289677646\n",
      "\n",
      "\n",
      "Iteration: 94\n"
     ]
    },
    {
     "name": "stderr",
     "output_type": "stream",
     "text": [
      "Updating PHI and GAMMA: 100%|██████████| 2246/2246 [00:12<00:00, 174.20it/s]\n",
      "Updating LAMBDA: 100%|██████████| 2246/2246 [00:00<00:00, 4055.90it/s]\n"
     ]
    },
    {
     "name": "stdout",
     "output_type": "stream",
     "text": [
      "Current ELBO: -157168.55280368403\n",
      "\n",
      "\n",
      "Iteration: 95\n"
     ]
    },
    {
     "name": "stderr",
     "output_type": "stream",
     "text": [
      "Updating PHI and GAMMA: 100%|██████████| 2246/2246 [00:13<00:00, 168.89it/s]\n",
      "Updating LAMBDA: 100%|██████████| 2246/2246 [00:00<00:00, 3288.20it/s]\n"
     ]
    },
    {
     "name": "stdout",
     "output_type": "stream",
     "text": [
      "Current ELBO: -155924.1539950945\n",
      "\n",
      "\n",
      "Iteration: 96\n"
     ]
    },
    {
     "name": "stderr",
     "output_type": "stream",
     "text": [
      "Updating PHI and GAMMA: 100%|██████████| 2246/2246 [00:13<00:00, 172.70it/s]\n",
      "Updating LAMBDA: 100%|██████████| 2246/2246 [00:00<00:00, 4108.66it/s]\n"
     ]
    },
    {
     "name": "stdout",
     "output_type": "stream",
     "text": [
      "Current ELBO: -154707.93486749975\n",
      "\n",
      "\n",
      "Iteration: 97\n"
     ]
    },
    {
     "name": "stderr",
     "output_type": "stream",
     "text": [
      "Updating PHI and GAMMA: 100%|██████████| 2246/2246 [00:13<00:00, 166.66it/s]\n",
      "Updating LAMBDA: 100%|██████████| 2246/2246 [00:00<00:00, 3132.97it/s]\n"
     ]
    },
    {
     "name": "stdout",
     "output_type": "stream",
     "text": [
      "Current ELBO: -153519.03693793432\n",
      "\n",
      "\n",
      "Iteration: 98\n"
     ]
    },
    {
     "name": "stderr",
     "output_type": "stream",
     "text": [
      "Updating PHI and GAMMA: 100%|██████████| 2246/2246 [00:14<00:00, 155.33it/s]\n",
      "Updating LAMBDA: 100%|██████████| 2246/2246 [00:00<00:00, 3467.75it/s]\n"
     ]
    },
    {
     "name": "stdout",
     "output_type": "stream",
     "text": [
      "Current ELBO: -152356.63559409574\n",
      "\n",
      "\n",
      "Iteration: 99\n"
     ]
    },
    {
     "name": "stderr",
     "output_type": "stream",
     "text": [
      "Updating PHI and GAMMA: 100%|██████████| 2246/2246 [00:12<00:00, 173.38it/s]\n",
      "Updating LAMBDA: 100%|██████████| 2246/2246 [00:00<00:00, 3992.81it/s]\n"
     ]
    },
    {
     "name": "stdout",
     "output_type": "stream",
     "text": [
      "Current ELBO: -151219.92875757487\n",
      "\n",
      "\n",
      "Iteration: 100\n"
     ]
    },
    {
     "name": "stderr",
     "output_type": "stream",
     "text": [
      "Updating PHI and GAMMA: 100%|██████████| 2246/2246 [00:15<00:00, 146.41it/s]\n",
      "Updating LAMBDA: 100%|██████████| 2246/2246 [00:00<00:00, 2843.55it/s]\n"
     ]
    },
    {
     "name": "stdout",
     "output_type": "stream",
     "text": [
      "Current ELBO: -150108.1158533709\n",
      "\n",
      "\n",
      "Iteration: 101\n"
     ]
    },
    {
     "name": "stderr",
     "output_type": "stream",
     "text": [
      "Updating PHI and GAMMA: 100%|██████████| 2246/2246 [00:21<00:00, 102.82it/s]\n",
      "Updating LAMBDA: 100%|██████████| 2246/2246 [00:00<00:00, 2398.19it/s]\n"
     ]
    },
    {
     "name": "stdout",
     "output_type": "stream",
     "text": [
      "Current ELBO: -149020.3728163273\n",
      "\n",
      "\n",
      "Iteration: 102\n"
     ]
    },
    {
     "name": "stderr",
     "output_type": "stream",
     "text": [
      "Updating PHI and GAMMA: 100%|██████████| 2246/2246 [00:13<00:00, 169.49it/s]\n",
      "Updating LAMBDA: 100%|██████████| 2246/2246 [00:00<00:00, 3249.24it/s]\n"
     ]
    },
    {
     "name": "stdout",
     "output_type": "stream",
     "text": [
      "Current ELBO: -147955.83990592635\n",
      "\n",
      "\n",
      "Iteration: 103\n"
     ]
    },
    {
     "name": "stderr",
     "output_type": "stream",
     "text": [
      "Updating PHI and GAMMA: 100%|██████████| 2246/2246 [00:12<00:00, 176.43it/s]\n",
      "Updating LAMBDA: 100%|██████████| 2246/2246 [00:00<00:00, 3733.58it/s]\n"
     ]
    },
    {
     "name": "stdout",
     "output_type": "stream",
     "text": [
      "Current ELBO: -146913.63309704405\n",
      "\n",
      "\n",
      "Iteration: 104\n"
     ]
    },
    {
     "name": "stderr",
     "output_type": "stream",
     "text": [
      "Updating PHI and GAMMA: 100%|██████████| 2246/2246 [00:12<00:00, 173.39it/s]\n",
      "Updating LAMBDA: 100%|██████████| 2246/2246 [00:00<00:00, 4167.11it/s]\n"
     ]
    },
    {
     "name": "stdout",
     "output_type": "stream",
     "text": [
      "Current ELBO: -145892.88337031723\n",
      "\n",
      "\n",
      "Iteration: 105\n"
     ]
    },
    {
     "name": "stderr",
     "output_type": "stream",
     "text": [
      "Updating PHI and GAMMA: 100%|██████████| 2246/2246 [00:13<00:00, 170.44it/s]\n",
      "Updating LAMBDA: 100%|██████████| 2246/2246 [00:00<00:00, 3070.20it/s]\n"
     ]
    },
    {
     "name": "stdout",
     "output_type": "stream",
     "text": [
      "Current ELBO: -144892.8294511058\n",
      "\n",
      "\n",
      "Iteration: 106\n"
     ]
    },
    {
     "name": "stderr",
     "output_type": "stream",
     "text": [
      "Updating PHI and GAMMA: 100%|██████████| 2246/2246 [00:15<00:00, 146.34it/s]\n",
      "Updating LAMBDA: 100%|██████████| 2246/2246 [00:00<00:00, 3839.62it/s]\n"
     ]
    },
    {
     "name": "stdout",
     "output_type": "stream",
     "text": [
      "Current ELBO: -143912.94844102245\n",
      "\n",
      "\n",
      "Iteration: 107\n"
     ]
    },
    {
     "name": "stderr",
     "output_type": "stream",
     "text": [
      "Updating PHI and GAMMA: 100%|██████████| 2246/2246 [00:13<00:00, 168.28it/s]\n",
      "Updating LAMBDA: 100%|██████████| 2246/2246 [00:00<00:00, 3359.85it/s]\n"
     ]
    },
    {
     "name": "stdout",
     "output_type": "stream",
     "text": [
      "Current ELBO: -142952.9659919804\n",
      "\n",
      "\n",
      "Iteration: 108\n"
     ]
    },
    {
     "name": "stderr",
     "output_type": "stream",
     "text": [
      "Updating PHI and GAMMA: 100%|██████████| 2246/2246 [00:13<00:00, 171.19it/s]\n",
      "Updating LAMBDA: 100%|██████████| 2246/2246 [00:00<00:00, 3486.73it/s]\n"
     ]
    },
    {
     "name": "stdout",
     "output_type": "stream",
     "text": [
      "Current ELBO: -142012.62930932015\n",
      "\n",
      "\n",
      "Iteration: 109\n"
     ]
    },
    {
     "name": "stderr",
     "output_type": "stream",
     "text": [
      "Updating PHI and GAMMA: 100%|██████████| 2246/2246 [00:13<00:00, 171.60it/s]\n",
      "Updating LAMBDA: 100%|██████████| 2246/2246 [00:00<00:00, 3937.05it/s]\n"
     ]
    },
    {
     "name": "stdout",
     "output_type": "stream",
     "text": [
      "Current ELBO: -141091.47988867934\n",
      "\n",
      "\n",
      "Iteration: 110\n"
     ]
    },
    {
     "name": "stderr",
     "output_type": "stream",
     "text": [
      "Updating PHI and GAMMA: 100%|██████████| 2246/2246 [00:13<00:00, 168.88it/s]\n",
      "Updating LAMBDA: 100%|██████████| 2246/2246 [00:00<00:00, 3853.35it/s]\n"
     ]
    },
    {
     "name": "stdout",
     "output_type": "stream",
     "text": [
      "Current ELBO: -140188.87500831633\n",
      "\n",
      "\n",
      "Iteration: 111\n"
     ]
    },
    {
     "name": "stderr",
     "output_type": "stream",
     "text": [
      "Updating PHI and GAMMA: 100%|██████████| 2246/2246 [00:13<00:00, 168.15it/s]\n",
      "Updating LAMBDA: 100%|██████████| 2246/2246 [00:00<00:00, 3481.43it/s]\n"
     ]
    },
    {
     "name": "stdout",
     "output_type": "stream",
     "text": [
      "Current ELBO: -139304.13520819283\n",
      "\n",
      "\n",
      "Iteration: 112\n"
     ]
    },
    {
     "name": "stderr",
     "output_type": "stream",
     "text": [
      "Updating PHI and GAMMA: 100%|██████████| 2246/2246 [00:13<00:00, 169.46it/s]\n",
      "Updating LAMBDA: 100%|██████████| 2246/2246 [00:00<00:00, 3796.73it/s]\n"
     ]
    },
    {
     "name": "stdout",
     "output_type": "stream",
     "text": [
      "Current ELBO: -138436.65828363426\n",
      "\n",
      "\n",
      "Iteration: 113\n"
     ]
    },
    {
     "name": "stderr",
     "output_type": "stream",
     "text": [
      "Updating PHI and GAMMA: 100%|██████████| 2246/2246 [00:13<00:00, 169.27it/s]\n",
      "Updating LAMBDA: 100%|██████████| 2246/2246 [00:00<00:00, 3948.83it/s]\n"
     ]
    },
    {
     "name": "stdout",
     "output_type": "stream",
     "text": [
      "Current ELBO: -137585.9185828041\n",
      "\n",
      "\n",
      "Iteration: 114\n"
     ]
    },
    {
     "name": "stderr",
     "output_type": "stream",
     "text": [
      "Updating PHI and GAMMA: 100%|██████████| 2246/2246 [00:13<00:00, 163.57it/s]\n",
      "Updating LAMBDA: 100%|██████████| 2246/2246 [00:00<00:00, 4041.63it/s]\n"
     ]
    },
    {
     "name": "stdout",
     "output_type": "stream",
     "text": [
      "Current ELBO: -136751.43034169025\n",
      "\n",
      "\n",
      "Iteration: 115\n"
     ]
    },
    {
     "name": "stderr",
     "output_type": "stream",
     "text": [
      "Updating PHI and GAMMA: 100%|██████████| 2246/2246 [00:13<00:00, 170.95it/s]\n",
      "Updating LAMBDA: 100%|██████████| 2246/2246 [00:00<00:00, 4038.89it/s]\n"
     ]
    },
    {
     "name": "stdout",
     "output_type": "stream",
     "text": [
      "Current ELBO: -135932.72915731336\n",
      "\n",
      "\n",
      "Iteration: 116\n"
     ]
    },
    {
     "name": "stderr",
     "output_type": "stream",
     "text": [
      "Updating PHI and GAMMA: 100%|██████████| 2246/2246 [00:13<00:00, 168.44it/s]\n",
      "Updating LAMBDA: 100%|██████████| 2246/2246 [00:00<00:00, 3480.42it/s]\n"
     ]
    },
    {
     "name": "stdout",
     "output_type": "stream",
     "text": [
      "Current ELBO: -135129.36475855982\n",
      "\n",
      "\n",
      "Iteration: 117\n"
     ]
    },
    {
     "name": "stderr",
     "output_type": "stream",
     "text": [
      "Updating PHI and GAMMA: 100%|██████████| 2246/2246 [00:13<00:00, 171.87it/s]\n",
      "Updating LAMBDA: 100%|██████████| 2246/2246 [00:00<00:00, 4140.59it/s]\n"
     ]
    },
    {
     "name": "stdout",
     "output_type": "stream",
     "text": [
      "Current ELBO: -134340.89916532632\n",
      "\n",
      "\n",
      "Iteration: 118\n"
     ]
    },
    {
     "name": "stderr",
     "output_type": "stream",
     "text": [
      "Updating PHI and GAMMA: 100%|██████████| 2246/2246 [00:13<00:00, 170.76it/s]\n",
      "Updating LAMBDA: 100%|██████████| 2246/2246 [00:00<00:00, 3778.36it/s]\n"
     ]
    },
    {
     "name": "stdout",
     "output_type": "stream",
     "text": [
      "Current ELBO: -133566.9077688795\n",
      "\n",
      "\n",
      "Iteration: 119\n"
     ]
    },
    {
     "name": "stderr",
     "output_type": "stream",
     "text": [
      "Updating PHI and GAMMA: 100%|██████████| 2246/2246 [00:12<00:00, 173.12it/s]\n",
      "Updating LAMBDA: 100%|██████████| 2246/2246 [00:00<00:00, 3679.91it/s]\n"
     ]
    },
    {
     "name": "stdout",
     "output_type": "stream",
     "text": [
      "Current ELBO: -132806.98101894037\n",
      "\n",
      "\n",
      "Iteration: 120\n"
     ]
    },
    {
     "name": "stderr",
     "output_type": "stream",
     "text": [
      "Updating PHI and GAMMA: 100%|██████████| 2246/2246 [00:13<00:00, 160.94it/s]\n",
      "Updating LAMBDA: 100%|██████████| 2246/2246 [00:00<00:00, 3816.56it/s]\n"
     ]
    },
    {
     "name": "stdout",
     "output_type": "stream",
     "text": [
      "Current ELBO: -132060.72520465156\n",
      "\n",
      "\n",
      "Iteration: 121\n"
     ]
    },
    {
     "name": "stderr",
     "output_type": "stream",
     "text": [
      "Updating PHI and GAMMA: 100%|██████████| 2246/2246 [00:11<00:00, 193.83it/s]\n",
      "Updating LAMBDA: 100%|██████████| 2246/2246 [00:00<00:00, 4542.82it/s]\n"
     ]
    },
    {
     "name": "stdout",
     "output_type": "stream",
     "text": [
      "Current ELBO: -131327.76238747395\n",
      "\n",
      "\n",
      "Iteration: 122\n"
     ]
    },
    {
     "name": "stderr",
     "output_type": "stream",
     "text": [
      "Updating PHI and GAMMA: 100%|██████████| 2246/2246 [00:10<00:00, 210.03it/s]\n",
      "Updating LAMBDA: 100%|██████████| 2246/2246 [00:00<00:00, 4751.51it/s]\n"
     ]
    },
    {
     "name": "stdout",
     "output_type": "stream",
     "text": [
      "Current ELBO: -130607.73009368574\n",
      "\n",
      "\n",
      "Iteration: 123\n"
     ]
    },
    {
     "name": "stderr",
     "output_type": "stream",
     "text": [
      "Updating PHI and GAMMA: 100%|██████████| 2246/2246 [00:11<00:00, 193.14it/s]\n",
      "Updating LAMBDA: 100%|██████████| 2246/2246 [00:00<00:00, 4384.45it/s]\n"
     ]
    },
    {
     "name": "stdout",
     "output_type": "stream",
     "text": [
      "Current ELBO: -129900.28104400175\n",
      "\n",
      "\n",
      "Iteration: 124\n"
     ]
    },
    {
     "name": "stderr",
     "output_type": "stream",
     "text": [
      "Updating PHI and GAMMA: 100%|██████████| 2246/2246 [00:11<00:00, 197.86it/s]\n",
      "Updating LAMBDA: 100%|██████████| 2246/2246 [00:00<00:00, 4291.09it/s]\n"
     ]
    },
    {
     "name": "stdout",
     "output_type": "stream",
     "text": [
      "Current ELBO: -129205.08291290762\n",
      "\n",
      "\n",
      "Iteration: 125\n"
     ]
    },
    {
     "name": "stderr",
     "output_type": "stream",
     "text": [
      "Updating PHI and GAMMA: 100%|██████████| 2246/2246 [00:12<00:00, 186.93it/s]\n",
      "Updating LAMBDA: 100%|██████████| 2246/2246 [00:00<00:00, 4317.25it/s]\n"
     ]
    },
    {
     "name": "stdout",
     "output_type": "stream",
     "text": [
      "Current ELBO: -128521.81804666632\n",
      "\n",
      "\n",
      "Iteration: 126\n"
     ]
    },
    {
     "name": "stderr",
     "output_type": "stream",
     "text": [
      "Updating PHI and GAMMA: 100%|██████████| 2246/2246 [00:13<00:00, 172.07it/s]\n",
      "Updating LAMBDA: 100%|██████████| 2246/2246 [00:00<00:00, 4019.82it/s]\n"
     ]
    },
    {
     "name": "stdout",
     "output_type": "stream",
     "text": [
      "Current ELBO: -127850.18301514004\n",
      "\n",
      "\n",
      "Iteration: 127\n"
     ]
    },
    {
     "name": "stderr",
     "output_type": "stream",
     "text": [
      "Updating PHI and GAMMA: 100%|██████████| 2246/2246 [00:11<00:00, 201.08it/s]\n",
      "Updating LAMBDA: 100%|██████████| 2246/2246 [00:00<00:00, 4402.33it/s]\n"
     ]
    },
    {
     "name": "stdout",
     "output_type": "stream",
     "text": [
      "Current ELBO: -127189.88784595297\n",
      "\n",
      "\n",
      "Iteration: 128\n"
     ]
    },
    {
     "name": "stderr",
     "output_type": "stream",
     "text": [
      "Updating PHI and GAMMA: 100%|██████████| 2246/2246 [00:11<00:00, 203.56it/s]\n",
      "Updating LAMBDA: 100%|██████████| 2246/2246 [00:00<00:00, 4442.90it/s]\n"
     ]
    },
    {
     "name": "stdout",
     "output_type": "stream",
     "text": [
      "Current ELBO: -126540.65477238211\n",
      "\n",
      "\n",
      "Iteration: 129\n"
     ]
    },
    {
     "name": "stderr",
     "output_type": "stream",
     "text": [
      "Updating PHI and GAMMA: 100%|██████████| 2246/2246 [00:10<00:00, 204.59it/s]\n",
      "Updating LAMBDA: 100%|██████████| 2246/2246 [00:00<00:00, 4501.52it/s]\n"
     ]
    },
    {
     "name": "stdout",
     "output_type": "stream",
     "text": [
      "Current ELBO: -125902.21641898327\n",
      "\n",
      "\n",
      "Iteration: 130\n"
     ]
    },
    {
     "name": "stderr",
     "output_type": "stream",
     "text": [
      "Updating PHI and GAMMA: 100%|██████████| 2246/2246 [00:10<00:00, 205.34it/s]\n",
      "Updating LAMBDA: 100%|██████████| 2246/2246 [00:00<00:00, 4036.19it/s]\n"
     ]
    },
    {
     "name": "stdout",
     "output_type": "stream",
     "text": [
      "Current ELBO: -125274.3135629243\n",
      "\n",
      "\n",
      "Iteration: 131\n"
     ]
    },
    {
     "name": "stderr",
     "output_type": "stream",
     "text": [
      "Updating PHI and GAMMA: 100%|██████████| 2246/2246 [00:10<00:00, 205.85it/s]\n",
      "Updating LAMBDA: 100%|██████████| 2246/2246 [00:00<00:00, 4507.27it/s]\n"
     ]
    },
    {
     "name": "stdout",
     "output_type": "stream",
     "text": [
      "Current ELBO: -124656.69301484106\n",
      "\n",
      "\n",
      "Iteration: 132\n"
     ]
    },
    {
     "name": "stderr",
     "output_type": "stream",
     "text": [
      "Updating PHI and GAMMA: 100%|██████████| 2246/2246 [00:11<00:00, 200.77it/s]\n",
      "Updating LAMBDA: 100%|██████████| 2246/2246 [00:00<00:00, 4389.64it/s]\n"
     ]
    },
    {
     "name": "stdout",
     "output_type": "stream",
     "text": [
      "Current ELBO: -124049.10649387357\n",
      "\n",
      "\n",
      "Iteration: 133\n"
     ]
    },
    {
     "name": "stderr",
     "output_type": "stream",
     "text": [
      "Updating PHI and GAMMA: 100%|██████████| 2246/2246 [00:11<00:00, 201.22it/s]\n",
      "Updating LAMBDA: 100%|██████████| 2246/2246 [00:00<00:00, 4430.30it/s]\n"
     ]
    },
    {
     "name": "stdout",
     "output_type": "stream",
     "text": [
      "Current ELBO: -123451.31107219262\n",
      "\n",
      "\n",
      "Iteration: 134\n"
     ]
    },
    {
     "name": "stderr",
     "output_type": "stream",
     "text": [
      "Updating PHI and GAMMA: 100%|██████████| 2246/2246 [00:12<00:00, 185.85it/s]\n",
      "Updating LAMBDA: 100%|██████████| 2246/2246 [00:00<00:00, 4422.44it/s]\n"
     ]
    },
    {
     "name": "stdout",
     "output_type": "stream",
     "text": [
      "Current ELBO: -122863.0706919853\n",
      "\n",
      "\n",
      "Iteration: 135\n"
     ]
    },
    {
     "name": "stderr",
     "output_type": "stream",
     "text": [
      "Updating PHI and GAMMA: 100%|██████████| 2246/2246 [00:11<00:00, 201.12it/s]\n",
      "Updating LAMBDA: 100%|██████████| 2246/2246 [00:00<00:00, 4436.26it/s]\n"
     ]
    },
    {
     "name": "stdout",
     "output_type": "stream",
     "text": [
      "Current ELBO: -122284.15762340307\n",
      "\n",
      "\n",
      "Iteration: 136\n"
     ]
    },
    {
     "name": "stderr",
     "output_type": "stream",
     "text": [
      "Updating PHI and GAMMA: 100%|██████████| 2246/2246 [00:10<00:00, 206.22it/s]\n",
      "Updating LAMBDA: 100%|██████████| 2246/2246 [00:00<00:00, 4497.77it/s]\n"
     ]
    },
    {
     "name": "stdout",
     "output_type": "stream",
     "text": [
      "Current ELBO: -121714.35327382418\n",
      "\n",
      "\n",
      "Iteration: 137\n"
     ]
    },
    {
     "name": "stderr",
     "output_type": "stream",
     "text": [
      "Updating PHI and GAMMA: 100%|██████████| 2246/2246 [00:11<00:00, 187.37it/s]\n",
      "Updating LAMBDA: 100%|██████████| 2246/2246 [00:00<00:00, 3923.80it/s]\n"
     ]
    },
    {
     "name": "stdout",
     "output_type": "stream",
     "text": [
      "Current ELBO: -121153.44849953073\n",
      "\n",
      "\n",
      "Iteration: 138\n"
     ]
    },
    {
     "name": "stderr",
     "output_type": "stream",
     "text": [
      "Updating PHI and GAMMA: 100%|██████████| 2246/2246 [00:10<00:00, 205.24it/s]\n",
      "Updating LAMBDA: 100%|██████████| 2246/2246 [00:00<00:00, 4476.93it/s]\n"
     ]
    },
    {
     "name": "stdout",
     "output_type": "stream",
     "text": [
      "Current ELBO: -120601.24361258202\n",
      "\n",
      "\n",
      "Iteration: 139\n"
     ]
    },
    {
     "name": "stderr",
     "output_type": "stream",
     "text": [
      "Updating PHI and GAMMA: 100%|██████████| 2246/2246 [00:11<00:00, 197.27it/s]\n",
      "Updating LAMBDA: 100%|██████████| 2246/2246 [00:00<00:00, 4232.35it/s]\n"
     ]
    },
    {
     "name": "stdout",
     "output_type": "stream",
     "text": [
      "Current ELBO: -120057.5480671126\n",
      "\n",
      "\n",
      "Iteration: 140\n"
     ]
    },
    {
     "name": "stderr",
     "output_type": "stream",
     "text": [
      "Updating PHI and GAMMA: 100%|██████████| 2246/2246 [00:11<00:00, 202.25it/s]\n",
      "Updating LAMBDA: 100%|██████████| 2246/2246 [00:00<00:00, 4391.39it/s]\n"
     ]
    },
    {
     "name": "stdout",
     "output_type": "stream",
     "text": [
      "Current ELBO: -119522.17977630836\n",
      "\n",
      "\n",
      "Iteration: 141\n"
     ]
    },
    {
     "name": "stderr",
     "output_type": "stream",
     "text": [
      "Updating PHI and GAMMA: 100%|██████████| 2246/2246 [00:11<00:00, 203.37it/s]\n",
      "Updating LAMBDA: 100%|██████████| 2246/2246 [00:00<00:00, 4341.43it/s]\n"
     ]
    },
    {
     "name": "stdout",
     "output_type": "stream",
     "text": [
      "Current ELBO: -118994.96422021525\n",
      "\n",
      "\n",
      "Iteration: 142\n"
     ]
    },
    {
     "name": "stderr",
     "output_type": "stream",
     "text": [
      "Updating PHI and GAMMA: 100%|██████████| 2246/2246 [00:11<00:00, 196.55it/s]\n",
      "Updating LAMBDA: 100%|██████████| 2246/2246 [00:00<00:00, 4028.18it/s]\n"
     ]
    },
    {
     "name": "stdout",
     "output_type": "stream",
     "text": [
      "Current ELBO: -118475.73365836448\n",
      "\n",
      "\n",
      "Iteration: 143\n"
     ]
    },
    {
     "name": "stderr",
     "output_type": "stream",
     "text": [
      "Updating PHI and GAMMA: 100%|██████████| 2246/2246 [00:10<00:00, 205.71it/s]\n",
      "Updating LAMBDA: 100%|██████████| 2246/2246 [00:00<00:00, 4451.33it/s]\n"
     ]
    },
    {
     "name": "stdout",
     "output_type": "stream",
     "text": [
      "Current ELBO: -117964.32657986101\n",
      "\n",
      "\n",
      "Iteration: 144\n"
     ]
    },
    {
     "name": "stderr",
     "output_type": "stream",
     "text": [
      "Updating PHI and GAMMA: 100%|██████████| 2246/2246 [00:10<00:00, 205.70it/s]\n",
      "Updating LAMBDA: 100%|██████████| 2246/2246 [00:00<00:00, 4421.52it/s]\n"
     ]
    },
    {
     "name": "stdout",
     "output_type": "stream",
     "text": [
      "Current ELBO: -117460.58721204234\n",
      "\n",
      "\n",
      "Iteration: 145\n"
     ]
    },
    {
     "name": "stderr",
     "output_type": "stream",
     "text": [
      "Updating PHI and GAMMA: 100%|██████████| 2246/2246 [00:10<00:00, 206.15it/s]\n",
      "Updating LAMBDA: 100%|██████████| 2246/2246 [00:00<00:00, 4516.52it/s]\n"
     ]
    },
    {
     "name": "stdout",
     "output_type": "stream",
     "text": [
      "Current ELBO: -116964.36489037701\n",
      "\n",
      "\n",
      "Iteration: 146\n"
     ]
    },
    {
     "name": "stderr",
     "output_type": "stream",
     "text": [
      "Updating PHI and GAMMA: 100%|██████████| 2246/2246 [00:10<00:00, 204.32it/s]\n",
      "Updating LAMBDA: 100%|██████████| 2246/2246 [00:00<00:00, 4589.14it/s]\n"
     ]
    },
    {
     "name": "stdout",
     "output_type": "stream",
     "text": [
      "Current ELBO: -116475.51332597138\n",
      "\n",
      "\n",
      "Iteration: 147\n"
     ]
    },
    {
     "name": "stderr",
     "output_type": "stream",
     "text": [
      "Updating PHI and GAMMA: 100%|██████████| 2246/2246 [00:11<00:00, 203.51it/s]\n",
      "Updating LAMBDA: 100%|██████████| 2246/2246 [00:00<00:00, 4475.37it/s]\n"
     ]
    },
    {
     "name": "stdout",
     "output_type": "stream",
     "text": [
      "Current ELBO: -115993.88992520346\n",
      "\n",
      "\n",
      "Iteration: 148\n"
     ]
    },
    {
     "name": "stderr",
     "output_type": "stream",
     "text": [
      "Updating PHI and GAMMA: 100%|██████████| 2246/2246 [00:10<00:00, 205.30it/s]\n",
      "Updating LAMBDA: 100%|██████████| 2246/2246 [00:00<00:00, 4456.09it/s]\n"
     ]
    },
    {
     "name": "stdout",
     "output_type": "stream",
     "text": [
      "Current ELBO: -115519.35521376514\n",
      "\n",
      "\n",
      "Iteration: 149\n"
     ]
    },
    {
     "name": "stderr",
     "output_type": "stream",
     "text": [
      "Updating PHI and GAMMA: 100%|██████████| 2246/2246 [00:10<00:00, 205.93it/s]\n",
      "Updating LAMBDA: 100%|██████████| 2246/2246 [00:00<00:00, 4483.38it/s]\n"
     ]
    },
    {
     "name": "stdout",
     "output_type": "stream",
     "text": [
      "Current ELBO: -115051.77235839199\n",
      "\n",
      "\n",
      "Iteration: 150\n"
     ]
    },
    {
     "name": "stderr",
     "output_type": "stream",
     "text": [
      "Updating PHI and GAMMA: 100%|██████████| 2246/2246 [00:11<00:00, 193.99it/s]\n",
      "Updating LAMBDA: 100%|██████████| 2246/2246 [00:00<00:00, 4374.79it/s]\n"
     ]
    },
    {
     "name": "stdout",
     "output_type": "stream",
     "text": [
      "Current ELBO: -114591.00673940722\n",
      "\n",
      "\n",
      "Iteration: 151\n"
     ]
    },
    {
     "name": "stderr",
     "output_type": "stream",
     "text": [
      "Updating PHI and GAMMA: 100%|██████████| 2246/2246 [00:10<00:00, 206.35it/s]\n",
      "Updating LAMBDA: 100%|██████████| 2246/2246 [00:00<00:00, 4522.98it/s]\n"
     ]
    },
    {
     "name": "stdout",
     "output_type": "stream",
     "text": [
      "Current ELBO: -114136.92562287269\n",
      "\n",
      "\n",
      "Iteration: 152\n"
     ]
    },
    {
     "name": "stderr",
     "output_type": "stream",
     "text": [
      "Updating PHI and GAMMA: 100%|██████████| 2246/2246 [00:10<00:00, 204.85it/s]\n",
      "Updating LAMBDA: 100%|██████████| 2246/2246 [00:00<00:00, 4365.61it/s]\n"
     ]
    },
    {
     "name": "stdout",
     "output_type": "stream",
     "text": [
      "Current ELBO: -113689.39796270308\n",
      "\n",
      "\n",
      "Iteration: 153\n"
     ]
    },
    {
     "name": "stderr",
     "output_type": "stream",
     "text": [
      "Updating PHI and GAMMA: 100%|██████████| 2246/2246 [00:13<00:00, 168.13it/s]\n",
      "Updating LAMBDA: 100%|██████████| 2246/2246 [00:00<00:00, 4291.14it/s]\n"
     ]
    },
    {
     "name": "stdout",
     "output_type": "stream",
     "text": [
      "Current ELBO: -113248.29436989913\n",
      "\n",
      "\n",
      "Iteration: 154\n"
     ]
    },
    {
     "name": "stderr",
     "output_type": "stream",
     "text": [
      "Updating PHI and GAMMA: 100%|██████████| 2246/2246 [00:25<00:00, 88.11it/s] \n",
      "Updating LAMBDA: 100%|██████████| 2246/2246 [00:01<00:00, 1169.58it/s]\n"
     ]
    },
    {
     "name": "stdout",
     "output_type": "stream",
     "text": [
      "Current ELBO: -112813.48720674923\n",
      "\n",
      "\n",
      "Iteration: 155\n"
     ]
    },
    {
     "name": "stderr",
     "output_type": "stream",
     "text": [
      "Updating PHI and GAMMA: 100%|██████████| 2246/2246 [00:14<00:00, 153.51it/s]\n",
      "Updating LAMBDA: 100%|██████████| 2246/2246 [00:00<00:00, 3649.15it/s]\n"
     ]
    },
    {
     "name": "stdout",
     "output_type": "stream",
     "text": [
      "Current ELBO: -112384.85075075326\n",
      "\n",
      "\n",
      "Iteration: 156\n"
     ]
    },
    {
     "name": "stderr",
     "output_type": "stream",
     "text": [
      "Updating PHI and GAMMA: 100%|██████████| 2246/2246 [00:13<00:00, 161.14it/s]\n",
      "Updating LAMBDA: 100%|██████████| 2246/2246 [00:00<00:00, 3080.77it/s]\n"
     ]
    },
    {
     "name": "stdout",
     "output_type": "stream",
     "text": [
      "Current ELBO: -111962.26135412478\n",
      "\n",
      "\n",
      "Iteration: 157\n"
     ]
    },
    {
     "name": "stderr",
     "output_type": "stream",
     "text": [
      "Updating PHI and GAMMA: 100%|██████████| 2246/2246 [00:13<00:00, 160.59it/s]\n",
      "Updating LAMBDA: 100%|██████████| 2246/2246 [00:00<00:00, 3355.36it/s]\n"
     ]
    },
    {
     "name": "stdout",
     "output_type": "stream",
     "text": [
      "Current ELBO: -111545.5975688344\n",
      "\n",
      "\n",
      "Iteration: 158\n"
     ]
    },
    {
     "name": "stderr",
     "output_type": "stream",
     "text": [
      "Updating PHI and GAMMA: 100%|██████████| 2246/2246 [00:13<00:00, 163.58it/s]\n",
      "Updating LAMBDA: 100%|██████████| 2246/2246 [00:00<00:00, 3843.42it/s]\n"
     ]
    },
    {
     "name": "stdout",
     "output_type": "stream",
     "text": [
      "Current ELBO: -111134.74023151555\n",
      "\n",
      "\n",
      "Iteration: 159\n"
     ]
    },
    {
     "name": "stderr",
     "output_type": "stream",
     "text": [
      "Updating PHI and GAMMA: 100%|██████████| 2246/2246 [00:14<00:00, 158.53it/s]\n",
      "Updating LAMBDA: 100%|██████████| 2246/2246 [00:00<00:00, 3033.87it/s]\n"
     ]
    },
    {
     "name": "stdout",
     "output_type": "stream",
     "text": [
      "Current ELBO: -110729.57252256607\n",
      "\n",
      "\n",
      "Iteration: 160\n"
     ]
    },
    {
     "name": "stderr",
     "output_type": "stream",
     "text": [
      "Updating PHI and GAMMA: 100%|██████████| 2246/2246 [00:13<00:00, 161.36it/s]\n",
      "Updating LAMBDA: 100%|██████████| 2246/2246 [00:01<00:00, 2211.96it/s]\n"
     ]
    },
    {
     "name": "stdout",
     "output_type": "stream",
     "text": [
      "Current ELBO: -110329.98000827072\n",
      "\n",
      "\n",
      "Iteration: 161\n"
     ]
    },
    {
     "name": "stderr",
     "output_type": "stream",
     "text": [
      "Updating PHI and GAMMA: 100%|██████████| 2246/2246 [00:13<00:00, 164.11it/s]\n",
      "Updating LAMBDA: 100%|██████████| 2246/2246 [00:00<00:00, 3785.82it/s]\n"
     ]
    },
    {
     "name": "stdout",
     "output_type": "stream",
     "text": [
      "Current ELBO: -109935.85067532881\n",
      "\n",
      "\n",
      "Iteration: 162\n"
     ]
    },
    {
     "name": "stderr",
     "output_type": "stream",
     "text": [
      "Updating PHI and GAMMA: 100%|██████████| 2246/2246 [00:13<00:00, 166.90it/s]\n",
      "Updating LAMBDA: 100%|██████████| 2246/2246 [00:00<00:00, 3900.26it/s]\n"
     ]
    },
    {
     "name": "stdout",
     "output_type": "stream",
     "text": [
      "Current ELBO: -109547.07495173902\n",
      "\n",
      "\n",
      "Iteration: 163\n"
     ]
    },
    {
     "name": "stderr",
     "output_type": "stream",
     "text": [
      "Updating PHI and GAMMA: 100%|██████████| 2246/2246 [00:13<00:00, 166.89it/s]\n",
      "Updating LAMBDA: 100%|██████████| 2246/2246 [00:00<00:00, 3837.28it/s]\n"
     ]
    },
    {
     "name": "stdout",
     "output_type": "stream",
     "text": [
      "Current ELBO: -109163.5457180854\n",
      "\n",
      "\n",
      "Iteration: 164\n"
     ]
    },
    {
     "name": "stderr",
     "output_type": "stream",
     "text": [
      "Updating PHI and GAMMA: 100%|██████████| 2246/2246 [00:13<00:00, 170.34it/s]\n",
      "Updating LAMBDA: 100%|██████████| 2246/2246 [00:00<00:00, 3762.65it/s]\n"
     ]
    },
    {
     "name": "stdout",
     "output_type": "stream",
     "text": [
      "Current ELBO: -108785.15830448015\n",
      "\n",
      "\n",
      "Iteration: 165\n"
     ]
    },
    {
     "name": "stderr",
     "output_type": "stream",
     "text": [
      "Updating PHI and GAMMA: 100%|██████████| 2246/2246 [00:13<00:00, 166.45it/s]\n",
      "Updating LAMBDA: 100%|██████████| 2246/2246 [00:00<00:00, 3609.99it/s]\n"
     ]
    },
    {
     "name": "stdout",
     "output_type": "stream",
     "text": [
      "Current ELBO: -108411.81047329213\n",
      "\n",
      "\n",
      "Iteration: 166\n"
     ]
    },
    {
     "name": "stderr",
     "output_type": "stream",
     "text": [
      "Updating PHI and GAMMA: 100%|██████████| 2246/2246 [00:14<00:00, 158.96it/s]\n",
      "Updating LAMBDA: 100%|██████████| 2246/2246 [00:00<00:00, 3519.11it/s]\n"
     ]
    },
    {
     "name": "stdout",
     "output_type": "stream",
     "text": [
      "Current ELBO: -108043.40239649315\n",
      "\n",
      "\n",
      "Iteration: 167\n"
     ]
    },
    {
     "name": "stderr",
     "output_type": "stream",
     "text": [
      "Updating PHI and GAMMA: 100%|██████████| 2246/2246 [00:13<00:00, 168.30it/s]\n",
      "Updating LAMBDA: 100%|██████████| 2246/2246 [00:00<00:00, 3808.93it/s]\n"
     ]
    },
    {
     "name": "stdout",
     "output_type": "stream",
     "text": [
      "Current ELBO: -107679.83661430178\n",
      "\n",
      "\n",
      "Iteration: 168\n"
     ]
    },
    {
     "name": "stderr",
     "output_type": "stream",
     "text": [
      "Updating PHI and GAMMA: 100%|██████████| 2246/2246 [00:13<00:00, 168.79it/s]\n",
      "Updating LAMBDA: 100%|██████████| 2246/2246 [00:00<00:00, 3776.19it/s]\n"
     ]
    },
    {
     "name": "stdout",
     "output_type": "stream",
     "text": [
      "Current ELBO: -107321.01798752097\n",
      "\n",
      "\n",
      "Iteration: 169\n"
     ]
    },
    {
     "name": "stderr",
     "output_type": "stream",
     "text": [
      "Updating PHI and GAMMA: 100%|██████████| 2246/2246 [00:13<00:00, 163.33it/s]\n",
      "Updating LAMBDA: 100%|██████████| 2246/2246 [00:00<00:00, 3564.04it/s]\n"
     ]
    },
    {
     "name": "stdout",
     "output_type": "stream",
     "text": [
      "Current ELBO: -106966.85363069474\n",
      "\n",
      "\n",
      "Iteration: 170\n"
     ]
    },
    {
     "name": "stderr",
     "output_type": "stream",
     "text": [
      "Updating PHI and GAMMA: 100%|██████████| 2246/2246 [00:14<00:00, 159.98it/s]\n",
      "Updating LAMBDA: 100%|██████████| 2246/2246 [00:00<00:00, 3788.77it/s]\n"
     ]
    },
    {
     "name": "stdout",
     "output_type": "stream",
     "text": [
      "Current ELBO: -106617.25283329072\n",
      "\n",
      "\n",
      "Iteration: 171\n"
     ]
    },
    {
     "name": "stderr",
     "output_type": "stream",
     "text": [
      "Updating PHI and GAMMA: 100%|██████████| 2246/2246 [00:13<00:00, 168.68it/s]\n",
      "Updating LAMBDA: 100%|██████████| 2246/2246 [00:00<00:00, 3778.58it/s]\n"
     ]
    },
    {
     "name": "stdout",
     "output_type": "stream",
     "text": [
      "Current ELBO: -106272.12697065575\n",
      "\n",
      "\n",
      "Iteration: 172\n"
     ]
    },
    {
     "name": "stderr",
     "output_type": "stream",
     "text": [
      "Updating PHI and GAMMA: 100%|██████████| 2246/2246 [00:13<00:00, 164.90it/s]\n",
      "Updating LAMBDA: 100%|██████████| 2246/2246 [00:00<00:00, 3239.71it/s]\n"
     ]
    },
    {
     "name": "stdout",
     "output_type": "stream",
     "text": [
      "Current ELBO: -105931.38940186665\n",
      "\n",
      "\n",
      "Iteration: 173\n"
     ]
    },
    {
     "name": "stderr",
     "output_type": "stream",
     "text": [
      "Updating PHI and GAMMA: 100%|██████████| 2246/2246 [00:13<00:00, 168.24it/s]\n",
      "Updating LAMBDA: 100%|██████████| 2246/2246 [00:00<00:00, 3975.23it/s]\n"
     ]
    },
    {
     "name": "stdout",
     "output_type": "stream",
     "text": [
      "Current ELBO: -105594.95537166845\n",
      "\n",
      "\n",
      "Iteration: 174\n"
     ]
    },
    {
     "name": "stderr",
     "output_type": "stream",
     "text": [
      "Updating PHI and GAMMA: 100%|██████████| 2246/2246 [00:13<00:00, 166.15it/s]\n",
      "Updating LAMBDA: 100%|██████████| 2246/2246 [00:00<00:00, 3858.30it/s]\n"
     ]
    },
    {
     "name": "stdout",
     "output_type": "stream",
     "text": [
      "Current ELBO: -105262.74192228852\n",
      "\n",
      "\n",
      "Iteration: 175\n"
     ]
    },
    {
     "name": "stderr",
     "output_type": "stream",
     "text": [
      "Updating PHI and GAMMA: 100%|██████████| 2246/2246 [00:13<00:00, 168.14it/s]\n",
      "Updating LAMBDA: 100%|██████████| 2246/2246 [00:00<00:00, 3982.98it/s]\n"
     ]
    },
    {
     "name": "stdout",
     "output_type": "stream",
     "text": [
      "Current ELBO: -104934.66781648845\n",
      "\n",
      "\n",
      "Iteration: 176\n"
     ]
    },
    {
     "name": "stderr",
     "output_type": "stream",
     "text": [
      "Updating PHI and GAMMA: 100%|██████████| 2246/2246 [00:13<00:00, 172.50it/s]\n",
      "Updating LAMBDA: 100%|██████████| 2246/2246 [00:00<00:00, 3980.52it/s]\n"
     ]
    },
    {
     "name": "stdout",
     "output_type": "stream",
     "text": [
      "Current ELBO: -104610.65348254418\n",
      "\n",
      "\n",
      "Iteration: 177\n"
     ]
    },
    {
     "name": "stderr",
     "output_type": "stream",
     "text": [
      "Updating PHI and GAMMA: 100%|██████████| 2246/2246 [00:13<00:00, 168.99it/s]\n",
      "Updating LAMBDA: 100%|██████████| 2246/2246 [00:00<00:00, 3965.39it/s]\n"
     ]
    },
    {
     "name": "stdout",
     "output_type": "stream",
     "text": [
      "Current ELBO: -104290.62096197289\n",
      "\n",
      "\n",
      "Iteration: 178\n"
     ]
    },
    {
     "name": "stderr",
     "output_type": "stream",
     "text": [
      "Updating PHI and GAMMA: 100%|██████████| 2246/2246 [00:13<00:00, 169.32it/s]\n",
      "Updating LAMBDA: 100%|██████████| 2246/2246 [00:00<00:00, 3866.11it/s]\n"
     ]
    },
    {
     "name": "stdout",
     "output_type": "stream",
     "text": [
      "Current ELBO: -103974.49385483781\n",
      "\n",
      "\n",
      "Iteration: 179\n"
     ]
    },
    {
     "name": "stderr",
     "output_type": "stream",
     "text": [
      "Updating PHI and GAMMA: 100%|██████████| 2246/2246 [00:13<00:00, 166.17it/s]\n",
      "Updating LAMBDA: 100%|██████████| 2246/2246 [00:00<00:00, 3382.67it/s]\n"
     ]
    },
    {
     "name": "stdout",
     "output_type": "stream",
     "text": [
      "Current ELBO: -103662.19725075187\n",
      "\n",
      "\n",
      "Iteration: 180\n"
     ]
    },
    {
     "name": "stderr",
     "output_type": "stream",
     "text": [
      "Updating PHI and GAMMA: 100%|██████████| 2246/2246 [00:13<00:00, 168.53it/s]\n",
      "Updating LAMBDA: 100%|██████████| 2246/2246 [00:00<00:00, 3752.17it/s]\n"
     ]
    },
    {
     "name": "stdout",
     "output_type": "stream",
     "text": [
      "Current ELBO: -103353.65763083343\n",
      "\n",
      "\n",
      "Iteration: 181\n"
     ]
    },
    {
     "name": "stderr",
     "output_type": "stream",
     "text": [
      "Updating PHI and GAMMA: 100%|██████████| 2246/2246 [00:13<00:00, 169.08it/s]\n",
      "Updating LAMBDA: 100%|██████████| 2246/2246 [00:00<00:00, 3593.65it/s]\n"
     ]
    },
    {
     "name": "stdout",
     "output_type": "stream",
     "text": [
      "Current ELBO: -103048.80276363065\n",
      "\n",
      "\n",
      "Iteration: 182\n"
     ]
    },
    {
     "name": "stderr",
     "output_type": "stream",
     "text": [
      "Updating PHI and GAMMA: 100%|██████████| 2246/2246 [00:13<00:00, 168.45it/s]\n",
      "Updating LAMBDA: 100%|██████████| 2246/2246 [00:00<00:00, 3813.20it/s]\n"
     ]
    },
    {
     "name": "stdout",
     "output_type": "stream",
     "text": [
      "Current ELBO: -102747.56158749168\n",
      "\n",
      "\n",
      "Iteration: 183\n"
     ]
    },
    {
     "name": "stderr",
     "output_type": "stream",
     "text": [
      "Updating PHI and GAMMA: 100%|██████████| 2246/2246 [00:13<00:00, 161.91it/s]\n",
      "Updating LAMBDA: 100%|██████████| 2246/2246 [00:00<00:00, 3370.79it/s]\n"
     ]
    },
    {
     "name": "stdout",
     "output_type": "stream",
     "text": [
      "Current ELBO: -102449.8641146626\n",
      "\n",
      "\n"
     ]
    }
   ],
   "source": [
    "K = 30\n",
    "V = len(vocab)\n",
    "ETA = 1/V\n",
    "ALPHA = 0.5\n",
    "\n",
    "tol = 300\n",
    "iteration = 1\n",
    "curr_ELBO = 0\n",
    "prev_ELBO = 301\n",
    "ELBOs = []\n",
    "\n",
    "start = time.time()\n",
    "LAMBDA, GAMMA, PHI = init_variational_params(corpus_matrix, K)\n",
    "ELBOs.append(compute_ELBO(LAMBDA, GAMMA, PHI, corpus_matrix, K))\n",
    "print(f\"Initial ELBO: {ELBOs[0]}\\n\")\n",
    "\n",
    "while np.abs(curr_ELBO - prev_ELBO) > tol:\n",
    "    print(f\"Iteration: {iteration}\")\n",
    "    LAMBDA, GAMMA, PHI = update_variational_params(LAMBDA, GAMMA, PHI, corpus_matrix, K)\n",
    "    prev_ELBO = curr_ELBO\n",
    "    curr_ELBO = compute_ELBO(LAMBDA, GAMMA, PHI, corpus_matrix, K)\n",
    "    print(f\"Current ELBO: {curr_ELBO}\")\n",
    "    ELBOs.append(curr_ELBO)\n",
    "    iteration += 1\n",
    "    print(\"\\n\")\n",
    "stop = time.time()"
   ]
  },
  {
   "cell_type": "code",
   "execution_count": 270,
   "metadata": {},
   "outputs": [
    {
     "data": {
      "text/plain": [
       "[<matplotlib.lines.Line2D at 0x21b4c24d450>]"
      ]
     },
     "execution_count": 270,
     "metadata": {},
     "output_type": "execute_result"
    },
    {
     "data": {
      "image/png": "[encoded data removed]",
      "text/plain": [
       "<Figure size 640x480 with 1 Axes>"
      ]
     },
     "metadata": {},
     "output_type": "display_data"
    }
   ],
   "source": [
    "plt.xlabel(\"Seconds\")\n",
    "plt.ylabel(\"ELBO\")\n",
    "plt.ticklabel_format(style=\"sci\", axis=\"y\", scilimits=(0, 0))\n",
    "\n",
    "plt.plot(np.linspace(0, float(stop-start), len(ELBOs)), ELBOs)"
   ]
  },
  {
   "cell_type": "code",
   "execution_count": 272,
   "metadata": {},
   "outputs": [
    {
     "data": {
      "text/plain": [
       "{0: ['party', 'court', 'percent', 'police', 'gorbachev', 'states', 'two'],\n",
       " 1: ['percent', 'new', 'two', 'company', 'president', 'york', 'time'],\n",
       " 2: ['soviet', 'state', 'million', 'first', 'new', 'department', 'government'],\n",
       " 3: ['year', 'today', 'york', 'says', 'spokesman', 'monday', 'market'],\n",
       " 4: ['new', 'time', 'united', 'million', 'soviet', 'world', 'told'],\n",
       " 5: ['year', 'million', 'years', 'today', 'two', 'dukakis', 'house'],\n",
       " 6: ['united', 'bush', 'president', 'states', 'soviet', 'reagan', 'national'],\n",
       " 7: ['percent', 'new', 'people', 'million', 'year', 'two', 'government'],\n",
       " 8: ['last', 'state', 'two', 'year', 'officials', 'government', 'first'],\n",
       " 9: ['party', 'united', 'defense', 'case', 'expected', 'day', 'money'],\n",
       " 10: ['cdy', 'clr', 'rn', 'company', 'million', 'first', 'two'],\n",
       " 11: ['percent', 'time', 'bush', 'billion', 'friday', 'police', 'million'],\n",
       " 12: ['people', 'officials', 'percent', 'years', 'today', 'back', 'american'],\n",
       " 13: ['new', 'year', 'national', 'friday', 'government', 'people', 'two'],\n",
       " 14: ['year', 'people', 'million', 'soviet', 'time', 'new', 'bush'],\n",
       " 15: ['new',\n",
       "  'president',\n",
       "  'million',\n",
       "  'city',\n",
       "  'explaining',\n",
       "  'percent',\n",
       "  'soviet'],\n",
       " 16: ['united', 'million', 'two', 'officials', 'bush', 'iraq', 'state'],\n",
       " 17: ['percent', 'president', 'two', 'week', 'first', 'new', 'government'],\n",
       " 18: ['two', 'house', 'back', 'government', 'friday', 'police', 'dukakis'],\n",
       " 19: ['new', 'president', 'bush', 'government', 'tuesday', 'court', 'monday'],\n",
       " 20: ['kentucky', 'president', 'year', 'people', 'bush', 'court', 'market'],\n",
       " 21: ['state', 'million', 'time', 'years', 'world', 'american', 'back'],\n",
       " 22: ['measures', 'signs', 'time', 'tuesday', 'million', 'air', 'power'],\n",
       " 23: ['shuttle', 'mcdermott', 'police', 'people', 'soviet', 'years', 'first'],\n",
       " 24: ['police', 'treatment', 'aoun', 'year', 'today', 'last', 'united'],\n",
       " 25: ['people', 'state', 'last', 'president', 'money', 'party', 'today'],\n",
       " 26: ['soviet', 'time', 'say', 'military', 'air', 'united', 'decision'],\n",
       " 27: ['brando', 'police', 'time', 'soviet', 'canning', 'city', 'government'],\n",
       " 28: ['trade', 'time', 'party', 'new', 'two', 'soviet', 'committee'],\n",
       " 29: ['today', 'billion', 'spokesman', 'told', 'market', 'state', 'news']}"
      ]
     },
     "execution_count": 272,
     "metadata": {},
     "output_type": "execute_result"
    }
   ],
   "source": [
    "word_topic_probs = LAMBDA / LAMBDA.sum(axis=1, keepdims=True)\n",
    "top_words = {}\n",
    "for k in range(word_topic_probs.shape[0]):\n",
    "    top_idxs = np.argsort(word_topic_probs[k, :])[-7:][::-1]\n",
    "    top_words[k] = [vocab[v] for v in top_idxs]\n",
    "\n",
    "top_words"
   ]
  },
  {
   "cell_type": "code",
   "execution_count": null,
   "metadata": {},
   "outputs": [],
   "source": [
    "word_topics = []\n",
    "for i, doc in enumerate(corpus_matrix):\n",
    "    PHI_doc = PHI[i]\n",
    "    topics = np.argmax(PHI_doc, axis=1)\n",
    "    word_topics.append([(vocab[word], topics[j]) for j, word in enumerate(doc)])\n",
    "\n",
    "for i, doc_topics in enumerate(word_topics[1:2]):\n",
    "    print(f\"Document {i+1}:\")\n",
    "    for word, topic in doc_topics:\n",
    "        print(f\"    {word}: Topic {topic}\")"
   ]
  }
 ],
 "metadata": {
  "kernelspec": {
   "display_name": "ht",
   "language": "python",
   "name": "python3"
  },
  "language_info": {
   "codemirror_mode": {
    "name": "ipython",
    "version": 3
   },
   "file_extension": ".py",
   "mimetype": "text/x-python",
   "name": "python",
   "nbconvert_exporter": "python",
   "pygments_lexer": "ipython3",
   "version": "3.13.0"
  }
 },
 "nbformat": 4,
 "nbformat_minor": 2
}
