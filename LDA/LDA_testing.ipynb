{
 "cells": [
  {
   "cell_type": "code",
   "execution_count": 1,
   "metadata": {},
   "outputs": [],
   "source": [
    "from tqdm import tqdm \n",
    "import copy\n",
    "import numpy as np\n",
    "from scipy.special import digamma, loggamma\n",
    "import time\n",
    "import matplotlib.pyplot as plt"
   ]
  },
  {
   "cell_type": "code",
   "execution_count": 2,
   "metadata": {},
   "outputs": [],
   "source": [
    "K = 20 # Number of topics\n",
    "V = 50 # Number of terms in the vocabulary\n",
    "N = 10 # Number of documents\n",
    "M = 20 # Number of words per document\n",
    "ETA = 0.5 # Hyperparameter for V-Dirichlet topics prior\n",
    "ALPHA = 0.5 # Hyperparameter for K-Dirichlet topics proportion prior\n",
    "\n",
    "def sim_LDA(K, V, N, M):\n",
    "    # For each topic in k = 1,...,K, draw topic distributions\n",
    "    BETA = np.random.dirichlet(ETA * np.ones(V), K)\n",
    "\n",
    "    X = [] # Initialize empty list for complete collection of documents\n",
    "    for i in range(N): # Iterate over number of documents i = 1,...,N\n",
    "        THETA = np.random.dirichlet(ALPHA * np.ones(K), N) # Draw topic proportions\n",
    "        x = []\n",
    "        for _ in range(M): # Iterate over each word\n",
    "            z_ij = np.random.choice(K, p=THETA[i]) # Draw topic assignment\n",
    "            x_ij = np.random.choice(V, p=BETA[z_ij]) # Draw observed word\n",
    "            x.append(x_ij)\n",
    "        X.append(x)\n",
    "\n",
    "    X = np.asarray(X) # Convert collection of documents to numpy array\n",
    "    return X\n",
    "X = sim_LDA(K, V, N, M)"
   ]
  },
  {
   "cell_type": "code",
   "execution_count": 7,
   "metadata": {},
   "outputs": [],
   "source": [
    "def init_variation_params(X):\n",
    "    N, M = X.shape\n",
    "    LAMBDA = np.random.uniform(low=0.01, high=3.00, size=(K, V))\n",
    "    GAMMA = np.ones(shape=(N, K))\n",
    "    PHI = np.ones(shape=(N, M, K)) * (1 / K)\n",
    "\n",
    "    return LAMBDA, GAMMA, PHI"
   ]
  },
  {
   "cell_type": "code",
   "execution_count": 4,
   "metadata": {},
   "outputs": [],
   "source": [
    "def compute_ELBO(LAMBDA, GAMMA, PHI, X):\n",
    "    N, M = X.shape\n",
    "    ELBO = 0\n",
    "\n",
    "    E_log_p_BETA = 0\n",
    "    for k in range(K):\n",
    "        E_log_p_BETA += (ETA - 1) * np.sum(digamma(LAMBDA[k]) - digamma(np.sum(LAMBDA[k])))\n",
    "    ELBO += E_log_p_BETA\n",
    "\n",
    "    E_log_p_THETA = 0\n",
    "    for i in range(N):\n",
    "        E_log_p_THETA += (ALPHA - 1) * np.sum(digamma(GAMMA[i]) - digamma(np.sum(GAMMA[i])))\n",
    "    ELBO += E_log_p_THETA\n",
    "\n",
    "    E_q_log_p_z_x = 0\n",
    "    for i in range(N):\n",
    "        for j in range(M):\n",
    "            x_ij = X[i,j]\n",
    "            E_q_log_p_z_x += np.sum(PHI[i,j] * (digamma(GAMMA[i]) - digamma(np.sum(GAMMA[i])))) \\\n",
    "                + np.sum(PHI[i,j] * (digamma(LAMBDA[:, x_ij])) - digamma(np.sum(LAMBDA[:, x_ij], axis=0)))\n",
    "    ELBO = E_q_log_p_z_x\n",
    "\n",
    "    E_log_q_BETA = 0\n",
    "    for k in range(K):\n",
    "        E_log_q_BETA += -loggamma(np.sum(LAMBDA[k])) + np.sum(loggamma(LAMBDA[k])) \\\n",
    "            - np.sum((LAMBDA[k] - 1) * (digamma(LAMBDA[k]) - digamma(np.sum(LAMBDA[k]))))\n",
    "    ELBO += E_log_q_BETA\n",
    "\n",
    "    E_log_q_THETA = 0\n",
    "    for i in range(N):\n",
    "        E_log_q_THETA += -loggamma(np.sum(GAMMA[i])) + np.sum(loggamma(GAMMA[i])) \\\n",
    "            - np.sum((GAMMA[i] - 1) * (digamma(GAMMA[i]) - digamma(np.sum(GAMMA[i]))))\n",
    "    ELBO += E_log_q_THETA\n",
    "\n",
    "    E_q_log_z = 0\n",
    "    for i in range(N):\n",
    "        for j in range(M):\n",
    "            E_q_log_z += -np.sum(PHI[i,j] * np.log(PHI[i,j]))\n",
    "    ELBO += E_q_log_z\n",
    "\n",
    "    return ELBO\n",
    "\n",
    "def log_sum_exp(vec):\n",
    "    alpha = np.max(vec, axis=0)\n",
    "    log_sum_exp = np.log(np.sum(np.exp(vec - alpha))) + alpha\n",
    "\n",
    "    return log_sum_exp"
   ]
  },
  {
   "cell_type": "code",
   "execution_count": 198,
   "metadata": {},
   "outputs": [
    {
     "name": "stdout",
     "output_type": "stream",
     "text": [
      "-407774.07823401684\n",
      "-407013.56601589307\n"
     ]
    }
   ],
   "source": [
    "print(compute_ELBO(LAMBDA, GAMMA, PHI, X))\n",
    "\n",
    "for i in range(N):\n",
    "    for j in range(M):\n",
    "        v = X[i, j]\n",
    "        exp_propto = digamma(LAMBDA[:, v]) - digamma(np.sum(LAMBDA[:, v])) + digamma(GAMMA[i]) - digamma(np.sum(GAMMA[i]))\n",
    "        PHI[i, j] = np.exp(exp_propto - log_sum_exp(exp_propto))\n",
    "\n",
    "    for k in range(K):\n",
    "        GAMMA[i, k] = ALPHA + np.sum(PHI[i][:, k])\n",
    "\n",
    "for k in range(K):\n",
    "    for v in range(V):\n",
    "        LAMBDA[k, v] = ETA + np.sum([[float(X[i,j] == v) * PHI[i, j][k] for i in range(N)] for j in range(M)])\n",
    "\n",
    "print(compute_ELBO(LAMBDA, GAMMA, PHI, X))"
   ]
  },
  {
   "cell_type": "code",
   "execution_count": 10,
   "metadata": {},
   "outputs": [],
   "source": [
    "def update_variation_params(LAMBDA, GAMMA, PHI, X):\n",
    "    N, M = X.shape\n",
    "\n",
    "    # Update variational topic assignment PHI[i, j]\n",
    "    for i in range(N):\n",
    "        for j in range(M):\n",
    "            x_ij = X[i, j]\n",
    "\n",
    "            exp_propto = digamma(LAMBDA[:, x_ij]) - digamma(np.sum(LAMBDA[:, x_ij])) \\\n",
    "                + digamma(GAMMA[i]) - digamma(np.sum(GAMMA[i]))\n",
    "            \n",
    "            PHI[i, j] = np.exp(exp_propto - log_sum_exp(exp_propto))\n",
    "\n",
    "        for k in range(K):\n",
    "            GAMMA[i, k] = ALPHA + np.sum(PHI[i][:, k])\n",
    "\n",
    "    # Update variational topic LAMBDA[k]\n",
    "    for k in range(K):\n",
    "        for v in range(V):\n",
    "            # Update is ETA + \\sum_{i=1}^N \\sum_{j=1}^M 1{x_ij = v} PHI_ijk\n",
    "            LAMBDA[k, v] = ETA + np.sum([[float(X[i,j] == v) * PHI[i, j][k] for i in range(N)] for j in range(M)])\n",
    "\n",
    "    return LAMBDA, GAMMA, PHI"
   ]
  },
  {
   "cell_type": "code",
   "execution_count": 21,
   "metadata": {},
   "outputs": [
    {
     "data": {
      "text/plain": [
       "[<matplotlib.lines.Line2D at 0x12cbb638f50>]"
      ]
     },
     "execution_count": 21,
     "metadata": {},
     "output_type": "execute_result"
    },
    {
     "data": {
      "image/png": "[encoded data removed]",
      "text/plain": [
       "<Figure size 640x480 with 1 Axes>"
      ]
     },
     "metadata": {},
     "output_type": "display_data"
    }
   ],
   "source": [
    "K = 10 # Number of topics\n",
    "V = 50 # Number of terms in the vocabulary\n",
    "N = 20 # Number of documents\n",
    "M = 30 # Number of words per document\n",
    "ETA = 0.5 # Hyperparameter for V-Dirichlet topics prior\n",
    "ALPHA = 0.3 # Hyperparameter for K-Dirichlet topics proportion prior\n",
    "X = sim_LDA(K, V, N, M) # Simulate LDA-collection of documents\n",
    "\n",
    "start = time.time()\n",
    "LAMBDA, GAMMA, PHI = init_variation_params(X)\n",
    "curr_ELBO = 100 # Initialize current ELBO value (initially arbitrarily greater than prev_ELBO)\n",
    "prev_ELBO = 0 # Initialize previous ELBO value (initially arbitrarily smaller than curr_ELBO)\n",
    "ELBOs = [] # Store ELBO values for plotting\n",
    "tol = 10e-10 # Tolerance for convergence of ELBO\n",
    "\n",
    "while np.abs(curr_ELBO - prev_ELBO) > tol:\n",
    "    LAMBDA, GAMMA, PHI = update_variation_params(LAMBDA, GAMMA, PHI, X)\n",
    "    prev_ELBO = curr_ELBO\n",
    "    curr_ELBO = compute_ELBO(LAMBDA, GAMMA, PHI, X)\n",
    "    ELBOs.append(curr_ELBO) # Store computed ELBO values\n",
    "\n",
    "total_time = time.time() - start\n",
    "plt.xlabel(\"Seconds\")\n",
    "plt.ylabel(\"ELBO\")\n",
    "plt.ticklabel_format(style=\"sci\", axis=\"y\", scilimits=(0, 0))\n",
    "\n",
    "plt.plot(np.linspace(0, total_time, len(ELBOs)), ELBOs)"
   ]
  },
  {
   "cell_type": "code",
   "execution_count": 6,
   "metadata": {},
   "outputs": [
    {
     "data": {
      "text/plain": [
       "[<matplotlib.lines.Line2D at 0x12cbaf7cf50>]"
      ]
     },
     "execution_count": 6,
     "metadata": {},
     "output_type": "execute_result"
    },
    {
     "data": {
      "image/png": "[encoded data removed]",
      "text/plain": [
       "<Figure size 640x480 with 1 Axes>"
      ]
     },
     "metadata": {},
     "output_type": "display_data"
    }
   ],
   "source": [
    "K = 10 # Number of topics\n",
    "V = 50 # Number of terms in the vocabulary\n",
    "N = 20 # Number of documents\n",
    "M = 30 # Number of words per document\n",
    "ETA = 0.5 # Hyperparameter for V-Dirichlet topics prior\n",
    "ALPHA = 0.5 # Hyperparameter for K-Dirichlet topics proportion prior\n",
    "X = sim_LDA(K, V, N, M) # Simulate LDA-collection of documents\n",
    "\n",
    "start = time.time()\n",
    "LAMBDA, GAMMA, PHI = init_variation_params(X)\n",
    "curr_ELBO = 100 # Initialize current ELBO value (initially arbitrarily greater than prev_ELBO)\n",
    "prev_ELBO = 0 # Initialize previous ELBO value (initially arbitrarily smaller than curr_ELBO)\n",
    "ELBOs = [] # Store ELBO values for plotting\n",
    "tol = 10e-10 # Tolerance for convergence of ELBO\n",
    "\n",
    "# Continue to update variational parameters until ELBO has converged with respect to tolerance (tol)\n",
    "while np.abs(curr_ELBO - prev_ELBO) > tol:\n",
    "    # Update variational topic assignment PHI[i, j]\n",
    "    for i in range(N):\n",
    "        for j in range(M):\n",
    "            # Again, x_ij is just an assignment of the vocabulary v=1,...,V so can treat it as such\n",
    "            x_ij = X[i, j]\n",
    "\n",
    "            # Calculate the expression inside the exponential for which PHI[i, j] is proportional to\n",
    "            exp_propto = digamma(LAMBDA[:, x_ij]) - digamma(np.sum(LAMBDA[:, x_ij])) \\\n",
    "                + digamma(GAMMA[i]) - digamma(np.sum(GAMMA[i]))\n",
    "            \n",
    "            # Use log-sum-exp trick to normalize PHI[i, j] over k\n",
    "            PHI[i, j] = np.exp(exp_propto - log_sum_exp(exp_propto))\n",
    "\n",
    "        # Update variational topic proportions GAMMA[i]\n",
    "        for k in range(K):\n",
    "            # Update is ALPHA + sum_{j=1}^M PHI_ijk\n",
    "            GAMMA[i, k] = ALPHA + np.sum(PHI[i][:, k])\n",
    "\n",
    "    # Update variational topic LAMBDA[k]\n",
    "    for k in range(K):\n",
    "        for v in range(V):\n",
    "            # Update is ETA + \\sum_{i=1}^N \\sum_{j=1}^M 1{x_ij = v} PHI_ijk\n",
    "            LAMBDA[k, v] = ETA + np.sum([[float(X[i,j] == v) * PHI[i, j][k] for i in range(N)] for j in range(M)])\n",
    "    \n",
    "    prev_ELBO = curr_ELBO # Set the previous ELBO to the current value of previous iteration\n",
    "    curr_ELBO = compute_ELBO(LAMBDA, GAMMA, PHI, X) # Compute ELBO for updated parameters; set current ELBO to new ELBO\n",
    "    ELBOs.append(curr_ELBO) # Store computed ELBO values\n",
    "\n",
    "    total_time = time.time() - start\n",
    "\n",
    "plt.xlabel(\"Seconds\")\n",
    "plt.ylabel(\"ELBO\")\n",
    "plt.ticklabel_format(style=\"sci\", axis=\"y\", scilimits=(0, 0))\n",
    "\n",
    "plt.plot(np.linspace(0, total_time, len(ELBOs)), ELBOs)"
   ]
  },
  {
   "cell_type": "code",
   "execution_count": 206,
   "metadata": {},
   "outputs": [],
   "source": [
    "def init_variation_params(X):\n",
    "    N, M = X.shape\n",
    "    LAMBDA = np.random.uniform(low=0.01, high=1.0, size=(K, V))\n",
    "    GAMMA = np.random.uniform(low=0.01, high=3.0, size=(N, K))\n",
    "    PHI = np.ones(shape=(N, M, K)) * 1/K\n",
    "\n",
    "    return LAMBDA, GAMMA, PHI"
   ]
  }
 ],
 "metadata": {
  "kernelspec": {
   "display_name": "ht",
   "language": "python",
   "name": "python3"
  },
  "language_info": {
   "codemirror_mode": {
    "name": "ipython",
    "version": 3
   },
   "file_extension": ".py",
   "mimetype": "text/x-python",
   "name": "python",
   "nbconvert_exporter": "python",
   "pygments_lexer": "ipython3",
   "version": "3.13.0"
  }
 },
 "nbformat": 4,
 "nbformat_minor": 2
}
