{
 "cells": [
  {
   "cell_type": "code",
   "execution_count": 3,
   "metadata": {},
   "outputs": [],
   "source": [
    "from tqdm import tqdm \n",
    "import copy\n",
    "import numpy as np\n",
    "from scipy.special import digamma, loggamma"
   ]
  },
  {
   "cell_type": "code",
   "execution_count": 4,
   "metadata": {},
   "outputs": [],
   "source": [
    "K = 20 # Number of topics\n",
    "V = 50 # Number of terms in the vocabulary\n",
    "N = 10 # Number of documents\n",
    "M = 20 # Number of words per document\n",
    "ETA = 0.5 # Hyperparameter for V-Dirichlet topics prior\n",
    "ALPHA = 0.5 # Hyperparameter for K-Dirichlet topics proportion prior\n",
    "\n",
    "def sim_LDA(K, V, N, M):\n",
    "    # For each topic in k = 1,...,K, draw topic distributions\n",
    "    BETA = np.random.dirichlet(ETA * np.ones(V), K)\n",
    "\n",
    "    X = [] # Initialize empty list for complete collection of documents\n",
    "    for i in range(N): # Iterate over number of documents i = 1,...,N\n",
    "        THETA = np.random.dirichlet(ALPHA * np.ones(K), N) # Draw topic proportions\n",
    "        x = []\n",
    "        for _ in range(M): # Iterate over each word\n",
    "            z_ij = np.random.choice(K, p=THETA[i]) # Draw topic assignment\n",
    "            x_ij = np.random.choice(V, p=BETA[z_ij]) # Draw observed word\n",
    "            x.append(x_ij)\n",
    "        X.append(x)\n",
    "\n",
    "    X = np.asarray(X) # Convert collection of documents to numpy array\n",
    "    return X\n",
    "X = sim_LDA(K, V, N, M)"
   ]
  },
  {
   "cell_type": "code",
   "execution_count": 5,
   "metadata": {},
   "outputs": [],
   "source": [
    "def init_variation_params(X, K, V):\n",
    "    N, M = X.shape\n",
    "    LAMBDA = np.random.uniform(low=0.01, high=1.00, size=(K, V))\n",
    "    GAMMA = np.ones(shape=(N, K))\n",
    "    PHI = np.ones(shape=(N, M, K)) * 1/K\n",
    "\n",
    "    return LAMBDA, GAMMA, PHI"
   ]
  },
  {
   "cell_type": "code",
   "execution_count": 26,
   "metadata": {},
   "outputs": [],
   "source": [
    "def compute_ELBO(LAMBDA, GAMMA, PHI, X):\n",
    "    N, M = X.shape\n",
    "    ELBO = 0\n",
    "\n",
    "    E_log_p_BETA = 0\n",
    "    for k in range(K):\n",
    "        E_log_p_BETA += (ETA - 1) * np.sum(digamma(LAMBDA[k]) - digamma(np.sum(LAMBDA[k])))\n",
    "    ELBO += E_log_p_BETA\n",
    "\n",
    "    E_log_p_THETA = 0\n",
    "    for i in range(N):\n",
    "        E_log_p_THETA += (ALPHA - 1) * np.sum(digamma(GAMMA[i]) - digamma(np.sum(GAMMA[i])))\n",
    "    ELBO += E_log_p_THETA\n",
    "\n",
    "    E_q_log_p_z_x = 0\n",
    "    for i in range(N):\n",
    "        for j in range(M):\n",
    "            x_ij = X[i,j]\n",
    "            E_q_log_p_z_x += np.sum(PHI[i,j] * (digamma(GAMMA[i]) - digamma(np.sum(GAMMA[i])))) \\\n",
    "                + np.sum(PHI[i,j] * (digamma(LAMBDA[:, x_ij])) - digamma(np.sum(LAMBDA[:, x_ij], axis=0)))\n",
    "    ELBO = E_q_log_p_z_x\n",
    "\n",
    "    E_log_q_BETA = 0\n",
    "    for k in range(K):\n",
    "        E_log_q_BETA += -loggamma(np.sum(LAMBDA[k])) + np.sum(loggamma(LAMBDA[k])) \\\n",
    "            - np.sum((LAMBDA[k] - 1) * (digamma(LAMBDA[k]) - digamma(np.sum(LAMBDA[k]))))\n",
    "    ELBO += E_log_q_BETA\n",
    "\n",
    "    E_log_q_THETA = 0\n",
    "    for i in range(N):\n",
    "        E_log_q_THETA += -loggamma(np.sum(GAMMA[i])) + np.sum(loggamma(GAMMA[i])) \\\n",
    "            - np.sum((GAMMA[i] - 1) * (digamma(GAMMA[i]) - digamma(np.sum(GAMMA[i]))))\n",
    "    ELBO += E_log_q_THETA\n",
    "\n",
    "    E_q_log_z = 0\n",
    "    for i in range(N):\n",
    "        for j in range(M):\n",
    "            E_q_log_z += -np.sum(PHI[i,j] * np.log(PHI[i,j]))\n",
    "    ELBO += E_q_log_z\n",
    "\n",
    "    return ELBO"
   ]
  },
  {
   "cell_type": "code",
   "execution_count": 32,
   "metadata": {},
   "outputs": [
    {
     "data": {
      "text/plain": [
       "(np.int64(2), np.int64(97), 100)"
      ]
     },
     "execution_count": 32,
     "metadata": {},
     "output_type": "execute_result"
    }
   ],
   "source": [
    "def log_sum_exp(vec):\n",
    "    alpha = np.max(vec, axis=0)\n",
    "    log_sum_exp = np.log(np.sum(np.exp(vec - alpha))) + alpha\n",
    "\n",
    "    return log_sum_exp\n",
    "\n",
    "np.min(X), np.max(X), V"
   ]
  },
  {
   "cell_type": "code",
   "execution_count": 28,
   "metadata": {},
   "outputs": [
    {
     "data": {
      "text/plain": [
       "[<matplotlib.lines.Line2D at 0x1bbfab84410>]"
      ]
     },
     "execution_count": 28,
     "metadata": {},
     "output_type": "execute_result"
    },
    {
     "data": {
      "image/png": "[encoded data removed]",
      "text/plain": [
       "<Figure size 640x480 with 1 Axes>"
      ]
     },
     "metadata": {},
     "output_type": "display_data"
    }
   ],
   "source": [
    "ETA = 0.5\n",
    "ALPHA = 0.25\n",
    "K = 60\n",
    "V = 100\n",
    "N = 10\n",
    "M = 10\n",
    "X = sim_LDA(K, V, N, M)\n",
    "LAMBDA_init, GAMMA_init, PHI_init = init_variation_params(X, K, V)\n",
    "LAMBDA = LAMBDA_init\n",
    "GAMMA = GAMMA_init\n",
    "PHI = PHI_init\n",
    "ELBOs = [0, 100] # Initialize ELBOs so that first differences are greater than 10e-4\n",
    "counter = 1\n",
    "\n",
    "# Continue to update variational parameters until ELBO has converged\n",
    "while np.abs(ELBOs[counter] - ELBOs[counter-1]) > 10e-4:\n",
    "    # Iteratate over the j-th word in the i-th document\n",
    "    for i in range(N):\n",
    "        for j in range(M):\n",
    "            x_ij = X[i,j]\n",
    "            exp_prop = digamma(LAMBDA[:, x_ij]) - digamma(np.sum(LAMBDA[:, x_ij])) \\\n",
    "                + digamma(GAMMA[i]) - digamma(np.sum(GAMMA[i]))\n",
    "\n",
    "            # Update (i,j)-th element of PHI (use log-sum-exp trick to normalize topic assignment)\n",
    "            PHI[i, j] = np.exp(exp_prop - log_sum_exp(exp_prop))\n",
    "\n",
    "        # Updata i-th component of GAMMA by ALPHA_k + E[m_ik(z_i)]; expectation is sum of PHI_ijk over j=1,...,M\n",
    "        GAMMA[i] =  ALPHA * np.ones(K) + np.sum(PHI[i, :], axis=0)\n",
    "\n",
    "    # Update (k,v)-th coordinate of variational topic LAMBDA\n",
    "    for k in range(K):\n",
    "        for v in range(V): \n",
    "            # Update is ETA plus the sum of x_ij^(v) PHI_ijk over i=1,...,N and j=1,...,M, where x_ij^(v) = 1{x_ij = v}\n",
    "            LAMBDA[k, v] = ETA + np.sum([[float(X[i,j] == v) * PHI[i, j][k] for i in range(N)] for j in range(M)])\n",
    "    \n",
    "    ELBOs.append(compute_ELBO(LAMBDA, GAMMA, PHI, X))\n",
    "    counter += 1\n",
    "ELBOs = ELBOs[2:]\n",
    "\n",
    "import matplotlib.pyplot as plt\n",
    "\n",
    "plt.plot(range(len(ELBOs)), ELBOs)"
   ]
  }
 ],
 "metadata": {
  "kernelspec": {
   "display_name": "ht",
   "language": "python",
   "name": "python3"
  },
  "language_info": {
   "codemirror_mode": {
    "name": "ipython",
    "version": 3
   },
   "file_extension": ".py",
   "mimetype": "text/x-python",
   "name": "python",
   "nbconvert_exporter": "python",
   "pygments_lexer": "ipython3",
   "version": "3.13.0"
  }
 },
 "nbformat": 4,
 "nbformat_minor": 2
}
