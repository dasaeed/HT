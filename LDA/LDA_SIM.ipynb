{
 "cells": [
  {
   "cell_type": "code",
   "execution_count": 1,
   "metadata": {},
   "outputs": [],
   "source": [
    "import os\n",
    "import time\n",
    "import pandas as pd\n",
    "import numpy as np\n",
    "import numpy.random as npr\n",
    "import copy\n",
    "import re\n",
    "import nltk\n",
    "import matplotlib.pyplot as plt\n",
    "import pandas as pd\n",
    "from nltk.corpus import stopwords\n",
    "from nltk.tokenize import word_tokenize\n",
    "from collections import Counter\n",
    "from tqdm import tqdm\n",
    "from scipy.special import digamma, loggamma\n",
    "from scipy.sparse import csr_matrix"
   ]
  },
  {
   "cell_type": "code",
   "execution_count": 2,
   "metadata": {},
   "outputs": [],
   "source": [
    "def log_sum_exp(vec):\n",
    "    vec_max = np.max(vec, axis=0)\n",
    "    exp_vec = np.exp(vec - vec_max)\n",
    "    sum_exp_vec = np.sum(exp_vec)\n",
    "    log_sum_exp = np.log(sum_exp_vec) + vec_max\n",
    "    return log_sum_exp\n",
    "\n",
    "def init_variational_params(documents, K, rs_int=npr.randint(low=0, high=100)):\n",
    "    rs = npr.RandomState(rs_int)\n",
    "    N, V = documents.shape\n",
    "    LAMBDA = rs.uniform(low=0.1, high=1.0, size=(K, V))\n",
    "    GAMMA = rs.uniform(low=0.1, high=1.0, size=(N, K))\n",
    "    PHI = []\n",
    "    for document in documents:\n",
    "        M = np.sum((document > 0).astype(\"int32\"))\n",
    "        document_PHI = np.ones((M, K))\n",
    "        document_PHI = document_PHI / K\n",
    "        PHI.append(document_PHI)\n",
    "        \n",
    "    return LAMBDA, GAMMA, PHI\n",
    "\n",
    "def compute_ELBO(LAMBDA, GAMMA, PHI, documents, nonzero_idxs, K):\n",
    "    ELBO = 0\n",
    "    N, _ = documents.shape\n",
    "\n",
    "    E_log_p_BETA = np.sum((ETA-1) * (digamma(LAMBDA) - digamma(np.sum(LAMBDA, axis=1, keepdims=True))))\n",
    "    ELBO += E_log_p_BETA\n",
    "\n",
    "    E_log_p_THETA = np.sum((ALPHA-1) * (digamma(GAMMA) - digamma(np.sum(GAMMA, axis=1, keepdims=True))))\n",
    "    ELBO += E_log_p_THETA\n",
    "\n",
    "    E_log_p_x_z = 0\n",
    "    for i in range(N):\n",
    "        document = documents[i]\n",
    "        nonzero_idx = nonzero_idxs[i]\n",
    "        word_idx = 0\n",
    "        for idx in nonzero_idx:\n",
    "            E_log_p_x_z += np.sum(PHI[i][word_idx] * (digamma(GAMMA[i])-digamma(np.sum(GAMMA[i])))) \\\n",
    "                + np.sum(PHI[i][word_idx] * (digamma(LAMBDA[:, idx])-digamma(np.sum(LAMBDA, axis=1))))\n",
    "            word_idx += 1\n",
    "    ELBO += E_log_p_x_z\n",
    "\n",
    "    E_log_q_BETA = np.sum(-loggamma(np.sum(LAMBDA, axis=1)) + np.sum(loggamma(LAMBDA), axis=1) \\\n",
    "        - np.sum((LAMBDA - 1) * (digamma(LAMBDA) - digamma(np.sum(LAMBDA, axis=1, keepdims=True))), axis=1))\n",
    "    ELBO += E_log_q_BETA\n",
    "\n",
    "    E_log_q_THETA = np.sum(-loggamma(np.sum(GAMMA, axis=1)) + np.sum(loggamma(GAMMA), axis=1) \\\n",
    "        - np.sum((GAMMA - 1) * (digamma(GAMMA) - digamma(np.sum(GAMMA, axis=1, keepdims=True))), axis=1))\n",
    "    ELBO += E_log_q_THETA\n",
    "\n",
    "    E_log_q_z = 0\n",
    "    for i in range(N):\n",
    "        document = documents[i]\n",
    "        nonzero_idx = nonzero_idxs[i]\n",
    "        word_idx = 0\n",
    "        for idx in nonzero_idx:\n",
    "            E_log_q_z += -np.sum(PHI[i][word_idx] * np.log(PHI[i][word_idx]))\n",
    "            word_idx += 1\n",
    "    ELBO += E_log_q_z\n",
    "\n",
    "    return ELBO"
   ]
  },
  {
   "cell_type": "code",
   "execution_count": null,
   "metadata": {},
   "outputs": [],
   "source": [
    "def simulate_LDA(N, Ms, K, V, ETA, ALPHA, rs_int=np.random.randint(low=0, high=100)):\n",
    "    rs = npr.RandomState(rs_int) \n",
    "    BETA = rs.dirichlet(np.full(V, ETA), size=K)\n",
    "    THETA = rs.dirichlet(np.full(K, ALPHA), size=N)\n",
    "    \n",
    "    row_idxs = []\n",
    "    col_idxs = []\n",
    "    values = []\n",
    "    nonzero_idxs = []\n",
    "\n",
    "    for i in range(N):\n",
    "        doc_word_counts = np.zeros(V)\n",
    "        for _ in range(Ms[i]):\n",
    "            z_ij = rs.choice(K, p=THETA[i])\n",
    "            x_ij = rs.choice(V, p=BETA[z_ij])\n",
    "            doc_word_counts[x_ij] += 1\n",
    "        doc_nonzero = np.nonzero(doc_word_counts)[0]\n",
    "        doc_nonzero = np.array(sorted(doc_nonzero))\n",
    "        nonzero_idxs.append(doc_nonzero)\n",
    "\n",
    "        row_idxs.extend([i] * len(doc_nonzero))\n",
    "        col_idxs.extend(doc_nonzero)\n",
    "        values.extend(doc_word_counts[doc_nonzero])\n",
    "    documents = csr_matrix((values, (row_idxs, col_idxs)), shape=(N, V)).toarray()\n",
    "    \n",
    "    return documents, nonzero_idxs"
   ]
  },
  {
   "cell_type": "code",
   "execution_count": 7,
   "metadata": {},
   "outputs": [],
   "source": [
    "N = 100\n",
    "Ms = npr.poisson(200, size=N)\n",
    "K = 10\n",
    "V = 1000\n",
    "ETA = 100 / V\n",
    "ALPHA = 1 / K\n",
    "documents, nonzero_idxs, BETA, THETA = simulate_LDA(N, Ms, K, V, ETA, ALPHA)\n",
    "LAMBDA, GAMMA, PHI = init_variational_params(documents, K)"
   ]
  },
  {
   "cell_type": "code",
   "execution_count": 4,
   "metadata": {},
   "outputs": [],
   "source": [
    "N = 200\n",
    "Ms = npr.poisson(70, size=N)\n",
    "K = 10\n",
    "V = 500\n",
    "ETA = 0.01\n",
    "ALPHA = 0.1\n",
    "documents, nonzero_idxs, BETA, THETA = simulate_LDA(N, Ms, K, V, ETA, ALPHA)\n",
    "LAMBDA, GAMMA, PHI = init_variational_params(documents, K)"
   ]
  },
  {
   "cell_type": "code",
   "execution_count": 5,
   "metadata": {},
   "outputs": [
    {
     "name": "stdout",
     "output_type": "stream",
     "text": [
      "Initial ELBO: -32590.729059065692\n",
      "\n",
      "Iteration 1\n"
     ]
    },
    {
     "name": "stderr",
     "output_type": "stream",
     "text": [
      "Updating PHI and GAMMA: 100%|██████████| 200/200 [00:00<00:00, 248.68it/s]\n",
      "Updating LAMBDA: 100%|██████████| 10/10 [00:00<00:00, 260.86it/s]\n"
     ]
    },
    {
     "name": "stdout",
     "output_type": "stream",
     "text": [
      "Current ELBO: -7140.2651000656 | Change in ELBO: 25450.46395900009\n",
      "\n",
      "Iteration 2\n"
     ]
    },
    {
     "name": "stderr",
     "output_type": "stream",
     "text": [
      "Updating PHI and GAMMA: 100%|██████████| 200/200 [00:00<00:00, 289.72it/s]\n",
      "Updating LAMBDA: 100%|██████████| 10/10 [00:00<00:00, 269.29it/s]\n"
     ]
    },
    {
     "name": "stdout",
     "output_type": "stream",
     "text": [
      "Current ELBO: -5742.308122686419 | Change in ELBO: 1397.956977379181\n",
      "\n",
      "Iteration 3\n"
     ]
    },
    {
     "name": "stderr",
     "output_type": "stream",
     "text": [
      "Updating PHI and GAMMA: 100%|██████████| 200/200 [00:00<00:00, 282.91it/s]\n",
      "Updating LAMBDA: 100%|██████████| 10/10 [00:00<00:00, 219.78it/s]\n"
     ]
    },
    {
     "name": "stdout",
     "output_type": "stream",
     "text": [
      "Current ELBO: -4743.417296965547 | Change in ELBO: 998.8908257208714\n",
      "\n",
      "Iteration 4\n"
     ]
    },
    {
     "name": "stderr",
     "output_type": "stream",
     "text": [
      "Updating PHI and GAMMA: 100%|██████████| 200/200 [00:00<00:00, 290.13it/s]\n",
      "Updating LAMBDA: 100%|██████████| 10/10 [00:00<00:00, 266.02it/s]\n"
     ]
    },
    {
     "name": "stdout",
     "output_type": "stream",
     "text": [
      "Current ELBO: -3825.3973511578106 | Change in ELBO: 918.0199458077368\n",
      "\n",
      "Iteration 5\n"
     ]
    },
    {
     "name": "stderr",
     "output_type": "stream",
     "text": [
      "Updating PHI and GAMMA: 100%|██████████| 200/200 [00:00<00:00, 265.81it/s]\n",
      "Updating LAMBDA: 100%|██████████| 10/10 [00:00<00:00, 258.29it/s]\n"
     ]
    },
    {
     "name": "stdout",
     "output_type": "stream",
     "text": [
      "Current ELBO: -2900.892772315844 | Change in ELBO: 924.5045788419666\n",
      "\n",
      "Iteration 6\n"
     ]
    },
    {
     "name": "stderr",
     "output_type": "stream",
     "text": [
      "Updating PHI and GAMMA: 100%|██████████| 200/200 [00:00<00:00, 262.60it/s]\n",
      "Updating LAMBDA: 100%|██████████| 10/10 [00:00<00:00, 252.65it/s]\n"
     ]
    },
    {
     "name": "stdout",
     "output_type": "stream",
     "text": [
      "Current ELBO: -2054.051090913002 | Change in ELBO: 846.8416814028419\n",
      "\n",
      "Iteration 7\n"
     ]
    },
    {
     "name": "stderr",
     "output_type": "stream",
     "text": [
      "Updating PHI and GAMMA: 100%|██████████| 200/200 [00:00<00:00, 279.20it/s]\n",
      "Updating LAMBDA: 100%|██████████| 10/10 [00:00<00:00, 275.49it/s]\n"
     ]
    },
    {
     "name": "stdout",
     "output_type": "stream",
     "text": [
      "Current ELBO: -1361.9250994081908 | Change in ELBO: 692.1259915048113\n",
      "\n",
      "Iteration 8\n"
     ]
    },
    {
     "name": "stderr",
     "output_type": "stream",
     "text": [
      "Updating PHI and GAMMA: 100%|██████████| 200/200 [00:00<00:00, 279.10it/s]\n",
      "Updating LAMBDA: 100%|██████████| 10/10 [00:00<00:00, 260.25it/s]\n"
     ]
    },
    {
     "name": "stdout",
     "output_type": "stream",
     "text": [
      "Current ELBO: -820.5641735205722 | Change in ELBO: 541.3609258876186\n",
      "\n",
      "Iteration 9\n"
     ]
    },
    {
     "name": "stderr",
     "output_type": "stream",
     "text": [
      "Updating PHI and GAMMA: 100%|██████████| 200/200 [00:00<00:00, 286.23it/s]\n",
      "Updating LAMBDA: 100%|██████████| 10/10 [00:00<00:00, 266.68it/s]\n"
     ]
    },
    {
     "name": "stdout",
     "output_type": "stream",
     "text": [
      "Current ELBO: -428.4176429590011 | Change in ELBO: 392.1465305615711\n",
      "\n",
      "Iteration 10\n"
     ]
    },
    {
     "name": "stderr",
     "output_type": "stream",
     "text": [
      "Updating PHI and GAMMA: 100%|██████████| 200/200 [00:00<00:00, 271.29it/s]\n",
      "Updating LAMBDA: 100%|██████████| 10/10 [00:00<00:00, 238.94it/s]\n"
     ]
    },
    {
     "name": "stdout",
     "output_type": "stream",
     "text": [
      "Current ELBO: -150.50691860568168 | Change in ELBO: 277.91072435331944\n",
      "\n",
      "Iteration 11\n"
     ]
    },
    {
     "name": "stderr",
     "output_type": "stream",
     "text": [
      "Updating PHI and GAMMA: 100%|██████████| 200/200 [00:00<00:00, 238.13it/s]\n",
      "Updating LAMBDA: 100%|██████████| 10/10 [00:00<00:00, 238.17it/s]\n"
     ]
    },
    {
     "name": "stdout",
     "output_type": "stream",
     "text": [
      "Current ELBO: 73.61674085422169 | Change in ELBO: 224.12365945990337\n",
      "\n",
      "Iteration 12\n"
     ]
    },
    {
     "name": "stderr",
     "output_type": "stream",
     "text": [
      "Updating PHI and GAMMA: 100%|██████████| 200/200 [00:00<00:00, 275.75it/s]\n",
      "Updating LAMBDA: 100%|██████████| 10/10 [00:00<00:00, 263.35it/s]\n"
     ]
    },
    {
     "name": "stdout",
     "output_type": "stream",
     "text": [
      "Current ELBO: 212.39943879995099 | Change in ELBO: 138.7826979457293\n",
      "\n",
      "Iteration 13\n"
     ]
    },
    {
     "name": "stderr",
     "output_type": "stream",
     "text": [
      "Updating PHI and GAMMA: 100%|██████████| 200/200 [00:00<00:00, 277.24it/s]\n",
      "Updating LAMBDA: 100%|██████████| 10/10 [00:00<00:00, 267.93it/s]\n"
     ]
    },
    {
     "name": "stdout",
     "output_type": "stream",
     "text": [
      "Current ELBO: 305.0959639212392 | Change in ELBO: 92.69652512128823\n",
      "\n",
      "Iteration 14\n"
     ]
    },
    {
     "name": "stderr",
     "output_type": "stream",
     "text": [
      "Updating PHI and GAMMA: 100%|██████████| 200/200 [00:00<00:00, 243.29it/s]\n",
      "Updating LAMBDA: 100%|██████████| 10/10 [00:00<00:00, 242.57it/s]\n"
     ]
    },
    {
     "name": "stdout",
     "output_type": "stream",
     "text": [
      "Current ELBO: 373.8950341870384 | Change in ELBO: 68.79907026579917\n",
      "\n",
      "Iteration 15\n"
     ]
    },
    {
     "name": "stderr",
     "output_type": "stream",
     "text": [
      "Updating PHI and GAMMA: 100%|██████████| 200/200 [00:00<00:00, 268.67it/s]\n",
      "Updating LAMBDA: 100%|██████████| 10/10 [00:00<00:00, 225.28it/s]\n"
     ]
    },
    {
     "name": "stdout",
     "output_type": "stream",
     "text": [
      "Current ELBO: 433.28971583371344 | Change in ELBO: 59.39468164667505\n",
      "\n",
      "Iteration 16\n"
     ]
    },
    {
     "name": "stderr",
     "output_type": "stream",
     "text": [
      "Updating PHI and GAMMA: 100%|██████████| 200/200 [00:00<00:00, 253.08it/s]\n",
      "Updating LAMBDA: 100%|██████████| 10/10 [00:00<00:00, 245.97it/s]\n"
     ]
    },
    {
     "name": "stdout",
     "output_type": "stream",
     "text": [
      "Current ELBO: 482.14777340335263 | Change in ELBO: 48.858057569639186\n",
      "\n",
      "Iteration 17\n"
     ]
    },
    {
     "name": "stderr",
     "output_type": "stream",
     "text": [
      "Updating PHI and GAMMA: 100%|██████████| 200/200 [00:00<00:00, 266.88it/s]\n",
      "Updating LAMBDA: 100%|██████████| 10/10 [00:00<00:00, 222.37it/s]\n"
     ]
    },
    {
     "name": "stdout",
     "output_type": "stream",
     "text": [
      "Current ELBO: 519.8800906806068 | Change in ELBO: 37.7323172772542\n",
      "\n",
      "Iteration 18\n"
     ]
    },
    {
     "name": "stderr",
     "output_type": "stream",
     "text": [
      "Updating PHI and GAMMA: 100%|██████████| 200/200 [00:00<00:00, 256.00it/s]\n",
      "Updating LAMBDA: 100%|██████████| 10/10 [00:00<00:00, 219.01it/s]\n"
     ]
    },
    {
     "name": "stdout",
     "output_type": "stream",
     "text": [
      "Current ELBO: 544.9845047180374 | Change in ELBO: 25.104414037430615\n",
      "\n",
      "Iteration 19\n"
     ]
    },
    {
     "name": "stderr",
     "output_type": "stream",
     "text": [
      "Updating PHI and GAMMA: 100%|██████████| 200/200 [00:00<00:00, 254.97it/s]\n",
      "Updating LAMBDA: 100%|██████████| 10/10 [00:00<00:00, 239.25it/s]\n"
     ]
    },
    {
     "name": "stdout",
     "output_type": "stream",
     "text": [
      "Current ELBO: 563.6592112001101 | Change in ELBO: 18.67470648207268\n",
      "\n",
      "Iteration 20\n"
     ]
    },
    {
     "name": "stderr",
     "output_type": "stream",
     "text": [
      "Updating PHI and GAMMA: 100%|██████████| 200/200 [00:00<00:00, 244.65it/s]\n",
      "Updating LAMBDA: 100%|██████████| 10/10 [00:00<00:00, 263.07it/s]\n"
     ]
    },
    {
     "ename": "KeyboardInterrupt",
     "evalue": "",
     "output_type": "error",
     "traceback": [
      "\u001b[1;31m---------------------------------------------------------------------------\u001b[0m",
      "\u001b[1;31mKeyboardInterrupt\u001b[0m                         Traceback (most recent call last)",
      "Cell \u001b[1;32mIn[5], line 47\u001b[0m\n\u001b[0;32m     44\u001b[0m         LAMBDA_t[k] \u001b[38;5;241m=\u001b[39m LAMBDA_k_t\n\u001b[0;32m     46\u001b[0m prev_ELBO \u001b[38;5;241m=\u001b[39m curr_ELBO\n\u001b[1;32m---> 47\u001b[0m curr_ELBO \u001b[38;5;241m=\u001b[39m \u001b[43mcompute_ELBO\u001b[49m\u001b[43m(\u001b[49m\u001b[43mLAMBDA_t\u001b[49m\u001b[43m,\u001b[49m\u001b[43m \u001b[49m\u001b[43mGAMMA_t\u001b[49m\u001b[43m,\u001b[49m\u001b[43m \u001b[49m\u001b[43mPHI_t\u001b[49m\u001b[43m,\u001b[49m\u001b[43m \u001b[49m\u001b[43mdocuments\u001b[49m\u001b[43m,\u001b[49m\u001b[43m \u001b[49m\u001b[43mnonzero_idxs\u001b[49m\u001b[43m,\u001b[49m\u001b[43m \u001b[49m\u001b[43mK\u001b[49m\u001b[43m)\u001b[49m\n\u001b[0;32m     48\u001b[0m ELBOs\u001b[38;5;241m.\u001b[39mappend(curr_ELBO)\n\u001b[0;32m     49\u001b[0m \u001b[38;5;28mprint\u001b[39m(\u001b[38;5;124mf\u001b[39m\u001b[38;5;124m\"\u001b[39m\u001b[38;5;124mCurrent ELBO: \u001b[39m\u001b[38;5;132;01m{\u001b[39;00mcurr_ELBO\u001b[38;5;132;01m}\u001b[39;00m\u001b[38;5;124m | Change in ELBO: \u001b[39m\u001b[38;5;132;01m{\u001b[39;00mcurr_ELBO\u001b[38;5;250m \u001b[39m\u001b[38;5;241m-\u001b[39m\u001b[38;5;250m \u001b[39mprev_ELBO\u001b[38;5;132;01m}\u001b[39;00m\u001b[38;5;130;01m\\n\u001b[39;00m\u001b[38;5;124m\"\u001b[39m)\n",
      "Cell \u001b[1;32mIn[2], line 39\u001b[0m, in \u001b[0;36mcompute_ELBO\u001b[1;34m(LAMBDA, GAMMA, PHI, documents, nonzero_idxs, K)\u001b[0m\n\u001b[0;32m     36\u001b[0m     word_idx \u001b[38;5;241m=\u001b[39m \u001b[38;5;241m0\u001b[39m\n\u001b[0;32m     37\u001b[0m     \u001b[38;5;28;01mfor\u001b[39;00m idx \u001b[38;5;129;01min\u001b[39;00m nonzero_idx:\n\u001b[0;32m     38\u001b[0m         E_log_p_x_z \u001b[38;5;241m+\u001b[39m\u001b[38;5;241m=\u001b[39m np\u001b[38;5;241m.\u001b[39msum(PHI[i][word_idx] \u001b[38;5;241m*\u001b[39m (digamma(GAMMA[i])\u001b[38;5;241m-\u001b[39mdigamma(np\u001b[38;5;241m.\u001b[39msum(GAMMA[i])))) \\\n\u001b[1;32m---> 39\u001b[0m             \u001b[38;5;241m+\u001b[39m np\u001b[38;5;241m.\u001b[39msum(PHI[i][word_idx] \u001b[38;5;241m*\u001b[39m (digamma(LAMBDA[:, idx])\u001b[38;5;241m-\u001b[39mdigamma(\u001b[43mnp\u001b[49m\u001b[38;5;241;43m.\u001b[39;49m\u001b[43msum\u001b[49m\u001b[43m(\u001b[49m\u001b[43mLAMBDA\u001b[49m\u001b[43m,\u001b[49m\u001b[43m \u001b[49m\u001b[43maxis\u001b[49m\u001b[38;5;241;43m=\u001b[39;49m\u001b[38;5;241;43m1\u001b[39;49m\u001b[43m)\u001b[49m)))\n\u001b[0;32m     40\u001b[0m         word_idx \u001b[38;5;241m+\u001b[39m\u001b[38;5;241m=\u001b[39m \u001b[38;5;241m1\u001b[39m\n\u001b[0;32m     41\u001b[0m ELBO \u001b[38;5;241m+\u001b[39m\u001b[38;5;241m=\u001b[39m E_log_p_x_z\n",
      "File \u001b[1;32mc:\\Users\\daany\\anaconda3\\envs\\ht\\Lib\\site-packages\\numpy\\_core\\fromnumeric.py:2485\u001b[0m, in \u001b[0;36msum\u001b[1;34m(a, axis, dtype, out, keepdims, initial, where)\u001b[0m\n\u001b[0;32m   2482\u001b[0m         \u001b[38;5;28;01mreturn\u001b[39;00m out\n\u001b[0;32m   2483\u001b[0m     \u001b[38;5;28;01mreturn\u001b[39;00m res\n\u001b[1;32m-> 2485\u001b[0m \u001b[38;5;28;01mreturn\u001b[39;00m \u001b[43m_wrapreduction\u001b[49m\u001b[43m(\u001b[49m\n\u001b[0;32m   2486\u001b[0m \u001b[43m    \u001b[49m\u001b[43ma\u001b[49m\u001b[43m,\u001b[49m\u001b[43m \u001b[49m\u001b[43mnp\u001b[49m\u001b[38;5;241;43m.\u001b[39;49m\u001b[43madd\u001b[49m\u001b[43m,\u001b[49m\u001b[43m \u001b[49m\u001b[38;5;124;43m'\u001b[39;49m\u001b[38;5;124;43msum\u001b[39;49m\u001b[38;5;124;43m'\u001b[39;49m\u001b[43m,\u001b[49m\u001b[43m \u001b[49m\u001b[43maxis\u001b[49m\u001b[43m,\u001b[49m\u001b[43m \u001b[49m\u001b[43mdtype\u001b[49m\u001b[43m,\u001b[49m\u001b[43m \u001b[49m\u001b[43mout\u001b[49m\u001b[43m,\u001b[49m\n\u001b[0;32m   2487\u001b[0m \u001b[43m    \u001b[49m\u001b[43mkeepdims\u001b[49m\u001b[38;5;241;43m=\u001b[39;49m\u001b[43mkeepdims\u001b[49m\u001b[43m,\u001b[49m\u001b[43m \u001b[49m\u001b[43minitial\u001b[49m\u001b[38;5;241;43m=\u001b[39;49m\u001b[43minitial\u001b[49m\u001b[43m,\u001b[49m\u001b[43m \u001b[49m\u001b[43mwhere\u001b[49m\u001b[38;5;241;43m=\u001b[39;49m\u001b[43mwhere\u001b[49m\n\u001b[0;32m   2488\u001b[0m \u001b[43m\u001b[49m\u001b[43m)\u001b[49m\n",
      "File \u001b[1;32mc:\\Users\\daany\\anaconda3\\envs\\ht\\Lib\\site-packages\\numpy\\_core\\fromnumeric.py:86\u001b[0m, in \u001b[0;36m_wrapreduction\u001b[1;34m(obj, ufunc, method, axis, dtype, out, **kwargs)\u001b[0m\n\u001b[0;32m     83\u001b[0m         \u001b[38;5;28;01melse\u001b[39;00m:\n\u001b[0;32m     84\u001b[0m             \u001b[38;5;28;01mreturn\u001b[39;00m reduction(axis\u001b[38;5;241m=\u001b[39maxis, out\u001b[38;5;241m=\u001b[39mout, \u001b[38;5;241m*\u001b[39m\u001b[38;5;241m*\u001b[39mpasskwargs)\n\u001b[1;32m---> 86\u001b[0m \u001b[38;5;28;01mreturn\u001b[39;00m \u001b[43mufunc\u001b[49m\u001b[38;5;241;43m.\u001b[39;49m\u001b[43mreduce\u001b[49m\u001b[43m(\u001b[49m\u001b[43mobj\u001b[49m\u001b[43m,\u001b[49m\u001b[43m \u001b[49m\u001b[43maxis\u001b[49m\u001b[43m,\u001b[49m\u001b[43m \u001b[49m\u001b[43mdtype\u001b[49m\u001b[43m,\u001b[49m\u001b[43m \u001b[49m\u001b[43mout\u001b[49m\u001b[43m,\u001b[49m\u001b[43m \u001b[49m\u001b[38;5;241;43m*\u001b[39;49m\u001b[38;5;241;43m*\u001b[39;49m\u001b[43mpasskwargs\u001b[49m\u001b[43m)\u001b[49m\n",
      "\u001b[1;31mKeyboardInterrupt\u001b[0m: "
     ]
    }
   ],
   "source": [
    "start = time.time()\n",
    "ELBOs = []\n",
    "prev_ELBO = -np.inf\n",
    "curr_ELBO = compute_ELBO(LAMBDA, GAMMA, PHI, documents, nonzero_idxs, K)\n",
    "ELBOs.append(curr_ELBO)\n",
    "print(f\"Initial ELBO: {ELBOs[0]}\\n\")\n",
    "\n",
    "max_iterations = 200\n",
    "tol = 10e-4\n",
    "LAMBDA_t = copy.deepcopy(LAMBDA)\n",
    "GAMMA_t = copy.deepcopy(GAMMA)\n",
    "PHI_t = copy.deepcopy(PHI)\n",
    "\n",
    "for t in range(max_iterations):\n",
    "    print(f\"Iteration {t+1}\")\n",
    "    for i in tqdm(range(N), desc=\"Updating PHI and GAMMA\"):\n",
    "        document = documents[i]\n",
    "        nonzero_idx = nonzero_idxs[i]\n",
    "        GAMMA_i_t = copy.deepcopy(GAMMA_t[i])\n",
    "        word_idx = 0\n",
    "        for idx in nonzero_idx:\n",
    "            log_PHI_ij = np.zeros((K,))\n",
    "            for k in range(K):\n",
    "                LAMBDA_k_t = copy.deepcopy(LAMBDA_t[k])\n",
    "                exp_propto = digamma(GAMMA_i_t[k]) - digamma(np.sum(GAMMA_i_t)) + digamma(LAMBDA_k_t[idx]) - digamma(np.sum(LAMBDA_k_t))\n",
    "                log_PHI_ij[k] = exp_propto\n",
    "            PHI_ij = np.exp(log_PHI_ij - log_sum_exp(log_PHI_ij))\n",
    "            PHI_t[i][word_idx] = PHI_ij\n",
    "            word_idx += 1\n",
    "        GAMMA_i_t = np.zeros((K,)) + ALPHA\n",
    "        for k in range(K):\n",
    "            GAMMA_i_t[k] += np.sum(document[nonzero_idx] * PHI_t[i][:, k])\n",
    "        GAMMA_t[i] = GAMMA_i_t\n",
    "\n",
    "    for k in tqdm(range(K), desc=\"Updating LAMBDA\"):\n",
    "        LAMBDA_k_t = np.zeros((V,)) + ETA\n",
    "        for i in range(N):\n",
    "            document = documents[i]\n",
    "            nonzero_idx = nonzero_idxs[i]\n",
    "            word_idx = 0\n",
    "            for idx in nonzero_idx:\n",
    "                LAMBDA_k_t[idx] += document[idx] * PHI_t[i][word_idx][k]\n",
    "                word_idx += 1\n",
    "            LAMBDA_t[k] = LAMBDA_k_t\n",
    "\n",
    "    prev_ELBO = curr_ELBO\n",
    "    curr_ELBO = compute_ELBO(LAMBDA_t, GAMMA_t, PHI_t, documents, nonzero_idxs, K)\n",
    "    ELBOs.append(curr_ELBO)\n",
    "    print(f\"Current ELBO: {curr_ELBO} | Change in ELBO: {curr_ELBO - prev_ELBO}\\n\")\n",
    "\n",
    "    if abs(curr_ELBO - prev_ELBO) < tol:\n",
    "        break\n",
    "stop = time.time()\n",
    "\n",
    "LAMBDA_final = copy.deepcopy(LAMBDA_t)\n",
    "GAMMA_final = copy.deepcopy(GAMMA_t)\n",
    "PHI_final = copy.deepcopy(PHI_t)\n",
    "\n",
    "plt.ticklabel_format(style=\"sci\", axis=\"y\", scilimits=(0, 0))\n",
    "plt.plot(np.linspace(0, stop-start, len(ELBOs)), ELBOs)"
   ]
  },
  {
   "cell_type": "code",
   "execution_count": 23,
   "metadata": {},
   "outputs": [
    {
     "data": {
      "text/plain": [
       "np.float64(-9416.708794025422)"
      ]
     },
     "execution_count": 23,
     "metadata": {},
     "output_type": "execute_result"
    }
   ],
   "source": [
    "rs = npr.RandomState(0)\n",
    "K, V, N = 10, 300, 30\n",
    "eta0, alpha0 = 0.1, (50 / K)\n",
    "Ms = rs.poisson(60, size=N)\n",
    "documents, nonzero_idxs, BETA, THETA = simulate_LDA(N, Ms, K, V, eta0, alpha0, 0)\n",
    "lambd, gamma, phi = init_variational_params(documents, K, 0)\n",
    "compute_ELBO(lambd, gamma, phi, documents, nonzero_idxs, K)"
   ]
  },
  {
   "cell_type": "code",
   "execution_count": 12,
   "metadata": {},
   "outputs": [
    {
     "data": {
      "text/plain": [
       "array([[0.10002374, 0.10000619, 0.10012869, ..., 0.10005261, 2.67731004,\n",
       "        0.10004352],\n",
       "       [0.10000678, 0.10000381, 0.10004467, ..., 0.10001745, 0.10002651,\n",
       "        0.10001298],\n",
       "       [0.10006586, 0.10001275, 0.10004989, ..., 0.10002568, 0.10000259,\n",
       "        0.10001517],\n",
       "       ...,\n",
       "       [5.09978464, 0.10000621, 0.10007385, ..., 0.10004511, 0.10002148,\n",
       "        0.10000869],\n",
       "       [0.10003886, 0.10001988, 2.09953683, ..., 7.49199056, 0.10002397,\n",
       "        0.10001101],\n",
       "       [0.10002628, 0.1000771 , 0.10003458, ..., 0.10001568, 0.100024  ,\n",
       "        0.1000269 ]])"
      ]
     },
     "execution_count": 12,
     "metadata": {},
     "output_type": "execute_result"
    }
   ],
   "source": [
    "LAMBDA_final"
   ]
  }
 ],
 "metadata": {
  "kernelspec": {
   "display_name": "ht",
   "language": "python",
   "name": "python3"
  },
  "language_info": {
   "codemirror_mode": {
    "name": "ipython",
    "version": 3
   },
   "file_extension": ".py",
   "mimetype": "text/x-python",
   "name": "python",
   "nbconvert_exporter": "python",
   "pygments_lexer": "ipython3",
   "version": "3.13.0"
  }
 },
 "nbformat": 4,
 "nbformat_minor": 2
}
