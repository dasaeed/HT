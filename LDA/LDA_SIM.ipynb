{
 "cells": [
  {
   "cell_type": "code",
   "execution_count": 2,
   "metadata": {},
   "outputs": [],
   "source": [
    "import os\n",
    "import time\n",
    "import pandas as pd\n",
    "import numpy as np\n",
    "import numpy.random as npr\n",
    "import copy\n",
    "import re\n",
    "import nltk\n",
    "import matplotlib.pyplot as plt\n",
    "import pandas as pd\n",
    "from nltk.corpus import stopwords\n",
    "from nltk.tokenize import word_tokenize\n",
    "from collections import Counter\n",
    "from tqdm import tqdm\n",
    "from scipy.special import digamma, loggamma\n",
    "from scipy.sparse import csr_matrix\n",
    "from typing import List, Dict, Tuple, Set, Optional"
   ]
  },
  {
   "cell_type": "code",
   "execution_count": 16,
   "metadata": {},
   "outputs": [],
   "source": [
    "def log_sum_exp(vec):\n",
    "    vec_max = np.max(vec, axis=0)\n",
    "    exp_vec = np.exp(vec - vec_max)\n",
    "    sum_exp_vec = np.sum(exp_vec)\n",
    "    log_sum_exp = np.log(sum_exp_vec) + vec_max\n",
    "    return log_sum_exp\n",
    "\n",
    "def init_variational_params(documents, K, rs_int=npr.randint(low=0, high=100)):\n",
    "    rs = npr.RandomState(rs_int)\n",
    "    N, V = documents.shape\n",
    "    LAMBDA = rs.uniform(low=0.1, high=1.0, size=(K, V))\n",
    "    GAMMA = rs.uniform(low=0.1, high=1.0, size=(N, K))\n",
    "    PHI = []\n",
    "    for document in documents:\n",
    "        M = np.sum((document > 0).astype(\"int32\"))\n",
    "        document_PHI = np.ones((M, K))\n",
    "        document_PHI = document_PHI / K\n",
    "        PHI.append(document_PHI)\n",
    "        \n",
    "    return LAMBDA, GAMMA, PHI\n",
    "\n",
    "def compute_ELBO(LAMBDA, GAMMA, PHI, documents, nonzero_idxs, K):\n",
    "    ELBO = 0\n",
    "    N, _ = documents.shape\n",
    "\n",
    "    E_log_p_BETA = np.sum((ETA-1) * (digamma(LAMBDA) - digamma(np.sum(LAMBDA, axis=1, keepdims=True))))\n",
    "    ELBO += E_log_p_BETA\n",
    "\n",
    "    E_log_p_THETA = np.sum((ALPHA-1) * (digamma(GAMMA) - digamma(np.sum(GAMMA, axis=1, keepdims=True))))\n",
    "    ELBO += E_log_p_THETA\n",
    "\n",
    "    E_log_p_x_z = 0\n",
    "    for i in range(N):\n",
    "        document = documents[i]\n",
    "        nonzero_idx = nonzero_idxs[i]\n",
    "        word_idx = 0\n",
    "        for idx in nonzero_idx:\n",
    "            E_log_p_x_z += np.sum(PHI[i][word_idx] * (digamma(GAMMA[i])-digamma(np.sum(GAMMA[i])))) \\\n",
    "                + np.sum(PHI[i][word_idx] * (digamma(LAMBDA[:, idx])-digamma(np.sum(LAMBDA, axis=1))))\n",
    "            word_idx += 1\n",
    "    ELBO += E_log_p_x_z\n",
    "\n",
    "    E_log_q_BETA = np.sum(-loggamma(np.sum(LAMBDA, axis=1)) + np.sum(loggamma(LAMBDA), axis=1) \\\n",
    "        - np.sum((LAMBDA - 1) * (digamma(LAMBDA) - digamma(np.sum(LAMBDA, axis=1, keepdims=True))), axis=1))\n",
    "    ELBO += E_log_q_BETA\n",
    "\n",
    "    E_log_q_THETA = np.sum(-loggamma(np.sum(GAMMA, axis=1)) + np.sum(loggamma(GAMMA), axis=1) \\\n",
    "        - np.sum((GAMMA - 1) * (digamma(GAMMA) - digamma(np.sum(GAMMA, axis=1, keepdims=True))), axis=1))\n",
    "    ELBO += E_log_q_THETA\n",
    "\n",
    "    E_log_q_z = 0\n",
    "    for i in range(N):\n",
    "        document = documents[i]\n",
    "        nonzero_idx = nonzero_idxs[i]\n",
    "        word_idx = 0\n",
    "        for idx in nonzero_idx:\n",
    "            E_log_q_z += -np.sum(PHI[i][word_idx] * np.log(PHI[i][word_idx]))\n",
    "            word_idx += 1\n",
    "    ELBO += E_log_q_z\n",
    "\n",
    "    return ELBO"
   ]
  },
  {
   "cell_type": "code",
   "execution_count": 4,
   "metadata": {},
   "outputs": [],
   "source": [
    "def simulate_LDA(N, Ms, K, V, ETA, ALPHA, rs_int=np.random.randint(low=0, high=100)):\n",
    "    rs = npr.RandomState(rs_int) \n",
    "    BETA = rs.dirichlet(np.full(V, ETA), size=K)\n",
    "    THETA = rs.dirichlet(np.full(K, ALPHA), size=N)\n",
    "    \n",
    "    row_idxs = []\n",
    "    col_idxs = []\n",
    "    values = []\n",
    "    nonzero_idxs = []\n",
    "\n",
    "    for i in range(N):\n",
    "        doc_word_counts = np.zeros(V)\n",
    "        for _ in range(Ms[i]):\n",
    "            z_ij = rs.choice(K, p=THETA[i])\n",
    "            x_ij = rs.choice(V, p=BETA[z_ij])\n",
    "            doc_word_counts[x_ij] += 1\n",
    "        doc_nonzero = np.nonzero(doc_word_counts)[0]\n",
    "        doc_nonzero = np.array(sorted(doc_nonzero))\n",
    "        nonzero_idxs.append(doc_nonzero)\n",
    "\n",
    "        row_idxs.extend([i] * len(doc_nonzero))\n",
    "        col_idxs.extend(doc_nonzero)\n",
    "        values.extend(doc_word_counts[doc_nonzero])\n",
    "    documents = csr_matrix((values, (row_idxs, col_idxs)), shape=(N, V)).toarray()\n",
    "    \n",
    "    return documents, nonzero_idxs, BETA, THETA"
   ]
  },
  {
   "cell_type": "code",
   "execution_count": 7,
   "metadata": {},
   "outputs": [],
   "source": [
    "N = 100\n",
    "Ms = npr.poisson(200, size=N)\n",
    "K = 10\n",
    "V = 1000\n",
    "ETA = 100 / V\n",
    "ALPHA = 1 / K\n",
    "documents, nonzero_idxs, BETA, THETA = simulate_LDA(N, Ms, K, V, ETA, ALPHA)\n",
    "LAMBDA, GAMMA, PHI = init_variational_params(documents, K)"
   ]
  },
  {
   "cell_type": "code",
   "execution_count": 407,
   "metadata": {},
   "outputs": [
    {
     "data": {
      "text/plain": [
       "np.float64(41.84538572328661)"
      ]
     },
     "execution_count": 407,
     "metadata": {},
     "output_type": "execute_result"
    }
   ],
   "source": [
    "rs = npr.RandomState(0)\n",
    "N = 10\n",
    "K = 5\n",
    "V = 100\n",
    "Ms = rs.poisson(50, size=N)\n",
    "eta0 = 0.3\n",
    "alpha0 = 0.5\n",
    "X, nonzero_idxs, _, _ = simulate_LDA(N, Ms, K, V, eta0, alpha0, rs_int=0)\n",
    "lambd, gamma, phi = init_variational_params(X, K, rs_int=0)\n",
    "E_log_q_z = 0\n",
    "for i in range(N):\n",
    "    document = documents[i]\n",
    "    nonzero_idx = nonzero_idxs[i]\n",
    "    word_idx = 0\n",
    "    for idx in nonzero_idx:\n",
    "        E_log_q_z += -document[idx] * np.sum(phi[i][word_idx] * np.log(phi[i][word_idx]))\n",
    "        word_idx += 1\n",
    "E_log_q_z"
   ]
  },
  {
   "cell_type": "code",
   "execution_count": 8,
   "metadata": {},
   "outputs": [],
   "source": [
    "N = 100\n",
    "Ms = npr.poisson(100, size=N)\n",
    "K = 10\n",
    "V = 1000\n",
    "ETA = 100 / V\n",
    "ALPHA = 1 / K\n",
    "documents, nonzero_idxs, BETA, THETA = simulate_LDA(N, Ms, K, V, ETA, ALPHA)\n",
    "LAMBDA, GAMMA, PHI = init_variational_params(documents, K)"
   ]
  },
  {
   "cell_type": "code",
   "execution_count": null,
   "metadata": {},
   "outputs": [],
   "source": [
    "start = time.time()\n",
    "ELBOs = []\n",
    "prev_ELBO = -np.inf\n",
    "curr_ELBO = compute_ELBO(LAMBDA, GAMMA, PHI, documents, nonzero_idxs, K)\n",
    "ELBOs.append(curr_ELBO)\n",
    "print(f\"Initial ELBO: {ELBOs[0]}\\n\")\n",
    "\n",
    "max_iterations = 200\n",
    "tol = 10e-4\n",
    "LAMBDA_t = copy.deepcopy(LAMBDA)\n",
    "GAMMA_t = copy.deepcopy(GAMMA)\n",
    "PHI_t = copy.deepcopy(PHI)\n",
    "\n",
    "for t in range(max_iterations):\n",
    "    print(f\"Iteration {t+1}\")\n",
    "    for i in tqdm(range(N), desc=\"Updating PHI and GAMMA\"):\n",
    "        document = documents[i]\n",
    "        nonzero_idx = nonzero_idxs[i]\n",
    "        GAMMA_i_t = copy.deepcopy(GAMMA_t[i])\n",
    "        word_idx = 0\n",
    "        for idx in nonzero_idx:\n",
    "            log_PHI_ij = np.zeros((K,))\n",
    "            for k in range(K):\n",
    "                LAMBDA_k_t = copy.deepcopy(LAMBDA_t[k])\n",
    "                exp_propto = digamma(GAMMA_i_t[k]) - digamma(np.sum(GAMMA_i_t)) + digamma(LAMBDA_k_t[idx]) - digamma(np.sum(LAMBDA_k_t))\n",
    "                log_PHI_ij[k] = exp_propto\n",
    "            PHI_ij = np.exp(log_PHI_ij - log_sum_exp(log_PHI_ij))\n",
    "            PHI_t[i][word_idx] = PHI_ij\n",
    "            word_idx += 1\n",
    "        GAMMA_i_t = np.zeros((K,)) + ALPHA\n",
    "        for k in range(K):\n",
    "            GAMMA_i_t[k] += np.sum(document[nonzero_idx] * PHI_t[i][:, k])\n",
    "        GAMMA_t[i] = GAMMA_i_t\n",
    "\n",
    "    for k in tqdm(range(K), desc=\"Updating LAMBDA\"):\n",
    "        LAMBDA_k_t = np.zeros((V,)) + ETA\n",
    "        for i in range(N):\n",
    "            document = documents[i]\n",
    "            nonzero_idx = nonzero_idxs[i]\n",
    "            word_idx = 0\n",
    "            for idx in nonzero_idx:\n",
    "                LAMBDA_k_t[idx] += document[idx] * PHI_t[i][word_idx][k]\n",
    "                word_idx += 1\n",
    "            LAMBDA_t[k] = LAMBDA_k_t\n",
    "\n",
    "    prev_ELBO = curr_ELBO\n",
    "    curr_ELBO = compute_ELBO(LAMBDA_t, GAMMA_t, PHI_t, documents, nonzero_idxs, K)\n",
    "    ELBOs.append(curr_ELBO)\n",
    "    print(f\"Current ELBO: {curr_ELBO} | Change in ELBO: {curr_ELBO - prev_ELBO}\\n\")\n",
    "\n",
    "    if abs(curr_ELBO - prev_ELBO) < tol:\n",
    "        break\n",
    "stop = time.time()\n",
    "\n",
    "LAMBDA_final = copy.deepcopy(LAMBDA_t)\n",
    "GAMMA_final = copy.deepcopy(GAMMA_t)\n",
    "PHI_final = copy.deepcopy(PHI_t)\n",
    "\n",
    "plt.ticklabel_format(style=\"sci\", axis=\"y\", scilimits=(0, 0))\n",
    "plt.plot(np.linspace(0, stop-start, len(ELBOs)), ELBOs)"
   ]
  },
  {
   "cell_type": "code",
   "execution_count": 23,
   "metadata": {},
   "outputs": [
    {
     "data": {
      "text/plain": [
       "np.float64(-9416.708794025422)"
      ]
     },
     "execution_count": 23,
     "metadata": {},
     "output_type": "execute_result"
    }
   ],
   "source": [
    "rs = npr.RandomState(0)\n",
    "K, V, N = 10, 300, 30\n",
    "eta0, alpha0 = 0.1, (50 / K)\n",
    "Ms = rs.poisson(60, size=N)\n",
    "documents, nonzero_idxs, BETA, THETA = simulate_LDA(N, Ms, K, V, eta0, alpha0, 0)\n",
    "lambd, gamma, phi = init_variational_params(documents, K, 0)\n",
    "compute_ELBO(lambd, gamma, phi, documents, nonzero_idxs, K)"
   ]
  },
  {
   "cell_type": "code",
   "execution_count": 12,
   "metadata": {},
   "outputs": [
    {
     "data": {
      "text/plain": [
       "array([[0.10002374, 0.10000619, 0.10012869, ..., 0.10005261, 2.67731004,\n",
       "        0.10004352],\n",
       "       [0.10000678, 0.10000381, 0.10004467, ..., 0.10001745, 0.10002651,\n",
       "        0.10001298],\n",
       "       [0.10006586, 0.10001275, 0.10004989, ..., 0.10002568, 0.10000259,\n",
       "        0.10001517],\n",
       "       ...,\n",
       "       [5.09978464, 0.10000621, 0.10007385, ..., 0.10004511, 0.10002148,\n",
       "        0.10000869],\n",
       "       [0.10003886, 0.10001988, 2.09953683, ..., 7.49199056, 0.10002397,\n",
       "        0.10001101],\n",
       "       [0.10002628, 0.1000771 , 0.10003458, ..., 0.10001568, 0.100024  ,\n",
       "        0.1000269 ]])"
      ]
     },
     "execution_count": 12,
     "metadata": {},
     "output_type": "execute_result"
    }
   ],
   "source": [
    "LAMBDA_final"
   ]
  }
 ],
 "metadata": {
  "kernelspec": {
   "display_name": "ht",
   "language": "python",
   "name": "python3"
  },
  "language_info": {
   "codemirror_mode": {
    "name": "ipython",
    "version": 3
   },
   "file_extension": ".py",
   "mimetype": "text/x-python",
   "name": "python",
   "nbconvert_exporter": "python",
   "pygments_lexer": "ipython3",
   "version": "3.13.0"
  }
 },
 "nbformat": 4,
 "nbformat_minor": 2
}
