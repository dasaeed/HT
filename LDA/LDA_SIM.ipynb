{
 "cells": [
  {
   "cell_type": "code",
   "execution_count": 1,
   "metadata": {},
   "outputs": [],
   "source": [
    "from tqdm import tqdm \n",
    "import copy\n",
    "import numpy as np\n",
    "from scipy.special import digamma, loggamma\n",
    "import time\n",
    "import matplotlib.pyplot as plt"
   ]
  },
  {
   "cell_type": "code",
   "execution_count": 153,
   "metadata": {},
   "outputs": [],
   "source": [
    "K = 20 # Number of topics\n",
    "V = 50 # Number of terms in the vocabulary\n",
    "N = 10 # Number of documents\n",
    "M = 20 # Number of words per document\n",
    "ETA = 0.5 # Hyperparameter for V-Dirichlet topics prior\n",
    "ALPHA = 0.5 # Hyperparameter for K-Dirichlet topics proportion prior\n",
    "\n",
    "def sim_LDA(K, V, N, M):\n",
    "    # For each topic in k = 1,...,K, draw topic distributions\n",
    "    BETA = np.random.dirichlet(ETA * np.ones(V), K)\n",
    "\n",
    "    X = [] # Initialize empty list for complete collection of documents\n",
    "    for i in range(N): # Iterate over number of documents i = 1,...,N\n",
    "        THETA = np.random.dirichlet(ALPHA * np.ones(K), N) # Draw topic proportions\n",
    "        x = []\n",
    "        for _ in range(M): # Iterate over each word\n",
    "            z_ij = np.random.choice(K, p=THETA[i]) # Draw topic assignment\n",
    "            x_ij = np.random.choice(V, p=BETA[z_ij]) # Draw observed word\n",
    "            x.append(x_ij)\n",
    "        X.append(x)\n",
    "\n",
    "    X = np.asarray(X) # Convert collection of documents to numpy array\n",
    "    return X\n",
    "X = sim_LDA(K, V, N, M)"
   ]
  },
  {
   "cell_type": "code",
   "execution_count": 154,
   "metadata": {},
   "outputs": [],
   "source": [
    "def init_variation_params(X):\n",
    "    N, M = X.shape\n",
    "    LAMBDA = np.random.uniform(low=0.01, high=3.00, size=(K, V))\n",
    "    GAMMA = np.ones(shape=(N, K))\n",
    "    PHI = np.ones(shape=(N, M, K)) * (1 / K)\n",
    "\n",
    "    return LAMBDA, GAMMA, PHI"
   ]
  },
  {
   "cell_type": "code",
   "execution_count": 155,
   "metadata": {},
   "outputs": [],
   "source": [
    "def compute_ELBO(LAMBDA, GAMMA, PHI, X):\n",
    "    N, M = X.shape\n",
    "    ELBO = 0\n",
    "\n",
    "    E_log_p_BETA = 0\n",
    "    for k in range(K):\n",
    "        E_log_p_BETA += (ETA - 1) * np.sum(digamma(LAMBDA[k]) - digamma(np.sum(LAMBDA[k])))\n",
    "    ELBO += E_log_p_BETA\n",
    "\n",
    "    E_log_p_THETA = 0\n",
    "    for i in range(N):\n",
    "        E_log_p_THETA += (ALPHA - 1) * np.sum(digamma(GAMMA[i]) - digamma(np.sum(GAMMA[i])))\n",
    "    ELBO += E_log_p_THETA\n",
    "\n",
    "    E_q_log_p_z_x = 0\n",
    "    for i in range(N):\n",
    "        for j in range(M):\n",
    "            x_ij = X[i,j]\n",
    "            E_q_log_p_z_x += np.sum(PHI[i,j] * (digamma(GAMMA[i]) - digamma(np.sum(GAMMA[i])))) \\\n",
    "                + np.sum(PHI[i,j] * (digamma(LAMBDA[:, x_ij])) - digamma(np.sum(LAMBDA[:, x_ij], axis=0)))\n",
    "    ELBO += E_q_log_p_z_x\n",
    "\n",
    "    E_log_q_BETA = 0\n",
    "    for k in range(K):\n",
    "        E_log_q_BETA += -loggamma(np.sum(LAMBDA[k])) + np.sum(loggamma(LAMBDA[k])) \\\n",
    "            - np.sum((LAMBDA[k] - 1) * (digamma(LAMBDA[k]) - digamma(np.sum(LAMBDA[k]))))\n",
    "    ELBO += E_log_q_BETA\n",
    "\n",
    "    E_log_q_THETA = 0\n",
    "    for i in range(N):\n",
    "        E_log_q_THETA += -loggamma(np.sum(GAMMA[i])) + np.sum(loggamma(GAMMA[i])) \\\n",
    "            - np.sum((GAMMA[i] - 1) * (digamma(GAMMA[i]) - digamma(np.sum(GAMMA[i]))))\n",
    "    ELBO += E_log_q_THETA\n",
    "\n",
    "    E_q_log_z = 0\n",
    "    for i in range(N):\n",
    "        for j in range(M):\n",
    "            E_q_log_z += -np.sum(PHI[i,j] * np.log(PHI[i,j]))\n",
    "    ELBO += E_q_log_z\n",
    "\n",
    "    return ELBO\n",
    "\n",
    "def log_sum_exp(vec):\n",
    "    alpha = np.max(vec, axis=0)\n",
    "    log_sum_exp = np.log(np.sum(np.exp(vec - alpha))) + alpha\n",
    "\n",
    "    return log_sum_exp"
   ]
  },
  {
   "cell_type": "code",
   "execution_count": 156,
   "metadata": {},
   "outputs": [],
   "source": [
    "def update_variation_params(LAMBDA, GAMMA, PHI, X):\n",
    "    N, M = X.shape\n",
    "\n",
    "    # Update variational topic assignment PHI[i, j]\n",
    "    for i in range(N):\n",
    "        for j in range(M):\n",
    "            x_ij = X[i, j]\n",
    "\n",
    "            exp_propto = digamma(LAMBDA[:, x_ij]) - digamma(np.sum(LAMBDA[:, x_ij])) \\\n",
    "                + digamma(GAMMA[i]) - digamma(np.sum(GAMMA[i]))\n",
    "            \n",
    "            PHI[i, j] = np.exp(exp_propto - log_sum_exp(exp_propto))\n",
    "\n",
    "        for k in range(K):\n",
    "            GAMMA[i, k] = ALPHA + np.sum(PHI[i][:, k])\n",
    "\n",
    "    # Update variational topic LAMBDA[k]\n",
    "    for k in range(K):\n",
    "        for v in range(V):\n",
    "            # Update is ETA + \\sum_{i=1}^N \\sum_{j=1}^M 1{x_ij = v} PHI_ijk\n",
    "            LAMBDA[k, v] = ETA + np.sum([[float(X[i,j] == v) * PHI[i, j][k] for i in range(N)] for j in range(M)])\n",
    "\n",
    "    return LAMBDA, GAMMA, PHI"
   ]
  },
  {
   "cell_type": "code",
   "execution_count": 157,
   "metadata": {},
   "outputs": [
    {
     "data": {
      "text/plain": [
       "[<matplotlib.lines.Line2D at 0x12cc50b1f90>]"
      ]
     },
     "execution_count": 157,
     "metadata": {},
     "output_type": "execute_result"
    },
    {
     "data": {
      "image/png": "[encoded data removed]",
      "text/plain": [
       "<Figure size 640x480 with 1 Axes>"
      ]
     },
     "metadata": {},
     "output_type": "display_data"
    }
   ],
   "source": [
    "K = 30 # Number of topics\n",
    "V = 50 # Number of terms in the vocabulary\n",
    "N = 20 # Number of documents\n",
    "M = 30 # Number of words per document\n",
    "ETA = 0.6 # Hyperparameter for V-Dirichlet topics prior\n",
    "ALPHA = 0.3 # Hyperparameter for K-Dirichlet topics proportion prior\n",
    "X = sim_LDA(K, V, N, M) # Simulate LDA-collection of documents\n",
    "\n",
    "start = time.time()\n",
    "LAMBDA, GAMMA, PHI = init_variation_params(X)\n",
    "curr_ELBO = 100 # Initialize current ELBO value (initially arbitrarily greater than prev_ELBO)\n",
    "prev_ELBO = 0 # Initialize previous ELBO value (initially arbitrarily smaller than curr_ELBO)\n",
    "ELBOs = [] # Store ELBO values for plotting\n",
    "tol = 10e-10 # Tolerance for convergence of ELBO\n",
    "\n",
    "while np.abs(curr_ELBO - prev_ELBO) > tol:\n",
    "    LAMBDA, GAMMA, PHI = update_variation_params(LAMBDA, GAMMA, PHI, X)\n",
    "    prev_ELBO = curr_ELBO\n",
    "    curr_ELBO = compute_ELBO(LAMBDA, GAMMA, PHI, X)\n",
    "    ELBOs.append(curr_ELBO) # Store computed ELBO values\n",
    "\n",
    "total_time = time.time() - start\n",
    "plt.xlabel(\"Seconds\")\n",
    "plt.ylabel(\"ELBO\")\n",
    "plt.ticklabel_format(style=\"sci\", axis=\"y\", scilimits=(0, 0))\n",
    "\n",
    "plt.plot(np.linspace(0, total_time, len(ELBOs)), ELBOs)"
   ]
  },
  {
   "cell_type": "code",
   "execution_count": 30,
   "metadata": {},
   "outputs": [
    {
     "data": {
      "text/plain": [
       "[<matplotlib.lines.Line2D at 0x12cbe450f50>]"
      ]
     },
     "execution_count": 30,
     "metadata": {},
     "output_type": "execute_result"
    },
    {
     "data": {
      "image/png": "[encoded data removed]",
      "text/plain": [
       "<Figure size 640x480 with 1 Axes>"
      ]
     },
     "metadata": {},
     "output_type": "display_data"
    }
   ],
   "source": [
    "K = 5 # Number of topics\n",
    "V = 50 # Number of terms in the vocabulary\n",
    "N = 20 # Number of documents\n",
    "M = 30 # Number of words per document\n",
    "ETA = 100 / V # Hyperparameter for V-Dirichlet topics prior\n",
    "ALPHA = 0.5 # Hyperparameter for K-Dirichlet topics proportion prior\n",
    "X = sim_LDA(K, V, N, M) # Simulate LDA-collection of documents\n",
    "\n",
    "start = time.time()\n",
    "LAMBDA, GAMMA, PHI = init_variation_params(X)\n",
    "curr_ELBO = 100 # Initialize current ELBO value (initially arbitrarily greater than prev_ELBO)\n",
    "prev_ELBO = 0 # Initialize previous ELBO value (initially arbitrarily smaller than curr_ELBO)\n",
    "ELBOs = [] # Store ELBO values for plotting\n",
    "tol = 10e-10 # Tolerance for convergence of ELBO\n",
    "\n",
    "# Continue to update variational parameters until ELBO has converged with respect to tolerance (tol)\n",
    "while np.abs(curr_ELBO - prev_ELBO) > tol:\n",
    "    # Update variational topic assignment PHI[i, j]\n",
    "    for i in range(N):\n",
    "        for j in range(M):\n",
    "            # Again, x_ij is just an assignment of the vocabulary v=1,...,V so can treat it as such\n",
    "            x_ij = X[i, j]\n",
    "\n",
    "            # Calculate the expression inside the exponential for which PHI[i, j] is proportional to\n",
    "            exp_propto = digamma(LAMBDA[:, x_ij]) - digamma(np.sum(LAMBDA[:, x_ij])) \\\n",
    "                + digamma(GAMMA[i]) - digamma(np.sum(GAMMA[i]))\n",
    "            \n",
    "            # Use log-sum-exp trick to normalize PHI[i, j] over k\n",
    "            PHI[i, j] = np.exp(exp_propto - log_sum_exp(exp_propto))\n",
    "\n",
    "        # Update variational topic proportions GAMMA[i]\n",
    "        for k in range(K):\n",
    "            # Update is ALPHA + sum_{j=1}^M PHI_ijk\n",
    "            GAMMA[i, k] = ALPHA + np.sum(PHI[i][:, k])\n",
    "\n",
    "    # Update variational topic LAMBDA[k]\n",
    "    for k in range(K):\n",
    "        for v in range(V):\n",
    "            # Update is ETA + \\sum_{i=1}^N \\sum_{j=1}^M 1{x_ij = v} PHI_ijk\n",
    "            LAMBDA[k, v] = ETA + np.sum([[float(X[i,j] == v) * PHI[i, j][k] for i in range(N)] for j in range(M)])\n",
    "    \n",
    "    prev_ELBO = curr_ELBO # Set the previous ELBO to the current value of previous iteration\n",
    "    curr_ELBO = compute_ELBO(LAMBDA, GAMMA, PHI, X) # Compute ELBO for updated parameters; set current ELBO to new ELBO\n",
    "    ELBOs.append(curr_ELBO) # Store computed ELBO values\n",
    "\n",
    "    total_time = time.time() - start\n",
    "\n",
    "plt.xlabel(\"Seconds\")\n",
    "plt.ylabel(\"ELBO\")\n",
    "plt.ticklabel_format(style=\"sci\", axis=\"y\", scilimits=(0, 0))\n",
    "\n",
    "plt.plot(np.linspace(0, total_time, len(ELBOs)), ELBOs)"
   ]
  },
  {
   "cell_type": "code",
   "execution_count": 206,
   "metadata": {},
   "outputs": [],
   "source": [
    "def init_variation_params(X):\n",
    "    N, M = X.shape\n",
    "    LAMBDA = np.random.uniform(low=0.01, high=1.0, size=(K, V))\n",
    "    GAMMA = np.random.uniform(low=0.01, high=3.0, size=(N, K))\n",
    "    PHI = np.ones(shape=(N, M, K)) * 1/K\n",
    "\n",
    "    return LAMBDA, GAMMA, PHI"
   ]
  },
  {
   "cell_type": "code",
   "execution_count": 174,
   "metadata": {},
   "outputs": [],
   "source": [
    "import os\n",
    "from tqdm import tqdm\n",
    "import numpy as np\n",
    "import pandas as pd\n",
    "import re\n",
    "import nltk\n",
    "from nltk.corpus import stopwords\n",
    "from nltk.tokenize import word_tokenize\n",
    "from collections import Counter\n",
    "\n",
    "assert os.path.exists(\"/Users/daany/Downloads/HT/LDA/ap.txt\") and os.path.exists(\"/Users/daany/Downloads/HT/LDA/vocab.txt\")\n",
    "\n",
    "with open(\"vocab.txt\", \"r\") as f:\n",
    "    vocab = set(f.read().splitlines())\n",
    "\n",
    "with open(\"ap.txt\", \"r\") as f:\n",
    "    raw_text = f.read()\n",
    "\n",
    "texts = re.findall(r\"<TEXT>(.*?)</TEXT>\", raw_text, re.DOTALL)\n",
    "stop_words = set(stopwords.words(\"english\"))\n",
    "documents = []\n",
    "\n",
    "for text in texts:\n",
    "    tokens = word_tokenize(text.lower())\n",
    "    tokens = [word for word in tokens if word.isalpha() and word not in stop_words and word in vocab]\n",
    "    documents.append(tokens)\n",
    "\n",
    "N = len(documents)\n",
    "V = len(vocab)\n",
    "\n",
    "doc_term_matrix = np.zeros((N, V))\n",
    "vocab_to_index = {word: i for i, word in enumerate(vocab)}\n",
    "\n",
    "for doc_idx, tokens in enumerate(documents):\n",
    "    token_counts = Counter(tokens)\n",
    "    for token, count in token_counts.items():\n",
    "        if token in vocab_to_index:\n",
    "            term_idx = vocab_to_index[token]\n",
    "            doc_term_matrix[doc_idx, term_idx] = count\n",
    "\n",
    "index_to_vocab = dict((val, key) for key, val in vocab_to_index.items())"
   ]
  },
  {
   "cell_type": "code",
   "execution_count": 180,
   "metadata": {},
   "outputs": [
    {
     "data": {
      "text/plain": [
       "array([-1128699.06649297, -1014424.55980429, -1226649.64491216,\n",
       "        -976951.20314625, -1024241.38665398, -1218373.22285822,\n",
       "       -1206629.82077011, -1048587.42829499, -1036096.36021448,\n",
       "       -1013861.61192682,  -792307.62989322, -1114257.25483481,\n",
       "       -1063381.46568572, -1162794.02531075,  -901785.51115376,\n",
       "       -1152738.78347649, -1201334.0375141 , -1070177.49034148,\n",
       "       -1175863.61194651, -1131508.6355553 , -1103479.27637579,\n",
       "       -1115094.19043909, -1091316.47450244, -1254623.99325333,\n",
       "       -1048473.04925114, -1139028.2264779 , -1098997.67743886,\n",
       "        -967964.50902109, -1041167.29998016, -1251338.82272149])"
      ]
     },
     "execution_count": 180,
     "metadata": {},
     "output_type": "execute_result"
    }
   ],
   "source": [
    "ETA = 1 / V\n",
    "ALPHA = 0.1\n",
    "K = 30 # Number of topics\n",
    "\n",
    "nonzero_idxs = []\n",
    "for doc in doc_term_matrix:\n",
    "    nonzero_idx = np.where(doc > 0)[0]\n",
    "    nonzero_idxs.append(sorted(nonzero_idx))\n",
    "\n",
    "def init_variational_params(doc_term_matrix, K):\n",
    "    N, V = doc_term_matrix.shape # N is number of documents\n",
    "    LAMBDA = np.random.uniform(low=0.01, high=1.0, size=(K, V))\n",
    "    GAMMA = np.ones((N, K))\n",
    "    PHI = []\n",
    "    for doc in doc_term_matrix:\n",
    "        num_words_per_doc = np.sum((doc > 0).astype(\"int32\"))\n",
    "        doc_PHI = np.ones((num_words_per_doc, K))\n",
    "        doc_PHI = doc_PHI / K\n",
    "        PHI.append(doc_PHI)\n",
    "\n",
    "    return LAMBDA, GAMMA, PHI\n",
    "\n",
    "def compute_ELBO(LAMBDA, GAMMA, PHI, doc_term_matrix, nonzero_idxs, K):\n",
    "    N, V = doc_term_matrix.shape\n",
    "    ELBO = 0\n",
    "\n",
    "    E_log_p_BETA = 0\n",
    "    for k in range(K):\n",
    "        E_log_p_BETA += (ETA - 1) * np.sum(digamma(LAMBDA[k]) - digamma(np.sum(LAMBDA[k])))\n",
    "    ELBO += E_log_p_BETA\n",
    "\n",
    "    E_log_p_THETA = 0\n",
    "    for i in range(N):\n",
    "        E_log_p_THETA += (ALPHA - 1) * np.sum(digamma(GAMMA[i]) - digamma(np.sum(GAMMA[i])))\n",
    "    ELBO += E_log_p_THETA\n",
    "\n",
    "    E_q_log_p_z_x = 0\n",
    "    for i in range(N):\n",
    "        doc = doc_term_matrix[i]\n",
    "        nonzero_idx = nonzero_idxs[i]\n",
    "        corr_idx = 0\n",
    "        for idx in nonzero_idx:\n",
    "            E_q_log_p_z_x += doc[idx] * np.sum(PHI[i][corr_idx] * (digamma(GAMMA[i]) - digamma(np.sum(GAMMA[i])))) \\\n",
    "                + doc[idx] * np.sum(PHI[i][corr_idx] * (digamma(LAMBDA[:, idx]) - digamma(np.sum(LAMBDA, axis=1))))\n",
    "            corr_idx += 1\n",
    "    ELBO += E_q_log_p_z_x\n",
    "\n",
    "    E_log_q_BETA = 0\n",
    "    for k in range(K):\n",
    "        E_log_q_BETA += -loggamma(np.sum(LAMBDA[k])) + np.sum(loggamma(LAMBDA[k])) \\\n",
    "            - np.sum((LAMBDA[k] - 1) * (digamma(LAMBDA[k]) - digamma(np.sum(LAMBDA[k]))))\n",
    "    ELBO += E_log_q_BETA\n",
    "\n",
    "    E_log_q_THETA = 0\n",
    "    for i in range(N):\n",
    "        E_log_q_THETA += -loggamma(np.sum(GAMMA[i])) + np.sum(loggamma(GAMMA[i])) \\\n",
    "            - np.sum((GAMMA[i] - 1) * (digamma(GAMMA[i]) - digamma(np.sum(GAMMA[i]))))\n",
    "    ELBO += E_log_q_THETA\n",
    "\n",
    "    E_q_log_z = 0\n",
    "    for i in range(N):\n",
    "        doc = doc_term_matrix[i]\n",
    "        nonzero_idx = nonzero_idxs[i]\n",
    "        corr_idx = 0\n",
    "        for idx in nonzero_idx:\n",
    "            E_q_log_z += -doc[idx] * np.sum(PHI[i][corr_idx]) * np.log(PHI[i][corr_idx])\n",
    "            corr_idx += 1\n",
    "    ELBO += E_q_log_z\n",
    "\n",
    "    return ELBO\n",
    "\n",
    "compute_ELBO(LAMBDA, GAMMA, PHI, doc_term_matrix, nonzero_idxs, K)"
   ]
  },
  {
   "cell_type": "code",
   "execution_count": 179,
   "metadata": {},
   "outputs": [
    {
     "name": "stdout",
     "output_type": "stream",
     "text": [
      "Updating PHI and GAMMA\n"
     ]
    },
    {
     "name": "stderr",
     "output_type": "stream",
     "text": [
      "100%|██████████| 2246/2246 [02:36<00:00, 14.34it/s]\n"
     ]
    },
    {
     "name": "stdout",
     "output_type": "stream",
     "text": [
      "Updating LAMBDA\n"
     ]
    },
    {
     "name": "stderr",
     "output_type": "stream",
     "text": [
      "100%|██████████| 30/30 [00:08<00:00,  3.52it/s]\n"
     ]
    }
   ],
   "source": [
    "LAMBDA, GAMMA, PHI = init_variational_params(doc_term_matrix, K)\n",
    "# def update_variational_params(LAMBDA, GAMMA, PHI, doc_term_matrix, nonzero_idxs, K):\n",
    "N, V = doc_term_matrix.shape\n",
    "\n",
    "print(\"Updating PHI and GAMMA\")\n",
    "for i in tqdm(range(N)):\n",
    "    doc = doc_term_matrix[i]\n",
    "    nonzero_idx = nonzero_idxs[i]\n",
    "    corr_idx = 0\n",
    "    for idx in nonzero_idx:\n",
    "        log_PHI_ij = np.zeros((K, ))\n",
    "        for k in range(K):\n",
    "            exponent = digamma(GAMMA[i][k]) - digamma(np.sum(GAMMA[i])) \\\n",
    "                + digamma(LAMBDA[k][idx]) - digamma(np.sum(LAMBDA[k]))\n",
    "            log_PHI_ij[k] = exponent\n",
    "        PHI_ij = np.exp(log_PHI_ij - log_sum_exp(log_PHI_ij))\n",
    "        PHI[i][corr_idx] = PHI_ij\n",
    "        corr_idx += 1\n",
    "\n",
    "    GAMMA_i = np.zeros((K, )) + ALPHA\n",
    "    for k in range(K):\n",
    "        GAMMA_i[k] += np.sum(doc[nonzero_idx] * PHI[i][:, k])\n",
    "    GAMMA[i] = GAMMA_i\n",
    "\n",
    "print(\"Updating LAMBDA\")\n",
    "for k in tqdm(range(K)):\n",
    "    LAMBDA_k = np.zeros((V, )) + ETA\n",
    "    for i in range(N):\n",
    "        doc = doc_term_matrix[i]\n",
    "        nonzero_idx = nonzero_idxs[i]\n",
    "        corr_idx = 0\n",
    "        for idx in nonzero_idx:\n",
    "            LAMBDA_k[idx] += doc[idx] * PHI[i][corr_idx][k]\n",
    "            corr_idx += 1\n",
    "    LAMBDA[k] = LAMBDA_k"
   ]
  }
 ],
 "metadata": {
  "kernelspec": {
   "display_name": "ht",
   "language": "python",
   "name": "python3"
  },
  "language_info": {
   "codemirror_mode": {
    "name": "ipython",
    "version": 3
   },
   "file_extension": ".py",
   "mimetype": "text/x-python",
   "name": "python",
   "nbconvert_exporter": "python",
   "pygments_lexer": "ipython3",
   "version": "3.13.0"
  }
 },
 "nbformat": 4,
 "nbformat_minor": 2
}
