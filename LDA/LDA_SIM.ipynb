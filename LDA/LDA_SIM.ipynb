{
 "cells": [
  {
   "cell_type": "code",
   "execution_count": 318,
   "metadata": {},
   "outputs": [],
   "source": [
    "import os\n",
    "import time\n",
    "import pandas as pd\n",
    "import numpy as np\n",
    "import numpy.random as npr\n",
    "import copy\n",
    "import re\n",
    "import nltk\n",
    "import matplotlib.pyplot as plt\n",
    "import pandas as pd\n",
    "from nltk.corpus import stopwords\n",
    "from nltk.tokenize import word_tokenize\n",
    "from collections import Counter\n",
    "from tqdm import tqdm\n",
    "from scipy.special import digamma, loggamma\n",
    "from scipy.sparse import csr_matrix\n",
    "from typing import List, Dict, Tuple, Set, Optional"
   ]
  },
  {
   "cell_type": "code",
   "execution_count": 389,
   "metadata": {},
   "outputs": [],
   "source": [
    "def log_sum_exp(vec):\n",
    "    vec_max = np.max(vec, axis=0)\n",
    "    exp_vec = np.exp(vec - vec_max)\n",
    "    sum_exp_vec = np.sum(exp_vec)\n",
    "    log_sum_exp = np.log(sum_exp_vec) + vec_max\n",
    "    return log_sum_exp\n",
    "\n",
    "def init_variational_params(documents, K, rs_int=npr.randint(low=0, high=100)):\n",
    "    rs = npr.RandomState(rs_int)\n",
    "    N, V = documents.shape\n",
    "    LAMBDA = rs.uniform(low=0.01, high=1.0, size=(K, V))\n",
    "    GAMMA = np.ones((N, K))\n",
    "    PHI = []\n",
    "    for document in documents:\n",
    "        M = np.sum((document > 0).astype(\"int32\"))\n",
    "        document_PHI = np.ones((M, K))\n",
    "        document_PHI = document_PHI / K\n",
    "        PHI.append(document_PHI)\n",
    "        \n",
    "    return LAMBDA, GAMMA, PHI\n",
    "\n",
    "def compute_ELBO(LAMBDA, GAMMA, PHI, documents, nonzero_idxs, K):\n",
    "    ELBO = 0\n",
    "    N, _ = documents.shape\n",
    "\n",
    "    E_log_p_BETA = np.sum((ETA-1) * (digamma(LAMBDA) - digamma(np.sum(LAMBDA, axis=1, keepdims=True))))\n",
    "    ELBO += E_log_p_BETA\n",
    "\n",
    "    E_log_p_THETA = np.sum((ALPHA-1) * (digamma(GAMMA) - digamma(np.sum(GAMMA, axis=1, keepdims=True))))\n",
    "    ELBO += E_log_p_THETA\n",
    "\n",
    "    E_log_p_x_z = 0\n",
    "    for i in range(N):\n",
    "        document = documents[i]\n",
    "        nonzero_idx = nonzero_idxs[i]\n",
    "        word_idx = 0\n",
    "        for idx in nonzero_idx:\n",
    "            E_log_p_x_z += np.sum(PHI[i][word_idx] * (digamma(GAMMA[i])-digamma(np.sum(GAMMA[i])))) \\\n",
    "                + np.sum(PHI[i][word_idx] * (digamma(LAMBDA[:, idx])-digamma(np.sum(LAMBDA, axis=1))))\n",
    "            word_idx += 1\n",
    "    ELBO += E_log_p_x_z\n",
    "\n",
    "    E_log_q_BETA = np.sum(-loggamma(np.sum(LAMBDA, axis=1)) + np.sum(loggamma(LAMBDA), axis=1) \\\n",
    "        - np.sum((LAMBDA - 1) * (digamma(LAMBDA) - digamma(np.sum(LAMBDA, axis=1, keepdims=True))), axis=1))\n",
    "    ELBO += E_log_q_BETA\n",
    "\n",
    "    E_log_q_THETA = np.sum(-loggamma(np.sum(GAMMA, axis=1)) + np.sum(loggamma(GAMMA), axis=1) \\\n",
    "        - np.sum((GAMMA - 1) * (digamma(GAMMA) - digamma(np.sum(GAMMA, axis=1, keepdims=True))), axis=1))\n",
    "    ELBO += E_log_q_THETA\n",
    "\n",
    "    E_log_q_z = 0\n",
    "    for i in range(N):\n",
    "        document = documents[i]\n",
    "        nonzero_idx = nonzero_idxs[i]\n",
    "        word_idx = 0\n",
    "        for idx in nonzero_idx:\n",
    "            E_log_q_z += -np.sum(PHI[i][word_idx] * np.log(PHI[i][word_idx]))\n",
    "            word_idx += 1\n",
    "    ELBO += E_log_q_z\n",
    "\n",
    "    return ELBO"
   ]
  },
  {
   "cell_type": "code",
   "execution_count": 368,
   "metadata": {},
   "outputs": [],
   "source": [
    "def simulate_LDA(N, Ms, K, V, ETA, ALPHA, rs_int=np.random.randint(low=0, high=100)):\n",
    "    rs = npr.RandomState(rs_int) \n",
    "    BETA = rs.dirichlet(np.full(V, ETA), size=K)\n",
    "    THETA = rs.dirichlet(np.full(K, ALPHA), size=N)\n",
    "    \n",
    "    row_idxs = []\n",
    "    col_idxs = []\n",
    "    values = []\n",
    "    nonzero_idxs = []\n",
    "\n",
    "    for i in range(N):\n",
    "        doc_word_counts = np.zeros(V)\n",
    "        for _ in range(Ms[i]):\n",
    "            z_ij = rs.choice(K, p=THETA[i])\n",
    "            x_ij = rs.choice(V, p=BETA[z_ij])\n",
    "            doc_word_counts[x_ij] += 1\n",
    "        doc_nonzero = np.nonzero(doc_word_counts)[0]\n",
    "        doc_nonzero = np.array(sorted(doc_nonzero))\n",
    "        nonzero_idxs.append(doc_nonzero)\n",
    "\n",
    "        row_idxs.extend([i] * len(doc_nonzero))\n",
    "        col_idxs.extend(doc_nonzero)\n",
    "        values.extend(doc_word_counts[doc_nonzero])\n",
    "    documents = csr_matrix((values, (row_idxs, col_idxs)), shape=(N, V)).toarray()\n",
    "    \n",
    "    return documents, nonzero_idxs, BETA, THETA"
   ]
  },
  {
   "cell_type": "code",
   "execution_count": 343,
   "metadata": {},
   "outputs": [],
   "source": [
    "N = 100\n",
    "avg_doc_length = 100\n",
    "K = 10\n",
    "V = 1000\n",
    "ETA = 100 / V\n",
    "ALPHA = 1 / K\n",
    "documents, nonzero_idxs, BETA, THETA = simulate_LDA(N, avg_doc_length, K, V, ETA, ALPHA)\n",
    "LAMBDA, GAMMA, PHI = init_variational_params(documents, K)"
   ]
  },
  {
   "cell_type": "code",
   "execution_count": 407,
   "metadata": {},
   "outputs": [
    {
     "data": {
      "text/plain": [
       "np.float64(41.84538572328661)"
      ]
     },
     "execution_count": 407,
     "metadata": {},
     "output_type": "execute_result"
    }
   ],
   "source": [
    "rs = npr.RandomState(0)\n",
    "N = 10\n",
    "K = 5\n",
    "V = 100\n",
    "Ms = rs.poisson(50, size=N)\n",
    "eta0 = 0.3\n",
    "alpha0 = 0.5\n",
    "X, nonzero_idxs, _, _ = simulate_LDA(N, Ms, K, V, eta0, alpha0, rs_int=0)\n",
    "lambd, gamma, phi = init_variational_params(X, K, rs_int=0)\n",
    "E_log_q_z = 0\n",
    "for i in range(N):\n",
    "    document = documents[i]\n",
    "    nonzero_idx = nonzero_idxs[i]\n",
    "    word_idx = 0\n",
    "    for idx in nonzero_idx:\n",
    "        E_log_q_z += -document[idx] * np.sum(phi[i][word_idx] * np.log(phi[i][word_idx]))\n",
    "        word_idx += 1\n",
    "E_log_q_z"
   ]
  },
  {
   "cell_type": "code",
   "execution_count": 403,
   "metadata": {},
   "outputs": [
    {
     "data": {
      "text/plain": [
       "array([0., 1., 0., 0., 0., 1., 0., 0., 0., 0., 0., 0., 0., 0., 0., 1., 1.,\n",
       "       0., 0., 1., 0., 0., 0., 0., 0., 0., 1., 0., 0., 0., 0., 0., 0., 0.,\n",
       "       0., 0., 0., 0., 0., 0., 0., 0., 0., 0., 0., 0., 0., 0., 0., 0., 0.,\n",
       "       0., 0., 0., 0., 0., 0., 0., 0., 0., 0., 0., 1., 0., 0., 0., 0., 0.,\n",
       "       0., 0., 0., 0., 0., 0., 0., 0., 0., 0., 0., 0., 0., 2., 0., 0., 0.,\n",
       "       1., 0., 0., 0., 0., 0., 0., 0., 0., 0., 0., 0., 0., 0., 0., 0., 0.,\n",
       "       0., 0., 0., 1., 1., 0., 0., 0., 0., 0., 0., 0., 1., 1., 0., 0., 0.,\n",
       "       0., 0., 0., 0., 0., 0., 0., 0., 0., 0., 0., 0., 0., 0., 0., 0., 0.,\n",
       "       0., 0., 0., 0., 0., 0., 0., 0., 0., 1., 0., 0., 0., 1., 0., 0., 0.,\n",
       "       1., 0., 0., 2., 0., 0., 0., 0., 0., 0., 0., 0., 0., 0., 0., 0., 0.,\n",
       "       1., 0., 0., 0., 0., 0., 0., 0., 0., 0., 0., 0., 1., 0., 0., 0., 0.,\n",
       "       1., 0., 0., 0., 0., 0., 0., 0., 0., 0., 0., 0., 0., 0., 0., 0., 1.,\n",
       "       0., 0., 0., 0., 0., 1., 0., 0., 1., 1., 0., 0., 0., 0., 0., 0., 0.,\n",
       "       0., 0., 0., 0., 0., 0., 0., 0., 0., 1., 0., 0., 1., 0., 2., 0., 0.,\n",
       "       0., 0., 0., 0., 0., 0., 0., 0., 0., 1., 0., 0., 0., 0., 0., 0., 0.,\n",
       "       0., 0., 0., 0., 1., 0., 0., 0., 0., 0., 0., 0., 0., 0., 0., 1., 0.,\n",
       "       0., 2., 0., 0., 0., 0., 0., 0., 0., 0., 2., 0., 1., 0., 0., 0., 2.,\n",
       "       0., 0., 0., 0., 0., 0., 0., 0., 0., 0., 0., 0., 0., 0., 0., 0., 0.,\n",
       "       0., 0., 0., 1., 0., 0., 0., 0., 0., 0., 0., 0., 0., 0., 0., 0., 0.,\n",
       "       0., 0., 1., 0., 0., 0., 0., 0., 0., 0., 0., 0., 0., 0., 0., 0., 0.,\n",
       "       0., 0., 0., 0., 0., 0., 0., 0., 0., 0., 0., 0., 0., 0., 0., 0., 0.,\n",
       "       0., 0., 0., 0., 0., 0., 0., 0., 0., 1., 0., 0., 0., 1., 0., 0., 0.,\n",
       "       0., 0., 0., 0., 2., 0., 0., 0., 0., 0., 0., 0., 0., 0., 0., 0., 0.,\n",
       "       0., 0., 0., 0., 0., 0., 0., 0., 0., 0., 0., 1., 0., 0., 0., 0., 0.,\n",
       "       0., 0., 0., 0., 0., 0., 0., 1., 0., 0., 0., 0., 0., 0., 0., 0., 0.,\n",
       "       0., 0., 0., 1., 0., 2., 0., 0., 0., 0., 0., 0., 0., 0., 0., 0., 0.,\n",
       "       0., 0., 0., 0., 0., 0., 0., 0., 0., 0., 0., 0., 1., 1., 0., 0., 0.,\n",
       "       0., 0., 0., 0., 0., 0., 0., 0., 0., 0., 0., 0., 0., 0., 0., 0., 0.,\n",
       "       0., 0., 0., 0., 0., 0., 0., 0., 0., 0., 0., 1., 0., 0., 0., 1., 0.,\n",
       "       0., 0., 0., 0., 0., 0., 0., 0., 0., 0., 0., 0., 0., 1., 0., 0., 0.,\n",
       "       0., 0., 0., 0., 0., 1., 0., 0., 0., 0., 0., 0., 0., 0., 1., 0., 0.,\n",
       "       0., 0., 0., 0., 0., 0., 0., 0., 0., 0., 0., 0., 0., 0., 0., 0., 0.,\n",
       "       0., 0., 0., 0., 0., 0., 0., 0., 0., 0., 0., 0., 0., 0., 0., 0., 1.,\n",
       "       0., 0., 0., 0., 0., 0., 0., 0., 0., 0., 0., 0., 0., 0., 0., 0., 0.,\n",
       "       0., 0., 0., 0., 1., 0., 1., 0., 0., 0., 0., 0., 0., 0., 0., 1., 0.,\n",
       "       0., 0., 0., 0., 0., 0., 0., 0., 0., 0., 0., 1., 1., 0., 0., 0., 0.,\n",
       "       0., 0., 0., 0., 0., 0., 0., 0., 0., 0., 0., 0., 0., 0., 0., 0., 2.,\n",
       "       0., 0., 0., 0., 0., 0., 0., 0., 0., 0., 0., 1., 0., 0., 0., 0., 0.,\n",
       "       0., 0., 0., 1., 0., 0., 0., 0., 0., 0., 0., 0., 0., 0., 0., 0., 0.,\n",
       "       0., 0., 0., 0., 0., 0., 0., 1., 0., 0., 0., 0., 0., 0., 1., 0., 0.,\n",
       "       0., 0., 0., 0., 0., 0., 0., 0., 0., 0., 0., 0., 1., 0., 0., 0., 1.,\n",
       "       1., 0., 0., 0., 0., 0., 1., 0., 0., 0., 0., 0., 1., 0., 0., 0., 0.,\n",
       "       0., 1., 0., 0., 0., 0., 0., 0., 0., 0., 0., 0., 0., 0., 0., 0., 0.,\n",
       "       0., 1., 0., 0., 0., 0., 0., 0., 0., 0., 0., 0., 0., 0., 0., 0., 0.,\n",
       "       0., 0., 0., 0., 1., 1., 0., 0., 0., 0., 0., 0., 0., 0., 0., 0., 0.,\n",
       "       0., 0., 0., 0., 0., 0., 0., 0., 1., 0., 0., 1., 0., 0., 0., 1., 0.,\n",
       "       0., 1., 0., 0., 0., 0., 0., 0., 0., 0., 0., 0., 1., 0., 0., 0., 0.,\n",
       "       1., 0., 0., 1., 0., 0., 0., 0., 0., 0., 0., 0., 0., 0., 0., 0., 1.,\n",
       "       0., 0., 0., 0., 0., 0., 0., 0., 0., 0., 0., 0., 1., 0., 0., 0., 0.,\n",
       "       0., 0., 1., 0., 0., 0., 0., 0., 0., 0., 0., 0., 0., 1., 0., 0., 0.,\n",
       "       0., 0., 0., 0., 1., 0., 0., 0., 0., 0., 0., 2., 0., 0., 0., 0., 0.,\n",
       "       0., 0., 0., 0., 0., 0., 0., 0., 1., 0., 0., 0., 1., 0., 0., 0., 0.,\n",
       "       0., 0., 0., 0., 0., 0., 0., 0., 0., 0., 0., 0., 0., 0., 0., 1., 0.,\n",
       "       0., 0., 0., 0., 0., 0., 0., 0., 0., 0., 1., 0., 0., 0., 0., 1., 0.,\n",
       "       0., 0., 0., 0., 1., 0., 0., 0., 0., 0., 0., 0., 0., 0., 0., 0., 0.,\n",
       "       0., 0., 0., 1., 0., 0., 0., 0., 0., 0., 1., 0., 0., 2., 0., 0., 0.,\n",
       "       0., 0., 0., 1., 0., 0., 0., 0., 0., 0., 0., 0., 0., 0., 0., 0., 0.,\n",
       "       0., 0., 0., 0., 1., 0., 0., 0., 0., 0., 1., 0., 0., 0., 0., 0., 0.,\n",
       "       0., 1., 0., 0., 0., 0., 0., 0., 0., 0., 0., 0., 0., 0.])"
      ]
     },
     "execution_count": 403,
     "metadata": {},
     "output_type": "execute_result"
    }
   ],
   "source": [
    "i = 0\n",
    "document = documents[i]\n",
    "nonzero_idx = nonzero_idxs[i]\n",
    "idx = nonzero_idx[0]\n",
    "document"
   ]
  },
  {
   "cell_type": "code",
   "execution_count": 394,
   "metadata": {},
   "outputs": [],
   "source": [
    "N = 100\n",
    "Ms = npr.poisson(100, size=N)\n",
    "K = 10\n",
    "V = 1000\n",
    "ETA = 100 / V\n",
    "ALPHA = 1 / K\n",
    "documents, nonzero_idxs, BETA, THETA = simulate_LDA(N, Ms, K, V, ETA, ALPHA)\n",
    "LAMBDA, GAMMA, PHI = init_variational_params(documents, K)"
   ]
  },
  {
   "cell_type": "code",
   "execution_count": 395,
   "metadata": {},
   "outputs": [
    {
     "name": "stdout",
     "output_type": "stream",
     "text": [
      "Initial ELBO: -72540.34410665429\n",
      "\n",
      "Iteration 1\n"
     ]
    },
    {
     "name": "stderr",
     "output_type": "stream",
     "text": [
      "Updating PHI and GAMMA: 100%|██████████| 100/100 [00:01<00:00, 83.40it/s]\n",
      "Updating LAMBDA: 100%|██████████| 10/10 [00:00<00:00, 124.92it/s]\n"
     ]
    },
    {
     "name": "stdout",
     "output_type": "stream",
     "text": [
      "Current ELBO: -41547.50218562447 | Change in ELBO: 30992.841921029816\n",
      "\n",
      "Iteration 2\n"
     ]
    },
    {
     "name": "stderr",
     "output_type": "stream",
     "text": [
      "Updating PHI and GAMMA: 100%|██████████| 100/100 [00:01<00:00, 84.31it/s]\n",
      "Updating LAMBDA: 100%|██████████| 10/10 [00:00<00:00, 163.85it/s]\n"
     ]
    },
    {
     "name": "stdout",
     "output_type": "stream",
     "text": [
      "Current ELBO: -40743.225261473446 | Change in ELBO: 804.276924151025\n",
      "\n",
      "Iteration 3\n"
     ]
    },
    {
     "name": "stderr",
     "output_type": "stream",
     "text": [
      "Updating PHI and GAMMA: 100%|██████████| 100/100 [00:01<00:00, 90.56it/s]\n",
      "Updating LAMBDA: 100%|██████████| 10/10 [00:00<00:00, 174.72it/s]\n"
     ]
    },
    {
     "name": "stdout",
     "output_type": "stream",
     "text": [
      "Current ELBO: -39942.48506311362 | Change in ELBO: 800.7401983598247\n",
      "\n",
      "Iteration 4\n"
     ]
    },
    {
     "name": "stderr",
     "output_type": "stream",
     "text": [
      "Updating PHI and GAMMA: 100%|██████████| 100/100 [00:01<00:00, 92.79it/s]\n",
      "Updating LAMBDA: 100%|██████████| 10/10 [00:00<00:00, 153.75it/s]\n"
     ]
    },
    {
     "name": "stdout",
     "output_type": "stream",
     "text": [
      "Current ELBO: -39126.80199397861 | Change in ELBO: 815.6830691350115\n",
      "\n",
      "Iteration 5\n"
     ]
    },
    {
     "name": "stderr",
     "output_type": "stream",
     "text": [
      "Updating PHI and GAMMA: 100%|██████████| 100/100 [00:01<00:00, 92.63it/s]\n",
      "Updating LAMBDA: 100%|██████████| 10/10 [00:00<00:00, 158.00it/s]\n"
     ]
    },
    {
     "name": "stdout",
     "output_type": "stream",
     "text": [
      "Current ELBO: -38227.58342606864 | Change in ELBO: 899.2185679099712\n",
      "\n",
      "Iteration 6\n"
     ]
    },
    {
     "name": "stderr",
     "output_type": "stream",
     "text": [
      "Updating PHI and GAMMA: 100%|██████████| 100/100 [00:01<00:00, 94.75it/s]\n",
      "Updating LAMBDA: 100%|██████████| 10/10 [00:00<00:00, 157.05it/s]\n"
     ]
    },
    {
     "name": "stdout",
     "output_type": "stream",
     "text": [
      "Current ELBO: -37271.48038395337 | Change in ELBO: 956.1030421152682\n",
      "\n",
      "Iteration 7\n"
     ]
    },
    {
     "name": "stderr",
     "output_type": "stream",
     "text": [
      "Updating PHI and GAMMA: 100%|██████████| 100/100 [00:01<00:00, 93.67it/s]\n",
      "Updating LAMBDA: 100%|██████████| 10/10 [00:00<00:00, 162.09it/s]\n"
     ]
    },
    {
     "name": "stdout",
     "output_type": "stream",
     "text": [
      "Current ELBO: -36372.60904837147 | Change in ELBO: 898.8713355818982\n",
      "\n",
      "Iteration 8\n"
     ]
    },
    {
     "name": "stderr",
     "output_type": "stream",
     "text": [
      "Updating PHI and GAMMA: 100%|██████████| 100/100 [00:01<00:00, 94.70it/s]\n",
      "Updating LAMBDA: 100%|██████████| 10/10 [00:00<00:00, 170.41it/s]\n"
     ]
    },
    {
     "name": "stdout",
     "output_type": "stream",
     "text": [
      "Current ELBO: -35654.66621713014 | Change in ELBO: 717.9428312413293\n",
      "\n",
      "Iteration 9\n"
     ]
    },
    {
     "name": "stderr",
     "output_type": "stream",
     "text": [
      "Updating PHI and GAMMA: 100%|██████████| 100/100 [00:01<00:00, 94.27it/s]\n",
      "Updating LAMBDA: 100%|██████████| 10/10 [00:00<00:00, 157.79it/s]\n"
     ]
    },
    {
     "name": "stdout",
     "output_type": "stream",
     "text": [
      "Current ELBO: -35112.73657350458 | Change in ELBO: 541.9296436255609\n",
      "\n",
      "Iteration 10\n"
     ]
    },
    {
     "name": "stderr",
     "output_type": "stream",
     "text": [
      "Updating PHI and GAMMA: 100%|██████████| 100/100 [00:01<00:00, 95.48it/s]\n",
      "Updating LAMBDA: 100%|██████████| 10/10 [00:00<00:00, 156.26it/s]\n"
     ]
    },
    {
     "name": "stdout",
     "output_type": "stream",
     "text": [
      "Current ELBO: -34707.56050212022 | Change in ELBO: 405.1760713843614\n",
      "\n",
      "Iteration 11\n"
     ]
    },
    {
     "name": "stderr",
     "output_type": "stream",
     "text": [
      "Updating PHI and GAMMA: 100%|██████████| 100/100 [00:01<00:00, 87.13it/s]\n",
      "Updating LAMBDA: 100%|██████████| 10/10 [00:00<00:00, 144.21it/s]\n"
     ]
    },
    {
     "name": "stdout",
     "output_type": "stream",
     "text": [
      "Current ELBO: -34411.80639862886 | Change in ELBO: 295.7541034913593\n",
      "\n",
      "Iteration 12\n"
     ]
    },
    {
     "name": "stderr",
     "output_type": "stream",
     "text": [
      "Updating PHI and GAMMA: 100%|██████████| 100/100 [00:01<00:00, 87.48it/s]\n",
      "Updating LAMBDA: 100%|██████████| 10/10 [00:00<00:00, 157.90it/s]\n"
     ]
    },
    {
     "name": "stdout",
     "output_type": "stream",
     "text": [
      "Current ELBO: -34202.78591661663 | Change in ELBO: 209.0204820122308\n",
      "\n",
      "Iteration 13\n"
     ]
    },
    {
     "name": "stderr",
     "output_type": "stream",
     "text": [
      "Updating PHI and GAMMA: 100%|██████████| 100/100 [00:01<00:00, 89.87it/s]\n",
      "Updating LAMBDA: 100%|██████████| 10/10 [00:00<00:00, 158.43it/s]\n"
     ]
    },
    {
     "name": "stdout",
     "output_type": "stream",
     "text": [
      "Current ELBO: -34043.26781807223 | Change in ELBO: 159.51809854440216\n",
      "\n",
      "Iteration 14\n"
     ]
    },
    {
     "name": "stderr",
     "output_type": "stream",
     "text": [
      "Updating PHI and GAMMA: 100%|██████████| 100/100 [00:01<00:00, 91.83it/s]\n",
      "Updating LAMBDA: 100%|██████████| 10/10 [00:00<00:00, 143.96it/s]\n"
     ]
    },
    {
     "name": "stdout",
     "output_type": "stream",
     "text": [
      "Current ELBO: -33924.83671815596 | Change in ELBO: 118.43109991626989\n",
      "\n",
      "Iteration 15\n"
     ]
    },
    {
     "name": "stderr",
     "output_type": "stream",
     "text": [
      "Updating PHI and GAMMA: 100%|██████████| 100/100 [00:01<00:00, 92.47it/s]\n",
      "Updating LAMBDA: 100%|██████████| 10/10 [00:00<00:00, 150.54it/s]\n"
     ]
    },
    {
     "name": "stdout",
     "output_type": "stream",
     "text": [
      "Current ELBO: -33841.407849551484 | Change in ELBO: 83.4288686044747\n",
      "\n",
      "Iteration 16\n"
     ]
    },
    {
     "name": "stderr",
     "output_type": "stream",
     "text": [
      "Updating PHI and GAMMA: 100%|██████████| 100/100 [00:01<00:00, 94.03it/s]\n",
      "Updating LAMBDA: 100%|██████████| 10/10 [00:00<00:00, 159.44it/s]\n"
     ]
    },
    {
     "name": "stdout",
     "output_type": "stream",
     "text": [
      "Current ELBO: -33781.23258425689 | Change in ELBO: 60.17526529459428\n",
      "\n",
      "Iteration 17\n"
     ]
    },
    {
     "name": "stderr",
     "output_type": "stream",
     "text": [
      "Updating PHI and GAMMA: 100%|██████████| 100/100 [00:01<00:00, 95.16it/s]\n",
      "Updating LAMBDA: 100%|██████████| 10/10 [00:00<00:00, 160.27it/s]\n"
     ]
    },
    {
     "name": "stdout",
     "output_type": "stream",
     "text": [
      "Current ELBO: -33735.48754043211 | Change in ELBO: 45.74504382478335\n",
      "\n",
      "Iteration 18\n"
     ]
    },
    {
     "name": "stderr",
     "output_type": "stream",
     "text": [
      "Updating PHI and GAMMA: 100%|██████████| 100/100 [00:01<00:00, 94.47it/s]\n",
      "Updating LAMBDA: 100%|██████████| 10/10 [00:00<00:00, 157.01it/s]\n"
     ]
    },
    {
     "name": "stdout",
     "output_type": "stream",
     "text": [
      "Current ELBO: -33700.856218936104 | Change in ELBO: 34.63132149600278\n",
      "\n",
      "Iteration 19\n"
     ]
    },
    {
     "name": "stderr",
     "output_type": "stream",
     "text": [
      "Updating PHI and GAMMA: 100%|██████████| 100/100 [00:01<00:00, 94.61it/s]\n",
      "Updating LAMBDA: 100%|██████████| 10/10 [00:00<00:00, 163.65it/s]\n"
     ]
    },
    {
     "name": "stdout",
     "output_type": "stream",
     "text": [
      "Current ELBO: -33670.80429486375 | Change in ELBO: 30.05192407235154\n",
      "\n",
      "Iteration 20\n"
     ]
    },
    {
     "name": "stderr",
     "output_type": "stream",
     "text": [
      "Updating PHI and GAMMA: 100%|██████████| 100/100 [00:01<00:00, 94.84it/s]\n",
      "Updating LAMBDA: 100%|██████████| 10/10 [00:00<00:00, 172.42it/s]\n"
     ]
    },
    {
     "name": "stdout",
     "output_type": "stream",
     "text": [
      "Current ELBO: -33647.08005176629 | Change in ELBO: 23.72424309746566\n",
      "\n",
      "Iteration 21\n"
     ]
    },
    {
     "name": "stderr",
     "output_type": "stream",
     "text": [
      "Updating PHI and GAMMA: 100%|██████████| 100/100 [00:01<00:00, 95.05it/s]\n",
      "Updating LAMBDA: 100%|██████████| 10/10 [00:00<00:00, 161.03it/s]\n"
     ]
    },
    {
     "name": "stdout",
     "output_type": "stream",
     "text": [
      "Current ELBO: -33628.17411955052 | Change in ELBO: 18.905932215770008\n",
      "\n",
      "Iteration 22\n"
     ]
    },
    {
     "name": "stderr",
     "output_type": "stream",
     "text": [
      "Updating PHI and GAMMA: 100%|██████████| 100/100 [00:01<00:00, 94.78it/s]\n",
      "Updating LAMBDA: 100%|██████████| 10/10 [00:00<00:00, 171.99it/s]\n"
     ]
    },
    {
     "name": "stdout",
     "output_type": "stream",
     "text": [
      "Current ELBO: -33610.70736493052 | Change in ELBO: 17.466754619999847\n",
      "\n",
      "Iteration 23\n"
     ]
    },
    {
     "name": "stderr",
     "output_type": "stream",
     "text": [
      "Updating PHI and GAMMA: 100%|██████████| 100/100 [00:01<00:00, 95.13it/s]\n",
      "Updating LAMBDA: 100%|██████████| 10/10 [00:00<00:00, 169.51it/s]\n"
     ]
    },
    {
     "name": "stdout",
     "output_type": "stream",
     "text": [
      "Current ELBO: -33595.27793029727 | Change in ELBO: 15.429434633246274\n",
      "\n",
      "Iteration 24\n"
     ]
    },
    {
     "name": "stderr",
     "output_type": "stream",
     "text": [
      "Updating PHI and GAMMA: 100%|██████████| 100/100 [00:01<00:00, 95.40it/s]\n",
      "Updating LAMBDA: 100%|██████████| 10/10 [00:00<00:00, 152.51it/s]\n"
     ]
    },
    {
     "name": "stdout",
     "output_type": "stream",
     "text": [
      "Current ELBO: -33582.19062561862 | Change in ELBO: 13.08730467865098\n",
      "\n",
      "Iteration 25\n"
     ]
    },
    {
     "name": "stderr",
     "output_type": "stream",
     "text": [
      "Updating PHI and GAMMA: 100%|██████████| 100/100 [00:01<00:00, 95.67it/s]\n",
      "Updating LAMBDA: 100%|██████████| 10/10 [00:00<00:00, 173.89it/s]\n"
     ]
    },
    {
     "name": "stdout",
     "output_type": "stream",
     "text": [
      "Current ELBO: -33570.502200576906 | Change in ELBO: 11.688425041713344\n",
      "\n",
      "Iteration 26\n"
     ]
    },
    {
     "name": "stderr",
     "output_type": "stream",
     "text": [
      "Updating PHI and GAMMA: 100%|██████████| 100/100 [00:01<00:00, 95.76it/s]\n",
      "Updating LAMBDA: 100%|██████████| 10/10 [00:00<00:00, 163.61it/s]\n"
     ]
    },
    {
     "name": "stdout",
     "output_type": "stream",
     "text": [
      "Current ELBO: -33559.3007873427 | Change in ELBO: 11.201413234208303\n",
      "\n",
      "Iteration 27\n"
     ]
    },
    {
     "name": "stderr",
     "output_type": "stream",
     "text": [
      "Updating PHI and GAMMA: 100%|██████████| 100/100 [00:01<00:00, 95.11it/s]\n",
      "Updating LAMBDA: 100%|██████████| 10/10 [00:00<00:00, 165.20it/s]\n"
     ]
    },
    {
     "name": "stdout",
     "output_type": "stream",
     "text": [
      "Current ELBO: -33548.85457459355 | Change in ELBO: 10.446212749149709\n",
      "\n",
      "Iteration 28\n"
     ]
    },
    {
     "name": "stderr",
     "output_type": "stream",
     "text": [
      "Updating PHI and GAMMA: 100%|██████████| 100/100 [00:01<00:00, 95.55it/s]\n",
      "Updating LAMBDA: 100%|██████████| 10/10 [00:00<00:00, 171.94it/s]\n"
     ]
    },
    {
     "name": "stdout",
     "output_type": "stream",
     "text": [
      "Current ELBO: -33540.779144245695 | Change in ELBO: 8.075430347853398\n",
      "\n",
      "Iteration 29\n"
     ]
    },
    {
     "name": "stderr",
     "output_type": "stream",
     "text": [
      "Updating PHI and GAMMA: 100%|██████████| 100/100 [00:01<00:00, 95.17it/s]\n",
      "Updating LAMBDA: 100%|██████████| 10/10 [00:00<00:00, 172.72it/s]\n"
     ]
    },
    {
     "name": "stdout",
     "output_type": "stream",
     "text": [
      "Current ELBO: -33533.841517800494 | Change in ELBO: 6.937626445200294\n",
      "\n",
      "Iteration 30\n"
     ]
    },
    {
     "name": "stderr",
     "output_type": "stream",
     "text": [
      "Updating PHI and GAMMA: 100%|██████████| 100/100 [00:01<00:00, 95.34it/s]\n",
      "Updating LAMBDA: 100%|██████████| 10/10 [00:00<00:00, 177.38it/s]\n"
     ]
    },
    {
     "name": "stdout",
     "output_type": "stream",
     "text": [
      "Current ELBO: -33527.31016679448 | Change in ELBO: 6.531351006015029\n",
      "\n",
      "Iteration 31\n"
     ]
    },
    {
     "name": "stderr",
     "output_type": "stream",
     "text": [
      "Updating PHI and GAMMA: 100%|██████████| 100/100 [00:01<00:00, 94.28it/s]\n",
      "Updating LAMBDA: 100%|██████████| 10/10 [00:00<00:00, 175.73it/s]\n"
     ]
    },
    {
     "name": "stdout",
     "output_type": "stream",
     "text": [
      "Current ELBO: -33521.16792780126 | Change in ELBO: 6.142238993219507\n",
      "\n",
      "Iteration 32\n"
     ]
    },
    {
     "name": "stderr",
     "output_type": "stream",
     "text": [
      "Updating PHI and GAMMA: 100%|██████████| 100/100 [00:01<00:00, 95.99it/s]\n",
      "Updating LAMBDA: 100%|██████████| 10/10 [00:00<00:00, 164.49it/s]\n"
     ]
    },
    {
     "name": "stdout",
     "output_type": "stream",
     "text": [
      "Current ELBO: -33515.73699531723 | Change in ELBO: 5.4309324840287445\n",
      "\n",
      "Iteration 33\n"
     ]
    },
    {
     "name": "stderr",
     "output_type": "stream",
     "text": [
      "Updating PHI and GAMMA: 100%|██████████| 100/100 [00:01<00:00, 92.94it/s]\n",
      "Updating LAMBDA: 100%|██████████| 10/10 [00:00<00:00, 157.21it/s]\n"
     ]
    },
    {
     "name": "stdout",
     "output_type": "stream",
     "text": [
      "Current ELBO: -33511.77943784448 | Change in ELBO: 3.9575574727496132\n",
      "\n",
      "Iteration 34\n"
     ]
    },
    {
     "name": "stderr",
     "output_type": "stream",
     "text": [
      "Updating PHI and GAMMA: 100%|██████████| 100/100 [00:01<00:00, 87.35it/s]\n",
      "Updating LAMBDA: 100%|██████████| 10/10 [00:00<00:00, 156.05it/s]\n"
     ]
    },
    {
     "name": "stdout",
     "output_type": "stream",
     "text": [
      "Current ELBO: -33509.062959996314 | Change in ELBO: 2.7164778481674148\n",
      "\n",
      "Iteration 35\n"
     ]
    },
    {
     "name": "stderr",
     "output_type": "stream",
     "text": [
      "Updating PHI and GAMMA: 100%|██████████| 100/100 [00:01<00:00, 71.73it/s]\n",
      "Updating LAMBDA: 100%|██████████| 10/10 [00:00<00:00, 136.37it/s]\n"
     ]
    },
    {
     "name": "stdout",
     "output_type": "stream",
     "text": [
      "Current ELBO: -33506.503811717106 | Change in ELBO: 2.559148279207875\n",
      "\n",
      "Iteration 36\n"
     ]
    },
    {
     "name": "stderr",
     "output_type": "stream",
     "text": [
      "Updating PHI and GAMMA: 100%|██████████| 100/100 [00:01<00:00, 95.04it/s]\n",
      "Updating LAMBDA: 100%|██████████| 10/10 [00:00<00:00, 156.98it/s]\n"
     ]
    },
    {
     "name": "stdout",
     "output_type": "stream",
     "text": [
      "Current ELBO: -33503.93940300826 | Change in ELBO: 2.5644087088439846\n",
      "\n",
      "Iteration 37\n"
     ]
    },
    {
     "name": "stderr",
     "output_type": "stream",
     "text": [
      "Updating PHI and GAMMA: 100%|██████████| 100/100 [00:01<00:00, 94.59it/s]\n",
      "Updating LAMBDA: 100%|██████████| 10/10 [00:00<00:00, 154.78it/s]\n"
     ]
    },
    {
     "name": "stdout",
     "output_type": "stream",
     "text": [
      "Current ELBO: -33501.490337609146 | Change in ELBO: 2.44906539911608\n",
      "\n",
      "Iteration 38\n"
     ]
    },
    {
     "name": "stderr",
     "output_type": "stream",
     "text": [
      "Updating PHI and GAMMA: 100%|██████████| 100/100 [00:01<00:00, 94.10it/s]\n",
      "Updating LAMBDA: 100%|██████████| 10/10 [00:00<00:00, 149.86it/s]\n"
     ]
    },
    {
     "name": "stdout",
     "output_type": "stream",
     "text": [
      "Current ELBO: -33499.26989238757 | Change in ELBO: 2.2204452215737547\n",
      "\n",
      "Iteration 39\n"
     ]
    },
    {
     "name": "stderr",
     "output_type": "stream",
     "text": [
      "Updating PHI and GAMMA: 100%|██████████| 100/100 [00:01<00:00, 85.77it/s]\n",
      "Updating LAMBDA: 100%|██████████| 10/10 [00:00<00:00, 144.69it/s]\n"
     ]
    },
    {
     "name": "stdout",
     "output_type": "stream",
     "text": [
      "Current ELBO: -33497.81477807325 | Change in ELBO: 1.4551143143253285\n",
      "\n",
      "Iteration 40\n"
     ]
    },
    {
     "name": "stderr",
     "output_type": "stream",
     "text": [
      "Updating PHI and GAMMA: 100%|██████████| 100/100 [00:01<00:00, 82.57it/s]\n",
      "Updating LAMBDA: 100%|██████████| 10/10 [00:00<00:00, 142.10it/s]\n"
     ]
    },
    {
     "name": "stdout",
     "output_type": "stream",
     "text": [
      "Current ELBO: -33496.94607190563 | Change in ELBO: 0.8687061676173471\n",
      "\n",
      "Iteration 41\n"
     ]
    },
    {
     "name": "stderr",
     "output_type": "stream",
     "text": [
      "Updating PHI and GAMMA: 100%|██████████| 100/100 [00:01<00:00, 92.68it/s]\n",
      "Updating LAMBDA: 100%|██████████| 10/10 [00:00<00:00, 166.28it/s]\n"
     ]
    },
    {
     "name": "stdout",
     "output_type": "stream",
     "text": [
      "Current ELBO: -33495.80973893497 | Change in ELBO: 1.136332970658259\n",
      "\n",
      "Iteration 42\n"
     ]
    },
    {
     "name": "stderr",
     "output_type": "stream",
     "text": [
      "Updating PHI and GAMMA: 100%|██████████| 100/100 [00:01<00:00, 94.45it/s]\n",
      "Updating LAMBDA: 100%|██████████| 10/10 [00:00<00:00, 163.22it/s]\n"
     ]
    },
    {
     "name": "stdout",
     "output_type": "stream",
     "text": [
      "Current ELBO: -33494.40810715968 | Change in ELBO: 1.4016317752902978\n",
      "\n",
      "Iteration 43\n"
     ]
    },
    {
     "name": "stderr",
     "output_type": "stream",
     "text": [
      "Updating PHI and GAMMA: 100%|██████████| 100/100 [00:01<00:00, 82.98it/s]\n",
      "Updating LAMBDA: 100%|██████████| 10/10 [00:00<00:00, 170.80it/s]\n"
     ]
    },
    {
     "name": "stdout",
     "output_type": "stream",
     "text": [
      "Current ELBO: -33493.096447653916 | Change in ELBO: 1.3116595057654195\n",
      "\n",
      "Iteration 44\n"
     ]
    },
    {
     "name": "stderr",
     "output_type": "stream",
     "text": [
      "Updating PHI and GAMMA: 100%|██████████| 100/100 [00:01<00:00, 83.46it/s]\n",
      "Updating LAMBDA: 100%|██████████| 10/10 [00:00<00:00, 178.58it/s]\n"
     ]
    },
    {
     "name": "stdout",
     "output_type": "stream",
     "text": [
      "Current ELBO: -33492.1299024619 | Change in ELBO: 0.9665451920154737\n",
      "\n",
      "Iteration 45\n"
     ]
    },
    {
     "name": "stderr",
     "output_type": "stream",
     "text": [
      "Updating PHI and GAMMA: 100%|██████████| 100/100 [00:01<00:00, 97.13it/s]\n",
      "Updating LAMBDA: 100%|██████████| 10/10 [00:00<00:00, 175.41it/s]\n"
     ]
    },
    {
     "name": "stdout",
     "output_type": "stream",
     "text": [
      "Current ELBO: -33491.0265671088 | Change in ELBO: 1.1033353531020111\n",
      "\n",
      "Iteration 46\n"
     ]
    },
    {
     "name": "stderr",
     "output_type": "stream",
     "text": [
      "Updating PHI and GAMMA: 100%|██████████| 100/100 [00:01<00:00, 96.51it/s]\n",
      "Updating LAMBDA: 100%|██████████| 10/10 [00:00<00:00, 183.00it/s]\n"
     ]
    },
    {
     "name": "stdout",
     "output_type": "stream",
     "text": [
      "Current ELBO: -33489.235405262174 | Change in ELBO: 1.7911618466241634\n",
      "\n",
      "Iteration 47\n"
     ]
    },
    {
     "name": "stderr",
     "output_type": "stream",
     "text": [
      "Updating PHI and GAMMA: 100%|██████████| 100/100 [00:01<00:00, 96.52it/s]\n",
      "Updating LAMBDA: 100%|██████████| 10/10 [00:00<00:00, 180.21it/s]\n"
     ]
    },
    {
     "name": "stdout",
     "output_type": "stream",
     "text": [
      "Current ELBO: -33486.21321920954 | Change in ELBO: 3.0221860526362434\n",
      "\n",
      "Iteration 48\n"
     ]
    },
    {
     "name": "stderr",
     "output_type": "stream",
     "text": [
      "Updating PHI and GAMMA: 100%|██████████| 100/100 [00:01<00:00, 97.00it/s]\n",
      "Updating LAMBDA: 100%|██████████| 10/10 [00:00<00:00, 175.53it/s]\n"
     ]
    },
    {
     "name": "stdout",
     "output_type": "stream",
     "text": [
      "Current ELBO: -33482.95264816515 | Change in ELBO: 3.2605710443895077\n",
      "\n",
      "Iteration 49\n"
     ]
    },
    {
     "name": "stderr",
     "output_type": "stream",
     "text": [
      "Updating PHI and GAMMA: 100%|██████████| 100/100 [00:01<00:00, 95.56it/s]\n",
      "Updating LAMBDA: 100%|██████████| 10/10 [00:00<00:00, 155.82it/s]\n"
     ]
    },
    {
     "name": "stdout",
     "output_type": "stream",
     "text": [
      "Current ELBO: -33480.93726151285 | Change in ELBO: 2.0153866522960016\n",
      "\n",
      "Iteration 50\n"
     ]
    },
    {
     "name": "stderr",
     "output_type": "stream",
     "text": [
      "Updating PHI and GAMMA: 100%|██████████| 100/100 [00:01<00:00, 91.90it/s]\n",
      "Updating LAMBDA: 100%|██████████| 10/10 [00:00<00:00, 177.33it/s]\n"
     ]
    },
    {
     "name": "stdout",
     "output_type": "stream",
     "text": [
      "Current ELBO: -33479.88103711535 | Change in ELBO: 1.0562243975000456\n",
      "\n",
      "Iteration 51\n"
     ]
    },
    {
     "name": "stderr",
     "output_type": "stream",
     "text": [
      "Updating PHI and GAMMA: 100%|██████████| 100/100 [00:01<00:00, 95.45it/s]\n",
      "Updating LAMBDA: 100%|██████████| 10/10 [00:00<00:00, 91.78it/s]\n"
     ]
    },
    {
     "name": "stdout",
     "output_type": "stream",
     "text": [
      "Current ELBO: -33479.317094858896 | Change in ELBO: 0.5639422564563574\n",
      "\n",
      "Iteration 52\n"
     ]
    },
    {
     "name": "stderr",
     "output_type": "stream",
     "text": [
      "Updating PHI and GAMMA: 100%|██████████| 100/100 [00:01<00:00, 92.27it/s]\n",
      "Updating LAMBDA: 100%|██████████| 10/10 [00:00<00:00, 174.99it/s]\n"
     ]
    },
    {
     "name": "stdout",
     "output_type": "stream",
     "text": [
      "Current ELBO: -33478.52236663858 | Change in ELBO: 0.794728220316756\n",
      "\n",
      "Iteration 53\n"
     ]
    },
    {
     "name": "stderr",
     "output_type": "stream",
     "text": [
      "Updating PHI and GAMMA: 100%|██████████| 100/100 [00:01<00:00, 88.37it/s]\n",
      "Updating LAMBDA: 100%|██████████| 10/10 [00:00<00:00, 182.93it/s]\n"
     ]
    },
    {
     "name": "stdout",
     "output_type": "stream",
     "text": [
      "Current ELBO: -33477.4979276962 | Change in ELBO: 1.0244389423824032\n",
      "\n",
      "Iteration 54\n"
     ]
    },
    {
     "name": "stderr",
     "output_type": "stream",
     "text": [
      "Updating PHI and GAMMA: 100%|██████████| 100/100 [00:01<00:00, 92.14it/s]\n",
      "Updating LAMBDA: 100%|██████████| 10/10 [00:00<00:00, 157.35it/s]\n"
     ]
    },
    {
     "name": "stdout",
     "output_type": "stream",
     "text": [
      "Current ELBO: -33476.88298212614 | Change in ELBO: 0.6149455700578983\n",
      "\n",
      "Iteration 55\n"
     ]
    },
    {
     "name": "stderr",
     "output_type": "stream",
     "text": [
      "Updating PHI and GAMMA: 100%|██████████| 100/100 [00:01<00:00, 91.20it/s]\n",
      "Updating LAMBDA: 100%|██████████| 10/10 [00:00<00:00, 160.30it/s]\n"
     ]
    },
    {
     "name": "stdout",
     "output_type": "stream",
     "text": [
      "Current ELBO: -33476.276548730355 | Change in ELBO: 0.6064333957838244\n",
      "\n",
      "Iteration 56\n"
     ]
    },
    {
     "name": "stderr",
     "output_type": "stream",
     "text": [
      "Updating PHI and GAMMA: 100%|██████████| 100/100 [00:01<00:00, 84.26it/s]\n",
      "Updating LAMBDA: 100%|██████████| 10/10 [00:00<00:00, 175.42it/s]\n"
     ]
    },
    {
     "name": "stdout",
     "output_type": "stream",
     "text": [
      "Current ELBO: -33475.440187528286 | Change in ELBO: 0.8363612020693836\n",
      "\n",
      "Iteration 57\n"
     ]
    },
    {
     "name": "stderr",
     "output_type": "stream",
     "text": [
      "Updating PHI and GAMMA: 100%|██████████| 100/100 [00:01<00:00, 67.88it/s]\n",
      "Updating LAMBDA: 100%|██████████| 10/10 [00:00<00:00, 170.71it/s]\n"
     ]
    },
    {
     "name": "stdout",
     "output_type": "stream",
     "text": [
      "Current ELBO: -33474.58510979797 | Change in ELBO: 0.8550777303171344\n",
      "\n",
      "Iteration 58\n"
     ]
    },
    {
     "name": "stderr",
     "output_type": "stream",
     "text": [
      "Updating PHI and GAMMA: 100%|██████████| 100/100 [00:01<00:00, 93.10it/s]\n",
      "Updating LAMBDA: 100%|██████████| 10/10 [00:00<00:00, 181.17it/s]\n"
     ]
    },
    {
     "name": "stdout",
     "output_type": "stream",
     "text": [
      "Current ELBO: -33473.857869411135 | Change in ELBO: 0.7272403868337278\n",
      "\n",
      "Iteration 59\n"
     ]
    },
    {
     "name": "stderr",
     "output_type": "stream",
     "text": [
      "Updating PHI and GAMMA: 100%|██████████| 100/100 [00:01<00:00, 97.86it/s]\n",
      "Updating LAMBDA: 100%|██████████| 10/10 [00:00<00:00, 176.38it/s]\n"
     ]
    },
    {
     "name": "stdout",
     "output_type": "stream",
     "text": [
      "Current ELBO: -33473.51992352378 | Change in ELBO: 0.33794588735327125\n",
      "\n",
      "Iteration 60\n"
     ]
    },
    {
     "name": "stderr",
     "output_type": "stream",
     "text": [
      "Updating PHI and GAMMA: 100%|██████████| 100/100 [00:01<00:00, 97.95it/s]\n",
      "Updating LAMBDA: 100%|██████████| 10/10 [00:00<00:00, 179.32it/s]\n"
     ]
    },
    {
     "name": "stdout",
     "output_type": "stream",
     "text": [
      "Current ELBO: -33473.23391991688 | Change in ELBO: 0.28600360690325033\n",
      "\n",
      "Iteration 61\n"
     ]
    },
    {
     "name": "stderr",
     "output_type": "stream",
     "text": [
      "Updating PHI and GAMMA: 100%|██████████| 100/100 [00:01<00:00, 97.56it/s]\n",
      "Updating LAMBDA: 100%|██████████| 10/10 [00:00<00:00, 160.43it/s]\n"
     ]
    },
    {
     "name": "stdout",
     "output_type": "stream",
     "text": [
      "Current ELBO: -33472.82469921912 | Change in ELBO: 0.4092206977584283\n",
      "\n",
      "Iteration 62\n"
     ]
    },
    {
     "name": "stderr",
     "output_type": "stream",
     "text": [
      "Updating PHI and GAMMA: 100%|██████████| 100/100 [00:01<00:00, 91.50it/s]\n",
      "Updating LAMBDA: 100%|██████████| 10/10 [00:00<00:00, 161.01it/s]\n"
     ]
    },
    {
     "name": "stdout",
     "output_type": "stream",
     "text": [
      "Current ELBO: -33472.222544707314 | Change in ELBO: 0.6021545118055656\n",
      "\n",
      "Iteration 63\n"
     ]
    },
    {
     "name": "stderr",
     "output_type": "stream",
     "text": [
      "Updating PHI and GAMMA: 100%|██████████| 100/100 [00:01<00:00, 97.39it/s]\n",
      "Updating LAMBDA: 100%|██████████| 10/10 [00:00<00:00, 168.40it/s]\n"
     ]
    },
    {
     "name": "stdout",
     "output_type": "stream",
     "text": [
      "Current ELBO: -33471.601755485 | Change in ELBO: 0.6207892223173985\n",
      "\n",
      "Iteration 64\n"
     ]
    },
    {
     "name": "stderr",
     "output_type": "stream",
     "text": [
      "Updating PHI and GAMMA: 100%|██████████| 100/100 [00:01<00:00, 96.93it/s]\n",
      "Updating LAMBDA: 100%|██████████| 10/10 [00:00<00:00, 180.35it/s]\n"
     ]
    },
    {
     "name": "stdout",
     "output_type": "stream",
     "text": [
      "Current ELBO: -33471.091126938365 | Change in ELBO: 0.5106285466317786\n",
      "\n",
      "Iteration 65\n"
     ]
    },
    {
     "name": "stderr",
     "output_type": "stream",
     "text": [
      "Updating PHI and GAMMA: 100%|██████████| 100/100 [00:01<00:00, 95.82it/s]\n",
      "Updating LAMBDA: 100%|██████████| 10/10 [00:00<00:00, 175.94it/s]\n"
     ]
    },
    {
     "name": "stdout",
     "output_type": "stream",
     "text": [
      "Current ELBO: -33470.337031348776 | Change in ELBO: 0.7540955895892694\n",
      "\n",
      "Iteration 66\n"
     ]
    },
    {
     "name": "stderr",
     "output_type": "stream",
     "text": [
      "Updating PHI and GAMMA: 100%|██████████| 100/100 [00:01<00:00, 98.02it/s]\n",
      "Updating LAMBDA: 100%|██████████| 10/10 [00:00<00:00, 178.31it/s]\n"
     ]
    },
    {
     "name": "stdout",
     "output_type": "stream",
     "text": [
      "Current ELBO: -33469.52609551743 | Change in ELBO: 0.8109358313449775\n",
      "\n",
      "Iteration 67\n"
     ]
    },
    {
     "name": "stderr",
     "output_type": "stream",
     "text": [
      "Updating PHI and GAMMA: 100%|██████████| 100/100 [00:01<00:00, 97.98it/s]\n",
      "Updating LAMBDA: 100%|██████████| 10/10 [00:00<00:00, 176.83it/s]\n"
     ]
    },
    {
     "name": "stdout",
     "output_type": "stream",
     "text": [
      "Current ELBO: -33468.74134145765 | Change in ELBO: 0.784754059779516\n",
      "\n",
      "Iteration 68\n"
     ]
    },
    {
     "name": "stderr",
     "output_type": "stream",
     "text": [
      "Updating PHI and GAMMA: 100%|██████████| 100/100 [00:01<00:00, 96.34it/s]\n",
      "Updating LAMBDA: 100%|██████████| 10/10 [00:00<00:00, 131.80it/s]\n"
     ]
    },
    {
     "name": "stdout",
     "output_type": "stream",
     "text": [
      "Current ELBO: -33468.47363726239 | Change in ELBO: 0.26770419526292244\n",
      "\n",
      "Iteration 69\n"
     ]
    },
    {
     "name": "stderr",
     "output_type": "stream",
     "text": [
      "Updating PHI and GAMMA: 100%|██████████| 100/100 [00:01<00:00, 97.46it/s]\n",
      "Updating LAMBDA: 100%|██████████| 10/10 [00:00<00:00, 180.03it/s]\n"
     ]
    },
    {
     "name": "stdout",
     "output_type": "stream",
     "text": [
      "Current ELBO: -33468.32922464969 | Change in ELBO: 0.14441261269530514\n",
      "\n",
      "Iteration 70\n"
     ]
    },
    {
     "name": "stderr",
     "output_type": "stream",
     "text": [
      "Updating PHI and GAMMA: 100%|██████████| 100/100 [00:01<00:00, 97.82it/s]\n",
      "Updating LAMBDA: 100%|██████████| 10/10 [00:00<00:00, 180.45it/s]\n"
     ]
    },
    {
     "name": "stdout",
     "output_type": "stream",
     "text": [
      "Current ELBO: -33468.093168483356 | Change in ELBO: 0.23605616633722093\n",
      "\n",
      "Iteration 71\n"
     ]
    },
    {
     "name": "stderr",
     "output_type": "stream",
     "text": [
      "Updating PHI and GAMMA: 100%|██████████| 100/100 [00:01<00:00, 96.55it/s]\n",
      "Updating LAMBDA: 100%|██████████| 10/10 [00:00<00:00, 171.01it/s]\n"
     ]
    },
    {
     "name": "stdout",
     "output_type": "stream",
     "text": [
      "Current ELBO: -33467.68019584005 | Change in ELBO: 0.41297264330933103\n",
      "\n",
      "Iteration 72\n"
     ]
    },
    {
     "name": "stderr",
     "output_type": "stream",
     "text": [
      "Updating PHI and GAMMA: 100%|██████████| 100/100 [00:01<00:00, 97.78it/s]\n",
      "Updating LAMBDA: 100%|██████████| 10/10 [00:00<00:00, 182.21it/s]\n"
     ]
    },
    {
     "name": "stdout",
     "output_type": "stream",
     "text": [
      "Current ELBO: -33467.29898889714 | Change in ELBO: 0.3812069429041003\n",
      "\n",
      "Iteration 73\n"
     ]
    },
    {
     "name": "stderr",
     "output_type": "stream",
     "text": [
      "Updating PHI and GAMMA: 100%|██████████| 100/100 [00:01<00:00, 96.13it/s]\n",
      "Updating LAMBDA: 100%|██████████| 10/10 [00:00<00:00, 176.89it/s]\n"
     ]
    },
    {
     "name": "stdout",
     "output_type": "stream",
     "text": [
      "Current ELBO: -33467.13327957904 | Change in ELBO: 0.16570931810565526\n",
      "\n",
      "Iteration 74\n"
     ]
    },
    {
     "name": "stderr",
     "output_type": "stream",
     "text": [
      "Updating PHI and GAMMA: 100%|██████████| 100/100 [00:01<00:00, 94.76it/s]\n",
      "Updating LAMBDA: 100%|██████████| 10/10 [00:00<00:00, 180.58it/s]\n"
     ]
    },
    {
     "name": "stdout",
     "output_type": "stream",
     "text": [
      "Current ELBO: -33466.910804918814 | Change in ELBO: 0.2224746602223604\n",
      "\n",
      "Iteration 75\n"
     ]
    },
    {
     "name": "stderr",
     "output_type": "stream",
     "text": [
      "Updating PHI and GAMMA: 100%|██████████| 100/100 [00:01<00:00, 97.68it/s]\n",
      "Updating LAMBDA: 100%|██████████| 10/10 [00:00<00:00, 179.31it/s]\n"
     ]
    },
    {
     "name": "stdout",
     "output_type": "stream",
     "text": [
      "Current ELBO: -33466.561937540915 | Change in ELBO: 0.3488673778992961\n",
      "\n",
      "Iteration 76\n"
     ]
    },
    {
     "name": "stderr",
     "output_type": "stream",
     "text": [
      "Updating PHI and GAMMA: 100%|██████████| 100/100 [00:01<00:00, 97.32it/s]\n",
      "Updating LAMBDA: 100%|██████████| 10/10 [00:00<00:00, 184.51it/s]\n"
     ]
    },
    {
     "name": "stdout",
     "output_type": "stream",
     "text": [
      "Current ELBO: -33465.977708904014 | Change in ELBO: 0.5842286369006615\n",
      "\n",
      "Iteration 77\n"
     ]
    },
    {
     "name": "stderr",
     "output_type": "stream",
     "text": [
      "Updating PHI and GAMMA: 100%|██████████| 100/100 [00:01<00:00, 98.33it/s]\n",
      "Updating LAMBDA: 100%|██████████| 10/10 [00:00<00:00, 173.94it/s]\n"
     ]
    },
    {
     "name": "stdout",
     "output_type": "stream",
     "text": [
      "Current ELBO: -33465.09622603061 | Change in ELBO: 0.8814828734030016\n",
      "\n",
      "Iteration 78\n"
     ]
    },
    {
     "name": "stderr",
     "output_type": "stream",
     "text": [
      "Updating PHI and GAMMA: 100%|██████████| 100/100 [00:01<00:00, 97.74it/s]\n",
      "Updating LAMBDA: 100%|██████████| 10/10 [00:00<00:00, 171.80it/s]\n"
     ]
    },
    {
     "name": "stdout",
     "output_type": "stream",
     "text": [
      "Current ELBO: -33464.43081016677 | Change in ELBO: 0.66541586384119\n",
      "\n",
      "Iteration 79\n"
     ]
    },
    {
     "name": "stderr",
     "output_type": "stream",
     "text": [
      "Updating PHI and GAMMA: 100%|██████████| 100/100 [00:01<00:00, 97.54it/s]\n",
      "Updating LAMBDA: 100%|██████████| 10/10 [00:00<00:00, 182.27it/s]\n"
     ]
    },
    {
     "name": "stdout",
     "output_type": "stream",
     "text": [
      "Current ELBO: -33463.967355825094 | Change in ELBO: 0.46345434167596977\n",
      "\n",
      "Iteration 80\n"
     ]
    },
    {
     "name": "stderr",
     "output_type": "stream",
     "text": [
      "Updating PHI and GAMMA: 100%|██████████| 100/100 [00:01<00:00, 97.16it/s]\n",
      "Updating LAMBDA: 100%|██████████| 10/10 [00:00<00:00, 177.37it/s]\n"
     ]
    },
    {
     "name": "stdout",
     "output_type": "stream",
     "text": [
      "Current ELBO: -33463.68484190566 | Change in ELBO: 0.28251391943194903\n",
      "\n",
      "Iteration 81\n"
     ]
    },
    {
     "name": "stderr",
     "output_type": "stream",
     "text": [
      "Updating PHI and GAMMA: 100%|██████████| 100/100 [00:01<00:00, 97.76it/s]\n",
      "Updating LAMBDA: 100%|██████████| 10/10 [00:00<00:00, 181.65it/s]\n"
     ]
    },
    {
     "name": "stdout",
     "output_type": "stream",
     "text": [
      "Current ELBO: -33463.238924492165 | Change in ELBO: 0.44591741349722724\n",
      "\n",
      "Iteration 82\n"
     ]
    },
    {
     "name": "stderr",
     "output_type": "stream",
     "text": [
      "Updating PHI and GAMMA: 100%|██████████| 100/100 [00:01<00:00, 95.50it/s]\n",
      "Updating LAMBDA: 100%|██████████| 10/10 [00:00<00:00, 172.20it/s]\n"
     ]
    },
    {
     "name": "stdout",
     "output_type": "stream",
     "text": [
      "Current ELBO: -33462.60158684854 | Change in ELBO: 0.6373376436240505\n",
      "\n",
      "Iteration 83\n"
     ]
    },
    {
     "name": "stderr",
     "output_type": "stream",
     "text": [
      "Updating PHI and GAMMA: 100%|██████████| 100/100 [00:01<00:00, 80.50it/s]\n",
      "Updating LAMBDA: 100%|██████████| 10/10 [00:00<00:00, 134.90it/s]\n"
     ]
    },
    {
     "name": "stdout",
     "output_type": "stream",
     "text": [
      "Current ELBO: -33462.21085430265 | Change in ELBO: 0.39073254589311546\n",
      "\n",
      "Iteration 84\n"
     ]
    },
    {
     "name": "stderr",
     "output_type": "stream",
     "text": [
      "Updating PHI and GAMMA: 100%|██████████| 100/100 [00:01<00:00, 88.42it/s]\n",
      "Updating LAMBDA: 100%|██████████| 10/10 [00:00<00:00, 151.67it/s]\n"
     ]
    },
    {
     "name": "stdout",
     "output_type": "stream",
     "text": [
      "Current ELBO: -33462.138160811985 | Change in ELBO: 0.07269349066336872\n",
      "\n",
      "Iteration 85\n"
     ]
    },
    {
     "name": "stderr",
     "output_type": "stream",
     "text": [
      "Updating PHI and GAMMA: 100%|██████████| 100/100 [00:01<00:00, 87.63it/s]\n",
      "Updating LAMBDA: 100%|██████████| 10/10 [00:00<00:00, 164.29it/s]\n"
     ]
    },
    {
     "name": "stdout",
     "output_type": "stream",
     "text": [
      "Current ELBO: -33462.12317939127 | Change in ELBO: 0.014981420717958827\n",
      "\n",
      "Iteration 86\n"
     ]
    },
    {
     "name": "stderr",
     "output_type": "stream",
     "text": [
      "Updating PHI and GAMMA: 100%|██████████| 100/100 [00:01<00:00, 94.87it/s]\n",
      "Updating LAMBDA: 100%|██████████| 10/10 [00:00<00:00, 159.72it/s]\n"
     ]
    },
    {
     "name": "stdout",
     "output_type": "stream",
     "text": [
      "Current ELBO: -33462.09469036624 | Change in ELBO: 0.028489025025919545\n",
      "\n",
      "Iteration 87\n"
     ]
    },
    {
     "name": "stderr",
     "output_type": "stream",
     "text": [
      "Updating PHI and GAMMA: 100%|██████████| 100/100 [00:01<00:00, 89.95it/s]\n",
      "Updating LAMBDA: 100%|██████████| 10/10 [00:00<00:00, 141.89it/s]\n"
     ]
    },
    {
     "name": "stdout",
     "output_type": "stream",
     "text": [
      "Current ELBO: -33462.04761996945 | Change in ELBO: 0.047070396787603386\n",
      "\n",
      "Iteration 88\n"
     ]
    },
    {
     "name": "stderr",
     "output_type": "stream",
     "text": [
      "Updating PHI and GAMMA: 100%|██████████| 100/100 [00:01<00:00, 89.59it/s]\n",
      "Updating LAMBDA: 100%|██████████| 10/10 [00:00<00:00, 138.87it/s]\n"
     ]
    },
    {
     "name": "stdout",
     "output_type": "stream",
     "text": [
      "Current ELBO: -33461.97111010961 | Change in ELBO: 0.07650985984219005\n",
      "\n",
      "Iteration 89\n"
     ]
    },
    {
     "name": "stderr",
     "output_type": "stream",
     "text": [
      "Updating PHI and GAMMA: 100%|██████████| 100/100 [00:01<00:00, 90.75it/s]\n",
      "Updating LAMBDA: 100%|██████████| 10/10 [00:00<00:00, 157.95it/s]\n"
     ]
    },
    {
     "name": "stdout",
     "output_type": "stream",
     "text": [
      "Current ELBO: -33461.84196797116 | Change in ELBO: 0.12914213845215272\n",
      "\n",
      "Iteration 90\n"
     ]
    },
    {
     "name": "stderr",
     "output_type": "stream",
     "text": [
      "Updating PHI and GAMMA: 100%|██████████| 100/100 [00:01<00:00, 92.73it/s]\n",
      "Updating LAMBDA: 100%|██████████| 10/10 [00:00<00:00, 157.44it/s]\n"
     ]
    },
    {
     "name": "stdout",
     "output_type": "stream",
     "text": [
      "Current ELBO: -33461.610517006426 | Change in ELBO: 0.23145096473308513\n",
      "\n",
      "Iteration 91\n"
     ]
    },
    {
     "name": "stderr",
     "output_type": "stream",
     "text": [
      "Updating PHI and GAMMA: 100%|██████████| 100/100 [00:01<00:00, 90.40it/s]\n",
      "Updating LAMBDA: 100%|██████████| 10/10 [00:00<00:00, 146.83it/s]\n"
     ]
    },
    {
     "name": "stdout",
     "output_type": "stream",
     "text": [
      "Current ELBO: -33461.22791950141 | Change in ELBO: 0.3825975050131092\n",
      "\n",
      "Iteration 92\n"
     ]
    },
    {
     "name": "stderr",
     "output_type": "stream",
     "text": [
      "Updating PHI and GAMMA: 100%|██████████| 100/100 [00:01<00:00, 93.94it/s]\n",
      "Updating LAMBDA: 100%|██████████| 10/10 [00:00<00:00, 166.08it/s]\n"
     ]
    },
    {
     "name": "stdout",
     "output_type": "stream",
     "text": [
      "Current ELBO: -33461.013421021 | Change in ELBO: 0.21449848041083897\n",
      "\n",
      "Iteration 93\n"
     ]
    },
    {
     "name": "stderr",
     "output_type": "stream",
     "text": [
      "Updating PHI and GAMMA: 100%|██████████| 100/100 [00:01<00:00, 89.69it/s]\n",
      "Updating LAMBDA: 100%|██████████| 10/10 [00:00<00:00, 152.18it/s]\n"
     ]
    },
    {
     "name": "stdout",
     "output_type": "stream",
     "text": [
      "Current ELBO: -33461.00830114281 | Change in ELBO: 0.005119878194818739\n",
      "\n",
      "Iteration 94\n"
     ]
    },
    {
     "name": "stderr",
     "output_type": "stream",
     "text": [
      "Updating PHI and GAMMA: 100%|██████████| 100/100 [00:01<00:00, 92.21it/s]\n",
      "Updating LAMBDA: 100%|██████████| 10/10 [00:00<00:00, 149.39it/s]\n"
     ]
    },
    {
     "name": "stdout",
     "output_type": "stream",
     "text": [
      "Current ELBO: -33461.00721330282 | Change in ELBO: 0.001087839984393213\n",
      "\n",
      "Iteration 95\n"
     ]
    },
    {
     "name": "stderr",
     "output_type": "stream",
     "text": [
      "Updating PHI and GAMMA: 100%|██████████| 100/100 [00:01<00:00, 90.70it/s]\n",
      "Updating LAMBDA: 100%|██████████| 10/10 [00:00<00:00, 137.04it/s]\n"
     ]
    },
    {
     "name": "stdout",
     "output_type": "stream",
     "text": [
      "Current ELBO: -33461.006264998025 | Change in ELBO: 0.0009483047979301773\n",
      "\n"
     ]
    },
    {
     "data": {
      "text/plain": [
       "[<matplotlib.lines.Line2D at 0x2ad51cd4190>]"
      ]
     },
     "execution_count": 395,
     "metadata": {},
     "output_type": "execute_result"
    },
    {
     "data": {
      "image/png": "[encoded data removed]",
      "text/plain": [
       "<Figure size 640x480 with 1 Axes>"
      ]
     },
     "metadata": {},
     "output_type": "display_data"
    }
   ],
   "source": [
    "start = time.time()\n",
    "ELBOs = []\n",
    "prev_ELBO = -np.inf\n",
    "curr_ELBO = compute_ELBO(LAMBDA, GAMMA, PHI, documents, nonzero_idxs, K)\n",
    "ELBOs.append(curr_ELBO)\n",
    "print(f\"Initial ELBO: {ELBOs[0]}\\n\")\n",
    "\n",
    "max_iterations = 200\n",
    "tol = 10e-4\n",
    "LAMBDA_t = copy.deepcopy(LAMBDA)\n",
    "GAMMA_t = copy.deepcopy(GAMMA)\n",
    "PHI_t = copy.deepcopy(PHI)\n",
    "\n",
    "for t in range(max_iterations):\n",
    "    print(f\"Iteration {t+1}\")\n",
    "    for i in tqdm(range(N), desc=\"Updating PHI and GAMMA\"):\n",
    "        document = documents[i]\n",
    "        nonzero_idx = nonzero_idxs[i]\n",
    "        GAMMA_i_t = copy.deepcopy(GAMMA_t[i])\n",
    "        word_idx = 0\n",
    "        for idx in nonzero_idx:\n",
    "            log_PHI_ij = np.zeros((K,))\n",
    "            for k in range(K):\n",
    "                LAMBDA_k_t = copy.deepcopy(LAMBDA_t[k])\n",
    "                exp_propto = digamma(GAMMA_i_t[k]) - digamma(np.sum(GAMMA_i_t)) + digamma(LAMBDA_k_t[idx]) - digamma(np.sum(LAMBDA_k_t))\n",
    "                log_PHI_ij[k] = exp_propto\n",
    "            PHI_ij = np.exp(log_PHI_ij - log_sum_exp(log_PHI_ij))\n",
    "            PHI_t[i][word_idx] = PHI_ij\n",
    "            word_idx += 1\n",
    "        GAMMA_i_t = np.zeros((K,)) + ALPHA\n",
    "        for k in range(K):\n",
    "            GAMMA_i_t[k] += np.sum(document[nonzero_idx] * PHI_t[i][:, k])\n",
    "        GAMMA_t[i] = GAMMA_i_t\n",
    "\n",
    "    for k in tqdm(range(K), desc=\"Updating LAMBDA\"):\n",
    "        LAMBDA_k_t = np.zeros((V,)) + ETA\n",
    "        for i in range(N):\n",
    "            document = documents[i]\n",
    "            nonzero_idx = nonzero_idxs[i]\n",
    "            word_idx = 0\n",
    "            for idx in nonzero_idx:\n",
    "                LAMBDA_k_t[idx] += document[idx] * PHI_t[i][word_idx][k]\n",
    "                word_idx += 1\n",
    "            LAMBDA_t[k] = LAMBDA_k_t\n",
    "\n",
    "    prev_ELBO = curr_ELBO\n",
    "    curr_ELBO = compute_ELBO(LAMBDA_t, GAMMA_t, PHI_t, documents, nonzero_idxs, K)\n",
    "    ELBOs.append(curr_ELBO)\n",
    "    print(f\"Current ELBO: {curr_ELBO} | Change in ELBO: {curr_ELBO - prev_ELBO}\\n\")\n",
    "\n",
    "    if abs(curr_ELBO - prev_ELBO) < tol:\n",
    "        break\n",
    "stop = time.time()\n",
    "\n",
    "LAMBDA_final = copy.deepcopy(LAMBDA_t)\n",
    "GAMMA_final = copy.deepcopy(GAMMA_t)\n",
    "PHI_final = copy.deepcopy(PHI_t)\n",
    "\n",
    "plt.ticklabel_format(style=\"sci\", axis=\"y\", scilimits=(0, 0))\n",
    "plt.plot(np.linspace(0, stop-start, len(ELBOs)), ELBOs)"
   ]
  },
  {
   "cell_type": "code",
   "execution_count": 366,
   "metadata": {},
   "outputs": [
    {
     "data": {
      "text/plain": [
       "(array([0.10000286, 0.10000229, 0.1       , 0.10000247, 0.100003  ,\n",
       "        0.10000081, 0.10000016, 0.10000192, 0.10000794, 0.10000294]),\n",
       " 0.1)"
      ]
     },
     "execution_count": 366,
     "metadata": {},
     "output_type": "execute_result"
    }
   ],
   "source": [
    "scipy.stats.mode(GAMMA_final)[0], ALPHA"
   ]
  },
  {
   "cell_type": "code",
   "execution_count": 367,
   "metadata": {},
   "outputs": [
    {
     "data": {
      "text/plain": [
       "array([[ 0.1       ,  0.1000267 ,  0.10002263, ...,  0.100028  ,\n",
       "         0.10006777,  1.41097701],\n",
       "       [ 0.1       ,  0.10003144,  8.77373138, ...,  0.10003149,\n",
       "         0.10003141,  0.10000953],\n",
       "       [ 0.1       , 15.90248326,  0.10003523, ...,  0.10002982,\n",
       "         0.10006223,  0.10002945],\n",
       "       ...,\n",
       "       [ 0.1       ,  0.10002337,  0.10003085, ...,  0.1000044 ,\n",
       "         2.09938016,  0.10001498],\n",
       "       [ 0.1       , 11.65706117,  4.42604876, ...,  0.10002072,\n",
       "         0.10004937,  0.1001824 ],\n",
       "       [ 0.1       ,  0.10002198,  0.10003271, ...,  0.10000657,\n",
       "         0.10001766,  2.78857486]])"
      ]
     },
     "execution_count": 367,
     "metadata": {},
     "output_type": "execute_result"
    }
   ],
   "source": [
    "LAMBDA_final"
   ]
  }
 ],
 "metadata": {
  "kernelspec": {
   "display_name": "ht",
   "language": "python",
   "name": "python3"
  },
  "language_info": {
   "codemirror_mode": {
    "name": "ipython",
    "version": 3
   },
   "file_extension": ".py",
   "mimetype": "text/x-python",
   "name": "python",
   "nbconvert_exporter": "python",
   "pygments_lexer": "ipython3",
   "version": "3.13.0"
  }
 },
 "nbformat": 4,
 "nbformat_minor": 2
}
