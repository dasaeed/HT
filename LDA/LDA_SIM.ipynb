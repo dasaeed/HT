{
 "cells": [
  {
   "cell_type": "code",
   "execution_count": 270,
   "metadata": {},
   "outputs": [],
   "source": [
    "import os\n",
    "import time\n",
    "import pandas as pd\n",
    "import numpy as np\n",
    "import numpy.random as npr\n",
    "import copy\n",
    "import re\n",
    "import nltk\n",
    "import matplotlib.pyplot as plt\n",
    "import pandas as pd\n",
    "from nltk.corpus import stopwords\n",
    "from nltk.tokenize import word_tokenize\n",
    "from collections import Counter\n",
    "from tqdm import tqdm\n",
    "from scipy.special import digamma, loggamma\n",
    "from scipy.sparse import csr_matrix\n",
    "from typing import List, Dict, Tuple, Set, Optional"
   ]
  },
  {
   "cell_type": "code",
   "execution_count": 269,
   "metadata": {},
   "outputs": [],
   "source": [
    "def log_sum_exp(vec):\n",
    "    vec_max = np.max(vec, axis=0)\n",
    "    exp_vec = np.exp(vec - vec_max)\n",
    "    sum_exp_vec = np.sum(exp_vec)\n",
    "    log_sum_exp = np.log(sum_exp_vec) + vec_max\n",
    "    return log_sum_exp\n",
    "\n",
    "def init_variational_params(documents, K):\n",
    "    N, V = documents.shape\n",
    "    LAMBDA = np.random.uniform(low=0.01, high=1.0, size=(K, V))\n",
    "    GAMMA = np.ones((N, K))\n",
    "    PHI = []\n",
    "    for document in documents:\n",
    "        M = np.sum((document > 0).astype(\"int32\"))\n",
    "        document_PHI = np.ones((M, K))\n",
    "        document_PHI = document_PHI / K\n",
    "        PHI.append(document_PHI)\n",
    "        \n",
    "    return LAMBDA, GAMMA, PHI\n",
    "\n",
    "def compute_ELBO(LAMBDA, GAMMA, PHI, documents, nonzero_idxs, K):\n",
    "    ELBO = 0\n",
    "    N, _ = documents.shape\n",
    "\n",
    "    E_log_p_BETA = np.sum((ETA-1) * (digamma(LAMBDA) - digamma(np.sum(LAMBDA, axis=1, keepdims=True))))\n",
    "    ELBO += E_log_p_BETA\n",
    "\n",
    "    E_log_p_THETA = np.sum((ALPHA-1) * (digamma(GAMMA) - digamma(np.sum(GAMMA, axis=1, keepdims=True))))\n",
    "    ELBO += E_log_p_THETA\n",
    "\n",
    "    E_log_p_x_z = 0\n",
    "    for i in range(N):\n",
    "        document = documents[i]\n",
    "        nonzero_idx = nonzero_idxs[i]\n",
    "        word_idx = 0\n",
    "        for idx in nonzero_idx:\n",
    "            E_log_p_x_z += document[idx] * np.sum(PHI[i][word_idx] * (digamma(GAMMA[i])-digamma(np.sum(GAMMA[i])))) \\\n",
    "                + document[idx] * np.sum(PHI[i][word_idx] * (digamma(LAMBDA[:, idx])-digamma(np.sum(LAMBDA, axis=1))))\n",
    "            word_idx += 1\n",
    "    ELBO += E_log_p_x_z\n",
    "\n",
    "    E_log_q_BETA = np.sum(-loggamma(np.sum(LAMBDA, axis=1)) + np.sum(loggamma(LAMBDA), axis=1) \\\n",
    "        - np.sum((LAMBDA - 1) * (digamma(LAMBDA) - digamma(np.sum(LAMBDA, axis=1, keepdims=True))), axis=1))\n",
    "    ELBO += E_log_q_BETA\n",
    "\n",
    "    E_log_q_THETA = np.sum(-loggamma(np.sum(GAMMA, axis=1)) + np.sum(loggamma(GAMMA), axis=1) \\\n",
    "        - np.sum((GAMMA - 1) * (digamma(GAMMA) - digamma(np.sum(GAMMA, axis=1, keepdims=True))), axis=1))\n",
    "    ELBO += E_log_q_THETA\n",
    "\n",
    "    E_log_q_z = 0\n",
    "    for i in range(N):\n",
    "        document = documents[i]\n",
    "        nonzero_idx = nonzero_idxs[i]\n",
    "        word_idx = 0\n",
    "        for idx in nonzero_idx:\n",
    "            E_log_q_z += -document[idx] * np.sum(PHI[i][word_idx] * np.log(PHI[i][word_idx]))\n",
    "            word_idx += 1\n",
    "    ELBO += E_log_q_z\n",
    "\n",
    "    return ELBO"
   ]
  },
  {
   "cell_type": "code",
   "execution_count": 283,
   "metadata": {},
   "outputs": [],
   "source": [
    "def simulate_LDA(N, avg_doc_length, K, V, ETA=0.1, ALPHA=0.5, rs_int=np.random.randint(low=0, high=100)):\n",
    "    rs = npr.RandomState(rs_int) \n",
    "    BETA = rs.dirichlet(np.full(V, ETA), size=K)\n",
    "    THETA = rs.dirichlet(np.full(K, ALPHA), size=N)\n",
    "    doc_lengths = rs.poisson(avg_doc_length, size=N)\n",
    "    \n",
    "    row_idxs = []\n",
    "    col_idxs = []\n",
    "    values = []\n",
    "    nonzero_idxs = []\n",
    "\n",
    "    for i in range(N):\n",
    "        doc_word_counts = np.zeros(V)\n",
    "        for _ in range(doc_lengths[i]):\n",
    "            z_ij = rs.choice(K, p=THETA[i])\n",
    "            x_ij = rs.choice(V, p=BETA[z_ij])\n",
    "            doc_word_counts[x_ij] += 1\n",
    "        doc_nonzero = np.nonzero(doc_word_counts)[0]\n",
    "        doc_nonzero = np.array(sorted(doc_nonzero))\n",
    "        nonzero_idxs.append(doc_nonzero)\n",
    "\n",
    "        row_idxs.extend([i] * len(doc_nonzero))\n",
    "        col_idxs.extend(doc_nonzero)\n",
    "        values.extend(doc_word_counts[doc_nonzero])\n",
    "    documents = csr_matrix((values, (row_idxs, col_idxs)), shape=(N, V)).toarray()\n",
    "    \n",
    "    return documents, nonzero_idxs, BETA, THETA"
   ]
  },
  {
   "cell_type": "code",
   "execution_count": 305,
   "metadata": {},
   "outputs": [],
   "source": [
    "N = 100\n",
    "avg_doc_length = 150\n",
    "K = 5\n",
    "V = 1000\n",
    "ALPHA = 1 / K\n",
    "ETA = 100 / V\n",
    "documents, nonzero_idxs, BETA, THETA = simulate_LDA(N, avg_doc_length, K, V, ETA, ALPHA)\n",
    "LAMBDA, GAMMA, PHI = init_variational_params(documents, K=5)"
   ]
  },
  {
   "cell_type": "code",
   "execution_count": 306,
   "metadata": {},
   "outputs": [
    {
     "name": "stdout",
     "output_type": "stream",
     "text": [
      "Initial ELBO: -160657.9833535005\n",
      "\n",
      "Iteration 1\n"
     ]
    },
    {
     "name": "stderr",
     "output_type": "stream",
     "text": [
      "Updating PHI and GAMMA: 100%|██████████| 100/100 [00:00<00:00, 100.49it/s]\n",
      "Updating LAMBDA: 100%|██████████| 5/5 [00:00<00:00, 101.69it/s]\n"
     ]
    },
    {
     "name": "stdout",
     "output_type": "stream",
     "text": [
      "Current ELBO: -90658.81344355509 | Change in ELBO: 69999.1699099454\n",
      "\n",
      "Iteration 2\n"
     ]
    },
    {
     "name": "stderr",
     "output_type": "stream",
     "text": [
      "Updating PHI and GAMMA: 100%|██████████| 100/100 [00:01<00:00, 95.73it/s]\n",
      "Updating LAMBDA: 100%|██████████| 5/5 [00:00<00:00, 96.77it/s]\n"
     ]
    },
    {
     "name": "stdout",
     "output_type": "stream",
     "text": [
      "Current ELBO: -90265.35122595918 | Change in ELBO: 393.46221759590844\n",
      "\n",
      "Iteration 3\n"
     ]
    },
    {
     "name": "stderr",
     "output_type": "stream",
     "text": [
      "Updating PHI and GAMMA: 100%|██████████| 100/100 [00:00<00:00, 101.48it/s]\n",
      "Updating LAMBDA: 100%|██████████| 5/5 [00:00<00:00, 102.81it/s]\n"
     ]
    },
    {
     "name": "stdout",
     "output_type": "stream",
     "text": [
      "Current ELBO: -89893.478964505 | Change in ELBO: 371.8722614541766\n",
      "\n",
      "Iteration 4\n"
     ]
    },
    {
     "name": "stderr",
     "output_type": "stream",
     "text": [
      "Updating PHI and GAMMA: 100%|██████████| 100/100 [00:01<00:00, 96.56it/s]\n",
      "Updating LAMBDA: 100%|██████████| 5/5 [00:00<00:00, 106.65it/s]\n"
     ]
    },
    {
     "name": "stdout",
     "output_type": "stream",
     "text": [
      "Current ELBO: -89496.3969432891 | Change in ELBO: 397.0820212159015\n",
      "\n",
      "Iteration 5\n"
     ]
    },
    {
     "name": "stderr",
     "output_type": "stream",
     "text": [
      "Updating PHI and GAMMA: 100%|██████████| 100/100 [00:00<00:00, 106.92it/s]\n",
      "Updating LAMBDA: 100%|██████████| 5/5 [00:00<00:00, 112.42it/s]\n"
     ]
    },
    {
     "name": "stdout",
     "output_type": "stream",
     "text": [
      "Current ELBO: -89022.59899959387 | Change in ELBO: 473.79794369523006\n",
      "\n",
      "Iteration 6\n"
     ]
    },
    {
     "name": "stderr",
     "output_type": "stream",
     "text": [
      "Updating PHI and GAMMA: 100%|██████████| 100/100 [00:00<00:00, 112.01it/s]\n",
      "Updating LAMBDA: 100%|██████████| 5/5 [00:00<00:00, 90.88it/s]\n"
     ]
    },
    {
     "name": "stdout",
     "output_type": "stream",
     "text": [
      "Current ELBO: -88446.45785493121 | Change in ELBO: 576.1411446626589\n",
      "\n",
      "Iteration 7\n"
     ]
    },
    {
     "name": "stderr",
     "output_type": "stream",
     "text": [
      "Updating PHI and GAMMA: 100%|██████████| 100/100 [00:00<00:00, 102.24it/s]\n",
      "Updating LAMBDA: 100%|██████████| 5/5 [00:00<00:00, 98.23it/s]\n"
     ]
    },
    {
     "name": "stdout",
     "output_type": "stream",
     "text": [
      "Current ELBO: -87794.66400708957 | Change in ELBO: 651.7938478416472\n",
      "\n",
      "Iteration 8\n"
     ]
    },
    {
     "name": "stderr",
     "output_type": "stream",
     "text": [
      "Updating PHI and GAMMA: 100%|██████████| 100/100 [00:01<00:00, 88.06it/s]\n",
      "Updating LAMBDA: 100%|██████████| 5/5 [00:00<00:00, 80.97it/s]\n"
     ]
    },
    {
     "name": "stdout",
     "output_type": "stream",
     "text": [
      "Current ELBO: -87134.45886800847 | Change in ELBO: 660.2051390810957\n",
      "\n",
      "Iteration 9\n"
     ]
    },
    {
     "name": "stderr",
     "output_type": "stream",
     "text": [
      "Updating PHI and GAMMA: 100%|██████████| 100/100 [00:01<00:00, 90.68it/s]\n",
      "Updating LAMBDA: 100%|██████████| 5/5 [00:00<00:00, 90.94it/s]\n"
     ]
    },
    {
     "name": "stdout",
     "output_type": "stream",
     "text": [
      "Current ELBO: -86534.21876014456 | Change in ELBO: 600.2401078639086\n",
      "\n",
      "Iteration 10\n"
     ]
    },
    {
     "name": "stderr",
     "output_type": "stream",
     "text": [
      "Updating PHI and GAMMA: 100%|██████████| 100/100 [00:01<00:00, 87.55it/s]\n",
      "Updating LAMBDA: 100%|██████████| 5/5 [00:00<00:00, 84.49it/s]\n"
     ]
    },
    {
     "name": "stdout",
     "output_type": "stream",
     "text": [
      "Current ELBO: -86032.9743576119 | Change in ELBO: 501.24440253265493\n",
      "\n",
      "Iteration 11\n"
     ]
    },
    {
     "name": "stderr",
     "output_type": "stream",
     "text": [
      "Updating PHI and GAMMA: 100%|██████████| 100/100 [00:01<00:00, 94.61it/s]\n",
      "Updating LAMBDA: 100%|██████████| 5/5 [00:00<00:00, 105.35it/s]\n"
     ]
    },
    {
     "name": "stdout",
     "output_type": "stream",
     "text": [
      "Current ELBO: -85631.5623163836 | Change in ELBO: 401.4120412283082\n",
      "\n",
      "Iteration 12\n"
     ]
    },
    {
     "name": "stderr",
     "output_type": "stream",
     "text": [
      "Updating PHI and GAMMA: 100%|██████████| 100/100 [00:01<00:00, 90.25it/s]\n",
      "Updating LAMBDA: 100%|██████████| 5/5 [00:00<00:00, 88.93it/s]\n"
     ]
    },
    {
     "name": "stdout",
     "output_type": "stream",
     "text": [
      "Current ELBO: -85319.33561782332 | Change in ELBO: 312.2266985602764\n",
      "\n",
      "Iteration 13\n"
     ]
    },
    {
     "name": "stderr",
     "output_type": "stream",
     "text": [
      "Updating PHI and GAMMA: 100%|██████████| 100/100 [00:01<00:00, 96.76it/s]\n",
      "Updating LAMBDA: 100%|██████████| 5/5 [00:00<00:00, 89.06it/s]\n"
     ]
    },
    {
     "name": "stdout",
     "output_type": "stream",
     "text": [
      "Current ELBO: -85074.48658184032 | Change in ELBO: 244.84903598300298\n",
      "\n",
      "Iteration 14\n"
     ]
    },
    {
     "name": "stderr",
     "output_type": "stream",
     "text": [
      "Updating PHI and GAMMA: 100%|██████████| 100/100 [00:01<00:00, 68.31it/s]\n",
      "Updating LAMBDA: 100%|██████████| 5/5 [00:00<00:00, 93.96it/s]\n"
     ]
    },
    {
     "name": "stdout",
     "output_type": "stream",
     "text": [
      "Current ELBO: -84884.42023408346 | Change in ELBO: 190.0663477568596\n",
      "\n",
      "Iteration 15\n"
     ]
    },
    {
     "name": "stderr",
     "output_type": "stream",
     "text": [
      "Updating PHI and GAMMA: 100%|██████████| 100/100 [00:01<00:00, 92.25it/s]\n",
      "Updating LAMBDA: 100%|██████████| 5/5 [00:00<00:00, 63.53it/s]\n"
     ]
    },
    {
     "name": "stdout",
     "output_type": "stream",
     "text": [
      "Current ELBO: -84736.38248501474 | Change in ELBO: 148.03774906872422\n",
      "\n",
      "Iteration 16\n"
     ]
    },
    {
     "name": "stderr",
     "output_type": "stream",
     "text": [
      "Updating PHI and GAMMA: 100%|██████████| 100/100 [00:01<00:00, 85.89it/s]\n",
      "Updating LAMBDA: 100%|██████████| 5/5 [00:00<00:00, 109.23it/s]\n"
     ]
    },
    {
     "name": "stdout",
     "output_type": "stream",
     "text": [
      "Current ELBO: -84620.55673539227 | Change in ELBO: 115.82574962246872\n",
      "\n",
      "Iteration 17\n"
     ]
    },
    {
     "name": "stderr",
     "output_type": "stream",
     "text": [
      "Updating PHI and GAMMA: 100%|██████████| 100/100 [00:01<00:00, 94.33it/s]\n",
      "Updating LAMBDA: 100%|██████████| 5/5 [00:00<00:00, 89.14it/s]\n"
     ]
    },
    {
     "name": "stdout",
     "output_type": "stream",
     "text": [
      "Current ELBO: -84534.99662083619 | Change in ELBO: 85.5601145560795\n",
      "\n",
      "Iteration 18\n"
     ]
    },
    {
     "name": "stderr",
     "output_type": "stream",
     "text": [
      "Updating PHI and GAMMA: 100%|██████████| 100/100 [00:01<00:00, 90.65it/s]\n",
      "Updating LAMBDA: 100%|██████████| 5/5 [00:00<00:00, 91.42it/s]\n"
     ]
    },
    {
     "name": "stdout",
     "output_type": "stream",
     "text": [
      "Current ELBO: -84465.81238338386 | Change in ELBO: 69.18423745232576\n",
      "\n",
      "Iteration 19\n"
     ]
    },
    {
     "name": "stderr",
     "output_type": "stream",
     "text": [
      "Updating PHI and GAMMA: 100%|██████████| 100/100 [00:01<00:00, 92.85it/s]\n",
      "Updating LAMBDA: 100%|██████████| 5/5 [00:00<00:00, 98.17it/s]\n"
     ]
    },
    {
     "name": "stdout",
     "output_type": "stream",
     "text": [
      "Current ELBO: -84408.59661673328 | Change in ELBO: 57.21576665058092\n",
      "\n",
      "Iteration 20\n"
     ]
    },
    {
     "name": "stderr",
     "output_type": "stream",
     "text": [
      "Updating PHI and GAMMA: 100%|██████████| 100/100 [00:01<00:00, 95.91it/s]\n",
      "Updating LAMBDA: 100%|██████████| 5/5 [00:00<00:00, 83.31it/s]\n"
     ]
    },
    {
     "name": "stdout",
     "output_type": "stream",
     "text": [
      "Current ELBO: -84361.4889567015 | Change in ELBO: 47.107660031775595\n",
      "\n",
      "Iteration 21\n"
     ]
    },
    {
     "name": "stderr",
     "output_type": "stream",
     "text": [
      "Updating PHI and GAMMA: 100%|██████████| 100/100 [00:01<00:00, 89.52it/s]\n",
      "Updating LAMBDA: 100%|██████████| 5/5 [00:00<00:00, 74.56it/s]\n"
     ]
    },
    {
     "name": "stdout",
     "output_type": "stream",
     "text": [
      "Current ELBO: -84322.85725855692 | Change in ELBO: 38.63169814458524\n",
      "\n",
      "Iteration 22\n"
     ]
    },
    {
     "name": "stderr",
     "output_type": "stream",
     "text": [
      "Updating PHI and GAMMA: 100%|██████████| 100/100 [00:01<00:00, 88.38it/s]\n",
      "Updating LAMBDA: 100%|██████████| 5/5 [00:00<00:00, 101.18it/s]\n"
     ]
    },
    {
     "name": "stdout",
     "output_type": "stream",
     "text": [
      "Current ELBO: -84292.28285701053 | Change in ELBO: 30.57440154638607\n",
      "\n",
      "Iteration 23\n"
     ]
    },
    {
     "name": "stderr",
     "output_type": "stream",
     "text": [
      "Updating PHI and GAMMA: 100%|██████████| 100/100 [00:01<00:00, 88.63it/s]\n",
      "Updating LAMBDA: 100%|██████████| 5/5 [00:00<00:00, 95.35it/s]\n"
     ]
    },
    {
     "name": "stdout",
     "output_type": "stream",
     "text": [
      "Current ELBO: -84266.33855181726 | Change in ELBO: 25.944305193275795\n",
      "\n",
      "Iteration 24\n"
     ]
    },
    {
     "name": "stderr",
     "output_type": "stream",
     "text": [
      "Updating PHI and GAMMA: 100%|██████████| 100/100 [00:01<00:00, 80.99it/s]\n",
      "Updating LAMBDA: 100%|██████████| 5/5 [00:00<00:00, 89.44it/s]\n"
     ]
    },
    {
     "name": "stdout",
     "output_type": "stream",
     "text": [
      "Current ELBO: -84241.99088193483 | Change in ELBO: 24.34766988242336\n",
      "\n",
      "Iteration 25\n"
     ]
    },
    {
     "name": "stderr",
     "output_type": "stream",
     "text": [
      "Updating PHI and GAMMA: 100%|██████████| 100/100 [00:01<00:00, 93.44it/s]\n",
      "Updating LAMBDA: 100%|██████████| 5/5 [00:00<00:00, 111.25it/s]\n"
     ]
    },
    {
     "name": "stdout",
     "output_type": "stream",
     "text": [
      "Current ELBO: -84218.23743171016 | Change in ELBO: 23.753450224670814\n",
      "\n",
      "Iteration 26\n"
     ]
    },
    {
     "name": "stderr",
     "output_type": "stream",
     "text": [
      "Updating PHI and GAMMA: 100%|██████████| 100/100 [00:01<00:00, 87.24it/s]\n",
      "Updating LAMBDA: 100%|██████████| 5/5 [00:00<00:00, 83.17it/s]\n"
     ]
    },
    {
     "name": "stdout",
     "output_type": "stream",
     "text": [
      "Current ELBO: -84194.69119475133 | Change in ELBO: 23.546236958834925\n",
      "\n",
      "Iteration 27\n"
     ]
    },
    {
     "name": "stderr",
     "output_type": "stream",
     "text": [
      "Updating PHI and GAMMA: 100%|██████████| 100/100 [00:01<00:00, 84.68it/s]\n",
      "Updating LAMBDA: 100%|██████████| 5/5 [00:00<00:00, 92.64it/s]\n"
     ]
    },
    {
     "name": "stdout",
     "output_type": "stream",
     "text": [
      "Current ELBO: -84169.31069448544 | Change in ELBO: 25.380500265891897\n",
      "\n",
      "Iteration 28\n"
     ]
    },
    {
     "name": "stderr",
     "output_type": "stream",
     "text": [
      "Updating PHI and GAMMA: 100%|██████████| 100/100 [00:01<00:00, 91.48it/s]\n",
      "Updating LAMBDA: 100%|██████████| 5/5 [00:00<00:00, 91.67it/s]\n"
     ]
    },
    {
     "name": "stdout",
     "output_type": "stream",
     "text": [
      "Current ELBO: -84144.2052913808 | Change in ELBO: 25.105403104636935\n",
      "\n",
      "Iteration 29\n"
     ]
    },
    {
     "name": "stderr",
     "output_type": "stream",
     "text": [
      "Updating PHI and GAMMA: 100%|██████████| 100/100 [00:01<00:00, 90.58it/s]\n",
      "Updating LAMBDA: 100%|██████████| 5/5 [00:00<00:00, 88.58it/s]\n"
     ]
    },
    {
     "name": "stdout",
     "output_type": "stream",
     "text": [
      "Current ELBO: -84121.44871286955 | Change in ELBO: 22.756578511252883\n",
      "\n",
      "Iteration 30\n"
     ]
    },
    {
     "name": "stderr",
     "output_type": "stream",
     "text": [
      "Updating PHI and GAMMA: 100%|██████████| 100/100 [00:01<00:00, 85.81it/s]\n",
      "Updating LAMBDA: 100%|██████████| 5/5 [00:00<00:00, 92.20it/s]\n"
     ]
    },
    {
     "name": "stdout",
     "output_type": "stream",
     "text": [
      "Current ELBO: -84100.87617032984 | Change in ELBO: 20.572542539710412\n",
      "\n",
      "Iteration 31\n"
     ]
    },
    {
     "name": "stderr",
     "output_type": "stream",
     "text": [
      "Updating PHI and GAMMA: 100%|██████████| 100/100 [00:01<00:00, 84.88it/s]\n",
      "Updating LAMBDA: 100%|██████████| 5/5 [00:00<00:00, 99.00it/s]\n"
     ]
    },
    {
     "name": "stdout",
     "output_type": "stream",
     "text": [
      "Current ELBO: -84080.17014330186 | Change in ELBO: 20.706027027976234\n",
      "\n",
      "Iteration 32\n"
     ]
    },
    {
     "name": "stderr",
     "output_type": "stream",
     "text": [
      "Updating PHI and GAMMA: 100%|██████████| 100/100 [00:01<00:00, 90.95it/s]\n",
      "Updating LAMBDA: 100%|██████████| 5/5 [00:00<00:00, 78.65it/s]\n"
     ]
    },
    {
     "name": "stdout",
     "output_type": "stream",
     "text": [
      "Current ELBO: -84059.06150473448 | Change in ELBO: 21.108638567384332\n",
      "\n",
      "Iteration 33\n"
     ]
    },
    {
     "name": "stderr",
     "output_type": "stream",
     "text": [
      "Updating PHI and GAMMA: 100%|██████████| 100/100 [00:01<00:00, 84.64it/s]\n",
      "Updating LAMBDA: 100%|██████████| 5/5 [00:00<00:00, 92.57it/s]\n"
     ]
    },
    {
     "name": "stdout",
     "output_type": "stream",
     "text": [
      "Current ELBO: -84038.40936236651 | Change in ELBO: 20.652142367966007\n",
      "\n",
      "Iteration 34\n"
     ]
    },
    {
     "name": "stderr",
     "output_type": "stream",
     "text": [
      "Updating PHI and GAMMA: 100%|██████████| 100/100 [00:01<00:00, 82.09it/s]\n",
      "Updating LAMBDA: 100%|██████████| 5/5 [00:00<00:00, 86.30it/s]\n"
     ]
    },
    {
     "name": "stdout",
     "output_type": "stream",
     "text": [
      "Current ELBO: -84018.75632974457 | Change in ELBO: 19.65303262193629\n",
      "\n",
      "Iteration 35\n"
     ]
    },
    {
     "name": "stderr",
     "output_type": "stream",
     "text": [
      "Updating PHI and GAMMA: 100%|██████████| 100/100 [00:01<00:00, 87.45it/s]\n",
      "Updating LAMBDA: 100%|██████████| 5/5 [00:00<00:00, 101.96it/s]\n"
     ]
    },
    {
     "name": "stdout",
     "output_type": "stream",
     "text": [
      "Current ELBO: -83999.41159279073 | Change in ELBO: 19.34473695384804\n",
      "\n",
      "Iteration 36\n"
     ]
    },
    {
     "name": "stderr",
     "output_type": "stream",
     "text": [
      "Updating PHI and GAMMA: 100%|██████████| 100/100 [00:01<00:00, 83.48it/s]\n",
      "Updating LAMBDA: 100%|██████████| 5/5 [00:00<00:00, 77.47it/s]\n"
     ]
    },
    {
     "name": "stdout",
     "output_type": "stream",
     "text": [
      "Current ELBO: -83980.15374194203 | Change in ELBO: 19.257850848691305\n",
      "\n",
      "Iteration 37\n"
     ]
    },
    {
     "name": "stderr",
     "output_type": "stream",
     "text": [
      "Updating PHI and GAMMA: 100%|██████████| 100/100 [00:01<00:00, 88.46it/s]\n",
      "Updating LAMBDA: 100%|██████████| 5/5 [00:00<00:00, 100.48it/s]\n"
     ]
    },
    {
     "name": "stdout",
     "output_type": "stream",
     "text": [
      "Current ELBO: -83962.15802930365 | Change in ELBO: 17.99571263838152\n",
      "\n",
      "Iteration 38\n"
     ]
    },
    {
     "name": "stderr",
     "output_type": "stream",
     "text": [
      "Updating PHI and GAMMA: 100%|██████████| 100/100 [00:01<00:00, 90.23it/s]\n",
      "Updating LAMBDA: 100%|██████████| 5/5 [00:00<00:00, 94.58it/s]\n"
     ]
    },
    {
     "name": "stdout",
     "output_type": "stream",
     "text": [
      "Current ELBO: -83945.8597614056 | Change in ELBO: 16.298267898047925\n",
      "\n",
      "Iteration 39\n"
     ]
    },
    {
     "name": "stderr",
     "output_type": "stream",
     "text": [
      "Updating PHI and GAMMA: 100%|██████████| 100/100 [00:01<00:00, 89.22it/s]\n",
      "Updating LAMBDA: 100%|██████████| 5/5 [00:00<00:00, 77.75it/s]\n"
     ]
    },
    {
     "name": "stdout",
     "output_type": "stream",
     "text": [
      "Current ELBO: -83930.36725321967 | Change in ELBO: 15.492508185940096\n",
      "\n",
      "Iteration 40\n"
     ]
    },
    {
     "name": "stderr",
     "output_type": "stream",
     "text": [
      "Updating PHI and GAMMA: 100%|██████████| 100/100 [00:01<00:00, 86.84it/s]\n",
      "Updating LAMBDA: 100%|██████████| 5/5 [00:00<00:00, 100.91it/s]\n"
     ]
    },
    {
     "name": "stdout",
     "output_type": "stream",
     "text": [
      "Current ELBO: -83914.34193187526 | Change in ELBO: 16.02532134440844\n",
      "\n",
      "Iteration 41\n"
     ]
    },
    {
     "name": "stderr",
     "output_type": "stream",
     "text": [
      "Updating PHI and GAMMA: 100%|██████████| 100/100 [00:01<00:00, 83.93it/s]\n",
      "Updating LAMBDA: 100%|██████████| 5/5 [00:00<00:00, 90.80it/s]\n"
     ]
    },
    {
     "name": "stdout",
     "output_type": "stream",
     "text": [
      "Current ELBO: -83899.19457462478 | Change in ELBO: 15.147357250476489\n",
      "\n",
      "Iteration 42\n"
     ]
    },
    {
     "name": "stderr",
     "output_type": "stream",
     "text": [
      "Updating PHI and GAMMA: 100%|██████████| 100/100 [00:01<00:00, 93.55it/s]\n",
      "Updating LAMBDA: 100%|██████████| 5/5 [00:00<00:00, 92.80it/s]\n"
     ]
    },
    {
     "name": "stdout",
     "output_type": "stream",
     "text": [
      "Current ELBO: -83887.60768486385 | Change in ELBO: 11.586889760932536\n",
      "\n",
      "Iteration 43\n"
     ]
    },
    {
     "name": "stderr",
     "output_type": "stream",
     "text": [
      "Updating PHI and GAMMA: 100%|██████████| 100/100 [00:01<00:00, 62.26it/s]\n",
      "Updating LAMBDA: 100%|██████████| 5/5 [00:00<00:00, 77.49it/s]\n"
     ]
    },
    {
     "name": "stdout",
     "output_type": "stream",
     "text": [
      "Current ELBO: -83877.45878096568 | Change in ELBO: 10.148903898167191\n",
      "\n",
      "Iteration 44\n"
     ]
    },
    {
     "name": "stderr",
     "output_type": "stream",
     "text": [
      "Updating PHI and GAMMA: 100%|██████████| 100/100 [00:01<00:00, 88.32it/s]\n",
      "Updating LAMBDA: 100%|██████████| 5/5 [00:00<00:00, 100.77it/s]\n"
     ]
    },
    {
     "name": "stdout",
     "output_type": "stream",
     "text": [
      "Current ELBO: -83868.81716732838 | Change in ELBO: 8.641613637300907\n",
      "\n",
      "Iteration 45\n"
     ]
    },
    {
     "name": "stderr",
     "output_type": "stream",
     "text": [
      "Updating PHI and GAMMA: 100%|██████████| 100/100 [00:01<00:00, 85.11it/s]\n",
      "Updating LAMBDA: 100%|██████████| 5/5 [00:00<00:00, 88.15it/s]\n"
     ]
    },
    {
     "name": "stdout",
     "output_type": "stream",
     "text": [
      "Current ELBO: -83861.51046802083 | Change in ELBO: 7.306699307548115\n",
      "\n",
      "Iteration 46\n"
     ]
    },
    {
     "name": "stderr",
     "output_type": "stream",
     "text": [
      "Updating PHI and GAMMA: 100%|██████████| 100/100 [00:01<00:00, 88.01it/s]\n",
      "Updating LAMBDA: 100%|██████████| 5/5 [00:00<00:00, 95.86it/s]\n"
     ]
    },
    {
     "name": "stdout",
     "output_type": "stream",
     "text": [
      "Current ELBO: -83854.42241124243 | Change in ELBO: 7.08805677840428\n",
      "\n",
      "Iteration 47\n"
     ]
    },
    {
     "name": "stderr",
     "output_type": "stream",
     "text": [
      "Updating PHI and GAMMA: 100%|██████████| 100/100 [00:01<00:00, 90.95it/s]\n",
      "Updating LAMBDA: 100%|██████████| 5/5 [00:00<00:00, 88.79it/s]\n"
     ]
    },
    {
     "name": "stdout",
     "output_type": "stream",
     "text": [
      "Current ELBO: -83848.4985828893 | Change in ELBO: 5.923828353130375\n",
      "\n",
      "Iteration 48\n"
     ]
    },
    {
     "name": "stderr",
     "output_type": "stream",
     "text": [
      "Updating PHI and GAMMA: 100%|██████████| 100/100 [00:01<00:00, 92.92it/s]\n",
      "Updating LAMBDA: 100%|██████████| 5/5 [00:00<00:00, 72.07it/s]\n"
     ]
    },
    {
     "name": "stdout",
     "output_type": "stream",
     "text": [
      "Current ELBO: -83843.46883502824 | Change in ELBO: 5.02974786105915\n",
      "\n",
      "Iteration 49\n"
     ]
    },
    {
     "name": "stderr",
     "output_type": "stream",
     "text": [
      "Updating PHI and GAMMA: 100%|██████████| 100/100 [00:01<00:00, 88.19it/s]\n",
      "Updating LAMBDA: 100%|██████████| 5/5 [00:00<00:00, 91.87it/s]\n"
     ]
    },
    {
     "name": "stdout",
     "output_type": "stream",
     "text": [
      "Current ELBO: -83838.63603682265 | Change in ELBO: 4.832798205592553\n",
      "\n",
      "Iteration 50\n"
     ]
    },
    {
     "name": "stderr",
     "output_type": "stream",
     "text": [
      "Updating PHI and GAMMA: 100%|██████████| 100/100 [00:01<00:00, 93.26it/s]\n",
      "Updating LAMBDA: 100%|██████████| 5/5 [00:00<00:00, 75.77it/s]\n"
     ]
    },
    {
     "name": "stdout",
     "output_type": "stream",
     "text": [
      "Current ELBO: -83834.11040818048 | Change in ELBO: 4.52562864216452\n",
      "\n",
      "Iteration 51\n"
     ]
    },
    {
     "name": "stderr",
     "output_type": "stream",
     "text": [
      "Updating PHI and GAMMA: 100%|██████████| 100/100 [00:01<00:00, 86.04it/s]\n",
      "Updating LAMBDA: 100%|██████████| 5/5 [00:00<00:00, 82.82it/s]\n"
     ]
    },
    {
     "name": "stdout",
     "output_type": "stream",
     "text": [
      "Current ELBO: -83829.7301883209 | Change in ELBO: 4.380219859580393\n",
      "\n",
      "Iteration 52\n"
     ]
    },
    {
     "name": "stderr",
     "output_type": "stream",
     "text": [
      "Updating PHI and GAMMA: 100%|██████████| 100/100 [00:01<00:00, 92.84it/s]\n",
      "Updating LAMBDA: 100%|██████████| 5/5 [00:00<00:00, 96.95it/s]\n"
     ]
    },
    {
     "name": "stdout",
     "output_type": "stream",
     "text": [
      "Current ELBO: -83824.93467158792 | Change in ELBO: 4.795516732978285\n",
      "\n",
      "Iteration 53\n"
     ]
    },
    {
     "name": "stderr",
     "output_type": "stream",
     "text": [
      "Updating PHI and GAMMA: 100%|██████████| 100/100 [00:01<00:00, 88.57it/s]\n",
      "Updating LAMBDA: 100%|██████████| 5/5 [00:00<00:00, 65.32it/s]\n"
     ]
    },
    {
     "name": "stdout",
     "output_type": "stream",
     "text": [
      "Current ELBO: -83821.46683163967 | Change in ELBO: 3.467839948250912\n",
      "\n",
      "Iteration 54\n"
     ]
    },
    {
     "name": "stderr",
     "output_type": "stream",
     "text": [
      "Updating PHI and GAMMA: 100%|██████████| 100/100 [00:01<00:00, 79.28it/s]\n",
      "Updating LAMBDA: 100%|██████████| 5/5 [00:00<00:00, 90.54it/s]\n"
     ]
    },
    {
     "name": "stdout",
     "output_type": "stream",
     "text": [
      "Current ELBO: -83818.98157983902 | Change in ELBO: 2.485251800651895\n",
      "\n",
      "Iteration 55\n"
     ]
    },
    {
     "name": "stderr",
     "output_type": "stream",
     "text": [
      "Updating PHI and GAMMA: 100%|██████████| 100/100 [00:01<00:00, 89.30it/s]\n",
      "Updating LAMBDA: 100%|██████████| 5/5 [00:00<00:00, 79.52it/s]\n"
     ]
    },
    {
     "name": "stdout",
     "output_type": "stream",
     "text": [
      "Current ELBO: -83816.72954137439 | Change in ELBO: 2.252038464634097\n",
      "\n",
      "Iteration 56\n"
     ]
    },
    {
     "name": "stderr",
     "output_type": "stream",
     "text": [
      "Updating PHI and GAMMA: 100%|██████████| 100/100 [00:01<00:00, 85.81it/s]\n",
      "Updating LAMBDA: 100%|██████████| 5/5 [00:00<00:00, 84.00it/s]\n"
     ]
    },
    {
     "name": "stdout",
     "output_type": "stream",
     "text": [
      "Current ELBO: -83814.86022914638 | Change in ELBO: 1.8693122280092211\n",
      "\n",
      "Iteration 57\n"
     ]
    },
    {
     "name": "stderr",
     "output_type": "stream",
     "text": [
      "Updating PHI and GAMMA: 100%|██████████| 100/100 [00:01<00:00, 75.39it/s]\n",
      "Updating LAMBDA: 100%|██████████| 5/5 [00:00<00:00, 83.76it/s]\n"
     ]
    },
    {
     "name": "stdout",
     "output_type": "stream",
     "text": [
      "Current ELBO: -83812.97113071855 | Change in ELBO: 1.8890984278259566\n",
      "\n",
      "Iteration 58\n"
     ]
    },
    {
     "name": "stderr",
     "output_type": "stream",
     "text": [
      "Updating PHI and GAMMA: 100%|██████████| 100/100 [00:01<00:00, 84.89it/s]\n",
      "Updating LAMBDA: 100%|██████████| 5/5 [00:00<00:00, 86.23it/s]\n"
     ]
    },
    {
     "name": "stdout",
     "output_type": "stream",
     "text": [
      "Current ELBO: -83811.21481720869 | Change in ELBO: 1.7563135098607745\n",
      "\n",
      "Iteration 59\n"
     ]
    },
    {
     "name": "stderr",
     "output_type": "stream",
     "text": [
      "Updating PHI and GAMMA: 100%|██████████| 100/100 [00:01<00:00, 84.81it/s]\n",
      "Updating LAMBDA: 100%|██████████| 5/5 [00:00<00:00, 80.73it/s]\n"
     ]
    },
    {
     "name": "stdout",
     "output_type": "stream",
     "text": [
      "Current ELBO: -83809.85468947096 | Change in ELBO: 1.3601277377310907\n",
      "\n",
      "Iteration 60\n"
     ]
    },
    {
     "name": "stderr",
     "output_type": "stream",
     "text": [
      "Updating PHI and GAMMA: 100%|██████████| 100/100 [00:01<00:00, 84.61it/s]\n",
      "Updating LAMBDA: 100%|██████████| 5/5 [00:00<00:00, 96.53it/s]\n"
     ]
    },
    {
     "name": "stdout",
     "output_type": "stream",
     "text": [
      "Current ELBO: -83808.35096123196 | Change in ELBO: 1.5037282389967004\n",
      "\n",
      "Iteration 61\n"
     ]
    },
    {
     "name": "stderr",
     "output_type": "stream",
     "text": [
      "Updating PHI and GAMMA: 100%|██████████| 100/100 [00:01<00:00, 82.71it/s]\n",
      "Updating LAMBDA: 100%|██████████| 5/5 [00:00<00:00, 63.30it/s]\n"
     ]
    },
    {
     "name": "stdout",
     "output_type": "stream",
     "text": [
      "Current ELBO: -83806.42515444227 | Change in ELBO: 1.9258067896880675\n",
      "\n",
      "Iteration 62\n"
     ]
    },
    {
     "name": "stderr",
     "output_type": "stream",
     "text": [
      "Updating PHI and GAMMA: 100%|██████████| 100/100 [00:01<00:00, 78.90it/s]\n",
      "Updating LAMBDA: 100%|██████████| 5/5 [00:00<00:00, 98.94it/s]\n"
     ]
    },
    {
     "name": "stdout",
     "output_type": "stream",
     "text": [
      "Current ELBO: -83804.44521204126 | Change in ELBO: 1.9799424010125222\n",
      "\n",
      "Iteration 63\n"
     ]
    },
    {
     "name": "stderr",
     "output_type": "stream",
     "text": [
      "Updating PHI and GAMMA: 100%|██████████| 100/100 [00:01<00:00, 80.27it/s]\n",
      "Updating LAMBDA: 100%|██████████| 5/5 [00:00<00:00, 79.15it/s]\n"
     ]
    },
    {
     "name": "stdout",
     "output_type": "stream",
     "text": [
      "Current ELBO: -83802.86533697421 | Change in ELBO: 1.5798750670510344\n",
      "\n",
      "Iteration 64\n"
     ]
    },
    {
     "name": "stderr",
     "output_type": "stream",
     "text": [
      "Updating PHI and GAMMA: 100%|██████████| 100/100 [00:01<00:00, 82.52it/s]\n",
      "Updating LAMBDA: 100%|██████████| 5/5 [00:00<00:00, 77.21it/s]\n"
     ]
    },
    {
     "name": "stdout",
     "output_type": "stream",
     "text": [
      "Current ELBO: -83801.10604309788 | Change in ELBO: 1.75929387632641\n",
      "\n",
      "Iteration 65\n"
     ]
    },
    {
     "name": "stderr",
     "output_type": "stream",
     "text": [
      "Updating PHI and GAMMA: 100%|██████████| 100/100 [00:01<00:00, 83.63it/s]\n",
      "Updating LAMBDA: 100%|██████████| 5/5 [00:00<00:00, 93.35it/s]\n"
     ]
    },
    {
     "name": "stdout",
     "output_type": "stream",
     "text": [
      "Current ELBO: -83799.1431735242 | Change in ELBO: 1.9628695736901136\n",
      "\n",
      "Iteration 66\n"
     ]
    },
    {
     "name": "stderr",
     "output_type": "stream",
     "text": [
      "Updating PHI and GAMMA: 100%|██████████| 100/100 [00:01<00:00, 85.11it/s]\n",
      "Updating LAMBDA: 100%|██████████| 5/5 [00:00<00:00, 84.73it/s]\n"
     ]
    },
    {
     "name": "stdout",
     "output_type": "stream",
     "text": [
      "Current ELBO: -83797.38572697435 | Change in ELBO: 1.7574465498473728\n",
      "\n",
      "Iteration 67\n"
     ]
    },
    {
     "name": "stderr",
     "output_type": "stream",
     "text": [
      "Updating PHI and GAMMA: 100%|██████████| 100/100 [00:01<00:00, 83.30it/s]\n",
      "Updating LAMBDA: 100%|██████████| 5/5 [00:00<00:00, 73.58it/s]\n"
     ]
    },
    {
     "name": "stdout",
     "output_type": "stream",
     "text": [
      "Current ELBO: -83795.83073228212 | Change in ELBO: 1.5549946922255913\n",
      "\n",
      "Iteration 68\n"
     ]
    },
    {
     "name": "stderr",
     "output_type": "stream",
     "text": [
      "Updating PHI and GAMMA: 100%|██████████| 100/100 [00:01<00:00, 60.94it/s]\n",
      "Updating LAMBDA: 100%|██████████| 5/5 [00:00<00:00, 81.94it/s]\n"
     ]
    },
    {
     "name": "stdout",
     "output_type": "stream",
     "text": [
      "Current ELBO: -83794.72183909123 | Change in ELBO: 1.1088931908889208\n",
      "\n",
      "Iteration 69\n"
     ]
    },
    {
     "name": "stderr",
     "output_type": "stream",
     "text": [
      "Updating PHI and GAMMA: 100%|██████████| 100/100 [00:01<00:00, 83.07it/s]\n",
      "Updating LAMBDA: 100%|██████████| 5/5 [00:00<00:00, 80.25it/s]\n"
     ]
    },
    {
     "name": "stdout",
     "output_type": "stream",
     "text": [
      "Current ELBO: -83793.73229175387 | Change in ELBO: 0.9895473373617278\n",
      "\n",
      "Iteration 70\n"
     ]
    },
    {
     "name": "stderr",
     "output_type": "stream",
     "text": [
      "Updating PHI and GAMMA: 100%|██████████| 100/100 [00:01<00:00, 81.21it/s]\n",
      "Updating LAMBDA: 100%|██████████| 5/5 [00:00<00:00, 85.97it/s]\n"
     ]
    },
    {
     "name": "stdout",
     "output_type": "stream",
     "text": [
      "Current ELBO: -83792.66253593494 | Change in ELBO: 1.0697558189276606\n",
      "\n",
      "Iteration 71\n"
     ]
    },
    {
     "name": "stderr",
     "output_type": "stream",
     "text": [
      "Updating PHI and GAMMA: 100%|██████████| 100/100 [00:01<00:00, 87.68it/s]\n",
      "Updating LAMBDA: 100%|██████████| 5/5 [00:00<00:00, 82.67it/s]\n"
     ]
    },
    {
     "name": "stdout",
     "output_type": "stream",
     "text": [
      "Current ELBO: -83791.70974613863 | Change in ELBO: 0.9527897963125724\n",
      "\n",
      "Iteration 72\n"
     ]
    },
    {
     "name": "stderr",
     "output_type": "stream",
     "text": [
      "Updating PHI and GAMMA: 100%|██████████| 100/100 [00:01<00:00, 75.85it/s]\n",
      "Updating LAMBDA: 100%|██████████| 5/5 [00:00<00:00, 83.07it/s]\n"
     ]
    },
    {
     "name": "stdout",
     "output_type": "stream",
     "text": [
      "Current ELBO: -83791.44733255511 | Change in ELBO: 0.26241358352126554\n",
      "\n",
      "Iteration 73\n"
     ]
    },
    {
     "name": "stderr",
     "output_type": "stream",
     "text": [
      "Updating PHI and GAMMA: 100%|██████████| 100/100 [00:01<00:00, 84.04it/s]\n",
      "Updating LAMBDA: 100%|██████████| 5/5 [00:00<00:00, 88.17it/s]\n"
     ]
    },
    {
     "name": "stdout",
     "output_type": "stream",
     "text": [
      "Current ELBO: -83791.21274499106 | Change in ELBO: 0.23458756404579617\n",
      "\n",
      "Iteration 74\n"
     ]
    },
    {
     "name": "stderr",
     "output_type": "stream",
     "text": [
      "Updating PHI and GAMMA: 100%|██████████| 100/100 [00:01<00:00, 87.07it/s]\n",
      "Updating LAMBDA: 100%|██████████| 5/5 [00:00<00:00, 90.33it/s]\n"
     ]
    },
    {
     "name": "stdout",
     "output_type": "stream",
     "text": [
      "Current ELBO: -83790.60326349497 | Change in ELBO: 0.609481496096123\n",
      "\n",
      "Iteration 75\n"
     ]
    },
    {
     "name": "stderr",
     "output_type": "stream",
     "text": [
      "Updating PHI and GAMMA: 100%|██████████| 100/100 [00:01<00:00, 82.51it/s]\n",
      "Updating LAMBDA: 100%|██████████| 5/5 [00:00<00:00, 95.54it/s]\n"
     ]
    },
    {
     "name": "stdout",
     "output_type": "stream",
     "text": [
      "Current ELBO: -83789.3458462066 | Change in ELBO: 1.2574172883614665\n",
      "\n",
      "Iteration 76\n"
     ]
    },
    {
     "name": "stderr",
     "output_type": "stream",
     "text": [
      "Updating PHI and GAMMA: 100%|██████████| 100/100 [00:01<00:00, 86.91it/s]\n",
      "Updating LAMBDA: 100%|██████████| 5/5 [00:00<00:00, 81.32it/s]\n"
     ]
    },
    {
     "name": "stdout",
     "output_type": "stream",
     "text": [
      "Current ELBO: -83787.66239192744 | Change in ELBO: 1.683454279162106\n",
      "\n",
      "Iteration 77\n"
     ]
    },
    {
     "name": "stderr",
     "output_type": "stream",
     "text": [
      "Updating PHI and GAMMA: 100%|██████████| 100/100 [00:01<00:00, 77.63it/s]\n",
      "Updating LAMBDA: 100%|██████████| 5/5 [00:00<00:00, 102.61it/s]\n"
     ]
    },
    {
     "name": "stdout",
     "output_type": "stream",
     "text": [
      "Current ELBO: -83785.76552945959 | Change in ELBO: 1.8968624678527704\n",
      "\n",
      "Iteration 78\n"
     ]
    },
    {
     "name": "stderr",
     "output_type": "stream",
     "text": [
      "Updating PHI and GAMMA: 100%|██████████| 100/100 [00:01<00:00, 89.72it/s]\n",
      "Updating LAMBDA: 100%|██████████| 5/5 [00:00<00:00, 74.99it/s]\n"
     ]
    },
    {
     "name": "stdout",
     "output_type": "stream",
     "text": [
      "Current ELBO: -83783.33614822096 | Change in ELBO: 2.429381238631322\n",
      "\n",
      "Iteration 79\n"
     ]
    },
    {
     "name": "stderr",
     "output_type": "stream",
     "text": [
      "Updating PHI and GAMMA: 100%|██████████| 100/100 [00:01<00:00, 83.64it/s]\n",
      "Updating LAMBDA: 100%|██████████| 5/5 [00:00<00:00, 87.32it/s]\n"
     ]
    },
    {
     "name": "stdout",
     "output_type": "stream",
     "text": [
      "Current ELBO: -83780.71834748395 | Change in ELBO: 2.617800737003563\n",
      "\n",
      "Iteration 80\n"
     ]
    },
    {
     "name": "stderr",
     "output_type": "stream",
     "text": [
      "Updating PHI and GAMMA: 100%|██████████| 100/100 [00:01<00:00, 91.78it/s]\n",
      "Updating LAMBDA: 100%|██████████| 5/5 [00:00<00:00, 93.17it/s]\n"
     ]
    },
    {
     "name": "stdout",
     "output_type": "stream",
     "text": [
      "Current ELBO: -83779.41353991971 | Change in ELBO: 1.3048075642436743\n",
      "\n",
      "Iteration 81\n"
     ]
    },
    {
     "name": "stderr",
     "output_type": "stream",
     "text": [
      "Updating PHI and GAMMA: 100%|██████████| 100/100 [00:01<00:00, 90.03it/s]\n",
      "Updating LAMBDA: 100%|██████████| 5/5 [00:00<00:00, 105.03it/s]\n"
     ]
    },
    {
     "name": "stdout",
     "output_type": "stream",
     "text": [
      "Current ELBO: -83778.95757945876 | Change in ELBO: 0.4559604609530652\n",
      "\n",
      "Iteration 82\n"
     ]
    },
    {
     "name": "stderr",
     "output_type": "stream",
     "text": [
      "Updating PHI and GAMMA: 100%|██████████| 100/100 [00:01<00:00, 81.86it/s]\n",
      "Updating LAMBDA: 100%|██████████| 5/5 [00:00<00:00, 95.60it/s]\n"
     ]
    },
    {
     "name": "stdout",
     "output_type": "stream",
     "text": [
      "Current ELBO: -83778.68510888157 | Change in ELBO: 0.2724705771834124\n",
      "\n",
      "Iteration 83\n"
     ]
    },
    {
     "name": "stderr",
     "output_type": "stream",
     "text": [
      "Updating PHI and GAMMA: 100%|██████████| 100/100 [00:01<00:00, 81.87it/s]\n",
      "Updating LAMBDA: 100%|██████████| 5/5 [00:00<00:00, 80.12it/s]\n"
     ]
    },
    {
     "name": "stdout",
     "output_type": "stream",
     "text": [
      "Current ELBO: -83778.21196067045 | Change in ELBO: 0.47314821112377103\n",
      "\n",
      "Iteration 84\n"
     ]
    },
    {
     "name": "stderr",
     "output_type": "stream",
     "text": [
      "Updating PHI and GAMMA: 100%|██████████| 100/100 [00:01<00:00, 79.45it/s]\n",
      "Updating LAMBDA: 100%|██████████| 5/5 [00:00<00:00, 91.25it/s]\n"
     ]
    },
    {
     "name": "stdout",
     "output_type": "stream",
     "text": [
      "Current ELBO: -83777.74430933544 | Change in ELBO: 0.46765133501321543\n",
      "\n",
      "Iteration 85\n"
     ]
    },
    {
     "name": "stderr",
     "output_type": "stream",
     "text": [
      "Updating PHI and GAMMA: 100%|██████████| 100/100 [00:01<00:00, 83.05it/s]\n",
      "Updating LAMBDA: 100%|██████████| 5/5 [00:00<00:00, 94.77it/s]\n"
     ]
    },
    {
     "name": "stdout",
     "output_type": "stream",
     "text": [
      "Current ELBO: -83777.41415512837 | Change in ELBO: 0.3301542070694268\n",
      "\n",
      "Iteration 86\n"
     ]
    },
    {
     "name": "stderr",
     "output_type": "stream",
     "text": [
      "Updating PHI and GAMMA: 100%|██████████| 100/100 [00:01<00:00, 79.32it/s]\n",
      "Updating LAMBDA: 100%|██████████| 5/5 [00:00<00:00, 48.25it/s]\n"
     ]
    },
    {
     "name": "stdout",
     "output_type": "stream",
     "text": [
      "Current ELBO: -83777.21548046784 | Change in ELBO: 0.1986746605252847\n",
      "\n",
      "Iteration 87\n"
     ]
    },
    {
     "name": "stderr",
     "output_type": "stream",
     "text": [
      "Updating PHI and GAMMA: 100%|██████████| 100/100 [00:01<00:00, 82.91it/s]\n",
      "Updating LAMBDA: 100%|██████████| 5/5 [00:00<00:00, 72.74it/s]\n"
     ]
    },
    {
     "name": "stdout",
     "output_type": "stream",
     "text": [
      "Current ELBO: -83777.20375132769 | Change in ELBO: 0.011729140154784545\n",
      "\n",
      "Iteration 88\n"
     ]
    },
    {
     "name": "stderr",
     "output_type": "stream",
     "text": [
      "Updating PHI and GAMMA: 100%|██████████| 100/100 [00:01<00:00, 81.96it/s]\n",
      "Updating LAMBDA: 100%|██████████| 5/5 [00:00<00:00, 96.76it/s]\n"
     ]
    },
    {
     "name": "stdout",
     "output_type": "stream",
     "text": [
      "Current ELBO: -83777.19425318019 | Change in ELBO: 0.009498147497652099\n",
      "\n"
     ]
    },
    {
     "data": {
      "text/plain": [
       "[<matplotlib.lines.Line2D at 0x2ad518ab890>]"
      ]
     },
     "execution_count": 306,
     "metadata": {},
     "output_type": "execute_result"
    },
    {
     "data": {
      "image/png": "[encoded data removed]",
      "text/plain": [
       "<Figure size 640x480 with 1 Axes>"
      ]
     },
     "metadata": {},
     "output_type": "display_data"
    }
   ],
   "source": [
    "start = time.time()\n",
    "ELBOs = []\n",
    "prev_ELBO = -np.inf\n",
    "curr_ELBO = compute_ELBO(LAMBDA, GAMMA, PHI, documents, nonzero_idxs, K)\n",
    "ELBOs.append(curr_ELBO)\n",
    "print(f\"Initial ELBO: {ELBOs[0]}\\n\")\n",
    "\n",
    "max_iterations = 200\n",
    "tol = 10e-3\n",
    "LAMBDA_t = copy.deepcopy(LAMBDA)\n",
    "GAMMA_t = copy.deepcopy(GAMMA)\n",
    "PHI_t = copy.deepcopy(PHI)\n",
    "\n",
    "for t in range(max_iterations):\n",
    "    print(f\"Iteration {t+1}\")\n",
    "    for i in tqdm(range(N), desc=\"Updating PHI and GAMMA\"):\n",
    "        document = documents[i]\n",
    "        nonzero_idx = nonzero_idxs[i]\n",
    "        GAMMA_i_t = copy.deepcopy(GAMMA_t[i])\n",
    "        word_idx = 0\n",
    "        for idx in nonzero_idx:\n",
    "            log_PHI_ij = np.zeros((K,))\n",
    "            for k in range(K):\n",
    "                LAMBDA_k_t = copy.deepcopy(LAMBDA_t[k])\n",
    "                exp_propto = digamma(GAMMA_i_t[k]) - digamma(np.sum(GAMMA_i_t)) + digamma(LAMBDA_k_t[idx]) - digamma(np.sum(LAMBDA_k_t))\n",
    "                log_PHI_ij[k] = exp_propto\n",
    "            PHI_ij = np.exp(log_PHI_ij - log_sum_exp(log_PHI_ij))\n",
    "            PHI_t[i][word_idx] = PHI_ij\n",
    "            word_idx += 1\n",
    "        GAMMA_i_t = np.zeros((K,)) + ALPHA\n",
    "        for k in range(K):\n",
    "            GAMMA_i_t[k] += np.sum(document[nonzero_idx] * PHI_t[i][:, k])\n",
    "        GAMMA_t[i] = GAMMA_i_t\n",
    "\n",
    "    for k in tqdm(range(K), desc=\"Updating LAMBDA\"):\n",
    "        LAMBDA_k_t = np.zeros((V,)) + ETA\n",
    "        for i in range(N):\n",
    "            document = documents[i]\n",
    "            nonzero_idx = nonzero_idxs[i]\n",
    "            word_idx = 0\n",
    "            for idx in nonzero_idx:\n",
    "                LAMBDA_k_t[idx] += document[idx] * PHI_t[i][word_idx][k]\n",
    "                word_idx += 1\n",
    "            LAMBDA_t[k] = LAMBDA_k_t\n",
    "\n",
    "    prev_ELBO = curr_ELBO\n",
    "    curr_ELBO = compute_ELBO(LAMBDA_t, GAMMA_t, PHI_t, documents, nonzero_idxs, K)\n",
    "    ELBOs.append(curr_ELBO)\n",
    "    print(f\"Current ELBO: {curr_ELBO} | Change in ELBO: {curr_ELBO - prev_ELBO}\\n\")\n",
    "\n",
    "    if abs(curr_ELBO - prev_ELBO) < tol:\n",
    "        break\n",
    "stop = time.time()\n",
    "\n",
    "LAMBDA_final = copy.deepcopy(LAMBDA_t)\n",
    "GAMMA_final = copy.deepcopy(GAMMA_t)\n",
    "PHI_final = copy.deepcopy(PHI_t)\n",
    "\n",
    "plt.ticklabel_format(style=\"sci\", axis=\"y\", scilimits=(0, 0))\n",
    "plt.plot(np.linspace(0, stop-start, len(ELBOs)), ELBOs)"
   ]
  },
  {
   "cell_type": "code",
   "execution_count": 311,
   "metadata": {},
   "outputs": [
    {
     "data": {
      "text/plain": [
       "array([[3.11079641e-03, 2.02044487e-12, 1.68383310e-05, ...,\n",
       "        6.99792575e-08, 4.28355125e-09, 4.84892638e-06],\n",
       "       [2.36580830e-03, 4.71151982e-06, 7.91326928e-04, ...,\n",
       "        1.77770180e-02, 5.35095455e-03, 1.19138825e-06],\n",
       "       [7.73980813e-06, 4.85920271e-07, 8.88075744e-07, ...,\n",
       "        7.40971108e-04, 3.02261699e-09, 9.24746504e-08],\n",
       "       [9.90054133e-05, 2.02452363e-04, 1.49057674e-23, ...,\n",
       "        2.69753831e-04, 3.55299026e-16, 8.93598745e-24],\n",
       "       [4.68906722e-04, 3.14351322e-11, 1.42796402e-02, ...,\n",
       "        2.53746260e-08, 5.54358950e-06, 4.52155092e-05]])"
      ]
     },
     "execution_count": 311,
     "metadata": {},
     "output_type": "execute_result"
    }
   ],
   "source": [
    "BETA"
   ]
  },
  {
   "cell_type": "code",
   "execution_count": 310,
   "metadata": {},
   "outputs": [
    {
     "data": {
      "text/plain": [
       "array([[2.37395666e-05, 2.61012355e-04, 2.37310095e-05, ...,\n",
       "        2.37382354e-05, 2.39661308e-03, 2.37293082e-05],\n",
       "       [5.25232886e-05, 5.25069523e-05, 5.25071293e-05, ...,\n",
       "        5.25193593e-05, 5.25336005e-05, 5.24998370e-05],\n",
       "       [3.21486554e-05, 3.21454466e-05, 3.21425519e-05, ...,\n",
       "        3.21522940e-05, 3.21478309e-05, 3.21393135e-05],\n",
       "       [3.89179261e-03, 2.76043391e-05, 9.13614180e-03, ...,\n",
       "        1.18962806e-02, 2.76158982e-05, 2.76016757e-05],\n",
       "       [3.89779265e-05, 3.89618748e-05, 3.89678686e-05, ...,\n",
       "        3.89756908e-05, 3.89836588e-05, 3.89618730e-05]])"
      ]
     },
     "execution_count": 310,
     "metadata": {},
     "output_type": "execute_result"
    }
   ],
   "source": [
    "LAMBDA_norm = LAMBDA_final / np.sum(LAMBDA_final, axis=1, keepdims=True)\n",
    "LAMBDA_norm"
   ]
  }
 ],
 "metadata": {
  "kernelspec": {
   "display_name": "ht",
   "language": "python",
   "name": "python3"
  },
  "language_info": {
   "codemirror_mode": {
    "name": "ipython",
    "version": 3
   },
   "file_extension": ".py",
   "mimetype": "text/x-python",
   "name": "python",
   "nbconvert_exporter": "python",
   "pygments_lexer": "ipython3",
   "version": "3.13.0"
  }
 },
 "nbformat": 4,
 "nbformat_minor": 2
}
