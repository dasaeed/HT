{
 "cells": [
  {
   "cell_type": "code",
   "execution_count": 318,
   "metadata": {},
   "outputs": [],
   "source": [
    "import os\n",
    "import time\n",
    "import pandas as pd\n",
    "import numpy as np\n",
    "import numpy.random as npr\n",
    "import copy\n",
    "import re\n",
    "import nltk\n",
    "import matplotlib.pyplot as plt\n",
    "import pandas as pd\n",
    "from nltk.corpus import stopwords\n",
    "from nltk.tokenize import word_tokenize\n",
    "from collections import Counter\n",
    "from tqdm import tqdm\n",
    "from scipy.special import digamma, loggamma\n",
    "from scipy.sparse import csr_matrix\n",
    "from typing import List, Dict, Tuple, Set, Optional"
   ]
  },
  {
   "cell_type": "code",
   "execution_count": 319,
   "metadata": {},
   "outputs": [],
   "source": [
    "def log_sum_exp(vec):\n",
    "    vec_max = np.max(vec, axis=0)\n",
    "    exp_vec = np.exp(vec - vec_max)\n",
    "    sum_exp_vec = np.sum(exp_vec)\n",
    "    log_sum_exp = np.log(sum_exp_vec) + vec_max\n",
    "    return log_sum_exp\n",
    "\n",
    "def init_variational_params(documents, K):\n",
    "    N, V = documents.shape\n",
    "    LAMBDA = np.random.uniform(low=0.01, high=1.0, size=(K, V))\n",
    "    GAMMA = np.ones((N, K))\n",
    "    PHI = []\n",
    "    for document in documents:\n",
    "        M = np.sum((document > 0).astype(\"int32\"))\n",
    "        document_PHI = np.ones((M, K))\n",
    "        document_PHI = document_PHI / K\n",
    "        PHI.append(document_PHI)\n",
    "        \n",
    "    return LAMBDA, GAMMA, PHI\n",
    "\n",
    "def compute_ELBO(LAMBDA, GAMMA, PHI, documents, nonzero_idxs, K):\n",
    "    ELBO = 0\n",
    "    N, _ = documents.shape\n",
    "\n",
    "    E_log_p_BETA = np.sum((ETA-1) * (digamma(LAMBDA) - digamma(np.sum(LAMBDA, axis=1, keepdims=True))))\n",
    "    ELBO += E_log_p_BETA\n",
    "\n",
    "    E_log_p_THETA = np.sum((ALPHA-1) * (digamma(GAMMA) - digamma(np.sum(GAMMA, axis=1, keepdims=True))))\n",
    "    ELBO += E_log_p_THETA\n",
    "\n",
    "    E_log_p_x_z = 0\n",
    "    for i in range(N):\n",
    "        document = documents[i]\n",
    "        nonzero_idx = nonzero_idxs[i]\n",
    "        word_idx = 0\n",
    "        for idx in nonzero_idx:\n",
    "            E_log_p_x_z += document[idx] * np.sum(PHI[i][word_idx] * (digamma(GAMMA[i])-digamma(np.sum(GAMMA[i])))) \\\n",
    "                + document[idx] * np.sum(PHI[i][word_idx] * (digamma(LAMBDA[:, idx])-digamma(np.sum(LAMBDA, axis=1))))\n",
    "            word_idx += 1\n",
    "    ELBO += E_log_p_x_z\n",
    "\n",
    "    E_log_q_BETA = np.sum(-loggamma(np.sum(LAMBDA, axis=1)) + np.sum(loggamma(LAMBDA), axis=1) \\\n",
    "        - np.sum((LAMBDA - 1) * (digamma(LAMBDA) - digamma(np.sum(LAMBDA, axis=1, keepdims=True))), axis=1))\n",
    "    ELBO += E_log_q_BETA\n",
    "\n",
    "    E_log_q_THETA = np.sum(-loggamma(np.sum(GAMMA, axis=1)) + np.sum(loggamma(GAMMA), axis=1) \\\n",
    "        - np.sum((GAMMA - 1) * (digamma(GAMMA) - digamma(np.sum(GAMMA, axis=1, keepdims=True))), axis=1))\n",
    "    ELBO += E_log_q_THETA\n",
    "\n",
    "    E_log_q_z = 0\n",
    "    for i in range(N):\n",
    "        document = documents[i]\n",
    "        nonzero_idx = nonzero_idxs[i]\n",
    "        word_idx = 0\n",
    "        for idx in nonzero_idx:\n",
    "            E_log_q_z += -document[idx] * np.sum(PHI[i][word_idx] * np.log(PHI[i][word_idx]))\n",
    "            word_idx += 1\n",
    "    ELBO += E_log_q_z\n",
    "\n",
    "    return ELBO"
   ]
  },
  {
   "cell_type": "code",
   "execution_count": 341,
   "metadata": {},
   "outputs": [],
   "source": [
    "def simulate_LDA(N, avg_doc_length, K, V, ETA, ALPHA, rs_int=np.random.randint(low=0, high=100)):\n",
    "    rs = npr.RandomState(rs_int) \n",
    "    BETA = rs.dirichlet(np.full(V, ETA), size=K)\n",
    "    THETA = rs.dirichlet(np.full(K, ALPHA), size=N)\n",
    "    doc_lengths = rs.poisson(avg_doc_length, size=N)\n",
    "    \n",
    "    row_idxs = []\n",
    "    col_idxs = []\n",
    "    values = []\n",
    "    nonzero_idxs = []\n",
    "\n",
    "    for i in range(N):\n",
    "        doc_word_counts = np.zeros(V)\n",
    "        for _ in range(doc_lengths[i]):\n",
    "            z_ij = rs.choice(K, p=THETA[i])\n",
    "            x_ij = rs.choice(V, p=BETA[z_ij])\n",
    "            doc_word_counts[x_ij] += 1\n",
    "        doc_nonzero = np.nonzero(doc_word_counts)[0]\n",
    "        doc_nonzero = np.array(sorted(doc_nonzero))\n",
    "        nonzero_idxs.append(doc_nonzero)\n",
    "\n",
    "        row_idxs.extend([i] * len(doc_nonzero))\n",
    "        col_idxs.extend(doc_nonzero)\n",
    "        values.extend(doc_word_counts[doc_nonzero])\n",
    "    documents = csr_matrix((values, (row_idxs, col_idxs)), shape=(N, V)).toarray()\n",
    "    \n",
    "    return documents, nonzero_idxs, BETA, THETA"
   ]
  },
  {
   "cell_type": "code",
   "execution_count": 343,
   "metadata": {},
   "outputs": [],
   "source": [
    "N = 100\n",
    "avg_doc_length = 100\n",
    "K = 10\n",
    "V = 1000\n",
    "ETA = 100 / V\n",
    "ALPHA = 1 / K\n",
    "documents, nonzero_idxs, BETA, THETA = simulate_LDA(N, avg_doc_length, K, V, ETA, ALPHA)\n",
    "LAMBDA, GAMMA, PHI = init_variational_params(documents, K)"
   ]
  },
  {
   "cell_type": "code",
   "execution_count": 344,
   "metadata": {},
   "outputs": [
    {
     "name": "stdout",
     "output_type": "stream",
     "text": [
      "Initial ELBO: -101662.60548352466\n",
      "\n",
      "Iteration 1\n"
     ]
    },
    {
     "name": "stderr",
     "output_type": "stream",
     "text": [
      "Updating PHI and GAMMA: 100%|██████████| 100/100 [00:02<00:00, 49.04it/s]\n",
      "Updating LAMBDA: 100%|██████████| 10/10 [00:00<00:00, 106.74it/s]\n"
     ]
    },
    {
     "name": "stdout",
     "output_type": "stream",
     "text": [
      "Current ELBO: -58055.83904342602 | Change in ELBO: 43606.76644009864\n",
      "\n",
      "Iteration 2\n"
     ]
    },
    {
     "name": "stderr",
     "output_type": "stream",
     "text": [
      "Updating PHI and GAMMA: 100%|██████████| 100/100 [00:01<00:00, 54.56it/s]\n",
      "Updating LAMBDA: 100%|██████████| 10/10 [00:00<00:00, 106.45it/s]\n"
     ]
    },
    {
     "name": "stdout",
     "output_type": "stream",
     "text": [
      "Current ELBO: -57130.46900401279 | Change in ELBO: 925.370039413232\n",
      "\n",
      "Iteration 3\n"
     ]
    },
    {
     "name": "stderr",
     "output_type": "stream",
     "text": [
      "Updating PHI and GAMMA: 100%|██████████| 100/100 [00:01<00:00, 51.40it/s]\n",
      "Updating LAMBDA: 100%|██████████| 10/10 [00:00<00:00, 95.20it/s]\n"
     ]
    },
    {
     "name": "stdout",
     "output_type": "stream",
     "text": [
      "Current ELBO: -56185.511807514704 | Change in ELBO: 944.957196498086\n",
      "\n",
      "Iteration 4\n"
     ]
    },
    {
     "name": "stderr",
     "output_type": "stream",
     "text": [
      "Updating PHI and GAMMA: 100%|██████████| 100/100 [00:01<00:00, 52.70it/s]\n",
      "Updating LAMBDA: 100%|██████████| 10/10 [00:00<00:00, 102.25it/s]\n"
     ]
    },
    {
     "name": "stdout",
     "output_type": "stream",
     "text": [
      "Current ELBO: -55176.459017936104 | Change in ELBO: 1009.0527895785999\n",
      "\n",
      "Iteration 5\n"
     ]
    },
    {
     "name": "stderr",
     "output_type": "stream",
     "text": [
      "Updating PHI and GAMMA: 100%|██████████| 100/100 [00:02<00:00, 46.08it/s]\n",
      "Updating LAMBDA: 100%|██████████| 10/10 [00:00<00:00, 111.40it/s]\n"
     ]
    },
    {
     "name": "stdout",
     "output_type": "stream",
     "text": [
      "Current ELBO: -54057.65600585552 | Change in ELBO: 1118.8030120805852\n",
      "\n",
      "Iteration 6\n"
     ]
    },
    {
     "name": "stderr",
     "output_type": "stream",
     "text": [
      "Updating PHI and GAMMA: 100%|██████████| 100/100 [00:02<00:00, 49.11it/s]\n",
      "Updating LAMBDA: 100%|██████████| 10/10 [00:00<00:00, 103.60it/s]\n"
     ]
    },
    {
     "name": "stdout",
     "output_type": "stream",
     "text": [
      "Current ELBO: -52857.59988395906 | Change in ELBO: 1200.0561218964576\n",
      "\n",
      "Iteration 7\n"
     ]
    },
    {
     "name": "stderr",
     "output_type": "stream",
     "text": [
      "Updating PHI and GAMMA: 100%|██████████| 100/100 [00:01<00:00, 54.47it/s]\n",
      "Updating LAMBDA: 100%|██████████| 10/10 [00:00<00:00, 113.82it/s]\n"
     ]
    },
    {
     "name": "stdout",
     "output_type": "stream",
     "text": [
      "Current ELBO: -51718.70087135352 | Change in ELBO: 1138.8990126055432\n",
      "\n",
      "Iteration 8\n"
     ]
    },
    {
     "name": "stderr",
     "output_type": "stream",
     "text": [
      "Updating PHI and GAMMA: 100%|██████████| 100/100 [00:01<00:00, 56.30it/s]\n",
      "Updating LAMBDA: 100%|██████████| 10/10 [00:00<00:00, 112.97it/s]\n"
     ]
    },
    {
     "name": "stdout",
     "output_type": "stream",
     "text": [
      "Current ELBO: -50736.10772284792 | Change in ELBO: 982.593148505599\n",
      "\n",
      "Iteration 9\n"
     ]
    },
    {
     "name": "stderr",
     "output_type": "stream",
     "text": [
      "Updating PHI and GAMMA: 100%|██████████| 100/100 [00:01<00:00, 55.12it/s]\n",
      "Updating LAMBDA: 100%|██████████| 10/10 [00:00<00:00, 74.16it/s]\n"
     ]
    },
    {
     "name": "stdout",
     "output_type": "stream",
     "text": [
      "Current ELBO: -49964.09241119561 | Change in ELBO: 772.015311652307\n",
      "\n",
      "Iteration 10\n"
     ]
    },
    {
     "name": "stderr",
     "output_type": "stream",
     "text": [
      "Updating PHI and GAMMA: 100%|██████████| 100/100 [00:01<00:00, 55.56it/s]\n",
      "Updating LAMBDA: 100%|██████████| 10/10 [00:00<00:00, 121.64it/s]\n"
     ]
    },
    {
     "name": "stdout",
     "output_type": "stream",
     "text": [
      "Current ELBO: -49396.64827056596 | Change in ELBO: 567.4441406296537\n",
      "\n",
      "Iteration 11\n"
     ]
    },
    {
     "name": "stderr",
     "output_type": "stream",
     "text": [
      "Updating PHI and GAMMA: 100%|██████████| 100/100 [00:01<00:00, 52.26it/s]\n",
      "Updating LAMBDA: 100%|██████████| 10/10 [00:00<00:00, 79.64it/s]\n"
     ]
    },
    {
     "name": "stdout",
     "output_type": "stream",
     "text": [
      "Current ELBO: -48995.70468921037 | Change in ELBO: 400.94358135559014\n",
      "\n",
      "Iteration 12\n"
     ]
    },
    {
     "name": "stderr",
     "output_type": "stream",
     "text": [
      "Updating PHI and GAMMA: 100%|██████████| 100/100 [00:02<00:00, 48.90it/s]\n",
      "Updating LAMBDA: 100%|██████████| 10/10 [00:00<00:00, 106.28it/s]\n"
     ]
    },
    {
     "name": "stdout",
     "output_type": "stream",
     "text": [
      "Current ELBO: -48702.26286367045 | Change in ELBO: 293.4418255399214\n",
      "\n",
      "Iteration 13\n"
     ]
    },
    {
     "name": "stderr",
     "output_type": "stream",
     "text": [
      "Updating PHI and GAMMA: 100%|██████████| 100/100 [00:01<00:00, 51.20it/s]\n",
      "Updating LAMBDA: 100%|██████████| 10/10 [00:00<00:00, 103.13it/s]\n"
     ]
    },
    {
     "name": "stdout",
     "output_type": "stream",
     "text": [
      "Current ELBO: -48479.14573521453 | Change in ELBO: 223.11712845591683\n",
      "\n",
      "Iteration 14\n"
     ]
    },
    {
     "name": "stderr",
     "output_type": "stream",
     "text": [
      "Updating PHI and GAMMA: 100%|██████████| 100/100 [00:02<00:00, 49.82it/s]\n",
      "Updating LAMBDA: 100%|██████████| 10/10 [00:00<00:00, 101.25it/s]\n"
     ]
    },
    {
     "name": "stdout",
     "output_type": "stream",
     "text": [
      "Current ELBO: -48310.47473316223 | Change in ELBO: 168.67100205230236\n",
      "\n",
      "Iteration 15\n"
     ]
    },
    {
     "name": "stderr",
     "output_type": "stream",
     "text": [
      "Updating PHI and GAMMA: 100%|██████████| 100/100 [00:02<00:00, 44.33it/s]\n",
      "Updating LAMBDA: 100%|██████████| 10/10 [00:00<00:00, 82.91it/s]\n"
     ]
    },
    {
     "name": "stdout",
     "output_type": "stream",
     "text": [
      "Current ELBO: -48184.946995733866 | Change in ELBO: 125.52773742836143\n",
      "\n",
      "Iteration 16\n"
     ]
    },
    {
     "name": "stderr",
     "output_type": "stream",
     "text": [
      "Updating PHI and GAMMA: 100%|██████████| 100/100 [00:02<00:00, 47.82it/s]\n",
      "Updating LAMBDA: 100%|██████████| 10/10 [00:00<00:00, 73.19it/s]\n"
     ]
    },
    {
     "name": "stdout",
     "output_type": "stream",
     "text": [
      "Current ELBO: -48091.818628338326 | Change in ELBO: 93.12836739554041\n",
      "\n",
      "Iteration 17\n"
     ]
    },
    {
     "name": "stderr",
     "output_type": "stream",
     "text": [
      "Updating PHI and GAMMA: 100%|██████████| 100/100 [00:02<00:00, 47.21it/s]\n",
      "Updating LAMBDA: 100%|██████████| 10/10 [00:00<00:00, 86.85it/s]\n"
     ]
    },
    {
     "name": "stdout",
     "output_type": "stream",
     "text": [
      "Current ELBO: -48018.000046879955 | Change in ELBO: 73.81858145837032\n",
      "\n",
      "Iteration 18\n"
     ]
    },
    {
     "name": "stderr",
     "output_type": "stream",
     "text": [
      "Updating PHI and GAMMA: 100%|██████████| 100/100 [00:02<00:00, 49.13it/s]\n",
      "Updating LAMBDA: 100%|██████████| 10/10 [00:00<00:00, 72.44it/s]\n"
     ]
    },
    {
     "name": "stdout",
     "output_type": "stream",
     "text": [
      "Current ELBO: -47956.74715977109 | Change in ELBO: 61.25288710886525\n",
      "\n",
      "Iteration 19\n"
     ]
    },
    {
     "name": "stderr",
     "output_type": "stream",
     "text": [
      "Updating PHI and GAMMA: 100%|██████████| 100/100 [00:02<00:00, 48.69it/s]\n",
      "Updating LAMBDA: 100%|██████████| 10/10 [00:00<00:00, 97.38it/s]\n"
     ]
    },
    {
     "name": "stdout",
     "output_type": "stream",
     "text": [
      "Current ELBO: -47909.78962159606 | Change in ELBO: 46.95753817503282\n",
      "\n",
      "Iteration 20\n"
     ]
    },
    {
     "name": "stderr",
     "output_type": "stream",
     "text": [
      "Updating PHI and GAMMA: 100%|██████████| 100/100 [00:02<00:00, 47.56it/s]\n",
      "Updating LAMBDA: 100%|██████████| 10/10 [00:00<00:00, 120.32it/s]\n"
     ]
    },
    {
     "name": "stdout",
     "output_type": "stream",
     "text": [
      "Current ELBO: -47875.94090864625 | Change in ELBO: 33.84871294980985\n",
      "\n",
      "Iteration 21\n"
     ]
    },
    {
     "name": "stderr",
     "output_type": "stream",
     "text": [
      "Updating PHI and GAMMA: 100%|██████████| 100/100 [00:02<00:00, 42.46it/s]\n",
      "Updating LAMBDA: 100%|██████████| 10/10 [00:00<00:00, 67.42it/s]\n"
     ]
    },
    {
     "name": "stdout",
     "output_type": "stream",
     "text": [
      "Current ELBO: -47851.90697877799 | Change in ELBO: 24.033929868259293\n",
      "\n",
      "Iteration 22\n"
     ]
    },
    {
     "name": "stderr",
     "output_type": "stream",
     "text": [
      "Updating PHI and GAMMA: 100%|██████████| 100/100 [00:02<00:00, 49.53it/s]\n",
      "Updating LAMBDA: 100%|██████████| 10/10 [00:00<00:00, 97.08it/s]\n"
     ]
    },
    {
     "name": "stdout",
     "output_type": "stream",
     "text": [
      "Current ELBO: -47832.67784182956 | Change in ELBO: 19.229136948430096\n",
      "\n",
      "Iteration 23\n"
     ]
    },
    {
     "name": "stderr",
     "output_type": "stream",
     "text": [
      "Updating PHI and GAMMA: 100%|██████████| 100/100 [00:02<00:00, 44.75it/s]\n",
      "Updating LAMBDA: 100%|██████████| 10/10 [00:00<00:00, 113.56it/s]\n"
     ]
    },
    {
     "name": "stdout",
     "output_type": "stream",
     "text": [
      "Current ELBO: -47815.681560552766 | Change in ELBO: 16.996281276791706\n",
      "\n",
      "Iteration 24\n"
     ]
    },
    {
     "name": "stderr",
     "output_type": "stream",
     "text": [
      "Updating PHI and GAMMA: 100%|██████████| 100/100 [00:02<00:00, 44.68it/s]\n",
      "Updating LAMBDA: 100%|██████████| 10/10 [00:00<00:00, 89.83it/s]\n"
     ]
    },
    {
     "name": "stdout",
     "output_type": "stream",
     "text": [
      "Current ELBO: -47800.536242304705 | Change in ELBO: 15.145318248061812\n",
      "\n",
      "Iteration 25\n"
     ]
    },
    {
     "name": "stderr",
     "output_type": "stream",
     "text": [
      "Updating PHI and GAMMA: 100%|██████████| 100/100 [00:02<00:00, 48.32it/s]\n",
      "Updating LAMBDA: 100%|██████████| 10/10 [00:00<00:00, 117.09it/s]\n"
     ]
    },
    {
     "name": "stdout",
     "output_type": "stream",
     "text": [
      "Current ELBO: -47786.21163696736 | Change in ELBO: 14.32460533734411\n",
      "\n",
      "Iteration 26\n"
     ]
    },
    {
     "name": "stderr",
     "output_type": "stream",
     "text": [
      "Updating PHI and GAMMA: 100%|██████████| 100/100 [00:02<00:00, 43.77it/s]\n",
      "Updating LAMBDA: 100%|██████████| 10/10 [00:00<00:00, 73.46it/s]\n"
     ]
    },
    {
     "name": "stdout",
     "output_type": "stream",
     "text": [
      "Current ELBO: -47772.316694767615 | Change in ELBO: 13.894942199745856\n",
      "\n",
      "Iteration 27\n"
     ]
    },
    {
     "name": "stderr",
     "output_type": "stream",
     "text": [
      "Updating PHI and GAMMA: 100%|██████████| 100/100 [00:02<00:00, 46.97it/s]\n",
      "Updating LAMBDA: 100%|██████████| 10/10 [00:00<00:00, 49.16it/s]\n"
     ]
    },
    {
     "name": "stdout",
     "output_type": "stream",
     "text": [
      "Current ELBO: -47760.04779317304 | Change in ELBO: 12.268901594572526\n",
      "\n",
      "Iteration 28\n"
     ]
    },
    {
     "name": "stderr",
     "output_type": "stream",
     "text": [
      "Updating PHI and GAMMA: 100%|██████████| 100/100 [00:02<00:00, 46.44it/s]\n",
      "Updating LAMBDA: 100%|██████████| 10/10 [00:00<00:00, 116.40it/s]\n"
     ]
    },
    {
     "name": "stdout",
     "output_type": "stream",
     "text": [
      "Current ELBO: -47749.227173632215 | Change in ELBO: 10.820619540827465\n",
      "\n",
      "Iteration 29\n"
     ]
    },
    {
     "name": "stderr",
     "output_type": "stream",
     "text": [
      "Updating PHI and GAMMA: 100%|██████████| 100/100 [00:02<00:00, 47.22it/s]\n",
      "Updating LAMBDA: 100%|██████████| 10/10 [00:00<00:00, 96.22it/s]\n"
     ]
    },
    {
     "name": "stdout",
     "output_type": "stream",
     "text": [
      "Current ELBO: -47740.09071373901 | Change in ELBO: 9.136459893205028\n",
      "\n",
      "Iteration 30\n"
     ]
    },
    {
     "name": "stderr",
     "output_type": "stream",
     "text": [
      "Updating PHI and GAMMA: 100%|██████████| 100/100 [00:02<00:00, 49.36it/s]\n",
      "Updating LAMBDA: 100%|██████████| 10/10 [00:00<00:00, 89.40it/s]\n"
     ]
    },
    {
     "name": "stdout",
     "output_type": "stream",
     "text": [
      "Current ELBO: -47732.71414700028 | Change in ELBO: 7.376566738726979\n",
      "\n",
      "Iteration 31\n"
     ]
    },
    {
     "name": "stderr",
     "output_type": "stream",
     "text": [
      "Updating PHI and GAMMA: 100%|██████████| 100/100 [00:02<00:00, 42.94it/s]\n",
      "Updating LAMBDA: 100%|██████████| 10/10 [00:00<00:00, 83.10it/s]\n"
     ]
    },
    {
     "name": "stdout",
     "output_type": "stream",
     "text": [
      "Current ELBO: -47727.2742940683 | Change in ELBO: 5.4398529319805675\n",
      "\n",
      "Iteration 32\n"
     ]
    },
    {
     "name": "stderr",
     "output_type": "stream",
     "text": [
      "Updating PHI and GAMMA: 100%|██████████| 100/100 [00:01<00:00, 50.16it/s]\n",
      "Updating LAMBDA: 100%|██████████| 10/10 [00:00<00:00, 114.77it/s]\n"
     ]
    },
    {
     "name": "stdout",
     "output_type": "stream",
     "text": [
      "Current ELBO: -47721.88059145385 | Change in ELBO: 5.393702614448557\n",
      "\n",
      "Iteration 33\n"
     ]
    },
    {
     "name": "stderr",
     "output_type": "stream",
     "text": [
      "Updating PHI and GAMMA: 100%|██████████| 100/100 [00:02<00:00, 49.67it/s]\n",
      "Updating LAMBDA: 100%|██████████| 10/10 [00:00<00:00, 115.09it/s]\n"
     ]
    },
    {
     "name": "stdout",
     "output_type": "stream",
     "text": [
      "Current ELBO: -47716.64572220684 | Change in ELBO: 5.234869247011375\n",
      "\n",
      "Iteration 34\n"
     ]
    },
    {
     "name": "stderr",
     "output_type": "stream",
     "text": [
      "Updating PHI and GAMMA: 100%|██████████| 100/100 [00:01<00:00, 55.65it/s]\n",
      "Updating LAMBDA: 100%|██████████| 10/10 [00:00<00:00, 115.98it/s]\n"
     ]
    },
    {
     "name": "stdout",
     "output_type": "stream",
     "text": [
      "Current ELBO: -47713.02329911242 | Change in ELBO: 3.6224230944208102\n",
      "\n",
      "Iteration 35\n"
     ]
    },
    {
     "name": "stderr",
     "output_type": "stream",
     "text": [
      "Updating PHI and GAMMA: 100%|██████████| 100/100 [00:01<00:00, 53.99it/s]\n",
      "Updating LAMBDA: 100%|██████████| 10/10 [00:00<00:00, 79.01it/s]\n"
     ]
    },
    {
     "name": "stdout",
     "output_type": "stream",
     "text": [
      "Current ELBO: -47710.821084129224 | Change in ELBO: 2.2022149831973366\n",
      "\n",
      "Iteration 36\n"
     ]
    },
    {
     "name": "stderr",
     "output_type": "stream",
     "text": [
      "Updating PHI and GAMMA: 100%|██████████| 100/100 [00:01<00:00, 50.89it/s]\n",
      "Updating LAMBDA: 100%|██████████| 10/10 [00:00<00:00, 121.31it/s]\n"
     ]
    },
    {
     "name": "stdout",
     "output_type": "stream",
     "text": [
      "Current ELBO: -47708.535651801125 | Change in ELBO: 2.2854323280989775\n",
      "\n",
      "Iteration 37\n"
     ]
    },
    {
     "name": "stderr",
     "output_type": "stream",
     "text": [
      "Updating PHI and GAMMA: 100%|██████████| 100/100 [00:01<00:00, 50.38it/s]\n",
      "Updating LAMBDA: 100%|██████████| 10/10 [00:00<00:00, 116.47it/s]\n"
     ]
    },
    {
     "name": "stdout",
     "output_type": "stream",
     "text": [
      "Current ELBO: -47706.51097304074 | Change in ELBO: 2.0246787603828125\n",
      "\n",
      "Iteration 38\n"
     ]
    },
    {
     "name": "stderr",
     "output_type": "stream",
     "text": [
      "Updating PHI and GAMMA: 100%|██████████| 100/100 [00:01<00:00, 55.29it/s]\n",
      "Updating LAMBDA: 100%|██████████| 10/10 [00:00<00:00, 111.38it/s]\n"
     ]
    },
    {
     "name": "stdout",
     "output_type": "stream",
     "text": [
      "Current ELBO: -47705.15558164796 | Change in ELBO: 1.3553913927826216\n",
      "\n",
      "Iteration 39\n"
     ]
    },
    {
     "name": "stderr",
     "output_type": "stream",
     "text": [
      "Updating PHI and GAMMA: 100%|██████████| 100/100 [00:01<00:00, 56.66it/s]\n",
      "Updating LAMBDA: 100%|██████████| 10/10 [00:00<00:00, 108.84it/s]\n"
     ]
    },
    {
     "name": "stdout",
     "output_type": "stream",
     "text": [
      "Current ELBO: -47704.09460150503 | Change in ELBO: 1.06098014293093\n",
      "\n",
      "Iteration 40\n"
     ]
    },
    {
     "name": "stderr",
     "output_type": "stream",
     "text": [
      "Updating PHI and GAMMA: 100%|██████████| 100/100 [00:02<00:00, 47.77it/s]\n",
      "Updating LAMBDA: 100%|██████████| 10/10 [00:00<00:00, 111.27it/s]\n"
     ]
    },
    {
     "name": "stdout",
     "output_type": "stream",
     "text": [
      "Current ELBO: -47702.96316959717 | Change in ELBO: 1.1314319078592234\n",
      "\n",
      "Iteration 41\n"
     ]
    },
    {
     "name": "stderr",
     "output_type": "stream",
     "text": [
      "Updating PHI and GAMMA: 100%|██████████| 100/100 [00:01<00:00, 50.38it/s]\n",
      "Updating LAMBDA: 100%|██████████| 10/10 [00:00<00:00, 107.03it/s]\n"
     ]
    },
    {
     "name": "stdout",
     "output_type": "stream",
     "text": [
      "Current ELBO: -47701.73340653411 | Change in ELBO: 1.2297630630564527\n",
      "\n",
      "Iteration 42\n"
     ]
    },
    {
     "name": "stderr",
     "output_type": "stream",
     "text": [
      "Updating PHI and GAMMA: 100%|██████████| 100/100 [00:02<00:00, 48.83it/s]\n",
      "Updating LAMBDA: 100%|██████████| 10/10 [00:00<00:00, 93.16it/s]\n"
     ]
    },
    {
     "name": "stdout",
     "output_type": "stream",
     "text": [
      "Current ELBO: -47700.13695182483 | Change in ELBO: 1.5964547092808061\n",
      "\n",
      "Iteration 43\n"
     ]
    },
    {
     "name": "stderr",
     "output_type": "stream",
     "text": [
      "Updating PHI and GAMMA: 100%|██████████| 100/100 [00:02<00:00, 48.11it/s]\n",
      "Updating LAMBDA: 100%|██████████| 10/10 [00:00<00:00, 110.98it/s]\n"
     ]
    },
    {
     "name": "stdout",
     "output_type": "stream",
     "text": [
      "Current ELBO: -47698.809471855595 | Change in ELBO: 1.3274799692371744\n",
      "\n",
      "Iteration 44\n"
     ]
    },
    {
     "name": "stderr",
     "output_type": "stream",
     "text": [
      "Updating PHI and GAMMA: 100%|██████████| 100/100 [00:02<00:00, 44.82it/s]\n",
      "Updating LAMBDA: 100%|██████████| 10/10 [00:00<00:00, 87.31it/s]\n"
     ]
    },
    {
     "name": "stdout",
     "output_type": "stream",
     "text": [
      "Current ELBO: -47697.33235247482 | Change in ELBO: 1.477119380775548\n",
      "\n",
      "Iteration 45\n"
     ]
    },
    {
     "name": "stderr",
     "output_type": "stream",
     "text": [
      "Updating PHI and GAMMA: 100%|██████████| 100/100 [00:02<00:00, 46.78it/s]\n",
      "Updating LAMBDA: 100%|██████████| 10/10 [00:00<00:00, 98.79it/s]\n"
     ]
    },
    {
     "name": "stdout",
     "output_type": "stream",
     "text": [
      "Current ELBO: -47695.485616870996 | Change in ELBO: 1.8467356038236176\n",
      "\n",
      "Iteration 46\n"
     ]
    },
    {
     "name": "stderr",
     "output_type": "stream",
     "text": [
      "Updating PHI and GAMMA: 100%|██████████| 100/100 [00:01<00:00, 50.36it/s]\n",
      "Updating LAMBDA: 100%|██████████| 10/10 [00:00<00:00, 90.37it/s]\n"
     ]
    },
    {
     "name": "stdout",
     "output_type": "stream",
     "text": [
      "Current ELBO: -47694.29690322022 | Change in ELBO: 1.1887136507721152\n",
      "\n",
      "Iteration 47\n"
     ]
    },
    {
     "name": "stderr",
     "output_type": "stream",
     "text": [
      "Updating PHI and GAMMA: 100%|██████████| 100/100 [00:01<00:00, 51.96it/s]\n",
      "Updating LAMBDA: 100%|██████████| 10/10 [00:00<00:00, 122.65it/s]\n"
     ]
    },
    {
     "name": "stdout",
     "output_type": "stream",
     "text": [
      "Current ELBO: -47693.57731840145 | Change in ELBO: 0.7195848187766387\n",
      "\n",
      "Iteration 48\n"
     ]
    },
    {
     "name": "stderr",
     "output_type": "stream",
     "text": [
      "Updating PHI and GAMMA: 100%|██████████| 100/100 [00:01<00:00, 54.35it/s]\n",
      "Updating LAMBDA: 100%|██████████| 10/10 [00:00<00:00, 105.60it/s]\n"
     ]
    },
    {
     "name": "stdout",
     "output_type": "stream",
     "text": [
      "Current ELBO: -47693.05491390274 | Change in ELBO: 0.5224044987044181\n",
      "\n",
      "Iteration 49\n"
     ]
    },
    {
     "name": "stderr",
     "output_type": "stream",
     "text": [
      "Updating PHI and GAMMA: 100%|██████████| 100/100 [00:01<00:00, 50.53it/s]\n",
      "Updating LAMBDA: 100%|██████████| 10/10 [00:00<00:00, 100.42it/s]\n"
     ]
    },
    {
     "name": "stdout",
     "output_type": "stream",
     "text": [
      "Current ELBO: -47692.31331837263 | Change in ELBO: 0.7415955301112263\n",
      "\n",
      "Iteration 50\n"
     ]
    },
    {
     "name": "stderr",
     "output_type": "stream",
     "text": [
      "Updating PHI and GAMMA: 100%|██████████| 100/100 [00:01<00:00, 53.54it/s]\n",
      "Updating LAMBDA: 100%|██████████| 10/10 [00:00<00:00, 103.47it/s]\n"
     ]
    },
    {
     "name": "stdout",
     "output_type": "stream",
     "text": [
      "Current ELBO: -47691.61693464774 | Change in ELBO: 0.6963837248913478\n",
      "\n",
      "Iteration 51\n"
     ]
    },
    {
     "name": "stderr",
     "output_type": "stream",
     "text": [
      "Updating PHI and GAMMA: 100%|██████████| 100/100 [00:01<00:00, 50.16it/s]\n",
      "Updating LAMBDA: 100%|██████████| 10/10 [00:00<00:00, 105.43it/s]\n"
     ]
    },
    {
     "name": "stdout",
     "output_type": "stream",
     "text": [
      "Current ELBO: -47690.811981881336 | Change in ELBO: 0.8049527664043126\n",
      "\n",
      "Iteration 52\n"
     ]
    },
    {
     "name": "stderr",
     "output_type": "stream",
     "text": [
      "Updating PHI and GAMMA: 100%|██████████| 100/100 [00:01<00:00, 50.99it/s]\n",
      "Updating LAMBDA: 100%|██████████| 10/10 [00:00<00:00, 111.05it/s]\n"
     ]
    },
    {
     "name": "stdout",
     "output_type": "stream",
     "text": [
      "Current ELBO: -47689.78129730984 | Change in ELBO: 1.0306845714949304\n",
      "\n",
      "Iteration 53\n"
     ]
    },
    {
     "name": "stderr",
     "output_type": "stream",
     "text": [
      "Updating PHI and GAMMA: 100%|██████████| 100/100 [00:01<00:00, 51.18it/s]\n",
      "Updating LAMBDA: 100%|██████████| 10/10 [00:00<00:00, 115.55it/s]\n"
     ]
    },
    {
     "name": "stdout",
     "output_type": "stream",
     "text": [
      "Current ELBO: -47688.927396733874 | Change in ELBO: 0.8539005759666907\n",
      "\n",
      "Iteration 54\n"
     ]
    },
    {
     "name": "stderr",
     "output_type": "stream",
     "text": [
      "Updating PHI and GAMMA: 100%|██████████| 100/100 [00:02<00:00, 48.90it/s]\n",
      "Updating LAMBDA: 100%|██████████| 10/10 [00:00<00:00, 69.57it/s]\n"
     ]
    },
    {
     "name": "stdout",
     "output_type": "stream",
     "text": [
      "Current ELBO: -47687.905743163916 | Change in ELBO: 1.0216535699582892\n",
      "\n",
      "Iteration 55\n"
     ]
    },
    {
     "name": "stderr",
     "output_type": "stream",
     "text": [
      "Updating PHI and GAMMA: 100%|██████████| 100/100 [00:02<00:00, 49.64it/s]\n",
      "Updating LAMBDA: 100%|██████████| 10/10 [00:00<00:00, 117.94it/s]\n"
     ]
    },
    {
     "name": "stdout",
     "output_type": "stream",
     "text": [
      "Current ELBO: -47686.34957095095 | Change in ELBO: 1.5561722129641566\n",
      "\n",
      "Iteration 56\n"
     ]
    },
    {
     "name": "stderr",
     "output_type": "stream",
     "text": [
      "Updating PHI and GAMMA: 100%|██████████| 100/100 [00:01<00:00, 51.72it/s]\n",
      "Updating LAMBDA: 100%|██████████| 10/10 [00:00<00:00, 116.01it/s]\n"
     ]
    },
    {
     "name": "stdout",
     "output_type": "stream",
     "text": [
      "Current ELBO: -47685.49212418714 | Change in ELBO: 0.8574467638100032\n",
      "\n",
      "Iteration 57\n"
     ]
    },
    {
     "name": "stderr",
     "output_type": "stream",
     "text": [
      "Updating PHI and GAMMA: 100%|██████████| 100/100 [00:01<00:00, 52.72it/s]\n",
      "Updating LAMBDA: 100%|██████████| 10/10 [00:00<00:00, 71.17it/s]\n"
     ]
    },
    {
     "name": "stdout",
     "output_type": "stream",
     "text": [
      "Current ELBO: -47684.88432781844 | Change in ELBO: 0.6077963686984731\n",
      "\n",
      "Iteration 58\n"
     ]
    },
    {
     "name": "stderr",
     "output_type": "stream",
     "text": [
      "Updating PHI and GAMMA: 100%|██████████| 100/100 [00:01<00:00, 54.58it/s]\n",
      "Updating LAMBDA: 100%|██████████| 10/10 [00:00<00:00, 92.22it/s]\n"
     ]
    },
    {
     "name": "stdout",
     "output_type": "stream",
     "text": [
      "Current ELBO: -47684.261880133025 | Change in ELBO: 0.6224476854185923\n",
      "\n",
      "Iteration 59\n"
     ]
    },
    {
     "name": "stderr",
     "output_type": "stream",
     "text": [
      "Updating PHI and GAMMA: 100%|██████████| 100/100 [00:01<00:00, 53.08it/s]\n",
      "Updating LAMBDA: 100%|██████████| 10/10 [00:00<00:00, 120.25it/s]\n"
     ]
    },
    {
     "name": "stdout",
     "output_type": "stream",
     "text": [
      "Current ELBO: -47683.87269904563 | Change in ELBO: 0.3891810873974464\n",
      "\n",
      "Iteration 60\n"
     ]
    },
    {
     "name": "stderr",
     "output_type": "stream",
     "text": [
      "Updating PHI and GAMMA: 100%|██████████| 100/100 [00:01<00:00, 56.45it/s]\n",
      "Updating LAMBDA: 100%|██████████| 10/10 [00:00<00:00, 112.73it/s]\n"
     ]
    },
    {
     "name": "stdout",
     "output_type": "stream",
     "text": [
      "Current ELBO: -47683.27121565322 | Change in ELBO: 0.6014833924054983\n",
      "\n",
      "Iteration 61\n"
     ]
    },
    {
     "name": "stderr",
     "output_type": "stream",
     "text": [
      "Updating PHI and GAMMA: 100%|██████████| 100/100 [00:01<00:00, 55.06it/s]\n",
      "Updating LAMBDA: 100%|██████████| 10/10 [00:00<00:00, 97.49it/s]\n"
     ]
    },
    {
     "name": "stdout",
     "output_type": "stream",
     "text": [
      "Current ELBO: -47682.480137844876 | Change in ELBO: 0.7910778083460173\n",
      "\n",
      "Iteration 62\n"
     ]
    },
    {
     "name": "stderr",
     "output_type": "stream",
     "text": [
      "Updating PHI and GAMMA: 100%|██████████| 100/100 [00:01<00:00, 56.24it/s]\n",
      "Updating LAMBDA: 100%|██████████| 10/10 [00:00<00:00, 127.17it/s]\n"
     ]
    },
    {
     "name": "stdout",
     "output_type": "stream",
     "text": [
      "Current ELBO: -47681.742900089645 | Change in ELBO: 0.7372377552310354\n",
      "\n",
      "Iteration 63\n"
     ]
    },
    {
     "name": "stderr",
     "output_type": "stream",
     "text": [
      "Updating PHI and GAMMA: 100%|██████████| 100/100 [00:02<00:00, 48.81it/s]\n",
      "Updating LAMBDA: 100%|██████████| 10/10 [00:00<00:00, 102.44it/s]\n"
     ]
    },
    {
     "name": "stdout",
     "output_type": "stream",
     "text": [
      "Current ELBO: -47680.940953655416 | Change in ELBO: 0.8019464342287392\n",
      "\n",
      "Iteration 64\n"
     ]
    },
    {
     "name": "stderr",
     "output_type": "stream",
     "text": [
      "Updating PHI and GAMMA: 100%|██████████| 100/100 [00:01<00:00, 53.37it/s]\n",
      "Updating LAMBDA: 100%|██████████| 10/10 [00:00<00:00, 118.25it/s]\n"
     ]
    },
    {
     "name": "stdout",
     "output_type": "stream",
     "text": [
      "Current ELBO: -47680.32339973346 | Change in ELBO: 0.6175539219548227\n",
      "\n",
      "Iteration 65\n"
     ]
    },
    {
     "name": "stderr",
     "output_type": "stream",
     "text": [
      "Updating PHI and GAMMA: 100%|██████████| 100/100 [00:01<00:00, 52.40it/s]\n",
      "Updating LAMBDA: 100%|██████████| 10/10 [00:00<00:00, 112.66it/s]\n"
     ]
    },
    {
     "name": "stdout",
     "output_type": "stream",
     "text": [
      "Current ELBO: -47679.64476944242 | Change in ELBO: 0.6786302910404629\n",
      "\n",
      "Iteration 66\n"
     ]
    },
    {
     "name": "stderr",
     "output_type": "stream",
     "text": [
      "Updating PHI and GAMMA: 100%|██████████| 100/100 [00:01<00:00, 53.40it/s]\n",
      "Updating LAMBDA: 100%|██████████| 10/10 [00:00<00:00, 116.72it/s]\n"
     ]
    },
    {
     "name": "stdout",
     "output_type": "stream",
     "text": [
      "Current ELBO: -47678.89765761058 | Change in ELBO: 0.7471118318426306\n",
      "\n",
      "Iteration 67\n"
     ]
    },
    {
     "name": "stderr",
     "output_type": "stream",
     "text": [
      "Updating PHI and GAMMA: 100%|██████████| 100/100 [00:01<00:00, 56.68it/s]\n",
      "Updating LAMBDA: 100%|██████████| 10/10 [00:00<00:00, 113.92it/s]\n"
     ]
    },
    {
     "name": "stdout",
     "output_type": "stream",
     "text": [
      "Current ELBO: -47677.981203694646 | Change in ELBO: 0.9164539159319247\n",
      "\n",
      "Iteration 68\n"
     ]
    },
    {
     "name": "stderr",
     "output_type": "stream",
     "text": [
      "Updating PHI and GAMMA: 100%|██████████| 100/100 [00:02<00:00, 46.26it/s]\n",
      "Updating LAMBDA: 100%|██████████| 10/10 [00:00<00:00, 103.97it/s]\n"
     ]
    },
    {
     "name": "stdout",
     "output_type": "stream",
     "text": [
      "Current ELBO: -47676.56900449133 | Change in ELBO: 1.4121992033178685\n",
      "\n",
      "Iteration 69\n"
     ]
    },
    {
     "name": "stderr",
     "output_type": "stream",
     "text": [
      "Updating PHI and GAMMA: 100%|██████████| 100/100 [00:02<00:00, 48.61it/s]\n",
      "Updating LAMBDA: 100%|██████████| 10/10 [00:00<00:00, 119.27it/s]\n"
     ]
    },
    {
     "name": "stdout",
     "output_type": "stream",
     "text": [
      "Current ELBO: -47675.914250275906 | Change in ELBO: 0.6547542154221446\n",
      "\n",
      "Iteration 70\n"
     ]
    },
    {
     "name": "stderr",
     "output_type": "stream",
     "text": [
      "Updating PHI and GAMMA: 100%|██████████| 100/100 [00:01<00:00, 50.13it/s]\n",
      "Updating LAMBDA: 100%|██████████| 10/10 [00:00<00:00, 113.42it/s]\n"
     ]
    },
    {
     "name": "stdout",
     "output_type": "stream",
     "text": [
      "Current ELBO: -47675.77855591204 | Change in ELBO: 0.13569436386751477\n",
      "\n",
      "Iteration 71\n"
     ]
    },
    {
     "name": "stderr",
     "output_type": "stream",
     "text": [
      "Updating PHI and GAMMA: 100%|██████████| 100/100 [00:02<00:00, 47.34it/s]\n",
      "Updating LAMBDA: 100%|██████████| 10/10 [00:00<00:00, 123.23it/s]\n"
     ]
    },
    {
     "name": "stdout",
     "output_type": "stream",
     "text": [
      "Current ELBO: -47675.554867087674 | Change in ELBO: 0.223688824364217\n",
      "\n",
      "Iteration 72\n"
     ]
    },
    {
     "name": "stderr",
     "output_type": "stream",
     "text": [
      "Updating PHI and GAMMA: 100%|██████████| 100/100 [00:02<00:00, 44.18it/s]\n",
      "Updating LAMBDA: 100%|██████████| 10/10 [00:00<00:00, 103.29it/s]\n"
     ]
    },
    {
     "name": "stdout",
     "output_type": "stream",
     "text": [
      "Current ELBO: -47675.160074026215 | Change in ELBO: 0.3947930614594952\n",
      "\n",
      "Iteration 73\n"
     ]
    },
    {
     "name": "stderr",
     "output_type": "stream",
     "text": [
      "Updating PHI and GAMMA: 100%|██████████| 100/100 [00:02<00:00, 47.54it/s]\n",
      "Updating LAMBDA: 100%|██████████| 10/10 [00:00<00:00, 77.36it/s]\n"
     ]
    },
    {
     "name": "stdout",
     "output_type": "stream",
     "text": [
      "Current ELBO: -47674.89293077064 | Change in ELBO: 0.26714325557259144\n",
      "\n",
      "Iteration 74\n"
     ]
    },
    {
     "name": "stderr",
     "output_type": "stream",
     "text": [
      "Updating PHI and GAMMA: 100%|██████████| 100/100 [00:02<00:00, 47.83it/s]\n",
      "Updating LAMBDA: 100%|██████████| 10/10 [00:00<00:00, 102.66it/s]\n"
     ]
    },
    {
     "name": "stdout",
     "output_type": "stream",
     "text": [
      "Current ELBO: -47674.7716516454 | Change in ELBO: 0.12127912524010753\n",
      "\n",
      "Iteration 75\n"
     ]
    },
    {
     "name": "stderr",
     "output_type": "stream",
     "text": [
      "Updating PHI and GAMMA: 100%|██████████| 100/100 [00:01<00:00, 54.05it/s]\n",
      "Updating LAMBDA: 100%|██████████| 10/10 [00:00<00:00, 105.48it/s]\n"
     ]
    },
    {
     "name": "stdout",
     "output_type": "stream",
     "text": [
      "Current ELBO: -47674.58584737321 | Change in ELBO: 0.18580427219421836\n",
      "\n",
      "Iteration 76\n"
     ]
    },
    {
     "name": "stderr",
     "output_type": "stream",
     "text": [
      "Updating PHI and GAMMA: 100%|██████████| 100/100 [00:02<00:00, 47.80it/s]\n",
      "Updating LAMBDA: 100%|██████████| 10/10 [00:00<00:00, 89.38it/s]\n"
     ]
    },
    {
     "name": "stdout",
     "output_type": "stream",
     "text": [
      "Current ELBO: -47674.25045641676 | Change in ELBO: 0.33539095644664485\n",
      "\n",
      "Iteration 77\n"
     ]
    },
    {
     "name": "stderr",
     "output_type": "stream",
     "text": [
      "Updating PHI and GAMMA: 100%|██████████| 100/100 [00:02<00:00, 48.26it/s]\n",
      "Updating LAMBDA: 100%|██████████| 10/10 [00:00<00:00, 68.51it/s]\n"
     ]
    },
    {
     "name": "stdout",
     "output_type": "stream",
     "text": [
      "Current ELBO: -47673.80378731257 | Change in ELBO: 0.4466691041889135\n",
      "\n",
      "Iteration 78\n"
     ]
    },
    {
     "name": "stderr",
     "output_type": "stream",
     "text": [
      "Updating PHI and GAMMA: 100%|██████████| 100/100 [00:01<00:00, 56.11it/s]\n",
      "Updating LAMBDA: 100%|██████████| 10/10 [00:00<00:00, 118.81it/s]\n"
     ]
    },
    {
     "name": "stdout",
     "output_type": "stream",
     "text": [
      "Current ELBO: -47673.561141078164 | Change in ELBO: 0.242646234408312\n",
      "\n",
      "Iteration 79\n"
     ]
    },
    {
     "name": "stderr",
     "output_type": "stream",
     "text": [
      "Updating PHI and GAMMA: 100%|██████████| 100/100 [00:01<00:00, 53.16it/s]\n",
      "Updating LAMBDA: 100%|██████████| 10/10 [00:00<00:00, 97.27it/s]\n"
     ]
    },
    {
     "name": "stdout",
     "output_type": "stream",
     "text": [
      "Current ELBO: -47673.246386285806 | Change in ELBO: 0.3147547923581442\n",
      "\n",
      "Iteration 80\n"
     ]
    },
    {
     "name": "stderr",
     "output_type": "stream",
     "text": [
      "Updating PHI and GAMMA: 100%|██████████| 100/100 [00:01<00:00, 51.89it/s]\n",
      "Updating LAMBDA: 100%|██████████| 10/10 [00:00<00:00, 89.15it/s]\n"
     ]
    },
    {
     "name": "stdout",
     "output_type": "stream",
     "text": [
      "Current ELBO: -47672.74768227277 | Change in ELBO: 0.49870401303633116\n",
      "\n",
      "Iteration 81\n"
     ]
    },
    {
     "name": "stderr",
     "output_type": "stream",
     "text": [
      "Updating PHI and GAMMA: 100%|██████████| 100/100 [00:02<00:00, 48.60it/s]\n",
      "Updating LAMBDA: 100%|██████████| 10/10 [00:00<00:00, 108.19it/s]\n"
     ]
    },
    {
     "name": "stdout",
     "output_type": "stream",
     "text": [
      "Current ELBO: -47672.42146894056 | Change in ELBO: 0.3262133322059526\n",
      "\n",
      "Iteration 82\n"
     ]
    },
    {
     "name": "stderr",
     "output_type": "stream",
     "text": [
      "Updating PHI and GAMMA: 100%|██████████| 100/100 [00:01<00:00, 51.20it/s]\n",
      "Updating LAMBDA: 100%|██████████| 10/10 [00:00<00:00, 104.48it/s]\n"
     ]
    },
    {
     "name": "stdout",
     "output_type": "stream",
     "text": [
      "Current ELBO: -47672.35360415529 | Change in ELBO: 0.06786478527646977\n",
      "\n",
      "Iteration 83\n"
     ]
    },
    {
     "name": "stderr",
     "output_type": "stream",
     "text": [
      "Updating PHI and GAMMA: 100%|██████████| 100/100 [00:01<00:00, 51.41it/s]\n",
      "Updating LAMBDA: 100%|██████████| 10/10 [00:00<00:00, 95.95it/s]\n"
     ]
    },
    {
     "name": "stdout",
     "output_type": "stream",
     "text": [
      "Current ELBO: -47672.27585810394 | Change in ELBO: 0.07774605134909507\n",
      "\n",
      "Iteration 84\n"
     ]
    },
    {
     "name": "stderr",
     "output_type": "stream",
     "text": [
      "Updating PHI and GAMMA: 100%|██████████| 100/100 [00:02<00:00, 48.49it/s]\n",
      "Updating LAMBDA: 100%|██████████| 10/10 [00:00<00:00, 119.47it/s]\n"
     ]
    },
    {
     "name": "stdout",
     "output_type": "stream",
     "text": [
      "Current ELBO: -47672.17366772552 | Change in ELBO: 0.10219037842034595\n",
      "\n",
      "Iteration 85\n"
     ]
    },
    {
     "name": "stderr",
     "output_type": "stream",
     "text": [
      "Updating PHI and GAMMA: 100%|██████████| 100/100 [00:01<00:00, 51.82it/s]\n",
      "Updating LAMBDA: 100%|██████████| 10/10 [00:00<00:00, 113.51it/s]\n"
     ]
    },
    {
     "name": "stdout",
     "output_type": "stream",
     "text": [
      "Current ELBO: -47672.02958400605 | Change in ELBO: 0.14408371946774423\n",
      "\n",
      "Iteration 86\n"
     ]
    },
    {
     "name": "stderr",
     "output_type": "stream",
     "text": [
      "Updating PHI and GAMMA: 100%|██████████| 100/100 [00:01<00:00, 50.57it/s]\n",
      "Updating LAMBDA: 100%|██████████| 10/10 [00:00<00:00, 94.98it/s]\n"
     ]
    },
    {
     "name": "stdout",
     "output_type": "stream",
     "text": [
      "Current ELBO: -47671.806673108425 | Change in ELBO: 0.22291089762438787\n",
      "\n",
      "Iteration 87\n"
     ]
    },
    {
     "name": "stderr",
     "output_type": "stream",
     "text": [
      "Updating PHI and GAMMA: 100%|██████████| 100/100 [00:01<00:00, 54.03it/s]\n",
      "Updating LAMBDA: 100%|██████████| 10/10 [00:00<00:00, 114.05it/s]\n"
     ]
    },
    {
     "name": "stdout",
     "output_type": "stream",
     "text": [
      "Current ELBO: -47671.430538764645 | Change in ELBO: 0.3761343437799951\n",
      "\n",
      "Iteration 88\n"
     ]
    },
    {
     "name": "stderr",
     "output_type": "stream",
     "text": [
      "Updating PHI and GAMMA: 100%|██████████| 100/100 [00:01<00:00, 54.29it/s]\n",
      "Updating LAMBDA: 100%|██████████| 10/10 [00:00<00:00, 123.00it/s]\n"
     ]
    },
    {
     "name": "stdout",
     "output_type": "stream",
     "text": [
      "Current ELBO: -47670.97386154038 | Change in ELBO: 0.45667722426878754\n",
      "\n",
      "Iteration 89\n"
     ]
    },
    {
     "name": "stderr",
     "output_type": "stream",
     "text": [
      "Updating PHI and GAMMA: 100%|██████████| 100/100 [00:01<00:00, 54.24it/s]\n",
      "Updating LAMBDA: 100%|██████████| 10/10 [00:00<00:00, 111.38it/s]\n"
     ]
    },
    {
     "name": "stdout",
     "output_type": "stream",
     "text": [
      "Current ELBO: -47670.901550930575 | Change in ELBO: 0.07231060980120674\n",
      "\n",
      "Iteration 90\n"
     ]
    },
    {
     "name": "stderr",
     "output_type": "stream",
     "text": [
      "Updating PHI and GAMMA: 100%|██████████| 100/100 [00:01<00:00, 53.27it/s]\n",
      "Updating LAMBDA: 100%|██████████| 10/10 [00:00<00:00, 82.76it/s]\n"
     ]
    },
    {
     "name": "stdout",
     "output_type": "stream",
     "text": [
      "Current ELBO: -47670.898852491235 | Change in ELBO: 0.002698439340747427\n",
      "\n",
      "Iteration 91\n"
     ]
    },
    {
     "name": "stderr",
     "output_type": "stream",
     "text": [
      "Updating PHI and GAMMA: 100%|██████████| 100/100 [00:01<00:00, 52.51it/s]\n",
      "Updating LAMBDA: 100%|██████████| 10/10 [00:00<00:00, 111.58it/s]\n"
     ]
    },
    {
     "name": "stdout",
     "output_type": "stream",
     "text": [
      "Current ELBO: -47670.89635070876 | Change in ELBO: 0.0025017824737005867\n",
      "\n",
      "Iteration 92\n"
     ]
    },
    {
     "name": "stderr",
     "output_type": "stream",
     "text": [
      "Updating PHI and GAMMA: 100%|██████████| 100/100 [00:01<00:00, 51.82it/s]\n",
      "Updating LAMBDA: 100%|██████████| 10/10 [00:00<00:00, 111.25it/s]\n"
     ]
    },
    {
     "name": "stdout",
     "output_type": "stream",
     "text": [
      "Current ELBO: -47670.89372984797 | Change in ELBO: 0.002620860788738355\n",
      "\n",
      "Iteration 93\n"
     ]
    },
    {
     "name": "stderr",
     "output_type": "stream",
     "text": [
      "Updating PHI and GAMMA: 100%|██████████| 100/100 [00:01<00:00, 52.70it/s]\n",
      "Updating LAMBDA: 100%|██████████| 10/10 [00:00<00:00, 102.99it/s]\n"
     ]
    },
    {
     "name": "stdout",
     "output_type": "stream",
     "text": [
      "Current ELBO: -47670.89073921905 | Change in ELBO: 0.0029906289200880565\n",
      "\n",
      "Iteration 94\n"
     ]
    },
    {
     "name": "stderr",
     "output_type": "stream",
     "text": [
      "Updating PHI and GAMMA: 100%|██████████| 100/100 [00:01<00:00, 55.19it/s]\n",
      "Updating LAMBDA: 100%|██████████| 10/10 [00:00<00:00, 93.73it/s]\n"
     ]
    },
    {
     "name": "stdout",
     "output_type": "stream",
     "text": [
      "Current ELBO: -47670.88699230778 | Change in ELBO: 0.0037469112721737474\n",
      "\n",
      "Iteration 95\n"
     ]
    },
    {
     "name": "stderr",
     "output_type": "stream",
     "text": [
      "Updating PHI and GAMMA: 100%|██████████| 100/100 [00:01<00:00, 55.15it/s]\n",
      "Updating LAMBDA: 100%|██████████| 10/10 [00:00<00:00, 100.11it/s]\n"
     ]
    },
    {
     "name": "stdout",
     "output_type": "stream",
     "text": [
      "Current ELBO: -47670.88174597752 | Change in ELBO: 0.005246330263616983\n",
      "\n",
      "Iteration 96\n"
     ]
    },
    {
     "name": "stderr",
     "output_type": "stream",
     "text": [
      "Updating PHI and GAMMA: 100%|██████████| 100/100 [00:01<00:00, 54.10it/s]\n",
      "Updating LAMBDA: 100%|██████████| 10/10 [00:00<00:00, 105.24it/s]\n"
     ]
    },
    {
     "name": "stdout",
     "output_type": "stream",
     "text": [
      "Current ELBO: -47670.87334962573 | Change in ELBO: 0.008396351789997425\n",
      "\n",
      "Iteration 97\n"
     ]
    },
    {
     "name": "stderr",
     "output_type": "stream",
     "text": [
      "Updating PHI and GAMMA: 100%|██████████| 100/100 [00:01<00:00, 52.29it/s]\n",
      "Updating LAMBDA: 100%|██████████| 10/10 [00:00<00:00, 107.60it/s]\n"
     ]
    },
    {
     "name": "stdout",
     "output_type": "stream",
     "text": [
      "Current ELBO: -47670.857636279754 | Change in ELBO: 0.01571334597247187\n",
      "\n",
      "Iteration 98\n"
     ]
    },
    {
     "name": "stderr",
     "output_type": "stream",
     "text": [
      "Updating PHI and GAMMA: 100%|██████████| 100/100 [00:01<00:00, 52.79it/s]\n",
      "Updating LAMBDA: 100%|██████████| 10/10 [00:00<00:00, 103.67it/s]\n"
     ]
    },
    {
     "name": "stdout",
     "output_type": "stream",
     "text": [
      "Current ELBO: -47670.82269263086 | Change in ELBO: 0.03494364889047574\n",
      "\n",
      "Iteration 99\n"
     ]
    },
    {
     "name": "stderr",
     "output_type": "stream",
     "text": [
      "Updating PHI and GAMMA: 100%|██████████| 100/100 [00:01<00:00, 57.34it/s]\n",
      "Updating LAMBDA: 100%|██████████| 10/10 [00:00<00:00, 108.96it/s]\n"
     ]
    },
    {
     "name": "stdout",
     "output_type": "stream",
     "text": [
      "Current ELBO: -47670.7324173527 | Change in ELBO: 0.09027527816215297\n",
      "\n",
      "Iteration 100\n"
     ]
    },
    {
     "name": "stderr",
     "output_type": "stream",
     "text": [
      "Updating PHI and GAMMA: 100%|██████████| 100/100 [00:02<00:00, 44.69it/s]\n",
      "Updating LAMBDA: 100%|██████████| 10/10 [00:00<00:00, 92.91it/s]\n"
     ]
    },
    {
     "name": "stdout",
     "output_type": "stream",
     "text": [
      "Current ELBO: -47670.52282274086 | Change in ELBO: 0.2095946118424763\n",
      "\n",
      "Iteration 101\n"
     ]
    },
    {
     "name": "stderr",
     "output_type": "stream",
     "text": [
      "Updating PHI and GAMMA: 100%|██████████| 100/100 [00:02<00:00, 46.66it/s]\n",
      "Updating LAMBDA: 100%|██████████| 10/10 [00:00<00:00, 113.96it/s]\n"
     ]
    },
    {
     "name": "stdout",
     "output_type": "stream",
     "text": [
      "Current ELBO: -47670.379306441115 | Change in ELBO: 0.14351629974407842\n",
      "\n",
      "Iteration 102\n"
     ]
    },
    {
     "name": "stderr",
     "output_type": "stream",
     "text": [
      "Updating PHI and GAMMA: 100%|██████████| 100/100 [00:01<00:00, 50.39it/s]\n",
      "Updating LAMBDA: 100%|██████████| 10/10 [00:00<00:00, 89.61it/s]\n"
     ]
    },
    {
     "name": "stdout",
     "output_type": "stream",
     "text": [
      "Current ELBO: -47670.3718753256 | Change in ELBO: 0.00743111551128095\n",
      "\n",
      "Iteration 103\n"
     ]
    },
    {
     "name": "stderr",
     "output_type": "stream",
     "text": [
      "Updating PHI and GAMMA: 100%|██████████| 100/100 [00:02<00:00, 45.71it/s]\n",
      "Updating LAMBDA: 100%|██████████| 10/10 [00:00<00:00, 108.93it/s]\n"
     ]
    },
    {
     "name": "stdout",
     "output_type": "stream",
     "text": [
      "Current ELBO: -47670.36849374107 | Change in ELBO: 0.003381584530870896\n",
      "\n",
      "Iteration 104\n"
     ]
    },
    {
     "name": "stderr",
     "output_type": "stream",
     "text": [
      "Updating PHI and GAMMA: 100%|██████████| 100/100 [00:02<00:00, 46.40it/s]\n",
      "Updating LAMBDA: 100%|██████████| 10/10 [00:00<00:00, 100.88it/s]\n"
     ]
    },
    {
     "name": "stdout",
     "output_type": "stream",
     "text": [
      "Current ELBO: -47670.36486862174 | Change in ELBO: 0.0036251193305361085\n",
      "\n",
      "Iteration 105\n"
     ]
    },
    {
     "name": "stderr",
     "output_type": "stream",
     "text": [
      "Updating PHI and GAMMA: 100%|██████████| 100/100 [00:02<00:00, 49.29it/s]\n",
      "Updating LAMBDA: 100%|██████████| 10/10 [00:00<00:00, 96.73it/s]\n"
     ]
    },
    {
     "name": "stdout",
     "output_type": "stream",
     "text": [
      "Current ELBO: -47670.36080407761 | Change in ELBO: 0.0040645441331434995\n",
      "\n",
      "Iteration 106\n"
     ]
    },
    {
     "name": "stderr",
     "output_type": "stream",
     "text": [
      "Updating PHI and GAMMA: 100%|██████████| 100/100 [00:01<00:00, 54.01it/s]\n",
      "Updating LAMBDA: 100%|██████████| 10/10 [00:00<00:00, 91.73it/s]\n"
     ]
    },
    {
     "name": "stdout",
     "output_type": "stream",
     "text": [
      "Current ELBO: -47670.3560978036 | Change in ELBO: 0.0047062740122783\n",
      "\n",
      "Iteration 107\n"
     ]
    },
    {
     "name": "stderr",
     "output_type": "stream",
     "text": [
      "Updating PHI and GAMMA: 100%|██████████| 100/100 [00:02<00:00, 41.15it/s]\n",
      "Updating LAMBDA: 100%|██████████| 10/10 [00:00<00:00, 66.49it/s]\n"
     ]
    },
    {
     "name": "stdout",
     "output_type": "stream",
     "text": [
      "Current ELBO: -47670.350492305035 | Change in ELBO: 0.0056054985616356134\n",
      "\n",
      "Iteration 108\n"
     ]
    },
    {
     "name": "stderr",
     "output_type": "stream",
     "text": [
      "Updating PHI and GAMMA: 100%|██████████| 100/100 [00:01<00:00, 51.36it/s]\n",
      "Updating LAMBDA: 100%|██████████| 10/10 [00:00<00:00, 88.32it/s]\n"
     ]
    },
    {
     "name": "stdout",
     "output_type": "stream",
     "text": [
      "Current ELBO: -47670.343628149356 | Change in ELBO: 0.0068641556790680625\n",
      "\n",
      "Iteration 109\n"
     ]
    },
    {
     "name": "stderr",
     "output_type": "stream",
     "text": [
      "Updating PHI and GAMMA: 100%|██████████| 100/100 [00:02<00:00, 48.01it/s]\n",
      "Updating LAMBDA: 100%|██████████| 10/10 [00:00<00:00, 92.85it/s]\n"
     ]
    },
    {
     "name": "stdout",
     "output_type": "stream",
     "text": [
      "Current ELBO: -47670.33497384665 | Change in ELBO: 0.008654302706418093\n",
      "\n",
      "Iteration 110\n"
     ]
    },
    {
     "name": "stderr",
     "output_type": "stream",
     "text": [
      "Updating PHI and GAMMA: 100%|██████████| 100/100 [00:02<00:00, 47.75it/s]\n",
      "Updating LAMBDA: 100%|██████████| 10/10 [00:00<00:00, 89.38it/s]\n"
     ]
    },
    {
     "name": "stdout",
     "output_type": "stream",
     "text": [
      "Current ELBO: -47670.323705219766 | Change in ELBO: 0.01126862688397523\n",
      "\n",
      "Iteration 111\n"
     ]
    },
    {
     "name": "stderr",
     "output_type": "stream",
     "text": [
      "Updating PHI and GAMMA: 100%|██████████| 100/100 [00:01<00:00, 53.40it/s]\n",
      "Updating LAMBDA: 100%|██████████| 10/10 [00:00<00:00, 94.66it/s]\n"
     ]
    },
    {
     "name": "stdout",
     "output_type": "stream",
     "text": [
      "Current ELBO: -47670.30848185313 | Change in ELBO: 0.015223366637656\n",
      "\n",
      "Iteration 112\n"
     ]
    },
    {
     "name": "stderr",
     "output_type": "stream",
     "text": [
      "Updating PHI and GAMMA: 100%|██████████| 100/100 [00:01<00:00, 51.76it/s]\n",
      "Updating LAMBDA: 100%|██████████| 10/10 [00:00<00:00, 89.36it/s]\n"
     ]
    },
    {
     "name": "stdout",
     "output_type": "stream",
     "text": [
      "Current ELBO: -47670.287004946425 | Change in ELBO: 0.021476906702446286\n",
      "\n",
      "Iteration 113\n"
     ]
    },
    {
     "name": "stderr",
     "output_type": "stream",
     "text": [
      "Updating PHI and GAMMA: 100%|██████████| 100/100 [00:02<00:00, 47.28it/s]\n",
      "Updating LAMBDA: 100%|██████████| 10/10 [00:00<00:00, 98.16it/s]\n"
     ]
    },
    {
     "name": "stdout",
     "output_type": "stream",
     "text": [
      "Current ELBO: -47670.25507865023 | Change in ELBO: 0.03192629619297804\n",
      "\n",
      "Iteration 114\n"
     ]
    },
    {
     "name": "stderr",
     "output_type": "stream",
     "text": [
      "Updating PHI and GAMMA: 100%|██████████| 100/100 [00:01<00:00, 53.72it/s]\n",
      "Updating LAMBDA: 100%|██████████| 10/10 [00:00<00:00, 90.81it/s]\n"
     ]
    },
    {
     "name": "stdout",
     "output_type": "stream",
     "text": [
      "Current ELBO: -47670.204450036 | Change in ELBO: 0.0506286142335739\n",
      "\n",
      "Iteration 115\n"
     ]
    },
    {
     "name": "stderr",
     "output_type": "stream",
     "text": [
      "Updating PHI and GAMMA: 100%|██████████| 100/100 [00:02<00:00, 46.58it/s]\n",
      "Updating LAMBDA: 100%|██████████| 10/10 [00:00<00:00, 107.44it/s]\n"
     ]
    },
    {
     "name": "stdout",
     "output_type": "stream",
     "text": [
      "Current ELBO: -47670.11740203271 | Change in ELBO: 0.08704800328996498\n",
      "\n",
      "Iteration 116\n"
     ]
    },
    {
     "name": "stderr",
     "output_type": "stream",
     "text": [
      "Updating PHI and GAMMA: 100%|██████████| 100/100 [00:02<00:00, 44.67it/s]\n",
      "Updating LAMBDA: 100%|██████████| 10/10 [00:00<00:00, 88.28it/s]\n"
     ]
    },
    {
     "name": "stdout",
     "output_type": "stream",
     "text": [
      "Current ELBO: -47669.9527941174 | Change in ELBO: 0.1646079153069877\n",
      "\n",
      "Iteration 117\n"
     ]
    },
    {
     "name": "stderr",
     "output_type": "stream",
     "text": [
      "Updating PHI and GAMMA: 100%|██████████| 100/100 [00:02<00:00, 42.64it/s]\n",
      "Updating LAMBDA: 100%|██████████| 10/10 [00:00<00:00, 50.27it/s]\n"
     ]
    },
    {
     "name": "stdout",
     "output_type": "stream",
     "text": [
      "Current ELBO: -47669.62787624471 | Change in ELBO: 0.32491787269100314\n",
      "\n",
      "Iteration 118\n"
     ]
    },
    {
     "name": "stderr",
     "output_type": "stream",
     "text": [
      "Updating PHI and GAMMA: 100%|██████████| 100/100 [00:01<00:00, 50.67it/s]\n",
      "Updating LAMBDA: 100%|██████████| 10/10 [00:00<00:00, 93.37it/s]\n"
     ]
    },
    {
     "name": "stdout",
     "output_type": "stream",
     "text": [
      "Current ELBO: -47669.26012803822 | Change in ELBO: 0.3677482064886135\n",
      "\n",
      "Iteration 119\n"
     ]
    },
    {
     "name": "stderr",
     "output_type": "stream",
     "text": [
      "Updating PHI and GAMMA: 100%|██████████| 100/100 [00:02<00:00, 46.74it/s]\n",
      "Updating LAMBDA: 100%|██████████| 10/10 [00:00<00:00, 77.03it/s]\n"
     ]
    },
    {
     "name": "stdout",
     "output_type": "stream",
     "text": [
      "Current ELBO: -47669.21976444579 | Change in ELBO: 0.040363592430367135\n",
      "\n",
      "Iteration 120\n"
     ]
    },
    {
     "name": "stderr",
     "output_type": "stream",
     "text": [
      "Updating PHI and GAMMA: 100%|██████████| 100/100 [00:01<00:00, 55.10it/s]\n",
      "Updating LAMBDA: 100%|██████████| 10/10 [00:00<00:00, 102.42it/s]\n"
     ]
    },
    {
     "name": "stdout",
     "output_type": "stream",
     "text": [
      "Current ELBO: -47669.214987532556 | Change in ELBO: 0.004776913236128166\n",
      "\n",
      "Iteration 121\n"
     ]
    },
    {
     "name": "stderr",
     "output_type": "stream",
     "text": [
      "Updating PHI and GAMMA: 100%|██████████| 100/100 [00:02<00:00, 44.20it/s]\n",
      "Updating LAMBDA: 100%|██████████| 10/10 [00:00<00:00, 88.86it/s]\n"
     ]
    },
    {
     "name": "stdout",
     "output_type": "stream",
     "text": [
      "Current ELBO: -47669.20966734629 | Change in ELBO: 0.005320186268363614\n",
      "\n",
      "Iteration 122\n"
     ]
    },
    {
     "name": "stderr",
     "output_type": "stream",
     "text": [
      "Updating PHI and GAMMA: 100%|██████████| 100/100 [00:01<00:00, 51.44it/s]\n",
      "Updating LAMBDA: 100%|██████████| 10/10 [00:00<00:00, 102.85it/s]\n"
     ]
    },
    {
     "name": "stdout",
     "output_type": "stream",
     "text": [
      "Current ELBO: -47669.203503000994 | Change in ELBO: 0.00616434529365506\n",
      "\n",
      "Iteration 123\n"
     ]
    },
    {
     "name": "stderr",
     "output_type": "stream",
     "text": [
      "Updating PHI and GAMMA: 100%|██████████| 100/100 [00:02<00:00, 48.40it/s]\n",
      "Updating LAMBDA: 100%|██████████| 10/10 [00:00<00:00, 105.62it/s]\n"
     ]
    },
    {
     "name": "stdout",
     "output_type": "stream",
     "text": [
      "Current ELBO: -47669.19621711538 | Change in ELBO: 0.0072858856146922335\n",
      "\n",
      "Iteration 124\n"
     ]
    },
    {
     "name": "stderr",
     "output_type": "stream",
     "text": [
      "Updating PHI and GAMMA: 100%|██████████| 100/100 [00:01<00:00, 52.91it/s]\n",
      "Updating LAMBDA: 100%|██████████| 10/10 [00:00<00:00, 111.64it/s]\n"
     ]
    },
    {
     "name": "stdout",
     "output_type": "stream",
     "text": [
      "Current ELBO: -47669.18746875814 | Change in ELBO: 0.008748357242438942\n",
      "\n",
      "Iteration 125\n"
     ]
    },
    {
     "name": "stderr",
     "output_type": "stream",
     "text": [
      "Updating PHI and GAMMA: 100%|██████████| 100/100 [00:02<00:00, 44.34it/s]\n",
      "Updating LAMBDA: 100%|██████████| 10/10 [00:00<00:00, 101.54it/s]\n"
     ]
    },
    {
     "name": "stdout",
     "output_type": "stream",
     "text": [
      "Current ELBO: -47669.17680357108 | Change in ELBO: 0.010665187059203163\n",
      "\n",
      "Iteration 126\n"
     ]
    },
    {
     "name": "stderr",
     "output_type": "stream",
     "text": [
      "Updating PHI and GAMMA: 100%|██████████| 100/100 [00:02<00:00, 47.84it/s]\n",
      "Updating LAMBDA: 100%|██████████| 10/10 [00:00<00:00, 108.65it/s]\n"
     ]
    },
    {
     "name": "stdout",
     "output_type": "stream",
     "text": [
      "Current ELBO: -47669.16359157738 | Change in ELBO: 0.01321199369704118\n",
      "\n",
      "Iteration 127\n"
     ]
    },
    {
     "name": "stderr",
     "output_type": "stream",
     "text": [
      "Updating PHI and GAMMA: 100%|██████████| 100/100 [00:02<00:00, 46.51it/s]\n",
      "Updating LAMBDA: 100%|██████████| 10/10 [00:00<00:00, 97.73it/s]\n"
     ]
    },
    {
     "name": "stdout",
     "output_type": "stream",
     "text": [
      "Current ELBO: -47669.146933004595 | Change in ELBO: 0.01665857278567273\n",
      "\n",
      "Iteration 128\n"
     ]
    },
    {
     "name": "stderr",
     "output_type": "stream",
     "text": [
      "Updating PHI and GAMMA: 100%|██████████| 100/100 [00:01<00:00, 50.87it/s]\n",
      "Updating LAMBDA: 100%|██████████| 10/10 [00:00<00:00, 108.35it/s]\n"
     ]
    },
    {
     "name": "stdout",
     "output_type": "stream",
     "text": [
      "Current ELBO: -47669.1255036036 | Change in ELBO: 0.021429400992929004\n",
      "\n",
      "Iteration 129\n"
     ]
    },
    {
     "name": "stderr",
     "output_type": "stream",
     "text": [
      "Updating PHI and GAMMA: 100%|██████████| 100/100 [00:02<00:00, 49.43it/s]\n",
      "Updating LAMBDA: 100%|██████████| 10/10 [00:00<00:00, 101.14it/s]\n"
     ]
    },
    {
     "name": "stdout",
     "output_type": "stream",
     "text": [
      "Current ELBO: -47669.09728601998 | Change in ELBO: 0.028217583618243225\n",
      "\n",
      "Iteration 130\n"
     ]
    },
    {
     "name": "stderr",
     "output_type": "stream",
     "text": [
      "Updating PHI and GAMMA: 100%|██████████| 100/100 [00:02<00:00, 40.68it/s]\n",
      "Updating LAMBDA: 100%|██████████| 10/10 [00:00<00:00, 95.10it/s]\n"
     ]
    },
    {
     "name": "stdout",
     "output_type": "stream",
     "text": [
      "Current ELBO: -47669.05907528062 | Change in ELBO: 0.03821073936705943\n",
      "\n",
      "Iteration 131\n"
     ]
    },
    {
     "name": "stderr",
     "output_type": "stream",
     "text": [
      "Updating PHI and GAMMA: 100%|██████████| 100/100 [00:02<00:00, 49.79it/s]\n",
      "Updating LAMBDA: 100%|██████████| 10/10 [00:00<00:00, 106.15it/s]\n"
     ]
    },
    {
     "name": "stdout",
     "output_type": "stream",
     "text": [
      "Current ELBO: -47669.00550287661 | Change in ELBO: 0.053572404009173624\n",
      "\n",
      "Iteration 132\n"
     ]
    },
    {
     "name": "stderr",
     "output_type": "stream",
     "text": [
      "Updating PHI and GAMMA: 100%|██████████| 100/100 [00:02<00:00, 46.28it/s]\n",
      "Updating LAMBDA: 100%|██████████| 10/10 [00:00<00:00, 93.92it/s]\n"
     ]
    },
    {
     "name": "stdout",
     "output_type": "stream",
     "text": [
      "Current ELBO: -47668.92694066821 | Change in ELBO: 0.07856220840039896\n",
      "\n",
      "Iteration 133\n"
     ]
    },
    {
     "name": "stderr",
     "output_type": "stream",
     "text": [
      "Updating PHI and GAMMA: 100%|██████████| 100/100 [00:02<00:00, 45.59it/s]\n",
      "Updating LAMBDA: 100%|██████████| 10/10 [00:00<00:00, 110.13it/s]\n"
     ]
    },
    {
     "name": "stdout",
     "output_type": "stream",
     "text": [
      "Current ELBO: -47668.80454907725 | Change in ELBO: 0.12239159095770447\n",
      "\n",
      "Iteration 134\n"
     ]
    },
    {
     "name": "stderr",
     "output_type": "stream",
     "text": [
      "Updating PHI and GAMMA: 100%|██████████| 100/100 [00:02<00:00, 43.60it/s]\n",
      "Updating LAMBDA: 100%|██████████| 10/10 [00:00<00:00, 79.78it/s]\n"
     ]
    },
    {
     "name": "stdout",
     "output_type": "stream",
     "text": [
      "Current ELBO: -47668.59793063892 | Change in ELBO: 0.2066184383293148\n",
      "\n",
      "Iteration 135\n"
     ]
    },
    {
     "name": "stderr",
     "output_type": "stream",
     "text": [
      "Updating PHI and GAMMA: 100%|██████████| 100/100 [00:02<00:00, 42.74it/s]\n",
      "Updating LAMBDA: 100%|██████████| 10/10 [00:00<00:00, 112.69it/s]\n"
     ]
    },
    {
     "name": "stdout",
     "output_type": "stream",
     "text": [
      "Current ELBO: -47668.22816014922 | Change in ELBO: 0.36977048969856696\n",
      "\n",
      "Iteration 136\n"
     ]
    },
    {
     "name": "stderr",
     "output_type": "stream",
     "text": [
      "Updating PHI and GAMMA: 100%|██████████| 100/100 [00:01<00:00, 59.61it/s]\n",
      "Updating LAMBDA: 100%|██████████| 10/10 [00:00<00:00, 93.63it/s]\n"
     ]
    },
    {
     "name": "stdout",
     "output_type": "stream",
     "text": [
      "Current ELBO: -47667.80262874515 | Change in ELBO: 0.42553140407108003\n",
      "\n",
      "Iteration 137\n"
     ]
    },
    {
     "name": "stderr",
     "output_type": "stream",
     "text": [
      "Updating PHI and GAMMA: 100%|██████████| 100/100 [00:01<00:00, 55.36it/s]\n",
      "Updating LAMBDA: 100%|██████████| 10/10 [00:00<00:00, 130.31it/s]\n"
     ]
    },
    {
     "name": "stdout",
     "output_type": "stream",
     "text": [
      "Current ELBO: -47667.75069016085 | Change in ELBO: 0.0519385842999327\n",
      "\n",
      "Iteration 138\n"
     ]
    },
    {
     "name": "stderr",
     "output_type": "stream",
     "text": [
      "Updating PHI and GAMMA: 100%|██████████| 100/100 [00:01<00:00, 66.80it/s]\n",
      "Updating LAMBDA: 100%|██████████| 10/10 [00:00<00:00, 135.00it/s]\n"
     ]
    },
    {
     "name": "stdout",
     "output_type": "stream",
     "text": [
      "Current ELBO: -47667.74946214923 | Change in ELBO: 0.001228011620696634\n",
      "\n",
      "Iteration 139\n"
     ]
    },
    {
     "name": "stderr",
     "output_type": "stream",
     "text": [
      "Updating PHI and GAMMA: 100%|██████████| 100/100 [00:01<00:00, 73.16it/s]\n",
      "Updating LAMBDA: 100%|██████████| 10/10 [00:00<00:00, 118.25it/s]\n"
     ]
    },
    {
     "name": "stdout",
     "output_type": "stream",
     "text": [
      "Current ELBO: -47667.74871353846 | Change in ELBO: 0.0007486107715521939\n",
      "\n"
     ]
    },
    {
     "data": {
      "text/plain": [
       "[<matplotlib.lines.Line2D at 0x2ad51ac1bd0>]"
      ]
     },
     "execution_count": 344,
     "metadata": {},
     "output_type": "execute_result"
    },
    {
     "data": {
      "image/png": "[encoded data removed]",
      "text/plain": [
       "<Figure size 640x480 with 1 Axes>"
      ]
     },
     "metadata": {},
     "output_type": "display_data"
    }
   ],
   "source": [
    "start = time.time()\n",
    "ELBOs = []\n",
    "prev_ELBO = -np.inf\n",
    "curr_ELBO = compute_ELBO(LAMBDA, GAMMA, PHI, documents, nonzero_idxs, K)\n",
    "ELBOs.append(curr_ELBO)\n",
    "print(f\"Initial ELBO: {ELBOs[0]}\\n\")\n",
    "\n",
    "max_iterations = 200\n",
    "tol = 10e-4\n",
    "LAMBDA_t = copy.deepcopy(LAMBDA)\n",
    "GAMMA_t = copy.deepcopy(GAMMA)\n",
    "PHI_t = copy.deepcopy(PHI)\n",
    "\n",
    "for t in range(max_iterations):\n",
    "    print(f\"Iteration {t+1}\")\n",
    "    for i in tqdm(range(N), desc=\"Updating PHI and GAMMA\"):\n",
    "        document = documents[i]\n",
    "        nonzero_idx = nonzero_idxs[i]\n",
    "        GAMMA_i_t = copy.deepcopy(GAMMA_t[i])\n",
    "        word_idx = 0\n",
    "        for idx in nonzero_idx:\n",
    "            log_PHI_ij = np.zeros((K,))\n",
    "            for k in range(K):\n",
    "                LAMBDA_k_t = copy.deepcopy(LAMBDA_t[k])\n",
    "                exp_propto = digamma(GAMMA_i_t[k]) - digamma(np.sum(GAMMA_i_t)) + digamma(LAMBDA_k_t[idx]) - digamma(np.sum(LAMBDA_k_t))\n",
    "                log_PHI_ij[k] = exp_propto\n",
    "            PHI_ij = np.exp(log_PHI_ij - log_sum_exp(log_PHI_ij))\n",
    "            PHI_t[i][word_idx] = PHI_ij\n",
    "            word_idx += 1\n",
    "        GAMMA_i_t = np.zeros((K,)) + ALPHA\n",
    "        for k in range(K):\n",
    "            GAMMA_i_t[k] += np.sum(document[nonzero_idx] * PHI_t[i][:, k])\n",
    "        GAMMA_t[i] = GAMMA_i_t\n",
    "\n",
    "    for k in tqdm(range(K), desc=\"Updating LAMBDA\"):\n",
    "        LAMBDA_k_t = np.zeros((V,)) + ETA\n",
    "        for i in range(N):\n",
    "            document = documents[i]\n",
    "            nonzero_idx = nonzero_idxs[i]\n",
    "            word_idx = 0\n",
    "            for idx in nonzero_idx:\n",
    "                LAMBDA_k_t[idx] += document[idx] * PHI_t[i][word_idx][k]\n",
    "                word_idx += 1\n",
    "            LAMBDA_t[k] = LAMBDA_k_t\n",
    "\n",
    "    prev_ELBO = curr_ELBO\n",
    "    curr_ELBO = compute_ELBO(LAMBDA_t, GAMMA_t, PHI_t, documents, nonzero_idxs, K)\n",
    "    ELBOs.append(curr_ELBO)\n",
    "    print(f\"Current ELBO: {curr_ELBO} | Change in ELBO: {curr_ELBO - prev_ELBO}\\n\")\n",
    "\n",
    "    if abs(curr_ELBO - prev_ELBO) < tol:\n",
    "        break\n",
    "stop = time.time()\n",
    "\n",
    "LAMBDA_final = copy.deepcopy(LAMBDA_t)\n",
    "GAMMA_final = copy.deepcopy(GAMMA_t)\n",
    "PHI_final = copy.deepcopy(PHI_t)\n",
    "\n",
    "plt.ticklabel_format(style=\"sci\", axis=\"y\", scilimits=(0, 0))\n",
    "plt.plot(np.linspace(0, stop-start, len(ELBOs)), ELBOs)"
   ]
  },
  {
   "cell_type": "code",
   "execution_count": 347,
   "metadata": {},
   "outputs": [
    {
     "data": {
      "text/plain": [
       "array([7.63691006e-05, 7.63894879e-05, 7.63863854e-05, 7.64006659e-05,\n",
       "       2.37388297e-03, 7.63820158e-05, 2.02667016e-02, 7.63871094e-05,\n",
       "       7.63691006e-05, 7.63792517e-05, 7.63806114e-05, 7.63743099e-05,\n",
       "       1.00041633e-02, 7.64299680e-05, 7.63964804e-05, 7.63691006e-05,\n",
       "       7.63868651e-05, 7.63691006e-05, 7.63919826e-05, 7.63907395e-05,\n",
       "       7.63878054e-05, 7.63844541e-05, 7.63738372e-05, 7.63960307e-05,\n",
       "       7.63691006e-05, 7.63761337e-05, 7.63857154e-05, 7.63691006e-05,\n",
       "       4.65835119e-03, 7.63850973e-05, 7.64263217e-05, 9.87340302e-04,\n",
       "       7.63938218e-05, 7.63973554e-05, 3.13098613e-03, 7.64032881e-05,\n",
       "       7.63891107e-05, 1.60360493e-03, 7.63954567e-05, 7.63691006e-05,\n",
       "       7.63891461e-05, 7.63691006e-05, 7.63995538e-05, 7.63904336e-05,\n",
       "       7.63988926e-05, 7.63907749e-05, 7.63691006e-05, 7.63939815e-05,\n",
       "       7.65093104e-05, 7.63742447e-05, 7.63820227e-05, 7.64097360e-05,\n",
       "       7.65026136e-05, 7.64505695e-05, 5.48771457e-03, 7.63862948e-05,\n",
       "       7.63691006e-05, 7.66056210e-05, 2.36713589e-03, 7.63691006e-05,\n",
       "       7.63968762e-05, 7.63747095e-05, 7.63771294e-05, 7.63966884e-05,\n",
       "       7.64424897e-05, 7.63987779e-05, 7.64128180e-05, 2.36717757e-03,\n",
       "       7.64128600e-05, 7.67292436e-05, 7.63824188e-05, 7.63924139e-05,\n",
       "       7.63888628e-05, 7.64041918e-05, 7.63864657e-05, 7.63691006e-05,\n",
       "       7.63892324e-05, 7.64135939e-05, 6.94949541e-03, 9.11880940e-03,\n",
       "       7.64048702e-05, 7.63819432e-05, 1.48058444e-03, 7.63691006e-05,\n",
       "       7.63841259e-05, 7.64091043e-05, 7.63725162e-05, 3.62167044e-03,\n",
       "       7.63945104e-05, 7.64090470e-05, 7.63740226e-05, 7.63791982e-05,\n",
       "       7.63691006e-05, 7.63801507e-05, 7.64092917e-05, 1.14516829e-02,\n",
       "       4.18009705e-03, 7.63813043e-05, 7.64089900e-05, 7.64135280e-05,\n",
       "       7.63848790e-05, 7.64235767e-05, 7.63691006e-05, 7.63885980e-05,\n",
       "       7.64985349e-05, 1.30589962e-02, 7.64096992e-05, 8.80463895e-03,\n",
       "       7.63691006e-05, 7.63769501e-05, 7.63814972e-05, 7.63787280e-05,\n",
       "       7.63907235e-05, 7.64023452e-05, 7.63826717e-05, 7.63843767e-05,\n",
       "       7.63826902e-05, 7.63801455e-05, 7.63805921e-05, 7.64612963e-05,\n",
       "       5.47698840e-03, 7.63764623e-05, 7.63691010e-05, 7.63899489e-05,\n",
       "       7.63760762e-05, 7.64960190e-05, 7.63719642e-05, 4.00065623e-03,\n",
       "       7.64071843e-05, 7.63771885e-05, 7.63918703e-05, 7.63743789e-05,\n",
       "       7.64510567e-05, 7.63998318e-05, 7.63691006e-05, 7.63902916e-05,\n",
       "       7.63783086e-05, 7.64071656e-05, 7.64145766e-05, 7.68189254e-05,\n",
       "       7.63725962e-05, 7.63691006e-05, 7.63775798e-05, 7.64237900e-05,\n",
       "       7.63798390e-05, 5.17683361e-03, 7.64010002e-05, 7.63792734e-05,\n",
       "       2.49770223e-02, 7.67671516e-05, 7.64022838e-05, 7.63776223e-05,\n",
       "       7.63767964e-05, 7.63929363e-05, 7.64005433e-05, 7.63691006e-05,\n",
       "       7.63734716e-05, 7.64026169e-05, 7.63913975e-05, 7.63707095e-05,\n",
       "       7.63831111e-05, 7.63817918e-05, 8.39927439e-04, 7.63939981e-05,\n",
       "       7.64010443e-05, 2.65587349e-03, 7.64040828e-05, 7.63826710e-05,\n",
       "       7.63903796e-05, 5.94850658e-03, 7.64709741e-05, 7.63691006e-05,\n",
       "       7.63989701e-05, 7.63904843e-05, 7.64026541e-05, 7.64082670e-05,\n",
       "       7.63766533e-05, 7.63691006e-05, 7.63922248e-05, 1.47130846e-02,\n",
       "       7.64071934e-05, 8.39935348e-04, 7.63814023e-05, 2.13705987e-02,\n",
       "       7.63938575e-05, 7.63995898e-05, 7.63789692e-05, 7.64033263e-05,\n",
       "       7.63815091e-05, 7.63965588e-05, 7.64145145e-05, 7.65019618e-05,\n",
       "       7.64670895e-05, 8.47683904e-03, 7.63850303e-05, 7.63928739e-05,\n",
       "       7.63975043e-05, 8.39950749e-04, 7.63994343e-05, 7.63691006e-05,\n",
       "       1.22071323e-03, 7.63789513e-05, 7.63965732e-05, 7.63872031e-05,\n",
       "       7.63691006e-05, 7.64031013e-05, 7.63855683e-05, 7.63814385e-05,\n",
       "       7.63767441e-05, 7.63864245e-05, 7.63876357e-05, 4.35010175e-03,\n",
       "       7.63817330e-05, 7.64344400e-05, 7.63696535e-05, 7.63766686e-05,\n",
       "       7.63691006e-05, 7.63794148e-05, 7.63691006e-05, 7.63761179e-05,\n",
       "       7.63691006e-05, 7.63844628e-05, 7.64601609e-05, 7.63966168e-05,\n",
       "       7.63691006e-05, 7.63860210e-05, 7.64005391e-05, 7.63691006e-05,\n",
       "       1.16896840e-02, 7.63723982e-05, 7.63943450e-05, 7.63724822e-05,\n",
       "       7.63910400e-05, 7.64276656e-05, 7.63769927e-05, 8.39993159e-04,\n",
       "       7.63862519e-05, 7.65959089e-05, 1.38227430e-02, 7.63844105e-05,\n",
       "       7.63827763e-05, 7.63830177e-05, 7.64088623e-05, 3.13096102e-03,\n",
       "       7.63817368e-05, 7.63691006e-05, 7.63819645e-05, 7.64088262e-05,\n",
       "       7.63744353e-05, 7.63959286e-05, 4.48667344e-03, 7.63817052e-05,\n",
       "       7.63884417e-05, 7.63830936e-05, 7.63691006e-05, 7.63770879e-05,\n",
       "       7.63771936e-05, 7.63927173e-05, 7.63691006e-05, 7.63772089e-05,\n",
       "       7.63815430e-05, 7.63812432e-05, 7.63691006e-05, 7.64075186e-05,\n",
       "       7.63819158e-05, 7.63693668e-05, 7.64118335e-05, 7.63736798e-05,\n",
       "       7.64075599e-05, 7.63691006e-05, 7.63691006e-05, 1.60361599e-03,\n",
       "       7.63926785e-05, 9.24049869e-03, 7.63888802e-05, 7.63691006e-05,\n",
       "       7.51851383e-03, 7.63737813e-05, 7.64003132e-05, 7.63859234e-05,\n",
       "       7.63691006e-05, 7.64115421e-05, 7.63712228e-05, 7.65163303e-05,\n",
       "       7.63691006e-05, 7.63726065e-05, 7.64580173e-05, 1.97726311e-02,\n",
       "       7.71310894e-03, 7.64412880e-05, 7.63781498e-05, 7.64362248e-05,\n",
       "       1.84048029e-02, 7.63888900e-05, 7.63979810e-05, 7.64192174e-05,\n",
       "       7.63790197e-05, 7.63871675e-05, 7.64005746e-05, 7.63773471e-05,\n",
       "       7.65433844e-05, 7.63924214e-05, 7.63884109e-05, 7.64284750e-05,\n",
       "       7.63691007e-05, 7.63733167e-05, 7.63860897e-05, 7.63889005e-05,\n",
       "       7.63929913e-05, 7.64112167e-05, 1.78186742e-02, 7.64122374e-05,\n",
       "       7.63888819e-05, 7.63838196e-05, 7.63691006e-05, 7.63895347e-05,\n",
       "       7.63709061e-05, 7.63842241e-05, 7.63779363e-05, 7.66231569e-05,\n",
       "       7.63954297e-05, 7.63796717e-05, 7.63758176e-05, 4.51465069e-03,\n",
       "       7.63828905e-05, 7.64061569e-05, 7.63979778e-05, 7.63858088e-05,\n",
       "       7.63922166e-05, 7.64371992e-05, 7.63768534e-05, 2.36739060e-03,\n",
       "       7.63691006e-05, 7.63804969e-05, 7.63702397e-05, 7.63691006e-05,\n",
       "       1.45814343e-03, 7.63691006e-05, 7.63805377e-05, 7.63796382e-05,\n",
       "       7.64224487e-05, 7.63899857e-05, 7.63920851e-05, 7.64073436e-05,\n",
       "       7.63797267e-05, 7.63774873e-05, 7.63849138e-05, 7.64319923e-05,\n",
       "       7.63691006e-05, 7.63829005e-05, 7.64256789e-05, 7.63773854e-05,\n",
       "       7.65213643e-05, 1.80441591e-02, 7.76273035e-05, 1.13649244e-02,\n",
       "       7.63885598e-05, 5.38905753e-03, 7.63782587e-05, 7.64180552e-05,\n",
       "       7.63827117e-05, 7.64250505e-05, 7.63800701e-05, 7.64026308e-05,\n",
       "       7.63882713e-05, 7.63691007e-05, 7.63788564e-05, 7.63784042e-05,\n",
       "       7.63691006e-05, 7.64040492e-05, 7.63936564e-05, 7.63691006e-05,\n",
       "       7.63821576e-05, 6.18577179e-03, 6.00348886e-03, 7.63759613e-05,\n",
       "       7.63785036e-05, 7.63751173e-05, 7.71311811e-03, 7.63902867e-05,\n",
       "       7.63839709e-05, 7.63731572e-05, 7.64178460e-05, 7.63885949e-05,\n",
       "       7.63988847e-05, 7.63691006e-05, 7.63768938e-05, 7.63691006e-05,\n",
       "       7.63871724e-05, 7.63691006e-05, 7.63994210e-05, 7.71316794e-03,\n",
       "       7.64013706e-05, 7.81586783e-03, 7.63691006e-05, 7.64313658e-05,\n",
       "       7.63858354e-05, 7.64053971e-05, 7.63896958e-05, 7.63693457e-05,\n",
       "       1.12604882e-03, 7.64037292e-05, 7.63691006e-05, 7.64078834e-05,\n",
       "       7.63704172e-05, 8.39913742e-04, 7.63691006e-05, 7.63691006e-05,\n",
       "       7.63903698e-05, 7.63830768e-05, 7.63721124e-05, 7.64062944e-05,\n",
       "       7.63809245e-05, 7.63781504e-05, 5.79835969e-03, 7.63928652e-05,\n",
       "       7.63809019e-05, 7.65217242e-05, 3.56259826e-03, 7.63913344e-05,\n",
       "       7.63691006e-05, 7.64169219e-05, 7.64892250e-05, 1.00042190e-02,\n",
       "       7.63691006e-05, 7.64230074e-05, 7.64456074e-05, 7.63691006e-05,\n",
       "       7.63796928e-05, 7.64107863e-05, 7.64096641e-05, 6.94950146e-03,\n",
       "       7.63879981e-05, 7.63852356e-05, 6.67461743e-03, 7.63932877e-05,\n",
       "       7.63691006e-05, 7.63825395e-05, 7.64204123e-05, 1.77973641e-03,\n",
       "       7.63923553e-05, 7.63732399e-05, 7.64288396e-05, 7.63989040e-05,\n",
       "       7.63691008e-05, 7.63893649e-05, 7.63864225e-05, 7.63887467e-05,\n",
       "       7.63998229e-05, 7.63691006e-05, 7.63859155e-05, 7.63898307e-05,\n",
       "       4.65838277e-03, 7.63714049e-05, 7.63760038e-05, 7.63821009e-05,\n",
       "       7.71314896e-03, 7.63891514e-05, 7.64049340e-05, 7.63863436e-05,\n",
       "       7.63880374e-05, 7.63968141e-05, 7.63893334e-05, 7.64041104e-05,\n",
       "       7.63691006e-05, 7.63784708e-05, 7.64062670e-05, 7.63802107e-05,\n",
       "       7.63931588e-05, 7.64199156e-05, 7.63691006e-05, 7.63974770e-05,\n",
       "       7.63787294e-05, 7.63691006e-05, 7.65514823e-05, 7.63792901e-05,\n",
       "       7.63700791e-05, 7.63787130e-05, 7.64000637e-05, 1.60366305e-03,\n",
       "       7.63803481e-05, 7.63854772e-05, 7.64883666e-05, 7.63878131e-05,\n",
       "       5.75934312e-03, 7.63691006e-05, 7.63867345e-05, 7.63831310e-05,\n",
       "       7.63990886e-05, 7.63817397e-05, 5.72723273e-03, 7.63804414e-05,\n",
       "       7.63810062e-05, 8.39833714e-04, 7.63984897e-05, 7.63919032e-05,\n",
       "       7.63815911e-05, 7.63843223e-05, 7.63691006e-05, 5.47056059e-03,\n",
       "       7.63691006e-05, 7.63926659e-05, 7.63793249e-05, 7.63739533e-05,\n",
       "       7.64046462e-05, 2.36728600e-03, 7.65107788e-05, 7.63878101e-05,\n",
       "       7.63691006e-05, 7.63956821e-05, 7.63803191e-05, 7.63691006e-05,\n",
       "       7.63697454e-05, 7.64311267e-05, 7.63833152e-05, 7.63691006e-05,\n",
       "       7.65068280e-05, 7.63840191e-05, 7.63706187e-05, 7.63880403e-05,\n",
       "       9.24039424e-03, 7.63989068e-05, 7.63871239e-05, 7.68791110e-05,\n",
       "       7.63967202e-05, 7.63800011e-05, 7.64070564e-05, 7.63865054e-05,\n",
       "       7.63831536e-05, 7.63691006e-05, 2.36731359e-03, 7.63793499e-05,\n",
       "       7.63989857e-05, 7.64072011e-05, 7.64065387e-05, 7.63836181e-05,\n",
       "       7.63691006e-05, 7.63691006e-05, 7.64722243e-05, 3.30606958e-03,\n",
       "       4.07542416e-03, 2.41005395e-03, 7.63931531e-05, 7.64222762e-05,\n",
       "       1.15316796e-02, 7.63691006e-05, 7.63740602e-05, 7.64069617e-05,\n",
       "       7.63881078e-05, 7.64014429e-05, 7.63742072e-05, 7.64150561e-05,\n",
       "       5.42208022e-03, 7.63861913e-05, 7.63855427e-05, 7.63916842e-05,\n",
       "       7.64099060e-05, 7.63779658e-05, 7.64007899e-05, 7.63691006e-05,\n",
       "       7.63828804e-05, 7.63822429e-05, 7.63814709e-05, 7.64567667e-05,\n",
       "       7.63748791e-05, 2.26276634e-03, 7.63888949e-05, 7.63878100e-05,\n",
       "       9.24055084e-03, 7.63691006e-05, 3.66155694e-03, 7.63909428e-05,\n",
       "       7.63983866e-05, 7.63706187e-05, 7.64072749e-05, 7.63916921e-05,\n",
       "       7.63806608e-05, 7.63783298e-05, 7.63845492e-05, 7.63991485e-05,\n",
       "       7.63918492e-05, 2.36723260e-03, 7.64628409e-05, 7.64021294e-05,\n",
       "       7.63691006e-05, 7.63777550e-05, 1.02351380e-02, 7.63939414e-05,\n",
       "       7.64007772e-05, 6.94916312e-03, 7.63758611e-05, 2.36719952e-03,\n",
       "       7.64025367e-05, 7.64190877e-05, 1.55029251e-02, 3.63373023e-03,\n",
       "       7.64018875e-05, 3.13098297e-03, 7.64364235e-05, 7.63862767e-05,\n",
       "       7.63814347e-05, 7.63691007e-05, 7.63800229e-05, 7.64492069e-05,\n",
       "       7.64581014e-05, 7.64045551e-05, 7.63850792e-05, 7.64280557e-05,\n",
       "       7.64079175e-05, 7.63802078e-05, 7.63765060e-05, 7.64486712e-05,\n",
       "       7.63756144e-05, 1.94120895e-02, 7.63874859e-05, 1.60367671e-03,\n",
       "       7.63866008e-05, 7.63915622e-05, 7.63887521e-05, 7.63993158e-05,\n",
       "       5.43571210e-03, 7.63763430e-05, 7.63908664e-05, 1.73614249e-03,\n",
       "       7.64450774e-05, 2.00297129e-02, 7.64069536e-05, 7.64007957e-05,\n",
       "       7.63778897e-05, 7.63691006e-05, 7.64174743e-05, 7.63792059e-05,\n",
       "       7.63994634e-05, 7.64358513e-05, 7.63744223e-05, 7.64655381e-05,\n",
       "       7.63920817e-05, 7.64068621e-05, 7.63691006e-05, 7.63960567e-05,\n",
       "       7.63835479e-05, 7.63984969e-05, 7.63756918e-05, 7.63691006e-05,\n",
       "       7.63720638e-05, 7.64136250e-05, 5.42207639e-03, 7.63922474e-05,\n",
       "       7.63904188e-05, 7.63691006e-05, 7.66132905e-05, 7.64196129e-05,\n",
       "       7.63691006e-05, 7.63691006e-05, 1.30589721e-02, 6.44825494e-03,\n",
       "       7.63849864e-05, 7.63864377e-05, 7.64180115e-05, 7.64017092e-05,\n",
       "       7.63898535e-05, 7.63913884e-05, 7.64080516e-05, 7.63909699e-05,\n",
       "       4.65846037e-03, 7.63812713e-05, 7.64754428e-05, 7.64050086e-05,\n",
       "       7.63734147e-05, 7.63774447e-05, 7.63691006e-05, 7.52124408e-03,\n",
       "       7.63829154e-05, 7.63979810e-05, 7.63915740e-05, 7.63722573e-05,\n",
       "       7.63811599e-05, 2.67608440e-03, 7.63888363e-05, 5.42206411e-03,\n",
       "       7.63985842e-05, 7.63855937e-05, 7.64171548e-05, 7.63981137e-05,\n",
       "       7.63691006e-05, 7.64458149e-05, 5.42199368e-03, 7.63792901e-05,\n",
       "       1.38795831e-03, 7.63776135e-05, 7.63786187e-05, 7.63852962e-05,\n",
       "       7.63983480e-05, 7.63731379e-05, 7.64065969e-05, 7.63691006e-05,\n",
       "       7.63717564e-05, 7.63825182e-05, 7.63691006e-05, 7.64033898e-05,\n",
       "       7.64013168e-05, 7.64085691e-05, 7.63907378e-05, 7.63691006e-05,\n",
       "       7.63722787e-05, 5.50541530e-03, 7.64243402e-05, 7.63826528e-05,\n",
       "       7.63804244e-05, 7.63745093e-05, 7.64529869e-05, 7.64023533e-05,\n",
       "       7.63792632e-05, 4.65834754e-03, 7.63933263e-05, 7.64101653e-05,\n",
       "       7.64051333e-05, 7.64770886e-05, 7.63935908e-05, 7.63691006e-05,\n",
       "       7.63691006e-05, 7.63816736e-05, 1.49959526e-02, 7.63947749e-05,\n",
       "       7.63886402e-05, 7.63808982e-05, 1.07678737e-02, 7.63791644e-05,\n",
       "       7.63691006e-05, 7.63919470e-05, 7.63691006e-05, 7.63780061e-05,\n",
       "       7.63936319e-05, 7.64267288e-05, 7.64386854e-05, 7.63775795e-05,\n",
       "       7.63818041e-05, 1.18145582e-02, 7.63691006e-05, 7.63879672e-05,\n",
       "       7.63790606e-05, 7.63921487e-05, 1.60042846e-03, 7.63814390e-05,\n",
       "       1.80607020e-03, 7.63740865e-05, 7.63691006e-05, 7.63770673e-05,\n",
       "       1.22953245e-02, 7.63911227e-05, 7.64136348e-05, 7.63789209e-05,\n",
       "       7.63727576e-05, 7.63753246e-05, 7.63874908e-05, 7.63875981e-05,\n",
       "       2.36721846e-03, 7.64445834e-05, 7.63691006e-05, 7.64217243e-05,\n",
       "       7.63964044e-05, 7.63808210e-05, 7.63716271e-05, 7.64335771e-05,\n",
       "       7.63691006e-05, 8.39755289e-04, 1.90509875e-03, 3.13105238e-03,\n",
       "       7.63791514e-05, 7.63691006e-05, 7.64204390e-05, 7.63691006e-05,\n",
       "       7.63851763e-05, 7.63924293e-05, 7.64164822e-05, 7.63788284e-05,\n",
       "       7.63801625e-05, 7.63691012e-05, 7.63831917e-05, 7.63824235e-05,\n",
       "       7.63832851e-05, 7.64353831e-05, 7.63811711e-05, 2.52780977e-02,\n",
       "       7.63854233e-05, 7.63691006e-05, 7.64021957e-05, 4.65843371e-03,\n",
       "       7.63870041e-05, 7.65330910e-05, 7.64150423e-05, 7.65008779e-05,\n",
       "       3.13094865e-03, 2.19003825e-03, 7.63895208e-05, 7.64476985e-05,\n",
       "       7.63885653e-05, 7.63805726e-05, 7.65495573e-05, 7.68678551e-03,\n",
       "       7.63762227e-05, 7.63691006e-05, 7.64807982e-05, 7.63969446e-05,\n",
       "       7.63897604e-05, 7.63798192e-05, 1.45863383e-02, 7.63896200e-05,\n",
       "       7.63691006e-05, 7.63903059e-05, 7.63921935e-05, 7.63691006e-05,\n",
       "       7.63772249e-05, 7.63743956e-05, 7.63880084e-05, 7.63691006e-05,\n",
       "       7.63712064e-05, 7.64266754e-05, 7.63899967e-05, 7.63740591e-05,\n",
       "       7.63807285e-05, 7.63842934e-05, 7.63861360e-05, 9.24049755e-03,\n",
       "       1.38227216e-02, 7.63765472e-05, 7.63743360e-05, 7.63768487e-05,\n",
       "       2.84418263e-03, 7.64304971e-05, 7.63912370e-05, 1.54635822e-03,\n",
       "       7.63887015e-05, 7.63788664e-05, 4.15456665e-03, 7.63786107e-05,\n",
       "       7.64161762e-05, 7.63783313e-05, 8.17082754e-03, 7.64084784e-05,\n",
       "       7.63814620e-05, 7.65632168e-05, 7.63779442e-05, 1.97978643e-03,\n",
       "       7.63997495e-05, 4.39533514e-03, 7.63744714e-05, 7.63947333e-05,\n",
       "       7.64122569e-05, 7.64018076e-05, 5.04063432e-03, 7.64289549e-05,\n",
       "       7.63846465e-05, 7.63891817e-05, 7.63832769e-05, 7.64078428e-05,\n",
       "       7.64088070e-05, 7.64044061e-05, 7.63751719e-05, 8.79569975e-03,\n",
       "       7.63974353e-05, 7.64185259e-05, 7.63963652e-05, 7.64322954e-05,\n",
       "       7.64019517e-05, 7.64331202e-05, 7.63691006e-05, 7.63818309e-05,\n",
       "       7.64084975e-05, 1.15316589e-02, 9.31358641e-03, 7.64133788e-05,\n",
       "       7.63994863e-05, 7.63885451e-05, 7.63730797e-05, 7.63867734e-05,\n",
       "       7.63920615e-05, 7.63875473e-05, 7.63866281e-05, 7.63820905e-05,\n",
       "       7.63691009e-05, 4.06948090e-03, 7.64078682e-05, 7.63691006e-05,\n",
       "       7.63805961e-05, 7.63691006e-05, 7.63815361e-05, 7.64017372e-05,\n",
       "       7.63762470e-05, 1.15316064e-02, 7.63691006e-05, 7.64680615e-05,\n",
       "       7.63860758e-05, 7.63691006e-05, 7.63855853e-05, 7.63785747e-05,\n",
       "       7.64301558e-05, 7.63919357e-05, 7.63691006e-05, 7.64046766e-05,\n",
       "       7.63767136e-05, 7.64406579e-05, 3.13070265e-03, 7.63691006e-05,\n",
       "       7.63740425e-05, 7.63708407e-05, 7.63725471e-05, 7.63933918e-05,\n",
       "       7.63939554e-05, 7.63868935e-05, 7.63797674e-05, 7.64048355e-05,\n",
       "       7.63803673e-05, 7.63782189e-05, 7.63691006e-05, 7.63802354e-05,\n",
       "       7.63824083e-05, 6.54793151e-03, 7.63817676e-05, 7.63691006e-05,\n",
       "       7.63780327e-05, 7.64531464e-05, 7.63865564e-05, 7.64480648e-05,\n",
       "       1.22244371e-02, 7.66118863e-05, 7.63898850e-05, 7.64021174e-05,\n",
       "       7.63691006e-05, 7.63808995e-05, 7.64129276e-05, 7.63994898e-05,\n",
       "       8.39906242e-04, 7.63691006e-05, 8.39906920e-04, 7.64111480e-05,\n",
       "       7.63745079e-05, 7.63853723e-05, 7.64087178e-05, 7.63781605e-05,\n",
       "       7.63697632e-05, 7.63788947e-05, 7.63892561e-05, 1.63783958e-03,\n",
       "       7.65747977e-05, 7.63818186e-05, 7.63996994e-05, 7.63691006e-05,\n",
       "       7.63758807e-05, 7.64173344e-05, 7.63691006e-05, 7.64060831e-05,\n",
       "       7.66537358e-05, 7.63873111e-05, 7.63976224e-05, 7.63900015e-05,\n",
       "       7.63691006e-05, 3.13101631e-03, 7.64071353e-05, 7.63921581e-05,\n",
       "       7.63828905e-05, 7.63906139e-05, 7.63866813e-05, 7.63864299e-05,\n",
       "       7.63772620e-05, 7.64449405e-05, 7.63691006e-05, 7.63822955e-05,\n",
       "       7.63829664e-05, 7.63746884e-05, 7.63890290e-05, 7.63789961e-05,\n",
       "       7.63691006e-05, 7.63746356e-05, 1.69085713e-03, 7.63815004e-05,\n",
       "       7.63832346e-05, 7.63791102e-05, 1.60342798e-03, 7.64031366e-05,\n",
       "       7.63691006e-05, 7.63834704e-05, 7.63899154e-05, 7.63691006e-05,\n",
       "       7.64458153e-05, 7.63913672e-05, 7.63917884e-05, 7.63760922e-05,\n",
       "       7.64042233e-05, 7.64800870e-05, 7.63878580e-05, 7.64342487e-05,\n",
       "       7.63790994e-05, 7.64260547e-05, 7.63754640e-05, 7.63779404e-05,\n",
       "       7.63834839e-05, 7.63904843e-05, 7.64208583e-05, 1.07755045e-03])"
      ]
     },
     "execution_count": 347,
     "metadata": {},
     "output_type": "execute_result"
    }
   ],
   "source": [
    "LAMBDA_norm = LAMBDA_final / np.sum(LAMBDA_final, axis=1, keepdims=True)\n",
    "LAMBDA_norm[0]"
   ]
  },
  {
   "cell_type": "code",
   "execution_count": 346,
   "metadata": {},
   "outputs": [
    {
     "data": {
      "text/plain": [
       "array([8.56031327e-04, 1.53142277e-03, 1.41409500e-02, 7.42729949e-05,\n",
       "       1.25051553e-04, 2.94825707e-17, 4.97555058e-15, 5.49216527e-07,\n",
       "       1.29271117e-08, 5.77470380e-23, 7.60241476e-03, 1.16838758e-07,\n",
       "       1.15547663e-17, 1.03891911e-04, 2.67543273e-23, 1.57183526e-04,\n",
       "       6.85034433e-06, 6.73441549e-52, 3.55282784e-04, 2.81252098e-08,\n",
       "       4.62049587e-03, 4.30351841e-06, 6.52476390e-07, 2.44418994e-04,\n",
       "       2.64671465e-11, 8.43170942e-09, 5.12466982e-03, 6.07989996e-09,\n",
       "       3.02021114e-05, 1.84348987e-03, 4.30694631e-11, 8.55039025e-06,\n",
       "       2.48794304e-02, 1.01326592e-05, 4.31151738e-03, 3.77330498e-09,\n",
       "       2.35056701e-11, 5.92158552e-05, 9.46937703e-03, 1.34536650e-11,\n",
       "       1.17488263e-09, 2.69365666e-06, 1.18740503e-02, 1.95277743e-03,\n",
       "       2.57484945e-12, 1.15968348e-02, 1.43614208e-13, 1.42679223e-04,\n",
       "       2.85080936e-04, 2.88702600e-08, 1.97867744e-03, 2.54657674e-04,\n",
       "       1.29447357e-09, 5.91546230e-04, 9.28311057e-12, 3.07287446e-08,\n",
       "       1.20091526e-08, 6.79248518e-04, 7.77681801e-05, 2.29734907e-05,\n",
       "       1.69941846e-21, 2.35197823e-10, 3.45446073e-05, 4.34634273e-11,\n",
       "       3.21841612e-05, 7.88624259e-03, 5.40325855e-07, 3.47882831e-14,\n",
       "       3.99930914e-04, 9.83975064e-07, 2.72115449e-08, 7.29206782e-08,\n",
       "       2.75115115e-04, 4.67080323e-05, 1.17975035e-05, 5.09653158e-07,\n",
       "       7.93830840e-12, 1.94944406e-03, 2.07803459e-10, 4.14962441e-03,\n",
       "       3.64457653e-04, 4.31632822e-03, 3.69922819e-03, 9.05121452e-23,\n",
       "       1.75050795e-11, 1.84317408e-07, 3.19253960e-11, 7.09591959e-08,\n",
       "       5.94424603e-03, 6.33921407e-12, 2.76263175e-04, 1.43354203e-10,\n",
       "       3.00796477e-08, 8.21481846e-08, 5.03487486e-13, 1.71606346e-03,\n",
       "       5.42683013e-08, 6.11540367e-06, 1.14353525e-10, 2.67814464e-09,\n",
       "       2.91485489e-03, 3.92189586e-11, 2.28604002e-09, 1.61324452e-13,\n",
       "       7.98215826e-05, 1.60056808e-10, 4.57157564e-04, 5.11038297e-03,\n",
       "       5.13576580e-09, 5.70798467e-08, 7.49172235e-04, 2.44048509e-08,\n",
       "       1.40993679e-12, 1.70312534e-03, 5.97559359e-05, 1.25718110e-07,\n",
       "       1.06563418e-05, 1.60509536e-03, 4.59625326e-18, 2.60313708e-03,\n",
       "       5.28540408e-21, 4.29990805e-10, 1.09876856e-07, 4.58316409e-07,\n",
       "       8.19529242e-12, 3.73145355e-15, 2.23064173e-06, 2.42083314e-09,\n",
       "       2.32687050e-16, 3.52620739e-05, 7.13111346e-06, 1.94229711e-03,\n",
       "       4.56781040e-04, 4.40711453e-03, 6.82121342e-09, 4.05120353e-16,\n",
       "       3.55063873e-05, 1.52627179e-05, 2.02372742e-09, 9.81929477e-31,\n",
       "       1.74639909e-05, 7.81547809e-09, 3.00883804e-15, 4.96088889e-14,\n",
       "       1.08553900e-05, 1.09076871e-03, 2.50854786e-03, 3.30939973e-05,\n",
       "       7.61804160e-09, 3.85883883e-07, 7.98635403e-18, 2.26222861e-07,\n",
       "       2.58551657e-03, 2.19572555e-09, 1.35893872e-03, 1.82392628e-09,\n",
       "       1.32838694e-07, 4.38770820e-04, 1.16839158e-04, 3.38840260e-09,\n",
       "       5.85544332e-04, 7.16369416e-19, 1.34506533e-11, 3.48801573e-07,\n",
       "       1.61387395e-09, 2.12824075e-19, 1.80146430e-03, 5.26881795e-13,\n",
       "       1.01279686e-06, 3.28607513e-11, 4.39467350e-04, 9.08400917e-05,\n",
       "       3.20225708e-03, 1.67928511e-04, 1.31341797e-25, 5.52508124e-08,\n",
       "       6.93515225e-06, 5.17095801e-11, 6.74784333e-06, 4.01990862e-04,\n",
       "       7.57914389e-09, 9.85795324e-04, 1.91696763e-05, 3.35547679e-02,\n",
       "       1.06759278e-03, 7.94802392e-11, 8.42647907e-10, 8.39694746e-06,\n",
       "       1.59799224e-04, 6.95583691e-03, 6.61970778e-06, 1.33197306e-05,\n",
       "       9.10817804e-05, 7.77236201e-03, 2.78409224e-03, 1.15137003e-07,\n",
       "       5.10904051e-03, 7.02223252e-09, 2.18530004e-04, 7.36976553e-04,\n",
       "       1.98366945e-04, 6.67201202e-10, 1.78686483e-03, 1.51178555e-02,\n",
       "       2.78410003e-06, 8.83322853e-04, 3.80797916e-05, 5.52223374e-05,\n",
       "       1.45427098e-07, 2.41851005e-03, 4.24378789e-10, 8.64262312e-19,\n",
       "       4.95267972e-05, 1.36707611e-04, 3.03528065e-04, 2.91456259e-21,\n",
       "       6.01533232e-10, 5.01408394e-08, 3.15891820e-13, 1.52671228e-11,\n",
       "       2.25438455e-08, 1.33220488e-03, 7.79531725e-25, 6.38192217e-08,\n",
       "       1.73909523e-09, 1.25784739e-05, 2.91582477e-06, 3.66485139e-05,\n",
       "       2.29405835e-03, 3.62796315e-04, 2.77119563e-09, 4.16408683e-05,\n",
       "       6.47213120e-04, 6.07331439e-04, 1.10042484e-12, 1.70304137e-11,\n",
       "       4.91585570e-06, 1.59714006e-04, 2.26860608e-05, 2.68204214e-09,\n",
       "       7.48100491e-15, 3.31285342e-03, 2.53170403e-20, 2.30902923e-07,\n",
       "       3.93496142e-05, 4.31456793e-21, 1.14740716e-05, 7.50029286e-08,\n",
       "       6.99548910e-16, 5.55662682e-03, 3.80094766e-09, 5.80473516e-03,\n",
       "       2.71521389e-05, 4.09257527e-09, 1.04360400e-03, 2.40503852e-27,\n",
       "       1.03727455e-06, 1.36658032e-03, 1.43114516e-06, 5.83227878e-03,\n",
       "       7.22428940e-05, 1.32885305e-03, 1.23650194e-05, 7.36404011e-04,\n",
       "       4.14966920e-03, 4.03514751e-09, 1.23706767e-12, 1.04866029e-07,\n",
       "       1.38965178e-03, 1.71205565e-04, 2.24144141e-05, 4.89944500e-04,\n",
       "       5.37161092e-03, 1.74596696e-04, 4.23841348e-05, 3.23151475e-25,\n",
       "       2.97334708e-03, 6.37090266e-04, 1.03128222e-07, 2.40372740e-09,\n",
       "       8.01621440e-06, 1.09535490e-02, 1.86443110e-12, 4.39768576e-04,\n",
       "       2.59122942e-03, 4.61042896e-07, 1.09989592e-05, 3.22745764e-04,\n",
       "       5.72905344e-03, 2.23679608e-11, 1.11168451e-04, 2.55345318e-12,\n",
       "       2.06416258e-06, 5.83134006e-04, 3.05931386e-08, 5.28306194e-06,\n",
       "       3.03495817e-08, 1.96497075e-05, 1.42381973e-03, 2.58238795e-05,\n",
       "       2.36891162e-07, 2.78182017e-07, 1.47486931e-07, 9.70389889e-07,\n",
       "       4.70730187e-10, 4.73870581e-11, 5.62572498e-04, 2.20514420e-04,\n",
       "       8.29765284e-09, 2.76659941e-08, 4.82941799e-03, 1.93995432e-11,\n",
       "       3.96576574e-03, 8.52879898e-03, 5.71624402e-06, 1.03183151e-05,\n",
       "       1.16067907e-07, 1.92072815e-07, 8.49619719e-09, 2.13610640e-10,\n",
       "       1.07141805e-06, 2.29018571e-05, 1.10551987e-09, 1.51409087e-09,\n",
       "       5.24884935e-08, 4.98198291e-04, 3.32008749e-05, 7.36585790e-15,\n",
       "       1.73820274e-06, 7.45916479e-09, 1.25712536e-04, 1.63621900e-05,\n",
       "       3.06871065e-06, 6.83244079e-03, 1.31353089e-08, 1.85403279e-08,\n",
       "       1.46171644e-13, 7.00140652e-04, 4.82586393e-04, 2.51300483e-05,\n",
       "       3.23429865e-03, 1.29101246e-03, 2.53736761e-04, 2.07604021e-07,\n",
       "       5.71324201e-05, 1.01061176e-04, 1.13756419e-17, 5.37912169e-11,\n",
       "       7.70830164e-06, 5.94952133e-06, 8.14724407e-09, 5.84509226e-04,\n",
       "       6.23989138e-06, 1.14204074e-02, 5.29416366e-05, 1.94869826e-06,\n",
       "       8.54995468e-11, 1.79609337e-03, 1.24459069e-03, 2.10344423e-09,\n",
       "       2.28704872e-07, 3.22105418e-11, 5.08943073e-04, 1.67078816e-04,\n",
       "       4.52712149e-06, 1.08929446e-04, 1.02323404e-04, 2.23655983e-07,\n",
       "       5.68154050e-05, 2.08405605e-03, 2.03822802e-14, 6.96421839e-07,\n",
       "       2.21711636e-06, 6.65884841e-07, 7.31919556e-04, 6.29168856e-08,\n",
       "       5.97354648e-14, 1.39453466e-05, 2.69937117e-03, 5.55043378e-06,\n",
       "       5.41052581e-03, 1.77428584e-05, 1.52263034e-06, 1.65949772e-04,\n",
       "       2.09109237e-11, 5.06882077e-07, 1.53221592e-12, 1.37771536e-06,\n",
       "       4.77283848e-03, 1.02918854e-07, 3.28672702e-03, 2.90356774e-03,\n",
       "       2.64515700e-03, 2.26909151e-06, 3.65287132e-08, 8.80815968e-03,\n",
       "       8.74353891e-03, 7.64177161e-03, 1.25067423e-06, 1.42359288e-06,\n",
       "       2.92685167e-07, 3.59622892e-06, 2.18256780e-05, 2.30601916e-04,\n",
       "       1.94258152e-17, 2.18033054e-04, 1.60514425e-06, 1.10565946e-06,\n",
       "       5.11474358e-11, 6.67947255e-10, 7.59201906e-05, 1.67984456e-04,\n",
       "       4.41845427e-05, 1.92082105e-07, 1.27605671e-05, 1.29023579e-09,\n",
       "       4.81422947e-05, 3.06194156e-09, 4.15151725e-02, 1.33014607e-06,\n",
       "       6.28064831e-07, 4.08816472e-04, 2.34895858e-10, 8.76685423e-04,\n",
       "       9.22533763e-05, 8.64089637e-14, 1.65806571e-05, 7.23276608e-07,\n",
       "       8.61156780e-04, 1.76067533e-08, 2.48445012e-12, 1.19392935e-03,\n",
       "       8.42573241e-11, 5.15183171e-08, 4.66030570e-03, 8.67568324e-09,\n",
       "       1.33804729e-08, 1.70464962e-11, 1.53654008e-03, 6.31258341e-11,\n",
       "       1.29926990e-21, 7.70965729e-14, 3.23633441e-11, 3.52678463e-03,\n",
       "       1.30113656e-10, 7.93788246e-03, 2.84969394e-05, 6.52216294e-05,\n",
       "       2.82287179e-13, 3.67818601e-04, 5.79891469e-06, 7.79753135e-05,\n",
       "       4.08336832e-04, 2.69726659e-06, 2.75072240e-05, 2.32412507e-05,\n",
       "       1.74364625e-03, 1.55307596e-04, 2.77449140e-09, 2.62662603e-03,\n",
       "       4.57529801e-05, 8.88256012e-04, 8.89610290e-16, 1.60741268e-03,\n",
       "       2.17590481e-13, 1.26167051e-12, 3.17287526e-06, 3.96964135e-06,\n",
       "       1.48553247e-19, 2.46513807e-05, 9.86157167e-06, 1.58245423e-05,\n",
       "       2.06392033e-05, 2.02489665e-05, 1.23760402e-04, 5.48366844e-10,\n",
       "       5.47479899e-07, 4.43954038e-03, 1.70348909e-06, 1.44649262e-28,\n",
       "       6.71722887e-04, 2.55329278e-05, 2.77804609e-25, 3.11565481e-04,\n",
       "       2.28106151e-03, 9.60700448e-05, 1.15033339e-03, 1.17325332e-04,\n",
       "       2.02275312e-03, 4.65994656e-13, 6.08182332e-03, 1.90822819e-18,\n",
       "       6.64929220e-05, 2.02317081e-05, 1.09913341e-08, 7.97541436e-12,\n",
       "       2.77755376e-11, 3.44746597e-03, 1.25199035e-07, 6.49521234e-03,\n",
       "       2.67324861e-06, 4.58540772e-07, 1.78113074e-06, 3.30129577e-08,\n",
       "       6.21343953e-04, 8.36128304e-07, 8.76591383e-04, 3.20449459e-08,\n",
       "       7.99769487e-08, 8.11380032e-03, 6.14116965e-05, 3.20492928e-14,\n",
       "       9.54204039e-09, 7.61319356e-04, 1.74679891e-11, 5.95055969e-08,\n",
       "       8.73187928e-05, 2.07036713e-05, 1.70741209e-24, 4.07601419e-03,\n",
       "       1.19346098e-16, 7.39536853e-13, 1.89913236e-11, 2.21343614e-13,\n",
       "       1.26025728e-08, 4.62104449e-07, 1.49146433e-02, 1.55656747e-04,\n",
       "       1.02515482e-23, 4.71855143e-08, 5.02598553e-08, 5.17279483e-15,\n",
       "       1.53181760e-07, 1.11296657e-03, 7.06103250e-09, 1.80612845e-07,\n",
       "       1.83994788e-04, 4.55912558e-12, 1.04191444e-03, 6.95271236e-05,\n",
       "       1.38320404e-02, 5.49053727e-10, 1.07382718e-03, 2.06872240e-09,\n",
       "       7.20542819e-05, 8.31933533e-12, 2.52748986e-10, 3.61743536e-06,\n",
       "       4.04536699e-09, 4.51012752e-08, 3.78030762e-03, 3.85684019e-04,\n",
       "       2.94300831e-06, 1.61402610e-06, 4.50548643e-10, 3.00513838e-07,\n",
       "       1.23556811e-04, 1.37000916e-04, 7.19497991e-03, 3.75003489e-13,\n",
       "       8.13681558e-06, 1.03743289e-09, 5.75373035e-09, 3.50758182e-05,\n",
       "       5.33604136e-13, 9.97573155e-09, 1.56184909e-08, 1.50079631e-05,\n",
       "       5.29148290e-04, 2.77425565e-12, 1.37793392e-04, 1.78210748e-08,\n",
       "       3.04184261e-29, 7.47591637e-07, 1.50874039e-06, 8.26469510e-07,\n",
       "       2.71366722e-09, 2.93524814e-04, 2.12138872e-12, 1.01584830e-02,\n",
       "       2.52212676e-13, 8.62222807e-07, 2.60046411e-05, 3.61617717e-07,\n",
       "       8.79028933e-08, 2.33567651e-13, 2.09783112e-03, 3.64997565e-05,\n",
       "       6.83674003e-08, 9.90233132e-13, 1.07055263e-04, 2.55187420e-03,\n",
       "       1.35107062e-07, 4.52420783e-06, 6.34397681e-03, 6.00471908e-05,\n",
       "       2.07899426e-05, 9.97125189e-09, 7.12687663e-04, 4.75838599e-08,\n",
       "       8.30553521e-07, 5.97889741e-09, 7.44005230e-06, 8.10046476e-13,\n",
       "       2.35125748e-03, 2.56667869e-13, 3.54893839e-03, 4.77760084e-06,\n",
       "       2.76458769e-10, 7.01201815e-09, 1.07142802e-03, 7.37883957e-11,\n",
       "       1.80275313e-05, 8.28484727e-09, 4.36690246e-03, 3.31536128e-04,\n",
       "       1.29448219e-11, 2.38387145e-02, 4.92112653e-10, 9.74969129e-07,\n",
       "       3.89630594e-03, 3.85254530e-09, 6.32537551e-06, 5.11442522e-21,\n",
       "       2.18002190e-07, 4.78482438e-05, 1.98498812e-03, 5.11527442e-03,\n",
       "       4.18609486e-04, 1.65049823e-15, 1.74291978e-14, 1.32888904e-12,\n",
       "       9.70951250e-03, 6.51199306e-09, 5.90624612e-04, 1.24869444e-03,\n",
       "       1.99151184e-09, 6.96807755e-07, 7.56159241e-05, 8.81560390e-03,\n",
       "       2.12352234e-06, 5.26607760e-06, 2.75679695e-18, 3.08094912e-10,\n",
       "       7.42682092e-12, 3.28240207e-06, 3.76441230e-04, 3.65745754e-03,\n",
       "       2.69447557e-15, 2.85350628e-13, 1.61232310e-06, 1.67864863e-13,\n",
       "       1.69620405e-09, 3.61533667e-12, 5.32433325e-09, 2.57879699e-04,\n",
       "       2.44024238e-03, 7.12057537e-13, 3.83515498e-03, 1.19073700e-04,\n",
       "       1.74532160e-02, 1.01829482e-02, 1.06447734e-20, 1.03161338e-02,\n",
       "       2.12495883e-04, 3.73614044e-06, 6.24916470e-08, 6.29911013e-03,\n",
       "       2.13478788e-13, 5.73371106e-12, 1.42739063e-04, 2.70857325e-09,\n",
       "       4.77831134e-07, 1.75825282e-06, 7.42213572e-06, 7.44067843e-04,\n",
       "       2.66243503e-04, 7.39532897e-03, 7.59281744e-14, 2.47786957e-14,\n",
       "       2.87848062e-06, 6.81956798e-09, 9.46733593e-05, 7.39771583e-06,\n",
       "       3.87755982e-08, 2.55288807e-03, 1.40991047e-03, 2.25600487e-11,\n",
       "       4.10327663e-11, 3.47409040e-03, 2.07425995e-05, 7.36848694e-05,\n",
       "       7.28610817e-03, 3.35250553e-04, 1.62670281e-08, 1.08808802e-04,\n",
       "       7.28479851e-05, 3.08355453e-18, 2.03158709e-04, 7.23738246e-03,\n",
       "       4.24080077e-08, 1.00321707e-09, 1.13723033e-03, 1.27131880e-08,\n",
       "       3.33173586e-04, 1.39666306e-08, 3.06448590e-06, 5.56822549e-11,\n",
       "       2.73728510e-05, 1.53850669e-04, 4.59793925e-04, 3.17882135e-05,\n",
       "       1.53460240e-04, 7.80002436e-10, 3.47047849e-06, 4.19296283e-05,\n",
       "       4.82312829e-04, 1.40408522e-06, 1.43745896e-03, 3.48076592e-04,\n",
       "       1.34201031e-03, 7.90641876e-05, 2.10318214e-03, 1.37190683e-04,\n",
       "       6.21244403e-04, 7.06494716e-03, 4.88677681e-04, 9.02502912e-10,\n",
       "       3.54446159e-04, 1.92414881e-03, 1.42064556e-11, 3.36640821e-09,\n",
       "       4.91549436e-04, 5.38859573e-05, 4.84407998e-05, 4.02779362e-09,\n",
       "       3.94361894e-03, 2.52214527e-15, 1.13060315e-09, 1.06071966e-12,\n",
       "       6.19944484e-05, 2.11179147e-03, 8.91285099e-08, 4.79504196e-03,\n",
       "       3.63572828e-03, 4.87943374e-10, 1.88144091e-05, 1.72468859e-06,\n",
       "       1.74491454e-05, 3.63527282e-05, 1.36230651e-06, 8.74575688e-11,\n",
       "       3.85561044e-04, 1.35962985e-06, 1.62231348e-03, 1.93302066e-05,\n",
       "       4.68224567e-04, 9.92819146e-15, 1.20364794e-08, 6.08539800e-04,\n",
       "       1.88987815e-04, 2.74938310e-02, 8.15723709e-05, 1.21762011e-04,\n",
       "       3.42497637e-12, 6.10629649e-24, 4.14537752e-10, 9.09094748e-04,\n",
       "       2.34426098e-05, 6.10678167e-04, 9.08774619e-19, 1.05291029e-12,\n",
       "       2.55236012e-03, 7.04782660e-04, 2.00314534e-06, 8.48025573e-07,\n",
       "       1.41279347e-04, 2.99069100e-06, 7.26431737e-04, 1.56300395e-07,\n",
       "       5.39063106e-06, 3.25943722e-09, 1.17209175e-04, 1.00186947e-04,\n",
       "       3.94356833e-03, 8.88486682e-13, 2.02169337e-03, 9.60524523e-08,\n",
       "       2.57761914e-03, 1.74461924e-15, 1.09704527e-06, 4.52188715e-05,\n",
       "       2.11741517e-19, 1.31427237e-04, 1.80034744e-03, 7.78033227e-04,\n",
       "       8.51570277e-11, 1.73746409e-04, 4.34697020e-12, 5.38563920e-11,\n",
       "       1.81178143e-08, 1.77483083e-05, 5.18355751e-13, 3.82495612e-06,\n",
       "       2.58737589e-04, 3.13392217e-13, 2.63873785e-07, 6.50023497e-05,\n",
       "       2.26448575e-10, 1.33241432e-03, 4.61002662e-11, 7.43591670e-05,\n",
       "       4.36430699e-04, 1.48316954e-03, 2.83073139e-07, 6.35256291e-06,\n",
       "       1.74924928e-03, 3.10280210e-06, 6.34696471e-03, 4.67788738e-07,\n",
       "       1.47945608e-04, 1.60787919e-16, 8.52098707e-11, 3.69456704e-03,\n",
       "       1.45882386e-03, 1.74286551e-06, 1.38809737e-09, 8.84274470e-04,\n",
       "       7.44527537e-09, 2.73793596e-03, 1.19754937e-03, 6.72437353e-03,\n",
       "       1.37994476e-03, 3.63157245e-04, 4.84147236e-08, 1.48778607e-12,\n",
       "       3.98765330e-15, 9.97624221e-04, 7.77985828e-03, 1.78855710e-08,\n",
       "       5.22172491e-03, 4.15385447e-27, 2.54537306e-08, 8.96913643e-03,\n",
       "       1.35052792e-03, 1.11535988e-03, 2.78499235e-04, 1.12773706e-04,\n",
       "       6.26674788e-05, 4.23967601e-07, 2.75381471e-16, 1.86451782e-11,\n",
       "       3.10222049e-09, 2.56170018e-03, 6.81993061e-06, 5.39642452e-04,\n",
       "       3.51973008e-04, 1.85129958e-03, 3.07936648e-04, 7.50218393e-20,\n",
       "       4.24032579e-04, 1.34116170e-03, 1.91277211e-03, 7.50462843e-11,\n",
       "       2.69039223e-04, 3.24912715e-05, 1.74304269e-05, 1.37199296e-03,\n",
       "       1.52120129e-08, 1.48472316e-04, 1.21109312e-02, 1.66635318e-09,\n",
       "       1.21558650e-07, 7.59486389e-04, 2.67164756e-05, 7.99507437e-10,\n",
       "       1.73861367e-06, 5.94703346e-04, 3.02700038e-07, 1.43857693e-04,\n",
       "       1.93666214e-08, 3.44426934e-03, 5.25501456e-04, 9.48132328e-05,\n",
       "       6.53363772e-06, 9.05781164e-08, 1.44736720e-03, 1.93402521e-04,\n",
       "       1.56217868e-03, 8.86641498e-03, 1.42047183e-05, 6.81195772e-09,\n",
       "       1.01931811e-08, 5.72939141e-09, 6.32419938e-04, 2.50278350e-08,\n",
       "       1.73691644e-04, 1.25554189e-07, 1.56884058e-07, 1.06586169e-02,\n",
       "       6.86096811e-23, 1.52925435e-06, 1.52711433e-06, 3.53990023e-05,\n",
       "       3.84639251e-07, 4.12057448e-09, 7.55871265e-08, 9.24464503e-03,\n",
       "       6.73726573e-05, 1.16937189e-04, 1.23299085e-06, 4.09797167e-18,\n",
       "       1.10858278e-05, 1.62743870e-05, 3.17281183e-05, 3.82667675e-05,\n",
       "       1.35871946e-03, 3.16180496e-03, 5.23244102e-08, 1.08315492e-07,\n",
       "       1.16050075e-07, 9.14674375e-09, 8.94997765e-07, 3.28584432e-09,\n",
       "       6.35384320e-17, 8.00672479e-03, 1.07578275e-14, 1.93207297e-05,\n",
       "       3.45619559e-18, 5.19933121e-05, 7.31973160e-15, 7.44223838e-05,\n",
       "       4.30631544e-09, 9.08845406e-10, 1.47515589e-15, 9.25903943e-03,\n",
       "       2.41941609e-15, 2.44484396e-05, 1.74532685e-06, 1.09077547e-11,\n",
       "       5.85054383e-23, 4.55837893e-05, 4.44218126e-07, 2.86433372e-20,\n",
       "       1.66743976e-08, 2.70405142e-08, 7.13902491e-05, 4.30687428e-06,\n",
       "       4.51305373e-07, 1.74051976e-06, 7.21943600e-12, 4.27543374e-08,\n",
       "       1.11909270e-16, 9.66573227e-08, 7.26431338e-14, 9.70531602e-06,\n",
       "       3.13130891e-04, 1.11093362e-03, 1.98991172e-04, 6.73914341e-03,\n",
       "       3.12399753e-10, 1.04482638e-03, 2.80308634e-05, 2.73344159e-06,\n",
       "       3.71399521e-15, 2.98421796e-04, 1.07264206e-12, 2.42777551e-09,\n",
       "       1.46533303e-05, 1.84783710e-09, 1.51539638e-03, 1.43374224e-09,\n",
       "       4.24266924e-05, 3.18244003e-04, 2.47595750e-05, 5.31905355e-03,\n",
       "       8.49374612e-11, 5.06526674e-06, 9.71348363e-08, 1.04568747e-03,\n",
       "       1.51830693e-06, 8.46323990e-09, 2.63373556e-30, 2.14947055e-15,\n",
       "       1.26446540e-08, 5.71010160e-13, 2.32434005e-06, 1.92720695e-06,\n",
       "       1.07416358e-03, 2.56915157e-03, 3.05323862e-07, 8.70957837e-05,\n",
       "       3.61254361e-04, 7.87106911e-08, 2.81407792e-04, 4.00509762e-14,\n",
       "       4.11787026e-06, 2.78292304e-04, 2.03585675e-09, 3.43018063e-13])"
      ]
     },
     "execution_count": 346,
     "metadata": {},
     "output_type": "execute_result"
    }
   ],
   "source": [
    "BETA[0]"
   ]
  }
 ],
 "metadata": {
  "kernelspec": {
   "display_name": "ht",
   "language": "python",
   "name": "python3"
  },
  "language_info": {
   "codemirror_mode": {
    "name": "ipython",
    "version": 3
   },
   "file_extension": ".py",
   "mimetype": "text/x-python",
   "name": "python",
   "nbconvert_exporter": "python",
   "pygments_lexer": "ipython3",
   "version": "3.13.0"
  }
 },
 "nbformat": 4,
 "nbformat_minor": 2
}
