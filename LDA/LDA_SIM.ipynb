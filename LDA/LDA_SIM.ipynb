{
 "cells": [
  {
   "cell_type": "code",
   "execution_count": 318,
   "metadata": {},
   "outputs": [],
   "source": [
    "import os\n",
    "import time\n",
    "import pandas as pd\n",
    "import numpy as np\n",
    "import numpy.random as npr\n",
    "import copy\n",
    "import re\n",
    "import nltk\n",
    "import matplotlib.pyplot as plt\n",
    "import pandas as pd\n",
    "from nltk.corpus import stopwords\n",
    "from nltk.tokenize import word_tokenize\n",
    "from collections import Counter\n",
    "from tqdm import tqdm\n",
    "from scipy.special import digamma, loggamma\n",
    "from scipy.sparse import csr_matrix\n",
    "from typing import List, Dict, Tuple, Set, Optional"
   ]
  },
  {
   "cell_type": "code",
   "execution_count": 319,
   "metadata": {},
   "outputs": [],
   "source": [
    "def log_sum_exp(vec):\n",
    "    vec_max = np.max(vec, axis=0)\n",
    "    exp_vec = np.exp(vec - vec_max)\n",
    "    sum_exp_vec = np.sum(exp_vec)\n",
    "    log_sum_exp = np.log(sum_exp_vec) + vec_max\n",
    "    return log_sum_exp\n",
    "\n",
    "def init_variational_params(documents, K):\n",
    "    N, V = documents.shape\n",
    "    LAMBDA = np.random.uniform(low=0.01, high=1.0, size=(K, V))\n",
    "    GAMMA = np.ones((N, K))\n",
    "    PHI = []\n",
    "    for document in documents:\n",
    "        M = np.sum((document > 0).astype(\"int32\"))\n",
    "        document_PHI = np.ones((M, K))\n",
    "        document_PHI = document_PHI / K\n",
    "        PHI.append(document_PHI)\n",
    "        \n",
    "    return LAMBDA, GAMMA, PHI\n",
    "\n",
    "def compute_ELBO(LAMBDA, GAMMA, PHI, documents, nonzero_idxs, K):\n",
    "    ELBO = 0\n",
    "    N, _ = documents.shape\n",
    "\n",
    "    E_log_p_BETA = np.sum((ETA-1) * (digamma(LAMBDA) - digamma(np.sum(LAMBDA, axis=1, keepdims=True))))\n",
    "    ELBO += E_log_p_BETA\n",
    "\n",
    "    E_log_p_THETA = np.sum((ALPHA-1) * (digamma(GAMMA) - digamma(np.sum(GAMMA, axis=1, keepdims=True))))\n",
    "    ELBO += E_log_p_THETA\n",
    "\n",
    "    E_log_p_x_z = 0\n",
    "    for i in range(N):\n",
    "        document = documents[i]\n",
    "        nonzero_idx = nonzero_idxs[i]\n",
    "        word_idx = 0\n",
    "        for idx in nonzero_idx:\n",
    "            E_log_p_x_z += document[idx] * np.sum(PHI[i][word_idx] * (digamma(GAMMA[i])-digamma(np.sum(GAMMA[i])))) \\\n",
    "                + document[idx] * np.sum(PHI[i][word_idx] * (digamma(LAMBDA[:, idx])-digamma(np.sum(LAMBDA, axis=1))))\n",
    "            word_idx += 1\n",
    "    ELBO += E_log_p_x_z\n",
    "\n",
    "    E_log_q_BETA = np.sum(-loggamma(np.sum(LAMBDA, axis=1)) + np.sum(loggamma(LAMBDA), axis=1) \\\n",
    "        - np.sum((LAMBDA - 1) * (digamma(LAMBDA) - digamma(np.sum(LAMBDA, axis=1, keepdims=True))), axis=1))\n",
    "    ELBO += E_log_q_BETA\n",
    "\n",
    "    E_log_q_THETA = np.sum(-loggamma(np.sum(GAMMA, axis=1)) + np.sum(loggamma(GAMMA), axis=1) \\\n",
    "        - np.sum((GAMMA - 1) * (digamma(GAMMA) - digamma(np.sum(GAMMA, axis=1, keepdims=True))), axis=1))\n",
    "    ELBO += E_log_q_THETA\n",
    "\n",
    "    E_log_q_z = 0\n",
    "    for i in range(N):\n",
    "        document = documents[i]\n",
    "        nonzero_idx = nonzero_idxs[i]\n",
    "        word_idx = 0\n",
    "        for idx in nonzero_idx:\n",
    "            E_log_q_z += -document[idx] * np.sum(PHI[i][word_idx] * np.log(PHI[i][word_idx]))\n",
    "            word_idx += 1\n",
    "    ELBO += E_log_q_z\n",
    "\n",
    "    return ELBO"
   ]
  },
  {
   "cell_type": "code",
   "execution_count": 341,
   "metadata": {},
   "outputs": [],
   "source": [
    "def simulate_LDA(N, avg_doc_length, K, V, ETA, ALPHA, rs_int=np.random.randint(low=0, high=100)):\n",
    "    rs = npr.RandomState(rs_int) \n",
    "    BETA = rs.dirichlet(np.full(V, ETA), size=K)\n",
    "    THETA = rs.dirichlet(np.full(K, ALPHA), size=N)\n",
    "    doc_lengths = rs.poisson(avg_doc_length, size=N)\n",
    "    \n",
    "    row_idxs = []\n",
    "    col_idxs = []\n",
    "    values = []\n",
    "    nonzero_idxs = []\n",
    "\n",
    "    for i in range(N):\n",
    "        doc_word_counts = np.zeros(V)\n",
    "        for _ in range(doc_lengths[i]):\n",
    "            z_ij = rs.choice(K, p=THETA[i])\n",
    "            x_ij = rs.choice(V, p=BETA[z_ij])\n",
    "            doc_word_counts[x_ij] += 1\n",
    "        doc_nonzero = np.nonzero(doc_word_counts)[0]\n",
    "        doc_nonzero = np.array(sorted(doc_nonzero))\n",
    "        nonzero_idxs.append(doc_nonzero)\n",
    "\n",
    "        row_idxs.extend([i] * len(doc_nonzero))\n",
    "        col_idxs.extend(doc_nonzero)\n",
    "        values.extend(doc_word_counts[doc_nonzero])\n",
    "    documents = csr_matrix((values, (row_idxs, col_idxs)), shape=(N, V)).toarray()\n",
    "    \n",
    "    return documents, nonzero_idxs, BETA, THETA"
   ]
  },
  {
   "cell_type": "code",
   "execution_count": 343,
   "metadata": {},
   "outputs": [],
   "source": [
    "N = 100\n",
    "avg_doc_length = 100\n",
    "K = 10\n",
    "V = 1000\n",
    "ETA = 100 / V\n",
    "ALPHA = 1 / K\n",
    "documents, nonzero_idxs, BETA, THETA = simulate_LDA(N, avg_doc_length, K, V, ETA, ALPHA)\n",
    "LAMBDA, GAMMA, PHI = init_variational_params(documents, K)"
   ]
  },
  {
   "cell_type": "code",
   "execution_count": 344,
   "metadata": {},
   "outputs": [
    {
     "name": "stdout",
     "output_type": "stream",
     "text": [
      "Initial ELBO: -101662.60548352466\n",
      "\n",
      "Iteration 1\n"
     ]
    },
    {
     "name": "stderr",
     "output_type": "stream",
     "text": [
      "Updating PHI and GAMMA: 100%|██████████| 100/100 [00:02<00:00, 49.04it/s]\n",
      "Updating LAMBDA: 100%|██████████| 10/10 [00:00<00:00, 106.74it/s]\n"
     ]
    },
    {
     "name": "stdout",
     "output_type": "stream",
     "text": [
      "Current ELBO: -58055.83904342602 | Change in ELBO: 43606.76644009864\n",
      "\n",
      "Iteration 2\n"
     ]
    },
    {
     "name": "stderr",
     "output_type": "stream",
     "text": [
      "Updating PHI and GAMMA: 100%|██████████| 100/100 [00:01<00:00, 54.56it/s]\n",
      "Updating LAMBDA: 100%|██████████| 10/10 [00:00<00:00, 106.45it/s]\n"
     ]
    },
    {
     "name": "stdout",
     "output_type": "stream",
     "text": [
      "Current ELBO: -57130.46900401279 | Change in ELBO: 925.370039413232\n",
      "\n",
      "Iteration 3\n"
     ]
    },
    {
     "name": "stderr",
     "output_type": "stream",
     "text": [
      "Updating PHI and GAMMA: 100%|██████████| 100/100 [00:01<00:00, 51.40it/s]\n",
      "Updating LAMBDA: 100%|██████████| 10/10 [00:00<00:00, 95.20it/s]\n"
     ]
    },
    {
     "name": "stdout",
     "output_type": "stream",
     "text": [
      "Current ELBO: -56185.511807514704 | Change in ELBO: 944.957196498086\n",
      "\n",
      "Iteration 4\n"
     ]
    },
    {
     "name": "stderr",
     "output_type": "stream",
     "text": [
      "Updating PHI and GAMMA: 100%|██████████| 100/100 [00:01<00:00, 52.70it/s]\n",
      "Updating LAMBDA: 100%|██████████| 10/10 [00:00<00:00, 102.25it/s]\n"
     ]
    },
    {
     "name": "stdout",
     "output_type": "stream",
     "text": [
      "Current ELBO: -55176.459017936104 | Change in ELBO: 1009.0527895785999\n",
      "\n",
      "Iteration 5\n"
     ]
    },
    {
     "name": "stderr",
     "output_type": "stream",
     "text": [
      "Updating PHI and GAMMA: 100%|██████████| 100/100 [00:02<00:00, 46.08it/s]\n",
      "Updating LAMBDA: 100%|██████████| 10/10 [00:00<00:00, 111.40it/s]\n"
     ]
    },
    {
     "name": "stdout",
     "output_type": "stream",
     "text": [
      "Current ELBO: -54057.65600585552 | Change in ELBO: 1118.8030120805852\n",
      "\n",
      "Iteration 6\n"
     ]
    },
    {
     "name": "stderr",
     "output_type": "stream",
     "text": [
      "Updating PHI and GAMMA: 100%|██████████| 100/100 [00:02<00:00, 49.11it/s]\n",
      "Updating LAMBDA: 100%|██████████| 10/10 [00:00<00:00, 103.60it/s]\n"
     ]
    },
    {
     "name": "stdout",
     "output_type": "stream",
     "text": [
      "Current ELBO: -52857.59988395906 | Change in ELBO: 1200.0561218964576\n",
      "\n",
      "Iteration 7\n"
     ]
    },
    {
     "name": "stderr",
     "output_type": "stream",
     "text": [
      "Updating PHI and GAMMA: 100%|██████████| 100/100 [00:01<00:00, 54.47it/s]\n",
      "Updating LAMBDA: 100%|██████████| 10/10 [00:00<00:00, 113.82it/s]\n"
     ]
    },
    {
     "name": "stdout",
     "output_type": "stream",
     "text": [
      "Current ELBO: -51718.70087135352 | Change in ELBO: 1138.8990126055432\n",
      "\n",
      "Iteration 8\n"
     ]
    },
    {
     "name": "stderr",
     "output_type": "stream",
     "text": [
      "Updating PHI and GAMMA: 100%|██████████| 100/100 [00:01<00:00, 56.30it/s]\n",
      "Updating LAMBDA: 100%|██████████| 10/10 [00:00<00:00, 112.97it/s]\n"
     ]
    },
    {
     "name": "stdout",
     "output_type": "stream",
     "text": [
      "Current ELBO: -50736.10772284792 | Change in ELBO: 982.593148505599\n",
      "\n",
      "Iteration 9\n"
     ]
    },
    {
     "name": "stderr",
     "output_type": "stream",
     "text": [
      "Updating PHI and GAMMA: 100%|██████████| 100/100 [00:01<00:00, 55.12it/s]\n",
      "Updating LAMBDA: 100%|██████████| 10/10 [00:00<00:00, 74.16it/s]\n"
     ]
    },
    {
     "name": "stdout",
     "output_type": "stream",
     "text": [
      "Current ELBO: -49964.09241119561 | Change in ELBO: 772.015311652307\n",
      "\n",
      "Iteration 10\n"
     ]
    },
    {
     "name": "stderr",
     "output_type": "stream",
     "text": [
      "Updating PHI and GAMMA: 100%|██████████| 100/100 [00:01<00:00, 55.56it/s]\n",
      "Updating LAMBDA: 100%|██████████| 10/10 [00:00<00:00, 121.64it/s]\n"
     ]
    },
    {
     "name": "stdout",
     "output_type": "stream",
     "text": [
      "Current ELBO: -49396.64827056596 | Change in ELBO: 567.4441406296537\n",
      "\n",
      "Iteration 11\n"
     ]
    },
    {
     "name": "stderr",
     "output_type": "stream",
     "text": [
      "Updating PHI and GAMMA: 100%|██████████| 100/100 [00:01<00:00, 52.26it/s]\n",
      "Updating LAMBDA: 100%|██████████| 10/10 [00:00<00:00, 79.64it/s]\n"
     ]
    },
    {
     "name": "stdout",
     "output_type": "stream",
     "text": [
      "Current ELBO: -48995.70468921037 | Change in ELBO: 400.94358135559014\n",
      "\n",
      "Iteration 12\n"
     ]
    },
    {
     "name": "stderr",
     "output_type": "stream",
     "text": [
      "Updating PHI and GAMMA: 100%|██████████| 100/100 [00:02<00:00, 48.90it/s]\n",
      "Updating LAMBDA: 100%|██████████| 10/10 [00:00<00:00, 106.28it/s]\n"
     ]
    },
    {
     "name": "stdout",
     "output_type": "stream",
     "text": [
      "Current ELBO: -48702.26286367045 | Change in ELBO: 293.4418255399214\n",
      "\n",
      "Iteration 13\n"
     ]
    },
    {
     "name": "stderr",
     "output_type": "stream",
     "text": [
      "Updating PHI and GAMMA: 100%|██████████| 100/100 [00:01<00:00, 51.20it/s]\n",
      "Updating LAMBDA: 100%|██████████| 10/10 [00:00<00:00, 103.13it/s]\n"
     ]
    },
    {
     "name": "stdout",
     "output_type": "stream",
     "text": [
      "Current ELBO: -48479.14573521453 | Change in ELBO: 223.11712845591683\n",
      "\n",
      "Iteration 14\n"
     ]
    },
    {
     "name": "stderr",
     "output_type": "stream",
     "text": [
      "Updating PHI and GAMMA: 100%|██████████| 100/100 [00:02<00:00, 49.82it/s]\n",
      "Updating LAMBDA: 100%|██████████| 10/10 [00:00<00:00, 101.25it/s]\n"
     ]
    },
    {
     "name": "stdout",
     "output_type": "stream",
     "text": [
      "Current ELBO: -48310.47473316223 | Change in ELBO: 168.67100205230236\n",
      "\n",
      "Iteration 15\n"
     ]
    },
    {
     "name": "stderr",
     "output_type": "stream",
     "text": [
      "Updating PHI and GAMMA: 100%|██████████| 100/100 [00:02<00:00, 44.33it/s]\n",
      "Updating LAMBDA: 100%|██████████| 10/10 [00:00<00:00, 82.91it/s]\n"
     ]
    },
    {
     "name": "stdout",
     "output_type": "stream",
     "text": [
      "Current ELBO: -48184.946995733866 | Change in ELBO: 125.52773742836143\n",
      "\n",
      "Iteration 16\n"
     ]
    },
    {
     "name": "stderr",
     "output_type": "stream",
     "text": [
      "Updating PHI and GAMMA: 100%|██████████| 100/100 [00:02<00:00, 47.82it/s]\n",
      "Updating LAMBDA: 100%|██████████| 10/10 [00:00<00:00, 73.19it/s]\n"
     ]
    },
    {
     "name": "stdout",
     "output_type": "stream",
     "text": [
      "Current ELBO: -48091.818628338326 | Change in ELBO: 93.12836739554041\n",
      "\n",
      "Iteration 17\n"
     ]
    },
    {
     "name": "stderr",
     "output_type": "stream",
     "text": [
      "Updating PHI and GAMMA: 100%|██████████| 100/100 [00:02<00:00, 47.21it/s]\n",
      "Updating LAMBDA: 100%|██████████| 10/10 [00:00<00:00, 86.85it/s]\n"
     ]
    },
    {
     "name": "stdout",
     "output_type": "stream",
     "text": [
      "Current ELBO: -48018.000046879955 | Change in ELBO: 73.81858145837032\n",
      "\n",
      "Iteration 18\n"
     ]
    },
    {
     "name": "stderr",
     "output_type": "stream",
     "text": [
      "Updating PHI and GAMMA: 100%|██████████| 100/100 [00:02<00:00, 49.13it/s]\n",
      "Updating LAMBDA: 100%|██████████| 10/10 [00:00<00:00, 72.44it/s]\n"
     ]
    },
    {
     "name": "stdout",
     "output_type": "stream",
     "text": [
      "Current ELBO: -47956.74715977109 | Change in ELBO: 61.25288710886525\n",
      "\n",
      "Iteration 19\n"
     ]
    },
    {
     "name": "stderr",
     "output_type": "stream",
     "text": [
      "Updating PHI and GAMMA: 100%|██████████| 100/100 [00:02<00:00, 48.69it/s]\n",
      "Updating LAMBDA: 100%|██████████| 10/10 [00:00<00:00, 97.38it/s]\n"
     ]
    },
    {
     "name": "stdout",
     "output_type": "stream",
     "text": [
      "Current ELBO: -47909.78962159606 | Change in ELBO: 46.95753817503282\n",
      "\n",
      "Iteration 20\n"
     ]
    },
    {
     "name": "stderr",
     "output_type": "stream",
     "text": [
      "Updating PHI and GAMMA: 100%|██████████| 100/100 [00:02<00:00, 47.56it/s]\n",
      "Updating LAMBDA: 100%|██████████| 10/10 [00:00<00:00, 120.32it/s]\n"
     ]
    },
    {
     "name": "stdout",
     "output_type": "stream",
     "text": [
      "Current ELBO: -47875.94090864625 | Change in ELBO: 33.84871294980985\n",
      "\n",
      "Iteration 21\n"
     ]
    },
    {
     "name": "stderr",
     "output_type": "stream",
     "text": [
      "Updating PHI and GAMMA: 100%|██████████| 100/100 [00:02<00:00, 42.46it/s]\n",
      "Updating LAMBDA: 100%|██████████| 10/10 [00:00<00:00, 67.42it/s]\n"
     ]
    },
    {
     "name": "stdout",
     "output_type": "stream",
     "text": [
      "Current ELBO: -47851.90697877799 | Change in ELBO: 24.033929868259293\n",
      "\n",
      "Iteration 22\n"
     ]
    },
    {
     "name": "stderr",
     "output_type": "stream",
     "text": [
      "Updating PHI and GAMMA: 100%|██████████| 100/100 [00:02<00:00, 49.53it/s]\n",
      "Updating LAMBDA: 100%|██████████| 10/10 [00:00<00:00, 97.08it/s]\n"
     ]
    },
    {
     "name": "stdout",
     "output_type": "stream",
     "text": [
      "Current ELBO: -47832.67784182956 | Change in ELBO: 19.229136948430096\n",
      "\n",
      "Iteration 23\n"
     ]
    },
    {
     "name": "stderr",
     "output_type": "stream",
     "text": [
      "Updating PHI and GAMMA: 100%|██████████| 100/100 [00:02<00:00, 44.75it/s]\n",
      "Updating LAMBDA: 100%|██████████| 10/10 [00:00<00:00, 113.56it/s]\n"
     ]
    },
    {
     "name": "stdout",
     "output_type": "stream",
     "text": [
      "Current ELBO: -47815.681560552766 | Change in ELBO: 16.996281276791706\n",
      "\n",
      "Iteration 24\n"
     ]
    },
    {
     "name": "stderr",
     "output_type": "stream",
     "text": [
      "Updating PHI and GAMMA: 100%|██████████| 100/100 [00:02<00:00, 44.68it/s]\n",
      "Updating LAMBDA: 100%|██████████| 10/10 [00:00<00:00, 89.83it/s]\n"
     ]
    },
    {
     "name": "stdout",
     "output_type": "stream",
     "text": [
      "Current ELBO: -47800.536242304705 | Change in ELBO: 15.145318248061812\n",
      "\n",
      "Iteration 25\n"
     ]
    },
    {
     "name": "stderr",
     "output_type": "stream",
     "text": [
      "Updating PHI and GAMMA: 100%|██████████| 100/100 [00:02<00:00, 48.32it/s]\n",
      "Updating LAMBDA: 100%|██████████| 10/10 [00:00<00:00, 117.09it/s]\n"
     ]
    },
    {
     "name": "stdout",
     "output_type": "stream",
     "text": [
      "Current ELBO: -47786.21163696736 | Change in ELBO: 14.32460533734411\n",
      "\n",
      "Iteration 26\n"
     ]
    },
    {
     "name": "stderr",
     "output_type": "stream",
     "text": [
      "Updating PHI and GAMMA: 100%|██████████| 100/100 [00:02<00:00, 43.77it/s]\n",
      "Updating LAMBDA: 100%|██████████| 10/10 [00:00<00:00, 73.46it/s]\n"
     ]
    },
    {
     "name": "stdout",
     "output_type": "stream",
     "text": [
      "Current ELBO: -47772.316694767615 | Change in ELBO: 13.894942199745856\n",
      "\n",
      "Iteration 27\n"
     ]
    },
    {
     "name": "stderr",
     "output_type": "stream",
     "text": [
      "Updating PHI and GAMMA: 100%|██████████| 100/100 [00:02<00:00, 46.97it/s]\n",
      "Updating LAMBDA: 100%|██████████| 10/10 [00:00<00:00, 49.16it/s]\n"
     ]
    },
    {
     "name": "stdout",
     "output_type": "stream",
     "text": [
      "Current ELBO: -47760.04779317304 | Change in ELBO: 12.268901594572526\n",
      "\n",
      "Iteration 28\n"
     ]
    },
    {
     "name": "stderr",
     "output_type": "stream",
     "text": [
      "Updating PHI and GAMMA: 100%|██████████| 100/100 [00:02<00:00, 46.44it/s]\n",
      "Updating LAMBDA: 100%|██████████| 10/10 [00:00<00:00, 116.40it/s]\n"
     ]
    },
    {
     "name": "stdout",
     "output_type": "stream",
     "text": [
      "Current ELBO: -47749.227173632215 | Change in ELBO: 10.820619540827465\n",
      "\n",
      "Iteration 29\n"
     ]
    },
    {
     "name": "stderr",
     "output_type": "stream",
     "text": [
      "Updating PHI and GAMMA: 100%|██████████| 100/100 [00:02<00:00, 47.22it/s]\n",
      "Updating LAMBDA: 100%|██████████| 10/10 [00:00<00:00, 96.22it/s]\n"
     ]
    },
    {
     "name": "stdout",
     "output_type": "stream",
     "text": [
      "Current ELBO: -47740.09071373901 | Change in ELBO: 9.136459893205028\n",
      "\n",
      "Iteration 30\n"
     ]
    },
    {
     "name": "stderr",
     "output_type": "stream",
     "text": [
      "Updating PHI and GAMMA: 100%|██████████| 100/100 [00:02<00:00, 49.36it/s]\n",
      "Updating LAMBDA: 100%|██████████| 10/10 [00:00<00:00, 89.40it/s]\n"
     ]
    },
    {
     "name": "stdout",
     "output_type": "stream",
     "text": [
      "Current ELBO: -47732.71414700028 | Change in ELBO: 7.376566738726979\n",
      "\n",
      "Iteration 31\n"
     ]
    },
    {
     "name": "stderr",
     "output_type": "stream",
     "text": [
      "Updating PHI and GAMMA: 100%|██████████| 100/100 [00:02<00:00, 42.94it/s]\n",
      "Updating LAMBDA: 100%|██████████| 10/10 [00:00<00:00, 83.10it/s]\n"
     ]
    },
    {
     "name": "stdout",
     "output_type": "stream",
     "text": [
      "Current ELBO: -47727.2742940683 | Change in ELBO: 5.4398529319805675\n",
      "\n",
      "Iteration 32\n"
     ]
    },
    {
     "name": "stderr",
     "output_type": "stream",
     "text": [
      "Updating PHI and GAMMA: 100%|██████████| 100/100 [00:01<00:00, 50.16it/s]\n",
      "Updating LAMBDA: 100%|██████████| 10/10 [00:00<00:00, 114.77it/s]\n"
     ]
    },
    {
     "name": "stdout",
     "output_type": "stream",
     "text": [
      "Current ELBO: -47721.88059145385 | Change in ELBO: 5.393702614448557\n",
      "\n",
      "Iteration 33\n"
     ]
    },
    {
     "name": "stderr",
     "output_type": "stream",
     "text": [
      "Updating PHI and GAMMA: 100%|██████████| 100/100 [00:02<00:00, 49.67it/s]\n",
      "Updating LAMBDA: 100%|██████████| 10/10 [00:00<00:00, 115.09it/s]\n"
     ]
    },
    {
     "name": "stdout",
     "output_type": "stream",
     "text": [
      "Current ELBO: -47716.64572220684 | Change in ELBO: 5.234869247011375\n",
      "\n",
      "Iteration 34\n"
     ]
    },
    {
     "name": "stderr",
     "output_type": "stream",
     "text": [
      "Updating PHI and GAMMA: 100%|██████████| 100/100 [00:01<00:00, 55.65it/s]\n",
      "Updating LAMBDA: 100%|██████████| 10/10 [00:00<00:00, 115.98it/s]\n"
     ]
    },
    {
     "name": "stdout",
     "output_type": "stream",
     "text": [
      "Current ELBO: -47713.02329911242 | Change in ELBO: 3.6224230944208102\n",
      "\n",
      "Iteration 35\n"
     ]
    },
    {
     "name": "stderr",
     "output_type": "stream",
     "text": [
      "Updating PHI and GAMMA: 100%|██████████| 100/100 [00:01<00:00, 53.99it/s]\n",
      "Updating LAMBDA: 100%|██████████| 10/10 [00:00<00:00, 79.01it/s]\n"
     ]
    },
    {
     "name": "stdout",
     "output_type": "stream",
     "text": [
      "Current ELBO: -47710.821084129224 | Change in ELBO: 2.2022149831973366\n",
      "\n",
      "Iteration 36\n"
     ]
    },
    {
     "name": "stderr",
     "output_type": "stream",
     "text": [
      "Updating PHI and GAMMA: 100%|██████████| 100/100 [00:01<00:00, 50.89it/s]\n",
      "Updating LAMBDA: 100%|██████████| 10/10 [00:00<00:00, 121.31it/s]\n"
     ]
    },
    {
     "name": "stdout",
     "output_type": "stream",
     "text": [
      "Current ELBO: -47708.535651801125 | Change in ELBO: 2.2854323280989775\n",
      "\n",
      "Iteration 37\n"
     ]
    },
    {
     "name": "stderr",
     "output_type": "stream",
     "text": [
      "Updating PHI and GAMMA: 100%|██████████| 100/100 [00:01<00:00, 50.38it/s]\n",
      "Updating LAMBDA: 100%|██████████| 10/10 [00:00<00:00, 116.47it/s]\n"
     ]
    },
    {
     "name": "stdout",
     "output_type": "stream",
     "text": [
      "Current ELBO: -47706.51097304074 | Change in ELBO: 2.0246787603828125\n",
      "\n",
      "Iteration 38\n"
     ]
    },
    {
     "name": "stderr",
     "output_type": "stream",
     "text": [
      "Updating PHI and GAMMA: 100%|██████████| 100/100 [00:01<00:00, 55.29it/s]\n",
      "Updating LAMBDA: 100%|██████████| 10/10 [00:00<00:00, 111.38it/s]\n"
     ]
    },
    {
     "name": "stdout",
     "output_type": "stream",
     "text": [
      "Current ELBO: -47705.15558164796 | Change in ELBO: 1.3553913927826216\n",
      "\n",
      "Iteration 39\n"
     ]
    },
    {
     "name": "stderr",
     "output_type": "stream",
     "text": [
      "Updating PHI and GAMMA: 100%|██████████| 100/100 [00:01<00:00, 56.66it/s]\n",
      "Updating LAMBDA: 100%|██████████| 10/10 [00:00<00:00, 108.84it/s]\n"
     ]
    },
    {
     "name": "stdout",
     "output_type": "stream",
     "text": [
      "Current ELBO: -47704.09460150503 | Change in ELBO: 1.06098014293093\n",
      "\n",
      "Iteration 40\n"
     ]
    },
    {
     "name": "stderr",
     "output_type": "stream",
     "text": [
      "Updating PHI and GAMMA: 100%|██████████| 100/100 [00:02<00:00, 47.77it/s]\n",
      "Updating LAMBDA: 100%|██████████| 10/10 [00:00<00:00, 111.27it/s]\n"
     ]
    },
    {
     "name": "stdout",
     "output_type": "stream",
     "text": [
      "Current ELBO: -47702.96316959717 | Change in ELBO: 1.1314319078592234\n",
      "\n",
      "Iteration 41\n"
     ]
    },
    {
     "name": "stderr",
     "output_type": "stream",
     "text": [
      "Updating PHI and GAMMA: 100%|██████████| 100/100 [00:01<00:00, 50.38it/s]\n",
      "Updating LAMBDA: 100%|██████████| 10/10 [00:00<00:00, 107.03it/s]\n"
     ]
    },
    {
     "name": "stdout",
     "output_type": "stream",
     "text": [
      "Current ELBO: -47701.73340653411 | Change in ELBO: 1.2297630630564527\n",
      "\n",
      "Iteration 42\n"
     ]
    },
    {
     "name": "stderr",
     "output_type": "stream",
     "text": [
      "Updating PHI and GAMMA: 100%|██████████| 100/100 [00:02<00:00, 48.83it/s]\n",
      "Updating LAMBDA: 100%|██████████| 10/10 [00:00<00:00, 93.16it/s]\n"
     ]
    },
    {
     "name": "stdout",
     "output_type": "stream",
     "text": [
      "Current ELBO: -47700.13695182483 | Change in ELBO: 1.5964547092808061\n",
      "\n",
      "Iteration 43\n"
     ]
    },
    {
     "name": "stderr",
     "output_type": "stream",
     "text": [
      "Updating PHI and GAMMA: 100%|██████████| 100/100 [00:02<00:00, 48.11it/s]\n",
      "Updating LAMBDA: 100%|██████████| 10/10 [00:00<00:00, 110.98it/s]\n"
     ]
    },
    {
     "name": "stdout",
     "output_type": "stream",
     "text": [
      "Current ELBO: -47698.809471855595 | Change in ELBO: 1.3274799692371744\n",
      "\n",
      "Iteration 44\n"
     ]
    },
    {
     "name": "stderr",
     "output_type": "stream",
     "text": [
      "Updating PHI and GAMMA: 100%|██████████| 100/100 [00:02<00:00, 44.82it/s]\n",
      "Updating LAMBDA: 100%|██████████| 10/10 [00:00<00:00, 87.31it/s]\n"
     ]
    },
    {
     "name": "stdout",
     "output_type": "stream",
     "text": [
      "Current ELBO: -47697.33235247482 | Change in ELBO: 1.477119380775548\n",
      "\n",
      "Iteration 45\n"
     ]
    },
    {
     "name": "stderr",
     "output_type": "stream",
     "text": [
      "Updating PHI and GAMMA: 100%|██████████| 100/100 [00:02<00:00, 46.78it/s]\n",
      "Updating LAMBDA: 100%|██████████| 10/10 [00:00<00:00, 98.79it/s]\n"
     ]
    },
    {
     "name": "stdout",
     "output_type": "stream",
     "text": [
      "Current ELBO: -47695.485616870996 | Change in ELBO: 1.8467356038236176\n",
      "\n",
      "Iteration 46\n"
     ]
    },
    {
     "name": "stderr",
     "output_type": "stream",
     "text": [
      "Updating PHI and GAMMA: 100%|██████████| 100/100 [00:01<00:00, 50.36it/s]\n",
      "Updating LAMBDA: 100%|██████████| 10/10 [00:00<00:00, 90.37it/s]\n"
     ]
    },
    {
     "name": "stdout",
     "output_type": "stream",
     "text": [
      "Current ELBO: -47694.29690322022 | Change in ELBO: 1.1887136507721152\n",
      "\n",
      "Iteration 47\n"
     ]
    },
    {
     "name": "stderr",
     "output_type": "stream",
     "text": [
      "Updating PHI and GAMMA: 100%|██████████| 100/100 [00:01<00:00, 51.96it/s]\n",
      "Updating LAMBDA: 100%|██████████| 10/10 [00:00<00:00, 122.65it/s]\n"
     ]
    },
    {
     "name": "stdout",
     "output_type": "stream",
     "text": [
      "Current ELBO: -47693.57731840145 | Change in ELBO: 0.7195848187766387\n",
      "\n",
      "Iteration 48\n"
     ]
    },
    {
     "name": "stderr",
     "output_type": "stream",
     "text": [
      "Updating PHI and GAMMA: 100%|██████████| 100/100 [00:01<00:00, 54.35it/s]\n",
      "Updating LAMBDA: 100%|██████████| 10/10 [00:00<00:00, 105.60it/s]\n"
     ]
    },
    {
     "name": "stdout",
     "output_type": "stream",
     "text": [
      "Current ELBO: -47693.05491390274 | Change in ELBO: 0.5224044987044181\n",
      "\n",
      "Iteration 49\n"
     ]
    },
    {
     "name": "stderr",
     "output_type": "stream",
     "text": [
      "Updating PHI and GAMMA: 100%|██████████| 100/100 [00:01<00:00, 50.53it/s]\n",
      "Updating LAMBDA: 100%|██████████| 10/10 [00:00<00:00, 100.42it/s]\n"
     ]
    },
    {
     "name": "stdout",
     "output_type": "stream",
     "text": [
      "Current ELBO: -47692.31331837263 | Change in ELBO: 0.7415955301112263\n",
      "\n",
      "Iteration 50\n"
     ]
    },
    {
     "name": "stderr",
     "output_type": "stream",
     "text": [
      "Updating PHI and GAMMA: 100%|██████████| 100/100 [00:01<00:00, 53.54it/s]\n",
      "Updating LAMBDA: 100%|██████████| 10/10 [00:00<00:00, 103.47it/s]\n"
     ]
    },
    {
     "name": "stdout",
     "output_type": "stream",
     "text": [
      "Current ELBO: -47691.61693464774 | Change in ELBO: 0.6963837248913478\n",
      "\n",
      "Iteration 51\n"
     ]
    },
    {
     "name": "stderr",
     "output_type": "stream",
     "text": [
      "Updating PHI and GAMMA: 100%|██████████| 100/100 [00:01<00:00, 50.16it/s]\n",
      "Updating LAMBDA: 100%|██████████| 10/10 [00:00<00:00, 105.43it/s]\n"
     ]
    },
    {
     "name": "stdout",
     "output_type": "stream",
     "text": [
      "Current ELBO: -47690.811981881336 | Change in ELBO: 0.8049527664043126\n",
      "\n",
      "Iteration 52\n"
     ]
    },
    {
     "name": "stderr",
     "output_type": "stream",
     "text": [
      "Updating PHI and GAMMA: 100%|██████████| 100/100 [00:01<00:00, 50.99it/s]\n",
      "Updating LAMBDA: 100%|██████████| 10/10 [00:00<00:00, 111.05it/s]\n"
     ]
    },
    {
     "name": "stdout",
     "output_type": "stream",
     "text": [
      "Current ELBO: -47689.78129730984 | Change in ELBO: 1.0306845714949304\n",
      "\n",
      "Iteration 53\n"
     ]
    },
    {
     "name": "stderr",
     "output_type": "stream",
     "text": [
      "Updating PHI and GAMMA: 100%|██████████| 100/100 [00:01<00:00, 51.18it/s]\n",
      "Updating LAMBDA: 100%|██████████| 10/10 [00:00<00:00, 115.55it/s]\n"
     ]
    },
    {
     "name": "stdout",
     "output_type": "stream",
     "text": [
      "Current ELBO: -47688.927396733874 | Change in ELBO: 0.8539005759666907\n",
      "\n",
      "Iteration 54\n"
     ]
    },
    {
     "name": "stderr",
     "output_type": "stream",
     "text": [
      "Updating PHI and GAMMA: 100%|██████████| 100/100 [00:02<00:00, 48.90it/s]\n",
      "Updating LAMBDA: 100%|██████████| 10/10 [00:00<00:00, 69.57it/s]\n"
     ]
    },
    {
     "name": "stdout",
     "output_type": "stream",
     "text": [
      "Current ELBO: -47687.905743163916 | Change in ELBO: 1.0216535699582892\n",
      "\n",
      "Iteration 55\n"
     ]
    },
    {
     "name": "stderr",
     "output_type": "stream",
     "text": [
      "Updating PHI and GAMMA: 100%|██████████| 100/100 [00:02<00:00, 49.64it/s]\n",
      "Updating LAMBDA: 100%|██████████| 10/10 [00:00<00:00, 117.94it/s]\n"
     ]
    },
    {
     "name": "stdout",
     "output_type": "stream",
     "text": [
      "Current ELBO: -47686.34957095095 | Change in ELBO: 1.5561722129641566\n",
      "\n",
      "Iteration 56\n"
     ]
    },
    {
     "name": "stderr",
     "output_type": "stream",
     "text": [
      "Updating PHI and GAMMA: 100%|██████████| 100/100 [00:01<00:00, 51.72it/s]\n",
      "Updating LAMBDA: 100%|██████████| 10/10 [00:00<00:00, 116.01it/s]\n"
     ]
    },
    {
     "name": "stdout",
     "output_type": "stream",
     "text": [
      "Current ELBO: -47685.49212418714 | Change in ELBO: 0.8574467638100032\n",
      "\n",
      "Iteration 57\n"
     ]
    },
    {
     "name": "stderr",
     "output_type": "stream",
     "text": [
      "Updating PHI and GAMMA: 100%|██████████| 100/100 [00:01<00:00, 52.72it/s]\n",
      "Updating LAMBDA: 100%|██████████| 10/10 [00:00<00:00, 71.17it/s]\n"
     ]
    },
    {
     "name": "stdout",
     "output_type": "stream",
     "text": [
      "Current ELBO: -47684.88432781844 | Change in ELBO: 0.6077963686984731\n",
      "\n",
      "Iteration 58\n"
     ]
    },
    {
     "name": "stderr",
     "output_type": "stream",
     "text": [
      "Updating PHI and GAMMA: 100%|██████████| 100/100 [00:01<00:00, 54.58it/s]\n",
      "Updating LAMBDA: 100%|██████████| 10/10 [00:00<00:00, 92.22it/s]\n"
     ]
    },
    {
     "name": "stdout",
     "output_type": "stream",
     "text": [
      "Current ELBO: -47684.261880133025 | Change in ELBO: 0.6224476854185923\n",
      "\n",
      "Iteration 59\n"
     ]
    },
    {
     "name": "stderr",
     "output_type": "stream",
     "text": [
      "Updating PHI and GAMMA: 100%|██████████| 100/100 [00:01<00:00, 53.08it/s]\n",
      "Updating LAMBDA: 100%|██████████| 10/10 [00:00<00:00, 120.25it/s]\n"
     ]
    },
    {
     "name": "stdout",
     "output_type": "stream",
     "text": [
      "Current ELBO: -47683.87269904563 | Change in ELBO: 0.3891810873974464\n",
      "\n",
      "Iteration 60\n"
     ]
    },
    {
     "name": "stderr",
     "output_type": "stream",
     "text": [
      "Updating PHI and GAMMA: 100%|██████████| 100/100 [00:01<00:00, 56.45it/s]\n",
      "Updating LAMBDA: 100%|██████████| 10/10 [00:00<00:00, 112.73it/s]\n"
     ]
    },
    {
     "name": "stdout",
     "output_type": "stream",
     "text": [
      "Current ELBO: -47683.27121565322 | Change in ELBO: 0.6014833924054983\n",
      "\n",
      "Iteration 61\n"
     ]
    },
    {
     "name": "stderr",
     "output_type": "stream",
     "text": [
      "Updating PHI and GAMMA: 100%|██████████| 100/100 [00:01<00:00, 55.06it/s]\n",
      "Updating LAMBDA: 100%|██████████| 10/10 [00:00<00:00, 97.49it/s]\n"
     ]
    },
    {
     "name": "stdout",
     "output_type": "stream",
     "text": [
      "Current ELBO: -47682.480137844876 | Change in ELBO: 0.7910778083460173\n",
      "\n",
      "Iteration 62\n"
     ]
    },
    {
     "name": "stderr",
     "output_type": "stream",
     "text": [
      "Updating PHI and GAMMA: 100%|██████████| 100/100 [00:01<00:00, 56.24it/s]\n",
      "Updating LAMBDA: 100%|██████████| 10/10 [00:00<00:00, 127.17it/s]\n"
     ]
    },
    {
     "name": "stdout",
     "output_type": "stream",
     "text": [
      "Current ELBO: -47681.742900089645 | Change in ELBO: 0.7372377552310354\n",
      "\n",
      "Iteration 63\n"
     ]
    },
    {
     "name": "stderr",
     "output_type": "stream",
     "text": [
      "Updating PHI and GAMMA: 100%|██████████| 100/100 [00:02<00:00, 48.81it/s]\n",
      "Updating LAMBDA: 100%|██████████| 10/10 [00:00<00:00, 102.44it/s]\n"
     ]
    },
    {
     "name": "stdout",
     "output_type": "stream",
     "text": [
      "Current ELBO: -47680.940953655416 | Change in ELBO: 0.8019464342287392\n",
      "\n",
      "Iteration 64\n"
     ]
    },
    {
     "name": "stderr",
     "output_type": "stream",
     "text": [
      "Updating PHI and GAMMA: 100%|██████████| 100/100 [00:01<00:00, 53.37it/s]\n",
      "Updating LAMBDA: 100%|██████████| 10/10 [00:00<00:00, 118.25it/s]\n"
     ]
    },
    {
     "name": "stdout",
     "output_type": "stream",
     "text": [
      "Current ELBO: -47680.32339973346 | Change in ELBO: 0.6175539219548227\n",
      "\n",
      "Iteration 65\n"
     ]
    },
    {
     "name": "stderr",
     "output_type": "stream",
     "text": [
      "Updating PHI and GAMMA: 100%|██████████| 100/100 [00:01<00:00, 52.40it/s]\n",
      "Updating LAMBDA: 100%|██████████| 10/10 [00:00<00:00, 112.66it/s]\n"
     ]
    },
    {
     "name": "stdout",
     "output_type": "stream",
     "text": [
      "Current ELBO: -47679.64476944242 | Change in ELBO: 0.6786302910404629\n",
      "\n",
      "Iteration 66\n"
     ]
    },
    {
     "name": "stderr",
     "output_type": "stream",
     "text": [
      "Updating PHI and GAMMA: 100%|██████████| 100/100 [00:01<00:00, 53.40it/s]\n",
      "Updating LAMBDA: 100%|██████████| 10/10 [00:00<00:00, 116.72it/s]\n"
     ]
    },
    {
     "name": "stdout",
     "output_type": "stream",
     "text": [
      "Current ELBO: -47678.89765761058 | Change in ELBO: 0.7471118318426306\n",
      "\n",
      "Iteration 67\n"
     ]
    },
    {
     "name": "stderr",
     "output_type": "stream",
     "text": [
      "Updating PHI and GAMMA: 100%|██████████| 100/100 [00:01<00:00, 56.68it/s]\n",
      "Updating LAMBDA: 100%|██████████| 10/10 [00:00<00:00, 113.92it/s]\n"
     ]
    },
    {
     "name": "stdout",
     "output_type": "stream",
     "text": [
      "Current ELBO: -47677.981203694646 | Change in ELBO: 0.9164539159319247\n",
      "\n",
      "Iteration 68\n"
     ]
    },
    {
     "name": "stderr",
     "output_type": "stream",
     "text": [
      "Updating PHI and GAMMA: 100%|██████████| 100/100 [00:02<00:00, 46.26it/s]\n",
      "Updating LAMBDA: 100%|██████████| 10/10 [00:00<00:00, 103.97it/s]\n"
     ]
    },
    {
     "name": "stdout",
     "output_type": "stream",
     "text": [
      "Current ELBO: -47676.56900449133 | Change in ELBO: 1.4121992033178685\n",
      "\n",
      "Iteration 69\n"
     ]
    },
    {
     "name": "stderr",
     "output_type": "stream",
     "text": [
      "Updating PHI and GAMMA: 100%|██████████| 100/100 [00:02<00:00, 48.61it/s]\n",
      "Updating LAMBDA: 100%|██████████| 10/10 [00:00<00:00, 119.27it/s]\n"
     ]
    },
    {
     "name": "stdout",
     "output_type": "stream",
     "text": [
      "Current ELBO: -47675.914250275906 | Change in ELBO: 0.6547542154221446\n",
      "\n",
      "Iteration 70\n"
     ]
    },
    {
     "name": "stderr",
     "output_type": "stream",
     "text": [
      "Updating PHI and GAMMA: 100%|██████████| 100/100 [00:01<00:00, 50.13it/s]\n",
      "Updating LAMBDA: 100%|██████████| 10/10 [00:00<00:00, 113.42it/s]\n"
     ]
    },
    {
     "name": "stdout",
     "output_type": "stream",
     "text": [
      "Current ELBO: -47675.77855591204 | Change in ELBO: 0.13569436386751477\n",
      "\n",
      "Iteration 71\n"
     ]
    },
    {
     "name": "stderr",
     "output_type": "stream",
     "text": [
      "Updating PHI and GAMMA: 100%|██████████| 100/100 [00:02<00:00, 47.34it/s]\n",
      "Updating LAMBDA: 100%|██████████| 10/10 [00:00<00:00, 123.23it/s]\n"
     ]
    },
    {
     "name": "stdout",
     "output_type": "stream",
     "text": [
      "Current ELBO: -47675.554867087674 | Change in ELBO: 0.223688824364217\n",
      "\n",
      "Iteration 72\n"
     ]
    },
    {
     "name": "stderr",
     "output_type": "stream",
     "text": [
      "Updating PHI and GAMMA: 100%|██████████| 100/100 [00:02<00:00, 44.18it/s]\n",
      "Updating LAMBDA: 100%|██████████| 10/10 [00:00<00:00, 103.29it/s]\n"
     ]
    },
    {
     "name": "stdout",
     "output_type": "stream",
     "text": [
      "Current ELBO: -47675.160074026215 | Change in ELBO: 0.3947930614594952\n",
      "\n",
      "Iteration 73\n"
     ]
    },
    {
     "name": "stderr",
     "output_type": "stream",
     "text": [
      "Updating PHI and GAMMA: 100%|██████████| 100/100 [00:02<00:00, 47.54it/s]\n",
      "Updating LAMBDA: 100%|██████████| 10/10 [00:00<00:00, 77.36it/s]\n"
     ]
    },
    {
     "name": "stdout",
     "output_type": "stream",
     "text": [
      "Current ELBO: -47674.89293077064 | Change in ELBO: 0.26714325557259144\n",
      "\n",
      "Iteration 74\n"
     ]
    },
    {
     "name": "stderr",
     "output_type": "stream",
     "text": [
      "Updating PHI and GAMMA: 100%|██████████| 100/100 [00:02<00:00, 47.83it/s]\n",
      "Updating LAMBDA: 100%|██████████| 10/10 [00:00<00:00, 102.66it/s]\n"
     ]
    },
    {
     "name": "stdout",
     "output_type": "stream",
     "text": [
      "Current ELBO: -47674.7716516454 | Change in ELBO: 0.12127912524010753\n",
      "\n",
      "Iteration 75\n"
     ]
    },
    {
     "name": "stderr",
     "output_type": "stream",
     "text": [
      "Updating PHI and GAMMA: 100%|██████████| 100/100 [00:01<00:00, 54.05it/s]\n",
      "Updating LAMBDA: 100%|██████████| 10/10 [00:00<00:00, 105.48it/s]\n"
     ]
    },
    {
     "name": "stdout",
     "output_type": "stream",
     "text": [
      "Current ELBO: -47674.58584737321 | Change in ELBO: 0.18580427219421836\n",
      "\n",
      "Iteration 76\n"
     ]
    },
    {
     "name": "stderr",
     "output_type": "stream",
     "text": [
      "Updating PHI and GAMMA: 100%|██████████| 100/100 [00:02<00:00, 47.80it/s]\n",
      "Updating LAMBDA: 100%|██████████| 10/10 [00:00<00:00, 89.38it/s]\n"
     ]
    },
    {
     "name": "stdout",
     "output_type": "stream",
     "text": [
      "Current ELBO: -47674.25045641676 | Change in ELBO: 0.33539095644664485\n",
      "\n",
      "Iteration 77\n"
     ]
    },
    {
     "name": "stderr",
     "output_type": "stream",
     "text": [
      "Updating PHI and GAMMA: 100%|██████████| 100/100 [00:02<00:00, 48.26it/s]\n",
      "Updating LAMBDA: 100%|██████████| 10/10 [00:00<00:00, 68.51it/s]\n"
     ]
    },
    {
     "name": "stdout",
     "output_type": "stream",
     "text": [
      "Current ELBO: -47673.80378731257 | Change in ELBO: 0.4466691041889135\n",
      "\n",
      "Iteration 78\n"
     ]
    },
    {
     "name": "stderr",
     "output_type": "stream",
     "text": [
      "Updating PHI and GAMMA: 100%|██████████| 100/100 [00:01<00:00, 56.11it/s]\n",
      "Updating LAMBDA: 100%|██████████| 10/10 [00:00<00:00, 118.81it/s]\n"
     ]
    },
    {
     "name": "stdout",
     "output_type": "stream",
     "text": [
      "Current ELBO: -47673.561141078164 | Change in ELBO: 0.242646234408312\n",
      "\n",
      "Iteration 79\n"
     ]
    },
    {
     "name": "stderr",
     "output_type": "stream",
     "text": [
      "Updating PHI and GAMMA: 100%|██████████| 100/100 [00:01<00:00, 53.16it/s]\n",
      "Updating LAMBDA: 100%|██████████| 10/10 [00:00<00:00, 97.27it/s]\n"
     ]
    },
    {
     "name": "stdout",
     "output_type": "stream",
     "text": [
      "Current ELBO: -47673.246386285806 | Change in ELBO: 0.3147547923581442\n",
      "\n",
      "Iteration 80\n"
     ]
    },
    {
     "name": "stderr",
     "output_type": "stream",
     "text": [
      "Updating PHI and GAMMA: 100%|██████████| 100/100 [00:01<00:00, 51.89it/s]\n",
      "Updating LAMBDA: 100%|██████████| 10/10 [00:00<00:00, 89.15it/s]\n"
     ]
    },
    {
     "name": "stdout",
     "output_type": "stream",
     "text": [
      "Current ELBO: -47672.74768227277 | Change in ELBO: 0.49870401303633116\n",
      "\n",
      "Iteration 81\n"
     ]
    },
    {
     "name": "stderr",
     "output_type": "stream",
     "text": [
      "Updating PHI and GAMMA: 100%|██████████| 100/100 [00:02<00:00, 48.60it/s]\n",
      "Updating LAMBDA: 100%|██████████| 10/10 [00:00<00:00, 108.19it/s]\n"
     ]
    },
    {
     "name": "stdout",
     "output_type": "stream",
     "text": [
      "Current ELBO: -47672.42146894056 | Change in ELBO: 0.3262133322059526\n",
      "\n",
      "Iteration 82\n"
     ]
    },
    {
     "name": "stderr",
     "output_type": "stream",
     "text": [
      "Updating PHI and GAMMA: 100%|██████████| 100/100 [00:01<00:00, 51.20it/s]\n",
      "Updating LAMBDA: 100%|██████████| 10/10 [00:00<00:00, 104.48it/s]\n"
     ]
    },
    {
     "name": "stdout",
     "output_type": "stream",
     "text": [
      "Current ELBO: -47672.35360415529 | Change in ELBO: 0.06786478527646977\n",
      "\n",
      "Iteration 83\n"
     ]
    },
    {
     "name": "stderr",
     "output_type": "stream",
     "text": [
      "Updating PHI and GAMMA: 100%|██████████| 100/100 [00:01<00:00, 51.41it/s]\n",
      "Updating LAMBDA: 100%|██████████| 10/10 [00:00<00:00, 95.95it/s]\n"
     ]
    },
    {
     "name": "stdout",
     "output_type": "stream",
     "text": [
      "Current ELBO: -47672.27585810394 | Change in ELBO: 0.07774605134909507\n",
      "\n",
      "Iteration 84\n"
     ]
    },
    {
     "name": "stderr",
     "output_type": "stream",
     "text": [
      "Updating PHI and GAMMA: 100%|██████████| 100/100 [00:02<00:00, 48.49it/s]\n",
      "Updating LAMBDA: 100%|██████████| 10/10 [00:00<00:00, 119.47it/s]\n"
     ]
    },
    {
     "name": "stdout",
     "output_type": "stream",
     "text": [
      "Current ELBO: -47672.17366772552 | Change in ELBO: 0.10219037842034595\n",
      "\n",
      "Iteration 85\n"
     ]
    },
    {
     "name": "stderr",
     "output_type": "stream",
     "text": [
      "Updating PHI and GAMMA: 100%|██████████| 100/100 [00:01<00:00, 51.82it/s]\n",
      "Updating LAMBDA: 100%|██████████| 10/10 [00:00<00:00, 113.51it/s]\n"
     ]
    },
    {
     "name": "stdout",
     "output_type": "stream",
     "text": [
      "Current ELBO: -47672.02958400605 | Change in ELBO: 0.14408371946774423\n",
      "\n",
      "Iteration 86\n"
     ]
    },
    {
     "name": "stderr",
     "output_type": "stream",
     "text": [
      "Updating PHI and GAMMA: 100%|██████████| 100/100 [00:01<00:00, 50.57it/s]\n",
      "Updating LAMBDA: 100%|██████████| 10/10 [00:00<00:00, 94.98it/s]\n"
     ]
    },
    {
     "name": "stdout",
     "output_type": "stream",
     "text": [
      "Current ELBO: -47671.806673108425 | Change in ELBO: 0.22291089762438787\n",
      "\n",
      "Iteration 87\n"
     ]
    },
    {
     "name": "stderr",
     "output_type": "stream",
     "text": [
      "Updating PHI and GAMMA: 100%|██████████| 100/100 [00:01<00:00, 54.03it/s]\n",
      "Updating LAMBDA: 100%|██████████| 10/10 [00:00<00:00, 114.05it/s]\n"
     ]
    },
    {
     "name": "stdout",
     "output_type": "stream",
     "text": [
      "Current ELBO: -47671.430538764645 | Change in ELBO: 0.3761343437799951\n",
      "\n",
      "Iteration 88\n"
     ]
    },
    {
     "name": "stderr",
     "output_type": "stream",
     "text": [
      "Updating PHI and GAMMA: 100%|██████████| 100/100 [00:01<00:00, 54.29it/s]\n",
      "Updating LAMBDA: 100%|██████████| 10/10 [00:00<00:00, 123.00it/s]\n"
     ]
    },
    {
     "name": "stdout",
     "output_type": "stream",
     "text": [
      "Current ELBO: -47670.97386154038 | Change in ELBO: 0.45667722426878754\n",
      "\n",
      "Iteration 89\n"
     ]
    },
    {
     "name": "stderr",
     "output_type": "stream",
     "text": [
      "Updating PHI and GAMMA: 100%|██████████| 100/100 [00:01<00:00, 54.24it/s]\n",
      "Updating LAMBDA: 100%|██████████| 10/10 [00:00<00:00, 111.38it/s]\n"
     ]
    },
    {
     "name": "stdout",
     "output_type": "stream",
     "text": [
      "Current ELBO: -47670.901550930575 | Change in ELBO: 0.07231060980120674\n",
      "\n",
      "Iteration 90\n"
     ]
    },
    {
     "name": "stderr",
     "output_type": "stream",
     "text": [
      "Updating PHI and GAMMA: 100%|██████████| 100/100 [00:01<00:00, 53.27it/s]\n",
      "Updating LAMBDA: 100%|██████████| 10/10 [00:00<00:00, 82.76it/s]\n"
     ]
    },
    {
     "name": "stdout",
     "output_type": "stream",
     "text": [
      "Current ELBO: -47670.898852491235 | Change in ELBO: 0.002698439340747427\n",
      "\n",
      "Iteration 91\n"
     ]
    },
    {
     "name": "stderr",
     "output_type": "stream",
     "text": [
      "Updating PHI and GAMMA: 100%|██████████| 100/100 [00:01<00:00, 52.51it/s]\n",
      "Updating LAMBDA: 100%|██████████| 10/10 [00:00<00:00, 111.58it/s]\n"
     ]
    },
    {
     "name": "stdout",
     "output_type": "stream",
     "text": [
      "Current ELBO: -47670.89635070876 | Change in ELBO: 0.0025017824737005867\n",
      "\n",
      "Iteration 92\n"
     ]
    },
    {
     "name": "stderr",
     "output_type": "stream",
     "text": [
      "Updating PHI and GAMMA: 100%|██████████| 100/100 [00:01<00:00, 51.82it/s]\n",
      "Updating LAMBDA: 100%|██████████| 10/10 [00:00<00:00, 111.25it/s]\n"
     ]
    },
    {
     "name": "stdout",
     "output_type": "stream",
     "text": [
      "Current ELBO: -47670.89372984797 | Change in ELBO: 0.002620860788738355\n",
      "\n",
      "Iteration 93\n"
     ]
    },
    {
     "name": "stderr",
     "output_type": "stream",
     "text": [
      "Updating PHI and GAMMA: 100%|██████████| 100/100 [00:01<00:00, 52.70it/s]\n",
      "Updating LAMBDA: 100%|██████████| 10/10 [00:00<00:00, 102.99it/s]\n"
     ]
    },
    {
     "name": "stdout",
     "output_type": "stream",
     "text": [
      "Current ELBO: -47670.89073921905 | Change in ELBO: 0.0029906289200880565\n",
      "\n",
      "Iteration 94\n"
     ]
    },
    {
     "name": "stderr",
     "output_type": "stream",
     "text": [
      "Updating PHI and GAMMA: 100%|██████████| 100/100 [00:01<00:00, 55.19it/s]\n",
      "Updating LAMBDA: 100%|██████████| 10/10 [00:00<00:00, 93.73it/s]\n"
     ]
    },
    {
     "name": "stdout",
     "output_type": "stream",
     "text": [
      "Current ELBO: -47670.88699230778 | Change in ELBO: 0.0037469112721737474\n",
      "\n",
      "Iteration 95\n"
     ]
    },
    {
     "name": "stderr",
     "output_type": "stream",
     "text": [
      "Updating PHI and GAMMA: 100%|██████████| 100/100 [00:01<00:00, 55.15it/s]\n",
      "Updating LAMBDA: 100%|██████████| 10/10 [00:00<00:00, 100.11it/s]\n"
     ]
    },
    {
     "name": "stdout",
     "output_type": "stream",
     "text": [
      "Current ELBO: -47670.88174597752 | Change in ELBO: 0.005246330263616983\n",
      "\n",
      "Iteration 96\n"
     ]
    },
    {
     "name": "stderr",
     "output_type": "stream",
     "text": [
      "Updating PHI and GAMMA: 100%|██████████| 100/100 [00:01<00:00, 54.10it/s]\n",
      "Updating LAMBDA: 100%|██████████| 10/10 [00:00<00:00, 105.24it/s]\n"
     ]
    },
    {
     "name": "stdout",
     "output_type": "stream",
     "text": [
      "Current ELBO: -47670.87334962573 | Change in ELBO: 0.008396351789997425\n",
      "\n",
      "Iteration 97\n"
     ]
    },
    {
     "name": "stderr",
     "output_type": "stream",
     "text": [
      "Updating PHI and GAMMA: 100%|██████████| 100/100 [00:01<00:00, 52.29it/s]\n",
      "Updating LAMBDA: 100%|██████████| 10/10 [00:00<00:00, 107.60it/s]\n"
     ]
    },
    {
     "name": "stdout",
     "output_type": "stream",
     "text": [
      "Current ELBO: -47670.857636279754 | Change in ELBO: 0.01571334597247187\n",
      "\n",
      "Iteration 98\n"
     ]
    },
    {
     "name": "stderr",
     "output_type": "stream",
     "text": [
      "Updating PHI and GAMMA: 100%|██████████| 100/100 [00:01<00:00, 52.79it/s]\n",
      "Updating LAMBDA: 100%|██████████| 10/10 [00:00<00:00, 103.67it/s]\n"
     ]
    },
    {
     "name": "stdout",
     "output_type": "stream",
     "text": [
      "Current ELBO: -47670.82269263086 | Change in ELBO: 0.03494364889047574\n",
      "\n",
      "Iteration 99\n"
     ]
    },
    {
     "name": "stderr",
     "output_type": "stream",
     "text": [
      "Updating PHI and GAMMA: 100%|██████████| 100/100 [00:01<00:00, 57.34it/s]\n",
      "Updating LAMBDA: 100%|██████████| 10/10 [00:00<00:00, 108.96it/s]\n"
     ]
    },
    {
     "name": "stdout",
     "output_type": "stream",
     "text": [
      "Current ELBO: -47670.7324173527 | Change in ELBO: 0.09027527816215297\n",
      "\n",
      "Iteration 100\n"
     ]
    },
    {
     "name": "stderr",
     "output_type": "stream",
     "text": [
      "Updating PHI and GAMMA: 100%|██████████| 100/100 [00:02<00:00, 44.69it/s]\n",
      "Updating LAMBDA: 100%|██████████| 10/10 [00:00<00:00, 92.91it/s]\n"
     ]
    },
    {
     "name": "stdout",
     "output_type": "stream",
     "text": [
      "Current ELBO: -47670.52282274086 | Change in ELBO: 0.2095946118424763\n",
      "\n",
      "Iteration 101\n"
     ]
    },
    {
     "name": "stderr",
     "output_type": "stream",
     "text": [
      "Updating PHI and GAMMA: 100%|██████████| 100/100 [00:02<00:00, 46.66it/s]\n",
      "Updating LAMBDA: 100%|██████████| 10/10 [00:00<00:00, 113.96it/s]\n"
     ]
    },
    {
     "name": "stdout",
     "output_type": "stream",
     "text": [
      "Current ELBO: -47670.379306441115 | Change in ELBO: 0.14351629974407842\n",
      "\n",
      "Iteration 102\n"
     ]
    },
    {
     "name": "stderr",
     "output_type": "stream",
     "text": [
      "Updating PHI and GAMMA: 100%|██████████| 100/100 [00:01<00:00, 50.39it/s]\n",
      "Updating LAMBDA: 100%|██████████| 10/10 [00:00<00:00, 89.61it/s]\n"
     ]
    },
    {
     "name": "stdout",
     "output_type": "stream",
     "text": [
      "Current ELBO: -47670.3718753256 | Change in ELBO: 0.00743111551128095\n",
      "\n",
      "Iteration 103\n"
     ]
    },
    {
     "name": "stderr",
     "output_type": "stream",
     "text": [
      "Updating PHI and GAMMA: 100%|██████████| 100/100 [00:02<00:00, 45.71it/s]\n",
      "Updating LAMBDA: 100%|██████████| 10/10 [00:00<00:00, 108.93it/s]\n"
     ]
    },
    {
     "name": "stdout",
     "output_type": "stream",
     "text": [
      "Current ELBO: -47670.36849374107 | Change in ELBO: 0.003381584530870896\n",
      "\n",
      "Iteration 104\n"
     ]
    },
    {
     "name": "stderr",
     "output_type": "stream",
     "text": [
      "Updating PHI and GAMMA: 100%|██████████| 100/100 [00:02<00:00, 46.40it/s]\n",
      "Updating LAMBDA: 100%|██████████| 10/10 [00:00<00:00, 100.88it/s]\n"
     ]
    },
    {
     "name": "stdout",
     "output_type": "stream",
     "text": [
      "Current ELBO: -47670.36486862174 | Change in ELBO: 0.0036251193305361085\n",
      "\n",
      "Iteration 105\n"
     ]
    },
    {
     "name": "stderr",
     "output_type": "stream",
     "text": [
      "Updating PHI and GAMMA: 100%|██████████| 100/100 [00:02<00:00, 49.29it/s]\n",
      "Updating LAMBDA: 100%|██████████| 10/10 [00:00<00:00, 96.73it/s]\n"
     ]
    },
    {
     "name": "stdout",
     "output_type": "stream",
     "text": [
      "Current ELBO: -47670.36080407761 | Change in ELBO: 0.0040645441331434995\n",
      "\n",
      "Iteration 106\n"
     ]
    },
    {
     "name": "stderr",
     "output_type": "stream",
     "text": [
      "Updating PHI and GAMMA: 100%|██████████| 100/100 [00:01<00:00, 54.01it/s]\n",
      "Updating LAMBDA: 100%|██████████| 10/10 [00:00<00:00, 91.73it/s]\n"
     ]
    },
    {
     "name": "stdout",
     "output_type": "stream",
     "text": [
      "Current ELBO: -47670.3560978036 | Change in ELBO: 0.0047062740122783\n",
      "\n",
      "Iteration 107\n"
     ]
    },
    {
     "name": "stderr",
     "output_type": "stream",
     "text": [
      "Updating PHI and GAMMA: 100%|██████████| 100/100 [00:02<00:00, 41.15it/s]\n",
      "Updating LAMBDA: 100%|██████████| 10/10 [00:00<00:00, 66.49it/s]\n"
     ]
    },
    {
     "name": "stdout",
     "output_type": "stream",
     "text": [
      "Current ELBO: -47670.350492305035 | Change in ELBO: 0.0056054985616356134\n",
      "\n",
      "Iteration 108\n"
     ]
    },
    {
     "name": "stderr",
     "output_type": "stream",
     "text": [
      "Updating PHI and GAMMA: 100%|██████████| 100/100 [00:01<00:00, 51.36it/s]\n",
      "Updating LAMBDA: 100%|██████████| 10/10 [00:00<00:00, 88.32it/s]\n"
     ]
    },
    {
     "name": "stdout",
     "output_type": "stream",
     "text": [
      "Current ELBO: -47670.343628149356 | Change in ELBO: 0.0068641556790680625\n",
      "\n",
      "Iteration 109\n"
     ]
    },
    {
     "name": "stderr",
     "output_type": "stream",
     "text": [
      "Updating PHI and GAMMA: 100%|██████████| 100/100 [00:02<00:00, 48.01it/s]\n",
      "Updating LAMBDA: 100%|██████████| 10/10 [00:00<00:00, 92.85it/s]\n"
     ]
    },
    {
     "name": "stdout",
     "output_type": "stream",
     "text": [
      "Current ELBO: -47670.33497384665 | Change in ELBO: 0.008654302706418093\n",
      "\n",
      "Iteration 110\n"
     ]
    },
    {
     "name": "stderr",
     "output_type": "stream",
     "text": [
      "Updating PHI and GAMMA: 100%|██████████| 100/100 [00:02<00:00, 47.75it/s]\n",
      "Updating LAMBDA: 100%|██████████| 10/10 [00:00<00:00, 89.38it/s]\n"
     ]
    },
    {
     "name": "stdout",
     "output_type": "stream",
     "text": [
      "Current ELBO: -47670.323705219766 | Change in ELBO: 0.01126862688397523\n",
      "\n",
      "Iteration 111\n"
     ]
    },
    {
     "name": "stderr",
     "output_type": "stream",
     "text": [
      "Updating PHI and GAMMA: 100%|██████████| 100/100 [00:01<00:00, 53.40it/s]\n",
      "Updating LAMBDA: 100%|██████████| 10/10 [00:00<00:00, 94.66it/s]\n"
     ]
    },
    {
     "name": "stdout",
     "output_type": "stream",
     "text": [
      "Current ELBO: -47670.30848185313 | Change in ELBO: 0.015223366637656\n",
      "\n",
      "Iteration 112\n"
     ]
    },
    {
     "name": "stderr",
     "output_type": "stream",
     "text": [
      "Updating PHI and GAMMA: 100%|██████████| 100/100 [00:01<00:00, 51.76it/s]\n",
      "Updating LAMBDA: 100%|██████████| 10/10 [00:00<00:00, 89.36it/s]\n"
     ]
    },
    {
     "name": "stdout",
     "output_type": "stream",
     "text": [
      "Current ELBO: -47670.287004946425 | Change in ELBO: 0.021476906702446286\n",
      "\n",
      "Iteration 113\n"
     ]
    },
    {
     "name": "stderr",
     "output_type": "stream",
     "text": [
      "Updating PHI and GAMMA: 100%|██████████| 100/100 [00:02<00:00, 47.28it/s]\n",
      "Updating LAMBDA: 100%|██████████| 10/10 [00:00<00:00, 98.16it/s]\n"
     ]
    },
    {
     "name": "stdout",
     "output_type": "stream",
     "text": [
      "Current ELBO: -47670.25507865023 | Change in ELBO: 0.03192629619297804\n",
      "\n",
      "Iteration 114\n"
     ]
    },
    {
     "name": "stderr",
     "output_type": "stream",
     "text": [
      "Updating PHI and GAMMA: 100%|██████████| 100/100 [00:01<00:00, 53.72it/s]\n",
      "Updating LAMBDA: 100%|██████████| 10/10 [00:00<00:00, 90.81it/s]\n"
     ]
    },
    {
     "name": "stdout",
     "output_type": "stream",
     "text": [
      "Current ELBO: -47670.204450036 | Change in ELBO: 0.0506286142335739\n",
      "\n",
      "Iteration 115\n"
     ]
    },
    {
     "name": "stderr",
     "output_type": "stream",
     "text": [
      "Updating PHI and GAMMA: 100%|██████████| 100/100 [00:02<00:00, 46.58it/s]\n",
      "Updating LAMBDA: 100%|██████████| 10/10 [00:00<00:00, 107.44it/s]\n"
     ]
    },
    {
     "name": "stdout",
     "output_type": "stream",
     "text": [
      "Current ELBO: -47670.11740203271 | Change in ELBO: 0.08704800328996498\n",
      "\n",
      "Iteration 116\n"
     ]
    },
    {
     "name": "stderr",
     "output_type": "stream",
     "text": [
      "Updating PHI and GAMMA: 100%|██████████| 100/100 [00:02<00:00, 44.67it/s]\n",
      "Updating LAMBDA: 100%|██████████| 10/10 [00:00<00:00, 88.28it/s]\n"
     ]
    },
    {
     "name": "stdout",
     "output_type": "stream",
     "text": [
      "Current ELBO: -47669.9527941174 | Change in ELBO: 0.1646079153069877\n",
      "\n",
      "Iteration 117\n"
     ]
    },
    {
     "name": "stderr",
     "output_type": "stream",
     "text": [
      "Updating PHI and GAMMA: 100%|██████████| 100/100 [00:02<00:00, 42.64it/s]\n",
      "Updating LAMBDA: 100%|██████████| 10/10 [00:00<00:00, 50.27it/s]\n"
     ]
    },
    {
     "name": "stdout",
     "output_type": "stream",
     "text": [
      "Current ELBO: -47669.62787624471 | Change in ELBO: 0.32491787269100314\n",
      "\n",
      "Iteration 118\n"
     ]
    },
    {
     "name": "stderr",
     "output_type": "stream",
     "text": [
      "Updating PHI and GAMMA: 100%|██████████| 100/100 [00:01<00:00, 50.67it/s]\n",
      "Updating LAMBDA: 100%|██████████| 10/10 [00:00<00:00, 93.37it/s]\n"
     ]
    },
    {
     "name": "stdout",
     "output_type": "stream",
     "text": [
      "Current ELBO: -47669.26012803822 | Change in ELBO: 0.3677482064886135\n",
      "\n",
      "Iteration 119\n"
     ]
    },
    {
     "name": "stderr",
     "output_type": "stream",
     "text": [
      "Updating PHI and GAMMA: 100%|██████████| 100/100 [00:02<00:00, 46.74it/s]\n",
      "Updating LAMBDA: 100%|██████████| 10/10 [00:00<00:00, 77.03it/s]\n"
     ]
    },
    {
     "name": "stdout",
     "output_type": "stream",
     "text": [
      "Current ELBO: -47669.21976444579 | Change in ELBO: 0.040363592430367135\n",
      "\n",
      "Iteration 120\n"
     ]
    },
    {
     "name": "stderr",
     "output_type": "stream",
     "text": [
      "Updating PHI and GAMMA: 100%|██████████| 100/100 [00:01<00:00, 55.10it/s]\n",
      "Updating LAMBDA: 100%|██████████| 10/10 [00:00<00:00, 102.42it/s]\n"
     ]
    },
    {
     "name": "stdout",
     "output_type": "stream",
     "text": [
      "Current ELBO: -47669.214987532556 | Change in ELBO: 0.004776913236128166\n",
      "\n",
      "Iteration 121\n"
     ]
    },
    {
     "name": "stderr",
     "output_type": "stream",
     "text": [
      "Updating PHI and GAMMA: 100%|██████████| 100/100 [00:02<00:00, 44.20it/s]\n",
      "Updating LAMBDA: 100%|██████████| 10/10 [00:00<00:00, 88.86it/s]\n"
     ]
    },
    {
     "name": "stdout",
     "output_type": "stream",
     "text": [
      "Current ELBO: -47669.20966734629 | Change in ELBO: 0.005320186268363614\n",
      "\n",
      "Iteration 122\n"
     ]
    },
    {
     "name": "stderr",
     "output_type": "stream",
     "text": [
      "Updating PHI and GAMMA: 100%|██████████| 100/100 [00:01<00:00, 51.44it/s]\n",
      "Updating LAMBDA: 100%|██████████| 10/10 [00:00<00:00, 102.85it/s]\n"
     ]
    },
    {
     "name": "stdout",
     "output_type": "stream",
     "text": [
      "Current ELBO: -47669.203503000994 | Change in ELBO: 0.00616434529365506\n",
      "\n",
      "Iteration 123\n"
     ]
    },
    {
     "name": "stderr",
     "output_type": "stream",
     "text": [
      "Updating PHI and GAMMA: 100%|██████████| 100/100 [00:02<00:00, 48.40it/s]\n",
      "Updating LAMBDA: 100%|██████████| 10/10 [00:00<00:00, 105.62it/s]\n"
     ]
    },
    {
     "name": "stdout",
     "output_type": "stream",
     "text": [
      "Current ELBO: -47669.19621711538 | Change in ELBO: 0.0072858856146922335\n",
      "\n",
      "Iteration 124\n"
     ]
    },
    {
     "name": "stderr",
     "output_type": "stream",
     "text": [
      "Updating PHI and GAMMA: 100%|██████████| 100/100 [00:01<00:00, 52.91it/s]\n",
      "Updating LAMBDA: 100%|██████████| 10/10 [00:00<00:00, 111.64it/s]\n"
     ]
    },
    {
     "name": "stdout",
     "output_type": "stream",
     "text": [
      "Current ELBO: -47669.18746875814 | Change in ELBO: 0.008748357242438942\n",
      "\n",
      "Iteration 125\n"
     ]
    },
    {
     "name": "stderr",
     "output_type": "stream",
     "text": [
      "Updating PHI and GAMMA: 100%|██████████| 100/100 [00:02<00:00, 44.34it/s]\n",
      "Updating LAMBDA: 100%|██████████| 10/10 [00:00<00:00, 101.54it/s]\n"
     ]
    },
    {
     "name": "stdout",
     "output_type": "stream",
     "text": [
      "Current ELBO: -47669.17680357108 | Change in ELBO: 0.010665187059203163\n",
      "\n",
      "Iteration 126\n"
     ]
    },
    {
     "name": "stderr",
     "output_type": "stream",
     "text": [
      "Updating PHI and GAMMA: 100%|██████████| 100/100 [00:02<00:00, 47.84it/s]\n",
      "Updating LAMBDA: 100%|██████████| 10/10 [00:00<00:00, 108.65it/s]\n"
     ]
    },
    {
     "name": "stdout",
     "output_type": "stream",
     "text": [
      "Current ELBO: -47669.16359157738 | Change in ELBO: 0.01321199369704118\n",
      "\n",
      "Iteration 127\n"
     ]
    },
    {
     "name": "stderr",
     "output_type": "stream",
     "text": [
      "Updating PHI and GAMMA: 100%|██████████| 100/100 [00:02<00:00, 46.51it/s]\n",
      "Updating LAMBDA: 100%|██████████| 10/10 [00:00<00:00, 97.73it/s]\n"
     ]
    },
    {
     "name": "stdout",
     "output_type": "stream",
     "text": [
      "Current ELBO: -47669.146933004595 | Change in ELBO: 0.01665857278567273\n",
      "\n",
      "Iteration 128\n"
     ]
    },
    {
     "name": "stderr",
     "output_type": "stream",
     "text": [
      "Updating PHI and GAMMA: 100%|██████████| 100/100 [00:01<00:00, 50.87it/s]\n",
      "Updating LAMBDA: 100%|██████████| 10/10 [00:00<00:00, 108.35it/s]\n"
     ]
    },
    {
     "name": "stdout",
     "output_type": "stream",
     "text": [
      "Current ELBO: -47669.1255036036 | Change in ELBO: 0.021429400992929004\n",
      "\n",
      "Iteration 129\n"
     ]
    },
    {
     "name": "stderr",
     "output_type": "stream",
     "text": [
      "Updating PHI and GAMMA: 100%|██████████| 100/100 [00:02<00:00, 49.43it/s]\n",
      "Updating LAMBDA: 100%|██████████| 10/10 [00:00<00:00, 101.14it/s]\n"
     ]
    },
    {
     "name": "stdout",
     "output_type": "stream",
     "text": [
      "Current ELBO: -47669.09728601998 | Change in ELBO: 0.028217583618243225\n",
      "\n",
      "Iteration 130\n"
     ]
    },
    {
     "name": "stderr",
     "output_type": "stream",
     "text": [
      "Updating PHI and GAMMA: 100%|██████████| 100/100 [00:02<00:00, 40.68it/s]\n",
      "Updating LAMBDA: 100%|██████████| 10/10 [00:00<00:00, 95.10it/s]\n"
     ]
    },
    {
     "name": "stdout",
     "output_type": "stream",
     "text": [
      "Current ELBO: -47669.05907528062 | Change in ELBO: 0.03821073936705943\n",
      "\n",
      "Iteration 131\n"
     ]
    },
    {
     "name": "stderr",
     "output_type": "stream",
     "text": [
      "Updating PHI and GAMMA: 100%|██████████| 100/100 [00:02<00:00, 49.79it/s]\n",
      "Updating LAMBDA: 100%|██████████| 10/10 [00:00<00:00, 106.15it/s]\n"
     ]
    },
    {
     "name": "stdout",
     "output_type": "stream",
     "text": [
      "Current ELBO: -47669.00550287661 | Change in ELBO: 0.053572404009173624\n",
      "\n",
      "Iteration 132\n"
     ]
    },
    {
     "name": "stderr",
     "output_type": "stream",
     "text": [
      "Updating PHI and GAMMA: 100%|██████████| 100/100 [00:02<00:00, 46.28it/s]\n",
      "Updating LAMBDA: 100%|██████████| 10/10 [00:00<00:00, 93.92it/s]\n"
     ]
    },
    {
     "name": "stdout",
     "output_type": "stream",
     "text": [
      "Current ELBO: -47668.92694066821 | Change in ELBO: 0.07856220840039896\n",
      "\n",
      "Iteration 133\n"
     ]
    },
    {
     "name": "stderr",
     "output_type": "stream",
     "text": [
      "Updating PHI and GAMMA: 100%|██████████| 100/100 [00:02<00:00, 45.59it/s]\n",
      "Updating LAMBDA: 100%|██████████| 10/10 [00:00<00:00, 110.13it/s]\n"
     ]
    },
    {
     "name": "stdout",
     "output_type": "stream",
     "text": [
      "Current ELBO: -47668.80454907725 | Change in ELBO: 0.12239159095770447\n",
      "\n",
      "Iteration 134\n"
     ]
    },
    {
     "name": "stderr",
     "output_type": "stream",
     "text": [
      "Updating PHI and GAMMA: 100%|██████████| 100/100 [00:02<00:00, 43.60it/s]\n",
      "Updating LAMBDA: 100%|██████████| 10/10 [00:00<00:00, 79.78it/s]\n"
     ]
    },
    {
     "name": "stdout",
     "output_type": "stream",
     "text": [
      "Current ELBO: -47668.59793063892 | Change in ELBO: 0.2066184383293148\n",
      "\n",
      "Iteration 135\n"
     ]
    },
    {
     "name": "stderr",
     "output_type": "stream",
     "text": [
      "Updating PHI and GAMMA: 100%|██████████| 100/100 [00:02<00:00, 42.74it/s]\n",
      "Updating LAMBDA: 100%|██████████| 10/10 [00:00<00:00, 112.69it/s]\n"
     ]
    },
    {
     "name": "stdout",
     "output_type": "stream",
     "text": [
      "Current ELBO: -47668.22816014922 | Change in ELBO: 0.36977048969856696\n",
      "\n",
      "Iteration 136\n"
     ]
    },
    {
     "name": "stderr",
     "output_type": "stream",
     "text": [
      "Updating PHI and GAMMA: 100%|██████████| 100/100 [00:01<00:00, 59.61it/s]\n",
      "Updating LAMBDA: 100%|██████████| 10/10 [00:00<00:00, 93.63it/s]\n"
     ]
    },
    {
     "name": "stdout",
     "output_type": "stream",
     "text": [
      "Current ELBO: -47667.80262874515 | Change in ELBO: 0.42553140407108003\n",
      "\n",
      "Iteration 137\n"
     ]
    },
    {
     "name": "stderr",
     "output_type": "stream",
     "text": [
      "Updating PHI and GAMMA: 100%|██████████| 100/100 [00:01<00:00, 55.36it/s]\n",
      "Updating LAMBDA: 100%|██████████| 10/10 [00:00<00:00, 130.31it/s]\n"
     ]
    },
    {
     "name": "stdout",
     "output_type": "stream",
     "text": [
      "Current ELBO: -47667.75069016085 | Change in ELBO: 0.0519385842999327\n",
      "\n",
      "Iteration 138\n"
     ]
    },
    {
     "name": "stderr",
     "output_type": "stream",
     "text": [
      "Updating PHI and GAMMA: 100%|██████████| 100/100 [00:01<00:00, 66.80it/s]\n",
      "Updating LAMBDA: 100%|██████████| 10/10 [00:00<00:00, 135.00it/s]\n"
     ]
    },
    {
     "name": "stdout",
     "output_type": "stream",
     "text": [
      "Current ELBO: -47667.74946214923 | Change in ELBO: 0.001228011620696634\n",
      "\n",
      "Iteration 139\n"
     ]
    },
    {
     "name": "stderr",
     "output_type": "stream",
     "text": [
      "Updating PHI and GAMMA: 100%|██████████| 100/100 [00:01<00:00, 73.16it/s]\n",
      "Updating LAMBDA: 100%|██████████| 10/10 [00:00<00:00, 118.25it/s]\n"
     ]
    },
    {
     "name": "stdout",
     "output_type": "stream",
     "text": [
      "Current ELBO: -47667.74871353846 | Change in ELBO: 0.0007486107715521939\n",
      "\n"
     ]
    },
    {
     "data": {
      "text/plain": [
       "[<matplotlib.lines.Line2D at 0x2ad51ac1bd0>]"
      ]
     },
     "execution_count": 344,
     "metadata": {},
     "output_type": "execute_result"
    },
    {
     "data": {
      "image/png": "[encoded data removed]",
      "text/plain": [
       "<Figure size 640x480 with 1 Axes>"
      ]
     },
     "metadata": {},
     "output_type": "display_data"
    }
   ],
   "source": [
    "start = time.time()\n",
    "ELBOs = []\n",
    "prev_ELBO = -np.inf\n",
    "curr_ELBO = compute_ELBO(LAMBDA, GAMMA, PHI, documents, nonzero_idxs, K)\n",
    "ELBOs.append(curr_ELBO)\n",
    "print(f\"Initial ELBO: {ELBOs[0]}\\n\")\n",
    "\n",
    "max_iterations = 200\n",
    "tol = 10e-4\n",
    "LAMBDA_t = copy.deepcopy(LAMBDA)\n",
    "GAMMA_t = copy.deepcopy(GAMMA)\n",
    "PHI_t = copy.deepcopy(PHI)\n",
    "\n",
    "for t in range(max_iterations):\n",
    "    print(f\"Iteration {t+1}\")\n",
    "    for i in tqdm(range(N), desc=\"Updating PHI and GAMMA\"):\n",
    "        document = documents[i]\n",
    "        nonzero_idx = nonzero_idxs[i]\n",
    "        GAMMA_i_t = copy.deepcopy(GAMMA_t[i])\n",
    "        word_idx = 0\n",
    "        for idx in nonzero_idx:\n",
    "            log_PHI_ij = np.zeros((K,))\n",
    "            for k in range(K):\n",
    "                LAMBDA_k_t = copy.deepcopy(LAMBDA_t[k])\n",
    "                exp_propto = digamma(GAMMA_i_t[k]) - digamma(np.sum(GAMMA_i_t)) + digamma(LAMBDA_k_t[idx]) - digamma(np.sum(LAMBDA_k_t))\n",
    "                log_PHI_ij[k] = exp_propto\n",
    "            PHI_ij = np.exp(log_PHI_ij - log_sum_exp(log_PHI_ij))\n",
    "            PHI_t[i][word_idx] = PHI_ij\n",
    "            word_idx += 1\n",
    "        GAMMA_i_t = np.zeros((K,)) + ALPHA\n",
    "        for k in range(K):\n",
    "            GAMMA_i_t[k] += np.sum(document[nonzero_idx] * PHI_t[i][:, k])\n",
    "        GAMMA_t[i] = GAMMA_i_t\n",
    "\n",
    "    for k in tqdm(range(K), desc=\"Updating LAMBDA\"):\n",
    "        LAMBDA_k_t = np.zeros((V,)) + ETA\n",
    "        for i in range(N):\n",
    "            document = documents[i]\n",
    "            nonzero_idx = nonzero_idxs[i]\n",
    "            word_idx = 0\n",
    "            for idx in nonzero_idx:\n",
    "                LAMBDA_k_t[idx] += document[idx] * PHI_t[i][word_idx][k]\n",
    "                word_idx += 1\n",
    "            LAMBDA_t[k] = LAMBDA_k_t\n",
    "\n",
    "    prev_ELBO = curr_ELBO\n",
    "    curr_ELBO = compute_ELBO(LAMBDA_t, GAMMA_t, PHI_t, documents, nonzero_idxs, K)\n",
    "    ELBOs.append(curr_ELBO)\n",
    "    print(f\"Current ELBO: {curr_ELBO} | Change in ELBO: {curr_ELBO - prev_ELBO}\\n\")\n",
    "\n",
    "    if abs(curr_ELBO - prev_ELBO) < tol:\n",
    "        break\n",
    "stop = time.time()\n",
    "\n",
    "LAMBDA_final = copy.deepcopy(LAMBDA_t)\n",
    "GAMMA_final = copy.deepcopy(GAMMA_t)\n",
    "PHI_final = copy.deepcopy(PHI_t)\n",
    "\n",
    "plt.ticklabel_format(style=\"sci\", axis=\"y\", scilimits=(0, 0))\n",
    "plt.plot(np.linspace(0, stop-start, len(ELBOs)), ELBOs)"
   ]
  },
  {
   "cell_type": "code",
   "execution_count": 366,
   "metadata": {},
   "outputs": [
    {
     "data": {
      "text/plain": [
       "(array([0.10000286, 0.10000229, 0.1       , 0.10000247, 0.100003  ,\n",
       "        0.10000081, 0.10000016, 0.10000192, 0.10000794, 0.10000294]),\n",
       " 0.1)"
      ]
     },
     "execution_count": 366,
     "metadata": {},
     "output_type": "execute_result"
    }
   ],
   "source": [
    "scipy.stats.mode(GAMMA_final)[0], ALPHA"
   ]
  },
  {
   "cell_type": "code",
   "execution_count": 367,
   "metadata": {},
   "outputs": [
    {
     "data": {
      "text/plain": [
       "array([[ 0.1       ,  0.1000267 ,  0.10002263, ...,  0.100028  ,\n",
       "         0.10006777,  1.41097701],\n",
       "       [ 0.1       ,  0.10003144,  8.77373138, ...,  0.10003149,\n",
       "         0.10003141,  0.10000953],\n",
       "       [ 0.1       , 15.90248326,  0.10003523, ...,  0.10002982,\n",
       "         0.10006223,  0.10002945],\n",
       "       ...,\n",
       "       [ 0.1       ,  0.10002337,  0.10003085, ...,  0.1000044 ,\n",
       "         2.09938016,  0.10001498],\n",
       "       [ 0.1       , 11.65706117,  4.42604876, ...,  0.10002072,\n",
       "         0.10004937,  0.1001824 ],\n",
       "       [ 0.1       ,  0.10002198,  0.10003271, ...,  0.10000657,\n",
       "         0.10001766,  2.78857486]])"
      ]
     },
     "execution_count": 367,
     "metadata": {},
     "output_type": "execute_result"
    }
   ],
   "source": [
    "LAMBDA_final"
   ]
  }
 ],
 "metadata": {
  "kernelspec": {
   "display_name": "ht",
   "language": "python",
   "name": "python3"
  },
  "language_info": {
   "codemirror_mode": {
    "name": "ipython",
    "version": 3
   },
   "file_extension": ".py",
   "mimetype": "text/x-python",
   "name": "python",
   "nbconvert_exporter": "python",
   "pygments_lexer": "ipython3",
   "version": "3.13.0"
  }
 },
 "nbformat": 4,
 "nbformat_minor": 2
}
