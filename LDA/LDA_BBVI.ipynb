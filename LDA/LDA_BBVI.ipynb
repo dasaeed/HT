{
 "cells": [
  {
   "cell_type": "code",
   "execution_count": null,
   "metadata": {},
   "outputs": [],
   "source": [
    "import autograd.numpy as np\n",
    "import autograd.numpy.random as npr"
   ]
  },
  {
   "cell_type": "code",
   "execution_count": 22,
   "metadata": {},
   "outputs": [],
   "source": [
    "def simulate_LDA(K, V, N, M, ETA=0.1, ALPHA=0.5, rs_int=npr.randint(low=0, high=100)):\n",
    "    rs = npr.RandomState(rs_int)\n",
    "    BETA = rs.dirichlet(np.full(V, ETA), size=K)\n",
    "    THETA = rs.dirichlet(np.full(K, ALPHA), size=N)\n",
    "    X = []\n",
    "    for i in range(N):\n",
    "        x_i = np.zeros(M[i], dtype=int)\n",
    "        for j in range(M[i]):\n",
    "            z_ij = rs.choice(K, p=THETA[i])\n",
    "            x_ij = rs.choice(V, p=BETA[z_ij])\n",
    "            x_i[j] = x_ij\n",
    "        X.append(x_i)\n",
    "    return X\n",
    "\n",
    "def init_variational_params(X, K, V):\n",
    "    N = len(X)\n",
    "    M = np.array([len(x_i) for x_i in X])\n",
    "    LAMBDA = npr.uniform(low=0.01, high=1.0, size=(K, V))\n",
    "    GAMMA = np.ones((N, K))\n",
    "    PHI = []\n",
    "    for M_i in M:\n",
    "        PHI_i = np.ones((M_i, K))\n",
    "        PHI_i = PHI_i / K\n",
    "        PHI.append(PHI_i)\n",
    "    return (LAMBDA, GAMMA, PHI)\n",
    "\n",
    "rs = npr.RandomState(0)\n",
    "K = 10\n",
    "V = 500\n",
    "N = 50\n",
    "M = rs.poisson(75, size=N)\n",
    "X = simulate_LDA(K, V, N, M)"
   ]
  },
  {
   "cell_type": "code",
   "execution_count": null,
   "metadata": {},
   "outputs": [],
   "source": [
    "def unpack_params(params):\n",
    "    LAMBDA, GAMMA, PHI = params[0], params[1], params[2]\n",
    "    return LAMBDA, GAMMA, PHI\n",
    "\n",
    "def sample_variational_params(variational_params, num_samples=100):\n",
    "    LAMBDA, GAMMA, PHI = unpack_params(variational_params)\n",
    "    K, V = LAMBDA.shape\n",
    "    N, _ = GAMMA.shape\n",
    "    M = np.array([len(PHI_doc) for PHI_doc in PHI])"
   ]
  }
 ],
 "metadata": {
  "kernelspec": {
   "display_name": "ht",
   "language": "python",
   "name": "python3"
  },
  "language_info": {
   "codemirror_mode": {
    "name": "ipython",
    "version": 3
   },
   "file_extension": ".py",
   "mimetype": "text/x-python",
   "name": "python",
   "nbconvert_exporter": "python",
   "pygments_lexer": "ipython3",
   "version": "3.13.0"
  }
 },
 "nbformat": 4,
 "nbformat_minor": 2
}
