{
 "cells": [
  {
   "cell_type": "code",
   "execution_count": 116,
   "metadata": {},
   "outputs": [],
   "source": [
    "import autograd.numpy as np\n",
    "import autograd.numpy.random as npr\n",
    "import autograd.scipy.stats.dirichlet as dir\n",
    "from scipy.stats import multinomial as multinom"
   ]
  },
  {
   "cell_type": "code",
   "execution_count": 78,
   "metadata": {},
   "outputs": [],
   "source": [
    "def simulate_LDA(K, V, N, M, ETA=0.1, ALPHA=0.5, rs_int=npr.randint(low=0, high=100)):\n",
    "    rs = npr.RandomState(rs_int)\n",
    "    BETA = rs.dirichlet(np.full(V, ETA), size=K)\n",
    "    THETA = rs.dirichlet(np.full(K, ALPHA), size=N)\n",
    "    X = []\n",
    "    for i in range(N):\n",
    "        x_i = np.zeros(M[i], dtype=int)\n",
    "        for j in range(M[i]):\n",
    "            z_ij = rs.choice(K, p=THETA[i])\n",
    "            x_ij = rs.choice(V, p=BETA[z_ij])\n",
    "            x_i[j] = x_ij\n",
    "        X.append(x_i)\n",
    "    return X\n",
    "\n",
    "def init_variational_params(X, K, V):\n",
    "    N = len(X)\n",
    "    M = np.array([len(x_i) for x_i in X])\n",
    "    LAMBDA = npr.uniform(low=0.01, high=1.0, size=(K, V))\n",
    "    GAMMA = np.ones((N, K))\n",
    "    PHI = []\n",
    "    for M_i in M:\n",
    "        PHI_i = np.ones((M_i, K))\n",
    "        PHI_i = PHI_i / K\n",
    "        PHI.append(PHI_i)\n",
    "    return (LAMBDA, GAMMA, PHI)\n",
    "\n",
    "def unpack_params(params):\n",
    "    LAMBDA, GAMMA, PHI = params[0], params[1], params[2]\n",
    "    return LAMBDA, GAMMA, PHI\n",
    "\n",
    "def sample_variational_params(variational_params, num_samples=100):\n",
    "    LAMBDA, GAMMA, PHI = unpack_params(variational_params)\n",
    "    K, V = LAMBDA.shape\n",
    "    N = GAMMA.shape[0]\n",
    "    BETAs = []\n",
    "    THETAs = []\n",
    "    Zs = []\n",
    "\n",
    "    for _ in range(num_samples):\n",
    "        BETA = np.zeros((K, V))\n",
    "        for k in range(K):\n",
    "            BETA[k] = npr.dirichlet(LAMBDA[k])\n",
    "\n",
    "        THETA = np.zeros((N, K))\n",
    "        for i in range(N):\n",
    "            THETA[i] = npr.dirichlet(GAMMA[i])\n",
    "\n",
    "        Z = []\n",
    "        for i in range(N):\n",
    "            M_i = len(PHI[i])\n",
    "            z_i = np.zeros(M_i, dtype=int)\n",
    "            for j in range(M_i):\n",
    "                z_i[j] = npr.choice(K, p=PHI[i][j])\n",
    "            Z.append(z_i)\n",
    "        BETAs.append(BETA)\n",
    "        THETAs.append(THETA)\n",
    "        Zs.append(Z)\n",
    "    return BETAs, THETAs, Zs\n",
    "\n",
    "rs = npr.RandomState(0)\n",
    "K = 10\n",
    "V = 500\n",
    "N = 50\n",
    "M = rs.poisson(75, size=N)\n",
    "X = simulate_LDA(K, V, N, M)\n",
    "init_var_params = init_variational_params(X, K, V)"
   ]
  },
  {
   "cell_type": "code",
   "execution_count": null,
   "metadata": {},
   "outputs": [
    {
     "data": {
      "text/plain": [
       "np.int64(7)"
      ]
     },
     "execution_count": 128,
     "metadata": {},
     "output_type": "execute_result"
    }
   ],
   "source": []
  },
  {
   "cell_type": "code",
   "execution_count": null,
   "metadata": {},
   "outputs": [
    {
     "ename": "TypeError",
     "evalue": "list indices must be integers or slices, not tuple",
     "output_type": "error",
     "traceback": [
      "\u001b[1;31m---------------------------------------------------------------------------\u001b[0m",
      "\u001b[1;31mTypeError\u001b[0m                                 Traceback (most recent call last)",
      "Cell \u001b[1;32mIn[119], line 8\u001b[0m\n\u001b[0;32m      5\u001b[0m Z \u001b[38;5;241m=\u001b[39m Z[\u001b[38;5;241m0\u001b[39m]\n\u001b[0;32m      7\u001b[0m np\u001b[38;5;241m.\u001b[39msum([\u001b[38;5;28mdir\u001b[39m\u001b[38;5;241m.\u001b[39mlogpdf(BETA[k], LAMBDA[k]) \u001b[38;5;28;01mfor\u001b[39;00m k \u001b[38;5;129;01min\u001b[39;00m \u001b[38;5;28mrange\u001b[39m(K)]) \u001b[38;5;241m+\u001b[39m np\u001b[38;5;241m.\u001b[39msum([\u001b[38;5;28mdir\u001b[39m\u001b[38;5;241m.\u001b[39mlogpdf(THETA[i], GAMMA[i]) \u001b[38;5;28;01mfor\u001b[39;00m i \u001b[38;5;129;01min\u001b[39;00m \u001b[38;5;28mrange\u001b[39m(N)])\n\u001b[1;32m----> 8\u001b[0m multinom\u001b[38;5;241m.\u001b[39mlogpmf(\u001b[43mZ\u001b[49m\u001b[43m[\u001b[49m\u001b[38;5;241;43m0\u001b[39;49m\u001b[43m,\u001b[49m\u001b[43m \u001b[49m\u001b[38;5;241;43m0\u001b[39;49m\u001b[43m]\u001b[49m, np\u001b[38;5;241m.\u001b[39msum(Z[\u001b[38;5;241m0\u001b[39m]), p\u001b[38;5;241m=\u001b[39mPHI[\u001b[38;5;241m0\u001b[39m, \u001b[38;5;241m0\u001b[39m])\n",
      "\u001b[1;31mTypeError\u001b[0m: list indices must be integers or slices, not tuple"
     ]
    }
   ],
   "source": [
    "LAMBDA, GAMMA, PHI = unpack_params(init_var_params)\n",
    "BETA, THETA, Z = sample_variational_params(init_var_params, 1)\n",
    "BETA = BETA[0]\n",
    "THETA = THETA[0]\n",
    "Z = Z[0]\n",
    "\n",
    "np.sum([dir.logpdf(BETA[k], LAMBDA[k]) for k in range(K)]) + np.sum([dir.logpdf(THETA[i], GAMMA[i]) for i in range(N)])\n",
    "multinom.logpmf(Z[0], np.sum(Z[0]), p=PHI[0, 0])"
   ]
  }
 ],
 "metadata": {
  "kernelspec": {
   "display_name": "ht",
   "language": "python",
   "name": "python3"
  },
  "language_info": {
   "codemirror_mode": {
    "name": "ipython",
    "version": 3
   },
   "file_extension": ".py",
   "mimetype": "text/x-python",
   "name": "python",
   "nbconvert_exporter": "python",
   "pygments_lexer": "ipython3",
   "version": "3.13.0"
  }
 },
 "nbformat": 4,
 "nbformat_minor": 2
}
